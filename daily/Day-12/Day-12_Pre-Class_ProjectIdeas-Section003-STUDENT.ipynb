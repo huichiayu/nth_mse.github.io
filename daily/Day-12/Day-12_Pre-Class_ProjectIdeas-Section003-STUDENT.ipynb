{
 "cells": [
  {
   "cell_type": "markdown",
   "metadata": {},
   "source": [
    "# Section 003  Pre-Class Assignment: Reviewing Project Ideas\n",
    "# Day 12 \n",
    "# CMSE 202"
   ]
  },
  {
   "cell_type": "markdown",
   "metadata": {},
   "source": [
    "## <p style=\"text-align: right;\"> &#9989; Put your name here</p>"
   ]
  },
  {
   "cell_type": "markdown",
   "metadata": {},
   "source": [
    "In this pre-class assignment we are going to explore your project ideas for class.  The ideas are pulled from the project brainstorming you did previously (great work generating an exciting set of ideas). The instructional staff did their best to interpret the concept of your ideas based on what you submitted to the previous pre-class survey. In some cases we had to try to put vagues thoughts into concrete categories and we may have misconstrued the original intent -- sorry if your idea was mangled!\n",
    "\n",
    "Please think about what would make a good and interesting project and complete the following:\n",
    "\n",
    "**&#9989; Do This:** \n",
    "\n",
    "1. Read though the following project ideas and put notes in the `comments` slot provided on any that you find interesting.\n",
    "2. Having read through them all, write down your top 3 in the list below using names like \"Finance & Economics 1\" or \"Sports 2\" (the category and the number). Consider the following factors as you are investigating for your top 3.\n",
    "    * Is the project something you are interested in?\n",
    "    * How hard will the project be for a group to complete? \n",
    "    * Can you find any python libraries or datasets that would help with the project?\n",
    "    * Is this just a toy project or is the project scientifically motivated. I.e. what broad scientific questions would this project be able to answer?\n",
    "3. Having selected three, add some details in your `Top Three List` with information like:\n",
    "    * Any links to new information or datasets.\n",
    "    * Scientific questions that this project would be able to explore.\n",
    "    * Computational methods you might use for the project.\n",
    "    * Additional thoughts or ideas you want to tell the instructors. \n",
    "\n",
    "**Note:** You are welcome to also combine two or more project ideas into one bigger project. Or you can come up with a new project idea.  Reference the projects based on their project numbers. Do not change the numbers. "
   ]
  },
  {
   "cell_type": "markdown",
   "metadata": {},
   "source": [
    "## Top Three List (with some details)\n",
    "\n",
    "1. \n",
    "\n",
    "2. \n",
    "\n",
    "3. "
   ]
  },
  {
   "cell_type": "markdown",
   "metadata": {},
   "source": [
    "---\n",
    "\n",
    "# Project Ideas From Brainstorming:"
   ]
  },
  {
   "attachments": {},
   "cell_type": "markdown",
   "metadata": {},
   "source": [
    "##  Health\n",
    "1. Relationship between music and Concentration\n",
    "\n",
    "**comments**:\n",
    "\n",
    "2. Effect of economics on mental health\n",
    "\n",
    "**comments**:\n",
    "3. Effect of caffeine on cognitive performance   \n",
    "\n",
    "**comments**:\n",
    "\n",
    "4. Simulate/analyze infectious disease transmission/spread pattern\n",
    "\n",
    "**comments**:\n",
    "\n",
    "5. Medical imaging analysis\n",
    "\n",
    "**comments**:\n"
   ]
  },
  {
   "cell_type": "markdown",
   "metadata": {},
   "source": [
    "## Social\n",
    "\n",
    "1. Recommendation system based on user preferences (movies, music, songs, etc.)\n",
    "\n",
    "**comments**:\n",
    "\n",
    "2. Correspondence of astrology to personality\n",
    "\n",
    "**comments**:\n",
    "\n",
    "3. Relationship (effect) between abortion laws and women's economic mobility\n",
    "\n",
    "**comments**:\n",
    "\n",
    "4. Predicting/simulating the spread of internet memes\n",
    "\n",
    "**comments**:\n"
   ]
  },
  {
   "attachments": {},
   "cell_type": "markdown",
   "metadata": {},
   "source": [
    "## Finance\n",
    "\n",
    "1. Modeling supply chain disruptions in retail (ABM or graph)\n",
    "\n",
    "**comments**:\n",
    "\n",
    "2. Optimize delivery route planning for a businesses (graph or ABM)\n",
    "\n",
    "**comments**:\n",
    "\n",
    "3. Stock (something similar) price prediction (time series forecasting)\n",
    "\n",
    "**comments**:\n",
    "\n",
    "4. What factors affect user (Uber, airlines, etc.) satisfaction\n",
    "\n",
    "**comments**:\n",
    "\n",
    "5. Optimization (stokes portfolio or something else of financial stuffs)\n",
    "   \n",
    "**comments**:\n",
    "\n",
    "6. Future rent predictor taking into account current minimum wages and economic based information\n",
    "\n",
    "**comments**:"
   ]
  },
  {
   "cell_type": "markdown",
   "metadata": {},
   "source": [
    "## Tech/Science\n",
    "\n",
    "1.\tImage classification of plant diseases (wildlife species identification, or something else)\n",
    "\n",
    "**comments**:\n",
    "\n",
    "2.\tModeling galaxy density, pressure, temperature profiles\n",
    "\n",
    "**comments**:\n",
    "  \n",
    "3.\tA machine learning algorithm that can accurately predict equilibria points of chemical reactions\n",
    "\n",
    "**comments**:\n",
    "\n",
    "4.\tAgent-based model of cat behavior in a shared living space\n",
    "  \n",
    "**comments**:\n",
    "  \n",
    "5.\tModeling the electric fields of storm clouds\n",
    "\n",
    "**comments**:\n",
    "\n"
   ]
  },
  {
   "attachments": {},
   "cell_type": "markdown",
   "metadata": {},
   "source": [
    "## Sport\n",
    "\n",
    "1.\tPredicting first pick in NBA/NFL (or other games) draft\n",
    "  \n",
    "**comments**:\n",
    "  \n",
    "2.\tWhat factors make a college basketball or football team win\n",
    "\n",
    "**comments**:\n",
    "\n",
    "3.\tCan AI predict FIFA World Cup (NBA, NFL, etc.) winners?\n",
    "\n",
    "**comments**:\n",
    "\n",
    "4.\tWhich poker betting strategy leads to the most wins\n",
    "  **comments**:\n",
    "\n",
    "5.\tBest team valorant lineups for each map\n",
    "\n",
    "**comments**:\n",
    "\n",
    "6.\tWhat type and speed of ball a MLB pitcher should throw against a given batter.\n",
    "\n",
    "**comments**:\n",
    "\n"
   ]
  },
  {
   "cell_type": "markdown",
   "metadata": {},
   "source": [
    "------\n",
    "\n",
    "# New project ideas\n",
    "\n",
    "If you've come up with new project ideas since our brainstorming session, feel free to add them here. Make sure to include the same sort of information you put together for your \"top 3\" models from above. Make a note in assignment wrap-up survey in the \"Follow-up Questions\" text box if any of your new ideas happen to be your new favorite idea."
   ]
  },
  {
   "cell_type": "markdown",
   "metadata": {},
   "source": [
    "## < New Idea >\n",
    "\n",
    "< New idea description >\n",
    "\n",
    "**Comments:**\n"
   ]
  },
  {
   "cell_type": "markdown",
   "metadata": {},
   "source": [
    "---\n",
    "## Follow-up Questions\n",
    "\n",
    "Copy and paste the following questions into the appropriate box in the assignment survey include below and answer them there. (Note: You'll have to fill out the section number and go to the \"NEXT\" section of the survey to paste in these questions.)\n",
    "\n",
    "1. What are your current top three project ideas that you're most interested in? (You should be able to copy this from the list your created at the beginning of this notebook)."
   ]
  },
  {
   "cell_type": "markdown",
   "metadata": {},
   "source": [
    "----\n",
    "# Assignment wrap-up\n",
    "\n",
    "Please fill out the form that appears when you run the code below.  **You must completely fill this out in order to receive credit for the assignment!**"
   ]
  },
  {
   "cell_type": "code",
   "execution_count": null,
   "metadata": {},
   "outputs": [],
   "source": [
    "from IPython.display import HTML\n",
    "HTML(\n",
    "\"\"\"\n",
    "<iframe \n",
    "\tsrc=\"https://cmse.msu.edu/cmse202-pc-survey\" \n",
    "\twidth=\"800px\" \n",
    "\theight=\"600px\" \n",
    "\tframeborder=\"0\" \n",
    "\tmarginheight=\"0\" \n",
    "\tmarginwidth=\"0\">\n",
    "\tLoading...\n",
    "</iframe>\n",
    "\"\"\"\n",
    ")"
   ]
  },
  {
   "cell_type": "markdown",
   "metadata": {},
   "source": [
    "---------\n",
    "### Congratulations, you're done with your pre-class assignment!\n",
    "\n",
    "Now, you just need to submit this assignment by uploading it to the course <a href=\"https://d2l.msu.edu/\">Desire2Learn</a> web page for today's submission folder (Don't forget to add your name in the first cell)."
   ]
  },
  {
   "cell_type": "markdown",
   "metadata": {},
   "source": [
    "&#169; Copyright 2025,  Department of Computational Mathematics, Science and Engineering at Michigan State University"
   ]
  }
 ],
 "metadata": {
  "kernelspec": {
   "display_name": "Python [conda env:base] *",
   "language": "python",
   "name": "conda-base-py"
  },
  "language_info": {
   "codemirror_mode": {
    "name": "ipython",
    "version": 3
   },
   "file_extension": ".py",
   "mimetype": "text/x-python",
   "name": "python",
   "nbconvert_exporter": "python",
   "pygments_lexer": "ipython3",
   "version": "3.12.2"
  },
  "widgets": {
   "application/vnd.jupyter.widget-state+json": {
    "state": {},
    "version_major": 2,
    "version_minor": 0
   }
  }
 },
 "nbformat": 4,
 "nbformat_minor": 4
}
