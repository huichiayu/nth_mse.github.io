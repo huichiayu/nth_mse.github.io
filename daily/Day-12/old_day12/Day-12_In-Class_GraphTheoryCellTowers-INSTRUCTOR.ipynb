{
 "cells": [
  {
   "cell_type": "markdown",
   "metadata": {},
   "source": [
    "###ANSWER\n",
    "(for making sure this gets removed)\n",
    "\n",
    "### INSTRUCTOR CONTENT -- REMOVE THIS IN STUDENT VERSION\n",
    "#### The goals/notes for this class are:\n",
    "\n",
    "* The original goal for this assignment was for the students to spend some time grappling with the challenges of building a KNN algorithm from scratch to follow off of the idea presented in the pre-class about trying to ensure that cell phone towers to not end up with too much overlapping frequency.\n",
    "* The KNN algorithm ends up being quite challenging for some students, which can lead to this being a frustrating day. It might be worth trying to guide this assignment a little bit more by suggesting that they create distance matrix using SciPy and then have them figure out how to use their distance matrix to find the KNN neighbors, giving them this piece still makes them figure out the \"tricky\" part of the algorithm, but might avoid situations where students head down a path to nowhere. If students can get the KNN stuff working more quickly. That should give them more time playing with the visualization part of the assignment, which should lead to a more satisfying result.\n",
    "\n",
    "#### In-class meta-messaging:\n",
    "\n",
    "* Use the beginning of class to discuss issues that came up in the pre-class survey. For questions about how to solve the nearest-neighbor question, you can point out that one possible solution is include in the notebook and walk the class through that solution\n",
    "* Explain to students that the KNN algorithm might take them a bit of time to figure out.\n",
    "* Explain that while we're thinking about KNN as being a tool for identifying neighbors based on physical separation, this could be applied to any sort of feature space, which is worth thinking about from a machine learning context.\n",
    "* If they run out of time, there might be an opportunity to revisit this in the next class period."
   ]
  },
  {
   "cell_type": "markdown",
   "metadata": {},
   "source": [
    "# In-class Assignment: Graph Theory and Cell Towers\n",
    "# Day 12\n",
    "# CMSE 202\n",
    "\n",
    "In this assignment you will work with your group to develop a program to use a color graphing algorithm to select frequencies for cell towers around MSU.  There are four major parts to this assignment.  Try to make sure you get through all of it, but don't stress too much if you don't finish.\n",
    "\n",
    "### Agenda for today's class:\n",
    "\n",
    "1. [Part 1: Download and import the data](#p1)\n",
    "2. [Part 2: K-nearest neighbor graph](#p2)\n",
    "3. [Part 3: Greedy graph coloring](#p3)\n",
    "4. [Part 4: Plotting towers and their colors on a map](#p4)"
   ]
  },
  {
   "cell_type": "markdown",
   "metadata": {},
   "source": [
    "### <p style=\"text-align: right;\"> &#9989; **Put your name here** </p>\n",
    "#### <p style=\"text-align: right;\"> &#9989; Put your group member names here</p>"
   ]
  },
  {
   "cell_type": "markdown",
   "metadata": {},
   "source": [
    "---\n",
    "# Problem Statement\n",
    "\n",
    "**As was presented in the pre-class assignment**, the signals from different cellphone towers that are close together can interfere.  \n",
    "\n",
    "<img src=\"http://2.bp.blogspot.com/-X7XJfnPb6xU/TjZfTmAd9CI/AAAAAAAAAF0/3eGarXigOQE/s1600/dido1.jpg\" width=\"500px\"><p style=\"text-align: right;\">From: http://www.onlivespot.com/2011/08/dido-wireless-technology-explained.html</p>\n",
    "\n",
    "In order to avoid this overlap cell phone companies use different frequency ranges in the Electromagnetic spectrum.  Two towers that are close together but have differences in frequencies (shown as colors, red/green/black in the following figure) do not cause nearly as much interference. \n",
    "\n",
    "<img src=\"http://2.bp.blogspot.com/-M4olRy6O-v4/TjZghvwq3KI/AAAAAAAAAF4/GtOd6Db-su4/s1600/dido2.jpg\" width = \"500px\"><p style=\"text-align: right;\">From:  http://www.onlivespot.com/2011/08/dido-wireless-technology-explained.html</p>\n",
    "\n",
    "However, cellphone towers are never distributed in such an even pattern.   Consider the following map which shows the location of cell towers around Michigan State.\n",
    "\n",
    "<img src='https://i.ibb.co/jv2vLBr/MSU-Towers.png' width = \"500px\">\n",
    "<p style=\"text-align: right;\">From: http://www.antennasearch.com/</p>\n",
    "\n",
    "Another problem is that cellphone companies have to pay for each frequency range they use.  So they would like minimize the number of frequencies that they need to purchase while also minimizing the interference between the cell towers. \n",
    "\n",
    "In this assignment you are going to work as a group to solve this problem using graph coloring."
   ]
  },
  {
   "cell_type": "markdown",
   "metadata": {},
   "source": [
    "---\n",
    "<a id=\"p1\"></a>\n",
    "## Part 1: Download and import the data\n",
    "\n",
    "We will be using antenna data from the following website:\n",
    "\n",
    "http://www.antennasearch.com/\n",
    "\n",
    "**&#9989;  Do This:** We previously downloaded a CSV file from this website for all of the **towers** in a 3 Mile radius from the MSU engineering building (428 S Shaw Lane, East Lansing, MI 48824). **You can download this file from here:**\n",
    "\n",
    "`https://raw.githubusercontent.com/msu-cmse-courses/cmse202-F22-data/main/data/TowersYYH730463QHM18572.csv`\n",
    "\n",
    "Make sure that the downloaded file is in the same directory as your in-class notebook.\n",
    "\n",
    "**Optional**: Feel free to try running the same search and take a look at just the **towers**. When you start to visualize the data in the file we've shared you can see if any new towers have been added since the data was last pulled.\n",
    "\n",
    "Finall, **write a function** to load the file into Python and generate a list of latitude and longitude for the towers."
   ]
  },
  {
   "cell_type": "code",
   "execution_count": null,
   "metadata": {},
   "outputs": [],
   "source": [
    "# Put your function here!\n"
   ]
  },
  {
   "cell_type": "code",
   "execution_count": null,
   "metadata": {},
   "outputs": [],
   "source": [
    "### ANSWER ###\n",
    "%matplotlib inline\n",
    "import matplotlib.pyplot as plt\n",
    "import numpy as np\n",
    "import csv\n",
    "\n",
    "csvfile = 'TowersYYH730463QHM18572.csv' # Note that you need a file for this to work\n",
    "tower_data = csv.reader(open(csvfile, 'r'), delimiter=',', quotechar='\"')\n",
    "rows=[]\n",
    "for row in tower_data:\n",
    "    rows.append(row)\n",
    "\n",
    "latitude = 3\n",
    "longitude = 4\n",
    "\n",
    "points = np.zeros([len(rows)-1,2])\n",
    "\n",
    "for i in range(1,len(rows)):\n",
    "    points[i-1, 1] = float(rows[i][latitude])\n",
    "    points[i-1, 0] = float(rows[i][longitude])\n",
    "### ANSWER ###"
   ]
  },
  {
   "cell_type": "markdown",
   "metadata": {},
   "source": [
    "**&#9989;  Do This:** Generate a plot similar to the following showing the towers on the x-y plane.\n",
    "\n",
    "<img src=\"https://i.ibb.co/bd2g2Hf/tower-graph.png\">\n"
   ]
  },
  {
   "cell_type": "code",
   "execution_count": null,
   "metadata": {},
   "outputs": [],
   "source": [
    "# Put your plotting code here.\n"
   ]
  },
  {
   "cell_type": "code",
   "execution_count": null,
   "metadata": {},
   "outputs": [],
   "source": [
    "### ANSWER ###\n",
    "plt.scatter(points[:,0], points[:,1])\n",
    "plt.axis('equal')\n",
    "#plt.scatter(points[25,0], points[25,1], color='green')\n",
    "plt.title('example tower locations')\n",
    "plt.xlabel('longitude')\n",
    "plt.ylabel('latitude')\n",
    "plt.axis('equal')\n",
    "plt.savefig('./images/tower_graph.png')\n",
    "### ANSWER ###"
   ]
  },
  {
   "cell_type": "markdown",
   "metadata": {},
   "source": [
    "&#9989; **Question 1**: By default `matplotlib.pyplot.scatter` will scale the x-axis and y-axes to best fit the points. However, sometimes (as is the case here) we want the scaling of both axes to be equal.  What command can you use for the above plot to ensure that the distances are the same in the x-direction as the y-direction?"
   ]
  },
  {
   "cell_type": "markdown",
   "metadata": {},
   "source": [
    "<font size=+3>&#9998;</font> Do This - Erase the contents of this cell and replace it with your answer to the above question!  (double-click on this text to edit this cell, and hit shift+enter to save the text)"
   ]
  },
  {
   "cell_type": "markdown",
   "metadata": {},
   "source": [
    "---\n",
    "<a id=\"p2\"></a>\n",
    "## Part 2: Generating a K-Nearest Neighbor Graph\n",
    "\n",
    "In the pre-class assignment, you were asked to try and write and algorithm that found the nearest neighbor for every point in a collection of points. There's not necessarily one right way to solve this problem, so your solution might have looked quite a bit different this (or perhaps you didn't quite get things working), but here's one possible solution:"
   ]
  },
  {
   "cell_type": "code",
   "execution_count": null,
   "metadata": {},
   "outputs": [],
   "source": [
    "# Possible solution for the nearest-neighbor algorithm\n",
    "import math\n",
    "def distance(p1,p2):\n",
    "    '''Returns the distance betwen two numpy points'''\n",
    "    return math.sqrt((p1[0] - p2[0])**2 + (p1[1] - p2[1])**2)\n",
    "    \n",
    "def nn_graph(points):\n",
    "    '''Generates an adjacency matrix based on the Nearest neighbor graph algorithm.'''\n",
    "    G = dict()\n",
    "    for p in range(0,len(points)):\n",
    "        min_distance = np.inf;\n",
    "        min_point = -1\n",
    "        for n in range(0,len(points)):\n",
    "            if p != n:\n",
    "                d = distance(points[p], points[n])\n",
    "                if d < min_distance:\n",
    "                    min_distance = d\n",
    "                    min_point = n\n",
    "        if min_point == -1:\n",
    "            print(\"ERROR-point not found\")\n",
    "        G[p] = min_point\n",
    "    return G"
   ]
  },
  {
   "cell_type": "markdown",
   "metadata": {},
   "source": [
    "**But what if we wanted to find the nearest *2* neighbors? The nearest 3? More?**\n",
    "\n",
    "**&#9989;  Do This:** Next **write a function that generates a graph using the k-nearest neighbor graph algorithm**.  More information about the nearest neighbor and k-nearnest neighbor algorithm can be found here:\n",
    "\n",
    "https://en.wikipedia.org/wiki/Nearest_neighbor_graph\n",
    "\n",
    "The KNN graph is very similar to the nearest neighbor graph you did in the pre-class assignment. However, now instead of only finding the closest point to each point you find the k-closest points.\n",
    "\n",
    "**Important note**: While the nearest-neighbor and KNN problems are similar, the same approach may not work well for both solutions! You should think this through and talk about it with your group. **How will you tackle this problem?**"
   ]
  },
  {
   "cell_type": "code",
   "execution_count": null,
   "metadata": {},
   "outputs": [],
   "source": [
    "# Put your k-nn function here\n"
   ]
  },
  {
   "cell_type": "code",
   "execution_count": null,
   "metadata": {},
   "outputs": [],
   "source": [
    "### POSSIBLE ANSWER ###\n",
    "### I think this solution is much cleaner than the one below (which might actually have a bug) and leverages a distance matrix in a useful way.\n",
    "### Nudging students toward this approach may move then through the problem a bit more quick.\n",
    "\n",
    "# Put your k-nn function here\n",
    "from scipy.spatial import distance_matrix\n",
    "\n",
    "def KNN(k,points):\n",
    "    G = {}\n",
    "    matrix = distance_matrix(points,points)\n",
    "    for i in range(0,len(matrix)):\n",
    "        k_values = []\n",
    "        distances = matrix[i]\n",
    "        indexmin = np.argsort(distances)\n",
    "        k_values = indexmin[1:k+1]\n",
    "        G[i] = k_values\n",
    "    return G\n",
    "\n",
    "G = KNN(3,points)\n",
    "print(G)\n",
    "\n",
    "import networkx as nx\n",
    "G = nx.Graph(G)\n",
    "nx.draw_networkx(G)"
   ]
  },
  {
   "cell_type": "code",
   "execution_count": null,
   "metadata": {},
   "outputs": [],
   "source": [
    "### ALTERNATE ANSWER ###\n",
    "\n",
    "def KNN(k, points):\n",
    "    G = {}\n",
    "    for i in range(len(points)):\n",
    "        temp_dict = []\n",
    "        for j in range(len(points)):\n",
    "            if i != j:\n",
    "                distance = ((points[i][0]-points[j][0])**2 + (points[i][1]-points[j][1])**2)**.5\n",
    "                temp_dict.append([distance,j])\n",
    "        sorted_list = sorted(temp_dict)\n",
    "        temp_list = []\n",
    "        for val in sorted_list[:k]:\n",
    "            temp_list.append(val[1])\n",
    "        G[i] = temp_list\n",
    "    return G\n",
    "G = KNN(3, points)\n",
    "print(G)\n",
    "import networkx as nx\n",
    "G = nx.Graph(G)\n",
    "nx.draw_networkx(G)"
   ]
  },
  {
   "cell_type": "code",
   "execution_count": null,
   "metadata": {},
   "outputs": [],
   "source": [
    "### ANOTHER POSSIBLE ANSWER -- CAUTION, I THINK THERE MAY BE A BUG IN THIS CODE ###\n",
    "# This solution is maintained in case students try to go this route.\n",
    "\n",
    "#Knn graph#\n",
    "\n",
    "import networkx as nx\n",
    "import math\n",
    "\n",
    "G=nx.Graph()\n",
    "\n",
    "def distance(p1,p2):\n",
    "    return math.sqrt((p1[0] - p2[0])**2 + (p1[1] - p2[1])**2)\n",
    "\n",
    "k = 3\n",
    "for p in range(0,len(points)):\n",
    "    G.add_node(p)\n",
    "    min_distance = np.inf\n",
    "    min_point = -1\n",
    "    distances = []\n",
    "    indexs = range(0,len(points))\n",
    "    for n in indexs:\n",
    "        distances.append(distance(points[p], points[n]))\n",
    "\n",
    "    distances, indexs = zip(*sorted(zip(distances, indexs)))\n",
    "    for i in range(1,k+1):\n",
    "        G.add_edge(p, indexs[i])\n",
    "### ANSWER ###\n",
    "nx.draw_networkx(G)"
   ]
  },
  {
   "cell_type": "markdown",
   "metadata": {},
   "source": [
    "**&#9989; Do This:**  It is important to test code.  How do you know if your K-NN algorithm is working? Trying writing a function that tests if your code is right. Try changing the inputs and the values for ```k``` and make sure it behaves correctly. One important test would be ensuring it works when *k=1* as this should reproduce the nearest neighbor graph."
   ]
  },
  {
   "cell_type": "code",
   "execution_count": null,
   "metadata": {},
   "outputs": [],
   "source": [
    "# Put some testing code here\n"
   ]
  },
  {
   "cell_type": "markdown",
   "metadata": {},
   "source": [
    "**&#9989; Do This:** Using the tower locations from Part 1, generate a figure similar to the following:\n",
    "\n",
    "<img src=\"https://i.ibb.co/1dd1rz9/knn-graph.png\">  \n",
    "\n",
    "While the above graph displays the network, clearly not a lot of attention was given to the aesthetics!"
   ]
  },
  {
   "cell_type": "code",
   "execution_count": null,
   "metadata": {},
   "outputs": [],
   "source": [
    "# Put the code that makes your cell tower plot here\n"
   ]
  },
  {
   "cell_type": "code",
   "execution_count": null,
   "metadata": {},
   "outputs": [],
   "source": [
    "### ANSWER ###\n",
    "#plt.triplot(points[:,0], points[:,1], tri.simplices.copy());\n",
    "plt.plot(points[:,0], points[:,1], 'o')\n",
    "for edge in G.edges():\n",
    "    x = [points[edge[0],0], points[edge[1],0]]\n",
    "    y = [points[edge[0],1], points[edge[1],1]]\n",
    "    plt.plot(x,y)\n",
    "plt.axis('equal')\n",
    "plt.title('example k-nearest neighbor (k=3) graph on tower locations')\n",
    "plt.xlabel('longitude')\n",
    "plt.ylabel('latitude')\n",
    "plt.axis('equal')\n",
    "plt.savefig('./images/knn_graph.png')\n",
    "### ANSWER ###"
   ]
  },
  {
   "cell_type": "markdown",
   "metadata": {},
   "source": [
    "---\n",
    "<a id=\"p3\"></a>\n",
    "## Part 3: Greedy Graph Coloring\n",
    "\n",
    "Next we will run a greedy graph coloring algorithm on your K-NN graph with k = 3 and plot the towers in the x-y plane colored to match the frequency selected. For example:\n",
    "\n",
    "<img src=\"https://i.ibb.co/mFwd72V/knn-color-graph.png\">"
   ]
  },
  {
   "cell_type": "markdown",
   "metadata": {},
   "source": [
    "**&#9989; Do This:** Using networkx, apply the \"greedy\" graph coloring algorithm to the K-NN graph (K=3) developed in part 2 of the tower data downloaded in part 1.  "
   ]
  },
  {
   "cell_type": "code",
   "execution_count": null,
   "metadata": {},
   "outputs": [],
   "source": [
    "# Plot your colored cell tower graph here.\n"
   ]
  },
  {
   "cell_type": "code",
   "execution_count": null,
   "metadata": {},
   "outputs": [],
   "source": [
    "### ANSWER ###\n",
    "\n",
    "# Either one of these lines work\n",
    "d = nx.coloring.greedy_color(G, strategy=nx.coloring.strategy_largest_first)\n",
    "d = nx.algorithms.coloring.greedy_color(G,strategy=\"largest_first\")\n",
    "print(d)\n",
    "\n",
    "# Define a position dict for points\n",
    "points_d = {}\n",
    "for i,p in enumerate(points):\n",
    "    points_d[i] = p\n",
    "\n",
    "# Sort the keys for defining the color array\n",
    "sorted_d_keys = sorted(d.keys())\n",
    "\n",
    "# Loop through sorted keys and assign colors\n",
    "d_colors = []\n",
    "for k in sorted_d_keys:\n",
    "    d_colors.append(d[k])\n",
    "print(d_colors)\n",
    "\n",
    "nx.draw_networkx_nodes(G,pos=points_d, node_color=d_colors,\n",
    "                 node_size=30)\n",
    "plt.axis('equal')\n",
    "plt.title('example k-nearest neighbor (k=3) graph on tower locations')\n",
    "plt.xlabel('longitude')\n",
    "plt.ylabel('latitude')\n",
    "plt.savefig('./images/knn_color_graph.png')"
   ]
  },
  {
   "cell_type": "markdown",
   "metadata": {},
   "source": [
    "---\n",
    "<a id=\"p4\"></a>\n",
    "## Part 4: Plot tower colors on a map\n",
    "Finally plot the towers on a map and set the marker colors to your individual frequency colors. Something like the following:\n",
    "\n",
    "<img src=\"https://i.ibb.co/Rvx2rJn/Screen-Shot-2021-02-22-at-10-01-20-PM.png\" width=\"800px\">\n",
    "\n",
    "**Note**: In order to overlay the tower locations as points on map, you'll like need to find a python package that can help you do this. We explored some such options in a previous class period!\n",
    "\n",
    "**&#9989; Do This:** First, write some test code to generate a map with colored points using whatever package you chose to use."
   ]
  },
  {
   "cell_type": "code",
   "execution_count": null,
   "metadata": {},
   "outputs": [],
   "source": [
    "#Put your test code here\n"
   ]
  },
  {
   "cell_type": "markdown",
   "metadata": {},
   "source": [
    "**&#9989; Do This:** Finally, put it all together.  Generate a map with markers colored based on the frequencies selected in the graph coloring algorithm in part 3.  Use the K-NN graph with ```k=3``` generated from part 2 of the tower data downloaded from part 1. "
   ]
  },
  {
   "cell_type": "code",
   "execution_count": null,
   "metadata": {},
   "outputs": [],
   "source": [
    "# Put your map code here\n"
   ]
  },
  {
   "cell_type": "code",
   "execution_count": null,
   "metadata": {},
   "outputs": [],
   "source": [
    "### ANSWER ###\n",
    "import folium\n",
    "\n",
    "val_map = {0: 'green',\n",
    "           1: 'red',\n",
    "           2: 'blue',\n",
    "           3: 'purple'}\n",
    "\n",
    "map_msu = folium.Map(location=[42.7370, -84.4839])\n",
    "for i in range(0,len(points)):\n",
    "    folium.Marker([points[i,1],points[i,0]], icon=folium.Icon(color=val_map[d[i]])).add_to(map_msu)\n",
    "map_msu"
   ]
  },
  {
   "cell_type": "markdown",
   "metadata": {},
   "source": [
    "----"
   ]
  },
  {
   "cell_type": "markdown",
   "metadata": {},
   "source": [
    "-----\n",
    "### Congratulations, we're done!\n",
    "\n",
    "Now, you just need to submit this assignment by uploading it to the course <a href=\"https://d2l.msu.edu/\">Desire2Learn</a> web page for today's submission folder (Don't forget to add your name in the first cell)."
   ]
  },
  {
   "cell_type": "markdown",
   "metadata": {},
   "source": [
    "&#169; Copyright 2021,  Department of Computational Mathematics, Science and Engineering at Michigan State University"
   ]
  }
 ],
 "metadata": {
  "kernelspec": {
   "display_name": "Python 3 (ipykernel)",
   "language": "python",
   "name": "python3"
  },
  "language_info": {
   "codemirror_mode": {
    "name": "ipython",
    "version": 3
   },
   "file_extension": ".py",
   "mimetype": "text/x-python",
   "name": "python",
   "nbconvert_exporter": "python",
   "pygments_lexer": "ipython3",
   "version": "3.10.6"
  },
  "widgets": {
   "application/vnd.jupyter.widget-state+json": {
    "state": {},
    "version_major": 2,
    "version_minor": 0
   }
  }
 },
 "nbformat": 4,
 "nbformat_minor": 4
}
