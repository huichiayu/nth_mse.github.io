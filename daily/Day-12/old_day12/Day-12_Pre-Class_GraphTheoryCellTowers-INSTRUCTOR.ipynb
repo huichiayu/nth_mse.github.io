{
 "cells": [
  {
   "cell_type": "markdown",
   "metadata": {},
   "source": [
    "###ANSWER\n",
    "(for making sure this gets removed)\n",
    "\n",
    "### INSTRUCTOR CONTENT -- REMOVE THIS IN STUDENT VERSION\n",
    "#### The goals this PCA are:\n",
    "\n",
    "* Collect project ideas from students! These will be used as part of a project idea exploration activity.\n",
    "* Get students to think about a possible application of Graph Theory.\n",
    "* Given a problem context, have the students see if they can perform a nearest neighbor calculation.\n",
    "* With the nearest neighbor information, see if the students can figure out how to visual the results both with and without networkx."
   ]
  },
  {
   "cell_type": "markdown",
   "metadata": {},
   "source": [
    "# Pre-class Assignment: Project Brainstorming & Graph Theory and Cell Towers\n",
    "# Day 12 \n",
    "# CMSE 202 \n",
    "\n",
    "In this pre-class assignment you will work to develop a program to generate a **graph** from a set of points on an XY-plane using the nearest neighbor graphing algorithm. This will set the stage for work that we will do in-class where you will work with your group to solve the problem of assigning cell phone tower frequencies and visualizing them as a graph. You'll being using `networkx` to create a `Graph()` object that you can manipulate to accomplish this task.\n",
    "\n",
    "**Before** you get to that part though, you're going to spend a little time brainstorming possible project ideas."
   ]
  },
  {
   "cell_type": "markdown",
   "metadata": {},
   "source": [
    "## <p style=\"text-align: right;\"> &#9989; Put your name here</p>"
   ]
  },
  {
   "cell_type": "markdown",
   "metadata": {},
   "source": [
    "## Goals for today's pre-class assignment\n",
    "\n",
    "1. **Project brainstorming**\n",
    "1. Create a function for finding the nearest neighbor for a given node in a graph.\n",
    "1. Make a simple Graph Theory graph using matplotlib\n",
    "1. Experiment with the `networkx` module"
   ]
  },
  {
   "cell_type": "markdown",
   "metadata": {},
   "source": [
    "## Assignment instructions\n",
    "**This assignment is due by 11:59 p.m. the day before class** and should be uploaded into the appropriate \"Pre-class assignments\" dropbox folder in the Desire2Learn website.\n",
    "\n",
    "**Notes about the assignment**: The most important pieces of the second part of this assignment (the graph theory component) are Steps 1 and 2. Step 3 might be a bit challenging because you have to figure out the right syntax to get the NetworkX module to work. Feel free to discuss issues you run into with others on Slack. It's OK if you can't get Part 3 figured out before class as long as you've tried it. Make sure you complete the final part of the assignment where you're asked to come up with an outline for how you would solve the cell phone tower problem."
   ]
  },
  {
   "cell_type": "markdown",
   "metadata": {},
   "source": [
    "---\n",
    "# 1. Project Brainstorming\n",
    "\n",
    "For the last part of this assignment, we would like you to start thinking about your semester project.  Ideally, your project will incorporate the concepts that you have been learning and will eventually learn in the course. You can find details for what is expected of you for the semester projects [here](https://msu-cmse-courses.github.io/cmse202-F22-jb/course_materials/SemesterProjectDetails.html)\n",
    "\n",
    "Right now the goal is to just come up with project ideas that sound interesting to you! Later, we'll work together to shape them into concepts that fit well within the bounds of the course!\n",
    "\n",
    "You may also find it useful to consider the following examples from previous semesters:"
   ]
  },
  {
   "cell_type": "markdown",
   "metadata": {},
   "source": [
    "### Example 1: Agent based spread of disease\n",
    "This group developed an agent based model to study the spread of a disease. The model consisted of people that lived, worked and went to school.  The interaction between the agents determined the likelihood of the spread of the virus. \n",
    "\n",
    "<img src=\"https://i.ibb.co/MMZ2ksB/name-019.jpg\" alt=\"name-019\" border=\"0\" width=500></a>"
   ]
  },
  {
   "cell_type": "markdown",
   "metadata": {},
   "source": [
    "### Example 2: Planetary Habitable_zone\n",
    "This project developed an API (advanced programming interface) to existing online databases of exoplanets (planets outside of our solar system). The user could query the database and the program would generate an idealized picture of the solar system and show if the planet is inside the \"goldilock zone.\" This is the zone where a planet is likely to sustain liquid water.  \n",
    "\n",
    "<img src=\"https://i.ibb.co/qYY2XNw/Kepler-47.png\" alt=\"Kepler-47\" border=\"0\" width=400>\n",
    "<img src=\"https://i.ibb.co/0Ds21KJ/Habitable-zone.png\" alt=\"Habitable-zone\" border=\"0\" width=400>"
   ]
  },
  {
   "cell_type": "markdown",
   "metadata": {},
   "source": [
    "### Example 3: Star Spectral Analysis\n",
    "This project developed an algorithm to automatically categorize stars based on their visible spectral signatures.  This categorization process is often difficult and the students wanted to see if a model could be generated using a learning algorithm.\n",
    "\n",
    "<img src=\"https://i.ibb.co/bFvqRFk/Spectra.png\" alt=\"Spectra\" border=\"0\" width=400>\n"
   ]
  },
  {
   "cell_type": "markdown",
   "metadata": {},
   "source": [
    "### Example 4: Image Classification of Filamentous Fungi\n",
    "This project involved the creation of a image classifier using machine learning to classify images of fungi to the correct phylum based on microscope images. It was intended to improve the efficiency of identifying unknown fungi isolated from soil. Currently there are 248 images in the database.\n",
    "\n",
    "<img src=\"https://i.ibb.co/XLB43MJ/hyphal-image-classification.png\" alt=\"hyphal-image-classification\" border=\"0\" width=900>\n"
   ]
  },
  {
   "cell_type": "markdown",
   "metadata": {},
   "source": [
    "### Example 5: Prediction of NFL draft first pick\n",
    "\n",
    "This project involved the creation of three model in order to predict who will be picked first in the NFL draft. The students used an SVM, Perceptron, and Logistic regression to predict the first picks.\n",
    "\n",
    "<img src=\"https://upload.wikimedia.org/wikipedia/en/thumb/8/80/NFL_Draft_logo.svg/1920px-NFL_Draft_logo.svg.png\" width=400>"
   ]
  },
  {
   "cell_type": "markdown",
   "metadata": {},
   "source": [
    "### And many more! \n",
    "\n",
    "Other past projects have used a variety of models and data analysis techniques to look at things like:\n",
    "* What factors influence how often people take their dog to the dog park?\n",
    "* What's the best way to build your stock portfolio to maximize performance?\n",
    "* How can rumors, memes, and reddit influence stock performance?\n",
    "* How has basketball as a sport evolved as a function of time?\n",
    "* Is it possible to predict which teams will will the NHL Stanley Cup?\n",
    "* How do various hormones influence brain chemistry?\n",
    "* Which blackjack betting strategy leads to the most wins?\n",
    "* How do you build an accurate orbital model of the solar system? Other planetary systems?\n",
    "* How does currently available data help us understand the causes and impacts of climate change?\n",
    "* Is it possible to automatically detect shipping boats in satellite images?\n",
    "* How has the rise and fall of COVID cases effected the stock market?\n",
    "* How can network graphs be used to find the shortest past through a city?\n",
    "* How accurately can a neural network perform image recognition?\n",
    "* Can an agent-based model accurately model local animal populations?"
   ]
  },
  {
   "cell_type": "markdown",
   "metadata": {},
   "source": [
    "**&#9989;  Do This:** Now that you've had a chance to think about some examples of past project, **brainstorm ideas you have for projects**. These can be rough, general ideas.\n"
   ]
  },
  {
   "cell_type": "markdown",
   "metadata": {},
   "source": [
    "<font size=+3>&#9998;</font> Do This - Erase the contents of this cell and replace it with your ideas here.  (double-click on this text to edit this cell, and hit shift+enter to save the text)"
   ]
  },
  {
   "cell_type": "markdown",
   "metadata": {},
   "source": [
    "**Once you've come up with some ideas for project, fill out the following survey so that your ideas can be compiled into list of possible ideas for the entire class**. The combined list will be used to seed ideas that will eventually lead to semester projects!"
   ]
  },
  {
   "cell_type": "code",
   "execution_count": null,
   "metadata": {},
   "outputs": [],
   "source": [
    "from IPython.display import HTML\n",
    "HTML(\n",
    "\"\"\"\n",
    "<iframe \n",
    "\tsrc=\"https://forms.office.com/r/EqCmwXRrjs\"\n",
    "\twidth=\"900px\" \n",
    "\theight=\"600px\" \n",
    "\tframeborder=\"0\" \n",
    "\tmarginheight=\"0\" \n",
    "\tmarginwidth=\"0\">\n",
    "\tLoading...\n",
    "</iframe>\n",
    "\"\"\"\n",
    ")"
   ]
  },
  {
   "cell_type": "markdown",
   "metadata": {},
   "source": [
    "---\n",
    "# 2. Application of Graph Theory\n",
    "\n",
    "## Defining the problem\n",
    "\n",
    "The signals from different cellphone towers that are close together can interfere.  \n",
    "\n",
    "<img src=\"http://2.bp.blogspot.com/-X7XJfnPb6xU/TjZfTmAd9CI/AAAAAAAAAF0/3eGarXigOQE/s1600/dido1.jpg\" width=\"500px\"><p style=\"text-align: right;\">From: http://www.onlivespot.com/2011/08/dido-wireless-technology-explained.html</p>\n",
    "\n",
    "In order to avoid this overlap cell phone companies use different frequency ranges in the Electromagnetic spectrum.  Two towers that are close together but have differences in frequencies (shown as colors, red/green/black in the following figure) do not cause nearly as much interference. \n",
    "\n",
    "<img src=\"http://2.bp.blogspot.com/-M4olRy6O-v4/TjZghvwq3KI/AAAAAAAAAF4/GtOd6Db-su4/s1600/dido2.jpg\" width = \"500px\"><p style=\"text-align: right;\">From:  http://www.onlivespot.com/2011/08/dido-wireless-technology-explained.html</p>\n",
    "\n",
    "However, cellphone towers are never distributed in such an even pattern.   Consider the following map which shows the location of cell towers around Michigan State. (Note: this map may have changed since the time it was first created.)\n",
    "\n",
    "<img src='https://i.imgur.com/oUuUDCH.jpg' width = \"500px\">\n",
    "<p style=\"text-align: right;\">From: http://www.antennasearch.com/</p>\n",
    "\n",
    "Another problem is that cellphone companies have to pay for each frequency range they use. So they would like to minimize the number of frequencies that they need to purchase while also minimizing the interference between the cell towers. \n",
    "\n",
    "Between this pre-class assignment and the assignment you'll do in class, we'll try to solve this cell phone tower problem using **Graph Theory**!"
   ]
  },
  {
   "cell_type": "markdown",
   "metadata": {},
   "source": [
    "## Step 1: Generate random cell towers. \n",
    "\n",
    "To start out, we're going to keep things simple and use artificial data to create our cell phone tower network. Specifically, we'll just populate a network of towers randomly.\n",
    "\n",
    "**&#9989;  Do This:** **Write a function** to randomly create a 2D numpy array with $N$ rows representing cell towers and 2 columns representing the $x$ (longitude) and $y$ (latitude) positions of the cell towers on a map. You may assume that the map is a 2D plane and not a sphere. You can also assume that the \"latitude\" and \"longitude\" values are all in the range of 0 to 1."
   ]
  },
  {
   "cell_type": "code",
   "execution_count": null,
   "metadata": {},
   "outputs": [],
   "source": [
    "# Put your code here."
   ]
  },
  {
   "cell_type": "code",
   "execution_count": null,
   "metadata": {},
   "outputs": [],
   "source": [
    "### ANSWER\n",
    "%matplotlib inline\n",
    "import matplotlib.pyplot as plt\n",
    "import numpy as np\n",
    "\n",
    "def generate_Towers(N=50):\n",
    "    '''Generate a random list of xy coordinates for towers. \n",
    "    Returns the list as a 2D numpy array'''\n",
    "    return np.random.rand(N,2)\n",
    "    \n"
   ]
  },
  {
   "cell_type": "markdown",
   "metadata": {},
   "source": [
    "**&#9989;  Do This:** Generate $N=50$ towers using your above function and plot the results as a scatter plot. It should look something like this (though your points will be in different positions):\n",
    "\n",
    "<div align=\"center\"><img src=\"https://i.ibb.co/yBH8X18/random-towers.png\" alt=\"random_towers\" border=\"0\"></div>"
   ]
  },
  {
   "cell_type": "code",
   "execution_count": null,
   "metadata": {},
   "outputs": [],
   "source": [
    "# Put your code here."
   ]
  },
  {
   "cell_type": "code",
   "execution_count": null,
   "metadata": {},
   "outputs": [],
   "source": [
    "### ANSWER\n",
    "points = generate_Towers(50)\n",
    "plt.scatter(points[:,0], points[:,1])\n",
    "plt.axis('equal')\n",
    "plt.title('Randomly generated cell towers')\n",
    "plt.xlabel('longitude')\n",
    "plt.ylabel('latitude')\n",
    "#plt.savefig('./images/random_towers.png')\n",
    "##ANSWER##"
   ]
  },
  {
   "cell_type": "markdown",
   "metadata": {},
   "source": [
    "## Step 2: Nearest Neighbor Graph\n",
    "\n",
    "**&#9989;  Do This:** Next **write a function that returns an adjacency list** (implemented as a dictionary of lists) from this set of points using the Nearest Neighbor Graph algorithm.  More information about the algorithm can be found here:\n",
    "\n",
    "https://en.wikipedia.org/wiki/Nearest_neighbor_graph\n",
    "\n",
    "Basically the algorithm should **loop though all of the points** and **find the nearest neighbor to each point**. To do this, you can use the `distance` function that is provided below, or you can take your own approach.\n",
    "\n",
    "Again, for **each point** check the distance to **all other points** and **find the one that is the closest**. **Store this information in a dictionary** where the key in the dictionary is the index of the point you're currently considering and the value associated with that key is the index of the closest point.\n",
    "\n",
    "**Note**: this isn't a trivial function, so don't worry if you can't quite get it figured out. Do you best to work through the logic and implement a solutions. If you get stuck try to make a note of where you got stuck and include this in your follow-up survey."
   ]
  },
  {
   "cell_type": "code",
   "execution_count": null,
   "metadata": {},
   "outputs": [],
   "source": [
    "import math\n",
    "# Function for computing the distance between two points\n",
    "def distance(p1,p2):\n",
    "    '''Returns the distance betwen two numpy points'''\n",
    "    return math.sqrt((p1[0] - p2[0])**2 + (p1[1] - p2[1])**2)\n",
    "\n",
    "# Put your nearest neighbor graph function here"
   ]
  },
  {
   "cell_type": "code",
   "execution_count": null,
   "metadata": {},
   "outputs": [],
   "source": [
    "### ANSWER\n",
    "import math\n",
    "def distance(p1,p2):\n",
    "    '''Returns the distance betwen two numpy points'''\n",
    "    return math.sqrt((p1[0] - p2[0])**2 + (p1[1] - p2[1])**2)\n",
    "    \n",
    "def nn_graph(points):\n",
    "    '''Generates an adjacency list based on the Nearest neighbor graph algorithm.'''\n",
    "    G = dict()\n",
    "    for p in range(0,len(points)):\n",
    "        min_distance = np.inf;\n",
    "        min_point = -1\n",
    "        for n in range(0,len(points)):\n",
    "            if p != n:\n",
    "                d = distance(points[p], points[n])\n",
    "                if d < min_distance:\n",
    "                    min_distance = d\n",
    "                    min_point = n\n",
    "        if min_point == -1:\n",
    "            print(\"ERROR-point not found\")\n",
    "        G[p] = [min_point]\n",
    "    return G\n"
   ]
  },
  {
   "cell_type": "markdown",
   "metadata": {},
   "source": [
    "**&#9989;  Do This:** Run your nearest neighbor graphing function on the points you generated in step 1.  Generate a plot of the points and include the \n",
    "edges of the graph. Your plot should look something like the following:\n",
    "\n",
    "<div align=\"center\"><img src=\"https://i.ibb.co/ZBfqYhs/nn-graph.png\" alt=\"nn-graph\" border=\"0\"></div>"
   ]
  },
  {
   "cell_type": "code",
   "execution_count": null,
   "metadata": {},
   "outputs": [],
   "source": [
    "### ANSWER\n",
    "# points = generate_Towers(50)\n",
    "G = nn_graph(points)\n",
    "plt.plot(points[:,0], points[:,1], 'o');\n",
    "for p in G:\n",
    "    x = [points[p,0], points[G[p],0]]\n",
    "    y = [points[p,1], points[G[p],1]]\n",
    "    plt.plot(x,y, color='C0')\n",
    "plt.title('example nearest neighbor graph on random points')\n",
    "plt.xlabel('longitude')\n",
    "plt.ylabel('latitude')\n",
    "plt.axis('equal')\n",
    "plt.axis([-0.1, 1.1, -0.1, 1.1])\n",
    "#plt.savefig('./images/nn_graph.png')\n"
   ]
  },
  {
   "cell_type": "markdown",
   "metadata": {},
   "source": [
    "## Step 3: Graph Coloring\n",
    "\n",
    "Now that we have a graph representing the towers closest to each other. One thing that we can do is apply a graph coloring algorithm. The colors will represent the frequencies.  We want to minimize the number of colors used and we want to minimize the number of cell towers that share an edge in the graph and have the same color.  \n",
    "\n",
    "As you discovered in class, there is a package called \"**NetworkX**\" available in you Anaconda Python distribution, which can create graph objects *and* has built in coloring algorithms. More information about Graph Coloring can be found here: https://en.wikipedia.org/wiki/Graph_coloring \n",
    "\n",
    "As mentioned in class, there is a version dependency issue that has come up recently with networkx, which requires updating the the `decorator` package. If you didn't do this in-class for any reason you'll need to do so now to ensure that networkx will work. You can do that with the following command (wherever you're been running your pip install commands):\n",
    "\n",
    "``` bash\n",
    "pip install --user --upgrade decorator\n",
    "```\n",
    "\n",
    "**&#9989;  Do This:** **Try using the `networkx` module to make a plot of your graph using the built in coloring algorithm.** You'll want to look at this documentation to figure this out, which you can find [here](https://networkx.github.io/documentation/stable/reference/algorithms/generated/networkx.algorithms.coloring.greedy_color.html). If you can't get `networkx` and the graph coloring to work, make a note of it in the assignment wrap-up survey and be prepared to ask you classmates for help in class.\n",
    "\n",
    "Even you can't get the coloring to work, at least try to make a graph of your points using `networkx`. **Don't get too hung up on this part, if you can't figure it out, try discussing it with other on Slack and bring your questions to class!**\n",
    "\n",
    "If you can get it working, you should end up with something that looks like this:\n",
    "\n",
    "<div align=\"center\"><img src=\"https://i.ibb.co/3CJV2Dx/nx-nn-graph.png\" alt=\"nx-nn-graph\" border=\"0\"></div>\n",
    "\n",
    "**Important note**: Depending on the random points you end up with, you may end up with 3 colors instead of just 2, that's OK!"
   ]
  },
  {
   "cell_type": "code",
   "execution_count": null,
   "metadata": {},
   "outputs": [],
   "source": [
    "# Put networkx graph + coloring code here\n"
   ]
  },
  {
   "cell_type": "code",
   "execution_count": null,
   "metadata": {},
   "outputs": [],
   "source": [
    "### ANSWER\n",
    "import networkx as nx\n",
    "\n",
    "G2 = nx.Graph(G)\n",
    "d = nx.coloring.greedy_color(G2, strategy=nx.coloring.strategy_largest_first)\n",
    "\n",
    "# Define a position dict for points\n",
    "points_d = {}\n",
    "for i,p in enumerate(points):\n",
    "    points_d[i] = p\n",
    "\n",
    "# Sort the keys for defining the color array\n",
    "sorted_d_keys = sorted(d.keys())\n",
    "\n",
    "# Loop through sorted keys and assign colors\n",
    "d_colors = []\n",
    "for k in sorted_d_keys:\n",
    "    d_colors.append(d[k])\n",
    "\n",
    "nx.draw_networkx(G2,pos=points_d,with_labels=False, node_color=np.array(d_colors), node_size=50)\n",
    "#plt.savefig(\"./images/nx_nn_graph.png\")\n"
   ]
  },
  {
   "cell_type": "code",
   "execution_count": null,
   "metadata": {},
   "outputs": [],
   "source": [
    "### ANSWER ###\n",
    "# A solution without the coloring part working\n",
    "import networkx as nx\n",
    "\n",
    "# Define a position dict for points\n",
    "points_d = {}\n",
    "for i,p in enumerate(points):\n",
    "    points_d[i] = p\n",
    "\n",
    "G2 = nx.Graph(G)\n",
    "nx.draw_networkx(G2,pos=points_d,with_labels=False, node_size=20)"
   ]
  },
  {
   "cell_type": "markdown",
   "metadata": {},
   "source": [
    "---\n",
    "# Preparing for the in-class assignment\n",
    "\n",
    "Finally, think about how you would solve the cell phone tower problem discussed in the beginning of the assignment.  Outline a program to do the following:\n",
    "\n",
    "1. Upload cellphone tower data from http://www.antennasearch.com/ into our program. \n",
    "1. Generate a list of xy points from the longitude and latitude provided by the website.\n",
    "1. Run the Nearest Neighbor graph algorithm to generate a graph.\n",
    "1. Run a graph coloring algorithm on your graph. \n",
    "1. Plot the resulting map with points colored to represent the selected frequencies.\n",
    "\n",
    "You can outline the program in the cell below using \"stub\" functions where you define the functions you think you'll need, what the inputs will be for the functions, and some comments for what the functions will do. If you end the function with ```pass```, Python will be able to successfully \"run\" your code. An example of what is meant by as stub function is included below. **This is just an outline to guide your thinking when you get to class, it doesn't have to be perfect!**"
   ]
  },
  {
   "cell_type": "code",
   "execution_count": null,
   "metadata": {},
   "outputs": [],
   "source": [
    "# Example \"stub\" function\n",
    "def stubby(param1, param2, param3):\n",
    "    '''\n",
    "    This function takes input parameters and\n",
    "    uses them to compute things and make plots.\n",
    "    '''\n",
    "    pass\n",
    "\n",
    "#\n",
    "# Using stub functions, put your outline for your program below this comment block.\n",
    "# Make sure to include comments about what the inputs are and what the functions need to do.\n",
    "#\n",
    "\n"
   ]
  },
  {
   "cell_type": "markdown",
   "metadata": {},
   "source": [
    "---\n",
    "## Follow-up Questions\n",
    "\n",
    "Copy and paste the following questions into the appropriate box in the assignment survey include below and answer them there. (Note: You'll have to fill out the assignment number and go to the \"NEXT\" section of the survey to paste in these questions.)\n",
    "\n",
    "1. Do you have any questions about the semester projects at this time? If so, what are they?"
   ]
  },
  {
   "cell_type": "markdown",
   "metadata": {},
   "source": [
    "----\n",
    "# Assignment Wrap-up\n",
    "\n",
    "Please fill out the form that appears when you run the code below.  **You must completely fill this out in order to receive credit for the assignment!**"
   ]
  },
  {
   "cell_type": "code",
   "execution_count": null,
   "metadata": {},
   "outputs": [],
   "source": [
    "from IPython.display import HTML\n",
    "HTML(\n",
    "\"\"\"\n",
    "<iframe \n",
    "\tsrc=\"https://cmse.msu.edu/cmse202-pc-survey\" \n",
    "\twidth=\"800px\" \n",
    "\theight=\"600px\" \n",
    "\tframeborder=\"0\" \n",
    "\tmarginheight=\"0\" \n",
    "\tmarginwidth=\"0\">\n",
    "\tLoading...\n",
    "</iframe>\n",
    "\"\"\"\n",
    ")"
   ]
  },
  {
   "cell_type": "markdown",
   "metadata": {},
   "source": [
    "---------\n",
    "### Congratulations, you're done with your pre-class assignment!\n",
    "\n",
    "Now, you just need to submit this assignment by uploading it to the course <a href=\"https://d2l.msu.edu/\">Desire2Learn</a> web page for this assignment's submission folder (Don't forget to add your names in the first cell)."
   ]
  },
  {
   "cell_type": "markdown",
   "metadata": {},
   "source": [
    "&#169; Copyright 2021,  Department of Computational Mathematics, Science and Engineering at Michigan State University"
   ]
  }
 ],
 "metadata": {
  "kernelspec": {
   "display_name": "Python 3 (ipykernel)",
   "language": "python",
   "name": "python3"
  },
  "language_info": {
   "codemirror_mode": {
    "name": "ipython",
    "version": 3
   },
   "file_extension": ".py",
   "mimetype": "text/x-python",
   "name": "python",
   "nbconvert_exporter": "python",
   "pygments_lexer": "ipython3",
   "version": "3.10.6"
  },
  "widgets": {
   "application/vnd.jupyter.widget-state+json": {
    "state": {},
    "version_major": 2,
    "version_minor": 0
   }
  }
 },
 "nbformat": 4,
 "nbformat_minor": 4
}
