{
 "cells": [
  {
   "cell_type": "markdown",
   "metadata": {},
   "source": [
    "# Pre-Class Assignment: Reviewing Project Ideas\n",
    "# Day 12 \n",
    "# CMSE 202"
   ]
  },
  {
   "cell_type": "markdown",
   "metadata": {},
   "source": [
    "For this pre-class assignment you will be reviewing a list of project ideas that were submitted by you and your classmates.  You will be asked to review the ideas and provide feedback on which ones you think are the most interesting and which ones you think are the most feasible. This will help to prepare you for the more thorough project idea exploration that you will be doing in class with your groups.\n",
    "\n",
    "Because the ideas for your section come from your section, there is a section-specific version of this assignment. **You should be able to find the version for your section on your course D2L page.**\n",
    "\n",
    "**Note**: it may take your instructor a bit of time to get the list of project ideas to you.  If you don't see Day 12 PCA for your section on D2L, please be patient and check back later or reach out to your instructor for an estimate of when it will be available. "
   ]
  },
  {
   "cell_type": "markdown",
   "metadata": {},
   "source": [
    "---\n",
    "\n",
    "&#169; Copyright 2023,  Department of Computational Mathematics, Science and Engineering at Michigan State University"
   ]
  }
 ],
 "metadata": {
  "kernelspec": {
   "display_name": "Python 3 (ipykernel)",
   "language": "python",
   "name": "python3"
  },
  "language_info": {
   "codemirror_mode": {
    "name": "ipython",
    "version": 3
   },
   "file_extension": ".py",
   "mimetype": "text/x-python",
   "name": "python",
   "nbconvert_exporter": "python",
   "pygments_lexer": "ipython3",
   "version": "3.10.6"
  },
  "widgets": {
   "application/vnd.jupyter.widget-state+json": {
    "state": {},
    "version_major": 2,
    "version_minor": 0
   }
  }
 },
 "nbformat": 4,
 "nbformat_minor": 4
}
