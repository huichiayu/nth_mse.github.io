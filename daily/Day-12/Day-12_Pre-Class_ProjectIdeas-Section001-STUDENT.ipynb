{
 "cells": [
  {
   "cell_type": "markdown",
   "metadata": {},
   "source": [
    "# [Section 001] Pre-Class Assignment: Reviewing Project Ideas\n",
    "# Day 12 \n",
    "# CMSE 202"
   ]
  },
  {
   "cell_type": "markdown",
   "metadata": {},
   "source": [
    "## <p style=\"text-align: right;\"> &#9989; Put your name here</p>"
   ]
  },
  {
   "cell_type": "markdown",
   "metadata": {},
   "source": [
    "In this pre-class assignment we are going to explore your project ideas for class.  The ideas are pulled from the project brainstorming you did previously. The instructional staff did their best to interpret the concept of your ideas based on what you submitted to the previous pre-class survey. In some cases we had to try to put vagues thoughts into concrete categories and we may have misconstrued the original intent -- sorry if your idea was mangled!\n",
    "\n",
    "Please think about what would make a good and interesting project and complete the following:\n",
    "\n",
    "**&#9989; Do This:** \n",
    "\n",
    "1. Read though the following project ideas and put notes in the `comments` slot provided on any that you find interesting.\n",
    "2. Having read through them all, write down your top 3 in the list below using names like \"Finance & Economics 1\" or \"Sports 2\" (the category and the number). Consider the following factors as you are investigating for your top 3.\n",
    "    * Is the project something you are interested in?\n",
    "    * How hard will the project be for a group to complete? \n",
    "    * Can you find any python libraries or datasets that would help with the project?\n",
    "    * Is this just a toy project or is the project scientifically motivated. I.e. what broad scientific questions would this project be able to answer?\n",
    "3. Having selected three, add some details in your `Top Three List` with information like:\n",
    "    * Any links to new information or datasets.\n",
    "    * Scientific questions that this project would be able to explore.\n",
    "    * Computational methods you might use for the project.\n",
    "    * Additional thoughts or ideas you want to tell the instructors. \n",
    "\n",
    "**Note:** You are welcome to also combine two or more project ideas into one bigger project. Or you can come up with a new project idea.  Reference the projects based on their project numbers. Do not change the numbers. "
   ]
  },
  {
   "cell_type": "markdown",
   "metadata": {},
   "source": [
    "## Top Three List (with some details)\n",
    "\n",
    "1. \n",
    "\n",
    "2. \n",
    "\n",
    "3. "
   ]
  },
  {
   "cell_type": "markdown",
   "metadata": {},
   "source": [
    "---\n",
    "\n",
    "# Project Ideas From Brainstorming:"
   ]
  },
  {
   "cell_type": "markdown",
   "metadata": {},
   "source": [
    "## Finance & Economics\n",
    "\n",
    "1. Impact of Marketing: Investigate how advertising affects sales.\n",
    "\n",
    "**comments**:\n",
    "\n",
    "2. Predictive Analysis for Economic Factors: Develop models to predict housing prices, stock values, and gas prices.\n",
    "\n",
    "**comments**:\n",
    "\n",
    "3. Factors Influencing Job Status and Salary Levels: Assess the factors influencing job status and salary levels, including education, experience, industry, location, and demographic variables,\n",
    "\n",
    "**comments**:\n",
    "\n",
    "4. Risk Management in Financial Transactions: Develop algorithms for credit fraud detection to mitigate risks in financial transactions and ensure security.\n",
    "\n",
    "**comments**:\n"
   ]
  },
  {
   "cell_type": "markdown",
   "metadata": {},
   "source": [
    "## Health & Wellness\n",
    "\n",
    "1. Alcohol's Impact on Brain: Investigate how alcohol consumption influences brain.\n",
    "\n",
    "**comments**:\n",
    "\n",
    "2. Modeling Disease Spread Over Time: Develop models to simulate and predict the spread of diseases or viruses over time.\n",
    "\n",
    "**comments**:\n",
    "\n",
    "3. Factors Influencing Animal Longevity: Explore the factors that contribute to the longer lifespan of animals such as dogs and cats, e.g, genetics, diet, exercise, and veterinary care.\n",
    "\n",
    "**comments**:\n"
   ]
  },
  {
   "cell_type": "markdown",
   "metadata": {},
   "source": [
    "## Infrastructure & Urban Planning\n",
    "\n",
    "1. Infrastructure Readiness: Assess infrastructure readiness for the transition to electric vehicles.\n",
    "\n",
    "**comments**:\n",
    "\n",
    "2. Urban Planning: optimize urban transportation systems, e.g, bus routes, bike routes.\n",
    "\n",
    "**comments**:\n",
    "\n",
    "3. Traffic Flow Modeling: Optimizing traffic flow through a city.\n",
    "\n",
    "**comments**:\n"
   ]
  },
  {
   "cell_type": "markdown",
   "metadata": {},
   "source": [
    "## Society & Politics\n",
    "\n",
    "\n",
    "1. Social Network Analysis & Influence on Mental Health: Explore communication patterns on social media platforms and assess their impact on mental health outcomes.\n",
    "\n",
    "**comments**:\n",
    "\n",
    "2. Gerrymandering Effects & Political Predictions: Predict the effects of gerrymandering on political outcomes and analyze its implications.\n",
    "\n",
    "**comments**:\n",
    "\n",
    "3. Climate Change Impact on Economy: Investigate how rising sea levels affect a country's economy.\n",
    "\n",
    "**comments**:\n",
    "\n",
    "4. Crime Analysis: Analyze crime data to identify hotspots and dangerous periods\n",
    "\n",
    "**comments**:\n",
    "\n",
    "5. Wildfire Spread Prediction: Develop models to predict wildfire spread.\n",
    "\n",
    "**comments**:\n",
    "\n",
    "6. Education Path Prediction & GPA Influencers: Predict individuals' education paths and identify factors influencing a student's GPA.\n",
    "\n",
    "**comments**:\n"
   ]
  },
  {
   "cell_type": "markdown",
   "metadata": {},
   "source": [
    "## Science & Technology\n",
    "\n",
    "1. Celestial Dynamics: Develop accurate orbital models for celestial bodies.\n",
    "\n",
    "**comments**:\n",
    "\n",
    "2. Environmental Prediction: Utilize historical climate data to forecast future climate patterns.\n",
    "\n",
    "**comments**:\n",
    "\n",
    "3. Biological Modeling and Simulation: Investigate factors that influence plant growth, e.g, sunlight.\n",
    "\n",
    "**comments**:\n",
    "\n",
    "4. Pendulum Simulation: Simulate the movement of pendulums with different masses under identical initial conditions.\n",
    "\n",
    "**comments**:\n",
    "\n",
    "5. Data Management: Design and implement a data storage system for a company, incorporating python classes.\n",
    "\n",
    "**comments**:\n",
    "\n",
    "6. Recommendation Systems: Develop a movie recommendation system based on user preferences.\n",
    "\n",
    "**comments**:\n",
    "\n",
    "7. Cryptid Tracking: Predict the likelihood of encountering Bigfoot using sighting\n",
    "\n",
    "**comments**:\n"
   ]
  },
  {
   "cell_type": "markdown",
   "metadata": {},
   "source": [
    "## Sports & Games\n",
    "\n",
    "1. Game Strategy: Develop game strategies for poker/tic-tac-toe/chess.\n",
    "\n",
    "**comments**:\n",
    "\n",
    "2. Game Prediction: Predict winners for various sports and events such as MLB, March Madness, Super Bowl, Formula One, NFC/AFC championships.\n",
    "\n",
    "**comments**:\n",
    "\n",
    "3. Analyzing Popular Games: Analyze trends to identify the most popular games over the past few years across various platforms.\n",
    "\n",
    "**comments**:\n",
    "\n"
   ]
  },
  {
   "cell_type": "markdown",
   "metadata": {},
   "source": [
    "------\n",
    "\n",
    "# New project ideas\n",
    "\n",
    "If you've come up with new project ideas since our brainstorming session, feel free to add them here. Make sure to include the same sort of information you put together for your \"top 3\" models from above. Make a note in assignment wrap-up survey in the \"Follow-up Questions\" text box if any of your new ideas happen to be your new favorite idea."
   ]
  },
  {
   "cell_type": "markdown",
   "metadata": {},
   "source": [
    "## < New Idea >\n",
    "\n",
    "< New idea description >\n",
    "\n",
    "**Comments:**\n"
   ]
  },
  {
   "cell_type": "markdown",
   "metadata": {},
   "source": [
    "---\n",
    "## Follow-up Questions\n",
    "\n",
    "Copy and paste the following questions into the appropriate box in the assignment survey include below and answer them there. (Note: You'll have to fill out the assignment number and go to the \"NEXT\" section of the survey to paste in these questions.)\n",
    "\n",
    "1. What are your current top three project ideas that you're most interested in? (You should be able to copy this from the list your created at the beginning of this notebook)."
   ]
  },
  {
   "cell_type": "markdown",
   "metadata": {},
   "source": [
    "----\n",
    "# Assignment wrap-up\n",
    "\n",
    "Please fill out the form that appears when you run the code below.  **You must completely fill this out in order to receive credit for the assignment!**"
   ]
  },
  {
   "cell_type": "code",
   "execution_count": null,
   "metadata": {},
   "outputs": [],
   "source": [
    "from IPython.display import HTML\n",
    "HTML(\n",
    "\"\"\"\n",
    "<iframe \n",
    "\tsrc=\"https://cmse.msu.edu/cmse202-pc-survey\" \n",
    "\twidth=\"800px\" \n",
    "\theight=\"600px\" \n",
    "\tframeborder=\"0\" \n",
    "\tmarginheight=\"0\" \n",
    "\tmarginwidth=\"0\">\n",
    "\tLoading...\n",
    "</iframe>\n",
    "\"\"\"\n",
    ")"
   ]
  },
  {
   "cell_type": "markdown",
   "metadata": {},
   "source": [
    "---------\n",
    "### Congratulations, you're done with your pre-class assignment!\n",
    "\n",
    "Now, you just need to submit this assignment by uploading it to the course <a href=\"https://d2l.msu.edu/\">Desire2Learn</a> web page for today's submission folder (Don't forget to add your name in the first cell)."
   ]
  },
  {
   "cell_type": "markdown",
   "metadata": {},
   "source": [
    "&#169; Copyright 2023,  Department of Computational Mathematics, Science and Engineering at Michigan State University"
   ]
  }
 ],
 "metadata": {
  "kernelspec": {
   "display_name": "Python 3 (ipykernel)",
   "language": "python",
   "name": "python3"
  },
  "language_info": {
   "codemirror_mode": {
    "name": "ipython",
    "version": 3
   },
   "file_extension": ".py",
   "mimetype": "text/x-python",
   "name": "python",
   "nbconvert_exporter": "python",
   "pygments_lexer": "ipython3",
   "version": "3.8.3"
  },
  "widgets": {
   "application/vnd.jupyter.widget-state+json": {
    "state": {},
    "version_major": 2,
    "version_minor": 0
   }
  }
 },
 "nbformat": 4,
 "nbformat_minor": 4
}
