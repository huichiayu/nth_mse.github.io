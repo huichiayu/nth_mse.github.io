{
 "cells": [
  {
   "cell_type": "markdown",
   "metadata": {},
   "source": [
    "# In-Class Assignment: Reviewing Project Ideas\n",
    "# Day 12 \n",
    "# CMSE 202"
   ]
  },
  {
   "cell_type": "markdown",
   "metadata": {},
   "source": [
    "### <p style=\"text-align: right;\"> &#9989; **Put your name here** </p>\n",
    "#### <p style=\"text-align: right;\"> &#9989; Put your group member names here</p>"
   ]
  },
  {
   "cell_type": "markdown",
   "metadata": {},
   "source": [
    "### Agenda for today:\n",
    "\n",
    "1. [Generating ideas for project selection criteria](#brainstorm)\n",
    "1. [Discussing and choosing selection criteria](#criteria)\n",
    "1. [Review project ideas](#review)\n",
    "1. [Applying selection criteria and finalizing project list](#apply)\n",
    "1. [Digging into the projects](#dig)"
   ]
  },
  {
   "cell_type": "markdown",
   "metadata": {},
   "source": [
    "# Defining criteria for selecting projects\n",
    "\n",
    "In order to make sure that each group has a good project idea to pursue for their semester project, we are going to try to define a set of selection criteria as a class. Basically, what elements should a good project idea have? If we can make sure that the projects ideas we've generated meet our selection criteria before we choose one of them, it is less likely that a group will run into significant issues with their project."
   ]
  },
  {
   "cell_type": "markdown",
   "metadata": {},
   "source": [
    "---\n",
    "# General Guidelines for Brainstorming process\n",
    "\n",
    "A useful approach to brainstorming is the following two-step process:\n",
    "\n",
    "#### Step 1: Generate ideas\n",
    "* Strive for quantity (don't criticize or set restictions on ideas)\n",
    "* Strive for variety\n",
    "\n",
    "#### Step 2: Reduce the list\n",
    "* Clarify vague ideas\n",
    "* Group related ideas\n",
    "* Remove obvious outliers\n",
    "* Discuss and choose the critical few"
   ]
  },
  {
   "cell_type": "markdown",
   "metadata": {},
   "source": [
    "---\n",
    "<a id=\"brainstorm\"></a>\n",
    "# 1. Generating ideas for project selection criteria\n",
    "\n",
    "As a group, do \"**Step 1**\" from above. Generate possible criteria for selecting a project (\"Step 1\" from above). Try to identify criteria that are \"measurable,\" if possible. To think of this another way, what makes something a \"good\" idea for a project versus a \"bad\" idea?\n",
    "\n",
    "You will record your group's thoughts in a shared Word Document provided by your instructor. **You'll have ~10-15 minutes to do this.**\n",
    "\n",
    "We'll do \"**Step 2**\" as a class."
   ]
  },
  {
   "cell_type": "markdown",
   "metadata": {},
   "source": [
    "<font size=+3>&#9998;</font> Do This - Erase the contents of this cell and replace it with the ideas you come up with for selection criteria. These can be copy-pasted from what your group puts in the shared Word Document (double-click on this text to edit this cell, and hit shift+enter to save the text)"
   ]
  },
  {
   "cell_type": "markdown",
   "metadata": {},
   "source": [
    "---\n",
    "<a id=\"criteria\"></a>\n",
    "# 2. Discussing and choosing selection criteria\n",
    "\n",
    "As a class, we will go through **Step 2**. We will try to:\n",
    "\n",
    "* Clarify vague ideas\n",
    "* Group related ideas\n",
    "* Remove obvious outliers\n",
    "* Discuss and choose the critical few\n",
    "\n",
    "The instructor will use the shared google document and create a record of the criteria there."
   ]
  },
  {
   "cell_type": "markdown",
   "metadata": {},
   "source": [
    "---\n",
    "<a id=\"review\"></a>\n",
    "# 3. Review project ideas\n",
    "\n",
    "In another shared Word Document, also shared by your instructor,  are all of the ideas that you, as a class, came up with as possible project ideas. In your pre-class assignment, you spent some time thinking about which ideas you were most interested in.\n",
    "\n",
    "For this part of the assignment, each group will be assigned a subset of the project ideas as indicated in the Word Document and each group will review that subset of ideas:\n",
    ">Which ones do you think should either be kept or thrown out based on the selection criteria we came up with? You may want to think back to some of the thoughts you had in your pre-class assignment. You may also need to poke around online a bit to figure out if the project will meet the selection criteria.\n",
    "\n",
    "You're going to record your thoughts in the shared document.\n",
    "\n",
    "If you aren't particularly familiar with a topic, see if you can find a bit of information online about the topic. If you can't, well that tells you something doesn't it?\n",
    "\n",
    "Keep in mind that if you think an idea should be thrown out, it doesn't mean it was a fundamentally bad idea, it just may not be a good choice for a semester project in this course. There are lot of great ideas that sometimes prove to be overly difficult once you dig a bit further. Or, sometimes it's hard to find something to pursue that hasn't already been done by someone else.\n",
    "\n",
    "After you do your review, we'll discuss all of these as a class.\n",
    "\n",
    "**You'll have ~20 minutes to do this.**"
   ]
  },
  {
   "cell_type": "markdown",
   "metadata": {},
   "source": [
    "<font size=+3>&#9998;</font> Do This - Erase the contents of this cell and replace it with the project idea research your group generated. This can be copy-pasted from what your group put in the shared Google Document (double-click on this text to edit this cell, and hit shift+enter to save the text)"
   ]
  },
  {
   "cell_type": "markdown",
   "metadata": {},
   "source": [
    "---\n",
    "<a id=\"apply\"></a>\n",
    "# 4. Applying selection criteria and finalizing project list\n",
    "\n",
    "As a class, we'll discuss your thoughts as to which projects meet the selection criteria and we'll remove all of the projects that don't meet the criteria. We can also add on new project ideas that you might have come up with, assuming they also meet the criteria. This finalized list will be the one we use to choose projects from.\n",
    "\n",
    "**Following this class period**, the instructor will send out a link to a survey along with a list of all the final topics so that you can vote on which ones you're most interested in pursuing for a semester project. These votes will be used to form groups.\n",
    "\n",
    "**If you don't complete the forthcoming survey, you will be randomly assigned to a group!**\n",
    "\n",
    "---\n",
    "<a id=\"dig\"></a>\n",
    "# 5. Digging into the projects\n",
    "\n",
    "With any time that remains, we're going to divide up the surviving projects between the class and you will be responsible for doing a bit of further digging to find information that would be useful to complete the projects they are assigned. Note: this does not mean you are responsible for doing any of the projects you're researching today!\n",
    "\n",
    "To ensure that today's work is beneficial to all groups, record your additional findings in \"Project Idea Research\" document."
   ]
  },
  {
   "cell_type": "markdown",
   "metadata": {},
   "source": [
    "----"
   ]
  },
  {
   "cell_type": "markdown",
   "metadata": {},
   "source": [
    "-----\n",
    "### Congratulations, we're done!\n",
    "\n",
    "Now, you just need to submit this assignment by uploading it to the course <a href=\"https://d2l.msu.edu/\">Desire2Learn</a> web page for today's submission folder (Don't forget to add your names in the first cell)."
   ]
  },
  {
   "cell_type": "markdown",
   "metadata": {},
   "source": [
    "&#169; Copyright 2025, The Department of Computational Mathematics, Science and Engineering at Michigan State University."
   ]
  },
  {
   "cell_type": "markdown",
   "metadata": {},
   "source": [
    "Good luck with project exploration!"
   ]
  }
 ],
 "metadata": {
  "kernelspec": {
   "display_name": "Python [conda env:base] *",
   "language": "python",
   "name": "conda-base-py"
  },
  "language_info": {
   "codemirror_mode": {
    "name": "ipython",
    "version": 3
   },
   "file_extension": ".py",
   "mimetype": "text/x-python",
   "name": "python",
   "nbconvert_exporter": "python",
   "pygments_lexer": "ipython3",
   "version": "3.12.2"
  },
  "latex_envs": {
   "LaTeX_envs_menu_present": true,
   "autoclose": false,
   "autocomplete": true,
   "bibliofile": "biblio.bib",
   "cite_by": "apalike",
   "current_citInitial": 1,
   "eqLabelWithNumbers": true,
   "eqNumInitial": 1,
   "hotkeys": {
    "equation": "Ctrl-E",
    "itemize": "Ctrl-I"
   },
   "labels_anchors": false,
   "latex_user_defs": false,
   "report_style_numbering": false,
   "user_envs_cfg": false
  },
  "widgets": {
   "application/vnd.jupyter.widget-state+json": {
    "state": {},
    "version_major": 2,
    "version_minor": 0
   }
  }
 },
 "nbformat": 4,
 "nbformat_minor": 4
}
