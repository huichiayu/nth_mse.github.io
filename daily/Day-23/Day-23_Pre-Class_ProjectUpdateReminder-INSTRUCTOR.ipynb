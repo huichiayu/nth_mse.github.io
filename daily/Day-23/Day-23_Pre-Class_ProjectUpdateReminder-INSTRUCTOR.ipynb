{
 "cells": [
  {
   "cell_type": "markdown",
   "metadata": {},
   "source": [
    "###ANSWER\n",
    "(for making sure this gets removed)\n",
    "\n",
    "### INSTRUCTOR CONTENT -- REMOVE THIS IN STUDENT VERSION\n",
    "#### The goals this PCA are:\n",
    "\n",
    "* Remind students that they will be giving project updates in class!"
   ]
  },
  {
   "cell_type": "markdown",
   "metadata": {},
   "source": [
    "# Pre-Class Assignment: Project updates!\n",
    "# Day 23\n",
    "# CMSE 202"
   ]
  },
  {
   "cell_type": "markdown",
   "metadata": {},
   "source": [
    "## <p style=\"text-align: right;\"> &#9989; Put your name here</p>"
   ]
  },
  {
   "cell_type": "markdown",
   "metadata": {},
   "source": [
    "## Goals for today's pre-class assignment \n",
    "\n",
    "1. Make sure you're ready to give your project \"sneak peek\" presentation in class!\n",
    "\n",
    "## Assignment instructions\n",
    "\n",
    "**This assignment is due by 11:59 p.m. the day before class** and should be uploaded into the appropriate \"Pre-class assignments\" submission folder in the Desire2Learn website. "
   ]
  },
  {
   "cell_type": "markdown",
   "metadata": {},
   "source": [
    "---\n",
    "## REMINDER: Preparing for a project update/sneak peek!\n",
    "\n",
    "Hopefully, after meeting a couple times in class, you've had a meeting or two with your project group at this point. As you approach the end of the semester, we want to check in and see how your group is doing on making some forward progress on your project.\n",
    "\n",
    "**You will be presenting a progress update/\"sneak peek\" of your project to the rest of the class during the \"Day 23\" class period.**, which is the class period that follows the Thanksgiving break. This will be a short presentation (~4 minutes) that will give you a chance to share your project with the rest of the class and get some feedback from your peers.\n",
    "\n",
    "Given this, **you should find a time to meet with your group either in person or on Zoom or have a conversation via Slack such that you can prepare to give this presentation**.\n",
    "\n",
    "Ideally, by the time of these presentations you should have made **substantial progress** on your projects. As such, this presentation should serve a \"sneak peek\" or preview of your project before the full presentation that you'll give **one week later**.\n",
    "\n",
    "We expect you to have implemented a methodology to answer your question and have results from this implementation. Your presentation should focus on these results. For the \"sneak peek\" of your project, you will:\n",
    "\n",
    "1. Give a **4-minute** presentation to the rest of class. (Make sure someone in your group will be able to connect to an HDMI cable to present! Or, make sure you can share a copy of your slides with your instructor ahead of time.)\n",
    "2. Present a **short** set of slides (Google Slides is probably the easiest option for collaboration) that highlight the following:\n",
    "    * The question you’re answering (this should be a refined/revised version of the question your group was formed based on)\n",
    "    * A brief description of your methodology (no more than two sentences) and a list of the Python tools you are using.\n",
    "    * Your results up to this point, in the form of visualizations\n",
    "    * The conclusions you’ve drawn from these preliminary results\n",
    "    * Plans for finishing your project\n",
    "3. Create an opportunity for everyone in your group to say something.\n",
    "4. **Stop at 4 minutes**. We want to make sure every group has time to present, so pay attention to time.\n",
    "\n",
    "**Important Reminder**: your final project will be due by:\n",
    "\n",
    "- **11:59PM on Sunday, December 3, if you are in Section 001 or Section 002**.\n",
    "- **11:59PM on Monday, December 4, if you are in Section 003**.\n",
    "\n",
    "Your final project will be due before the second to last class period and you will present on one of the last two days of class. **You may wish to review the project grading rubric and requirements available [here](https://msu-cmse-courses.github.io/cmse202-F23-jb/course_materials/CMSE202_FinalProjectRequirementsAndGradingRubric.html) on the course website.**"
   ]
  },
  {
   "cell_type": "markdown",
   "metadata": {},
   "source": [
    "---\n",
    "## What should you turn in for this pre-class assignment?\n",
    "\n",
    "Instead of turning in a copy of this notebook, turn in a copy of the slides that you group will be presenting in class."
   ]
  },
  {
   "cell_type": "markdown",
   "metadata": {},
   "source": [
    "---\n",
    "## Follow-up Questions\n",
    "\n",
    "Copy and paste the following questions into the appropriate box in the assignment survey include below and answer them there. (Note: You'll have to fill out the assignment number and go to the \"NEXT\" section of the survey to paste in these questions.)\n",
    "\n",
    "1. Do you currently have any concerns about finishing your project on time? If so, what are they? If not, what are you most excited about or proud of with your project?"
   ]
  },
  {
   "cell_type": "markdown",
   "metadata": {},
   "source": [
    "----\n",
    "# Assignment wrap-up\n",
    "\n",
    "Please fill out the form that appears when you run the code below.  **You must completely fill this out in order to receive credit for the assignment!**"
   ]
  },
  {
   "cell_type": "code",
   "execution_count": null,
   "metadata": {},
   "outputs": [],
   "source": [
    "from IPython.display import HTML\n",
    "HTML(\n",
    "\"\"\"\n",
    "<iframe \n",
    "\tsrc=\"https://cmse.msu.edu/cmse202-pc-survey\" \n",
    "\twidth=\"800px\" \n",
    "\theight=\"600px\" \n",
    "\tframeborder=\"0\" \n",
    "\tmarginheight=\"0\" \n",
    "\tmarginwidth=\"0\">\n",
    "\tLoading...\n",
    "</iframe>\n",
    "\"\"\"\n",
    ")"
   ]
  },
  {
   "cell_type": "markdown",
   "metadata": {},
   "source": [
    "---------\n",
    "### Congratulations, you're done with your pre-class assignment!\n",
    "\n",
    "Now, you just need to submit this assignment by uploading it to the course <a href=\"https://d2l.msu.edu/\">Desire2Learn</a> web page for today's submission folder (Don't forget to add your name in the first cell)."
   ]
  },
  {
   "cell_type": "markdown",
   "metadata": {},
   "source": [
    "&#169; Copyright 2023, The Department of Computational Mathematics, Science and Engineering at Michigan State University"
   ]
  }
 ],
 "metadata": {
  "anaconda-cloud": {},
  "interpreter": {
   "hash": "767d51c1340bd893661ea55ea3124f6de3c7a262a8b4abca0554b478b1e2ff90"
  },
  "kernelspec": {
   "display_name": "Python 3 (ipykernel)",
   "language": "python",
   "name": "python3"
  },
  "language_info": {
   "codemirror_mode": {
    "name": "ipython",
    "version": 3
   },
   "file_extension": ".py",
   "mimetype": "text/x-python",
   "name": "python",
   "nbconvert_exporter": "python",
   "pygments_lexer": "ipython3",
   "version": "3.10.6"
  },
  "widgets": {
   "application/vnd.jupyter.widget-state+json": {
    "state": {},
    "version_major": 2,
    "version_minor": 0
   }
  }
 },
 "nbformat": 4,
 "nbformat_minor": 4
}
