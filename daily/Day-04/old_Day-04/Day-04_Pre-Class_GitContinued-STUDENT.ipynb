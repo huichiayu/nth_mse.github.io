{
 "cells": [
  {
   "cell_type": "markdown",
   "metadata": {},
   "source": [
    "# Pre-Class Assignment: Git with it! (repository production and collaboration)\n",
    "# Day 4\n",
    "# CMSE 202\n",
    "\n",
    "<div align=\"left\"><img src=\"https://miro.medium.com/max/3200/1*8fPMdk2Cd5iJQ7dI7jXCbA.jpeg\" alt=\"git logo\" width=400></div>\n",
    "\n",
    "### <p style=\"text-align: right;\"> &#9989; Put your name here</p>"
   ]
  },
  {
   "cell_type": "markdown",
   "metadata": {},
   "source": [
    "## Goals for today's pre-class assignment \n",
    "\n",
    "1. Review some additional Git and GitHub functionality to increase your comfort with using Git to track your code and collaborate with others\n",
    "\n",
    "### Assignment instructions\n",
    "\n",
    "Watch the videos below, do the readings linked to below the videos, and complete the assigned programming problems.  Please get started early, and come to office hours if you have any questions! You should also use Slack to help each other thought any issues you run into!\n",
    "\n",
    "\n",
    "**This assignment is due by 11:59 p.m. the day before class,** and should be uploaded into the appropriate \"Pre-class assignments\" submission folder.  Submission instructions can be found at the end of the notebook."
   ]
  },
  {
   "cell_type": "markdown",
   "metadata": {},
   "source": [
    "----\n",
    "\n",
    "## 1. Continuing to get to know Git\n",
    "**The original content used for this assignment was created by Dirk Colbry (CMSE faculty member and previous CMSE 202 instructor) and was developed for use in his CMSE 802 course**\n",
    "\n",
    "As you've seen so far, Git is a version control system used for tracking changes in code repositories. The content in this tutorial continues along our path of learning ```git```. As a reminder, the three basic categories are:\n",
    "\n",
    "1. Consumer of files\n",
    "2. Producers of files\n",
    "3. Collaborators to files\n",
    "\n",
    "A complete set of the resources used in these tutorials can be reviewed here (you may want to book mark them for future reference):\n",
    "\n",
    "- [Git Slides](https://docs.google.com/presentation/d/1bDvwJJ5umOEFuoXqekOe9_aFOhX3Pudgv9_EiI-P0eA/edit)\n",
    "- [Entire Git Video Playlist](https://www.youtube.com/playlist?list=PLqPfbT7gwVP_AlE6HeDQUJsG4nUbGyeh3)\n",
    "\n",
    "We'll start off by reviewing some of the elements you had an opportunity to explore in class and then we'll take a look at some new git functionality.\n",
    "\n",
    "### 1.0 Review of setting up a new repository on GitHub\n",
    "\n",
    "If you'd like a brief refresher on what you did in class, watch the following video for a tutorial on how to create a new git repository using the [GitHub.com](http://github.com) website. GitHub is the site we will be using most of the time in class.\n",
    "\n",
    "If you're interested in how you would do this using the [MSU GitLab](https://gitlab.msu.edu/) server, you can watch [this video](https://youtu.be/6_cegMFG0Pw)."
   ]
  },
  {
   "cell_type": "code",
   "execution_count": null,
   "metadata": {},
   "outputs": [],
   "source": [
    "# GitHub Init -- https://www.youtube.com/playlist?list=PLqPfbT7gwVP_AlE6HeDQUJsG4nUbGyeh3\n",
    "from IPython.display import YouTubeVideo\n",
    "YouTubeVideo(\"dpeHlFm8SYU\",width=800,height=450)"
   ]
  },
  {
   "cell_type": "markdown",
   "metadata": {},
   "source": [
    "Summary the the commands used in this video:\n",
    "\n",
    "``` bash\n",
    "git clone URL\n",
    "ls -lah\n",
    "git status\n",
    "```"
   ]
  },
  {
   "cell_type": "markdown",
   "metadata": {},
   "source": [
    "#### Practice setting up another GitHub repository\n",
    "\n",
    "To make sure you've got the hang of this, you're going to try setting up a new GitHub repository for this assignment.\n",
    "\n",
    "**&#9989; Do This**:\n",
    "1. Make sure you're logged into [GitHub](https://github.com).\n",
    "2. Create a new **private** GitHub repository from inside the GitHub interface called `day04-pre-class-repo`\n",
    "     * Initialize the repository with a README file\n",
    "     * If you want, explore your options for also initializing the repository with a .gitignore file and a LICENSE file.\n",
    "3. Once you've set up your new repository, `git clone` the file so that you have a copy of it in your `~/CMSE202/repositories` folder on JupyterHub or your computer.\n",
    "\n",
    "<font color=\"red\">**Reminder**</font>: During the summer of 2021, GitHub updated their security protocols to prevent GitHub users from cloning private repositories using just their GitHub password. Instead of using passwords, GitHub requires that you set up a unique \"personal access token\" that expires after a predetermined amount of time to increase the overall security and privacy of GitHub-hosted repositories. You should have set one of these up in class, but if you didn't, lost track of the token, or the token no longer seems to be working you can set up one now.\n",
    "\n",
    "Directions for setting up a personal access token can be found here: https://docs.github.com/en/github/authenticating-to-github/keeping-your-account-and-data-secure/creating-a-personal-access-token (**Note**: you only need to set up a personal access token with \"**repo**\" access for things to work).\n",
    "\n",
    "<font color=\"red\">**You need the token to be able to clone a private repository.**</font> Once you use the token once, the token should get stored and used again as necessary, but if it doesn't you'll need to have it handy somewhere.\n",
    "\n",
    "As a reminder, if you are prompted for your GitHub username and password, **use your personal access token as your password**.\n",
    "\n",
    "**&#9989; Question 1**: What is the purpose of the `.gitignore` file? If you're not sure, you might need to do a bit of internet searching."
   ]
  },
  {
   "cell_type": "markdown",
   "metadata": {},
   "source": [
    "<font size=+3>&#9998;</font> Do This - Erase the contents of this cell and replace it with your answer to the above question!  (double-click on this text to edit this cell, and hit shift+enter to save the text)"
   ]
  },
  {
   "cell_type": "markdown",
   "metadata": {},
   "source": [
    "There are a few different steps involved in making changes to a git repository when you are acting as the \"Producer\" of new content. The following section provides a refresher on what this process looks like, but if you're feeling pretty good about editing files, committing your changes, and pushing them back to a remote server, you can [jump here](#update-git-repo) and test it out.\n",
    "\n",
    "### 1.1 Updating your repository (Producer)\n",
    "\n",
    "Once you've created a repository, you want to get good at committing changes.  It is important that modifications are committed early and often so that git can do what it does well and track your files.  Committing files is a two step process.\n",
    "\n",
    "1. First you want to use the ```git add FILENAME``` command to add new files or files you have changed to your \"cart\". Ideally the changes are related to each other. \n",
    "\n",
    "```bash\n",
    "    git add FILENAME\n",
    "```\n",
    "\n",
    "2. Once all of the files have been added to your \"cart\" you can commit them by using the ```git commit -m \"COMMIT MESSAGE\"``` command.  In this case the \"COMMIT MESSAGE\" is a note describing what you did.  It is important that the note is a good description so you can find it later if you need it.  \n",
    "\n",
    "```bash\n",
    "    git commit -m \"COMMIT MESSAGE\"\n",
    "```\n",
    "\n",
    "3. Once you have committed your changes you may also want to issue a ```git push``` to push your changes up to the centralized repository (GitHub or GitLab) as a safe backup and to share with your collaborators. \n",
    "\n",
    "```bash\n",
    "    git push \n",
    "```\n",
    "\n",
    "If you want to see this in action, watch the following video. If you think, you've got the hang of it, [jump here](#update-git-repo) and test it out."
   ]
  },
  {
   "cell_type": "code",
   "execution_count": null,
   "metadata": {},
   "outputs": [],
   "source": [
    "# Git add and commit - - https://www.youtube.com/playlist?list=PLqPfbT7gwVP_AlE6HeDQUJsG4nUbGyeh3\n",
    "from IPython.display import YouTubeVideo\n",
    "YouTubeVideo(\"GTM-h5xX2Lk\",width=800,height=450)"
   ]
  },
  {
   "cell_type": "markdown",
   "metadata": {},
   "source": [
    "Summary of the commands used in this video (note: some of them might be new to you):\n",
    "``` bash\n",
    "ls\n",
    "ls -lah\n",
    "git log\n",
    "cd FOLDERNAME\n",
    "cat > NEWFILENAME\n",
    "python NEWFILENAME.py\n",
    "pytest NEWTESTFILE.py\n",
    "cat status\n",
    "vi FILENAME\n",
    "fg\n",
    "git add FOLDERNAME/FILENAME\n",
    "git commit -m \"DESCRIPTION\"\n",
    "git push\n",
    "```"
   ]
  },
  {
   "cell_type": "markdown",
   "metadata": {},
   "source": [
    "<a id=\"update-git-repo\"></a>"
   ]
  },
  {
   "cell_type": "markdown",
   "metadata": {},
   "source": [
    "**&#9989; Do This**:\n",
    "Using your new `day04-pre-class-repo`, test that everything is working by doing the following:\n",
    "* edit the `README.md` file\n",
    "* commit your changes\n",
    "* `git push` them back to the GitHub server. **Double-check that they show up on the web interface!**"
   ]
  },
  {
   "cell_type": "markdown",
   "metadata": {},
   "source": [
    "---\n",
    "### 2. Further mechanisms for Producing and Consuming files\n",
    "\n",
    "### 2.1 Creating your first git \"branch\" (Producer)\n",
    "\n",
    "Branches are a powerful and important tool when using git.  However, some folks are never exposed to this extra functionalty, thus missing out on their utility and power! Once you understand how they work you will likely find ways to use them all the time (sort of like git itself). \n",
    "\n",
    "Branches are a great location for doing new work in your git repositories. Branches are a safe place to store changes to files without fear of running into issues with work that others might be doing on the same repository.  Anytime you want to change files, it is good to get into the habit of making sure you are making and committing those changes to a branch.  \n",
    "\n",
    "To create a branch just type the following:\n",
    "\n",
    "```bash\n",
    "    git branch BRANCHNAME\n",
    "```\n",
    "\n",
    "Once you have a new branch, you can list all of your branches (including the default \"master\" or \"main\" branch) and see which one you are on using the following command:\n",
    "\n",
    "```bash\n",
    "    git branch\n",
    "    # Notice the lack of a BRANCHNAME here!\n",
    "```\n",
    "\n",
    "To switch between branches just use the ```git checkout``` command with the BRANCHNAME:\n",
    "\n",
    "```bash\n",
    "    git checkout BRANCHNAME\n",
    "```\n",
    "\n",
    "**Watch the following video to see this in action**:"
   ]
  },
  {
   "cell_type": "code",
   "execution_count": null,
   "metadata": {},
   "outputs": [],
   "source": [
    "# Creating a branch -- https://www.youtube.com/playlist?list=PLqPfbT7gwVP_AlE6HeDQUJsG4nUbGyeh3\n",
    "from IPython.display import YouTubeVideo\n",
    "YouTubeVideo(\"X0jbrdemjjs\",width=800,height=450)"
   ]
  },
  {
   "cell_type": "markdown",
   "metadata": {},
   "source": [
    "Summary of the commands used in this video:\n",
    "``` bash\n",
    "git status\n",
    "git pull\n",
    "ls\n",
    "ls -lah\n",
    "clear\n",
    "git branch\n",
    "git branch BRANCHNAME\n",
    "git checkout BRANCHNAME\n",
    "vi FILENAME\n",
    "cat > NEWFILENAME\n",
    "git add FILENAME NEWFILENAME\n",
    "git commit -m \"DESCRIPTION\"\n",
    "```"
   ]
  },
  {
   "cell_type": "markdown",
   "metadata": {},
   "source": [
    "**&#9989; Do This**:\n",
    "Let's test out a bit of branching using your new `day04-pre-class-repo`. Try to go through the following steps to create a new branch, commit changes to it, and then move between that branch and the main branch:\n",
    "\n",
    "1. In your `day04-pre-class-repo` folder, make sure any outstanding changes have been committed and push to your repository. Double-check this with `git status`.\n",
    "\n",
    "2. With a fully up-to-date repository, create a new branch called `testing`:\n",
    "\n",
    "``` bash\n",
    "git branch testing\n",
    "```\n",
    "\n",
    "3. Use `git branch` to confirm that you now have this new branch in your list of all branches.\n",
    "\n",
    "4. \"Checkout\" (switch to) this new branch using the following command:\n",
    "\n",
    "``` bash\n",
    "git checkout testing\n",
    "```\n",
    "\n",
    "5. Confirm that you are now on this new branch using `git status`. At the top of the status message, it should tell you which branch you are on.\n",
    "\n",
    "6. Once you're in your new `testing` branch, create a new python script called `hello_world.py` that contains a simple [\"Hello, world!\" program](https://www.programiz.com/python-programming/examples/hello-world). Once you've finished your script save and close it.\n",
    "\n",
    "7. `add` and `commit` your new `hello_world.py` script to your testing branch and then try running `git log` to see that you've made a new commit to your new branch.\n",
    "\n",
    "8. If it looks like everything is good, now you're going to try switching back to your main/master branch to see what happens when you do. Running the following command:\n",
    "\n",
    "``` bash\n",
    "git checkout main\n",
    "```\n",
    "> It's possible that your \"main\" branch\" will be called \"master\". If `main` doesn't work, try `master` instead.\n",
    "\n",
    "9. At this point, you should find that the `hello_world.py` file you created is gone(!) -- what happened? Because that file is part of your other branch, it no longer exists when you're working inside the \"main/master\" branch. Convince yourself that git is still safely keeping track of your file by switching back to your `testing` branch with:\n",
    "\n",
    "``` bash\n",
    "git checkout testing\n",
    "```\n",
    "\n",
    "10. Confirm that your `hello_world.py` file as returned and breathe a deep sigh of relief!"
   ]
  },
  {
   "cell_type": "markdown",
   "metadata": {},
   "source": [
    "### 2.2 Pulling in updates from the main/master branch (Consumer)\n",
    "\n",
    "So, now we have two branches. The main/master branch has all of the changes made by the primary developer (in this case it's you, but it could also be the course instructor or the original owner of the code).  The second branch has the name you provided, `testing`. This secondary branch is where you can do all of your development work and commit your changes.  But what do you do when there are new changes on the main/master branch that you want to bring into your `testing` branch? To do this we will need to run the ```git merge``` command and fix any conflicts that come up.\n",
    "\n",
    "**Watch the following video for a walkthrough of this:**"
   ]
  },
  {
   "cell_type": "code",
   "execution_count": null,
   "metadata": {},
   "outputs": [],
   "source": [
    "# Merging the master/main branch -- https://www.youtube.com/playlist?list=PLqPfbT7gwVP_AlE6HeDQUJsG4nUbGyeh3\n",
    "from IPython.display import YouTubeVideo\n",
    "YouTubeVideo(\"Byp7TFk5jYw\",width=800,height=450)"
   ]
  },
  {
   "cell_type": "markdown",
   "metadata": {},
   "source": [
    "Summary of the commands used in this video:\n",
    "``` bash\n",
    "git branch\n",
    "cat > NEWSFILENAME\n",
    "vi FILENAME\n",
    "git add NEWFILENAME FILENAME\n",
    "git push\n",
    "git pull\n",
    "ls\n",
    "cat FILENAME\n",
    "cat NEWFILENAME\n",
    "git checkout BRANCH\n",
    "git merge origin master\n",
    "```"
   ]
  },
  {
   "cell_type": "markdown",
   "metadata": {},
   "source": [
    "**&#9989; Do This**: Since you are the main/only developer on your `day04-pre-class-repo` try going through the process of making changes in the main/master branch (which you have permission to do) and merging them into your `testing` branch. Essentially, try doing the following:\n",
    "\n",
    "1. Make sure you are on the `main` or `master` branch and then edit files or add new files and make sure you commit them to the repository.\n",
    "2. Once you've done that, use the examples in the video to see if you can successfully merge those new main/master changes into the `testing` branch."
   ]
  },
  {
   "cell_type": "markdown",
   "metadata": {},
   "source": [
    "<font size=+3>&#9998;</font> Do This - Erase the contents of this cell and replace it with any issues you ran into when you trying to experiment with merging files across branches."
   ]
  },
  {
   "cell_type": "markdown",
   "metadata": {},
   "source": [
    "-----\n",
    "### 3. Collaborating with Git/GitHub\n",
    "\n",
    "Up until now we have been mostly consumers or primary developers of our git repository. Now we want to think about how to give some of our changes to other developers and be part of a community of software developers. The ultimate goal is to learn how to navigate actual collaboration without getting into each other's way.\n",
    "\n",
    "### 3.1 Issuing a pull/merge request (Collaborator)\n",
    "\n",
    "The main idea here is to do all of our code development work and package up all of our suggested changes to the main/master inside our own, separate branch and then \"send\" that branch to the lead developers or our collaborators for review before they are merged into the repository. If they like what they see they can `pull` or `merge` (two words to basically mean the same thing) our branch into the main/master branch.  This process has been given the name \"pull request\" or \"merge request\" depending on what system you are working on.  \n",
    "\n",
    "The idea behind a pull/merge request is so common that [github.com](http://github.com) and [gitlab.msu.edu](http://gitlab.msu.edu) both have the commands built right into the web interface to make the process as easy as possible.  \n",
    "\n",
    "The following video will walk you though a basic pull/merge request when you have write permissions on a repository, which is what you will do most of the time in this course.  This is common for small groups but less common on big open source software projects.  Most of the time every developer does not have write permissions on the main/master branch as doing so would allow more opportunities for unintentional changes to the main code repository. "
   ]
  },
  {
   "cell_type": "code",
   "execution_count": null,
   "metadata": {},
   "outputs": [],
   "source": [
    "# Git Pull Request - https://www.youtube.com/playlist?list=PLqPfbT7gwVP_AlE6HeDQUJsG4nUbGyeh3\n",
    "from IPython.display import YouTubeVideo\n",
    "YouTubeVideo(\"pcn6AdM0qB4\",width=800,height=450)"
   ]
  },
  {
   "cell_type": "markdown",
   "metadata": {},
   "source": [
    "Summary of the commands used in this video:\n",
    "``` bash\n",
    "pwd\n",
    "ls\n",
    "git status\n",
    "git branch BRANCHNAME\n",
    "git checkout BRANCHNAME\n",
    "clear\n",
    "vi FILENAME\n",
    "cat FILENAME\n",
    "git add FILENAME\n",
    "git commit -m \"DESCRIPTION\"\n",
    "git push origin BRANCHNAME\n",
    "```"
   ]
  },
  {
   "cell_type": "markdown",
   "metadata": {},
   "source": [
    "**Good work!** This concludes our introduction to more of Git's functionality. In class, you'll have an opportunity to practice some of these things with your group!"
   ]
  },
  {
   "cell_type": "markdown",
   "metadata": {},
   "source": [
    "---\n",
    "## Follow-up Questions\n",
    "\n",
    "Copy and paste the following questions into the appropriate box in the assignment survey include below and answer them there. (Note: You'll have to fill out the section number and the assignment number and go to the \"NEXT\" section of the survey to paste in these questions.)\n",
    "\n",
    "1. Explain, in your own words, why \"branches\" in Git can be useful and give an example of how you might use this functionality when working on a coding project.\n",
    "2. Are you having any persistent issues with using Git at this time? If so, are you using the MSU JupyterHub server or are you trying to run things locally on your computer?\n"
   ]
  },
  {
   "cell_type": "markdown",
   "metadata": {},
   "source": [
    "----\n",
    "\n",
    "# Assignment wrap-up\n",
    "\n",
    "Hopefully you were able to get through all of that! We'll be trouble-shooting any issues you had, working with remote git repositories, and testing out some more complicated git commands in class.\n",
    "\n",
    "Please fill out the form that appears when you run the code below.  **You must completely fill this out in order to receive credit for the assignment!**"
   ]
  },
  {
   "cell_type": "code",
   "execution_count": null,
   "metadata": {},
   "outputs": [],
   "source": [
    "from IPython.display import HTML\n",
    "HTML(\n",
    "\"\"\"\n",
    "<iframe \n",
    "\tsrc=\"https://cmse.msu.edu/cmse202-pc-survey\" \n",
    "\twidth=\"800px\" \n",
    "\theight=\"600px\" \n",
    "\tframeborder=\"0\" \n",
    "\tmarginheight=\"0\" \n",
    "\tmarginwidth=\"0\">\n",
    "\tLoading...\n",
    "</iframe>\n",
    "\"\"\"\n",
    ")\n"
   ]
  },
  {
   "cell_type": "markdown",
   "metadata": {},
   "source": [
    "---------\n",
    "### Congratulations, you're done with your pre-class assignment!\n",
    "\n",
    "Now, you just need to submit this assignment by uploading it to the course <a href=\"https://d2l.msu.edu/\">Desire2Learn</a> web page for the appropriate pre-class submission folder (Don't forget to add your name in the first cell)."
   ]
  },
  {
   "cell_type": "markdown",
   "metadata": {},
   "source": [
    "&#169; Copyright 2021,  Department of Computational Mathematics, Science and Engineering at Michigan State University"
   ]
  }
 ],
 "metadata": {
  "anaconda-cloud": {},
  "kernelspec": {
   "display_name": "Python 3 (ipykernel)",
   "language": "python",
   "name": "python3"
  },
  "language_info": {
   "codemirror_mode": {
    "name": "ipython",
    "version": 3
   },
   "file_extension": ".py",
   "mimetype": "text/x-python",
   "name": "python",
   "nbconvert_exporter": "python",
   "pygments_lexer": "ipython3",
   "version": "3.10.6"
  },
  "widgets": {
   "application/vnd.jupyter.widget-state+json": {
    "state": {},
    "version_major": 2,
    "version_minor": 0
   }
  }
 },
 "nbformat": 4,
 "nbformat_minor": 4
}
