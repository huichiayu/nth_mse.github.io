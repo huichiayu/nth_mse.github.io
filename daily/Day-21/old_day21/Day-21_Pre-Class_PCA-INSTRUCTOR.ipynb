{
 "cells": [
  {
   "cell_type": "markdown",
   "metadata": {},
   "source": [
    "###ANSWER\n",
    "(for making sure this gets removed)\n",
    "\n",
    "### INSTRUCTOR CONTENT -- REMOVE THIS IN STUDENT VERSION\n",
    "#### The goals this PCA are:\n",
    "\n",
    "* Introduce students to Principle Component Analysis and get them to think a little bit about how this might help with feature reduction and improving separability of classes.\n",
    "* Prompt them to prepare to give/create a project update."
   ]
  },
  {
   "cell_type": "markdown",
   "metadata": {},
   "source": [
    "# Pre-Class Assignment: Principal Component Analysis\n",
    "# Day 21\n",
    "# CMSE 202"
   ]
  },
  {
   "cell_type": "markdown",
   "metadata": {},
   "source": [
    "## <p style=\"text-align: right;\"> &#9989; Put your name here</p>"
   ]
  },
  {
   "cell_type": "markdown",
   "metadata": {},
   "source": [
    "## Goals for today's pre-class assignment \n",
    "\n",
    "1. Review of Python Modules\n",
    "2. Matrices and their eigenvalues/eigenvectors\n",
    "3. Introduction to Principal Component Analysis\n",
    "4. Example Application: The Iris data set\n",
    "5. Understand the importance of scaling data\n",
    "\n",
    "## Assignment instructions\n",
    "\n",
    "**This assignment is due by 11:59 p.m. the day before class** and should be uploaded into the appropriate \"Pre-class assignments\" submission folder in the Desire2Learn website. "
   ]
  },
  {
   "cell_type": "markdown",
   "metadata": {},
   "source": [
    "----\n",
    "## 1. Review of new (and old) Python modules\n",
    "Run the following cell to import the modules we will be using in this pre-class assignment."
   ]
  },
  {
   "cell_type": "code",
   "execution_count": null,
   "metadata": {},
   "outputs": [],
   "source": [
    "%pylab\n",
    "%matplotlib inline\n",
    "\n",
    "import scipy.linalg\n",
    "import sklearn.decomposition as dec\n",
    "import sklearn.datasets as ds\n",
    "import seaborn as sns\n",
    "\n",
    "sns.set_context(\"talk\")"
   ]
  },
  {
   "cell_type": "markdown",
   "metadata": {},
   "source": [
    "&#9989; **Question**: Identify the 5 modules we've imported, and their function. (the first one is done for you and the last one should be pretty familiar to you)"
   ]
  },
  {
   "cell_type": "markdown",
   "metadata": {},
   "source": [
    " <font size=+3>&#9998;</font> Do This - Erase this first line of this cell and finish describing the remaining four modules. Use appropriate markdown to make your answer readable. (double-click on this text to edit this cell, and hit shift+enter to save the text)\n",
    " \n",
    "1. **numpy** (imported as np): A platform for numerical and scientific computing in Python. It provides multi-dimensional arrays (e.g., those from linear algebra) and tools for working with them.\n",
    "2. ...\n",
    "3. ...\n",
    "4. ...\n",
    "5. ..."
   ]
  },
  {
   "cell_type": "markdown",
   "metadata": {},
   "source": [
    "---\n",
    "\n",
    "## 2. Developing some intuition about principal component analysis\n",
    "\n",
    "The following videos (developed at Georgia Tech) are to help you gain an understanding and intuition about principal component analysis (PCA). PCA is one of the main techniques used in data science, exploratory data analysis and modeling.\n",
    "\n",
    "You can watch the entire course here:\n",
    "\n",
    "https://youtu.be/Ki2iHgKxRBo?list=PLAwxTw4SYaPl0N6-e1GvyLp5-MUMUjOKo\n",
    "\n",
    "It's a great video series but we don't have time to cover it all.\n",
    "\n",
    "&#9989; **Do This:** Watch the following video for an overview of PCA (don't worry about any references to \"readings\" from their course)."
   ]
  },
  {
   "cell_type": "code",
   "execution_count": null,
   "metadata": {},
   "outputs": [],
   "source": [
    "from IPython.display import YouTubeVideo\n",
    "YouTubeVideo(\"kw9R0nD69OU\",width=640,height=360)"
   ]
  },
  {
   "cell_type": "markdown",
   "metadata": {},
   "source": [
    "&#9989; **Question**: PCA is trying to find the directions with maximal what? "
   ]
  },
  {
   "cell_type": "markdown",
   "metadata": {},
   "source": [
    "<font size=+3>&#9998;</font> Do This - Erase the contents of this cell and replace it with your answer to the above question!  (double-click on this text to edit this cell, and hit shift+enter to save the text)"
   ]
  },
  {
   "cell_type": "markdown",
   "metadata": {},
   "source": [
    "&#9989; **Question**: What does it mean when two components are orthogonal?"
   ]
  },
  {
   "cell_type": "markdown",
   "metadata": {},
   "source": [
    "<font size=+3>&#9998;</font> Do This - Erase the contents of this cell and replace it with your answer to the above question!  (double-click on this text to edit this cell, and hit shift+enter to save the text)"
   ]
  },
  {
   "cell_type": "code",
   "execution_count": null,
   "metadata": {},
   "outputs": [],
   "source": [
    "from IPython.display import YouTubeVideo\n",
    "YouTubeVideo(\"_nZUhV-qhZA\",width=640,height=360)"
   ]
  },
  {
   "cell_type": "markdown",
   "metadata": {},
   "source": [
    "&#9989; **Question**: This video introduces a concept of \"features\" in a dataset. What are the names of the two original features represented in the graph shown in this video? What parts of the graph would represent the new features after the PCA is performed? "
   ]
  },
  {
   "cell_type": "markdown",
   "metadata": {},
   "source": [
    "<font size=+3>&#9998;</font> Do This - Erase the contents of this cell and replace it with your answer to the above question!  (double-click on this text to edit this cell, and hit shift+enter to save the text)"
   ]
  },
  {
   "cell_type": "code",
   "execution_count": null,
   "metadata": {},
   "outputs": [],
   "source": [
    "from IPython.display import YouTubeVideo\n",
    "YouTubeVideo(\"kuzJJgPBrqc\",width=640,height=360)"
   ]
  },
  {
   "cell_type": "markdown",
   "metadata": {},
   "source": [
    "&#9989; **Question**: What does it mean if eigenvalue of a dimension is zero? How might performing PCA allow one to reduce the number of features we need to model to our data to get accurate results when making predictions?"
   ]
  },
  {
   "cell_type": "markdown",
   "metadata": {},
   "source": [
    "<font size=+3>&#9998;</font> Do This - Erase the contents of this cell and replace it with your answer to the above question!  (double-click on this text to edit this cell, and hit shift+enter to save the text)"
   ]
  },
  {
   "cell_type": "markdown",
   "metadata": {},
   "source": [
    "---\n",
    "\n",
    "## 3. Example Application: The Iris data set\n",
    "\n",
    "Let's go back to the Iris dataset (the dataset that just keeps on giving!), but this time let's just load it using `sklearn`"
   ]
  },
  {
   "cell_type": "code",
   "execution_count": null,
   "metadata": {
    "tags": []
   },
   "outputs": [],
   "source": [
    "# Load the dataset from sklearn and inspect it a bit\n",
    "iris = ds.load_iris()\n",
    "data = iris.data\n",
    "target = iris.target\n",
    "print(data.shape)"
   ]
  },
  {
   "cell_type": "markdown",
   "metadata": {},
   "source": [
    "Remember some of the details about the Iris data set. The three classes in the Iris dataset are represented by numbers in the 'target' vector:\n",
    "\n",
    "1. Iris-setosa (n=50)\n",
    "2. Iris-versicolor (n=50)\n",
    "3. Iris-virginica (n=50)\n",
    "\n",
    "There are four measurements (features) for each flower in the  'data' matrix: \n",
    "\n",
    "1. sepal length in cm\n",
    "2. sepal width in cm\n",
    "3. petal length in cm\n",
    "4. petal width in cm\n",
    "    \n",
    "Example image for what these features correspond to on an actual iris:"
   ]
  },
  {
   "cell_type": "markdown",
   "metadata": {},
   "source": [
    "<img src=\"http://nbviewer.jupyter.org/github/rasbt/pattern_classification/blob/master/Images/iris_petal_sepal.png\" alt=\"Image of flower\" width=400px>"
   ]
  },
  {
   "cell_type": "markdown",
   "metadata": {},
   "source": [
    "#### Our Goal:\n",
    "\n",
    "Create a model that given the four measurements can predicts the iris class.  We will use PCA to find axes that make it easier to separate the data into classes.  "
   ]
  },
  {
   "cell_type": "markdown",
   "metadata": {},
   "source": [
    "### Step A: Try to visualize the features by plotting them."
   ]
  },
  {
   "cell_type": "markdown",
   "metadata": {},
   "source": [
    "&#9989; **Question**: Modify the following code to draw a scatterplot of the data for just the first and second axes of the data matrix (index 0 and 1).  Hint: use a similar vector notation as Step C below."
   ]
  },
  {
   "cell_type": "code",
   "execution_count": null,
   "metadata": {},
   "outputs": [],
   "source": [
    "# DO THIS: Modify the code below to do a scatter plot with respect to the first two variables of the data\n",
    "# i.e. all rows but just the first and second columns.\n",
    "\n",
    "#plt.scatter(  ,   , c=target, s=30, cmap=plt.cm.rainbow);\n",
    "\n",
    "# Don't forget to add axis labels\n"
   ]
  },
  {
   "cell_type": "code",
   "execution_count": null,
   "metadata": {},
   "outputs": [],
   "source": [
    "### ANSWER ###\n",
    "plt.scatter(data[:,0],data[:,1], c=target, s=30, cmap=plt.cm.rainbow);\n",
    "plt.xlabel(\"Sepal Length [cm]\")\n",
    "plt.ylabel(\"Sepal Width [cm]\")\n",
    "\n"
   ]
  },
  {
   "cell_type": "markdown",
   "metadata": {},
   "source": [
    "If done correctly the above should show different color dots for each of the different iris types.  As you can see, the classes do not separate clearly as two of the classes have a significant amount of overlap. Perhaps there are two new directions (axes) that separate the data better?"
   ]
  },
  {
   "cell_type": "markdown",
   "metadata": {},
   "source": [
    "### Step B: Transform the data in terms of its principal components\n",
    "Now we will use a PCA algorithm. Fortunately there is a simple PCA function available in the `scikit-learn` module [link](https://scikit-learn.org/stable/modules/generated/sklearn.decomposition.PCA.html#sklearn.decomposition.PCA)"
   ]
  },
  {
   "cell_type": "code",
   "execution_count": null,
   "metadata": {},
   "outputs": [],
   "source": [
    "pca = dec.PCA()\n",
    "pca_data = pca.fit_transform(data)"
   ]
  },
  {
   "cell_type": "markdown",
   "metadata": {},
   "source": [
    "Out of curiosity, let's print the eigenvalues. The eigenvalues are stored in the **attribute** `explained_variance`. Remember from the video that low eigenvalues indicate less information. Big eigenvalues indicate more information. However, the eigenvalues are just numbers and do not indicate much so let's print also their ratio."
   ]
  },
  {
   "cell_type": "code",
   "execution_count": null,
   "metadata": {},
   "outputs": [],
   "source": [
    "print(\"The eigenvalues are: \", pca.explained_variance_)\n",
    "print(\"Their ratios are: \", pca.explained_variance_ratio_)"
   ]
  },
  {
   "cell_type": "markdown",
   "metadata": {},
   "source": [
    "As you can see the last three eigenvalues are pretty small and do not provide much information. As a matter of fact 92% percent of the information is stored in the first eigenvalue.\n",
    "\n",
    "However, these eigenvalues do not tell us which is the most important feature in the dataset. Principal Component Analysis is a global algorithm that \"rotates\" the data into new dimensions. \n",
    "Mathematically speaking the components are the eigenvectors. Let's print the components and check that they are orthogonal"
   ]
  },
  {
   "cell_type": "code",
   "execution_count": null,
   "metadata": {},
   "outputs": [],
   "source": [
    "for i, eigv in zip([\"first\", \"second\", \"third\", \"fourth\"], pca.components_):\n",
    "    print(f\"The elements of the {i} eigenvector are: \", eigv) "
   ]
  },
  {
   "cell_type": "markdown",
   "metadata": {},
   "source": [
    "&#9989; **Do this:** Write some code to check that all the eigenvectors are orthogonal to each other"
   ]
  },
  {
   "cell_type": "code",
   "execution_count": null,
   "metadata": {},
   "outputs": [],
   "source": [
    "# Put your code here"
   ]
  },
  {
   "cell_type": "code",
   "execution_count": null,
   "metadata": {},
   "outputs": [],
   "source": [
    "### ANSWER\n",
    "for i, eigv1 in enumerate(pca.components_):\n",
    "    for j, eigv2 in enumerate(pca.components_[i + 1:,], i + 1):\n",
    "        print(f\"The dot product between the {i}th and {j}th eigenvectors is: {np.dot(eigv1, eigv2):.4e}\")"
   ]
  },
  {
   "cell_type": "markdown",
   "metadata": {},
   "source": [
    "### Step C: Now plot the transformed data in terms of its first two principal components"
   ]
  },
  {
   "cell_type": "code",
   "execution_count": null,
   "metadata": {
    "tags": []
   },
   "outputs": [],
   "source": [
    "fig, ax = plt.subplots(1,2, figsize = (16, 6))\n",
    "# Plot the original data\n",
    "ax[0].scatter(iris.data[:,0], iris.data[:,1], c=target, s=30, cmap=plt.cm.rainbow)\n",
    "ax[0].set_title(\"Original Data\")\n",
    "ax[0].set_xlabel(\"Sepal Length [cm]\")\n",
    "ax[0].set_ylabel(\"Sepal Width [cm]\")\n",
    "# Plot the transformed data\n",
    "ax[1].scatter(pca_data[:,0], pca_data[:,1], c=target, s=30, cmap=plt.cm.rainbow)\n",
    "ax[1].set_title(\"Transformed Data\")\n",
    "ax[1].set_xlabel(\"PCA Component 1\")\n",
    "ax[1].set_ylabel(\"PCA Component 2\")"
   ]
  },
  {
   "cell_type": "markdown",
   "metadata": {},
   "source": [
    "&#9989; **Question:**  Describe in words the differences between the above graphs. They are representing the same data. Why would we prefer to use the features produced by Step C?"
   ]
  },
  {
   "cell_type": "markdown",
   "metadata": {},
   "source": [
    "<font size=+3>&#9998;</font> Do This - Erase the contents of this cell and replace it with your answer to the above question!  (double-click on this text to edit this cell, and hit shift+enter to save the text)"
   ]
  },
  {
   "cell_type": "markdown",
   "metadata": {},
   "source": [
    "## 5. Scaling Data\n",
    "\n",
    "\n",
    "As mentioned above PCA finds the dimensions with the highest variance. However, it can be the case that some of the features in your dataset lie on very different ranges. For example, think of a dataset containing the salaries and heights of all the people in a company. The range of salaries is much wider than the range of heights, e.g. from less than 15 USD/hour for the clerk to Millions of USD for the CEO while the heights of employees changes only over several inches. "
   ]
  },
  {
   "cell_type": "markdown",
   "metadata": {},
   "source": [
    "&#9989; **Do this:** Read the two guides below and answer the following questions\n",
    "\n",
    "[Importance of Feature Scaling](https://scikit-learn.org/stable/auto_examples/preprocessing/plot_scaling_importance.html)\n",
    "\n",
    "[PreProcessing Data](https://scikit-learn.org/stable/modules/preprocessing.html#preprocessing-scaler) Read up to section 6.3.1.3 included\n",
    "\n",
    "[Compare the effect of different scalers on data with outliers](https://scikit-learn.org/stable/auto_examples/preprocessing/plot_all_scaling.html#sphx-glr-auto-examples-preprocessing-plot-all-scaling-py) \n",
    "\n",
    "\n",
    "1. Why is it important to scale data ?\n",
    "\n",
    "2. What scaler is used in the first article?\n",
    "\n",
    "3. How many linear scaler can you find in `scikit-learn` ? List all the ones you find.\n",
    "\n",
    "4. How do you preprocess the data when it has outliers ? What scaler do you use and why ?\n",
    "\n",
    "5. List at least two non-linear transformers ?"
   ]
  },
  {
   "cell_type": "markdown",
   "metadata": {},
   "source": [
    "<font size=+3>&#9998;</font> Do This - Erase the contents of this cell and replace it with your answer to the above question!  (double-click on this text to edit this cell, and hit shift+enter to save the text)"
   ]
  },
  {
   "cell_type": "code",
   "execution_count": null,
   "metadata": {},
   "outputs": [],
   "source": [
    "### ANSWER\n",
    "\n"
   ]
  },
  {
   "cell_type": "markdown",
   "metadata": {},
   "source": [
    "---\n",
    "## 6. Group Project Check-ins\n",
    "\n",
    "### Summary\n",
    "    * Give a short (3-5 minutes) presentation on your project\n",
    "    * Check-in and ensure your project is in a good place for final presentation\n",
    "    * Presentation should focus on results\n",
    "    * Give feedback to classmates on their projects\n",
    "    * As a group, meet with your instructor to discuss implementing your feedback\n",
    "\n",
    "### Why are we doing this?\n",
    "These presentations (effectively) serve as a second checkpoint for your projects. We want to ensure that you and your group have made solid progress in completing your project, and are ready to give your full presentations the following week. This will also serve as an opportunity for you to give and receive feedback on your projects.  \n",
    "Finally, you will be expected to meet with your instructor (as a group) to go over your feedback and make a plan to finish out your project. Your instructor will provide further details on the scheduling of these meetings.\n",
    "\n",
    "### Presentations: What will you need to do?\n",
    "By the time of these presentations you should be ~75% of the way done with your projects. We expect you to have implemented a methodology to answer your question and have results from this implementation. Your presentation should focus on these results.\n",
    "\n",
    "You will have 3-5 minutes to talk through your slides Your presentation must include the following elements:\n",
    "\n",
    "    - The question you’re answering\n",
    "    - A brief description of your methodology (no more than two sentences)\n",
    "    - Your results, in the form of visualizations\n",
    "    - The conclusions you’ve drawn from these results\n",
    "    - Plans for finishing your project\n",
    "    \n",
    "Your instructor will share either a Google Drive or OneDrive with the entire class, where you can upload your slide(s). Make sure to upload your slide(s) early so you can handle any formatting issues that may come up.\n",
    "\n",
    "\n",
    "### Feedback: What will you need to do?\n",
    "We will provide you with a form to fill out to give feedback to other groups on their projects. For each group, you will be asked to: \n",
    "Give a brief (one-sentence) description of the project\n",
    "Evaluate their presentation on the five criteria listed above\n",
    "Make at least one suggestion for how to improve the project\n",
    "\n",
    "### Schedule a meeting\n",
    "Your group will also need to schedule a time to meet with your instructor to discuss the feedback you receive. During this time you will sketch out a plan for finishing up your project. More details on the scheduling process will be provided by your instructor.\n",
    "\n",
    "\n",
    "Your final project will be due at:\n",
    "\n",
    "- **11:59PM on Sunday December 3 if you are in Section 001 or Section 002**.\n",
    "- **11:59PM on Monday December 4 if you are in Section 003**.\n",
    "\n",
    "**You may wish to review the project grading rubric and requirements available [here](https://msu-cmse-courses.github.io/cmse202-F22-jb/course_materials/CMSE202_FinalProjectRequirementsAndGradingRubric.html) on the course website.**"
   ]
  },
  {
   "cell_type": "markdown",
   "metadata": {},
   "source": [
    "---\n",
    "## Follow-up Questions\n",
    "\n",
    "Copy and paste the following questions into the appropriate box in the assignment survey include below and answer them there. (Note: You'll have to fill out the assignment number and go to the \"NEXT\" section of the survey to paste in these questions.)\n",
    "\n",
    "1. When doing a principle component analysis (PCA), the goal is to find a new set of axes that maximize what?\n",
    "\n",
    "2. When you perform PCA, what do large eigenvalues indicate versus small eigenvalues?\n",
    "\n",
    "3. Why is important to scale data ? \n",
    "\n",
    "4. How do you deal with outliers ?"
   ]
  },
  {
   "cell_type": "markdown",
   "metadata": {},
   "source": [
    "----\n",
    "# Assignment wrap-up\n",
    "\n",
    "Please fill out the form that appears when you run the code below.  **You must completely fill this out in order to receive credit for the assignment!**"
   ]
  },
  {
   "cell_type": "code",
   "execution_count": null,
   "metadata": {},
   "outputs": [],
   "source": [
    "from IPython.display import HTML\n",
    "HTML(\n",
    "\"\"\"\n",
    "<iframe \n",
    "\tsrc=\"https://cmse.msu.edu/cmse202-pc-survey\" \n",
    "\twidth=\"800px\" \n",
    "\theight=\"600px\" \n",
    "\tframeborder=\"0\" \n",
    "\tmarginheight=\"0\" \n",
    "\tmarginwidth=\"0\">\n",
    "\tLoading...\n",
    "</iframe>\n",
    "\"\"\"\n",
    ")"
   ]
  },
  {
   "cell_type": "markdown",
   "metadata": {},
   "source": [
    "---------\n",
    "### Congratulations, you're done with your pre-class assignment!\n",
    "\n",
    "Now, you just need to submit this assignment by uploading it to the course <a href=\"https://d2l.msu.edu/\">Desire2Learn</a> web page for today's submission folder (Don't forget to add your name in the first cell)."
   ]
  },
  {
   "cell_type": "markdown",
   "metadata": {},
   "source": [
    "&#169; Copyright 2021 Department of Computational Mathematics, Science and Engineering at Michigan State University"
   ]
  }
 ],
 "metadata": {
  "anaconda-cloud": {},
  "kernelspec": {
   "display_name": "Python 3 (ipykernel)",
   "language": "python",
   "name": "python3"
  },
  "language_info": {
   "codemirror_mode": {
    "name": "ipython",
    "version": 3
   },
   "file_extension": ".py",
   "mimetype": "text/x-python",
   "name": "python",
   "nbconvert_exporter": "python",
   "pygments_lexer": "ipython3",
   "version": "3.10.6"
  },
  "widgets": {
   "application/vnd.jupyter.widget-state+json": {
    "state": {},
    "version_major": 2,
    "version_minor": 0
   }
  }
 },
 "nbformat": 4,
 "nbformat_minor": 4
}
