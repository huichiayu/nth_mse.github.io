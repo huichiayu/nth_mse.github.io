{
 "cells": [
  {
   "cell_type": "markdown",
   "metadata": {},
   "source": [
    "# Pre-class Assignment: The Perceptron Classifier (a simple neural network)\n",
    "# Day 17\n",
    "# CMSE 202\n",
    "\n",
    "## Goals for today's pre-class assignment\n",
    "\n",
    "</p>\n",
    "\n",
    "1. What is the basis of a neural network?\n",
    "1. Understand one type of early neural network,  the \"perceptron\" \n",
    "\n",
    "## Assignment instructions\n",
    "\n",
    "**This assignment is due by 11:59 p.m. the day before class** and should be uploaded into the appropriate \"Pre-class assignments\" submission folder in the Desire2Learn website. "
   ]
  },
  {
   "cell_type": "markdown",
   "metadata": {},
   "source": [
    "## <p style=\"text-align: right;\"> &#9989; Put your name here</p>\n"
   ]
  },
  {
   "cell_type": "markdown",
   "metadata": {},
   "source": [
    "---\n",
    "## 1. Neural Networks\n",
    "\n",
    "As we continue to peer into the world of machine learning, we're going to spend some time in class working on building a simple ML classifier by hand. While understanding how to use pre-existing tools is an important skill, looking \"under the hood\" to understand a bit more about how some of these tools works can be extremely valuable as well!\n",
    "\n",
    "When people talk about \"deep learning\" and \"artificial intelligence\", it is often the case that they are talking (in one way or another) about neural networks. As the name implies, a neural network is a large network of simple processing elements, often referred to a \"neurons\", as inspired by the neural architecture of the brain. Here is a little video to learn a bit about what a neural network is:"
   ]
  },
  {
   "cell_type": "code",
   "execution_count": null,
   "metadata": {
    "ExecuteTime": {
     "end_time": "2022-11-04T14:39:33.369141Z",
     "start_time": "2022-11-04T14:39:33.295352Z"
    }
   },
   "outputs": [],
   "source": [
    "from IPython.display import YouTubeVideo\n",
    "from datetime import timedelta\n",
    "start=int(timedelta(hours=0, minutes=2, seconds=26).total_seconds())\n",
    "\n",
    "YouTubeVideo(\"4qVRBYAdLAo\", width=800, height=450, start = start)"
   ]
  },
  {
   "cell_type": "markdown",
   "metadata": {},
   "source": [
    "&#9989; **Question 1**: Answer the following questions:\n",
    "\n",
    "A. How do neurons communicate ? \n",
    "\n",
    "B. How does a neuron compare to a perceptron ? That is, what similarities and/or difference do you see between a neuron and a perceptron ? \n",
    "\n",
    "C. What was Dr. Frank Rosenblatt trying to classify ? What is Jabril trying to teach John Greene Bot?\n",
    "\n",
    "D. What were the features Jabril was using to differentiate between donuts and bagels?\n",
    "\n",
    "E. How many true-positives did John Green Bot get ? True-negatives? False-positives ? False-negatives?\n"
   ]
  },
  {
   "cell_type": "markdown",
   "metadata": {},
   "source": [
    "<font size=+3>&#9998;</font> Record your answers below.\n"
   ]
  },
  {
   "cell_type": "markdown",
   "metadata": {},
   "source": [
    "---\n",
    "## 2. An introduction to the Perceptron model\n",
    "\n",
    "The following video will introduce you to the idea of the first kind of neural network ever developed, the [Perceptron](https://en.wikipedia.org/wiki/Perceptron). It is important to pay attention to this video as we will be implementing a perceptron during our next in-class assignment, but don't worry if you don't understand absolutely everything discussed in the video quite yet. We'll talk about the concept in class as well.\n",
    "\n",
    "**Watch the video and answer the questions.**"
   ]
  },
  {
   "cell_type": "code",
   "execution_count": null,
   "metadata": {
    "ExecuteTime": {
     "end_time": "2022-11-04T15:09:11.146366Z",
     "start_time": "2022-11-04T15:09:10.991416Z"
    }
   },
   "outputs": [],
   "source": [
    "from IPython.display import YouTubeVideo\n",
    "YouTubeVideo(\"4Gac5I64LM4\",width=800,height=450)"
   ]
  },
  {
   "cell_type": "markdown",
   "metadata": {},
   "source": [
    "&#9989; **Question 2**: What important characteristic must data have in order for us to be using a Perceptron classifier? "
   ]
  },
  {
   "cell_type": "markdown",
   "metadata": {},
   "source": [
    "<font size=+3>&#9998;</font> Do This - Erase the contents of this cell and replace it with your answer to the above question!  (double-click on this text to edit this cell, and hit shift+enter to save the text)"
   ]
  },
  {
   "cell_type": "markdown",
   "metadata": {},
   "source": [
    "&#9989; **Question 3**: How is this approach similar to the logistic regression classifier we used previously? How is it different?"
   ]
  },
  {
   "cell_type": "markdown",
   "metadata": {
    "ExecuteTime": {
     "end_time": "2022-11-04T15:45:21.042903Z",
     "start_time": "2022-11-04T15:45:21.039663Z"
    }
   },
   "source": [
    "<font size=+3>&#9998;</font> Do This - Erase the contents of this cell and replace it with your answer to the above question!  (double-click on this text to edit this cell, and hit shift+enter to save the text)"
   ]
  },
  {
   "cell_type": "markdown",
   "metadata": {},
   "source": [
    "&#9989; **Question 4**: What is the update rule used to improve the weights of the neurons?\n"
   ]
  },
  {
   "cell_type": "markdown",
   "metadata": {},
   "source": [
    "<font size=+3>&#9998;</font> Do This - Erase the contents of this cell and replace it with your answer to the above question!  (double-click on this text to edit this cell, and hit shift+enter to save the text)"
   ]
  },
  {
   "cell_type": "markdown",
   "metadata": {},
   "source": [
    "&#9989; **Question 5**: What role does the \"learning rate\" play in the Perceptron model? How does changing the learning rate impact the behavior of the perceptron model works?"
   ]
  },
  {
   "cell_type": "markdown",
   "metadata": {
    "ExecuteTime": {
     "end_time": "2022-11-04T15:57:17.705859Z",
     "start_time": "2022-11-04T15:57:17.702666Z"
    }
   },
   "source": [
    "<font size=+3>&#9998;</font> Do This - Erase the contents of this cell and replace it with your answer to the above question!  (double-click on this text to edit this cell, and hit shift+enter to save the text)"
   ]
  },
  {
   "cell_type": "markdown",
   "metadata": {},
   "source": [
    "---\n",
    "## 3. What to expect in class\n",
    "\n",
    "In class, you're going to work with your group to see if you can code up a Perceptron classifier by hand. You'll do this by building a new Python class, so if you haven't thought about your Python-based object-oriented programming skills recently, you may want to remind yourself about some of the key elements that go into building a class. How do you define a class? How do you define class attributes? How do you define class methods?\n",
    "\n",
    "If you could use a refresher on how to build Python classes, you may want to watch the following video."
   ]
  },
  {
   "cell_type": "code",
   "execution_count": null,
   "metadata": {
    "ExecuteTime": {
     "end_time": "2022-11-04T12:37:43.760146Z",
     "start_time": "2022-11-04T12:37:43.644589Z"
    }
   },
   "outputs": [],
   "source": [
    "from IPython.display import YouTubeVideo\n",
    "YouTubeVideo(\"apACNr7DC_s\",width=800,height=450)"
   ]
  },
  {
   "cell_type": "markdown",
   "metadata": {},
   "source": [
    "---\n",
    "## Follow-up Questions\n",
    "\n",
    "Copy and paste the following questions into the appropriate box in the assignment survey include below and answer them there. (Note: You'll have to fill out the assignment number and go to the \"NEXT\" section of the survey to paste in these questions.)\n",
    "\n",
    "1. What important characteristic must data have in order for us to be using a Perceptron classifier? (you should be able to copy you answer to Question 2 from above)\n",
    "\n",
    "2. How is the Perceptron classifier approach similar to the logistic regression classifier we used previously? How is it different? (you should be able to copy you answer to Question 3 from above)"
   ]
  },
  {
   "cell_type": "markdown",
   "metadata": {},
   "source": [
    "----\n",
    "\n",
    "## Assignment wrap-up\n",
    "\n",
    "\n",
    "Please fill out the form that appears when you run the code below.  **You must completely fill this out in order to receive credit for the assignment!**\n"
   ]
  },
  {
   "cell_type": "code",
   "execution_count": null,
   "metadata": {
    "ExecuteTime": {
     "end_time": "2022-11-04T15:37:47.155768Z",
     "start_time": "2022-11-04T15:37:47.152127Z"
    },
    "scrolled": true
   },
   "outputs": [],
   "source": [
    "from IPython.display import HTML\n",
    "HTML(\n",
    "\"\"\"\n",
    "<iframe \n",
    "\tsrc=\"https://cmse.msu.edu/cmse202-pc-survey\" \n",
    "\twidth=\"800px\" \n",
    "\theight=\"600px\" \n",
    "\tframeborder=\"0\" \n",
    "\tmarginheight=\"0\" \n",
    "\tmarginwidth=\"0\">\n",
    "\tLoading...\n",
    "</iframe>\n",
    "\"\"\"\n",
    ")"
   ]
  },
  {
   "cell_type": "markdown",
   "metadata": {},
   "source": [
    "---------\n",
    "### Congratulations, you're done with your pre-class assignment!\n",
    "\n",
    "Now, you just need to submit this assignment by uploading it to the course <a href=\"https://d2l.msu.edu/\">Desire2Learn</a> web page for today's submission folder (Don't forget to add your names in the first cell).\n",
    "\n",
    "\n",
    "&#169; Copyright 2021 Department of Computational Mathematics, Science and Engineering at Michigan State University"
   ]
  }
 ],
 "metadata": {
  "interpreter": {
   "hash": "31f2aee4e71d21fbe5cf8b01ff0e069b9275f58929596ceb00d14d90e3e16cd6"
  },
  "kernelspec": {
   "display_name": "Python 3",
   "language": "python",
   "name": "python3"
  },
  "language_info": {
   "codemirror_mode": {
    "name": "ipython",
    "version": 3
   },
   "file_extension": ".py",
   "mimetype": "text/x-python",
   "name": "python",
   "nbconvert_exporter": "python",
   "pygments_lexer": "ipython3",
   "version": "3.8.8"
  },
  "latex_envs": {
   "LaTeX_envs_menu_present": true,
   "autoclose": false,
   "autocomplete": true,
   "bibliofile": "biblio.bib",
   "cite_by": "apalike",
   "current_citInitial": 1,
   "eqLabelWithNumbers": true,
   "eqNumInitial": 1,
   "hotkeys": {
    "equation": "Ctrl-E",
    "itemize": "Ctrl-I"
   },
   "labels_anchors": false,
   "latex_user_defs": false,
   "report_style_numbering": false,
   "user_envs_cfg": false
  }
 },
 "nbformat": 4,
 "nbformat_minor": 4
}
