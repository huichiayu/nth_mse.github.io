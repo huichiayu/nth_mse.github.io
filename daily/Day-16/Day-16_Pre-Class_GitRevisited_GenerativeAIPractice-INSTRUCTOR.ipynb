{
 "cells": [
  {
   "cell_type": "markdown",
   "metadata": {},
   "source": [
    "###ANSWER\n",
    "(for making sure this gets removed)\n",
    "\n",
    "### INSTRUCTOR CONTENT -- REMOVE THIS IN STUDENT VERSION\n",
    "#### The goals for this PCA are:\n",
    "1. Provide more exposure to the functionality of git. Specifically, the more collaborative aspects of Git.\n",
    "2. While the students watch more videos about git, also have them practice modifying their own repositories in preparation for working with group respositories in class.\n",
    "3. Gain some hands-on practice using Chat GPT 3.5 to generate python code\n",
    "4. Practice properly citing generative AI in code and answers"
   ]
  },
  {
   "cell_type": "markdown",
   "metadata": {},
   "source": [
    "# Pre-Class Assignment: Git with it! (collaborating with Git)\n",
    "# Day 16\n",
    "# CMSE 202\n",
    "\n",
    "<div align=\"left\"><img src=\"https://miro.medium.com/max/3200/1*8fPMdk2Cd5iJQ7dI7jXCbA.jpeg\" alt=\"git logo\" width=400></div>\n",
    "\n",
    "### <p style=\"text-align: right;\"> &#9989; Put your name here</p>"
   ]
  },
  {
   "cell_type": "markdown",
   "metadata": {},
   "source": [
    "## Goals for today's pre-class assignment \n",
    "\n",
    "1. Review some additional Git and GitHub functionality to increase your comfort with using Git to track your code and collaborate with others\n",
    "\n",
    "### Assignment instructions\n",
    "\n",
    "Watch the videos below, do the readings linked to below the videos, and complete the assigned programming problems.  Please get started early, and come to office hours if you have any questions! You should also use Slack to help each other thought any issues you run into!\n",
    "\n",
    "\n",
    "**This assignment is due by 11:59 p.m. the day before class,** and should be uploaded into the appropriate \"Pre-class assignments\" submission folder.  Submission instructions can be found at the end of the notebook."
   ]
  },
  {
   "cell_type": "markdown",
   "metadata": {},
   "source": [
    "---\n",
    "## 0. Revisiting Git\n",
    "\n",
    "In this pre-class assignment, we are going to revisit the versional control tool, Git. You've used Git a bit so far this semester mainly as a way of keep track of your own software development and solution generation. However, Git is also a powerful tool for collaboration. In this pre-class assignment, we are going to explore some of the collaborative features of Git as a way of preparing you to work in groups for your semester project.\n",
    "\n",
    "If you're feeling pretty rusty with Git at this point, **you may find it useful to revisit the Day 3 content from earlier in the semester**.\n",
    "\n",
    "As you work through the content that follows, **keep in mind that you will be expected to create and use a GitHub repository for your semester project and you should think about how you might make Git a valuable tool for collaborating with your group members.**"
   ]
  },
  {
   "cell_type": "markdown",
   "metadata": {
    "tags": []
   },
   "source": [
    "---\n",
    "## 1. Git Branches\n",
    "\n",
    "### 1.1 Why use branches?\n",
    "\n",
    "*Imagine you’re working on a new piece of code with your friend Jacob. During the development process, your code keeps throwing errors (perfectly normal). However, your friends (and collaborators) Mika and Navi are working on a separate chunk of code at the same time. When they try to test their code, they get stuck on errors from the code that you and Jacob are developing. You need to be able to push to the repo so you and Jacob can build off of one another’s work, but working in this way is causing significant difficulties for Mika and Navi. Working on an entirely new repo isn’t an option, either, since both teams want to keep track of their past commits.* \n",
    "\n",
    "### 1.1.1\n",
    "**What would be a solution to a problem like this?**"
   ]
  },
  {
   "cell_type": "markdown",
   "metadata": {
    "pycharm": {
     "name": "#%% md\n"
    }
   },
   "source": [
    "<font size=+3>&#9998;</font> Write your answer here."
   ]
  },
  {
   "cell_type": "markdown",
   "metadata": {},
   "source": [
    "<font size=+3>&#128064;</font> [**Watch the following video on branching in Git**](https://mediaspace.msu.edu/media/Git+Branching/1_g8j3g8sk) (<- click the link!)\n",
    "\n",
    "### 1.1.2\n",
    "\n",
    "**How could we use branches to solve the aforementioned problem?**"
   ]
  },
  {
   "cell_type": "markdown",
   "metadata": {
    "pycharm": {
     "name": "#%% md\n"
    }
   },
   "source": [
    "<font size=+3>&#9998;</font> Write your answer here."
   ]
  },
  {
   "cell_type": "markdown",
   "metadata": {},
   "source": [
    "### 1.2 Creating your first git \"branch\" \n",
    "\n",
    "Branches are a powerful and important tool when using git.  However, some folks are never exposed to this extra functionalty, thus missing out on their utility and power! Once you understand how they work you will likely find ways to use them all the time (sort of like git itself). \n",
    "\n",
    "Branches are a great location for doing new work in your git repositories. Branches are a safe place to store changes to files without fear of running into issues with work that others might be doing on the same repository.  Anytime you want to change files, it is good to get into the habit of making sure you are making and committing those changes to a branch.  \n",
    "\n",
    "To create a branch just type the following:\n",
    "\n",
    "```bash\n",
    "    git branch BRANCHNAME\n",
    "```\n",
    "\n",
    "Once you have a new branch, you can list all of your branches (including the default \"main\" branch) and see which one you are on using the following command:\n",
    "\n",
    "```bash\n",
    "    git branch\n",
    "    # Notice the lack of a BRANCHNAME here!\n",
    "```\n",
    "\n",
    "To switch between branches just use the ```git checkout``` command with the BRANCHNAME:\n",
    "\n",
    "```bash\n",
    "    git checkout BRANCHNAME\n",
    "```"
   ]
  },
  {
   "cell_type": "markdown",
   "metadata": {},
   "source": [
    "**&#9989; Do This**:\n",
    "Let's test out a bit of branching. Try to go through the following steps to create a new branch, commit changes to it, and then move between that branch and the main branch:\n",
    "\n",
    "1. Make a new repo called `day16-pre-class-repo`. Clone this repo into your `CMSE202/repositories` folder (you should have created this space as part of the Day 3 content from a while back).\n",
    "\n",
    "1. In your `day04-pre-class-repo` folder, make sure there are no outstanding changes haven't been committed and pushed to your repository. Double-check this with `git status`. There shouldn't be any changes since you just created this repository, but if there are for some reason, commit them, and push them to your GitHub repo.\n",
    "\n",
    "2. Create a new branch called `testing`:\n",
    "\n",
    "3. Use `git branch` command to confirm that you now have this new branch in your list of all branches.\n",
    "\n",
    "4. \"Checkout\" (switch to) this new branch using the following command:\n",
    "\n",
    "    ``` bash\n",
    "    git checkout testing\n",
    "    ```\n",
    "\n",
    "5. Confirm that you are now on this new branch using `git status`. At the top of the status message, it should tell you which branch you are on.\n",
    "\n",
    "6. Once you're in your new `testing` branch, create a new python script called `hello_world.py` that contains a simple [\"Hello, world!\" program](https://www.programiz.com/python-programming/examples/hello-world). Once you've finished your script save and close it. **You should be able to do this using `vim`, but it might have been a while since you've used this.** Feel free to create this \"`.py`\" file using whatever method you prefer.\n",
    "\n",
    "7. `commit` your new `hello_world.py` script to your testing branch and then try running `git log` to see that you've made a new commit to your new branch.\n",
    "\n",
    "8. If it looks like everything is good, now you're going to try switching back to your main branch to see what happens when you do. Running the following command:\n",
    "\n",
    "    ``` bash\n",
    "    git checkout main\n",
    "    ```\n",
    "\n",
    "\n",
    "9. At this point, you should find that the `hello_world.py` file you created is gone(!) -- what happened? Because that file is part of your other branch, it no longer exists when you're working inside the \"main\" branch. Convince yourself that git is still safely keeping track of your file by switching back to your `testing` branch with:\n",
    "\n",
    "    ``` bash\n",
    "    git checkout testing\n",
    "    ```\n",
    "\n",
    "10. Confirm that your `hello_world.py` file as returned and breathe a deep sigh of relief!"
   ]
  },
  {
   "cell_type": "markdown",
   "metadata": {
    "tags": []
   },
   "source": [
    "-----\n",
    "## 2. Collaborating with Git/GitHub\n",
    "\n",
    "### 2.1 Working on the same code\n",
    "\n",
    "*Now imagine that you and Jacob have finished the code you’re working on, and Mika and Navi have finished their code. You want to combine the two pieces of code into a single script, and you don’t want to do it by hand, since your code is hundreds of lines long.* \n",
    "\n",
    "### 2.1.1\n",
    "**Is there a tool/command in Git that might help you with this process? Search around and see if you can find one.** "
   ]
  },
  {
   "cell_type": "markdown",
   "metadata": {
    "pycharm": {
     "name": "#%% md\n"
    }
   },
   "source": [
    "<font size=+3>&#9998;</font> Write your answer here."
   ]
  },
  {
   "cell_type": "markdown",
   "metadata": {
    "tags": []
   },
   "source": [
    "<font size=+3>&#128064;</font> [**Watch the following video.**](https://mediaspace.msu.edu/media/Git+Merging/1_ycisqkxu) (<- click the link!)\n",
    "\n",
    "\n",
    "### 2.1.2\n",
    "\n",
    "**How could you use the concept in the video to solve the aforementioned problem?**"
   ]
  },
  {
   "cell_type": "markdown",
   "metadata": {
    "pycharm": {
     "name": "#%% md\n"
    }
   },
   "source": [
    "<font size=+3>&#9998;</font> Write your answer here."
   ]
  },
  {
   "cell_type": "markdown",
   "metadata": {},
   "source": [
    "### 2.1.3\n",
    "\n",
    "Back in the Day 3 ICA, you were asked to share a repo with your groupmates and have everyone contribute to the same file. If you can recall how things went when you did this, did you and your group run into an issue with everyone writing to the same file? Why or why not? (If your group didn't get to that part, try to guess whether there would have been an issue.)"
   ]
  },
  {
   "cell_type": "markdown",
   "metadata": {
    "pycharm": {
     "name": "#%% md\n"
    }
   },
   "source": [
    "<font size=+3>&#9998;</font> Write your answer here."
   ]
  },
  {
   "cell_type": "markdown",
   "metadata": {},
   "source": [
    "**&#9989; Do This**: Since you are the main/only developer on your `day04-pre-class-repo` try going through the process of making changes in the main branch (which you have permission to do) and merging them into your `testing` branch. Essentially, try doing the following:\n",
    "\n",
    "1. Make sure you are on the `main` branch then add some new files and make sure you commit them to the repository.\n",
    "2. Once you've done that, see if you can use the internet to figure out how to merge changes from the main branch into the `testing` branch. You might also find it useful to review this tool that we introduced you to in a previous PCA: https://learngitbranching.js.org/ (if you didn't have a chance to explore this tool previously, or you don't remember using this tool, **now would be a good time to work through the first *three* levels**)"
   ]
  },
  {
   "cell_type": "markdown",
   "metadata": {},
   "source": [
    "<font size=+3>&#9998;</font> Do This - Erase the contents of this cell and replace it with any issues you ran into when you trying to experiment with merging files across branches."
   ]
  },
  {
   "cell_type": "markdown",
   "metadata": {},
   "source": [
    "**Good work!** This concludes our introduction to more of Git's functionality. In class, you'll have an opportunity to practice some of these things with your group!"
   ]
  },
  {
   "cell_type": "markdown",
   "metadata": {},
   "source": [
    "---\n",
    "## 3. Practicing with Generative AI\n",
    "\n",
    "The following text is generated from:\n",
    "\n",
    "[1] OpenAI ChatGPT-3.5. Accessed on Sept 15, 2023 from https://chat.openai.com/.  Prompt chain:{'What is GPT-3'} \n",
    "\n",
    "> GPT-3, or Generative Pre-trained Transformer 3, is a state-of-the-art natural language processing (NLP) model developed by OpenAI. It's the third iteration in the GPT series of models and is known for its remarkable ability to understand and generate human-like text. Here are some key characteristics and features of GPT-3:\n",
    "\n",
    "> 1. **Scale:** GPT-3 is one of the largest language models, containing 175 billion parameters. The large scale of the model contributes to its impressive language understanding and generation capabilities.\n",
    "\n",
    "> 2. **Pre-training:** Like its predecessors, GPT-3 is pre-trained on a massive corpus of text from the internet. During pre-training, the model learns to predict the next word in a sentence, gaining a deep understanding of grammar, context, and semantics.\n",
    "\n",
    "> 3. **Fine-tuning:** GPT-3 can be fine-tuned on specific tasks or domains. This means it can be adapted for a wide range of NLP tasks, such as text generation, translation, summarization, question-answering, and more.\n",
    "\n",
    "> 4. **Human-like text generation:** GPT-3 is known for its ability to generate coherent and contextually relevant text. It can answer questions, write essays, create conversational agents, and perform various language-related tasks.\n",
    "\n",
    "> 5. **Zero-shot and few-shot learning:** GPT-3 can perform tasks with minimal examples or instructions, making it highly versatile. It can understand and execute tasks even when provided with very limited context.\n",
    "\n",
    "> 6. **Ethical considerations:** GPT-3 has sparked discussions about its potential for misuse, including generating misleading information, disinformation, or deepfakes. OpenAI has implemented ethical guidelines and usage policies to address these concerns.\n",
    "\n",
    "> GPT-3 has been widely used in a variety of applications, from chatbots and virtual assistants to content generation, language translation, and more. It has the potential to revolutionize the field of natural language processing and human-computer interaction.\n",
    "\n",
    "---\n",
    "### 3.1 Citing Generative AI in your code and work\n",
    "\n",
    "Citing sources in your work is necessary for several important reasons:\n",
    "\n",
    "1. **Giving Credit:** When you use someone else's ideas, research, or words in your work, it's essential to give proper credit to the original source. Citing acknowledges the intellectual property of others and shows respect for their contributions.\n",
    "\n",
    "2. **Avoiding Plagiarism:** Failure to cite sources can lead to plagiarism, which is a serious academic and ethical violation. Plagiarism occurs when you present someone else's work as your own. Proper citations help you avoid this.\n",
    "\n",
    "3. **Providing Evidence and Authority:** Citing reputable sources adds credibility and authority to your work. It demonstrates that your ideas are supported by existing research or expert opinions.\n",
    "\n",
    "4. **Allowing Verification:** Readers should be able to verify the claims and evidence you present in your work. By citing your sources, you allow others to find and review the same information.\n",
    "\n",
    "5. **Showing Your Research Process:** Proper citations demonstrate that you've done your research and have considered various perspectives and sources. It adds depth and reliability to your work.\n",
    "\n",
    "6. **Avoiding Legal Issues:** In some cases, failing to cite sources can lead to legal issues, especially if you use copyrighted material without permission.\n",
    "\n",
    "Adapted from: \n",
    "\n",
    "[2] OpenAI ChatGPT-3.5. Accessed on Sept 15, 2023 from https://chat.openai.com/.  Prompt chain:{'why is it necessary to cite a sources in work'} \n",
    "\n",
    "## Citation Requirements\n",
    "\n",
    "For this course (and recommended for anytime you use generative AI for the foreseeable future), you **must** cite every time you use any form of generative AI.  Your citation must include the following key items:\n",
    "\n",
    "1. **Author**: usually the company the created the AI system; Or the Author and specific AI model.  For example: `Open AI GPT-3.5`\n",
    "\n",
    "2. **Access Date**: Date the content was generated (for example: `Sept 15, 2023`)\n",
    "\n",
    "3. **Access Interface**: Include how the system was accessed, typically using a web URL.  Include the URL of the tool or other access such as an extension in a development enviroment (for example: `Accessed from https://chat.openai.com/ ` or `Accessed from extension in VS code`)\n",
    "\n",
    "4. **Prompts**: Provide the prompts or a summary of the prompts that generated the content (for example: `Prompt chain:{'how many licks does it take to get to the middle of a tootsie roll; please shorten that; can you write it in limerick form}`)\n",
    "\n",
    "For examples, see citations [1] and [2] above.\n",
    "\n",
    "\n"
   ]
  },
  {
   "cell_type": "markdown",
   "metadata": {},
   "source": [
    "\n",
    "### 3.2 Using multiple prompts to generate python code in Chat GPT-3.5\n",
    "\n",
    "Practice using Chat GPT to generate python code to accomplish the following task.  You can access Chat GPT-3.5 for free with a free account at: https://chat.openai.com/\n",
    "\n",
    "**QUESTION 3.2**: Generate a bar graph to display the undergraduate enrolloment at MSU for years 2019 through 2023.  Include a green color pallete to make it MSU colors.  Make sure to include a citation following the rules above.\n"
   ]
  },
  {
   "cell_type": "code",
   "execution_count": 18,
   "metadata": {},
   "outputs": [],
   "source": [
    "import pandas as pd\n",
    "# MSU Undergraduate Enrollment Data\n",
    "data = {\n",
    "    'Year': [2019, 2020, 2021, 2022, 2023],\n",
    "    'Undergrad_Enrollment': [39176, 38491,38574, 39201, 40483]\n",
    "}\n",
    "\n",
    "# Create a pandas DataFrame\n",
    "df = pd.DataFrame(data)\n"
   ]
  },
  {
   "cell_type": "code",
   "execution_count": 19,
   "metadata": {},
   "outputs": [],
   "source": [
    "# Put your code for 3.2 here; Include a citation for your code source"
   ]
  },
  {
   "cell_type": "code",
   "execution_count": 20,
   "metadata": {},
   "outputs": [
    {
     "data": {
      "image/png": "[encoded data removed]",
      "text/plain": [
       "<Figure size 720x432 with 1 Axes>"
      ]
     },
     "metadata": {},
     "output_type": "display_data"
    }
   ],
   "source": [
    "### ANSWER ###\n",
    "\n",
    "import matplotlib.pyplot as plt\n",
    "import pandas as pd\n",
    "\n",
    "# Define the custom MSU green color palette\n",
    "msu_colors = ['#076245', '#009342', '#7BA23F', '#00702C', '#D2D5D3']\n",
    "\n",
    "# Create the bar graph using the DataFrame\n",
    "df.plot(x='Year', y='Undergrad_Enrollment', kind='bar', color=msu_colors, legend=False, figsize=(10, 6))\n",
    "\n",
    "# Set labels and title\n",
    "plt.xlabel('Year')\n",
    "plt.ylabel('Undergraduate Enrollment')\n",
    "plt.title('MSU Undergraduate Enrollment (2019-2023)')\n",
    "\n",
    "# Display the plot\n",
    "plt.grid(axis='y', linestyle='--', alpha=0.7)\n",
    "plt.show()\n"
   ]
  },
  {
   "cell_type": "markdown",
   "metadata": {},
   "source": [
    "\n",
    "**QUESTION** 3.3 Using this data and Chat GPT, try to prompt Chat GPT to generate a linear regression model to predict the enrollment in 2025.  Be sure to use the fitting package that we used in class (`statsmodel`). What will be the enrollment in 2025 based on this model?  Make sure to include a citation following the rules above.\n"
   ]
  },
  {
   "cell_type": "code",
   "execution_count": 21,
   "metadata": {},
   "outputs": [],
   "source": [
    "# Put your code and citation for question 3.3 here"
   ]
  },
  {
   "cell_type": "code",
   "execution_count": 22,
   "metadata": {},
   "outputs": [
    {
     "name": "stdout",
     "output_type": "stream",
     "text": [
      "Predicted enrollment in 2027: 41179\n"
     ]
    }
   ],
   "source": [
    "### ANSWER ###\n",
    "import statsmodels.api as sm\n",
    "\n",
    "# Add a constant to the independent variable for the intercept\n",
    "X = sm.add_constant(df['Year'])\n",
    "\n",
    "# Fit a linear model\n",
    "model = sm.OLS(df['Undergrad_Enrollment'], X).fit()\n",
    "\n",
    "# Predict enrollment for 2027\n",
    "enrollment_2027 = model.predict([1, 2027])[0]\n",
    "\n",
    "print(f'Predicted enrollment in 2027: {enrollment_2027:.0f}')"
   ]
  },
  {
   "cell_type": "markdown",
   "metadata": {},
   "source": [
    "**QUESTION** 3.4 Using Chat GPT, try to prompt Chat GPT to generate a bar graph similar to what you see below.  You do not necessarily need to have the same predictions, but try to match the y-axis range, the ability to make predictions for the future years below, and ability to distinguish between the provided enrollment data and the predicted enrollment.   Make sure to include a citation following the rules above.\n",
    "\n",
    "<img width=500px src=\"https://raw.githubusercontent.com/msu-cmse-courses/cmse202-supplemental-data/main/images/msu_enrollment.png\">\n"
   ]
  },
  {
   "cell_type": "code",
   "execution_count": 23,
   "metadata": {},
   "outputs": [],
   "source": [
    "# Paste your code and citation for question 3.4 here"
   ]
  },
  {
   "cell_type": "code",
   "execution_count": 25,
   "metadata": {},
   "outputs": [
    {
     "data": {
      "text/plain": [
       "<Figure size 720x432 with 0 Axes>"
      ]
     },
     "metadata": {},
     "output_type": "display_data"
    },
    {
     "data": {
      "image/png": "[encoded data removed]",
      "text/plain": [
       "<Figure size 720x432 with 1 Axes>"
      ]
     },
     "metadata": {},
     "output_type": "display_data"
    }
   ],
   "source": [
    "### ANSWER ###\n",
    "import pandas as pd\n",
    "import statsmodels.api as sm\n",
    "import matplotlib.pyplot as plt\n",
    "\n",
    "# Data\n",
    "data = {\n",
    "    'Year': [2019, 2020, 2021, 2022, 2023],\n",
    "    'Undergrad_Enrollment': [39176, 38491, 38574, 39201, 40483]\n",
    "}\n",
    "\n",
    "# Create a pandas DataFrame\n",
    "df = pd.DataFrame(data)\n",
    "\n",
    "# Add a constant to the independent variable for the intercept\n",
    "X = sm.add_constant(df['Year'])\n",
    "\n",
    "# Fit a linear model\n",
    "model = sm.OLS(df['Undergrad_Enrollment'], X).fit()\n",
    "\n",
    "# Predict enrollments for 2024-2027\n",
    "years_future = [2024, 2025, 2026, 2027]\n",
    "enrollments_future = model.predict(sm.add_constant(years_future))\n",
    "\n",
    "# Add the predicted enrollments to the DataFrame\n",
    "df_future = pd.DataFrame({'Year': years_future, 'Predicted_Enrollment': enrollments_future})\n",
    "\n",
    "# Combine the actual and predicted data\n",
    "df_combined = pd.concat([df, df_future], ignore_index=True)\n",
    "\n",
    "# Custom color palette\n",
    "msu_colors = ['#076245', '#009342', '#7BA23F', '#00702C', '#D2D5D3']\n",
    "\n",
    "# Cool style\n",
    "plt.figure(figsize=(10, 6))\n",
    "plt.style.use('seaborn-darkgrid')  # Use a stylish theme\n",
    "\n",
    "# Create the bar graph\n",
    "ax = df_combined.plot(x='Year', y=['Undergrad_Enrollment', 'Predicted_Enrollment'], kind='bar', color=msu_colors, width=0.7, figsize=(10, 6))\n",
    "\n",
    "# Set the lower y-axis limit to start from a non-zero value\n",
    "ax.set_ylim(bottom=38000)  # Adjust this value as needed\n",
    "\n",
    "# Title and labels\n",
    "plt.title('MSU Undergraduate Enrollment (2019-2027)', fontsize=16, fontweight='bold')\n",
    "plt.xlabel('Year', fontsize=14)\n",
    "plt.ylabel('Enrollment', fontsize=14)\n",
    "\n",
    "# Cool fonts\n",
    "plt.xticks(fontsize=12)\n",
    "plt.yticks(fontsize=12)\n",
    "\n",
    "# Add data labels\n",
    "for p in ax.patches:\n",
    "    ax.annotate(f'{p.get_height():.0f}', (p.get_x() + p.get_width() / 2., p.get_height()), ha='center', va='center', fontsize=12, color='black', textcoords='offset points', xytext=(0, 10))\n",
    "\n",
    "# Background color\n",
    "ax.set_facecolor('#f7f7f7')\n",
    "\n",
    "# Grid and border\n",
    "ax.yaxis.grid(True, linestyle='--', alpha=0.7)\n",
    "ax.spines['top'].set_visible(False)\n",
    "ax.spines['right'].set_visible(False)\n",
    "ax.spines['bottom'].set_linewidth(0.5)\n",
    "ax.spines['left'].set_linewidth(0.5)\n",
    "\n",
    "plt.savefig('msu_enrollment.png', dpi=300, bbox_inches='tight')  # Save the plot\n",
    "# Show the plot\n",
    "plt.show()\n",
    "\n",
    "\n"
   ]
  },
  {
   "cell_type": "markdown",
   "metadata": {},
   "source": [
    "---\n",
    "## Follow-up Questions\n",
    "\n",
    "Copy and paste the following questions into the appropriate box in the assignment survey include below and answer them there. (Note: You'll have to fill out the section number and the assignment number and go to the \"NEXT\" section of the survey to paste in these questions.)\n",
    "\n",
    "1. Explain, in your own words, why \"branches\" in Git can be useful and give an example of how you might use this functionality when working on a coding project.\n",
    "2. Are you having any persistent issues with using Git at this time? If so, are you using the MSU JupyterHub server or are you trying to run things locally on your computer? If you are running into issues, do your best to describe the issues you're having.\n"
   ]
  },
  {
   "cell_type": "markdown",
   "metadata": {},
   "source": [
    "----\n",
    "\n",
    "# Assignment wrap-up\n",
    "\n",
    "Hopefully you were able to get through all of that! We'll be trouble-shooting any issues you had, working with remote git repositories, and testing out some more complicated git commands in class.\n",
    "\n",
    "Please fill out the form that appears when you run the code below.  **You must completely fill this out in order to receive credit for the assignment!**"
   ]
  },
  {
   "cell_type": "code",
   "execution_count": null,
   "metadata": {},
   "outputs": [],
   "source": [
    "from IPython.display import HTML\n",
    "HTML(\n",
    "\"\"\"\n",
    "<iframe \n",
    "\tsrc=\"https://cmse.msu.edu/cmse202-pc-survey\" \n",
    "\twidth=\"800px\" \n",
    "\theight=\"600px\" \n",
    "\tframeborder=\"0\" \n",
    "\tmarginheight=\"0\" \n",
    "\tmarginwidth=\"0\">\n",
    "\tLoading...\n",
    "</iframe>\n",
    "\"\"\"\n",
    ")\n"
   ]
  },
  {
   "cell_type": "markdown",
   "metadata": {},
   "source": [
    "---------\n",
    "### Congratulations, you're done with your pre-class assignment!\n",
    "\n",
    "Now, you just need to submit this assignment by uploading it to the course <a href=\"https://d2l.msu.edu/\">Desire2Learn</a> web page for the appropriate pre-class submission folder (Don't forget to add your name in the first cell)."
   ]
  },
  {
   "cell_type": "markdown",
   "metadata": {},
   "source": [
    "&#169; Copyright 2024,  Department of Computational Mathematics, Science and Engineering at Michigan State University\n",
    "\n",
    "<!-- 9/16/2024 -->"
   ]
  },
  {
   "cell_type": "markdown",
   "metadata": {},
   "source": []
  }
 ],
 "metadata": {
  "anaconda-cloud": {},
  "kernelspec": {
   "display_name": "Python [conda env:base] *",
   "language": "python",
   "name": "conda-base-py"
  },
  "language_info": {
   "codemirror_mode": {
    "name": "ipython",
    "version": 3
   },
   "file_extension": ".py",
   "mimetype": "text/x-python",
   "name": "python",
   "nbconvert_exporter": "python",
   "pygments_lexer": "ipython3",
   "version": "3.12.2"
  },
  "vscode": {
   "interpreter": {
    "hash": "31f2aee4e71d21fbe5cf8b01ff0e069b9275f58929596ceb00d14d90e3e16cd6"
   }
  },
  "widgets": {
   "application/vnd.jupyter.widget-state+json": {
    "state": {},
    "version_major": 2,
    "version_minor": 0
   }
  }
 },
 "nbformat": 4,
 "nbformat_minor": 4
}
