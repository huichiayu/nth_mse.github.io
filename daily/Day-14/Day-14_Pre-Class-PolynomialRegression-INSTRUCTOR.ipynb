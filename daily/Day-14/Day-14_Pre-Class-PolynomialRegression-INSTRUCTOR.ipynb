{
 "cells": [
  {
   "cell_type": "markdown",
   "metadata": {},
   "source": [
    "###ANSWER\n",
    "(for making sure this gets removed)\n",
    "\n",
    "### INSTRUCTOR CONTENT -- REMOVE THIS IN STUDENT VERSION\n",
    "#### The goals this PCA are:\n",
    "\n",
    "* Have student explore more of the functionality of statmodels\n",
    "* Revisit fitting polynomials to data (potentially exposed to this in 201, depending on current state of the 201 content)\n",
    "* Examine goodness of fit and validity of model"
   ]
  },
  {
   "cell_type": "markdown",
   "metadata": {},
   "source": [
    "# Pre-Class Assignment: Polynomial Regression\n",
    "# Day 14 \n",
    "# CMSE 202\n",
    "<img src=\"https://i.pinimg.com/originals/52/2c/20/522c209c019fe9592857bcb569184478.jpg\">"
   ]
  },
  {
   "cell_type": "markdown",
   "metadata": {},
   "source": [
    "### <p style=\"text-align: right;\"> &#9989; Put your name here</p>"
   ]
  },
  {
   "cell_type": "markdown",
   "metadata": {},
   "source": [
    "## Goals for Pre-Class Assignment\n",
    "\n",
    "After this pre-class assignment, you will be able to:\n",
    "1. Generate data for a polynomial regression\n",
    "2. Construct a set of polynomial regression models usings `statsmodels` \n",
    "3. Evaluate the quality of fit for a set of models using adjusted $R^2$ and determine the best fit\n",
    "4. Explain why that model is the best fit for this data"
   ]
  },
  {
   "cell_type": "markdown",
   "metadata": {},
   "source": [
    "## Our Imports\n",
    "\n",
    "**Make sure to execute this cell!**"
   ]
  },
  {
   "cell_type": "code",
   "execution_count": null,
   "metadata": {},
   "outputs": [],
   "source": [
    "import matplotlib.pyplot as plt\n",
    "import seaborn as sns\n",
    "import numpy as np\n",
    "\n",
    "sns.set_context(\"notebook\")\n",
    "import statsmodels.api as sm\n",
    "from IPython.display import HTML"
   ]
  },
  {
   "cell_type": "markdown",
   "metadata": {},
   "source": [
    "---\n",
    "## 1. Polynomial Regression\n",
    "\n",
    "Previously we focused on fitting a line to data, but as we've seen, it's possible that a straight line is not going to be good enough to model the data we are working with. We can augment our $ Ax + B$ with extra features. By adding features we are still doing linear regression, but where the features themselves can consist of, well anything.\n",
    "\n",
    "However, to limit our focus, for this pre-class we will use polynomials. We can add values like $x^2$ or $x^5$ to the potential set of features that can be used to better map against our data. \n",
    "\n",
    "&#9989; **Do This**: The question we should ask ourselves is, how many such features should we add? What are the advantages and disadvantages of adding more and more features? Think about it and answer in the cell below."
   ]
  },
  {
   "cell_type": "markdown",
   "metadata": {},
   "source": [
    "<font size=+3>&#9998;</font> Do this - Erase this and put your answer here."
   ]
  },
  {
   "cell_type": "markdown",
   "metadata": {},
   "source": [
    "### 1.1 Let's make some Data\n",
    "\n",
    "When we are first starting out with a new tool, it can be useful to generate our own data. Data we generate gives us the advantage of **knowing** what the answer should be. \n",
    "\n",
    "&#9989; **Do This**: Generate some data by doing the following:\n",
    "* build a numpy array `x_ary` of values from -4 to 4 in increments of 0.2\n",
    "* generate a corresponding `y_ary`, using the values from `x_ary`, based on the formula $x^4 + 2x^3 -15x^2 -12x + 36$\n",
    "* create `y_noisy`, by adding random (uniform) noise to `y_ary` in the range of -15 to 15. Later on we might make the range bigger (say -25 to 25) or smaller (say -5 to 5) for comparison."
   ]
  },
  {
   "cell_type": "code",
   "execution_count": null,
   "metadata": {},
   "outputs": [],
   "source": [
    "# put your code here\n"
   ]
  },
  {
   "cell_type": "code",
   "execution_count": null,
   "metadata": {},
   "outputs": [],
   "source": [
    "### ANSWER ###\n",
    "\n",
    "x_ary = np.arange(-4, 4, 0.2)\n",
    "# y_ary = np.sin(x_ary)\n",
    "y_ary = x_ary**4 + 2*x_ary**3 - 15*x_ary**2 - 12*x_ary + 36\n",
    "y_noisy = y_ary + np.random.default_rng().uniform(-15, 15.0, len(y_ary))"
   ]
  },
  {
   "cell_type": "markdown",
   "metadata": {},
   "source": [
    "### 1.2 Plot the data\n",
    "\n",
    "As always, it's been to look at our data before we try to model it.\n",
    "\n",
    "&#9989; **Do This**: Plot `x_ary` vs both `y_ary` and `y_noisy`. Do it overlapping with colors, or side by side, whatever you think would look good. _Make sure to label your axes!_"
   ]
  },
  {
   "cell_type": "code",
   "execution_count": null,
   "metadata": {},
   "outputs": [],
   "source": [
    "# put your code here\n",
    "fig = plt.figure(figsize = (10,7))"
   ]
  },
  {
   "cell_type": "code",
   "execution_count": null,
   "metadata": {},
   "outputs": [],
   "source": [
    "### ANSWER ###\n",
    "fix,(ax1, ax2) = plt.subplots(1,2, figsize = (10,7) )\n",
    "ax1.scatter(x_ary, y_ary, )\n",
    "ax2.scatter(x_ary, y_noisy)"
   ]
  },
  {
   "cell_type": "code",
   "execution_count": null,
   "metadata": {},
   "outputs": [],
   "source": [
    "### ANSWER ###\n",
    "\n",
    "# Alternative answer\n",
    "\n",
    "fig = plt.figure(figsize=(10,7))\n",
    "#plt.plot(x_ary, y_ary, 'x')\n",
    "plt.plot(x_ary, y_ary)\n",
    "plt.plot(x_ary, y_noisy, 'o')\n",
    "plt.xlabel('x', fontsize = 20)\n",
    "plt.ylabel('y', fontsize = 20)"
   ]
  },
  {
   "cell_type": "markdown",
   "metadata": {},
   "source": [
    "---\n",
    "## 2 Making the Polynomial Features\n",
    "\n",
    "Ultimately it would be nice to do our work using a `pandas` DataFrame so that we have the opportunity to label our columns. There's the added benefit that `statsmodels` works well with `pandas` DataFrames. \n",
    "\n",
    "&#9989; **Do This**: Make a DataFrame consisting of the following columns: a constant value for the intercept, the values in `x_ary`, and additional powers of `x_ary` up to 10.\n",
    "\n",
    "You can do this one of two ways:\n",
    "1. make the DataFrame out of `x_ary` and add features to the DataFrame\n",
    "2. add columns to the `x_ary` array and then finish off by adding to a DataFrame\n",
    "\n",
    "In the end, you have a DataFrame no matter the approach.\n",
    "\n",
    "To state the goal for this task again, the columns of the DataFrame should be:\n",
    "* Label the first column \"const\" and just place the value 1 in it\n",
    "* make the `x_ary` data column 1, labeled \"data\"\n",
    "* the next 9 columns should be based on `x_ary` and have as values: $x^2$, $x^3$, $x^4 \\ldots$ $x^{10}$. Give them good (but short) label names\n",
    "\n",
    "Print the head of your DataFrame when you're done to make sure it looks right. It should end up looking something like this:\n",
    "\n",
    "<img src=\"https://i.ibb.co/FX5fs7f/Screen-Shot-2021-03-05-at-3-43-11-PM.png\" alt=\"Screen-Shot-2021-03-05-at-3-43-11-PM\" border=\"0\" width=800px>"
   ]
  },
  {
   "cell_type": "code",
   "execution_count": null,
   "metadata": {},
   "outputs": [],
   "source": [
    "# put your code here\n"
   ]
  },
  {
   "cell_type": "code",
   "execution_count": null,
   "metadata": {},
   "outputs": [],
   "source": [
    "### ANSWER ###\n",
    "\n",
    "import pandas as pd\n",
    "\n",
    "x1_ary = x_ary.reshape(-1,1)\n",
    "X = np.insert(x1_ary, 0, 1, axis=1)\n",
    "for i in range(2,11):\n",
    "    X = np.insert(X, i, X[:,1]**i, axis=1)\n",
    "\n",
    "df = pd.DataFrame(X, columns=[\"const\", \"data\", \"sqr\", \"cube\", \"quad\", \"quint\", \"hex\", \"hept\", \"oct\", \"non\", \"dec\"])\n",
    "df.head()"
   ]
  },
  {
   "cell_type": "code",
   "execution_count": null,
   "metadata": {},
   "outputs": [],
   "source": [
    "### ANSWER ###\n",
    "\n",
    "# Alternative answer\n",
    "\n",
    "import pandas as pd\n",
    "\n",
    "column_names = ['const','data','x2','x3','x4','x5','x6','x7','x8','x9','x10']\n",
    "\n",
    "const_values = np.ones(len(x_ary))\n",
    "\n",
    "data = np.array([const_values, x_ary, x_ary**2, x_ary**3, x_ary**4, x_ary**5,x_ary**6, x_ary**7, x_ary**8, x_ary**9, x_ary**10])\n",
    "\n",
    "df = pd.DataFrame(data.T, columns = column_names)    \n",
    "df.head()"
   ]
  },
  {
   "cell_type": "markdown",
   "metadata": {},
   "source": [
    "### 2.1 Fitting using the Polynomials\n",
    "\n",
    "We'll talk about measures of \"goodness\" of fit during the class, but one good measure for a multi-feature fit is the **Adjusted R-squared** value. In general, the **R-squared** describes the variance in the model that it can account for. If the R-squared is 1.0, then all the variance is accounted for an you have a perfect fit. If the value is 0 and you have no fit. However, for multiple features R-squared tends to over-estimate. The Adjusted R-squared tries to deal with this and provide a value that is better suited to multiple features.\n",
    "\n",
    "We'll leave it to you how you want to do this, but what we'd like you to try is to fit different combinations of features against `y_noisy` and report the Adjusted R-squared value. For example, what is the Adjusted R-squared for:\n",
    "\n",
    "1. just the const column\n",
    "2. the const and data columns (which should be a line)\n",
    "3. the const, data and $x^2$ columns\n",
    "4. the const, data, $x^2$ and $x^3$ columns\n",
    "5. $\\ldots$\n",
    "\n",
    "So on and so forth. You can do them individually or on a loop and collect the results. \n",
    "\n",
    "The object that is returned by the `.fit()` method is an instance of a `statsmodels` \"`statsmodels.regression.linear_model.RegressionResults`\". Run the `type` command on it and see. If you look on the <a href=\"https://www.statsmodels.org/stable/generated/statsmodels.regression.linear_model.RegressionResults.html#statsmodels.regression.linear_model.RegressionResults\"> statsmodels doc page </a> under \"Properties\" (scroll down and look for that word as a title), you will find  all values you can gather from the variable returned by `.fit()`. For this assignment the most important one of those is `.rsquared_adj`. \n",
    "\n",
    "&#9989; **Do This**: Explore a variety of models that fit to the noisy data using increasingly more features. Look at that value for the combination of features you selected and say which one is the \"best\". For this assignment, we would consider the \"best\" would be the highest value of `.rsquared_adj`.\n",
    "\n",
    "**Note**: you do not have to try an exhaustive set of models (though you could set this up with a loop), just explore a variety of combinations and reflect on the results."
   ]
  },
  {
   "cell_type": "code",
   "execution_count": null,
   "metadata": {},
   "outputs": [],
   "source": [
    "# put your code here\n"
   ]
  },
  {
   "cell_type": "code",
   "execution_count": null,
   "metadata": {},
   "outputs": [],
   "source": [
    "### ANSWER ###\n",
    "\n",
    "aic = []\n",
    "bic = []\n",
    "adj_r2 = []\n",
    "\n",
    "for i in range(1,11):\n",
    "    model = sm.OLS(y_noisy, df.iloc[:,0:i])\n",
    "    results = model.fit()\n",
    "    aic.append(results.aic)\n",
    "    bic.append(results.bic)\n",
    "    adj_r2.append(results.rsquared_adj)\n",
    "\n",
    "# print(aic)\n",
    "# print(bic)\n",
    "print(adj_r2)\n",
    "results.summary()"
   ]
  },
  {
   "cell_type": "code",
   "execution_count": null,
   "metadata": {},
   "outputs": [],
   "source": [
    "### ANSWER ###\n",
    "\n",
    "# Alternative answer\n",
    "\n",
    "rsqr_arry = []\n",
    "columns = []\n",
    "\n",
    "for column in column_names:\n",
    "    \n",
    "    columns.append(column)\n",
    "    \n",
    "    model = sm.OLS(y_noisy, df[columns]) # make the model\n",
    "    results = model.fit()                 # run the OLS fit\n",
    "\n",
    "    rsqr_arry.append(results.rsquared_adj)\n",
    "\n",
    "fig = plt.figure(figsize=(6,6))\n",
    "plt.plot(np.arange(0,11,1), rsqr_arry, 'x')\n",
    "plt.xlabel('terms', fontsize=20)\n",
    "plt.ylabel('rsqr', fontsize=20)"
   ]
  },
  {
   "cell_type": "markdown",
   "metadata": {},
   "source": [
    "&#9989; **Questions**: Which combination of features best \"fit\" your data? What was the Adjusted R-squared? Why might that combination produce the best fit?"
   ]
  },
  {
   "cell_type": "markdown",
   "metadata": {},
   "source": [
    "<font size=+3>&#9998;</font> Do this - Erase this and put your answer here."
   ]
  },
  {
   "cell_type": "markdown",
   "metadata": {},
   "source": [
    "---\n",
    "## 3 Plot your data and your model\n",
    "\n",
    "&#9989; **Do this**:  Plot `x_ary` vs `y_noisy` and `x_ary` vs the best fitted values based on the adjusted R-squared value. Do it in the same graph. Again, the Property `.fittedvalues` gives out a panda Series with the fitted values (the y values for your best fit model). Also print out the summary for the variable returned by `.fit()`\n",
    "\n",
    "Your plot might end up looking something like this:\n",
    "\n",
    "<img src=\"https://i.ibb.co/z6LrB3N/best-fit.png\" alt=\"best-fit\" border=\"0\" width=300>"
   ]
  },
  {
   "cell_type": "code",
   "execution_count": null,
   "metadata": {},
   "outputs": [],
   "source": [
    "# put your code here\n"
   ]
  },
  {
   "cell_type": "code",
   "execution_count": null,
   "metadata": {},
   "outputs": [],
   "source": [
    "### ANSWER ###\n",
    "\n",
    "model = sm.OLS(y_noisy, df.iloc[:,0:5])\n",
    "results = model.fit()\n",
    "y_fit = results.fittedvalues\n",
    "fig,ax = plt.subplots()\n",
    "ax.scatter(x_ary, y_noisy)\n",
    "ax.plot(x_ary, y_fit)\n",
    "results.summary()"
   ]
  },
  {
   "cell_type": "code",
   "execution_count": null,
   "metadata": {},
   "outputs": [],
   "source": [
    "### ANSWER ###\n",
    "\n",
    "# Alternative answer\n",
    "\n",
    "best_fit = ['const','data','x2','x3','x4']\n",
    "\n",
    "model = sm.OLS(y_noisy, df[best_fit]) # make the model\n",
    "results = model.fit() \n",
    "\n",
    "fig = plt.figure(figsize=(6,6))\n",
    "plt.plot(x_ary, y_noisy, 'o')\n",
    "plt.plot(x_ary, results.predict(), '-x')\n",
    "plt.xlabel('x', fontsize = 20)\n",
    "plt.ylabel('y', fontsize = 20)\n",
    "plt.legend(['data', 'best fit'], fontsize = 20)\n",
    "#plt.savefig(\"best_fit.png\")\n",
    "results.summary()"
   ]
  },
  {
   "cell_type": "markdown",
   "metadata": {},
   "source": [
    "### 3.1 Are we justified in using this model?\n",
    "\n",
    "As we did previously, we can check how well we are justified in using this model, by looking at the residual plot. \n",
    "\n",
    "&#9989; **Do this**: Again, using `plot_regress_exog`, plot the residuals as a function of the independent variable (`data` or `x`, whatever you called it)."
   ]
  },
  {
   "cell_type": "code",
   "execution_count": null,
   "metadata": {},
   "outputs": [],
   "source": [
    "# put your code here\n"
   ]
  },
  {
   "cell_type": "code",
   "execution_count": null,
   "metadata": {},
   "outputs": [],
   "source": [
    "### ANSWER ###\n",
    "fig = plt.figure(figsize=(12,10))\n",
    "fig = sm.graphics.plot_regress_exog(results, 'data', fig=fig)"
   ]
  },
  {
   "cell_type": "markdown",
   "metadata": {},
   "source": [
    "&#9989; **Question**: Do we appear justified in using this model? Why or why not? "
   ]
  },
  {
   "cell_type": "markdown",
   "metadata": {},
   "source": [
    "<font size=+3>&#9998;</font> Do this - Erase this and put your answer here."
   ]
  },
  {
   "cell_type": "markdown",
   "metadata": {},
   "source": [
    "---\n",
    "## Follow-up Questions\n",
    "\n",
    "Copy and paste the following questions into the appropriate box in the assignment survey include below and answer them there. (Note: You'll have to fill out the assignment number and go to the \"NEXT\" section of the survey to paste in these questions.)\n",
    "\n",
    "1. Which combination of features best \"fit\" your data? What was the Adjusted R-squared? Why might that combination produce the best fit? (you should be able to copy your answer to this question from above)\n",
    "\n",
    "2. Based on your plot of the residuals, do we appear justified in using this model? Why or why not? (you should be able to copy your answer to this question from above)"
   ]
  },
  {
   "cell_type": "markdown",
   "metadata": {},
   "source": [
    "----\n",
    "\n",
    "# Assignment wrap-up\n",
    "\n",
    "Hopefully you were able to get through all of that. We'll be trouble-shooting any issues you had\n",
    "\n",
    "**You must completely fill this out in order to receive credit for the assignment!**"
   ]
  },
  {
   "cell_type": "code",
   "execution_count": null,
   "metadata": {},
   "outputs": [],
   "source": [
    "HTML(\n",
    "\"\"\"\n",
    "<iframe \n",
    "\tsrc=\"https://cmse.msu.edu/cmse202-pc-survey\" \n",
    "\twidth=\"800px\" \n",
    "\theight=\"600px\" \n",
    "\tframeborder=\"0\" \n",
    "\tmarginheight=\"0\" \n",
    "\tmarginwidth=\"0\">\n",
    "\tLoading...\n",
    "</iframe>\n",
    "\"\"\"\n",
    ")"
   ]
  },
  {
   "cell_type": "markdown",
   "metadata": {},
   "source": [
    "---------\n",
    "### Congratulations, you're done with your pre-class assignment!\n",
    "\n",
    "Now, you just need to submit this assignment by uploading it to the course <a href=\"https://d2l.msu.edu/\">Desire2Learn</a> web page for the appropriate pre-class submission folder (Don't forget to add your name in the first cell)."
   ]
  },
  {
   "cell_type": "markdown",
   "metadata": {},
   "source": [
    "&#169; Copyright 2025,  Department of Computational Mathematics, Science and Engineering at Michigan State University\n",
    "\n",
    "<!-- 9/16/2024 -->"
   ]
  }
 ],
 "metadata": {
  "kernelspec": {
   "display_name": "Python [conda env:base] *",
   "language": "python",
   "name": "conda-base-py"
  },
  "language_info": {
   "codemirror_mode": {
    "name": "ipython",
    "version": 3
   },
   "file_extension": ".py",
   "mimetype": "text/x-python",
   "name": "python",
   "nbconvert_exporter": "python",
   "pygments_lexer": "ipython3",
   "version": "3.12.2"
  },
  "widgets": {
   "application/vnd.jupyter.widget-state+json": {
    "state": {},
    "version_major": 2,
    "version_minor": 0
   }
  }
 },
 "nbformat": 4,
 "nbformat_minor": 4
}
