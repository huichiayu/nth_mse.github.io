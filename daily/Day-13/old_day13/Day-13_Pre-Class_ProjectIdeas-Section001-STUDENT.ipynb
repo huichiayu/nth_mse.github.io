{
 "cells": [
  {
   "cell_type": "markdown",
   "metadata": {},
   "source": [
    "# [Section 001] Pre-Class Assignment: Reviewing Project Ideas\n",
    "# Day 13 \n",
    "# CMSE 202"
   ]
  },
  {
   "cell_type": "markdown",
   "metadata": {},
   "source": [
    "## <p style=\"text-align: right;\"> &#9989; Put your name here</p>"
   ]
  },
  {
   "cell_type": "markdown",
   "metadata": {},
   "source": [
    "In this pre-class assignment we are going to explore your project ideas for class.  The ideas are pulled from the project brainstorming you did previously. The instructional staff did their best to interpret the concept of your ideas based on what you submitted to the previous pre-class survey. In some cases we had to try to put vagues thoughts into concrete categories and we may have misconstrued the original intent -- sorry if your idea was mangled!\n",
    "\n",
    "Please think about what would make a good and interesting project and complete the following:\n",
    "\n",
    "**&#9989; Do This:** \n",
    "\n",
    "1. Read though the following project ideas and put notes in the `comments` slot provided on any that you find interesting.\n",
    "2. Having read through them all, write down your top 3 in the list below using names like \"Social 1\" or \"Sports 2\" (the category and the number). Consider the following factors as you are investigating for your top 3.\n",
    "    * Is the project something you are interested in?\n",
    "    * How hard will the project be for a group to complete? \n",
    "    * Can you find any python libraries or datasets that would help with the project?\n",
    "    * Is this just a toy project or is the project scientifically motivated. I.e. what broad scientific questions would this project be able to answer?\n",
    "3. Having selected three, add some details in your `Top Three List` with information like:\n",
    "    * Any links to new information or datasets.\n",
    "    * Scientific questions that this project would be able to explore.\n",
    "    * Computational methods you might use for the project.\n",
    "    * Additional thoughts or ideas you want to tell the instructors. \n",
    "\n",
    "**Note:** You are welcome to also combine two or more project ideas into one bigger project. Or you can come up with a new project idea.  Reference the projects based on their project numbers. Do not change the numbers. "
   ]
  },
  {
   "cell_type": "markdown",
   "metadata": {},
   "source": [
    "## Top Three List (with some details)\n",
    "\n",
    "1. \n",
    "\n",
    "2. \n",
    "\n",
    "3. "
   ]
  },
  {
   "cell_type": "markdown",
   "metadata": {},
   "source": [
    "---\n",
    "\n",
    "# Project Ideas From Brainstorming:"
   ]
  },
  {
   "cell_type": "markdown",
   "metadata": {},
   "source": [
    "## Health & Biology\n",
    "\n",
    "1. Predicting when leaves will change color in the fall\n",
    "**comments**:\n",
    "\n",
    "2. Predicting how stress levels affect brain health\n",
    "\n",
    "**comments**:\n",
    "\n",
    "3. Use an ABM to model an endangered species\n",
    "\n",
    "**comments**:\n",
    "\n",
    "4. Create a model that can categorize bacteria into cell and colony morphologies\n",
    "\n",
    "**comments**:\n",
    "\n",
    "5. Use an ABM to model digestion of different foods\n",
    "\n",
    "**comments**:\n",
    "\n",
    "6. Creating a model to predict the genes of an offspring\n",
    "\n",
    "**comments**:\n",
    "\n",
    "7. Predicting the likelihood someone will contract Covid\n",
    "\n",
    "**comments**:\n",
    "\n",
    "8. Using brain waves to categorize dreams\n",
    "\n",
    "**comments**:\n",
    "\n",
    "9. Using ABMs to model the spread of the common cold on campus\n",
    "\n",
    "**comments**:\n",
    "\n",
    "10. Modeling viral strains resistance to vaccines\n",
    "\n",
    "**comments**:\n",
    "\n",
    "11. Modeling the health of sea turtles\n",
    "\n",
    "**comments**:\n"
   ]
  },
  {
   "cell_type": "markdown",
   "metadata": {},
   "source": [
    "## Social\n",
    "\n",
    "1. Predicting the most popular toys on Black Friday\n",
    "\n",
    "**comments**:\n",
    "\n",
    "2. Predicting annual tourism for different states\n",
    "\n",
    "**comments**:\n",
    "\n",
    "3. Using Machine Learning to predict GPA\n",
    "\n",
    "**comments**:\n",
    "\n",
    "4. Predicting the growth of clean energy\n",
    "\n",
    "**comments**:\n",
    "\n",
    "5. Using Machine Learning to make song suggestions based on Spotify listening\n",
    "\n",
    "**comments**:\n",
    "\n",
    "6. Modeling the effect of Covid on learning\n",
    "\n",
    "**comments**:\n",
    "\n",
    "7. Predicting conditions where car accidents are most likely to happen\n",
    "\n",
    "**comments**:\n",
    "\n",
    "8. Modeling the affect of climate change on human migration patterns\n",
    "\n",
    "**comments**:"
   ]
  },
  {
   "cell_type": "markdown",
   "metadata": {},
   "source": [
    "## Financial\n",
    "\n",
    "1. Stock market prediction\n",
    " \n",
    "**comments**:\n",
    " \n",
    "2. Modeling stock portfolios to maximize performance\n",
    "\n",
    "**comments**:\n",
    "\n",
    "3. Predicting if a transaction is fraudulent\n",
    "\n",
    "**comments**:"
   ]
  },
  {
   "cell_type": "markdown",
   "metadata": {},
   "source": [
    "## Sports\n",
    "\n",
    "1. Predicting the winner of the NCAA tournament.\n",
    "\n",
    "**comments**:\n",
    "\n",
    "2. Predicting NBA draft picks\n",
    "\n",
    "**comments**:\n",
    "\n",
    "3. Predicting Detroit Lions performance\n",
    "\n",
    "**comments**:"
   ]
  },
  {
   "cell_type": "markdown",
   "metadata": {},
   "source": [
    "## Misc.\n",
    "\n",
    "1. Modeling hurricanes\n",
    "\n",
    "**comments**:\n",
    "\n",
    "2. Modeling the atmosphere of an exoplanet\n",
    "\n",
    "**comments**:\n",
    "\n",
    "3. Classifying pictures that contain a lemon\n",
    "\n",
    "**comments**:\n",
    "\n",
    "4. Predicting weather\n",
    "\n",
    "**comments**:"
   ]
  },
  {
   "cell_type": "markdown",
   "metadata": {},
   "source": [
    "------\n",
    "\n",
    "# New project ideas\n",
    "\n",
    "If you've come up with new project ideas since our brainstorming session, feel free to add them here. Make sure to include the same sort of information you put together for your \"top 3\" models from above. Make a note in assignment wrap-up survey in the \"Follow-up Questions\" text box if any of your new ideas happen to be your new favorite idea."
   ]
  },
  {
   "cell_type": "markdown",
   "metadata": {},
   "source": [
    "## < New Idea >\n",
    "\n",
    "< New idea description >\n",
    "\n",
    "**Comments:**\n"
   ]
  },
  {
   "cell_type": "markdown",
   "metadata": {},
   "source": [
    "---\n",
    "## Follow-up Questions\n",
    "\n",
    "Copy and paste the following questions into the appropriate box in the assignment survey include below and answer them there. (Note: You'll have to fill out the assignment number and go to the \"NEXT\" section of the survey to paste in these questions.)\n",
    "\n",
    "1. What are your current top three project ideas that you're most interested in? (You should be able to copy this from the list your created at the beginning of this notebook). **When listing your ideas, please separate them using a semi-colon ; so it's easier for Tom to parse the string.**"
   ]
  },
  {
   "cell_type": "markdown",
   "metadata": {},
   "source": [
    "----\n",
    "# Assignment wrap-up\n",
    "\n",
    "Please fill out the form that appears when you run the code below.  **You must completely fill this out in order to receive credit for the assignment!**"
   ]
  },
  {
   "cell_type": "code",
   "execution_count": null,
   "metadata": {},
   "outputs": [],
   "source": [
    "from IPython.display import HTML\n",
    "HTML(\n",
    "\"\"\"\n",
    "<iframe \n",
    "\tsrc=\"https://cmse.msu.edu/cmse202-pc-survey\" \n",
    "\twidth=\"800px\" \n",
    "\theight=\"600px\" \n",
    "\tframeborder=\"0\" \n",
    "\tmarginheight=\"0\" \n",
    "\tmarginwidth=\"0\">\n",
    "\tLoading...\n",
    "</iframe>\n",
    "\"\"\"\n",
    ")"
   ]
  },
  {
   "cell_type": "markdown",
   "metadata": {},
   "source": [
    "---------\n",
    "### Congratulations, you're done with your pre-class assignment!\n",
    "\n",
    "Now, you just need to submit this assignment by uploading it to the course <a href=\"https://d2l.msu.edu/\">Desire2Learn</a> web page for today's submission folder (Don't forget to add your name in the first cell)."
   ]
  },
  {
   "cell_type": "markdown",
   "metadata": {},
   "source": [
    "&#169; Copyright 2021,  Department of Computational Mathematics, Science and Engineering at Michigan State University"
   ]
  }
 ],
 "metadata": {
  "kernelspec": {
   "display_name": "Python 3 (ipykernel)",
   "language": "python",
   "name": "python3"
  },
  "language_info": {
   "codemirror_mode": {
    "name": "ipython",
    "version": 3
   },
   "file_extension": ".py",
   "mimetype": "text/x-python",
   "name": "python",
   "nbconvert_exporter": "python",
   "pygments_lexer": "ipython3",
   "version": "3.9.12"
  }
 },
 "nbformat": 4,
 "nbformat_minor": 4
}
