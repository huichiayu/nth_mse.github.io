{
 "cells": [
  {
   "cell_type": "markdown",
   "metadata": {},
   "source": [
    "###ANSWER\n",
    "(for making sure this gets removed)\n",
    "\n",
    "### INSTRUCTOR CONTENT -- REMOVE THIS IN STUDENT VERSION\n",
    "#### The goals/notes for this class are:\n",
    "\n",
    "* Students should review a list of project ideas that come from a previous PCA. Instructors need to review these in advance of releasing this PCA based on the student responses to the previous PCA survey.\n",
    "* **Each section should have a different PCA based on the idea that came out of their section!!!**\n",
    "\n",
    "**Reminder**: Once you've generated your version of this PCA for your section, you can generate the STUDENT version using the `makeStudentVersion.py` script in this repo."
   ]
  },
  {
   "cell_type": "markdown",
   "metadata": {},
   "source": [
    "# [Section 002] Pre-Class Assignment: Reviewing Project Ideas\n",
    "# Day 13 \n",
    "# CMSE 202"
   ]
  },
  {
   "cell_type": "markdown",
   "metadata": {},
   "source": [
    "## <p style=\"text-align: right;\"> &#9989; Put your name here</p>"
   ]
  },
  {
   "cell_type": "markdown",
   "metadata": {},
   "source": [
    "In this pre-class assignment we are going to explore your project ideas for class.  The ideas are pulled from the project brainstorming you did previously. The instructional staff did their best to interpret the concept of your ideas based on what you submitted to the previous pre-class survey. In some cases we had to try to put vagues thoughts into concrete categories and we may have misconstrued the original intent -- sorry if your idea was mangled!\n",
    "\n",
    "Please think about what would make a good and interesting project and complete the following:\n",
    "\n",
    "**&#9989; Do This:** \n",
    "\n",
    "1. Read though the following project ideas and put notes in the `comments` slot provided on any that you find interesting.\n",
    "2. Having read through them all, write down your top 3 in the list below using names like \"Social 1\" or \"Sports 2\" (the category and the number). Consider the following factors as you are investigating for your top 3.\n",
    "    * Is the project something you are interested in?\n",
    "    * How hard will the project be for a group to complete? \n",
    "    * Can you find any python libraries or datasets that would help with the project?\n",
    "    * Is this just a toy project or is the project scientifically motivated. I.e. what broad scientific questions would this project be able to answer?\n",
    "3. Having selected three, add some details in your `Top Three List` with information like:\n",
    "    * Any links to new information or datasets.\n",
    "    * Scientific questions that this project would be able to explore.\n",
    "    * Computational methods you might use for the project.\n",
    "    * Additional thoughts or ideas you want to tell the instructors. \n",
    "\n",
    "**Note:** You are welcome to also combine two or more project ideas into one bigger project. Or you can come up with a new project idea.  Reference the projects based on their project numbers. Do not change the numbers. "
   ]
  },
  {
   "cell_type": "markdown",
   "metadata": {},
   "source": [
    "## Top Three List (with some details)\n",
    "\n",
    "1. \n",
    "\n",
    "2. \n",
    "\n",
    "3. "
   ]
  },
  {
   "cell_type": "markdown",
   "metadata": {},
   "source": [
    "---\n",
    "\n",
    "# Project Ideas From Brainstorming:"
   ]
  },
  {
   "cell_type": "markdown",
   "metadata": {},
   "source": [
    "## Health\n",
    "\n",
    "1. Model health-related topics on a population level. (e.g. How does lead affect infant development? How is birth control releated to weight gain?)\n",
    "\n",
    "**comments**:\n",
    "\n",
    "2. Has Covid affected people's social networks? How has it affected unemployment (sector, ...)\n",
    "\n",
    "**comments**:\n",
    "\n",
    "3. How does eating (\"healthy\"/\"unhealthy\"/certain diets/...) affect work and/or productivity? How does it affect health? \n",
    "\n",
    "**comments**:\n",
    "\n",
    "4. Model the spread of diseases (e.g. Covid) [or other spreads, such as fires, ...]. Transmission probabilities, single cough vs. long-time exposure, ... Compare to real-world data. [Spread of diseases depending on population statistics, model, tests, ...]\n",
    "\n",
    "**comments**:\n"
   ]
  },
  {
   "cell_type": "markdown",
   "metadata": {},
   "source": [
    "## Social\n",
    "\n",
    "1. Correlation of personality traits with various indicators such as: interests/hobbies, spending habits, political views, risk-aversion, success.\n",
    "\n",
    "**comments**:\n",
    "\n",
    "2. Analyze/model class schedules to see the average distance students travel and where they typically go. Find suggestions to optimize the class layout on campus.\n",
    "\n",
    "**comments**:\n",
    "\n",
    "3. Study large crowds in constrained spaces and their behavior. Potentially use to study the behavior of stampedes.\n",
    "\n",
    "**comments**:\n",
    "\n",
    "4. Model a public policy topic such as movement of people during Great Migration, Great Depression, or the Second World War, potentially broken down by demographics such as race, gender. Model migration between sectors such as from agricultural work to industry. Try to create a model of various actors (population) that mimics this behavior and compare to real data.\n",
    "\n",
    "**comments**:\n",
    "\n",
    "5. Influence of policy and/or media on travel/migration/...\n",
    "\n",
    "**comments**:\n",
    "\n",
    "6. Study how pets influence the happiness level of their owners.\n",
    "\n",
    "**comments**:\n",
    "\n",
    "7. Study the relationship between overall academic performance and certain factors (e.g. mental health, wealth, ...)\n",
    "\n",
    "**comments**:\n",
    "\n",
    "8. How do climate-related effects affect large populations (birds, bugs, )? Model how they affect factors such as seas level.\n",
    "\n",
    "**comments**:"
   ]
  },
  {
   "cell_type": "markdown",
   "metadata": {},
   "source": [
    "## Financial\n",
    "\n",
    "1. Casino games, overall statistics, comparison, what should/shouldn't you play to lose the least/gain the most money? And/or sports betting strategies.\n",
    " \n",
    "**comments**:\n",
    " \n",
    "2. Stock market/cryptocurrency prediction, factors, portfolio allocation, backtesting. Topic is a bit overdone, so: what could be done that is original?\n",
    " https://github.com/kh-kim/stock_market_reinforcement_learning\n",
    "  https://www.codementor.io/blog/quantitative-trading-6i4dw8wj4z\n",
    " \n",
    "**comments**:\n",
    " \n",
    "3. Predicting economic and/or stock market impact/recovery based on covid, gdp, etc that a shutdown had brought. Perhaps based on car sales/consumer items, unemployment filings etc.? U shaped recovery, etc.\n",
    "\n",
    "**comments**:\n",
    "\n",
    "4. How has wealth distribution changed over time? How do big social changes affect wealth distribution?\n",
    "\n",
    "**comments**:\n"
   ]
  },
  {
   "cell_type": "markdown",
   "metadata": {},
   "source": [
    "## Tech\n",
    "\n",
    "1. Model astronomical models such as mass distributions (black holes, stars, planets), star spectral distributions, planetary motion, ... on a large scale and compare how they match to real observations.\n",
    "\n",
    "**comments**:\n",
    "\n",
    "2. Study the impact of ads have on users of various internet platforms. \n",
    "\n",
    "**comments**:\n",
    "\n",
    "3. Effect of external effects, such as time of year on publishing activity (books, articles, fanfic, ...)\n",
    "\n",
    "**comments**:\n",
    "\n",
    "4. Creation of a travel route generator given map data. Find shortest paths, ... GPS system, optimization of ride-sharing service/delivery service routes, ...\n",
    "\n",
    "**comments**:\n",
    "\n",
    "5. Model city layouts, city growth (organic vs. planned, ...)\n",
    "\n",
    "**comments**:\n",
    "\n",
    "6. Model spread of information vs. mis-information in social networks.\n",
    "\n",
    "**comments**:\n"
   ]
  },
  {
   "cell_type": "markdown",
   "metadata": {},
   "source": [
    "## Sports / Games\n",
    "\n",
    "1. Most important factors in drafting a player into a professional league? How do you determine potential factors and how do you evaluate them? Are player salaries related to success? And/or overall correlations in sports between certain factors and success.\n",
    "\n",
    "**comments**:\n",
    "\n",
    "2. Football related: try to analyze value of players. Determine how to measure individual value, create a model, test on observations.\n",
    "\n",
    "**comments**:\n",
    "\n",
    "3. Factors for great Olympic Games? (How do factors such as location, accommodation and (new) sports correlate to overall success? How do you measure overall success/\"greatness\"?)\n",
    "\n",
    "**comments**:\n",
    "\n",
    "4. Study behavior of sports-related injuries over time. Which factors affect it in various sports?\n",
    "\n",
    "**comments**:\n",
    "\n",
    "5. A project that studies the \"Sprouts\" game in detail, creates models, ...\n",
    "\n",
    "**comments**:\n",
    "\n",
    "6. Prisoner's dilemma-based model where actors choose selfishly, but this might not be the optimal choice for a whole population.\n",
    "\n",
    "**comments**:\n",
    "\n",
    "7. Player behavior in online games such as League of Legends. Correlate behavior with success, include choice of roles people take on in games.\n",
    "\n",
    "**comments**:\n"
   ]
  },
  {
   "cell_type": "markdown",
   "metadata": {},
   "source": [
    "------\n",
    "\n",
    "# New project ideas\n",
    "\n",
    "If you've come up with new project ideas since our brainstorming session, feel free to add them here. Make sure to include the same sort of information you put together for your \"top 3\" models from above. Make a note in assignment wrap-up survey in the \"Follow-up Questions\" text box if any of your new ideas happen to be your new favorite idea."
   ]
  },
  {
   "cell_type": "markdown",
   "metadata": {},
   "source": [
    "## < New Idea >\n",
    "\n",
    "< New idea description >\n",
    "\n",
    "**Comments:**\n"
   ]
  },
  {
   "cell_type": "markdown",
   "metadata": {},
   "source": [
    "---\n",
    "## Follow-up Questions\n",
    "\n",
    "Copy and paste the following questions into the appropriate box in the assignment survey include below and answer them there. (Note: You'll have to fill out the assignment number and go to the \"NEXT\" section of the survey to paste in these questions.)\n",
    "\n",
    "1. What are your current top three project ideas that you're most interested in? (You should be able to copy this from the list your created at the beginning of this notebook)."
   ]
  },
  {
   "cell_type": "markdown",
   "metadata": {},
   "source": [
    "----\n",
    "# Assignment wrap-up\n",
    "\n",
    "Please fill out the form that appears when you run the code below.  **You must completely fill this out in order to receive credit for the assignment!**"
   ]
  },
  {
   "cell_type": "code",
   "execution_count": null,
   "metadata": {},
   "outputs": [],
   "source": [
    "from IPython.display import HTML\n",
    "HTML(\n",
    "\"\"\"\n",
    "<iframe \n",
    "\tsrc=\"https://cmse.msu.edu/cmse202-pc-survey\" \n",
    "\twidth=\"800px\" \n",
    "\theight=\"600px\" \n",
    "\tframeborder=\"0\" \n",
    "\tmarginheight=\"0\" \n",
    "\tmarginwidth=\"0\">\n",
    "\tLoading...\n",
    "</iframe>\n",
    "\"\"\"\n",
    ")"
   ]
  },
  {
   "cell_type": "markdown",
   "metadata": {},
   "source": [
    "---------\n",
    "### Congratulations, you're done with your pre-class assignment!\n",
    "\n",
    "Now, you just need to submit this assignment by uploading it to the course <a href=\"https://d2l.msu.edu/\">Desire2Learn</a> web page for today's submission folder (Don't forget to add your name in the first cell)."
   ]
  },
  {
   "cell_type": "markdown",
   "metadata": {},
   "source": [
    "&#169; Copyright 2021,  Department of Computational Mathematics, Science and Engineering at Michigan State University"
   ]
  }
 ],
 "metadata": {
  "kernelspec": {
   "display_name": "Python 3 (ipykernel)",
   "language": "python",
   "name": "python3"
  },
  "language_info": {
   "codemirror_mode": {
    "name": "ipython",
    "version": 3
   },
   "file_extension": ".py",
   "mimetype": "text/x-python",
   "name": "python",
   "nbconvert_exporter": "python",
   "pygments_lexer": "ipython3",
   "version": "3.10.0"
  }
 },
 "nbformat": 4,
 "nbformat_minor": 4
}
