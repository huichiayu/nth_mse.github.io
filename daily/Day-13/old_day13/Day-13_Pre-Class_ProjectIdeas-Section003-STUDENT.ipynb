{
 "cells": [
  {
   "cell_type": "markdown",
   "metadata": {},
   "source": [
    "# [Section 003] Pre-Class Assignment: Reviewing Project Ideas\n",
    "# Day 13 \n",
    "# CMSE 202"
   ]
  },
  {
   "cell_type": "markdown",
   "metadata": {},
   "source": [
    "## <p style=\"text-align: right;\"> &#9989; Put your name here</p>"
   ]
  },
  {
   "cell_type": "markdown",
   "metadata": {},
   "source": [
    "In this pre-class assignment we are going to explore your project ideas for class.  The ideas are pulled from the project brainstorming you did previously. The instructional staff did their best to interpret the concept of your ideas based on what you submitted to the previous pre-class survey. In some cases we had to try to put vagues thoughts into concrete categories and we may have misconstrued the original intent -- sorry if your idea was mangled!\n",
    "\n",
    "Please think about what would make a good and interesting project and complete the following:\n",
    "\n",
    "**&#9989; Do This:** \n",
    "\n",
    "1. Read though the following project ideas and put notes in the `comments` slot provided on any that you find interesting.\n",
    "\n",
    "\n",
    "2. Having read through them all, write down your top 3 in the list below using names like \"Social 1\" or \"Sports 2\" (the category and the number). Consider the following factors as you are investigating for your top 3.\n",
    "    \n",
    "    * Is the project something you are interested in?\n",
    "    * How hard will the project be for a group to complete? \n",
    "    * Can this project be completed before the deadline?\n",
    "    * Can you find any python libraries or datasets that would help with the project?\n",
    "    * How does this project fit within the scope of CMSE 202 ? What is the computational modeling part and what is the data analysis part ?\n",
    "    * Is this just a toy project or is the project scientifically motivated, i.e. what broad scientific questions would this project be able to answer?\n",
    "    \n",
    "    \n",
    "3. Having selected three, add some details in your `Top Three List` with information like:\n",
    "\n",
    "    * Any links to new information or datasets.\n",
    "    * Scientific questions that this project would be able to explore.\n",
    "    * Computational methods you might use for the project.\n",
    "    * Additional thoughts or ideas you want to tell the instructors. \n",
    "\n",
    "**Note:** You are welcome to also combine two or more project ideas into one bigger project. Or you can come up with a new project idea.  Reference the projects based on their project numbers. Do not change the numbers. "
   ]
  },
  {
   "cell_type": "markdown",
   "metadata": {},
   "source": [
    "## Top Three List (with some details)\n",
    "\n",
    "1. \n",
    "\n",
    "2. \n",
    "\n",
    "3. "
   ]
  },
  {
   "cell_type": "markdown",
   "metadata": {},
   "source": [
    "---\n",
    "\n",
    "# Project Ideas From Brainstorming:"
   ]
  },
  {
   "cell_type": "markdown",
   "metadata": {},
   "source": [
    "## Science/Math\n",
    "\n",
    "1. Prey - predator population modeling -- how does the presence (and number of) predators affect prey populations?  What factors affect this outcome?  How does adding other prey/predators influence the outcome?\n",
    "\n",
    "2. Can we model the US population by area over time using agent based modeling?\n",
    "\n",
    "3. Will the agent-based model predict the future size of wild areas based on existing knowledge?\n",
    "\n",
    "4. How do pests effect crop growth?\n",
    "\n",
    "5. How does forest cover (tropical rainforest, boreal, temperate, subtropical, coastal, etc.) affect species diversity?\n",
    "\n",
    "6. How do cities (inland, coastal, mega, small, etc.) affect migratory patterns of birds, mammals, insects, fish, amphibians, reptiles, etc.?  What can they do to coexist more effectively, minimizing negative impacts on neighboring animal populations in various settings/nations?\n",
    "\n",
    "7. ABM for protein folding based on genomic sequence\n",
    "\n",
    "8. Climate change: \n",
    "    a. Predict greenhouse gas levels in the atmosphere. \n",
    "    b. Is there causation between climate change and the increase in hurricanes?\n",
    "    c. environmental awareness relation to paper product production/market\n",
    "    \n",
    "9. Can agent based modeling be used to determine when trees lose their leaves in the fall?\n",
    "\n",
    "10. Astronomy: \n",
    "    a. analyzing the spectrum of stars and other properties\n",
    "    b. asteroid prediction. \n",
    "\n",
    "11. How do various hormones influence brain chemistry?\n",
    "\n",
    "12. Route optimization. Find the optimal route on:\n",
    "    a. MSU campus\n",
    "    b. somewhere else\n",
    "\n",
    "\n",
    "## Sports\n",
    "\n",
    "1. Can we predict the winners in a major tournament based on teams stats. Choose only one major tournament e.g. MLB, NFL, NBA, March Madness, FIFA world cup\n",
    "  \n",
    "2. MLB trade analyzer model\n",
    "\n",
    "3. Firing Coaches in Sports\n",
    "\n",
    "4. Predicting player performance and statistics in a football game\n",
    "\n",
    "5. How has top human speed changed over time, using 100m times. \n",
    "\n",
    "## Games\n",
    "\n",
    "1. What is the best Mario Kart car combination?\n",
    "\n",
    "2. Winning and betting strategies for games, choose one game\n",
    "    a. Checkers/chess game\n",
    "    b. Card-counting algorithm\n",
    "    c. Euchre/Blackjack\n",
    "    d. Puzzle games, e.g. sudoku\n",
    "    e. other?\n",
    "\n",
    "3. Looking at how fast can a person tag everyone in a game of tag with certain speeds.\n",
    "\n",
    "4. Analyze which team will reach the global finals and predict which team will eventually win the championship by building some of the League of Legends professionals' match data (including KDA, damage dealt, damage taken, economic share, damage conversion rate, etc. for each match)\n",
    "\n",
    "\n",
    "## Social\n",
    "\n",
    "1. Agent based modeling of risk taking.\n",
    "\n",
    "3. How did online classes affect the student's productivity and grades in college? Did their grades get better or worse?\n",
    "\n",
    "4. How does sustainability practices on campus influence our overall campus environment?\n",
    "\n",
    "5. Factors that lead to college acceptance, different colleges have different criteria, and can we predict if you will get accepted in a college?\n",
    "\n",
    "6. How does amount of homework affect the social life of a student? \n",
    "\n",
    "7. What is the precentage of the total population to start a revolution in a autocracy country\n",
    "\n",
    "8. Effects of pandemics on one of the following:\n",
    "    a. travel \n",
    "    b. economy\n",
    "    c. other\n",
    "    \n",
    "9. Can someone who has a low paying job afford certain things in different scenarios?\n",
    "\n",
    "10. How have American's efficacy towards elections changes over the last 100 years?\n",
    "\n",
    "11. How does gossip spreads in a social network? \n",
    "\n",
    "12. Looking at how media coverage time and exposure influence election results. \n",
    "\n",
    "13. predict how someone will react to a situation using fight out flight\n",
    "\n",
    "14. predict how many people will help someone in need looking at the amount of different groups of people\n",
    "\n",
    "15. what effect has the legalization of marijuana had on crime? (I would think crime would go down as there would be less people being arrested for possession of weed, but maybe due to DUI relating to weed crime may have gone up?).\n",
    "\n",
    "16. How do music streaming services make their recommendations? \n",
    "\n",
    "\n",
    "## Economy/Finance\n",
    "\n",
    "1. What factors determine the success of a movie ?\n",
    "\n",
    "2. Modeling the stock market:\n",
    "    a. How do tweets from polititians affect the prices of stocks?\n",
    "    b. Price prediction of a specific stock\n",
    "    \n",
    "3. Predicting \"Meme-coins\" in cryptocurrency\n",
    "\n",
    "4. What are the best investement strategies to build your stock portfolio to maximize performance?\n",
    "\n",
    "5. What investment strategies have the best short-term/long-term returns? \n",
    "\n",
    "6. How has the rise in inflation affected families in the U.S.?\n",
    "\n",
    "7. How to build a model that predicts the best credit limit for the bank customers, https://www.kaggle.com/competitions/home-credit-default-risk\n",
    "\n",
    "8. How does the increase of streaming service prices affect subscriber count? (how many people unsubscribe from Netflix when they increase their price a bit?)\n",
    "\n",
    "9. Trading between countries using mapping and graphs showing two way relation. \n",
    "\n",
    "10. ETF effect on Market sell offs, \n",
    "\n",
    "11. Understand the impact of the stock market by analyzing the various sectors of the stock and the economy during the pandemic\n",
    "\n",
    "12. Agent based modeling or using graph theory to understand international trade relationships.\n",
    "\n",
    "\n",
    "## Health\n",
    "\n",
    "1. How do the hormones change as an individual grows up? (show plots to display the hormonal changes)\n",
    "\n",
    "2. How does air condition influences the resporational illness\n",
    "\n",
    "3. Simulate the spread of a disease in the human body\n",
    "\n",
    "4. How does caffeine consumption correlate to productivity?\n",
    "\n",
    "5. Effects of social media on mental health:\n",
    "    a. What are the primary factors? \n",
    "\n",
    "8. How does living in a hotter climate affect quality of life?\n",
    "\n",
    "9. Is it possible to predict if a particular person is going to contract a particular illness (e.g. heart attack, alzheimer, cancer) either via genetic predisposition or other data (e.g. MRI images)? \n",
    "\n",
    "\n",
    "\n"
   ]
  },
  {
   "cell_type": "markdown",
   "metadata": {},
   "source": [
    "**PUT YOUR COMMENTS HERE**"
   ]
  },
  {
   "cell_type": "markdown",
   "metadata": {},
   "source": [
    "------\n",
    "\n",
    "# New project ideas\n",
    "\n",
    "If you've come up with new project ideas since our brainstorming session, feel free to add them here. Make sure to include the same sort of information you put together for your \"top 3\" models from above. Make a note in assignment wrap-up survey in the \"Follow-up Questions\" text box if any of your new ideas happen to be your new favorite idea."
   ]
  },
  {
   "cell_type": "markdown",
   "metadata": {},
   "source": [
    "## < New Idea >\n",
    "\n",
    "< New idea description >\n",
    "\n",
    "**Comments:**\n"
   ]
  },
  {
   "cell_type": "markdown",
   "metadata": {},
   "source": [
    "---\n",
    "## Follow-up Questions\n",
    "\n",
    "Copy and paste the following questions into the appropriate box in the assignment survey include below and answer them there. (Note: You'll have to fill out the assignment number and go to the \"NEXT\" section of the survey to paste in these questions.)\n",
    "\n",
    "1. What are your current top three project ideas that you're most interested in? (You should be able to copy this from the list your created at the beginning of this notebook)."
   ]
  },
  {
   "cell_type": "markdown",
   "metadata": {},
   "source": [
    "----\n",
    "# Assignment wrap-up\n",
    "\n",
    "Please fill out the form that appears when you run the code below.  **You must completely fill this out in order to receive credit for the assignment!**"
   ]
  },
  {
   "cell_type": "code",
   "execution_count": null,
   "metadata": {},
   "outputs": [],
   "source": [
    "from IPython.display import HTML\n",
    "HTML(\n",
    "\"\"\"\n",
    "<iframe \n",
    "\tsrc=\"https://cmse.msu.edu/cmse202-pc-survey\" \n",
    "\twidth=\"800px\" \n",
    "\theight=\"600px\" \n",
    "\tframeborder=\"0\" \n",
    "\tmarginheight=\"0\" \n",
    "\tmarginwidth=\"0\">\n",
    "\tLoading...\n",
    "</iframe>\n",
    "\"\"\"\n",
    ")"
   ]
  },
  {
   "cell_type": "markdown",
   "metadata": {},
   "source": [
    "---------\n",
    "### Congratulations, you're done with your pre-class assignment!\n",
    "\n",
    "Now, you just need to submit this assignment by uploading it to the course <a href=\"https://d2l.msu.edu/\">Desire2Learn</a> web page for today's submission folder (Don't forget to add your name in the first cell)."
   ]
  },
  {
   "cell_type": "markdown",
   "metadata": {},
   "source": [
    "&#169; Copyright 2021,  Department of Computational Mathematics, Science and Engineering at Michigan State University"
   ]
  }
 ],
 "metadata": {
  "kernelspec": {
   "display_name": "Python 3",
   "language": "python",
   "name": "python3"
  },
  "language_info": {
   "codemirror_mode": {
    "name": "ipython",
    "version": 3
   },
   "file_extension": ".py",
   "mimetype": "text/x-python",
   "name": "python",
   "nbconvert_exporter": "python",
   "pygments_lexer": "ipython3",
   "version": "3.8.8"
  },
  "latex_envs": {
   "LaTeX_envs_menu_present": true,
   "autoclose": false,
   "autocomplete": true,
   "bibliofile": "biblio.bib",
   "cite_by": "apalike",
   "current_citInitial": 1,
   "eqLabelWithNumbers": true,
   "eqNumInitial": 1,
   "hotkeys": {
    "equation": "Ctrl-E",
    "itemize": "Ctrl-I"
   },
   "labels_anchors": false,
   "latex_user_defs": false,
   "report_style_numbering": false,
   "user_envs_cfg": false
  }
 },
 "nbformat": 4,
 "nbformat_minor": 4
}
