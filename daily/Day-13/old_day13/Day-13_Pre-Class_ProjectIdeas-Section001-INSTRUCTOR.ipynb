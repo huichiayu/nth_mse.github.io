{
 "cells": [
  {
   "cell_type": "markdown",
   "metadata": {},
   "source": [
    "###ANSWER\n",
    "(for making sure this gets removed)\n",
    "\n",
    "### INSTRUCTOR CONTENT -- REMOVE THIS IN STUDENT VERSION\n",
    "#### The goals/notes for this class are:\n",
    "\n",
    "* Students should review a list of project ideas that come from a previous PCA. Instructors need to review these in advance of releasing this PCA based on the student responses to the previous PCA survey.\n",
    "* **Each section should have a different PCA based on the idea that came out of their section!!!**\n",
    "\n",
    "**Reminder**: Once you've generated your version of this PCA for your section, you can generate the STUDENT version using the `makeStudentVersion.py` script in this repo."
   ]
  },
  {
   "cell_type": "markdown",
   "metadata": {},
   "source": [
    "# [Section 001] Pre-Class Assignment: Reviewing Project Ideas\n",
    "# Day 13 \n",
    "# CMSE 202"
   ]
  },
  {
   "cell_type": "markdown",
   "metadata": {},
   "source": [
    "## <p style=\"text-align: right;\"> &#9989; Put your name here</p>"
   ]
  },
  {
   "cell_type": "markdown",
   "metadata": {},
   "source": [
    "In this pre-class assignment we are going to explore your project ideas for class.  The ideas are pulled from the project brainstorming you did previously. The instructional staff did their best to interpret the concept of your ideas based on what you submitted to the previous pre-class survey. In some cases we had to try to put vagues thoughts into concrete categories and we may have misconstrued the original intent -- sorry if your idea was mangled! Also, to make the list a manageably-sized, we tried to combine some ideas and couldn't include every single idea. If your idea didn't make the list, it doesn't mean it wasn't a good idea. You all did a wonderful job brainstorming!\n",
    "\n",
    "Please think about what would make a good and interesting project and complete the following:\n",
    "\n",
    "**&#9989; Do This:** \n",
    "\n",
    "1. Read though the following project ideas and put notes in the `comments` slot provided on any that you find interesting.\n",
    "2. Having read through them all, write down your top 3 in the list below using names like \"Social 1\" or \"Sports 2\" (the category and the number). Consider the following factors as you are investigating for your top 3.\n",
    "    * Is the project something you are interested in?\n",
    "    * How hard will the project be for a group to complete? \n",
    "    * Can you find any python libraries or datasets that would help with the project?\n",
    "    * Is this just a toy project or is the project scientifically motivated. That, is what broad scientific questions would this project be able to answer?\n",
    "3. Having selected three, add some details in your `Top Three List` with information like:\n",
    "    * Any links to new information or datasets.\n",
    "    * Scientific questions that this project would be able to explore.\n",
    "    * Computational methods you might use for the project.\n",
    "    * Additional thoughts or ideas you want to tell the instructors. \n",
    "\n",
    "**Note:** You are welcome to also combine two or more project ideas into one bigger project. Or you can come up with a new project idea.  Reference the projects based on their project numbers. Do not change the numbers. "
   ]
  },
  {
   "cell_type": "markdown",
   "metadata": {},
   "source": [
    "## Top Three List (with some details)\n",
    "\n",
    "1. \n",
    "\n",
    "2. \n",
    "\n",
    "3. "
   ]
  },
  {
   "cell_type": "markdown",
   "metadata": {},
   "source": [
    "###ANSWER\n",
    "\n",
    "**ATTENTION INSTRUCTORS**:\n",
    "\n",
    "The following project ideas show a possible example structure that you can use for categorizing/organizing the project ideas that come out of your students' brainstorming process.\n",
    "\n",
    "**YOU NEED TO MODIFIED THESE TO MATCH YOUR SECTION, DO NOT USE AS IS.** You should limit your total of possible project ideas to ~15-20 so that students don't get too overwhelmed by having too many options\n",
    "\n",
    "---"
   ]
  },
  {
   "cell_type": "markdown",
   "metadata": {},
   "source": [
    "---\n",
    "\n",
    "# Project Ideas From Brainstorming:"
   ]
  },
  {
   "cell_type": "markdown",
   "metadata": {},
   "source": [
    "## Science\n",
    "\n",
    "1. Modeling orbital dynamics (e.g. binary star systems, planetary systems).\n",
    "\n",
    "**comments**: \n",
    "\n",
    "2. Modeling ecological migration patterns (e.g. pollinator/bee populations, historical changes, etc.).\n",
    "\n",
    "**comments**:\n",
    "\n",
    "3. Building a forecasting model to predict weather patterns.\n",
    "\n",
    "**comments**:\n",
    "\n",
    "4. What factors predict likelihood of big scientific awards going to people from specific countries? (e.g. the Nobel Prize)\n",
    "\n",
    "**comments**:\n",
    "\n",
    "5. What is the carbon footprint of different varieties of commonly consumed foods? (e.g. milks: oat vs. almond vs. dairy) How do dietary preferences impact climate change?\n",
    "\n",
    "**commments**:\n",
    "\n",
    "6. Machine learning applied to astrophysical data (e.g. detecting black holes, high energy particles)\n",
    "\n",
    "**comments**:\n",
    "\n",
    "7. Can we model (e.g. with an agent-based model) how species out-compete each other? How do mutations provide evolutionary advantages to drive population dynamics? "
   ]
  },
  {
   "cell_type": "markdown",
   "metadata": {},
   "source": [
    "## Health\n",
    "\n",
    "1. Agent-based modeling to understand the spread of disease (e.g. predicting coronovirus transmission).\n",
    "\n",
    "**comments**:\n",
    "\n",
    "2. How does the nutritional value change in food as a function of agricultural methods?\n",
    "\n",
    "**comments**\n",
    "\n",
    "3. How does vaccination rate influence COVID-19 case counts?\n",
    "\n",
    "**comments**\n",
    "\n",
    "4. How has COVID impacted the stock market, industry performance, etc.?"
   ]
  },
  {
   "cell_type": "markdown",
   "metadata": {},
   "source": [
    "## Social\n",
    "\n",
    "1. Managing and optimizing traffic flow in a big city.\n",
    "\n",
    "**comments**:\n",
    "\n",
    "2. What factors predict rate of crime in a particular city?\n",
    "\n",
    "**comments**:"
   ]
  },
  {
   "cell_type": "markdown",
   "metadata": {},
   "source": [
    "## Financial\n",
    "\n",
    "1. Modeling and predicting cryto-currency behavior.\n",
    " \n",
    "**comments**:\n",
    "\n",
    "2. Predicting stock market behavior using modern machine learning methods.\n",
    "\n",
    "**comments**:\n",
    "\n",
    "3. How does the connected-ness of cities/countries from an airline perspective influence trade?\n",
    "\n",
    "**comments**:\n",
    "\n",
    "4. Modeling the relationships between cryto-currency and the traditional stock market"
   ]
  },
  {
   "cell_type": "markdown",
   "metadata": {},
   "source": [
    "## Tech\n",
    "\n",
    "1. How have apps like Apple Music and Spotify influenced music trends?\n",
    "\n",
    "**comments**:\n",
    "\n",
    "2. How has social media impacted mental health?\n",
    "\n",
    "**comments**:\n",
    "\n",
    "3. What has been the academic performance impact of technology in modern classrooms?\n",
    "\n",
    "**comments**:\n",
    "\n",
    "4. How does does the popularity of streaming-based media changed based on location? (e.g. which Netflix shows are most popular by city? by college campus? etc.)\n",
    "\n",
    "**comments**:\n",
    "\n",
    "5. Can we model the popularity/spread of memes? TikTok trends? etc.\n",
    "\n",
    "**comments**:"
   ]
  },
  {
   "cell_type": "markdown",
   "metadata": {},
   "source": [
    "## Sports\n",
    "\n",
    "1. How has baseball, football, basketball, or some other sport evolved over time? What players traits dominated the game historically? How have the stats changed?\n",
    "\n",
    "**comments**:\n",
    "\n",
    "2. Can a stastical model accurate predict March Madness outcomes? the Super Bowl? (or other tournament outcomes?)\n",
    "\n",
    "**comments**:\n",
    "\n"
   ]
  },
  {
   "cell_type": "markdown",
   "metadata": {},
   "source": [
    "------\n",
    "\n",
    "# New project ideas\n",
    "\n",
    "If you've come up with new project ideas since our brainstorming session, feel free to add them here. Make sure to include the same sort of information you put together for your \"top 3\" models from above. Make a note in assignment wrap-up survey in the \"Follow-up Questions\" text box if any of your new ideas happen to be your new favorite idea."
   ]
  },
  {
   "cell_type": "markdown",
   "metadata": {},
   "source": [
    "## < New Idea >\n",
    "\n",
    "< New idea description >\n",
    "\n",
    "**Comments:**\n"
   ]
  },
  {
   "cell_type": "markdown",
   "metadata": {},
   "source": [
    "---\n",
    "## Follow-up Questions\n",
    "\n",
    "Copy and paste the following questions into the appropriate box in the assignment survey include below and answer them there. (Note: You'll have to fill out the assignment number and go to the \"NEXT\" section of the survey to paste in these questions.)\n",
    "\n",
    "1. What are your current top three project ideas that you're most interested in? (You should be able to copy this from the list you created at the beginning of this notebook)."
   ]
  },
  {
   "cell_type": "markdown",
   "metadata": {},
   "source": [
    "----\n",
    "# Assignment wrap-up\n",
    "\n",
    "Please fill out the form that appears when you run the code below.  **You must completely fill this out in order to receive credit for the assignment!**"
   ]
  },
  {
   "cell_type": "code",
   "execution_count": null,
   "metadata": {},
   "outputs": [],
   "source": [
    "from IPython.display import HTML\n",
    "HTML(\n",
    "\"\"\"\n",
    "<iframe \n",
    "\tsrc=\"https://cmse.msu.edu/cmse202-pc-survey\" \n",
    "\twidth=\"800px\" \n",
    "\theight=\"600px\" \n",
    "\tframeborder=\"0\" \n",
    "\tmarginheight=\"0\" \n",
    "\tmarginwidth=\"0\">\n",
    "\tLoading...\n",
    "</iframe>\n",
    "\"\"\"\n",
    ")"
   ]
  },
  {
   "cell_type": "markdown",
   "metadata": {},
   "source": [
    "---------\n",
    "### Congratulations, you're done with your pre-class assignment!\n",
    "\n",
    "Now, you just need to submit this assignment by uploading it to the course <a href=\"https://d2l.msu.edu/\">Desire2Learn</a> web page for today's submission folder (Don't forget to add your name in the first cell)."
   ]
  },
  {
   "cell_type": "markdown",
   "metadata": {},
   "source": [
    "&#169; Copyright 2021,  Department of Computational Mathematics, Science and Engineering at Michigan State University"
   ]
  }
 ],
 "metadata": {
  "kernelspec": {
   "display_name": "Python 3 (ipykernel)",
   "language": "python",
   "name": "python3"
  },
  "language_info": {
   "codemirror_mode": {
    "name": "ipython",
    "version": 3
   },
   "file_extension": ".py",
   "mimetype": "text/x-python",
   "name": "python",
   "nbconvert_exporter": "python",
   "pygments_lexer": "ipython3",
   "version": "3.9.12"
  }
 },
 "nbformat": 4,
 "nbformat_minor": 4
}
