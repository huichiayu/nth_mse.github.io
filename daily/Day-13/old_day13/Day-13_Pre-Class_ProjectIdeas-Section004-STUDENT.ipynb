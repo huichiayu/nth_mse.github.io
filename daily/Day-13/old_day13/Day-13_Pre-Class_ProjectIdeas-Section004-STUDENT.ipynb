{
 "cells": [
  {
   "cell_type": "markdown",
   "metadata": {},
   "source": [
    "# [Section 004] Pre-Class Assignment: Reviewing Project Ideas\n",
    "# Day 13 \n",
    "# CMSE 202"
   ]
  },
  {
   "cell_type": "markdown",
   "metadata": {},
   "source": [
    "## <p style=\"text-align: right;\"> &#9989; Put your name here</p>"
   ]
  },
  {
   "cell_type": "markdown",
   "metadata": {},
   "source": [
    "In this pre-class assignment we are going to explore your project ideas for class.  The ideas are pulled from the project brainstorming you did previously. The instructional staff did their best to interpret the concept of your ideas based on what you submitted to the previous pre-class survey. In some cases we had to try to put vagues thoughts into concrete categories and we may have misconstrued the original intent -- sorry if your idea was mangled!\n",
    "\n",
    "Please think about what would make a good and interesting project and complete the following:\n",
    "\n",
    "**&#9989; Do This:** \n",
    "\n",
    "1. Read though the following project ideas and put notes in the `comments` slot provided on any that you find interesting.\n",
    "2. Having read through them all, write down your top 3 in the list below using names like \"Social 1\" or \"Sports 2\" (the category and the number). Consider the following factors as you are investigating for your top 3.\n",
    "    * Is the project something you are interested in?\n",
    "    * How hard will the project be for a group to complete? \n",
    "    * Can you find any python libraries or datasets that would help with the project?\n",
    "    * Is this just a toy project or is the project scientifically motivated. I.e. what broad scientific questions would this project be able to answer?\n",
    "3. Having selected three, add some details in your `Top Three List` with information like:\n",
    "    * Any links to new information or datasets.\n",
    "    * Scientific questions that this project would be able to explore.\n",
    "    * Computational methods you might use for the project.\n",
    "    * Additional thoughts or ideas you want to tell the instructors. \n",
    "\n",
    "**Note:** You are welcome to also combine two or more project ideas into one bigger project. Or you can come up with a new project idea.  Reference the projects based on their project numbers. Do not change the numbers. "
   ]
  },
  {
   "cell_type": "markdown",
   "metadata": {},
   "source": [
    "## Top Three List (with some details)\n",
    "\n",
    "1. \n",
    "\n",
    "2. \n",
    "\n",
    "3. "
   ]
  },
  {
   "cell_type": "markdown",
   "metadata": {},
   "source": [
    "---\n",
    "\n",
    "# Project Ideas From Brainstorming:"
   ]
  },
  {
   "cell_type": "markdown",
   "metadata": {},
   "source": [
    "## Health\n",
    "\n",
    "1. What factors contributed to the leading causes of deaths over the past few years?\n",
    "\n",
    "**comments**:\n",
    "\n",
    "2. Modeling the spread of a disease (not just COVID), using ABM or compartmental models.\n",
    "\n",
    "**comments**:\n",
    "\n",
    "3. Modeling the spread of Alzheimer in the brain\n",
    "\n",
    "**comments**:\n",
    "\n",
    "4. Covid timeline\n",
    "\n",
    "**comments**:\n",
    "\n",
    "5. How do colorblind people's brains work vs non-colorblind.\n",
    "\n",
    "**comments**:\n"
   ]
  },
  {
   "cell_type": "markdown",
   "metadata": {},
   "source": [
    "## Social\n",
    "\n",
    "1. Analyzing gun control, drunk driving, or standardized testing.\n",
    "\n",
    "**comments**:\n",
    "\n",
    "2. Predator-prey modeling. \n",
    "\n",
    "**comments**:\n",
    "\n",
    "3. Time optimization at amusement parks/university campuses/dining halls.\n",
    "\n",
    "**comments**:\n",
    "\n",
    "4. Effect of COVID policies on unemployment or travel or communication or remote-work or nightlife or sports or students' performances\n",
    "\n",
    "**comments**:\n",
    "\n",
    "5. Predict success of students based on various factors\n",
    "\n",
    "**comments**:\n",
    "\n",
    "6. Model crime\n",
    "\n",
    "**comments**:\n",
    "\n",
    "7. Traffic patterns\n",
    "\n",
    "**comments**:\n",
    "\n",
    "8. ABM for spreading rumors\n",
    "\n",
    "**comments**:\n",
    "\n",
    "9. Predicting/tracking migration patterns of animals\n",
    "\n",
    "**comments**:\n",
    "\n",
    "10. Modeling the spread of historical empires over a geographical area. [Link](https://www.pnas.org/doi/10.1073/pnas.1308825110#sec-5 )\n",
    "\n",
    "**comments**:\n",
    "\n",
    "11. Modeling the housing crisis \n",
    "\n",
    "**comments**:\n",
    "\n",
    "12. Does an MSU student's choice of major affect their likelihood of graduating?\n",
    "\n",
    "**comments**:\n",
    "\n",
    "13. Migration patterns among US states\n",
    "\n",
    "**comments**:\n"
   ]
  },
  {
   "cell_type": "markdown",
   "metadata": {},
   "source": [
    "## Financial\n",
    "\n",
    "1. Effect of war/conflicts on the stock market or oil prices\n",
    " \n",
    "**comments**:\n",
    " \n",
    "2. Effects of meme stocks on the stock market\n",
    "\n",
    "**comments**:\n",
    "\n",
    "3. Model correlation between different jobs and their pay\n",
    "\n",
    "**comments**:\n",
    "\n",
    "4. Could we predict the Great Resignation?\n",
    "\n",
    "**comments**:\n"
   ]
  },
  {
   "cell_type": "markdown",
   "metadata": {},
   "source": [
    "## Science\n",
    "\n",
    "1. Exoplanets hunting\n",
    "\n",
    "**comments**:\n",
    "\n",
    "2. Astronomy simulations (planetary movement, black holes, stars, life cycle of stars)\n",
    "\n",
    "**comments**:\n",
    "\n",
    "3. Predict the movement of continents\n",
    "\n",
    "**comments**:\n",
    "\n",
    "4. Prediction of animal migration patterns\n",
    "\n",
    "**comments**:\n",
    "\n",
    "5. Predict habitality of a planet\n",
    "\n",
    "**comments**:\n",
    "\n",
    "6. Model earthquakes\n",
    "\n",
    "**comments**:\n"
   ]
  },
  {
   "cell_type": "markdown",
   "metadata": {},
   "source": [
    "## Tech\n",
    "\n",
    "1. Something similar to Spotify wrap. [Link](https://en.wikipedia.org/wiki/Spotify_Wrapped)\n",
    "\n",
    "**comments**:\n",
    "\n",
    "2. Product recommendation based on past history\n",
    "\n",
    "**comments**:\n",
    "\n",
    "3. How can credit card applicants predict whether they will be approved or not depending on economic factors?\n",
    "\n",
    "**comments**:\n",
    "\n",
    "4. Predict whether a new product will be successfull\n",
    "\n",
    "**comments**:\n",
    "\n"
   ]
  },
  {
   "cell_type": "markdown",
   "metadata": {},
   "source": [
    "## Sports\n",
    "\n",
    "1. Predicting the outcome of a match or tournament (i.e. March Madness, Superbowl). Any sport \n",
    "\n",
    "**comments**:\n",
    "\n",
    "2. Sports betting\n",
    "\n",
    "**comments**:\n",
    "\n",
    "3. Winning strategies in poker or chess or blackjack or other card game.\n",
    "\n",
    "**comments**:\n",
    "\n",
    "4. Can we predict future pro-players?\n",
    "\n",
    "**comments**:\n",
    "\n",
    "5. Effect of stadium on a player's performance\n",
    "\n",
    "**comments**:\n",
    "\n",
    "6. Do children who play sports grow up to be better or worse in school than those who don't?\n",
    "\n",
    "**comments**:\n",
    "\n",
    "7. What are the most important basketball figures (field goal percentage, defense, rebounding, etc.) that determine the success of NCAA basketball teams?\n",
    "\n",
    "**comments**:"
   ]
  },
  {
   "cell_type": "markdown",
   "metadata": {},
   "source": [
    "## Gaming\n",
    "\n",
    "1. Recreate the Cat Trap game [Link](https://llerrah.com/cattrap.htm)\n",
    "\n",
    "**comments**:\n",
    "\n",
    "2. Critical hit design in video games. What are the equations involved with them, and if I can somehow create a class or model to determine what game (if any) implement a critical hit in the most fair or usable way. Inspiration from: [Link](https://www.youtube.com/watch?v=fMFkd7edBR0)\n",
    "\n",
    "**comments**:\n",
    "\n",
    "3. Making a Pokedex using Python\n",
    "\n",
    "**comments**:\n",
    "\n",
    "4. Chess bot\n",
    "\n",
    "**comments**:"
   ]
  },
  {
   "cell_type": "markdown",
   "metadata": {},
   "source": [
    "## Music\n",
    "\n",
    "1. Detect similarities in sheets of music to determine the most important scales in classical pieces\n",
    "\n",
    "**comments**:\n"
   ]
  },
  {
   "cell_type": "markdown",
   "metadata": {},
   "source": [
    "------\n",
    "\n",
    "# New project ideas\n",
    "\n",
    "If you've come up with new project ideas since our brainstorming session, feel free to add them here. Make sure to include the same sort of information you put together for your \"top 3\" models from above. Make a note in assignment wrap-up survey in the \"Follow-up Questions\" text box if any of your new ideas happen to be your new favorite idea."
   ]
  },
  {
   "cell_type": "markdown",
   "metadata": {},
   "source": [
    "## < New Idea >\n",
    "\n",
    "< New idea description >\n",
    "\n",
    "**Comments:**\n"
   ]
  },
  {
   "cell_type": "markdown",
   "metadata": {},
   "source": [
    "---\n",
    "## Follow-up Questions\n",
    "\n",
    "Copy and paste the following questions into the appropriate box in the assignment survey include below and answer them there. (Note: You'll have to fill out the assignment number and go to the \"NEXT\" section of the survey to paste in these questions.)\n",
    "\n",
    "1. What are your current top three project ideas that you're most interested in? (You should be able to copy this from the list your created at the beginning of this notebook)."
   ]
  },
  {
   "cell_type": "markdown",
   "metadata": {},
   "source": [
    "----\n",
    "# Assignment wrap-up\n",
    "\n",
    "Please fill out the form that appears when you run the code below.  **You must completely fill this out in order to receive credit for the assignment!**"
   ]
  },
  {
   "cell_type": "code",
   "execution_count": null,
   "metadata": {},
   "outputs": [],
   "source": [
    "from IPython.display import HTML\n",
    "HTML(\n",
    "\"\"\"\n",
    "<iframe \n",
    "\tsrc=\"https://cmse.msu.edu/cmse202-pc-survey\" \n",
    "\twidth=\"800px\" \n",
    "\theight=\"600px\" \n",
    "\tframeborder=\"0\" \n",
    "\tmarginheight=\"0\" \n",
    "\tmarginwidth=\"0\">\n",
    "\tLoading...\n",
    "</iframe>\n",
    "\"\"\"\n",
    ")"
   ]
  },
  {
   "cell_type": "markdown",
   "metadata": {},
   "source": [
    "---------\n",
    "### Congratulations, you're done with your pre-class assignment!\n",
    "\n",
    "Now, you just need to submit this assignment by uploading it to the course <a href=\"https://d2l.msu.edu/\">Desire2Learn</a> web page for today's submission folder (Don't forget to add your name in the first cell)."
   ]
  },
  {
   "cell_type": "markdown",
   "metadata": {},
   "source": [
    "&#169; Copyright 2021,  Department of Computational Mathematics, Science and Engineering at Michigan State University"
   ]
  }
 ],
 "metadata": {
  "kernelspec": {
   "display_name": "Python 3 (ipykernel)",
   "language": "python",
   "name": "python3"
  },
  "language_info": {
   "codemirror_mode": {
    "name": "ipython",
    "version": 3
   },
   "file_extension": ".py",
   "mimetype": "text/x-python",
   "name": "python",
   "nbconvert_exporter": "python",
   "pygments_lexer": "ipython3",
   "version": "3.10.0"
  }
 },
 "nbformat": 4,
 "nbformat_minor": 4
}
