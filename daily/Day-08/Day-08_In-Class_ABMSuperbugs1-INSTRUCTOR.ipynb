{
 "cells": [
  {
   "cell_type": "markdown",
   "metadata": {},
   "source": [
    "###ANSWER\n",
    "(for making sure this gets removed)\n",
    "\n",
    "### INSTRUCTOR CONTENT -- REMOVE THIS IN STUDENT VERSION\n",
    "#### The goals for this class are:\n",
    "\n",
    "* Student should spend some time practicing and thinking about implementing classes. The bulk of the time in this assignment is spend figuring out how to initialize the \"petri dish\" with the right sort of antibiotic values and bugs with random genes.\n",
    "    * Note that not everything is perfectly laid out in the model details, there are some aspects that they have to decide on with their groups. There is a free response prompt that gets at this.\n",
    "* Students should be thinking about this in the context of building and agent-based model, which should be topic that have some comfort with from 201\n",
    "* Students should have the opportunity to practice using \"stub functions\" to build their new Python class.\n",
    "\n",
    "### Notes for in-class meta-messaging:\n",
    "* Depending on how things go, they might not get all the way through to the point of getting something functioning, but that's OK. We will be picking up on this model next class as well. They should do their best to get something working but they'll be able to finish/improve upon it during the beginning of the next class period.\n",
    "* Encourage students to discuss ways that they can set this up with their group and that there's not necessarily one right way to do this.\n",
    "* Remind students that the goal is to practice using classes. Two obvious classes: the petri dish and a single bacteria. What information would these need to store? What should the initialization step look like for each? What role would composition play? (e.g. the petri dish might store a list of bug objects).\n",
    "* Section 4: We can briefly talk about RGB color and gray scale image ([1 1 1] and [0 0 0] are white and black, respectively.) When the vector has same value of the three components, it shows only the intensity (gray scale)."
   ]
  },
  {
   "cell_type": "markdown",
   "metadata": {},
   "source": [
    "# In-Class Assignment: Simulating Superbugs using agent-based modeling\n",
    "# Day 8\n",
    "# CMSE 202\n",
    "\n",
    "<img src=\"https://sites.psu.edu/siowfa16/files/2016/10/Screen-Shot-2016-10-18-at-12.50.26-AM-1egeuzd.png\" width=400px>\n",
    "<p style=\"text-align: right;\">Image from: https://sites.psu.edu/siowfa16/2016/10/18/what-are-superbugs/comment-page-1/</p>"
   ]
  },
  {
   "cell_type": "markdown",
   "metadata": {},
   "source": [
    "### <p style=\"text-align: right;\"> &#9989; **Put your name here** </p>\n",
    "#### <p style=\"text-align: right;\"> &#9989; Put your group member names here</p>"
   ]
  },
  {
   "cell_type": "markdown",
   "metadata": {},
   "source": [
    "## Learning Goals:\n",
    "\n",
    "By the end of this assignment you should have:\n",
    "* Become more comfortable with writing a custom class from scratch\n",
    "* Practiced using stub functions to sketch out the methods needed by a new class\n",
    "* Designed a plan for implementing an agent-based model to simulate bacteria evolution\n",
    "    * **Note**: Design decisions early on can have a large impact on the final outcome.  Try to make design decisions that are flexible. Do not be afraid to refactor your code (i.e. start over with the design). \n",
    "\n",
    "## Agenda\n",
    "\n",
    "1. [Pre-class assignment review and discussion](#pca-review)\n",
    "1. [Problem Description (simulating bacteria evolution)](#problem)\n",
    "1. [Building code stubs for your model (using classes and methods)](#code-stubs)\n",
    "1. [Preview Visualization](#visualization)\n",
    "\n",
    "## Assignment instructions\n",
    "\n",
    "Instructions for submitting this assignment are at the end of the notebook. The assignment is due at the end of class.\n"
   ]
  },
  {
   "cell_type": "markdown",
   "metadata": {},
   "source": [
    "---\n",
    "<a id=\"pca-review\"></a>\n",
    "# 1. Pre-class assignment review and discussion\n",
    "\n",
    "Did anyone have any specific issues with the pre-class assignment?\n",
    "\n",
    "Let's take a moment to highlight some key concepts. **Discuss with your group** the following prompts and write down a some brief notes from your discussion.\n",
    "\n",
    "&#9989; **Question 1:** What data structures did you think you might need to simulate the petri-dish experiment? What would these data structures be used to represent or keep track of?"
   ]
  },
  {
   "cell_type": "markdown",
   "metadata": {},
   "source": [
    "<font size=+3>&#9998;</font> Do This -  Make note of anything that comes up in your discussion that you didn't originally think or any ideas that you had based on your discussion."
   ]
  },
  {
   "cell_type": "markdown",
   "metadata": {},
   "source": [
    "&#9989; **Question 2:** What classes did you think you would need to define and what were some of the methods you came up with?"
   ]
  },
  {
   "cell_type": "markdown",
   "metadata": {},
   "source": [
    "<font size=+3>&#9998;</font> Do This -  Make note of anything that comes up in your discussion that you didn't originally think or any ideas that you had based on your discussion."
   ]
  },
  {
   "cell_type": "markdown",
   "metadata": {},
   "source": [
    "----\n",
    "<a id=\"problem\"></a>\n",
    "# 2. Problem Description (simulating bacteria evolution)\n",
    "\n",
    "In this assignment we are going to start to build an agent based model to simulate the evolution of bacteria to become resistant to antibiotics.   If you need to refresh your memory, re-watch the following video that was in your pre-class assignment.  Our goal is to build a simulation that reconstructs this real world experiment. \n",
    "\n",
    "Here are the links to the original article as well:\n",
    "\n",
    "* https://www-science-org.proxy2.cl.msu.edu/doi/epdf/10.1126/science.aag0822\n",
    "* https://www-science-org.proxy2.cl.msu.edu/doi/10.1126/science.aah5641\n",
    "* https://www.aaas.org/news/scientists-build-giant-petri-dish-film-bacteria-resistance\n",
    "\n",
    "\n"
   ]
  },
  {
   "cell_type": "code",
   "execution_count": null,
   "metadata": {},
   "outputs": [],
   "source": [
    "from IPython.display import YouTubeVideo\n",
    "YouTubeVideo(\"yybsSqcB7mE\",width=640,height=360)"
   ]
  },
  {
   "cell_type": "markdown",
   "metadata": {},
   "source": [
    "To make this ABM work we would like you to build a system with the following assumptions.\n",
    "\n",
    "1. Assume a random rectangular petri dish of ```N``` locations wide and ```M``` locations tall (e.g. 90 x 45).\n",
    "1. Assume that each location on the board is given three (3) different types of antibiotics which each can have continuous values from min to max (e.g. 0 to 1).\n",
    "1. Assume that bacteria on the board do not move. \n",
    "1. Assume each bacteria has a genome sequence of three genes of continuous number (e.g. 0 to 1) that provide immunity to the antibiotics. Each gene will correspond to one of the antibiotic elements deposited on the petri dish\n",
    "1. Assume that at each iteration of the simulation each bacteria can randomly copy itself once to a random neighboring empty cell (up, down, left, or right). \n",
    "1. Assume that during the copy there is a chance of mutating each gene (randomly selecting a new value between zero and one) by some mutation rate (e.g. 20%). \n",
    "1. Assume that a bacteria will \"die\" if the value of it's gene does not contain resistance to any one of the three antibacteria. For example, if the gene is a number less than the value of it's corresponding antibiotic it will die.\n",
    "\n",
    "**NOTE:** Assumptions are very important.  Make sure you document any major changes, clarifications or deviations from the above.  Instead of asking your instructor for clarification, try looking at the end goal (simulate the petri dish experiment) and make your own clarification. There are many right answers.  "
   ]
  },
  {
   "cell_type": "markdown",
   "metadata": {},
   "source": [
    "&#9989; **Question 3:** What additional assumptions do you think you need to make for this project?  Do you need to modify or add to any of the above assumptions to make the problem more tractable?"
   ]
  },
  {
   "cell_type": "markdown",
   "metadata": {},
   "source": [
    "<font size=+3>&#9998;</font> Do This - Erase the contents of this cell and replace it with your answer to the above question!  (double-click on this text to edit this cell, and hit shift+enter to save the text)"
   ]
  },
  {
   "cell_type": "markdown",
   "metadata": {},
   "source": [
    "**Consider the following example simulation as one possible solution to this problem:**"
   ]
  },
  {
   "cell_type": "code",
   "execution_count": null,
   "metadata": {},
   "outputs": [],
   "source": [
    "from IPython.display import YouTubeVideo\n",
    "YouTubeVideo(\"p_wGHmNYE_0\",width=800,height=450)"
   ]
  },
  {
   "cell_type": "markdown",
   "metadata": {},
   "source": [
    "This video was created with the following settings:\n",
    "\n",
    "* The bugs were initialized in the first and last column of the petri dish with randomly generated bacteria \n",
    "* Equal amounts of all three antibiotics in 9 different bins using the following pattern:  \n",
    "    | 0.0 | 0.50 | 0.75 | 0.80 | 0.95 | 0.80 | 0.75 | 0.5 | 0.0 |\n",
    "* The cells copied with a mutation rate of 20% (i.e. there is a 20% chance each gene will randomly mutate during each copy).\n"
   ]
  },
  {
   "cell_type": "markdown",
   "metadata": {},
   "source": [
    "----\n",
    "<a id=\"code-stubs\"></a>\n",
    "# 3. Building code stubs for your model (using classes and methods)\n",
    "\n",
    "**&#9989; Do This:** **As a group**, decide on what classes and functions that will be needed for the simulation and create stub functions for your classes.  Focus on the inputs, outputs and data types, but don't worry about trying to code up all of your methods yet! You just need the stub functions. \n",
    "\n",
    "Here are some hints:\n",
    "- you can use the `pass` keyword to create an empty class or an empty method. However, in creating an empty method you can still specify the input parameters which can be useful\n",
    "- you might think about some class variables, values that can be stored and utilized by all instances"
   ]
  },
  {
   "cell_type": "markdown",
   "metadata": {},
   "source": [
    "### ANSWER ##\n",
    "\n",
    "Student's will think to have bugs and a world.  Have them develop their own stub functions.  Since a bug doesn't move, it doesn't need to know it's location. However, it does need to know it genes.  \n",
    "\n",
    "Maybe bugs can just be represented as genes?  Do we need anything else?  This design should work either way.\n",
    "\n",
    "The world is more important.  Have the students talk though the different design. Some ideas:\n",
    "\n",
    "- Have world maintain a 2D array of bugs. Maybe just genes.\n",
    "- Have world maintain a 2D array for antibotics. \n",
    "- You could create a 1D list of bugs with locations. \n",
    "- You could also create a 1D list of bugs that are not-locked into the simulation.\n",
    "\n",
    "Lots of options could happen let them see what they come up with and adjust as needed.  \n"
   ]
  },
  {
   "cell_type": "code",
   "execution_count": null,
   "metadata": {},
   "outputs": [],
   "source": [
    "# Put your stub functions here\n"
   ]
  },
  {
   "cell_type": "code",
   "execution_count": null,
   "metadata": {},
   "outputs": [],
   "source": [
    "### ANSWER ###\n",
    "\n",
    "%matplotlib inline\n",
    "import matplotlib.pyplot as plt\n",
    "import random \n",
    "import numpy as np\n",
    "\n",
    "class Bug:\n",
    "    def __init__(self, mutation_rate=0.8, genes=[0.5, 0.5, 0.5], location=(0, 0)):\n",
    "        self.mutation_rate = mutation_rate\n",
    "        self.genes = genes\n",
    "        self.location = location\n",
    "\n",
    "    def draw(self):\n",
    "        pass\n",
    "\n",
    "class World:\n",
    "    def __init__(self, n_rows=45, n_cols=90):\n",
    "        self.antibodies = np.zeros((1, 1, 3))\n",
    "        self.buglist = {}\n",
    "    \n",
    "    def timestep(self):\n",
    "        pass\n",
    "\n",
    "    def draw(self):\n",
    "        pass\n",
    "    \n",
    "\n",
    "### ANSWER ###"
   ]
  },
  {
   "cell_type": "markdown",
   "metadata": {},
   "source": [
    "----\n",
    "<a id=\"visualization\"></a>\n",
    "# 4.  Initialize and draw your \"world\" for the model (i.e. the petri dish and initial bacteria)"
   ]
  },
  {
   "cell_type": "markdown",
   "metadata": {},
   "source": [
    "Lets start filling in the stub functions by focusing on the **visualization**. Try considering the following:\n",
    "\n",
    "* Use colors to indicate the level of antibiotics in the petri dish. Since there are three antibiotics you can use the Red, Green and Blue Channels to indicate the amount of each of the three antibiotics. The `imshow` function can process a 2D array of RGB values.\n",
    "* Use colors to differentiate the types of the bugs. Since there are three genes for each bug, you can use the Red, Green and Blue color channels to differentiate them. The `scatter` function can take in a list of RGB values to color a point.\n",
    "\n",
    "You should come up with a method (or couple of methods) in your class (or classes) to draw the petri dish and the bugs. Should bug be able to draw themselves on the petri dish given their location? Or should the petri dish handling all of the drawing given a list of bugs? You get to choose how to do this!"
   ]
  },
  {
   "cell_type": "markdown",
   "metadata": {},
   "source": [
    "**&#9989; Do This:** Try to implement some of your stub functions to initialize the problem and see if you can come up with a method to visualize the starting state. See if you can create a board that looks similar to the following:\n",
    "<div align=\"center\"><img src=\"https://i.ibb.co/gwwg9rC/example-dish.png\" alt=\"example-dish\" border=\"0\", width=800></div>\n"
   ]
  },
  {
   "cell_type": "markdown",
   "metadata": {},
   "source": [
    "##ANSWER##\n",
    "\n",
    "A common problem students might see is:\n",
    "\n",
    "- NameError: name 'buglist' is not defined\n",
    "\n",
    "This is most likely because they are trying to reference a class variable.  They need to add the self keyword.\n",
    "\n",
    "##ANSWER##"
   ]
  },
  {
   "cell_type": "code",
   "execution_count": null,
   "metadata": {},
   "outputs": [],
   "source": [
    "# Put your code here\n"
   ]
  },
  {
   "cell_type": "code",
   "execution_count": null,
   "metadata": {},
   "outputs": [],
   "source": [
    "###ANSWER###\n",
    "\n",
    "%matplotlib inline\n",
    "import matplotlib.pyplot as plt\n",
    "import random \n",
    "import numpy as np\n",
    "\n",
    "class Bug:\n",
    "    def __init__(self, mutation_rate=0.8, genes=[0.5, 0.5, 0.5], location=(0, 0)):\n",
    "            self.mutation_rate = mutation_rate\n",
    "            self.genes = [random.random(), random.random(), random.random()]\n",
    "            self.location = location\n",
    "            pass\n",
    "\n",
    "    \n",
    "    def draw(self):\n",
    "        plt.scatter(self.location[0], self.location[1], color=self.genes)\n",
    "        pass\n",
    "\n",
    "class World:\n",
    "    def __init__(self, n_rows = 45, n_cols = 90):\n",
    "        self.antibodies = np.zeros((1, 1, 3))\n",
    "        self.buglist = {}\n",
    "        for row in range(n_rows):\n",
    "            br = Bug(location=(0,row))\n",
    "            bl = Bug(location=(n_cols-1,row))\n",
    "            self.buglist[br.location] = br\n",
    "            self.buglist[bl.location] = bl\n",
    "            \n",
    "        ##Set up board##\n",
    "        self.antibodies=np.zeros((n_rows,n_cols,3))\n",
    "        self.antibodies[:,10:80] = [0.5,0.5,0.5]\n",
    "        self.antibodies[:,20:70] = [0.75,0.75,0.75]\n",
    "        self.antibodies[:,30:60] = [0.8,0.8,0.8]\n",
    "        self.antibodies[:,40:50] = [0.95,0.95,0.95]\n",
    "\n",
    "    \n",
    "    def timestep(self):        \n",
    "        pass\n",
    "\n",
    "\n",
    "    def draw(self):\n",
    "        plt.imshow(1.0-self.antibodies)\n",
    "        for b in self.buglist:\n",
    "            self.buglist[b].draw()\n",
    "        pass\n",
    "###ANSWER###"
   ]
  },
  {
   "cell_type": "code",
   "execution_count": null,
   "metadata": {},
   "outputs": [],
   "source": [
    "###ANSWER###\n",
    "plt.figure(figsize=(14,8))\n",
    "w = World()\n",
    "w.draw()\n",
    "###ANSWER###\n",
    "plt.savefig(\"example_dish.png\")"
   ]
  },
  {
   "cell_type": "markdown",
   "metadata": {},
   "source": [
    "----"
   ]
  },
  {
   "cell_type": "markdown",
   "metadata": {},
   "source": [
    "-----\n",
    "### Congratulations, we're done!\n",
    "\n",
    "Now, you just need to submit this assignment by uploading it to the course <a href=\"https://d2l.msu.edu/\">Desire2Learn</a> web page for today's submission folder (Don't forget to add your names in the first cell).\n"
   ]
  },
  {
   "cell_type": "markdown",
   "metadata": {},
   "source": [
    "&#169; Copyright 2025, Department of Computational Mathematics, Science and Engineering at Michigan State University"
   ]
  }
 ],
 "metadata": {
  "kernelspec": {
   "display_name": "Python [conda env:base] *",
   "language": "python",
   "name": "conda-base-py"
  },
  "language_info": {
   "codemirror_mode": {
    "name": "ipython",
    "version": 3
   },
   "file_extension": ".py",
   "mimetype": "text/x-python",
   "name": "python",
   "nbconvert_exporter": "python",
   "pygments_lexer": "ipython3",
   "version": "3.12.2"
  },
  "widgets": {
   "application/vnd.jupyter.widget-state+json": {
    "state": {},
    "version_major": 2,
    "version_minor": 0
   }
  }
 },
 "nbformat": 4,
 "nbformat_minor": 4
}
