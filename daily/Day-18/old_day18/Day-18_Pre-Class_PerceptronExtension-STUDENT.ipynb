{
 "cells": [
  {
   "cell_type": "markdown",
   "id": "54845434-9c77-4753-a887-e10f2a2db778",
   "metadata": {
    "pycharm": {
     "name": "#%% md\n"
    }
   },
   "source": [
    "# Pre-class Assignment: Finishing your Perceptron\n",
    "# Day 18\n",
    "# CMSE 202\n",
    "\n",
    "## Goals for today's pre-class assignment\n",
    "\n",
    "</p>\n",
    "\n",
    "1. Finishing your Perceptron model\n",
    "\n",
    "## Assignment instructions\n",
    "\n",
    "**This assignment is due by 11:59 p.m. the day before class** and should be uploaded into the appropriate \"Pre-class assignments\" submission folder in the Desire2Learn website. "
   ]
  },
  {
   "cell_type": "markdown",
   "id": "4ae9cd5f-a149-467a-a4eb-91faa9258ac1",
   "metadata": {
    "pycharm": {
     "name": "#%% md\n"
    }
   },
   "source": [
    "## <p style=\"text-align: right;\"> &#9989; Put your name here</p>\n"
   ]
  },
  {
   "cell_type": "markdown",
   "id": "be75f685-c433-4059-abcf-b7077ef9ceef",
   "metadata": {
    "pycharm": {
     "name": "#%% md\n"
    }
   },
   "source": [
    "---\n",
    "## 1. Finishing up your Perceptron Model\n",
    "\n",
    "You will need to finish your Perceptron model from Day 17 ICA for this pre-class assignment. You will be using your Perceptron model for the Day 18 In-Class assignment, so it is crucial that you finish it before class.\n",
    "\n",
    "## What you'll Submit\n",
    "\n",
    "1. **The finished version of Day 17 ICA**\n",
    "2. **A PDF of your results from Part 4 (\"Plotting the Decision Boundary\"). (You can use the `Matplotlib` feature `savefig` to save your results.)**\n",
    "\n",
    "Along with these things, you should also complete the PCA survey as usual. Fill it out as if the Day 17 ICA was the assignment you were asked to complete. Include any questions you have on the material in the assignment."
   ]
  },
  {
   "cell_type": "markdown",
   "id": "81b9d051-6e04-4fb4-a24b-ec3a26c499fb",
   "metadata": {},
   "source": [
    "----\n",
    "\n",
    "## Assignment wrap-up\n",
    "\n",
    "\n",
    "Please fill out the form that appears when you run the code below.  **You must completely fill this out in order to receive credit for the assignment!**\n"
   ]
  },
  {
   "cell_type": "code",
   "execution_count": null,
   "id": "47913192-7781-40db-a749-31e0d9eb373a",
   "metadata": {},
   "outputs": [],
   "source": [
    "from IPython.display import HTML\n",
    "HTML(\n",
    "\"\"\"\n",
    "<iframe \n",
    "\tsrc=\"https://cmse.msu.edu/cmse202-pc-survey\" \n",
    "\twidth=\"800px\" \n",
    "\theight=\"600px\" \n",
    "\tframeborder=\"0\" \n",
    "\tmarginheight=\"0\" \n",
    "\tmarginwidth=\"0\">\n",
    "\tLoading...\n",
    "</iframe>\n",
    "\"\"\"\n",
    ")"
   ]
  },
  {
   "cell_type": "markdown",
   "id": "857044a8-5711-4b86-99fd-a2fc6db730a0",
   "metadata": {},
   "source": [
    "---------\n",
    "### Congratulations, you're done with your pre-class assignment!\n",
    "\n",
    "Now, you just need to submit this assignment by uploading it to the course <a href=\"https://d2l.msu.edu/\">Desire2Learn</a> web page for today's submission folder (Don't forget to add your names in the first cell).\n",
    "\n",
    "\n",
    "&#169; Copyright 2021 Department of Computational Mathematics, Science and Engineering at Michigan State University"
   ]
  }
 ],
 "metadata": {
  "kernelspec": {
   "display_name": "Python 3 (ipykernel)",
   "language": "python",
   "name": "python3"
  },
  "language_info": {
   "codemirror_mode": {
    "name": "ipython",
    "version": 3
   },
   "file_extension": ".py",
   "mimetype": "text/x-python",
   "name": "python",
   "nbconvert_exporter": "python",
   "pygments_lexer": "ipython3",
   "version": "3.10.6"
  },
  "widgets": {
   "application/vnd.jupyter.widget-state+json": {
    "state": {},
    "version_major": 2,
    "version_minor": 0
   }
  }
 },
 "nbformat": 4,
 "nbformat_minor": 5
}
