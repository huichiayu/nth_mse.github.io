{
 "cells": [
  {
   "cell_type": "markdown",
   "metadata": {
    "pycharm": {
     "name": "#%% md\n"
    }
   },
   "source": [
    "# Pre-class Assignment: Start making project plans with your group!\n",
    "# Day 18\n",
    "# CMSE 202\n",
    "\n",
    "## Goals for today's pre-class assignment\n",
    "\n",
    "</p>\n",
    "\n",
    "1. Meet with your project group and start making plans to complete your project. \n",
    "\n",
    "## Assignment instructions\n",
    "\n",
    "**This assignment is due by 11:59 p.m. the day before class** and should be uploaded into the appropriate \"Pre-class assignments\" submission folder in the Desire2Learn website. "
   ]
  },
  {
   "cell_type": "markdown",
   "metadata": {
    "pycharm": {
     "name": "#%% md\n"
    }
   },
   "source": [
    "## <p style=\"text-align: right;\"> &#9989; Put your name here</p>\n"
   ]
  },
  {
   "cell_type": "markdown",
   "metadata": {
    "pycharm": {
     "name": "#%% md\n"
    }
   },
   "source": [
    "---\n",
    "## 1. Meeting with your project group\n",
    "\n",
    "Now that you've been assigned a project group (check with your instructor if you're not sure which group you've been assigned to), it would be good to schedule your first group meeting!\n",
    "\n",
    "Contact your group members and find a time when you can all meet. The goals for this meeting could/should be the following:\n",
    "\n",
    "1. Review your project topic, have you had any more thoughts on this since reviewed and ranked the project ideas?\n",
    "2. Review the project review document that was generated in class, is there anything useful on there that you might be able to use to get started?\n",
    "3. Looking for datasets that might be relevant to your project and share them with each other or talk about the sort of modeling activity you'd like to pursue.\n",
    "4. **Set up a group GitHub repository**, make sure that everyone has access to it. You may even want to commit any useful code examples to the repository as a starting point. Or, perhaps it would be worth generating a notebook with a general outline for the content of your project (e.g. background, methods, results, discussion).\n",
    "5. Plan your **second official group meeting**.\n",
    "\n",
    "In a future pre-class assignment, you will be asked to submit a project update to let the instructor know what progress your group has made so far, so make sure you're moving your project forward!"
   ]
  },
  {
   "cell_type": "markdown",
   "metadata": {
    "pycharm": {
     "name": "#%% md\n"
    }
   },
   "source": [
    "---\n",
    "## 2. When is your first project group meeting?\n",
    "\n",
    "In the pre-class survey, use the \"Follow-up Questions\" prompt to provide the following information:\n",
    "\n",
    "1. The names of everyone in your group.\n",
    "2. Your project topic.\n",
    "3. The date and time of your first planned meeting."
   ]
  },
  {
   "cell_type": "markdown",
   "metadata": {
    "pycharm": {
     "name": "#%% md\n"
    }
   },
   "source": [
    "----\n",
    "\n",
    "## Assignment wrap-up\n",
    "\n",
    "\n",
    "Please fill out the form that appears when you run the code below.  **You must completely fill this out in order to receive credit for the assignment!**\n"
   ]
  },
  {
   "cell_type": "code",
   "execution_count": null,
   "metadata": {
    "pycharm": {
     "name": "#%%\n"
    }
   },
   "outputs": [],
   "source": [
    "from IPython.display import HTML\n",
    "HTML(\n",
    "\"\"\"\n",
    "<iframe \n",
    "\tsrc=\"https://cmse.msu.edu/cmse202-pc-survey\" \n",
    "\twidth=\"800px\" \n",
    "\theight=\"600px\" \n",
    "\tframeborder=\"0\" \n",
    "\tmarginheight=\"0\" \n",
    "\tmarginwidth=\"0\">\n",
    "\tLoading...\n",
    "</iframe>\n",
    "\"\"\"\n",
    ")"
   ]
  },
  {
   "cell_type": "markdown",
   "metadata": {
    "pycharm": {
     "name": "#%% md\n"
    }
   },
   "source": [
    "---------\n",
    "### Congratulations, you're done with your pre-class assignment!\n",
    "\n",
    "Now, you just need to submit this assignment by uploading it to the course <a href=\"https://d2l.msu.edu/\">Desire2Learn</a> web page for today's submission folder (Don't forget to add your names in the first cell).\n",
    "\n",
    "\n",
    "&#169; Copyright 2021 Department of Computational Mathematics, Science and Engineering at Michigan State University"
   ]
  }
 ],
 "metadata": {
  "kernelspec": {
   "display_name": "Python 3 (ipykernel)",
   "language": "python",
   "name": "python3"
  },
  "language_info": {
   "codemirror_mode": {
    "name": "ipython",
    "version": 3
   },
   "file_extension": ".py",
   "mimetype": "text/x-python",
   "name": "python",
   "nbconvert_exporter": "python",
   "pygments_lexer": "ipython3",
   "version": "3.10.6"
  },
  "widgets": {
   "application/vnd.jupyter.widget-state+json": {
    "state": {},
    "version_major": 2,
    "version_minor": 0
   }
  }
 },
 "nbformat": 4,
 "nbformat_minor": 4
}
