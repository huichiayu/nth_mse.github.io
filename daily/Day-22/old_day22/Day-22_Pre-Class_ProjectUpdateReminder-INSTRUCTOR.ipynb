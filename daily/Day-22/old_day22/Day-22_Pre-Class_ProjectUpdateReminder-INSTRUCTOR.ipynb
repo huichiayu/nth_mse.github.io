{
 "cells": [
  {
   "cell_type": "markdown",
   "metadata": {},
   "source": [
    "###ANSWER\n",
    "(for making sure this gets removed)\n",
    "\n",
    "### INSTRUCTOR CONTENT -- REMOVE THIS IN STUDENT VERSION\n",
    "#### The goals this PCA are:\n",
    "\n",
    "* Remind students that they will be giving project updates in class!"
   ]
  },
  {
   "cell_type": "markdown",
   "metadata": {},
   "source": [
    "# Pre-Class Assignment: Project updates!\n",
    "# Day 22 \n",
    "# CMSE 202"
   ]
  },
  {
   "cell_type": "markdown",
   "metadata": {},
   "source": [
    "## <p style=\"text-align: right;\"> &#9989; Put your name here</p>"
   ]
  },
  {
   "cell_type": "markdown",
   "metadata": {},
   "source": [
    "## Goals for today's pre-class assignment \n",
    "\n",
    "1. Make sure you're ready to give you project update in class!\n",
    "\n",
    "## Assignment instructions\n",
    "\n",
    "**This assignment is due by 11:59 p.m. the day before class** and should be uploaded into the appropriate \"Pre-class assignments\" submission folder in the Desire2Learn website. "
   ]
  },
  {
   "cell_type": "markdown",
   "metadata": {},
   "source": [
    "---\n",
    "## Remember: Group Project Check-ins\n",
    "\n",
    "### Summary\n",
    "    * Give a short (3-5 minutes) presentation on your project\n",
    "    * Check-in and ensure your project is in a good place for final presentation\n",
    "    * Presentation should focus on results\n",
    "    * Give feedback to classmates on their projects\n",
    "    * As a group, meet with your instructor to discuss implementing your feedback\n",
    "\n",
    "### Why are we doing this?\n",
    "These presentations (effectively) serve as a second checkpoint for your projects. We want to ensure that you and your group have made solid progress in completing your project, and are ready to give your full presentations the following week. This will also serve as an opportunity for you to give and receive feedback on your projects.  \n",
    "Finally, you will be expected to meet with your instructor (as a group) to go over your feedback and make a plan to finish out your project. Your instructor will provide further details on the scheduling of these meetings.\n",
    "\n",
    "### Presentations: What will you need to do?\n",
    "By the time of these presentations you should be ~75% of the way done with your projects. We expect you to have implemented a methodology to answer your question and have results from this implementation. Your presentation should focus on these results.\n",
    "\n",
    "You will have 3-5 minutes to talk through your slides Your presentation must include the following elements:\n",
    "\n",
    "    - The question you’re answering\n",
    "    - A brief description of your methodology (no more than two sentences)\n",
    "    - Your results, in the form of visualizations\n",
    "    - The conclusions you’ve drawn from these results\n",
    "    - Plans for finishing your project\n",
    "    \n",
    "Your instructor will share either a Google Drive or OneDrive with the entire class, where you can upload your slide(s). Make sure to upload your slide(s) early so you can handle any formatting issues that may come up.\n",
    "\n",
    "\n",
    "### Feedback: What will you need to do?\n",
    "We will provide you with a form to fill out to give feedback to other groups on their projects. For each group, you will be asked to: \n",
    "Give a brief (one-sentence) description of the project\n",
    "Evaluate their presentation on the five criteria listed above\n",
    "Make at least one suggestion for how to improve the project\n",
    "\n",
    "### Schedule a meeting\n",
    "Your group will also need to schedule a time to meet with your instructor to discuss the feedback you receive. During this time you will sketch out a plan for finishing up your project. More details on the scheduling process will be provided by your instructor.\n",
    "\n",
    "\n",
    "Your final project will be due at:\n",
    "\n",
    "- **11:59PM on Sunday December 3 if you are in Section 001 or Section 002**.\n",
    "- **11:59PM on Monday December 4 if you are in Section 003**.\n",
    "\n",
    "**You may wish to review the project grading rubric and requirements available [here](https://msu-cmse-courses.github.io/cmse202-F22-jb/course_materials/CMSE202_FinalProjectRequirementsAndGradingRubric.html) on the course website.**"
   ]
  },
  {
   "cell_type": "markdown",
   "metadata": {},
   "source": [
    "----\n",
    "# Assignment wrap-up\n",
    "\n",
    "Please fill out the form that appears when you run the code below.  **You must completely fill this out in order to receive credit for the assignment!**"
   ]
  },
  {
   "cell_type": "code",
   "execution_count": null,
   "metadata": {},
   "outputs": [],
   "source": [
    "from IPython.display import HTML\n",
    "HTML(\n",
    "\"\"\"\n",
    "<iframe \n",
    "\tsrc=\"https://cmse.msu.edu/cmse202-pc-survey\" \n",
    "\twidth=\"800px\" \n",
    "\theight=\"600px\" \n",
    "\tframeborder=\"0\" \n",
    "\tmarginheight=\"0\" \n",
    "\tmarginwidth=\"0\">\n",
    "\tLoading...\n",
    "</iframe>\n",
    "\"\"\"\n",
    ")"
   ]
  },
  {
   "cell_type": "markdown",
   "metadata": {},
   "source": [
    "---------\n",
    "### Congratulations, you're done with your pre-class assignment!\n",
    "\n",
    "Now, you just need to submit this assignment by uploading it to the course <a href=\"https://d2l.msu.edu/\">Desire2Learn</a> web page for today's submission folder (Don't forget to add your name in the first cell)."
   ]
  },
  {
   "cell_type": "markdown",
   "metadata": {},
   "source": [
    "&#169; Copyright 2021 Department of Computational Mathematics, Science and Engineering at Michigan State University"
   ]
  }
 ],
 "metadata": {
  "anaconda-cloud": {},
  "interpreter": {
   "hash": "767d51c1340bd893661ea55ea3124f6de3c7a262a8b4abca0554b478b1e2ff90"
  },
  "kernelspec": {
   "display_name": "Python 3 (ipykernel)",
   "language": "python",
   "name": "python3"
  },
  "language_info": {
   "codemirror_mode": {
    "name": "ipython",
    "version": 3
   },
   "file_extension": ".py",
   "mimetype": "text/x-python",
   "name": "python",
   "nbconvert_exporter": "python",
   "pygments_lexer": "ipython3",
   "version": "3.10.6"
  },
  "widgets": {
   "application/vnd.jupyter.widget-state+json": {
    "state": {},
    "version_major": 2,
    "version_minor": 0
   }
  }
 },
 "nbformat": 4,
 "nbformat_minor": 4
}
