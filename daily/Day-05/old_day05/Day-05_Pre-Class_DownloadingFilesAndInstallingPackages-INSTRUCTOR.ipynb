{
 "cells": [
  {
   "cell_type": "markdown",
   "metadata": {},
   "source": [
    "###ANSWER\n",
    "(for making sure this gets removed)\n",
    "\n",
    "### INSTRUCTOR CONTENT -- REMOVE THIS IN STUDENT VERSION\n",
    "#### The goals for this PCA are:\n",
    "1. Remind them how to quickly and easily download a file from the internet using the command line\n",
    "1. Given students the opportunity to practice installed publicly available Python packages"
   ]
  },
  {
   "cell_type": "markdown",
   "metadata": {
    "slideshow": {
     "slide_type": "-"
    }
   },
   "source": [
    "# Pre-class Assignment: Python Packages\n",
    "# Day 5\n",
    "# CMSE 202\n",
    "\n",
    "## <p style=\"text-align: right;\"> &#9989; Put your name here</p>"
   ]
  },
  {
   "cell_type": "markdown",
   "metadata": {
    "slideshow": {
     "slide_type": "-"
    }
   },
   "source": [
    "## Goals for today's pre-class assignment\n",
    "\n",
    "</p>\n",
    "\n",
    "1. Remind yourself how to download indiviual files from the internet via the command line\n",
    "1. Practice installing publicly-available Python packages"
   ]
  },
  {
   "cell_type": "markdown",
   "metadata": {},
   "source": [
    "## Assignment instructions\n",
    "**This assignment is due by 11:59 p.m. the day before class** and should be uploaded into the appropriate \"Pre-class assignments\" submission folder in the Desire2Learn website. "
   ]
  },
  {
   "cell_type": "markdown",
   "metadata": {},
   "source": [
    "----\n",
    "# 1. Downloading individual files from the internet (revisting the `curl` command) \n",
    "\n",
    "In the in-class assignment you may need to download a few files from the internet, a quick and reliable way to do this is using `curl` on the command line!\n",
    "\n",
    "Reflect back on what you learned previously in class or use the internet to answer the questions below:"
   ]
  },
  {
   "cell_type": "markdown",
   "metadata": {},
   "source": [
    "&#9989; **Question 1:** What does the `curl` command do?"
   ]
  },
  {
   "cell_type": "markdown",
   "metadata": {},
   "source": [
    "<font size=+3>&#9998;</font> Do This - Erase the contents of this cell and replace it with your answer to the above question!  (double-click on this text to edit this cell, and hit shift+enter to save the text)"
   ]
  },
  {
   "cell_type": "markdown",
   "metadata": {},
   "source": [
    "&#9989; **Question 2:** There is a file called `US_Unemployment_Oct2012.csv` that can be accessed at the following location:\n",
    "\n",
    "`https://raw.githubusercontent.com/wrobstory/vincent/master/examples/data/US_Unemployment_Oct2012.csv`\n",
    "\n",
    "How would you use `curl` to download this file to your computer?\n",
    "\n",
    "**Important**: Remember that by default `curl` will simply output the contents of the file to your screen. What command flag should you use to ensure that the remote file is actually saved as a file on your computer? If you don't remember, you might need to leverage the internet to remind yourself."
   ]
  },
  {
   "cell_type": "markdown",
   "metadata": {},
   "source": [
    "<font size=+3>&#9998;</font> Do This - Erase the contents of this cell and replace it with your answer to the above question!  (double-click on this text to edit this cell, and hit shift+enter to save the text)"
   ]
  },
  {
   "cell_type": "markdown",
   "metadata": {},
   "source": [
    "**Question 3**: Are there any other other command line commands can be used to download files onto your computer from a remote location? There is another very common command out there besides `curl`, but your computer might not have it. Can you figure out what that command is? The MSU JupyerHub server has this command available. If you can figure out what it is, test it out with the file from the previous question!"
   ]
  },
  {
   "cell_type": "markdown",
   "metadata": {},
   "source": [
    "<font size=+3>&#9998;</font> Do This - Erase the contents of this cell and replace it with your answer to the above question!  (double-click on this text to edit this cell, and hit shift+enter to save the text)"
   ]
  },
  {
   "cell_type": "markdown",
   "metadata": {},
   "source": [
    "----\n",
    "# 2. Installing Third Party Packages\n",
    "\n",
    "There is a lot of **awesome** code out there that is publicly available and accessible on the internet, incuding a bunch of really useful Python packages and libraries that we might not already have installed as part of the Anaconda Python distribution.\n",
    "\n",
    "So, how do we go about installing new third party packages that aren't already a part of our Python installation?\n",
    "\n",
    "If the package you want to use is available as a \"conda\" package or from the Python Package Index (PyPI), installation is generally pretty straight forward.\n",
    "\n",
    "Let's test out installing a package using `conda` and a package using `pip`, which installs packages from PyPI."
   ]
  },
  {
   "cell_type": "markdown",
   "metadata": {},
   "source": [
    "### 2.1 Pip installation\n",
    "\n",
    "There is a great package called [`cmocean`](http://matplotlib.org/cmocean/) (available [here](https://matplotlib.org/cmocean/)) that contains several colormaps that are commonly using for plotting oceanography data. One of the awesome things about the colormaps is that they are designed to be color-blind friendly, meaning that even if you're colorblind you can still extract information from the colormap.\n",
    "\n",
    "**&#9989; Do This**:\n",
    "\n",
    "**If you're doing this on your computer locally**, try installing the package by doing the following on the command line:\n",
    "\n",
    "``` bash\n",
    "pip install \"cmocean[plots]\"\n",
    "```\n",
    "\n",
    "**If you're doing this on the MSU JupyterHub**, you'll need to modify the command a bit in order to make sure you don't run into permission issues with the installation process. If you're not installing pip packages on your local machine or a machine you have root privileges for, you need to use the `--user` flag, like so:\n",
    "\n",
    "``` bash\n",
    "pip install --user \"cmocean[plots]\" # Make sure you include the quotation marks (\") in your command\n",
    "```\n",
    "    \n",
    "This not only installs the main cmocean module, but also installs the \"plots\" submodule, which is necessary to get some of the examples from the cmocean documentation page to work. When you run the command, you'll see that pip finds the packages and also checks if it should install or update any other packages at the same time. Once you've installed the package, you should be able to import it. Test it out in this notebook! Try making a plot using one of the new colormaps you have available.\n",
    "\n",
    "**You also have to include `import cmocean.plots` rather than juse `import cmocean` if you try to run any of the examples that use \"`cmocean.plots`\".**\n",
    "\n"
   ]
  },
  {
   "cell_type": "code",
   "execution_count": null,
   "metadata": {},
   "outputs": [],
   "source": [
    "# Test out importing cmocean here.\n",
    "# If you can, see if you can make a plot using one of the new colormaps.\n",
    "# An easy option is to use some of the code provided on the cmocean website\n"
   ]
  },
  {
   "cell_type": "code",
   "execution_count": null,
   "metadata": {},
   "outputs": [],
   "source": [
    "### ANSWER ###\n",
    "\n",
    "import cmocean.plots\n",
    "import matplotlib.pyplot as plt\n",
    "\n",
    "fig = plt.figure(figsize=(8, 3))\n",
    "ax = fig.add_subplot(1, 2, 1)\n",
    "cmocean.plots.test(cmocean.cm.thermal, ax=ax)\n",
    "ax = fig.add_subplot(1, 2, 2)\n",
    "cmocean.plots.quick_plot(cmocean.cm.algae, ax=ax)"
   ]
  },
  {
   "cell_type": "markdown",
   "metadata": {},
   "source": [
    "### 2.2 Conda installation\n",
    "\n",
    "While `pip` is one handy way to install Python packages when you're working within an Anaconds environment, you can also make use of the `conda` command. However, **the caveat to this is that you need to have permission to writing new files into your Python installation when using conda to install the package, which you do not have permission to on the MSU JupyterHub server**. If you've been only using JupyterHub for class at this point, that's totally OK, but you should still read about how to use `conda` for installing packages and then you can try to [install the same pacakge with pip instead](#pip-install).\n",
    "\n",
    "#### A package for printing nicer looking tables\n",
    "Occasionally there are times when you're looking at simple datasets in Python and it would be handy to be able to manipulate and visualize the data in simple ASCII formats without dealing with all of the Pandas dataframe overhead. Or perhaps you need to output the a data table in an HTML format so that you can render the table on the web.\n",
    "\n",
    "**&#9989; Do This**: \n",
    "To achieve these sorts of tasks, you can install a package called `prettytable` using `conda` like so:\n",
    "\n",
    "``` bash\n",
    "conda install -c conda-forge prettytable\n",
    "```\n",
    "\n",
    "This uses conda to install the package by locating it on [conda-forge](https://conda-forge.org/), which is a community maintained set of conda packages. When you run the command, you'll see that conda finds the packages and also checks if it should update any other packages at the same time and will let you know everything it plans to do before you confirm that you want it to happen. Once you've installed the package, you should be able to import it. Some documentation for `prettytable` can be found here: [https://code.google.com/archive/p/prettytable/](https://code.google.com/archive/p/prettytable/)\n",
    "\n",
    "If you were able to get `prettytable` installed, test it out and make sure it's working by trying to run some of the examples from this tutorial page:\n",
    "\n",
    "[http://zetcode.com/python/prettytable/](http://zetcode.com/python/prettytable/)\n",
    "\n",
    "<a id=\"pip-install\"></a>\n",
    "**Important note:** If you're trying to do this on JupyterHub, rather than on your personal computer, you will get a error that you don't have permissions to install new packages. Luckily, you can install `prettytable` with pip as well!\n",
    "\n",
    "To do so, try running this command:\n",
    "``` bash\n",
    "pip install --user prettytable\n",
    "```\n",
    "Try out one of the examples from the link above!"
   ]
  },
  {
   "cell_type": "code",
   "execution_count": null,
   "metadata": {},
   "outputs": [],
   "source": [
    "# Put your prettytable testing code here\n"
   ]
  },
  {
   "cell_type": "code",
   "execution_count": null,
   "metadata": {},
   "outputs": [],
   "source": [
    "### ANSWER ###\n",
    "\n",
    "from prettytable import PrettyTable\n",
    "    \n",
    "x = PrettyTable()\n",
    "\n",
    "x.field_names = [\"City name\", \"Area\", \"Population\", \"Annual Rainfall\"]\n",
    "\n",
    "x.add_row([\"Adelaide\", 1295, 1158259, 600.5])\n",
    "x.add_row([\"Brisbane\", 5905, 1857594, 1146.4])\n",
    "x.add_row([\"Darwin\", 112, 120900, 1714.7])\n",
    "x.add_row([\"Hobart\", 1357, 205556, 619.5])\n",
    "x.add_row([\"Sydney\", 2058, 4336374, 1214.8])\n",
    "x.add_row([\"Melbourne\", 1566, 3806092, 646.9])\n",
    "x.add_row([\"Perth\", 5386, 1554769, 869.4])\n",
    "\n",
    "print(x)"
   ]
  },
  {
   "cell_type": "markdown",
   "metadata": {},
   "source": [
    "---\n",
    "## Follow-up Questions\n",
    "\n",
    "Copy and paste the following questions into the appropriate box in the assignment survey include below and answer them there. (Note: You'll have to fill out the section number and the assignment number and go to the \"NEXT\" section of the survey to paste in these questions.)\n",
    "\n",
    "1. Were you able to figure out another command line command for downloading files? If so, what was it?\n",
    "\n",
    "2. Did you run into any issues with using pip or conda to install packages?\n",
    "\n",
    "3. Have you already had to install new Python packages previously? If so, what package(s) and what did they allow you to do?"
   ]
  },
  {
   "cell_type": "markdown",
   "metadata": {},
   "source": [
    "----\n",
    "# Assignment Wrap-up\n",
    "\n",
    "Please fill out the form that appears when you run the code below.  **You must completely fill this out in order to receive credit for the assignment!**"
   ]
  },
  {
   "cell_type": "code",
   "execution_count": null,
   "metadata": {},
   "outputs": [],
   "source": [
    "from IPython.display import HTML\n",
    "HTML(\n",
    "\"\"\"\n",
    "<iframe \n",
    "\tsrc=\"https://cmse.msu.edu/cmse202-pc-survey\" \n",
    "\twidth=\"800px\" \n",
    "\theight=\"600px\" \n",
    "\tframeborder=\"0\" \n",
    "\tmarginheight=\"0\" \n",
    "\tmarginwidth=\"0\">\n",
    "\tLoading...\n",
    "</iframe>\n",
    "\"\"\"\n",
    ")"
   ]
  },
  {
   "cell_type": "markdown",
   "metadata": {},
   "source": [
    "---------\n",
    "### Congratulations, you're done with your pre-class assignment!\n",
    "\n",
    "Now, you just need to submit this assignment by uploading it to the course <a href=\"https://d2l.msu.edu/\">Desire2Learn</a> web page for this assignment's dropbox (Don't forget to add your names in the first cell)."
   ]
  },
  {
   "cell_type": "markdown",
   "metadata": {},
   "source": [
    "&#169; Copyright 2021,  Department of Computational Mathematics, Science and Engineering at Michigan State University"
   ]
  }
 ],
 "metadata": {
  "anaconda-cloud": {},
  "kernelspec": {
   "display_name": "Python 3 (ipykernel)",
   "language": "python",
   "name": "python3"
  },
  "language_info": {
   "codemirror_mode": {
    "name": "ipython",
    "version": 3
   },
   "file_extension": ".py",
   "mimetype": "text/x-python",
   "name": "python",
   "nbconvert_exporter": "python",
   "pygments_lexer": "ipython3",
   "version": "3.10.6"
  },
  "widgets": {
   "application/vnd.jupyter.widget-state+json": {
    "state": {},
    "version_major": 2,
    "version_minor": 0
   }
  }
 },
 "nbformat": 4,
 "nbformat_minor": 4
}
