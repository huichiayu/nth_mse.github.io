{
 "cells": [
  {
   "cell_type": "markdown",
   "metadata": {},
   "source": [
    "###ANSWER\n",
    "(for making sure this gets removed)\n",
    "\n",
    "### INSTRUCTOR CONTENT -- REMOVE THIS IN STUDENT VERSION\n",
    "#### The goals this PCA are:\n",
    "\n",
    "* Introduce students to the concept of Support Vector Machines and the concept of defining a \"margin\" as a means of classifying data\n",
    "* Have students generate some artificial data and provide an opportunity for them to find the classifier line \"by eye\""
   ]
  },
  {
   "cell_type": "markdown",
   "metadata": {},
   "source": [
    "# Pre-Class Assignment: Support Vector Machines (SVMs)\n",
    "# Day 20\n",
    "# CMSE 202"
   ]
  },
  {
   "cell_type": "markdown",
   "metadata": {},
   "source": [
    "## <p style=\"text-align: right;\"> &#9989; Put your name here</p>"
   ]
  },
  {
   "cell_type": "markdown",
   "metadata": {},
   "source": [
    "## Goals for today's pre-class assignment\n",
    "\n",
    "\n",
    "1. Explain linear separability (using data examples from `sklearn.datasets.make_blobs`)\n",
    "1. Describe how a Support Vector Machine (with a linear kernel) classifies data\n",
    "1. Create an educated guess for the optimal line for separation\n",
    "\n",
    "## Assignment instructions\n",
    "\n",
    "**This assignment is due by 11:59 p.m. the day before class** and should be uploaded into the appropriate \"Pre-class assignments\" submission folder in the Desire2Learn website. \n",
    "\n",
    "Imports:"
   ]
  },
  {
   "cell_type": "code",
   "execution_count": null,
   "metadata": {},
   "outputs": [],
   "source": [
    "# imports for the day\n",
    "import numpy as np\n",
    "import matplotlib.pyplot as plt\n",
    "from sklearn import svm\n",
    "from sklearn.datasets import make_blobs"
   ]
  },
  {
   "cell_type": "markdown",
   "metadata": {},
   "source": [
    "---\n",
    "## 1. SVM classifiers\n",
    "\n",
    "SVMs or \"support vector machines\" are yet another kind of classifier model that we can use in our exploration of data science. In this pre-class we will create some artificial data and run an SVM classifier on the data. We will explore the underlying principles of the approach that we will take in class."
   ]
  },
  {
   "cell_type": "markdown",
   "metadata": {},
   "source": [
    "### 1.1 Maximal Margin Classifier\n",
    "\n",
    "We can begin to understand how an SVM is able to classify data by starting with a 1 dimensional \"maximal margin classifier.\" This kind of classifier is not necessarily the best option out there, but it provides a nice conceptual basis for understanding the concept of a \"margin\", which is critical to understanding how an SVM works.\n",
    "\n",
    "&#9989; **Do This**: Watch the video below and answer the question. (Note that the video has a set \"end\" time, we'll be breaking this video down into pieces throughout this notebook, so continue on with the notebook once the video stops.)"
   ]
  },
  {
   "cell_type": "code",
   "execution_count": null,
   "metadata": {},
   "outputs": [],
   "source": [
    "from IPython.display import YouTubeVideo\n",
    "from datetime import timedelta\n",
    "end=int(timedelta(hours=0, minutes=4, seconds=30).total_seconds())\n",
    "YouTubeVideo(\"efR1C6CvhmE\",width=800,height=450,end=end)"
   ]
  },
  {
   "cell_type": "markdown",
   "metadata": {},
   "source": [
    "&#9989; **Question 1:** What are the shortcomings on a Maximal Margin Classifier?"
   ]
  },
  {
   "cell_type": "markdown",
   "metadata": {},
   "source": [
    "<font size=+3>&#9998;</font> Do This - Erase the contents of this cell and replace it with your answer to the above question!  (double-click on this text to edit this cell, and hit shift+enter to save the text)"
   ]
  },
  {
   "cell_type": "markdown",
   "metadata": {},
   "source": [
    "### 1.2 Soft margins and Support Vector Classifiers\n",
    "\n",
    "Clearly, we need to use a different approach to deal with outliers. The approach that we can use is called a \"soft margin\", which allows for some misclassification. We have to allow some incorrectness (i.e., misclassifications) to get a better model; this is related to the ['Bias-Variance' tradeoff](https://en.wikipedia.org/wiki/Bias%E2%80%93variance_tradeoff). The video below explains the soft-margin and how it can be determined through cross-validation. For the moment, let's take cross-validation as simply understanding that we try a lot of potential combinations of margins and find the best one. We will explore this idea further later this week.\n",
    "\n",
    "&#9989; **Do This:** Watch the video below (which picks up where we left off) and answer the question that follows."
   ]
  },
  {
   "cell_type": "code",
   "execution_count": null,
   "metadata": {},
   "outputs": [],
   "source": [
    "from IPython.display import YouTubeVideo\n",
    "from datetime import timedelta\n",
    "start=int(timedelta(hours=0, minutes=4, seconds=30).total_seconds())\n",
    "end=int(timedelta(hours=0, minutes=12, seconds=10).total_seconds())\n",
    "YouTubeVideo(\"efR1C6CvhmE\",width=800,height=450,start=start,end=end)"
   ]
  },
  {
   "cell_type": "markdown",
   "metadata": {},
   "source": [
    "&#9989; **Question 2:** Why do soft margins help us to construct a better classification model?"
   ]
  },
  {
   "cell_type": "markdown",
   "metadata": {},
   "source": [
    "<font size=+3>&#9998;</font> Do This - Erase the contents of this cell and replace it with your answer to the above question!  (double-click on this text to edit this cell, and hit shift+enter to save the text)"
   ]
  },
  {
   "cell_type": "markdown",
   "metadata": {},
   "source": [
    "---\n",
    "## 2. Linear Separable Data\n",
    "\n",
    "In a 2-class classification task, when we place example observations in a feature space, we say that the data is \"linearly separable\" if we can draw a line in the space such that all the observations fall to one side of the line or the other. Those on one side of the line are of \"class 1\" and the other side \"class 2\". This may or may not completely possible, but that is the goal. We will see that some problems have data that is fundamentally **not** linearly separable, but we will get to that eventually. For this introduction, we will work with linearly separable data.\n",
    "\n",
    "### 2.1 `sklearn` data generators\n",
    "\n",
    "We mentioned `sklearn` data generator `make_classification` our Logistic Regression activity. It turns out the package `sklearn.datasets` has a number data generators that generate data that can be used to test model building. We will use one here to generate a dataset that is \"linearly separable\" and against which we can test our SVM classifier.\n",
    "\n",
    "It is worth your time to take a look at the documentation of <a href=\"https://scikit-learn.org/stable/datasets.html\"> scikit-learn datasets page </a> to see the rich set of dataset support `sklearn` provides. However, we are particularly interested in <a href=\"https://scikit-learn.org/stable/datasets/sample_generators.html\"> Section 7.3</a>, where they've listed a number of ways to generate artificial data with certain characteristics.\n",
    "\n",
    "### 2.2 `sklearn.datasets.make_blobs`\n",
    "\n",
    "Let's look at the `make_blobs` function. To start, you should review the <a href=\"https://scikit-learn.org/stable/modules/generated/sklearn.datasets.make_blobs.html\">documentation page</a>. The `make_blobs` function can generate a set of data that is linearly separable, good for what we want to do. You should pay particular attention to:\n",
    "* `n_samples`\n",
    "* `n_features`\n",
    "* `centers`\n",
    "* `random_state`\n",
    "\n",
    "**Make sure you also review what `make_blobs` returns.**"
   ]
  },
  {
   "cell_type": "markdown",
   "metadata": {},
   "source": [
    "&#9989; **Do This**: Using the documentation, create an example data set with two \"blobs\", a 2-class data set. It should have:\n",
    "- 100 samples\n",
    "- two classes (or two \"blobs\" that represent two different classes) and 2 features\n",
    "- a consistent `random_state` value so that you can generate the same \"blobs\" every time. Try to find a `random_state` where the blobs are clearly separated."
   ]
  },
  {
   "cell_type": "code",
   "execution_count": null,
   "metadata": {},
   "outputs": [],
   "source": [
    "# put your answer here\n"
   ]
  },
  {
   "cell_type": "code",
   "execution_count": null,
   "metadata": {},
   "outputs": [],
   "source": [
    "### ANSWER ###\n",
    "\n",
    "X,y = make_blobs(n_samples = 100, n_features=2, centers=2, random_state=3)\n",
    "print(X)\n",
    "print(y)"
   ]
  },
  {
   "cell_type": "markdown",
   "metadata": {},
   "source": [
    "### 2.3 Graph the \"blobs\"\n",
    "\n",
    "Without visualization our results, it's hard to tell what we ended up with! \n",
    "\n",
    "&#9989; **Do This**: Graph the result of the `make_blobs` operation. Color all the elements of one class one color and the elements of the other class the other color.\n",
    "\n",
    "There is more than way to you can use the class information to color the plot. Things to consider and watch for:\n",
    "- you can create a list/array with color assignments for each data element based on their class\n",
    "- you can use any of the various color maps matplotlib provides\n",
    "- play with the `random_state` value and see if you can get some \"blobs\" that are relatively \"close\" to each other. It should be the case that if you use the same `random_state` value each time that you get the same distribution of data. Remember, \"random\" means \"relatively random\" here. That is, predicting the next value in a sequence should be (statistically speaking) random. However, start with the same seed value (which is what `random_state` is for this process) so that you get the exact same sequence when you re-run the code."
   ]
  },
  {
   "cell_type": "code",
   "execution_count": null,
   "metadata": {},
   "outputs": [],
   "source": [
    "# put your answer here\n"
   ]
  },
  {
   "cell_type": "code",
   "execution_count": null,
   "metadata": {},
   "outputs": [],
   "source": [
    "### ANSWER ###\n",
    "\n",
    "plt.figure(1)\n",
    "clrs = ['red' if cls == 1 else 'green' for cls in y]\n",
    "plt.scatter(X[:,0], X[:,1], c=clrs)\n",
    "\n",
    "# OR\n",
    "\n",
    "plt.figure(2)\n",
    "plt.scatter(X[:,0], X[:,1], c=y, cmap=\"cividis\")"
   ]
  },
  {
   "cell_type": "markdown",
   "metadata": {},
   "source": [
    "---\n",
    "## 3. Separating the blobs\n",
    "\n",
    "For linearly separable data, an SVM tries to find how to separate the classes using a hyperplane. For cleanly separated data in 2-dimensions, like the data set you constructed this hyperplane is simply a line. The next part of the video below explains how an SVM does this for more complicated data or data that is not cleanly separable in it's original dimensions. Effectively, SVMs create additional dimensions based on a set of rules that we specify (in this \"linear\" case using linear functions).\n",
    "\n",
    "&#9989; **Do This**: Watch the next part of the video below and answer the question that follows."
   ]
  },
  {
   "cell_type": "code",
   "execution_count": null,
   "metadata": {},
   "outputs": [],
   "source": [
    "from IPython.display import YouTubeVideo\n",
    "from datetime import timedelta\n",
    "start=int(timedelta(hours=0, minutes=12, seconds=10).total_seconds())\n",
    "end=int(timedelta(hours=0, minutes=17, seconds=29).total_seconds())\n",
    "YouTubeVideo(\"efR1C6CvhmE\",width=800,height=450,start=start,end=end)"
   ]
  },
  {
   "cell_type": "markdown",
   "metadata": {},
   "source": [
    "&#9989; **Question 3:** Creating a model that produces new dimensions from our data to classify our labels better seems pretty great. But what problems do you see with doing this? Consider how you might interpret the results of such a model."
   ]
  },
  {
   "cell_type": "markdown",
   "metadata": {},
   "source": [
    "<font size=+3>&#9998;</font> Do This - Erase the contents of this cell and replace it with your answer to the above question!  (double-click on this text to edit this cell, and hit shift+enter to save the text)"
   ]
  },
  {
   "cell_type": "markdown",
   "metadata": {},
   "source": [
    "### 3.1 Draw a line of separation\n",
    "\n",
    "Looking back at your graph of the blobs, you should be able to see by eye a line that might work to separate these data. An SVM will do this automatically, but let's try to draw a line that separates the two classes, the two blobs. \n",
    "\n",
    "&#9989; **Do This**: Make a plot of the blobs again and this time add a line such that the two blobs are separated. You will have to work out the slope and intercept for this line to fit it in your plot. Your line doesn't have to be perfect, just try to find something that looks close to right."
   ]
  },
  {
   "cell_type": "code",
   "execution_count": null,
   "metadata": {},
   "outputs": [],
   "source": [
    "# put your answer\n"
   ]
  },
  {
   "cell_type": "code",
   "execution_count": null,
   "metadata": {},
   "outputs": [],
   "source": [
    "### ANSWER ###\n",
    "\n",
    "plt.scatter(X[:,0], X[:,1], c=clrs)\n",
    "xx = np.linspace(-6, 2.5)\n",
    "yy = -2 * xx - 1\n",
    "\n",
    "plt.plot(xx,yy)"
   ]
  },
  {
   "cell_type": "markdown",
   "metadata": {},
   "source": [
    "If there exists such a line that separates to the two classes and you remember the basic equation for a line, here are two questions:\n",
    "1. Given a boundary line, how could you predict for a new observation which class it was (what would be the equation you could use)?\n",
    "1. How might we draw the \"optimal\" line? What would \"optimal\" mean in this situation?\n",
    "\n",
    "If you weren't able to get this worked out, that's OK! We'll talk about it in class."
   ]
  },
  {
   "cell_type": "markdown",
   "metadata": {},
   "source": [
    "<font size=+3>&#9998;</font> Do This - Erase the contents of this cell and replace it your best guess for what the equation would be for Class 1. What about for Class 2? (Bullet #1 from above)"
   ]
  },
  {
   "cell_type": "markdown",
   "metadata": {},
   "source": [
    "<font size=+3>&#9998;</font> Do This - Erase the contents of this cell and explain your conditions for the \"optimal\" line. (Bullet #2 from above)"
   ]
  },
  {
   "cell_type": "markdown",
   "metadata": {},
   "source": [
    "---\n",
    "## Follow-up Questions\n",
    "\n",
    "Copy and paste the following questions into the appropriate box in the assignment survey include below and answer them there. (Note: You'll have to fill out the assignment number and go to the \"NEXT\" section of the survey to paste in these questions.)\n",
    "\n",
    "1. Copy bullets #1 and #2 from above along with your answers and include them in your survey responses. If you didn't come up with an answer to these questions, indicate that as well."
   ]
  },
  {
   "cell_type": "markdown",
   "metadata": {},
   "source": [
    "----\n",
    "# Assignment wrap-up\n",
    "\n",
    "Please fill out the form that appears when you run the code below.  **You must completely fill this out in order to receive credit for the assignment!**"
   ]
  },
  {
   "cell_type": "code",
   "execution_count": null,
   "metadata": {},
   "outputs": [],
   "source": [
    "from IPython.display import HTML\n",
    "HTML(\n",
    "\"\"\"\n",
    "<iframe \n",
    "\tsrc=\"https://cmse.msu.edu/cmse202-pc-survey\" \n",
    "\twidth=\"800px\" \n",
    "\theight=\"600px\" \n",
    "\tframeborder=\"0\" \n",
    "\tmarginheight=\"0\" \n",
    "\tmarginwidth=\"0\">\n",
    "\tLoading...\n",
    "</iframe>\n",
    "\"\"\"\n",
    ")"
   ]
  },
  {
   "cell_type": "markdown",
   "metadata": {},
   "source": [
    "---------\n",
    "### Congratulations, you're done with your pre-class assignment!\n",
    "\n",
    "Now, you just need to submit this assignment by uploading it to the course <a href=\"https://d2l.msu.edu/\">Desire2Learn</a> web page for today's submission folder (Don't forget to add your name in the first cell)."
   ]
  },
  {
   "cell_type": "markdown",
   "metadata": {},
   "source": [
    "##### &#169; Copyright 2025 Department of Computational Mathematics, Science and Engineering at Michigan State University"
   ]
  }
 ],
 "metadata": {
  "anaconda-cloud": {},
  "interpreter": {
   "hash": "31f2aee4e71d21fbe5cf8b01ff0e069b9275f58929596ceb00d14d90e3e16cd6"
  },
  "kernelspec": {
   "display_name": "Python [conda env:base] *",
   "language": "python",
   "name": "conda-base-py"
  },
  "language_info": {
   "codemirror_mode": {
    "name": "ipython",
    "version": 3
   },
   "file_extension": ".py",
   "mimetype": "text/x-python",
   "name": "python",
   "nbconvert_exporter": "python",
   "pygments_lexer": "ipython3",
   "version": "3.12.2"
  }
 },
 "nbformat": 4,
 "nbformat_minor": 4
}
