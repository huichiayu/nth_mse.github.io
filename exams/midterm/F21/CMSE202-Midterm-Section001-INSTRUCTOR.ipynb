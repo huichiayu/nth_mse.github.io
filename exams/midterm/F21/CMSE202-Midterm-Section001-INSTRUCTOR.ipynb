{
 "cells": [
  {
   "cell_type": "markdown",
   "metadata": {
    "pycharm": {
     "name": "#%% md\n"
    }
   },
   "source": [
    "###ANSWER (for making sure this gets removed)\n",
    "\n",
    "# Grading Rubric (32 points total)\n",
    "\n",
    "## Part 1 (2 points)\n",
    "\n",
    "* **Question 1.1** (2 points):\n",
    "  * 1 point for creating the GitHub repository directory and tracking changes\n",
    "  * 1 point for correctly writing the cloning command\n",
    "\n",
    "## Part 2 (14 points + 1 possible bonus point)\n",
    "\n",
    "* **Question 2.1** (1 point):\n",
    "    * 1 point for knowing how to download a file with curl\n",
    "* **Question 2.2** (2 points):\n",
    "    * 1 point for loading the file correctly\n",
    "    * 1 point for displaying the first 15 lines\n",
    "* **Question 2.3** (5 points):\n",
    "    * 1 point for making a scatter plot with the axes correct.\n",
    "    * 1 point for setting the size of the markers correctly\n",
    "    * 1 point for changing the color to something other than the default\n",
    "    * 1 point for making the axis ratio equal\n",
    "    * 1 point for a reasonable commentary on their observations of the plot\n",
    "* **Question 2.4** (1 point):\n",
    "    * 1 point for correctly using the `dropna` function and creating a new dataframe.\n",
    "* **Question 2.5** (3 points):\n",
    "    * 1 point for making the histogram of magnitude data\n",
    "    * 1 point for setting a non-default bin size.\n",
    "    * 1 point for a reasonable answer to the question\n",
    "* **Question 2.6** (2 points):\n",
    "    * 1 point for masking the Michigan earthquakes correctly\n",
    "    * 1 point for realizing there are only two Michigna earthquakes because one is duplicated\n",
    "    * Bonus point: the 1994 earthquake took place just outside of Lansing\n",
    "    \n",
    "## Part 3 (8 points)\n",
    "\n",
    "* **Question 3.1** (3 points):\n",
    "    * 1 point creating the Folium map at the right location\n",
    "    * 1 point for setting the Zoom level correctly\n",
    "    * 1 point for adjusting the map tiling correctly.\n",
    "* **Question 3.2** (1 point):\n",
    "    * 1 point for correctly masking the dataframe\n",
    "* **Question 3.3** (4 points):\n",
    "    * 1 point for adding a circle to every point at the right latitude and longitude\n",
    "    * 1 point for making the radius to be scaled by the magnitude $\\times$ 2000.\n",
    "    * 1 point for the color being set to red\n",
    "    * 1 point for the circles being filled\n",
    "    \n",
    "## Part 4 (8 points)\n",
    "\n",
    "* **Question 4.1** (3 points):\n",
    "    * 1 point for creating the attribute `count` and initializing it to 0\n",
    "    * 1 point for creating the attribute `earthquakes` and initializing it to {} (empty dictionary)\n",
    "    * 1 point for creating the method `log_earthquake` and having it store a new dictionary entry with the appropriate values.\n",
    "* **Question 4.2** (5 points):\n",
    "    * 1 point for creating the new class `EnhancedEQTracker` and making sure it derives from `EQTracker`\n",
    "    * 1 point for adding a constructor (`__init__`) that initializes the attributes `self.record_magnitude` to 0 and `self.year_of_record` to `None`\n",
    "    * 1 point for making sure the constructor calls the `EQTracker` constructor through `super().__init__(location)`\n",
    "    * 1 point for adding the method `set_record` and making sure it updates the `self.record_magnitude` and `self.year_of_record` correctly.\n",
    "    * 1 point for adding the method `print_record` and making sure it prints record information using the correct logic."
   ]
  },
  {
   "cell_type": "markdown",
   "metadata": {
    "pycharm": {
     "name": "#%% md\n"
    }
   },
   "source": [
    "## <p style=\"text-align: right;\"> &#9989; Put your name here</p>"
   ]
  },
  {
   "cell_type": "markdown",
   "metadata": {
    "pycharm": {
     "name": "#%% md\n"
    }
   },
   "source": [
    "# CMSE 202 Midterm (Section 001 - Fall 2021)\n",
    "\n",
    "The goal of this midterm is to give you the opportunity to test out some of the skills that you've developed thus far this semester. In particular, you'll practice setting up a GitHub repository, committing and pushing repository changes, downloading data with command line tools, performing some data analysis, possibly using a new Python package, and writing a python class. You should find that you have all of the skills necessary to complete this exam with even just eight weeks of CMSE 202 under your belt!\n",
    "\n",
    "You are encouraged to look through the entire exam before you get started so that you can appropriately budget your time and understand the broad goals of the exam. Once you've read through it, try doing Parts 1 and 2 first so that you have your repository set up and you download all necessary data files as they will be necessary to complete the assigned tasks. Let your instructor know right away if you have problems downloading the data!\n",
    "\n",
    "The exam is set up so that even if you get stuck on one part there are opportunities to get points on the other parts, so consider jumping ahead if you feel like you aren't making progress and then come back later if you have time.\n",
    "\n",
    "**Important note about using online resources**: This exam is \"open internet\". That means that you can look up documentation, google how to accomplish certain Python tasks, etc. Being able to effectively use the internet for computational modeling and data science is a very important skill, so we want to make sure you have the opportunity to exercise that skill. **However**: The use of any person-to-person communication software is absolutely not acceptable. If you are seen accessing your email, using a chat program (e.g. Slack), or any sort of collaborative cloud storage or document software (e.g. Google Documents), you will be at risk for receiving a zero on the exam.\n",
    "\n",
    "**Keep your eyes on your screen!** Unfortunately, there isn't enough space in the room for everyone to sit at their own table so please do your best to keep your eyes on your own screen. This exam is designed to give *you* the opportunity to show the instructor what you can do and you should hold yourself accountable for maintaining a high level of academic integrity. If any of the instructors observe suspicious behavior, you will, again, risk receiving a zero."
   ]
  },
  {
   "cell_type": "markdown",
   "metadata": {
    "pycharm": {
     "name": "#%% md\n"
    }
   },
   "source": [
    "---\n",
    "## Part 0: Academic integrity statement\n",
    "\n",
    "Read the following statement and edit the markdown text to put your name in the statement. This is your commitment to doing your own authentic work on this exam."
   ]
  },
  {
   "cell_type": "markdown",
   "metadata": {
    "pycharm": {
     "name": "#%% md\n"
    }
   },
   "source": [
    "> I, **INSERT NAME HERE**, affirm that this exam represents my own authetic work, without the use of any unpermitted aids or resources or person-to-person communication. I understand that this exam an an opportunity to showcase my own progress in developing and improving my computational skills and have done my best to demonstrate those skills."
   ]
  },
  {
   "cell_type": "markdown",
   "metadata": {
    "pycharm": {
     "name": "#%% md\n"
    }
   },
   "source": [
    "---\n",
    "## Part 1: Add to your Git repository to track your progress on your exam (2 points)\n",
    "\n",
    "Before you get to far along in the exam, you're going to add it to the `cmse202-f21-turnin` repository you created in class so that you can track your progress on the exam and preserve the final version that you turn in. In order to do this you need to\n",
    "\n",
    "**&#9989; Do the following**:\n",
    "\n",
    "1. Navigate to your `cmse202-f21-turnin` repository and create a new directory called `midterm`.\n",
    "2. Move this notebook into that **new directory** in your repository, then **add it and commit it to your repository**.\n",
    "1. Finally, to test that everything is working, \"git push\" the file so that it ends up in your GitHub repository.\n",
    "\n",
    "**Important**: Double check you've added your Professor and your TA as collaborators to your \"turnin\" respository (you should have done this in the previous homework assignment).\n",
    "\n",
    "**Also important**: Make sure that the version of this notebook that you are working on is the same one that you just added to your repository! If you are working on a different copy of the noteobok, **none of your changes will be tracked**!\n",
    "\n",
    "If everything went as intended, the file should now show up on your GitHub account in the \"`cmse202-f21-turnin`\" repository inside the `midterm` directory that you just created.  Periodically, **you'll be asked to commit your changes to the repository and push them to the remote GitHub location**. Of course, you can always commit your changes more often than that, if you wish.  It can be good to get into a habit of committing your changes any time you make a significant modification, or when you stop working on the project for a bit.\n",
    "\n",
    "&#9989; **Do this**: Before you move on, put the command that your instructor should run to clone your repository in the markdown cell below."
   ]
  },
  {
   "cell_type": "markdown",
   "metadata": {
    "pycharm": {
     "name": "#%% md\n"
    }
   },
   "source": [
    "``` bash\n",
    "# Put the command for cloning your repository here!\n",
    "\n",
    "```"
   ]
  },
  {
   "cell_type": "markdown",
   "metadata": {
    "pycharm": {
     "name": "#%% md\n"
    }
   },
   "source": [
    "---\n",
    "## Part 2: Downloading and analyzing unfamiliar data (14 points)\n",
    "\n",
    "For this part of the exam, you're to download and analyze a dataset that you've likely not looked at before. You'll perform some simple, exploratorary analysis and create basic visualizations."
   ]
  },
  {
   "cell_type": "markdown",
   "metadata": {
    "pycharm": {
     "name": "#%% md\n"
    }
   },
   "source": [
    "###ANSWER (for making sure this gets removed)\n",
    "\n",
    "#### Instructor information\n",
    "\n",
    "The goals for this part of the exam are for students to do the following:\n",
    "\n",
    "1. Download a web-hosted data file using curl (along with stating what command they used)\n",
    "2. Load the dataset using whatever mechanism they choose (or that you want them to use)\n",
    "3. Perform a bit of exploratory data analysis\n",
    "4. Interpret the results of the analysis and explain their finding.\n",
    "\n",
    "This component of the exam should mirror what they were expected to do in Part 2 of Homework #2."
   ]
  },
  {
   "cell_type": "markdown",
   "metadata": {
    "pycharm": {
     "name": "#%% md\n"
    }
   },
   "source": [
    "In particular, you're going to be working with a dataset that contains information on earthquakes of magnitude three or greater detected in the United States from 1975 through February 2015. The dataset was used in the following Buzzfeed article:\n",
    "\n",
    "[Midwestern States Are Having Big Earthquakes Like Never Before](https://www.buzzfeednews.com/article/danvergano/midwestern-states-are-having-big-earthquakes-like-never-befo)\n",
    "\n",
    "That headline might be a alarming, but you're going to take a look at the data yourself to draw some of your own conclusions. Thankfully, BuzzFeed makes the data it used for the article publicly available. The original data came from the [U.S. Geological Survey](https://earthquake.usgs.gov/earthquakes/search/), but you'll be working with the same dataset that BuzzFeed gathered and prepared, which you can get from here:\n",
    "\n",
    "`https://raw.githubusercontent.com/BuzzFeedNews/2015-03-earthquake-maps/master/data/earthquake_states.csv`\n"
   ]
  },
  {
   "cell_type": "markdown",
   "metadata": {
    "pycharm": {
     "name": "#%% md\n"
    }
   },
   "source": [
    "&#9989; **Question 2.1 (1 point)**: **Do this now:** Save this files in the same directory as your notebook so you can load it directly. **Then, in the cell below, put the command or commands you used to download the files. If you did not use a command line tool to download the files, write down a command that *would* have fetched the files.**"
   ]
  },
  {
   "cell_type": "markdown",
   "metadata": {
    "pycharm": {
     "name": "#%% md\n"
    }
   },
   "source": [
    "``` bash\n",
    "# Put the command(s) you used for downloading the data files here!\n",
    "\n",
    "```"
   ]
  },
  {
   "cell_type": "markdown",
   "metadata": {
    "pycharm": {
     "name": "#%% md\n"
    }
   },
   "source": [
    "&#9989; **Question 2.2 (2 points)**: To get started, **read in the `earthquake_states.csv` dataset** and then display the first 15 rows of the data using **Pandas**."
   ]
  },
  {
   "cell_type": "code",
   "execution_count": null,
   "metadata": {
    "pycharm": {
     "name": "#%%\n"
    }
   },
   "outputs": [],
   "source": [
    "### Put your code here\n"
   ]
  },
  {
   "cell_type": "code",
   "execution_count": null,
   "metadata": {
    "pycharm": {
     "name": "#%%\n"
    }
   },
   "outputs": [],
   "source": [
    "### ANSWER\n",
    "\n",
    "import pandas as pd\n",
    "earthquakes = pd.read_csv(\"earthquake_states.csv\")\n",
    "earthquakes.head(15)"
   ]
  },
  {
   "cell_type": "markdown",
   "metadata": {
    "pycharm": {
     "name": "#%% md\n"
    }
   },
   "source": [
    "&#9989; **Question 2.3 (5 points)**: Through visual inspection, let's try confirm that these earthquake readings do, in fact, come from the United States based on their latitude and longitude coordinates.\n",
    "\n",
    "**Make a [scatter plot](https://en.wikipedia.org/wiki/Scatter_plot) of latitude (on the $y$-axis) vs. longitude (on the $x$-axis)**.\n",
    "\n",
    "Also, avoid using all of the default plot stylings and **set the following**:\n",
    "* Set the size of the scatter plot points to 1\n",
    "* Change the color of the plot to something other than the default. You choose!\n",
    "* Adjust the aspect ratio of the plot so that it is \"equal\". This ensures the distances are the same in the x-direction as in the y-direction.\n",
    "\n",
    "**Give your $x$ and $y$ axes appropriate labels and double check that you put the right values on the right axis!** (*Remember*: longitude should run east to west and latitude should run north to south.)\n",
    "\n",
    "Does the resulting plot meet your expectations? Is there anything that surprises you about the plot? Discuss your observations of the plot in the markdown cell below."
   ]
  },
  {
   "cell_type": "code",
   "execution_count": null,
   "metadata": {
    "pycharm": {
     "name": "#%%\n"
    }
   },
   "outputs": [],
   "source": [
    "### Put your code here\n"
   ]
  },
  {
   "cell_type": "markdown",
   "metadata": {
    "pycharm": {
     "name": "#%% md\n"
    }
   },
   "source": [
    "**<font size=+3>&#9998;</font> Do This**: *Record your observations of your plot here.*"
   ]
  },
  {
   "cell_type": "code",
   "execution_count": null,
   "metadata": {
    "pycharm": {
     "name": "#%%\n"
    }
   },
   "outputs": [],
   "source": [
    "### ANSWER\n",
    "import matplotlib.pyplot as plt\n",
    "%matplotlib inline\n",
    "\n",
    "plt.figure(figsize=(7,5))\n",
    "plt.scatter(earthquakes['longitude'],earthquakes['latitude'],c='teal',s=1)\n",
    "plt.xlabel(\"Longitude\")\n",
    "plt.ylabel(\"Latitude\")\n",
    "plt.axis('equal')"
   ]
  },
  {
   "cell_type": "markdown",
   "metadata": {
    "pycharm": {
     "name": "#%% md\n"
    }
   },
   "source": [
    "###ANSWER\n",
    "\n",
    "I'm looking for them to just reflect a bit on what they are seeing, perhaps commenting on their ability to identify parts of the US (e.g. Alaska, Hawaii). But perhaps also notice that it extends outside the US as well (e.g. Mexico)."
   ]
  },
  {
   "cell_type": "markdown",
   "metadata": {
    "pycharm": {
     "name": "#%% md\n"
    }
   },
   "source": [
    "&#9989; **Question 2.4 (1 point)**: If you took a close look at the data, you might have noticed that some of the values in the `state` column show up as \"NaN\". This might explain some of your observations when you visualized the data. Since we want to look at earthquakes that actually occured inside US states, **what built-in Pandas function can you use to drop missing data from a Pandas frame?**\n",
    "\n",
    "\n",
    "**Use this function to create a new dataframe that only contains the rows with a valid entry in the `state` column.**\n",
    "\n",
    "If you can't figure out how to do this, you can move on and perform the analysis that follows with the full dataset."
   ]
  },
  {
   "cell_type": "code",
   "execution_count": null,
   "metadata": {
    "pycharm": {
     "name": "#%%\n"
    }
   },
   "outputs": [],
   "source": [
    "### Put your code here\n"
   ]
  },
  {
   "cell_type": "code",
   "execution_count": null,
   "metadata": {
    "pycharm": {
     "name": "#%%\n"
    }
   },
   "outputs": [],
   "source": [
    "### ANSWER\n",
    "\n",
    "# Note that the \"subset\" argument isn't strictly necessary for this problem\n",
    "earthquake_states = earthquakes.dropna(subset=['state'])\n",
    "earthquake_states.head(15)"
   ]
  },
  {
   "cell_type": "markdown",
   "metadata": {
    "pycharm": {
     "name": "#%% md\n"
    }
   },
   "source": [
    "&#9989; **Question 2.5 (3 points)**: How common are the high magntiude earthquakes?\n",
    "\n",
    "**Make a [histogram](https://en.wikipedia.org/wiki/Histogram) of the earthquake magnitudes using your *new dataframe that contains only the valid US state data*.** If you don't recall how to make histograms using Pandas or matplotlib, you might need to do a bit of internet search and review some documentation. You should try modifying the number of bins your histogram and **use something other than the default**. Choose something that you think gives you a reasonable view of the data. *If you didn't manage to succeed in making the new dataframe, just use the original one*.\n",
    "\n",
    "**What does your histogram tell you about how common earthquakes above a magnitude of 5 are?** Explain your answer in the markdown cell below!"
   ]
  },
  {
   "cell_type": "code",
   "execution_count": null,
   "metadata": {
    "pycharm": {
     "name": "#%%\n"
    }
   },
   "outputs": [],
   "source": [
    "### Put your code here\n"
   ]
  },
  {
   "cell_type": "markdown",
   "metadata": {
    "pycharm": {
     "name": "#%% md\n"
    }
   },
   "source": [
    "**<font size=+3>&#9998;</font> Do This**: *Record your answers to the question at the end of Question 2.5 here.*"
   ]
  },
  {
   "cell_type": "code",
   "execution_count": null,
   "metadata": {
    "pycharm": {
     "name": "#%%\n"
    }
   },
   "outputs": [],
   "source": [
    "### ANSWER\n",
    "plt.figure(1)\n",
    "earthquake_states['mag'].hist(bins=15);"
   ]
  },
  {
   "cell_type": "markdown",
   "metadata": {
    "pycharm": {
     "name": "#%% md\n"
    }
   },
   "source": [
    "###ANSWER\n",
    "\n",
    "They should find that histogram indicates that there are relatively few earthquakes over 5 magitudes. If they can quantify this a bit, all the better."
   ]
  },
  {
   "cell_type": "markdown",
   "metadata": {
    "pycharm": {
     "name": "#%% md\n"
    }
   },
   "source": [
    "&#9989; **Question 2.6 (2 points)**: The original Buzzfeed article suggests that Midwestern states are seeing an uptick in earthquakes, but **how bad are things in Michigan?**.\n",
    "\n",
    "**Using a mask, create a new data frame that just contains earthquakes that happened in Michigan and display that dataframe.**\n",
    "\n",
    "*If you can't figure out how to do this using a mask, but can complete it another way, feel free to do so for some fraction of the points.*\n",
    "\n",
    "Once you have your new dataframe, inspect it and answer the following questions:\n",
    "\n",
    "* How many Michigan earthquakes occured in the timeframe covered by this dataset?\n",
    "* Does everything in the dataframe make sense? Does it seem like there's anything wrong with the data?\n",
    "\n",
    "**Bonus point**: can you figure out where the 1994 earthquake occurred using the latitude and longitude information?"
   ]
  },
  {
   "cell_type": "code",
   "execution_count": null,
   "metadata": {
    "pycharm": {
     "name": "#%%\n"
    }
   },
   "outputs": [],
   "source": [
    "### Put your code here\n"
   ]
  },
  {
   "cell_type": "markdown",
   "metadata": {
    "pycharm": {
     "name": "#%% md\n"
    }
   },
   "source": [
    "**<font size=+3>&#9998;</font> Do This**: *Record your answers to the free-response questions in Question 2.6 here.*"
   ]
  },
  {
   "cell_type": "code",
   "execution_count": null,
   "metadata": {
    "pycharm": {
     "name": "#%%\n"
    }
   },
   "outputs": [],
   "source": [
    "### ANSWER\n",
    "eq_michigan = earthquake_states[earthquake_states['state'] == 'Michigan']\n",
    "eq_michigan"
   ]
  },
  {
   "cell_type": "markdown",
   "metadata": {
    "pycharm": {
     "name": "#%% md\n"
    }
   },
   "source": [
    "###ANSWER\n",
    "\n",
    "There are only two unique earthquakes in Michigan in this dataset, one is duplicated for some reason. The 1994 earthquake happened just outside of Lansing."
   ]
  },
  {
   "cell_type": "markdown",
   "metadata": {
    "pycharm": {
     "name": "#%% md\n"
    }
   },
   "source": [
    "---\n",
    "### &#128721; STOP\n",
    "**Pause to commit your changes to your Git repository!**\n",
    "\n",
    "Take a moment to save your notebook, commit the changes to your Git repository using the commit message \"**Committing Part 2**\", and push the changes to GitHub.\n",
    "\n",
    "---"
   ]
  },
  {
   "cell_type": "markdown",
   "metadata": {
    "pycharm": {
     "name": "#%% md\n"
    }
   },
   "source": [
    "---\n",
    "## Part 3: Working with a less familiar Python package (8 points)\n",
    "\n",
    "In this part of the exam you will need to review a bit of documentation from either a Python package that you've explored a bit this semester or a new one."
   ]
  },
  {
   "cell_type": "markdown",
   "metadata": {
    "pycharm": {
     "name": "#%% md\n"
    }
   },
   "source": [
    "###ANSWER (for making sure this gets removed)\n",
    "\n",
    "#### Instructor information\n",
    "\n",
    "The goals for this part of the exam are for students to do the following:\n",
    "\n",
    "1. Do something relatively straight forward with an unfamiliar Python package\n",
    "2. Read and parse documentation to use the new package\n",
    "3. Leverage examples from the documentation to tackle the problem\n",
    "\n",
    "This component of the exam should mirror what they were expected to do in Part 3 of Homework #1. The things students are being asked to do should be pretty simple and **careful attention should be paid to making sure this works on JupyterHub**."
   ]
  },
  {
   "cell_type": "markdown",
   "metadata": {
    "pycharm": {
     "name": "#%% md\n"
    }
   },
   "source": [
    "Now that we have a sense for the history of earthquakes in Michigan over the last few decades, what about the history of earthquakes in one of our neighbors to the south, **Indiana**?\n",
    "\n",
    "**The goal for this part of the exam is to see if you can make a map of Indiana that displays all of the earthquakes that have occurred in Indiana from this dataset**.\n",
    "\n",
    "You are expected to do this using [Folium](https://python-visualization.github.io/folium/), which we've used a bit in class up to this point. **If for some reason, you don't have Folium already installed, you may need to do that!**\n",
    "\n",
    "For everything you'll do in this part of the exam, you should be able to use the following documentation as a guide: https://python-visualization.github.io/folium/quickstart.html"
   ]
  },
  {
   "cell_type": "markdown",
   "metadata": {
    "pycharm": {
     "name": "#%% md\n"
    }
   },
   "source": [
    "&#9989; **Question 3.1 (3 points)**: To start, let's make a map of Indiana centered on Indianapolis. In order to do this you'll need need to set up a Folium with the following information:\n",
    "\n",
    "* Center the map on Indianapolis, which is located at roughly 39.77 degrees latitude and -86.16 degress longitude\n",
    "* Set the initial `zoom_start` level to `7`.\n",
    "* To explore a different visual look, use the `Stamen Toner` map style. (*which argument sets this?*)\n",
    "\n",
    "**Create this map and make sure it displays in your notebook**."
   ]
  },
  {
   "cell_type": "code",
   "execution_count": null,
   "metadata": {
    "pycharm": {
     "name": "#%%\n"
    }
   },
   "outputs": [],
   "source": [
    "### Put your code here\n"
   ]
  },
  {
   "cell_type": "code",
   "execution_count": null,
   "metadata": {
    "pycharm": {
     "name": "#%%\n"
    }
   },
   "outputs": [],
   "source": [
    "### ANSWER\n",
    "import folium \n",
    "m = folium.Map(location=[39.77, -86.16], zoom_start=7, tiles='Stamen Toner')\n",
    "m"
   ]
  },
  {
   "cell_type": "markdown",
   "metadata": {
    "pycharm": {
     "name": "#%% md\n"
    }
   },
   "source": [
    "&#9989; **Question 3.2 (1 point)**: Now that you've got a map of Indiana, you need to isolate the earthquakes in the dataset that occurred in Indiana.\n",
    "\n",
    "**Create a new dataframe that only includes earthquake data for Indiana**. You can most easily do this with a mask, but you can use whatever method that works.\n",
    "\n",
    "*If you ran into an issue with getting the data loaded in Part 2 of the exam, you can find a snippet of code at the end of this notebook that loads all of the Indiana data from a Python dictionary and can use that instead. Run that cell, and then come back up here and use the `earthquakes_indiana` variable for next question.*"
   ]
  },
  {
   "cell_type": "code",
   "execution_count": null,
   "metadata": {
    "pycharm": {
     "name": "#%%\n"
    }
   },
   "outputs": [],
   "source": [
    "### Put your code here\n"
   ]
  },
  {
   "cell_type": "code",
   "execution_count": null,
   "metadata": {
    "pycharm": {
     "name": "#%%\n"
    }
   },
   "outputs": [],
   "source": [
    "###ANSWER\n",
    "eq_indiana = earthquake_states[earthquake_states['state'] == 'Indiana']\n",
    "eq_indiana"
   ]
  },
  {
   "cell_type": "markdown",
   "metadata": {
    "pycharm": {
     "name": "#%% md\n"
    }
   },
   "source": [
    "&#9989; **Question 3.3 (4 points)**: OK, that that you have a map of Indiana and all of the earthquakes that happened there, **do the following**:\n",
    "\n",
    "* Add every earthquake to the map as a **filled red circle** at the appropriate latitude and longitude\n",
    "* Set the radius of the circle to be the **magnitude of the earthquake $\\times$ 2000** so that the circle represents the magnitude of the earthquake but is also large enough to be easily visible.\n",
    "\n",
    "It is recommended that you recreate your original map from Question 3.1 in your code cell for this question so that it freshly initialized before you add all of the circles. Again, this documentation page should provide the majority of the information you need: https://python-visualization.github.io/folium/quickstart.html (you just need to figure out how to add a circle for each earthquake... a loop might be the easiest option)"
   ]
  },
  {
   "cell_type": "code",
   "execution_count": null,
   "metadata": {
    "pycharm": {
     "name": "#%%\n"
    }
   },
   "outputs": [],
   "source": [
    "### Put your code here\n"
   ]
  },
  {
   "cell_type": "code",
   "execution_count": null,
   "metadata": {
    "pycharm": {
     "name": "#%%\n"
    }
   },
   "outputs": [],
   "source": [
    "###ANSWER\n",
    "import folium \n",
    "m = folium.Map(location=[39.77, -86.16], zoom_start=7, tiles='Stamen Toner')\n",
    "for i in range(len(eq_indiana)):\n",
    "    folium.Circle(\n",
    "        radius=eq_indiana['mag'].iloc[i]*2000,\n",
    "        location=[eq_indiana['latitude'].iloc[i], eq_indiana['longitude'].iloc[i]],\n",
    "        color=\"red\",\n",
    "        fill=True,\n",
    "    ).add_to(m)\n",
    "m"
   ]
  },
  {
   "cell_type": "markdown",
   "metadata": {
    "pycharm": {
     "name": "#%% md\n"
    }
   },
   "source": [
    "---\n",
    "### &#128721; STOP\n",
    "**Pause to commit your changes to your Git repository!**\n",
    "\n",
    "Take a moment to save your notebook, commit the changes to your Git repository using the commit message \"**Committing Part 3**\", and push the changes to GitHub.\n",
    "\n",
    "---"
   ]
  },
  {
   "cell_type": "markdown",
   "metadata": {
    "pycharm": {
     "name": "#%% md\n"
    }
   },
   "source": [
    "---\n",
    "## Part 4: Writing and using Python classes (8 points)\n",
    "\n",
    "In this part of the exam, you'll start off with a partially functioning Python class, you'll add to it, and then you'll build a new Python class that inherits it."
   ]
  },
  {
   "cell_type": "markdown",
   "metadata": {
    "pycharm": {
     "name": "#%% md\n"
    }
   },
   "source": [
    "###ANSWER (for making sure this gets removed)\n",
    "\n",
    "#### Instructor information\n",
    "\n",
    "The goals for this part of the exam are for students to do the following:\n",
    "\n",
    "1. Add to a pre-built Python object. Try to incorporate the use of Python dictionaries.\n",
    "2. Debug a malfunctioning/broken part of the class.\n",
    "2. Use the python class to demonstrate that the methods are working and that the attributes as being defined and modified correctly, as appropriate.\n",
    "3. Build a new class by inheriting the provided class and demonstrate that it works correctly.\n",
    "\n",
    "This component of the exam should mirror what they were expected to do in Part 3 of Homework #2."
   ]
  },
  {
   "cell_type": "markdown",
   "metadata": {
    "pycharm": {
     "name": "#%% md\n"
    }
   },
   "source": [
    "&#9989; **Make sure you execute the following two cells to ensure that the provided code is working**:"
   ]
  },
  {
   "cell_type": "code",
   "execution_count": null,
   "metadata": {
    "pycharm": {
     "name": "#%%\n"
    }
   },
   "outputs": [],
   "source": [
    "# The EQTracker class. You'll need to edit/expand on this.\n",
    "# This class is used for tracking earthquakes in a particular location\n",
    "class EQTracker:\n",
    "    def __init__(self, location):\n",
    "        self.location = location\n",
    "\n",
    "    def print_location(self):\n",
    "        print('Currently tracking %s earthquakes.' %(self.location))"
   ]
  },
  {
   "cell_type": "code",
   "execution_count": null,
   "metadata": {
    "pycharm": {
     "name": "#%%\n"
    }
   },
   "outputs": [],
   "source": [
    "eqt = EQTracker('Michigan')\n",
    "eqt.print_location()"
   ]
  },
  {
   "cell_type": "markdown",
   "metadata": {
    "pycharm": {
     "name": "#%% md\n"
    }
   },
   "source": [
    "&#9989; **Question 4.1 (3 points)**: **Do this: extend the `EQTracker` class as described below and put the new version of this class in the code cell below.**\n",
    "\n",
    "* Add a new class attribute, `count`, and initialize it to be 0 when the class object is created.\n",
    "* Add a new class attribute , `earthquakes`, and initialize it to be an empty dictionary when the class object is created.\n",
    "* Create a new class method, `log_earthquake`, that takes `eqid`, `latitude`, `longitude`, and `magnitude` as arguments and does the following:\n",
    "    * Increments the `count` attribute by 1\n",
    "    * Adds an entry to the `earthquakes` dictionary attribute where the dictionary key is the `eqid` and the dictionary value is a list of the `latitude`, `longtiude`, and `magnitude`."
   ]
  },
  {
   "cell_type": "code",
   "execution_count": null,
   "metadata": {
    "pycharm": {
     "name": "#%%\n"
    }
   },
   "outputs": [],
   "source": [
    "### Put your code here\n"
   ]
  },
  {
   "cell_type": "code",
   "execution_count": null,
   "metadata": {
    "pycharm": {
     "name": "#%%\n"
    }
   },
   "outputs": [],
   "source": [
    "###ANSWER\n",
    "# The EQTracker class. You'll need to edit/expand on this.\n",
    "# This class is used for tracking earthquakes in a particular location\n",
    "class EQTracker:\n",
    "    def __init__(self, location):\n",
    "        self.location = location\n",
    "        self.count = 0\n",
    "        self.earthquakes = {}\n",
    "\n",
    "    def print_location(self):\n",
    "        print('Currently tracking %s earthquakes.' %(self.location))\n",
    "        \n",
    "    def log_earthquake(self, eqid, latitude, longitude, magnitude):\n",
    "        self.count += 1\n",
    "        self.earthquakes[eqid] = [latitude, longitude, magnitude]"
   ]
  },
  {
   "cell_type": "markdown",
   "metadata": {
    "pycharm": {
     "name": "#%% md\n"
    }
   },
   "source": [
    "&#9989; **Make sure you execute the following cell to test your code and ensure that it is working**:"
   ]
  },
  {
   "cell_type": "code",
   "execution_count": null,
   "metadata": {
    "pycharm": {
     "name": "#%%\n"
    }
   },
   "outputs": [],
   "source": [
    "# This initializes an EQTracker, adds some earthquakes, and checks the total count and average magnitude.\n",
    "#\n",
    "# If everything is working as expected you should get the following output:\n",
    "# ```\n",
    "#     Currently tracking Michigan earthquakes.\n",
    "#     There have been 3 earthquakes.\n",
    "#     The average magnitude is 3.866667.\n",
    "#```\n",
    "\n",
    "import numpy as np\n",
    "\n",
    "eqt = EQTracker('Michigan')\n",
    "eqt.print_location()\n",
    "eqt.log_earthquake('Kalamazoo-2015', 42.29, -85.59, 4.2)\n",
    "eqt.log_earthquake('Lansing-2022', 42.73, -84.56, 2.3)\n",
    "eqt.log_earthquake('TraverseCity-2030', 44.76, -85.62, 5.1)\n",
    "print(\"There have been %i earthquakes.\" %eqt.count)\n",
    "print(\"The average magnitude is %f.\" %(np.mean(np.array(list(eqt.earthquakes.values()))[:,2])))"
   ]
  },
  {
   "cell_type": "markdown",
   "metadata": {
    "pycharm": {
     "name": "#%% md\n"
    }
   },
   "source": [
    "&#9989; **Question 4.2 (6 points)**: Now that you have a functioning `EQTracker` class, your next task is to create a second class, `EnhancedEQTracker`, that **inherits** the `EQTracker` class. \n",
    "\n",
    "**Do this: Create a second class called `EnhancedEQTracker` that *inherits* the `EQTracker` class and then adds new functionality as described below. Put this new class in the code cell below.** (This extension is mostly independent of the extension in Question 4.1, so if you did not manage to get that done, you can still get credit for this part by using the initial version of the `EQTracker` class as the base.)\n",
    "\n",
    "In this new `EnhancedEQTracker` class, do the following:\n",
    "\n",
    "* Add another new attribute, `record_magnitude`, which represents the largest magnitude logged by the tracker. Set this to 0 when the `EnchancedEQTracker` object is initialized.\n",
    "* Add another new attribute, `year_of_record`, which represents the year when the largest magnitude earthquake was recorded. Set this to `None` when the `EnhancedEQTracker` object is initialized.\n",
    "* Add a new method, `set_record`, that takes a `magnitude` and `year` as input and updates the value of the `record_magnitude` and `year_of_record` attributes appropriately.\n",
    "* Add a new method, `print_record`, that does the following:\n",
    "    * If the `year_of_record` is `None`, the method should print: \"`No earthquake record has been recorded.`\"\n",
    "    * If the `year_of_record` is not `None`, the method should print: \"`A <record> magnitude earthquake was recorded in <year>.`\" where \"< record >\" is the current record earthquake magnitude and \"< year >\" is the year of that earthquake."
   ]
  },
  {
   "cell_type": "code",
   "execution_count": null,
   "metadata": {
    "pycharm": {
     "name": "#%%\n"
    }
   },
   "outputs": [],
   "source": [
    "### Put your code here\n"
   ]
  },
  {
   "cell_type": "code",
   "execution_count": null,
   "metadata": {
    "pycharm": {
     "name": "#%%\n"
    }
   },
   "outputs": [],
   "source": [
    "### ANSWER\n",
    "class EnhancedEQTracker(EQTracker):\n",
    "    \n",
    "    def __init__(self,location):\n",
    "        super().__init__(location)\n",
    "        self.record_magnitude = 0\n",
    "        self.year_of_record = None\n",
    "        \n",
    "    def set_record(self,magnitude,year):\n",
    "        self.record_magnitude = magnitude\n",
    "        self.year_of_record = year\n",
    "        \n",
    "    def print_record(self):\n",
    "        if self.year_of_record == None:\n",
    "            print(\"No earthquake record has been recorded.\")\n",
    "        else:\n",
    "            print(\"A %.1f magnitude earthquake was recorded in %i.\" %(self.record_magnitude, self.year_of_record))"
   ]
  },
  {
   "cell_type": "markdown",
   "metadata": {
    "pycharm": {
     "name": "#%% md\n"
    }
   },
   "source": [
    "&#9989; **Make sure you execute the following cell to test your code and ensure that it is working**:"
   ]
  },
  {
   "cell_type": "code",
   "execution_count": null,
   "metadata": {
    "pycharm": {
     "name": "#%%\n"
    }
   },
   "outputs": [],
   "source": [
    "# This initializes an EnhancedEQTracker, checks the current record, adds a record, then checks again\n",
    "#\n",
    "# If everything is working as expected you should get the following output:\n",
    "# ```\n",
    "#     No earthquake record has been recorded.\n",
    "#     A 6.8 magnitude earthquake was recorded in 2050.\n",
    "#```\n",
    "\n",
    "eeqt = EnhancedEQTracker(\"Michigan\")\n",
    "eeqt.print_record()\n",
    "eeqt.set_record(6.8,2050)\n",
    "eeqt.print_record()"
   ]
  },
  {
   "cell_type": "markdown",
   "metadata": {
    "pycharm": {
     "name": "#%% md\n"
    }
   },
   "source": [
    "---\n",
    "### &#128721; STOP\n",
    "**Pause to commit your changes to your Git repository!**\n",
    "\n",
    "Take a moment to save your notebook, commit the changes to your Git repository using the commit message \"**Committing Part 4**\", and push the changes to GitHub.\n",
    "\n",
    "---"
   ]
  },
  {
   "cell_type": "markdown",
   "metadata": {
    "pycharm": {
     "name": "#%% md\n"
    }
   },
   "source": [
    "## You're done! Congrats on finishing your CMSE 202 Midterm!\n",
    "\n",
    "Make sure all of your changes to your repository are committed and pushed to GitHub. Also upload a copy of this notebook to the dropbox on D2L in case something went wrong with your repository or if you couldn't get the repository to work."
   ]
  },
  {
   "cell_type": "markdown",
   "metadata": {
    "pycharm": {
     "name": "#%% md\n"
    }
   },
   "source": [
    "---\n",
    "If you ran into issues with getting the earthquake downloaded and loaded using Pandas in Part 2, you can use the following code to generate the earthquakes needed for Part 3."
   ]
  },
  {
   "cell_type": "code",
   "execution_count": null,
   "metadata": {
    "pycharm": {
     "name": "#%%\n"
    }
   },
   "outputs": [],
   "source": [
    "import pandas as pd\n",
    "\n",
    "earthquakes_indiana = pd.DataFrame.from_dict({'time': {11136: '2012-05-10 22:54:05-04',\n",
    "  12211: '2012-01-26 22:35:55.79-05',\n",
    "  15578: '2010-12-30 12:55:21.96-05',\n",
    "  40786: '2004-09-12 13:05:19.11-04',\n",
    "  48615: '2002-06-18 17:37:15.17-04',\n",
    "  53343: '2000-12-07 14:08:49.43-05',\n",
    "  55027: '2000-04-14 03:54:20-04',\n",
    "  63507: '1996-12-16 01:58:31.35-05',\n",
    "  76862: '1990-12-20 14:04:17.12-05',\n",
    "  76883: '1990-12-17 05:24:59.1-05',\n",
    "  77772: '1990-04-17 10:27:34.78-04',\n",
    "  78144: '1990-01-24 18:20:24.41-05',\n",
    "  87532: '1990-12-20 14:04:17.12-05',\n",
    "  87553: '1990-12-17 05:24:59.1-05',\n",
    "  88439: '1990-04-17 10:27:34.78-04',\n",
    "  88806: '1990-01-24 18:20:24.41-05',\n",
    "  96195: '1985-02-13 10:22:24.14-05',\n",
    "  96914: '1984-08-29 06:50:56.49-04',\n",
    "  97033: '1984-07-28 23:39:27.38-04',\n",
    "  97163: '1984-06-12 18:26:48.22-04'},\n",
    " 'latitude': {11136: 38.807,\n",
    "  12211: 41.576,\n",
    "  15578: 40.43,\n",
    "  40786: 39.594,\n",
    "  48615: 37.987,\n",
    "  53343: 37.973,\n",
    "  55027: 39.76,\n",
    "  63507: 39.5,\n",
    "  76862: 39.57,\n",
    "  76883: 40.068,\n",
    "  77772: 40.46,\n",
    "  78144: 38.133,\n",
    "  87532: 39.57,\n",
    "  87553: 40.068,\n",
    "  88439: 40.46,\n",
    "  88806: 38.133,\n",
    "  96195: 38.416,\n",
    "  96914: 39.37,\n",
    "  97033: 39.22,\n",
    "  97163: 38.918},\n",
    " 'longitude': {11136: -87.46,\n",
    "  12211: -85.49,\n",
    "  15578: -85.914,\n",
    "  40786: -85.796,\n",
    "  48615: -87.78,\n",
    "  53343: -87.66,\n",
    "  55027: -86.75,\n",
    "  63507: -87.4,\n",
    "  76862: -86.671,\n",
    "  76883: -87.044,\n",
    "  77772: -84.852,\n",
    "  78144: -86.434,\n",
    "  87532: -86.671,\n",
    "  87553: -87.044,\n",
    "  88439: -84.852,\n",
    "  88806: -86.434,\n",
    "  96195: -87.512,\n",
    "  96914: -87.22,\n",
    "  97033: -87.071,\n",
    "  97163: -87.464},\n",
    " 'mag': {11136: 3.1,\n",
    "  12211: 3.0,\n",
    "  15578: 3.8,\n",
    "  40786: 3.8,\n",
    "  48615: 4.6,\n",
    "  53343: 3.3,\n",
    "  55027: 3.6,\n",
    "  63507: 3.1,\n",
    "  76862: 3.6,\n",
    "  76883: 3.2,\n",
    "  77772: 3.0,\n",
    "  78144: 4.1,\n",
    "  87532: 3.6,\n",
    "  87553: 3.2,\n",
    "  88439: 3.0,\n",
    "  88806: 4.1,\n",
    "  96195: 3.0,\n",
    "  96914: 3.2,\n",
    "  97033: 4.0,\n",
    "  97163: 3.4},\n",
    " 'id': {11136: 'usp000jk9b',\n",
    "  12211: 'usp000je0q',\n",
    "  15578: 'usp000hsa5',\n",
    "  40786: 'usp000d44w',\n",
    "  48615: 'usp000b6e4',\n",
    "  53343: 'usp000a5nr',\n",
    "  55027: 'usp0009r8t',\n",
    "  63507: 'usp0007uhc',\n",
    "  76862: 'usp0004jd0',\n",
    "  76883: 'usp0004j87',\n",
    "  77772: 'usp0004818',\n",
    "  78144: 'usp00044pv',\n",
    "  87532: 'usp0004jd0',\n",
    "  87553: 'usp0004j87',\n",
    "  88439: 'usp0004818',\n",
    "  88806: 'usp00044pv',\n",
    "  96195: 'usp0002bva',\n",
    "  96914: 'usp00026u3',\n",
    "  97033: 'usp000261v',\n",
    "  97163: 'usp00024zc'},\n",
    " 'updated': {11136: '2015-01-28 10:27:40.88-05',\n",
    "  12211: '2014-11-06 20:46:50.763-05',\n",
    "  15578: '2014-11-06 20:43:16.593-05',\n",
    "  40786: '2014-11-06 20:23:28.274-05',\n",
    "  48615: '2014-11-06 20:15:51.367-05',\n",
    "  53343: '2014-11-06 20:11:41.493-05',\n",
    "  55027: '2014-11-06 20:09:53.863-05',\n",
    "  63507: '2014-11-06 20:01:47.641-05',\n",
    "  76862: '2014-11-06 19:47:38.214-05',\n",
    "  76883: '2014-11-06 19:47:37.577-05',\n",
    "  77772: '2014-11-06 19:46:09.932-05',\n",
    "  78144: '2014-11-06 19:45:35.518-05',\n",
    "  87532: '2014-11-06 19:47:38.214-05',\n",
    "  87553: '2014-11-06 19:47:37.577-05',\n",
    "  88439: '2014-11-06 19:46:09.932-05',\n",
    "  88806: '2014-11-06 19:45:35.518-05',\n",
    "  96195: '2014-11-06 19:36:10.438-05',\n",
    "  96914: '2014-11-06 19:35:20.563-05',\n",
    "  97033: '2014-11-06 19:35:13.193-05',\n",
    "  97163: '2014-11-06 19:35:01.947-05'},\n",
    " 'place': {11136: 'Indiana',\n",
    "  12211: 'Indiana',\n",
    "  15578: 'Indiana',\n",
    "  40786: 'Indiana',\n",
    "  48615: 'Indiana',\n",
    "  53343: 'Indiana',\n",
    "  55027: 'Indiana',\n",
    "  63507: 'Indiana',\n",
    "  76862: 'Indiana',\n",
    "  76883: 'Indiana',\n",
    "  77772: 'Indiana',\n",
    "  78144: 'Indiana',\n",
    "  87532: 'Indiana',\n",
    "  87553: 'Indiana',\n",
    "  88439: 'Indiana',\n",
    "  88806: 'Indiana',\n",
    "  96195: 'Indiana',\n",
    "  96914: 'Indiana',\n",
    "  97033: 'Indiana',\n",
    "  97163: 'Indiana'},\n",
    " 'type': {11136: 'earthquake',\n",
    "  12211: 'earthquake',\n",
    "  15578: 'earthquake',\n",
    "  40786: 'earthquake',\n",
    "  48615: 'earthquake',\n",
    "  53343: 'earthquake',\n",
    "  55027: 'earthquake',\n",
    "  63507: 'earthquake',\n",
    "  76862: 'earthquake',\n",
    "  76883: 'earthquake',\n",
    "  77772: 'earthquake',\n",
    "  78144: 'earthquake',\n",
    "  87532: 'earthquake',\n",
    "  87553: 'earthquake',\n",
    "  88439: 'earthquake',\n",
    "  88806: 'earthquake',\n",
    "  96195: 'earthquake',\n",
    "  96914: 'earthquake',\n",
    "  97033: 'earthquake',\n",
    "  97163: 'earthquake'},\n",
    " 'geom': {11136: '0101000020AD1000003D0AD7A370DD55C09DEFA7C64B674340',\n",
    "  12211: '0101000020AD1000008FC2F5285C5F55C07D3F355EBAC94440',\n",
    "  15578: '0101000020AD100000D122DBF97E7A55C0D7A3703D0A374440',\n",
    "  40786: '0101000020AD1000006DE7FBA9F17255C079E9263108CC4340',\n",
    "  48615: '0101000020AD10000052B81E85EBF155C07493180456FE4240',\n",
    "  53343: '0101000020AD1000000AD7A3703DEA55C0068195438BFC4240',\n",
    "  55027: '0101000020AD1000000000000000B055C0E17A14AE47E14340',\n",
    "  63507: '0101000020AD1000009A99999999D955C00000000000C04340',\n",
    "  76862: '0101000020AD1000006DE7FBA9F1AA55C0295C8FC2F5C84340',\n",
    "  76883: '0101000020AD100000894160E5D0C255C063105839B4084440',\n",
    "  77772: '0101000020AD1000004A0C022B873655C07B14AE47E13A4440',\n",
    "  78144: '0101000020AD100000B29DEFA7C69B55C01B2FDD2406114340',\n",
    "  87532: '0101000020AD1000006DE7FBA9F1AA55C0295C8FC2F5C84340',\n",
    "  87553: '0101000020AD100000894160E5D0C255C063105839B4084440',\n",
    "  88439: '0101000020AD1000004A0C022B873655C07B14AE47E13A4440',\n",
    "  88806: '0101000020AD100000B29DEFA7C69B55C01B2FDD2406114340',\n",
    "  96195: '0101000020AD10000054E3A59BC4E055C06891ED7C3F354340',\n",
    "  96914: '0101000020AD100000AE47E17A14CE55C08FC2F5285CAF4340',\n",
    "  97033: '0101000020AD100000068195438BC455C05C8FC2F5289C4340',\n",
    "  97163: '0101000020AD10000004560E2DB2DD55C02FDD240681754340'},\n",
    " 'state': {11136: 'Indiana',\n",
    "  12211: 'Indiana',\n",
    "  15578: 'Indiana',\n",
    "  40786: 'Indiana',\n",
    "  48615: 'Indiana',\n",
    "  53343: 'Indiana',\n",
    "  55027: 'Indiana',\n",
    "  63507: 'Indiana',\n",
    "  76862: 'Indiana',\n",
    "  76883: 'Indiana',\n",
    "  77772: 'Indiana',\n",
    "  78144: 'Indiana',\n",
    "  87532: 'Indiana',\n",
    "  87553: 'Indiana',\n",
    "  88439: 'Indiana',\n",
    "  88806: 'Indiana',\n",
    "  96195: 'Indiana',\n",
    "  96914: 'Indiana',\n",
    "  97033: 'Indiana',\n",
    "  97163: 'Indiana'}})"
   ]
  },
  {
   "cell_type": "code",
   "execution_count": null,
   "metadata": {
    "pycharm": {
     "name": "#%%\n"
    }
   },
   "outputs": [],
   "source": [
    "earthquakes_indiana"
   ]
  }
 ],
 "metadata": {
  "kernelspec": {
   "display_name": "Python 3",
   "language": "python",
   "name": "python3"
  },
  "language_info": {
   "codemirror_mode": {
    "name": "ipython",
    "version": 3
   },
   "file_extension": ".py",
   "mimetype": "text/x-python",
   "name": "python",
   "nbconvert_exporter": "python",
   "pygments_lexer": "ipython3",
   "version": "3.8.8"
  }
 },
 "nbformat": 4,
 "nbformat_minor": 4
}