{
 "cells": [
  {
   "cell_type": "markdown",
   "metadata": {},
   "source": [
    "## <p style=\"text-align: right;\"> &#9989; Put your name here</p>"
   ]
  },
  {
   "cell_type": "markdown",
   "metadata": {},
   "source": [
    "# CMSE 202 Midterm (Section 003 - Fall 2021)\n",
    "\n",
    "The goal of this midterm is to give you the opportunity to test out some of the skills that you've developed thus far this semester. In particular, you'll practice setting up a GitHub repository, committing and pushing repository changes, downloading data with command line tools, performing some data analysis, possibly using a new Python package, and writing a python class. You should find that you have all of the skills necessary to complete this exam with even just eight weeks of CMSE 202 under your belt!\n",
    "\n",
    "You are encouraged to look through the entire exam before you get started so that you can appropriately budget your time and understand the broad goals of the exam. Once you've read through it, try doing Parts 1 and 2 first so that you have your repository set up and you download all necessary data files as they will be necessary to complete the assigned tasks. Let your instructor know right away if you have problems downloading the data!\n",
    "\n",
    "The exam is set up so that even if you get stuck on one part there are opportunities to get points on the other parts, so consider jumping ahead if you feel like you aren't making progress and then come back later if you have time.\n",
    "\n",
    "**Important note about using online resources**: This exam is \"open internet\". That means that you can look up documentation, google how to accomplish certain Python tasks, etc. Being able to effectively use the internet for computational modeling and data science is a very important skill, so we want to make sure you have the opportunity to exercise that skill. **However**: The use of any person-to-person communication software is absolutely not acceptable. If you are seen accessing your email, using a chat program (e.g. Slack), or any sort of collaborative cloud storage or document software (e.g. Google Documents), you will be at risk for receiving a zero on the exam.\n",
    "\n",
    "**Keep your eyes on your screen!** Unfortunately, there isn't enough space in the room for everyone to sit at their own table so please do your best to keep your eyes on your own screen. This exam is designed to give *you* the opportunity to show the instructor what you can do and you should hold yourself accountable for maintaining a high level of academic integrity. If any of the instructors observe suspicious behavior, you will, again, risk receiving a zero."
   ]
  },
  {
   "cell_type": "markdown",
   "metadata": {},
   "source": [
    "---\n",
    "## Part 0: Academic integrity statement\n",
    "\n",
    "Read the following statement and edit the markdown text to put your name in the statement. This is your commitment to doing your own authentic work on this exam."
   ]
  },
  {
   "cell_type": "markdown",
   "metadata": {},
   "source": [
    "> I, **INSERT NAME HERE**, affirm that this exam represents my own authetic work, without the use of any unpermitted aids or resources or person-to-person communication. I understand that this exam an an opportunity to showcase my own progress in developing and improving my computational skills and have done my best to demonstrate those skills."
   ]
  },
  {
   "cell_type": "markdown",
   "metadata": {},
   "source": [
    "---\n",
    "## Part 1: Add to your Git repository to track your progress on your exam (2 points)\n",
    "\n",
    "Before you get to far along in the exam, you're going to add it to the `cmse202-sf1-turnin` repository you created in class so that you can track your progress on the exam and preserve the final version that you turn in. In order to do this you need to\n",
    "\n",
    "**&#9989; Do the following**:\n",
    "\n",
    "1. Navigate to your `cmse202-f21-turnin` repository and create a new directory called `midterm`.\n",
    "2. Move this notebook into that **new directory** in your repository, then **add it and commit it to your repository**.\n",
    "1. Finally, to test that everything is working, \"git push\" the file so that it ends up in your GitHub repository.\n",
    "\n",
    "**Important**: Double check you've added your Professor and your TA as collaborators to your \"turnin\" respository (you should have done this in the previous homework assignment).\n",
    "\n",
    "**Also important**: Make sure that the version of this notebook that you are working on is the same one that you just added to your repository! If you are working on a different copy of the noteobok, **none of your changes will be tracked**!\n",
    "\n",
    "If everything went as intended, the file should now show up on your GitHub account in the \"`cmse202-f21-turnin`\" repository inside the `midterm` directory that you just created.  Periodically, **you'll be asked to commit your changes to the repository and push them to the remote GitHub location**. Of course, you can always commit your changes more often than that, if you wish.  It can be good to get into a habit of committing your changes any time you make a significant modification, or when you stop working on the project for a bit.\n",
    "\n",
    "&#9989; **Do this**: Before you move on, put the command that your instructor should run to clone your repository in the markdown cell below."
   ]
  },
  {
   "cell_type": "markdown",
   "metadata": {},
   "source": [
    "``` bash\n",
    "# Put the command for cloning your repository here!\n",
    "\n",
    "```"
   ]
  },
  {
   "cell_type": "markdown",
   "metadata": {},
   "source": [
    "---\n",
    "## Part 2: Downloading and analyzing unfamiliar data (15 points)"
   ]
  },
  {
   "cell_type": "markdown",
   "metadata": {},
   "source": [
    "In this part of the exam, you will use load and visualize a dataset that you probably have not used before. \n",
    "\n",
    "In particular, you will be working with penguin data collected by Dr. Kristen Gorman and the Palmer Station, Antarctica LTER. They collected data from over 300 penguins of the three penguin species (Adelie, Chinstrap, and Gentoo) which make up the Pygoscelis genus. For each penguin, they identified the species and sex of the penguin, and they measured the penguin's culmen length, culmen depth, flipper length, and body mass.\n",
    "\n",
    "I have split their data into two sets: one called `penguins_identified.csv` and `penguins_unidentified.csv`. In both files, each row (not including the header) has data for one penguin. The first file has all of the collected data in each row. In the second file, the species info is missing, but the rest of the data is there. \n",
    "\n",
    "To get started, you will need to download two files - `penguins_identified.csv` and `penguins_unidentified.csv`. The direct links to these files are:\n",
    "* `https://raw.githubusercontent.com/skarnik1337/cmse202sec003f21midterm/main/penguins_identified.csv`\n",
    "* `https://raw.githubusercontent.com/skarnik1337/cmse202sec003f21midterm/main/penguins_unidentified.csv`"
   ]
  },
  {
   "cell_type": "markdown",
   "metadata": {},
   "source": [
    "&#9989; **Question 2.1 (1 point)**: **Do this now:** Save these files in the same directory as your notebook so you can load them directly. **Then, in the cell below, put the command line command(s) you used to download the files.** If you did not use a command line tool to download the files, write down the command(s) that *would* have downloaded the files."
   ]
  },
  {
   "cell_type": "markdown",
   "metadata": {},
   "source": [
    "``` bash\n",
    "# Put the command(s) you used for fetching the data files here!\n",
    "\n",
    "```"
   ]
  },
  {
   "cell_type": "markdown",
   "metadata": {},
   "source": [
    "&#9989; **Question 2.2 (2 points)**: To get started, read in the `penguins_identified.csv` dataset, and then display the first 15 rows. I gently suggest using the `read_csv` method in `Pandas` for this task, but you can use another Python tool if you prefer."
   ]
  },
  {
   "cell_type": "code",
   "execution_count": null,
   "metadata": {},
   "outputs": [],
   "source": [
    "### Put your code for Question 2.2 here"
   ]
  },
  {
   "cell_type": "markdown",
   "metadata": {},
   "source": [
    "&#9989; **Question 2.3 (3 points)**: You should notice that the dataset contains columns called `species`, `culmen_length_mm`, `culmen_depth_mm`, `flipper_length_mm`, `body_mass_g`, and `sex`.\n",
    "\n",
    "**Do this**: For each of the three species Adelie, Chinstrap, and Gentoo, make a separate histogram of the penguin's flipper length. Specify the same bin centers or edges for all three histograms so that you can see the data on the same scale. Also, label all axes and give your histograms titles."
   ]
  },
  {
   "cell_type": "code",
   "execution_count": null,
   "metadata": {},
   "outputs": [],
   "source": [
    "### Put your code for Question 2.3 here"
   ]
  },
  {
   "cell_type": "markdown",
   "metadata": {},
   "source": [
    "&#9989; **Question 2.4 (4 points)**: **Do this**: Make a scatterplot of flipper length (on the x-axis) and culmen length (on the y-axis). Color code the dots so that each species of penguin gets a different color. Label both axes and add a legend to indicate what color corresponds to each of the three species."
   ]
  },
  {
   "cell_type": "code",
   "execution_count": null,
   "metadata": {},
   "outputs": [],
   "source": [
    "### Put your code for Question 2.4 here\n"
   ]
  },
  {
   "cell_type": "markdown",
   "metadata": {},
   "source": [
    "&#9989; **Question 2.5 (2 points)**: **Do this**: Suppose you are given a penguin's `culmen_length_mm`, `culmen_depth_mm`, `flipper_length_mm`, `body_mass_g`, and `sex`, and you are asked to guess the penguin's species (Adelie, Chinstrap, or Gentoo). **At the bottom of this markdown cell, describe a simple procedure to do this. Your description should give enough detail for someone else to perform your procedure exactly as you intended given a penguin's data.**\n",
    "\n",
    "Note that while it is extremely difficult to come up with a procedure that is guaranteed to correctly identify the penguin's species, you should be able to come up with a simple procedure that works for most of the penguins in `penguins_identified.csv`. \n",
    "\n",
    "**Describe your procedure here**:"
   ]
  },
  {
   "cell_type": "markdown",
   "metadata": {},
   "source": [
    "&#9989; **Question 2.6 (3 points)**: **Do this**: In the cell below, read in the `penguins_unidentified.csv` dataset. Then, write code which uses the procedure you described in Question 2.5 to complete the `species` column of the data. Finally, display the completed data table.\n",
    "\n",
    "Note that your grade on this question will be based on how well you implemented the procedure you described above. You will not lose points if some of your guesses are incorrect, as long as your procedure actually uses some of the data to make guesses as opposed to guessing randomly/arbitrarily. However, the penguins in the image below are staring at you intensly while you write this code, and they might jump out of your computer screen and angrily peck at you if you misidentify them. <(\")\n",
    "<img src=\"https://i.redd.it/q09631arghi41.jpg\" width=\"400px\">"
   ]
  },
  {
   "cell_type": "code",
   "execution_count": null,
   "metadata": {},
   "outputs": [],
   "source": [
    "# Put your code for Question 2.6 here"
   ]
  },
  {
   "cell_type": "markdown",
   "metadata": {},
   "source": [
    "---\n",
    "### &#128721; STOP\n",
    "**Pause to commit your changes to your Git repository!**\n",
    "\n",
    "Take a moment to save your notebook, commit the changes to your Git repository using the commit message \"**Committing Part 2**\", and push the changes to GitHub.\n",
    "\n",
    "---"
   ]
  },
  {
   "cell_type": "markdown",
   "metadata": {},
   "source": [
    "---\n",
    "## Part 3: Working with a new Python package (9 points)"
   ]
  },
  {
   "cell_type": "markdown",
   "metadata": {},
   "source": [
    "In this part of the exam, you will install a Python package that you probably have not used before, and use it to perform a simple task. Specifically, you will use a package called `pydealer` to perform some tasks with a standard deck of playing cards. The source code for the `pydealer` package can be found at https://github.com/Trebek/pydealer/tree/dev and the documentation can be found at https://pydealer.readthedocs.io/en/latest/. If you have never seen a standard deck of playing cards before, here's the wikipedia article https://en.wikipedia.org/wiki/Standard_52-card_deck."
   ]
  },
  {
   "cell_type": "markdown",
   "metadata": {},
   "source": [
    "&#9989; **Question 3.1 [2 points]**: Unfortunately, `pydealer` is not already included with Anaconda. However, you should be able to install the package in the same way we have used previously to install Python packages.\n",
    "\n",
    "**Do this**: Install the `pydealer` Python package.\n",
    "\n",
    "What command did you use to install `pydealer`? **Include this command in the cell below.**"
   ]
  },
  {
   "cell_type": "code",
   "execution_count": null,
   "metadata": {},
   "outputs": [],
   "source": [
    "``` bash\n",
    "# Put the command for installing `pydealer` here!\n",
    "\n",
    "```"
   ]
  },
  {
   "cell_type": "markdown",
   "metadata": {},
   "source": [
    "Once `pydealer` is installed, running the following cell should not result in an error message. **You might need to re-start your Jupyter kernel after installing the package for this to work.** (Once everything works, it should give you no output at all.)"
   ]
  },
  {
   "cell_type": "code",
   "execution_count": null,
   "metadata": {},
   "outputs": [],
   "source": [
    "# Running this cell should just work and not yield any output if pydealer is installed and available\n",
    "import pydealer"
   ]
  },
  {
   "cell_type": "markdown",
   "metadata": {},
   "source": [
    "In Questions 3.2-3.4, you will use the `pydealer` package to create a new deck of cards, shuffle the deck, deal yourself a hand with 5 cards, discard 2 of the cards, and then draw 2 new cards from the deck."
   ]
  },
  {
   "cell_type": "markdown",
   "metadata": {},
   "source": [
    "&#9989; **Question 3.2 [2 points]**: **Do this**: Perform the following steps in order:\n",
    "1. Construct a new instance of a `Deck` called `deck`\n",
    "2. Shuffle the `deck` you created\n",
    "3. Deal 5 cards from the `deck` to an instance of a `Stack` called `hand`\n",
    "4. Print your `hand`.\n",
    "\n",
    "It will likely help to find a quick usage example on the `pydealer` documentation site to use as a starting point."
   ]
  },
  {
   "cell_type": "code",
   "execution_count": null,
   "metadata": {},
   "outputs": [],
   "source": [
    "# Put your code for Question 3.2 here"
   ]
  },
  {
   "cell_type": "markdown",
   "metadata": {},
   "source": [
    "&#9989; **Question 3.3 [2 points]**: **Do this**: Now that you have a `hand` with 5 cards, perform the following steps in order: \n",
    "* Discard (i.e. remove) any 2 cards from your `hand`. (Do not put these back in the `deck`).\n",
    "* Print your `hand`, which should now have 3 cards\n",
    "\n",
    "You'll need to use the documentation to figure out how to remove cards from your `hand`. HINT: When searching the documentation, remember that your hand is an instance of the `Stack` class."
   ]
  },
  {
   "cell_type": "code",
   "execution_count": null,
   "metadata": {},
   "outputs": [],
   "source": [
    "# Put your code for Question 3.3 here"
   ]
  },
  {
   "cell_type": "markdown",
   "metadata": {},
   "source": [
    "&#9989; **Question 3.4 [2 points]**: Now that your `hand` has only 3 cards, perform the following steps in order: \n",
    "* Deal out two cards from the `deck`.\n",
    "* Add these two cards to your `hand`.\n",
    "* Print your `hand`, which should now have 5 cards.\n",
    "\n",
    "You'll need to use the documentation to figure out how to add newly dealt cards to your `hand`."
   ]
  },
  {
   "cell_type": "code",
   "execution_count": null,
   "metadata": {},
   "outputs": [],
   "source": [
    "# Put your code for Question 3.4 here"
   ]
  },
  {
   "cell_type": "markdown",
   "metadata": {},
   "source": [
    "&#9989; **Question 3.5 [1 point]**: **Do This**: In the cell below, put code that you can run to find out how many cards are left in the `deck`. "
   ]
  },
  {
   "cell_type": "code",
   "execution_count": null,
   "metadata": {},
   "outputs": [],
   "source": [
    "# Put your code for Question 3.5 here"
   ]
  },
  {
   "cell_type": "markdown",
   "metadata": {},
   "source": [
    "---\n",
    "### &#128721; STOP\n",
    "**Pause to commit your changes to your Git repository!**\n",
    "\n",
    "Take a moment to save your notebook, commit the changes to your Git repository using the commit message \"**Committing Part 3**\", and push the changes to GitHub.\n",
    "\n",
    "---"
   ]
  },
  {
   "cell_type": "markdown",
   "metadata": {},
   "source": [
    "---\n",
    "## Part 4: Writing and using Python classes (13 points)"
   ]
  },
  {
   "cell_type": "markdown",
   "metadata": {},
   "source": [
    "In this part of the exam, you will debug and expand a `Game` class, which is used to keep track of the score of a game between two teams. After getting this to work, you will create a new `FootballGame` class which inherits from the Game class, and contains a method to update the score of an (American) football game."
   ]
  },
  {
   "cell_type": "code",
   "execution_count": null,
   "metadata": {},
   "outputs": [],
   "source": [
    "# DO NOT EDIT THIS CELL\n",
    "# This cell contains a minimally functional Game class\n",
    "# If you cannot get Question 4.1, you can use this Game class for Question 4.2 \n",
    "class Game:\n",
    "    def __init__(self,teams):\n",
    "        # teams attribute stores the two team's names as a list with two strings: e.g. [\"Michigan State\",\"Michigan\"]\n",
    "        # scores attribute stores the two team's scores as a list with two integers: e.g. [5,3]\n",
    "        self.teams = teams\n",
    "        self.score = [0,0] # The score at the start of the game is 0-0\n",
    "        \n",
    "    def increase_score(self,team_name,points_scored):\n",
    "        # increases team_name's score by points_scored\n",
    "        # team_name is a string with the team's name, points_scored is an integer\n",
    "        if team_name == self.teams[0]:\n",
    "            self.score[0] += points_scored\n",
    "        elif team_name == self.teams[1]:\n",
    "            self.score[1] += points_scored\n",
    "        \n",
    "    def print_score(self):\n",
    "        # Prints self.score (currently, this just prints the list e.g. \"[5,3]\")\n",
    "        print(self.score)\n",
    "        \n",
    "    def print_winner(self):\n",
    "        # We will write this later\n",
    "        pass"
   ]
  },
  {
   "cell_type": "markdown",
   "metadata": {},
   "source": [
    "&#9989; **Question 4.1 [4 points]**: **Do this**: Debug and expand the `Game` class in the code cell below using the following instructions:\n",
    "\n",
    "* When a `Game` object is created, it should print \"A game between `teams[0]` and `teams[1]` is starting.\" with `teams[0]` and `teams[1]` replaced by the two team names.\n",
    "* The `print_score()` method should be upgraded to display the score as \"`teams[0]`:`score[0]`, `teams[1]`:`score[1]`\", e.g. \"Calvin: 9004, Hobbes: 4\". However, there is a bug in the code. Think about what data type `score[0]` and `score[1]` are. \n",
    "* The `print_winner()` method is intended to be run at the end of the game. If `score[0]` > `score[1]`, it should print \"`teams[0]` wins!\". If `score[1]` > `score[0]`, it should print \"`teams[1]` wins!\". If `score[0]` = `score[1]`, it should print \"The game ended in a tie :(\"."
   ]
  },
  {
   "cell_type": "code",
   "execution_count": null,
   "metadata": {},
   "outputs": [],
   "source": [
    "# Edit and expand this Game class\n",
    "class Game:\n",
    "    def __init__(self,teams):\n",
    "        self.teams = teams\n",
    "        self.score = [0,0]\n",
    "        # Print statement goes here\n",
    "        \n",
    "    def increase_score(self,team_name,points_scored):\n",
    "        # This method works perfectly :)\n",
    "        if team_name == self.teams[0]:\n",
    "            self.score[0] += points_scored\n",
    "        elif team_name == self.teams[1]:\n",
    "            self.score[1] += points_scored\n",
    "        \n",
    "    def print_score(self):\n",
    "        # There is a bug in the line below\n",
    "        print(self.teams[0]+\": \"+self.score[0]+\", \"+self.teams[1]+\": \"+self.score[1])\n",
    "    \n",
    "    def print_winner(self):\n",
    "        # There are a few bugs in this method\n",
    "        if score[0] >= score[1]:\n",
    "            print(teams[0]+\" wins!\")\n",
    "        elif score[1] < score[0]:\n",
    "            print(teams[1]+\" wins!\")\n",
    "        else:\n",
    "            print(\"The game ended in a tie :(\")"
   ]
  },
  {
   "cell_type": "markdown",
   "metadata": {},
   "source": [
    "&#9989; **Do this**: When you are done editing the Game class, you can run the cell below to test it out. Your output should look like this:  \n",
    "A game between Calvin and Hobbes is starting.  \n",
    "Calvin: 0, Hobbes: 0  \n",
    "Calvin: 3, Hobbes: 0  \n",
    "Calvin: 3, Hobbes: 2  \n",
    "Calvin: 3, Hobbes: 4  \n",
    "Calvin: 4, Hobbes: 4  \n",
    "Calvin: 9004, Hobbes: 4  \n",
    "Calvin wins!  "
   ]
  },
  {
   "cell_type": "code",
   "execution_count": null,
   "metadata": {},
   "outputs": [],
   "source": [
    "my_game = Game([\"Calvin\",\"Hobbes\"])\n",
    "my_game.print_score()\n",
    "my_game.increase_score(\"Calvin\",3)\n",
    "my_game.print_score()\n",
    "my_game.increase_score(\"Hobbes\",2)\n",
    "my_game.print_score()\n",
    "my_game.increase_score(\"Hobbes\",2)\n",
    "my_game.print_score()\n",
    "my_game.increase_score(\"Calvin\",1)\n",
    "my_game.print_score()\n",
    "my_game.increase_score(\"Calvin\",9000)\n",
    "my_game.print_score()\n",
    "my_game.print_winner()"
   ]
  },
  {
   "cell_type": "markdown",
   "metadata": {},
   "source": [
    "&#9989; **Question 4.2 [9 points]**: **Do this**: Create a second class called `FootballGame` that **inherits** the `Game` class and then adds new functionality as described below. Put this new class in the code cell below. If you were not able to get the `Game` class working, you can still receive credit on this question by using the minimally functional `Game` class that was provided in the first code cell of Part 4.\n",
    "\n",
    "In this new `FootballGame` class, do the following:\n",
    "* Create the `__init__()` method, which will take in one argument `teams` (in addition to what all class methods should take)\n",
    "    * The `__init__()` method should use the `Game` class's constructor to instantiate the attributes `teams` and `score`.\n",
    "    * Create an additional atribute `quarter` and set it equal to `1`\n",
    "* Create a new method called `scoring_play()` which will take two string arguments `team_name` and `score_type` (in addition to what all class methods should take)\n",
    "    * If `score_type` is `\"Touchdown\"`, then the team specified by `team_name` should have their score increased by `6` points.\n",
    "    * If `score_type` is `\"Field Goal\"`, then the team specified by `team_name` should have their score increased by `3` points.\n",
    "    * If `score_type` is `\"Extra Point\"`, then the team specified by `team_name` should have their score increased by `1` point. \n",
    "    * The `scoring_play()` method should update the appropriate team score attribute via the `Game` class method `increase_score()`. \n",
    "* Create a new method called `end_of_quarter()` which takes no arguments (except what all class methods should take)\n",
    "    * If the `quarter` atribute is *strictly* less than `4`, then increase the `quarter` atribute by `1`.\n",
    "    * If the `quarter` atribute is `4`, then run the `Game` class method `print_winner()`."
   ]
  },
  {
   "cell_type": "code",
   "execution_count": null,
   "metadata": {},
   "outputs": [],
   "source": [
    "# Put your code for the FootballGame class in this cell\n"
   ]
  },
  {
   "cell_type": "markdown",
   "metadata": {},
   "source": [
    "&#9989; **Do this**: When you are done editing the FootballGame class, run the cell below to test it out. The final score should be displayed as either \"[27,23]\" or \"Michigan State: 27, Michigan: 23\" depending on whether you got your code in Question 4.1 working."
   ]
  },
  {
   "cell_type": "code",
   "execution_count": null,
   "metadata": {},
   "outputs": [],
   "source": [
    "# DO NOT EDIT THIS CELL\n",
    "rivalry_game = FootballGame([\"Michigan State\",\"Michigan\"])\n",
    "print(\"Quarter \"+str(rivalry_game.quarter))\n",
    "rivalry_game.print_score()\n",
    "rivalry_game.end_of_quarter()\n",
    "print(\"Quarter \"+str(rivalry_game.quarter))\n",
    "rivalry_game.scoring_play(\"Michigan\",\"Touchdown\")\n",
    "rivalry_game.scoring_play(\"Michigan\",\"Extra Point\")\n",
    "rivalry_game.print_score()\n",
    "rivalry_game.scoring_play(\"Michigan State\",\"Touchdown\")\n",
    "rivalry_game.scoring_play(\"Michigan State\",\"Extra Point\")\n",
    "rivalry_game.print_score()\n",
    "rivalry_game.scoring_play(\"Michigan\",\"Field Goal\")\n",
    "rivalry_game.print_score()\n",
    "rivalry_game.end_of_quarter()\n",
    "print(\"Quarter \"+str(rivalry_game.quarter))\n",
    "rivalry_game.scoring_play(\"Michigan\",\"Touchdown\")\n",
    "rivalry_game.scoring_play(\"Michigan\",\"Extra Point\")\n",
    "rivalry_game.print_score()\n",
    "rivalry_game.scoring_play(\"Michigan State\",\"Touchdown\")\n",
    "rivalry_game.scoring_play(\"Michigan State\",\"Extra Point\")\n",
    "rivalry_game.print_score()\n",
    "rivalry_game.scoring_play(\"Michigan\",\"Field Goal\")\n",
    "rivalry_game.print_score()\n",
    "rivalry_game.end_of_quarter()\n",
    "print(\"Quarter \"+str(rivalry_game.quarter))\n",
    "rivalry_game.scoring_play(\"Michigan\",\"Field Goal\")\n",
    "rivalry_game.print_score()\n",
    "rivalry_game.scoring_play(\"Michigan State\",\"Touchdown\")\n",
    "rivalry_game.scoring_play(\"Michigan State\",\"Extra Point\")\n",
    "rivalry_game.print_score()\n",
    "print(\"Whoa! He has trouble with the snap, \\nand the ball is free! \\nIt's picked up by Michigan State's Jalen Watts-Jackson, \\nand he scores on the last play of the game! \\nUnbelievable!\")\n",
    "rivalry_game.scoring_play(\"Michigan State\",\"Touchdown\")\n",
    "rivalry_game.print_score()\n",
    "rivalry_game.end_of_quarter()"
   ]
  },
  {
   "cell_type": "markdown",
   "metadata": {},
   "source": [
    "---\n",
    "### &#128721; STOP\n",
    "**Pause to commit your changes to your Git repository!**\n",
    "\n",
    "Take a moment to save your notebook, commit the changes to your Git repository using the commit message \"**Committing Part 4**\", and push the changes to GitHub.\n",
    "\n",
    "---"
   ]
  },
  {
   "cell_type": "markdown",
   "metadata": {},
   "source": [
    "## You're done! Congrats on finishing your CMSE 202 Midterm!\n",
    "\n",
    "Make sure all of your changes to your repository are committed and pushed to GitHub. Also upload a copy of this notebook to the dropbox on D2L in case something went wrong with your repository or if you couldn't get the repository to work."
   ]
  }
 ],
 "metadata": {
  "kernelspec": {
   "display_name": "Python 3",
   "language": "python",
   "name": "python3"
  },
  "language_info": {
   "codemirror_mode": {
    "name": "ipython",
    "version": 3
   },
   "file_extension": ".py",
   "mimetype": "text/x-python",
   "name": "python",
   "nbconvert_exporter": "python",
   "pygments_lexer": "ipython3",
   "version": "3.8.8"
  }
 },
 "nbformat": 4,
 "nbformat_minor": 4
}
