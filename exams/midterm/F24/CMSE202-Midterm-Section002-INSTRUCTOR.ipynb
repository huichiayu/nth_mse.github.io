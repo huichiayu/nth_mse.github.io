{
 "cells": [
  {
   "cell_type": "markdown",
   "id": "bc9e3ed0",
   "metadata": {},
   "source": [
    "### ANSWER (making sure this gets removed)\n",
    "\n",
    "### Grading Rubric (55 points total)\n",
    "\n",
    "\n",
    "#### Part 1. (12 points)\n",
    "\n",
    "1.1 - \n",
    "\n",
    "1.2 - \n",
    "\n",
    "1.3 - \n",
    "\n",
    "1.4 - \n",
    "\n",
    "1.5 - \n",
    "\n",
    "#### Part 2. (13 points)\n",
    "\n",
    "2.1 - \n",
    "\n",
    "2.2 - \n",
    "\n",
    "2.3 - \n",
    "\n",
    "2.4 - \n",
    "\n",
    "2.5 - \n",
    "\n",
    "2.6 - \n",
    "\n",
    "\n",
    "#### Part 3. (10 points)\n",
    "\n",
    "3.1 - \n",
    "\n",
    "3.2 - \n",
    "\n",
    "3.3 - \n",
    "\n",
    "3.4 - \n",
    "\n",
    "\n",
    "#### Part 4. (9 points)\n",
    "\n",
    "4.1 - \n",
    "\n",
    "4.2 - \n",
    "\n",
    "4.3 - \n",
    "\n",
    "#### Part 5 (11 points)\n",
    "\n",
    "5.1 - \n",
    "\n",
    "5.2 - \n",
    "\n",
    "5.3 - \n"
   ]
  },
  {
   "cell_type": "markdown",
   "id": "3def3efc",
   "metadata": {
    "tags": []
   },
   "source": [
    "# CMSE 202 Midterm (Section 002 - Fall 2024)\n",
    "\n",
    "The goal of this midterm is to give you the opportunity to test out some of the skills that you've developed thus far this semester. In particular, you'll practice setting up a GitHub repository, committing and pushing repository changes, downloading data with command line tools, performing some data analysis, possibly using a new Python package, and writing a python class. You should find that you have all of the skills necessary to complete this exam with even just eight weeks of CMSE 202 under your belt!\n",
    "\n",
    "You are encouraged to look through the entire exam before you get started so that you can appropriately budget your time and understand the broad goals of the exam. Once you've read through it, try doing Parts 0 and 1 first so that you have your repository set up and you download all necessary data files as they will be necessary to complete the assigned tasks. Let your instructor know right away if you have problems downloading the data!\n",
    "\n",
    "The exam is set up so that even if you get stuck on one part there are opportunities to get points on the other parts, so consider jumping ahead if you feel like you aren't making progress and then come back later if you have time. If you have any questions during the exam, you may ask the instructor, the TA, or the LA privately: simply raise your hand and one of us will come over to you. \n",
    "\n",
    "\n",
    "**Important note about using online resources**: This exam is \"open internet\". That means that you can look up documentation, google how to accomplish certain Python tasks, etc. Being able to effectively use the internet for computational modeling and data science is a very important skill, so we want to make sure you have the opportunity to exercise that skill. **However: The use of any person-to-person communication software or generative AI tools is absolutely not acceptable.** If you are seen accessing your email, using a collaborative cloud storage or document software (e.g. Slack, Google Documents), or generative AIs (e.g. ChatGPT), you will be at risk for receiving a zero on the exam.\n",
    "\n",
    "**Keep your eyes on your screen!** Unfortunately, there isn't enough space in the room for everyone to sit at their own table so please do your best to keep your eyes on your own screen. This exam is designed to give *you* the opportunity to show the instructor what you can do and you should hold yourself accountable for maintaining a high level of academic integrity. If any of the instructors observe suspicious behavior, you will, again, risk receiving a zero."
   ]
  },
  {
   "cell_type": "markdown",
   "id": "6b0b3d3a",
   "metadata": {},
   "source": [
    "---\n",
    "## Part 0: Academic integrity statement\n",
    "\n",
    "Read the following statement and edit the markdown text to put your name in the statement. This is your commitment to doing your own authentic work on this exam."
   ]
  },
  {
   "cell_type": "markdown",
   "id": "8e3dc4df",
   "metadata": {
    "pycharm": {
     "name": "#%% md\n"
    }
   },
   "source": [
    "> I, **INSERT NAME HERE**, affirm that this exam represents my own authetic work, without the use of any unpermitted aids or generative AIs or person-to-person communication. I understand that this exam an an opportunity to showcase my own progress in developing and improving my computational skills and have done my best to demonstrate those skills."
   ]
  },
  {
   "cell_type": "markdown",
   "id": "435ee396",
   "metadata": {
    "tags": []
   },
   "source": [
    "## Part 1: Add to your Git repository to track your progress on your exam (12 points total)\n",
    "\n",
    "Before you get to far along in the exam, you're going to add it to the `cmse202-s25-turnin` repository you created in class (or in Homework 1) so that you can track your progress on the exam and preserve the final version that you turn in. In order to do this you need to\n",
    "\n",
    "1. Navigate to your `cmse202-s25-turnin` repository and create a new directory called `midterm`.\n",
    "2. Move this notebook into that **new directory** in your repository, then **add it and commit it to your repository**.\n",
    "3. Finally, to test that everything is working, \"git push\" the file so that it ends up in your GitHub repository.\n",
    "\n",
    "**Important**: Double check you've added your Professor and your TA as collaborators to your \"turnin\" respository (you should have done this in the previous homework assignment).\n",
    "\n",
    "**Important**: Make sure that the version of this notebook that you are working on is the same one that you just added to your repository! If you are working on a different copy of the noteobok, **none of your changes will be tracked**!\n",
    "\n",
    "The file should now show up on your GitHub account in the `cmse202-s25-turnin` repository inside the `midterm` directory you just created.  Periodically, **you'll be asked to commit your changes to the repository and push them to the remote GitHub location**. It can be good to get into a habit of committing your changes any time you make a significant modification."
   ]
  },
  {
   "cell_type": "markdown",
   "id": "290bab71",
   "metadata": {},
   "source": [
    "&#9989; **Question 1.1 Put all the Git commands you used to add your midterm folder and file to your GitHub repository (4 points)**:"
   ]
  },
  {
   "cell_type": "code",
   "execution_count": 18,
   "id": "77244e3d",
   "metadata": {},
   "outputs": [],
   "source": [
    "### Put your code here:\n",
    "\n"
   ]
  },
  {
   "cell_type": "markdown",
   "id": "7a41a280",
   "metadata": {},
   "source": [
    "### ANSWER ###\n",
    "\n"
   ]
  },
  {
   "cell_type": "markdown",
   "id": "903ce347",
   "metadata": {},
   "source": [
    "&#9989; **Question 1.2 Put the code the instructor will need to clone your repository here (2 points)**:\n"
   ]
  },
  {
   "cell_type": "code",
   "execution_count": 19,
   "id": "adf93908",
   "metadata": {},
   "outputs": [],
   "source": [
    "### Put your code here:\n",
    "\n"
   ]
  },
  {
   "cell_type": "markdown",
   "id": "8239c731",
   "metadata": {},
   "source": [
    "&#9989; **Question 1.3 Explain why it could be useful to create a branch in Git. (2 points)**:\n"
   ]
  },
  {
   "cell_type": "markdown",
   "id": "5eb98eeb-8a54-41a2-91f0-56d18ad55139",
   "metadata": {},
   "source": [
    ">**Put your answer here**"
   ]
  },
  {
   "cell_type": "markdown",
   "id": "84ddad20",
   "metadata": {},
   "source": [
    "### ANSWER ###\n",
    "\n"
   ]
  },
  {
   "cell_type": "markdown",
   "id": "39b5c084",
   "metadata": {},
   "source": [
    "&#9989; **Question 1.4 (4 points)**: After completing each of Part 2, Part 3, Part 4, and Part 5 below, save your notebook, commit the changes to your Git repository using a descriptive commit message, and push the changes to GitHub. Note that there are large &#128721; **STOP** signs reminding you to do this after each part."
   ]
  },
  {
   "cell_type": "markdown",
   "id": "2a33af2b",
   "metadata": {},
   "source": [
    "## Part 2: Downloading and analyzing unfamiliar data (13 points)\n",
    "\n"
   ]
  },
  {
   "cell_type": "markdown",
   "id": "fdbaac8f",
   "metadata": {},
   "source": [
    "&#9989; **Question 2.1 Read in the \"529_pollen.tsv\" data file and then display the first eight rows of the dataset. (3 points)**:\n"
   ]
  },
  {
   "cell_type": "code",
   "execution_count": 22,
   "id": "acd32e74",
   "metadata": {},
   "outputs": [],
   "source": [
    "### Put your code here:\n",
    "\n"
   ]
  },
  {
   "cell_type": "code",
   "execution_count": 2,
   "id": "42ae661e",
   "metadata": {},
   "outputs": [
    {
     "data": {
      "text/html": [
       "<div>\n",
       "<style scoped>\n",
       "    .dataframe tbody tr th:only-of-type {\n",
       "        vertical-align: middle;\n",
       "    }\n",
       "\n",
       "    .dataframe tbody tr th {\n",
       "        vertical-align: top;\n",
       "    }\n",
       "\n",
       "    .dataframe thead th {\n",
       "        text-align: right;\n",
       "    }\n",
       "</style>\n",
       "<table border=\"1\" class=\"dataframe\">\n",
       "  <thead>\n",
       "    <tr style=\"text-align: right;\">\n",
       "      <th></th>\n",
       "      <th>RIDGE</th>\n",
       "      <th>NUB</th>\n",
       "      <th>CRACK</th>\n",
       "      <th>WEIGHT</th>\n",
       "      <th>target</th>\n",
       "    </tr>\n",
       "  </thead>\n",
       "  <tbody>\n",
       "    <tr>\n",
       "      <th>0</th>\n",
       "      <td>-2.3482</td>\n",
       "      <td>3.6314</td>\n",
       "      <td>5.0289</td>\n",
       "      <td>10.8721</td>\n",
       "      <td>-1.3852</td>\n",
       "    </tr>\n",
       "    <tr>\n",
       "      <th>1</th>\n",
       "      <td>-1.1520</td>\n",
       "      <td>1.4805</td>\n",
       "      <td>3.2375</td>\n",
       "      <td>-0.5939</td>\n",
       "      <td>2.1235</td>\n",
       "    </tr>\n",
       "    <tr>\n",
       "      <th>2</th>\n",
       "      <td>-2.5245</td>\n",
       "      <td>-6.8633</td>\n",
       "      <td>-2.8037</td>\n",
       "      <td>8.4631</td>\n",
       "      <td>-3.4126</td>\n",
       "    </tr>\n",
       "    <tr>\n",
       "      <th>3</th>\n",
       "      <td>5.7523</td>\n",
       "      <td>-6.5091</td>\n",
       "      <td>-5.1510</td>\n",
       "      <td>4.3480</td>\n",
       "      <td>-10.3261</td>\n",
       "    </tr>\n",
       "    <tr>\n",
       "      <th>4</th>\n",
       "      <td>8.7494</td>\n",
       "      <td>-3.8978</td>\n",
       "      <td>-1.3834</td>\n",
       "      <td>-14.8776</td>\n",
       "      <td>-2.4153</td>\n",
       "    </tr>\n",
       "    <tr>\n",
       "      <th>5</th>\n",
       "      <td>10.4303</td>\n",
       "      <td>-3.1628</td>\n",
       "      <td>12.7885</td>\n",
       "      <td>-14.8519</td>\n",
       "      <td>-6.4942</td>\n",
       "    </tr>\n",
       "    <tr>\n",
       "      <th>6</th>\n",
       "      <td>-3.6049</td>\n",
       "      <td>4.6081</td>\n",
       "      <td>6.5540</td>\n",
       "      <td>5.9773</td>\n",
       "      <td>4.0404</td>\n",
       "    </tr>\n",
       "    <tr>\n",
       "      <th>7</th>\n",
       "      <td>-5.6383</td>\n",
       "      <td>-0.8158</td>\n",
       "      <td>-3.8120</td>\n",
       "      <td>1.1674</td>\n",
       "      <td>7.0468</td>\n",
       "    </tr>\n",
       "  </tbody>\n",
       "</table>\n",
       "</div>"
      ],
      "text/plain": [
       "     RIDGE     NUB    CRACK   WEIGHT   target\n",
       "0  -2.3482  3.6314   5.0289  10.8721  -1.3852\n",
       "1  -1.1520  1.4805   3.2375  -0.5939   2.1235\n",
       "2  -2.5245 -6.8633  -2.8037   8.4631  -3.4126\n",
       "3   5.7523 -6.5091  -5.1510   4.3480 -10.3261\n",
       "4   8.7494 -3.8978  -1.3834 -14.8776  -2.4153\n",
       "5  10.4303 -3.1628  12.7885 -14.8519  -6.4942\n",
       "6  -3.6049  4.6081   6.5540   5.9773   4.0404\n",
       "7  -5.6383 -0.8158  -3.8120   1.1674   7.0468"
      ]
     },
     "execution_count": 2,
     "metadata": {},
     "output_type": "execute_result"
    }
   ],
   "source": [
    "### ANSWER ###\n",
    "import pandas as pd\n",
    "data = pd.read_csv(\"529_pollen.tsv\", delimiter=\"\\t\")\n",
    "data.head(8)\n"
   ]
  },
  {
   "cell_type": "markdown",
   "id": "5c1ff7ba",
   "metadata": {},
   "source": [
    "&#9989; **Question 2.2 Compute and report the max, min, and mean values for the \"RIDGE\" and \"WEIGHT\" features (2 points)**: \n",
    "\n"
   ]
  },
  {
   "cell_type": "code",
   "execution_count": 24,
   "id": "0eabef99",
   "metadata": {},
   "outputs": [],
   "source": [
    "### Put your code here:\n",
    "\n"
   ]
  },
  {
   "cell_type": "code",
   "execution_count": 4,
   "id": "b87e81e2",
   "metadata": {},
   "outputs": [
    {
     "name": "stdout",
     "output_type": "stream",
     "text": [
      "-34.03519821166992 35.80279922485352 0.0042370286221488215\n",
      "-23.283899307250977 21.40660095214844 -0.003636643747891553\n"
     ]
    }
   ],
   "source": [
    "### ANSWER ###\n",
    "import numpy as np\n",
    "ridge=data[\"RIDGE\"]\n",
    "weight=data[\"WEIGHT\"]\n",
    "print(min(weight),max(weight),np.mean(weight))\n",
    "print(min(ridge),max(ridge),np.mean(ridge))"
   ]
  },
  {
   "cell_type": "markdown",
   "id": "d86e79ad",
   "metadata": {},
   "source": [
    "&#9989; **Question 2.3 use a function to determine the total number of rows in the data set (2 points)**: \n",
    "\n"
   ]
  },
  {
   "cell_type": "code",
   "execution_count": 26,
   "id": "7fa9bffb",
   "metadata": {},
   "outputs": [],
   "source": [
    "### Put your code here:\n",
    "\n"
   ]
  },
  {
   "cell_type": "code",
   "execution_count": 5,
   "id": "3d532a85",
   "metadata": {},
   "outputs": [
    {
     "data": {
      "text/plain": [
       "(3848, 5)"
      ]
     },
     "execution_count": 5,
     "metadata": {},
     "output_type": "execute_result"
    }
   ],
   "source": [
    "### ANSWER ###\n",
    "data.shape\n"
   ]
  },
  {
   "cell_type": "markdown",
   "id": "2e90d1bd",
   "metadata": {},
   "source": [
    "&#9989; **Question 2.4 Create a new dataframe that contains only rows that have a WEIGHT value greater than 2. How many rows are in this new dataframe? (2 points)**: \n",
    "\n"
   ]
  },
  {
   "cell_type": "code",
   "execution_count": 28,
   "id": "b777a6af",
   "metadata": {},
   "outputs": [],
   "source": [
    "### Put your code here\n",
    "\n"
   ]
  },
  {
   "cell_type": "markdown",
   "id": "322f493d-b843-44da-b41d-62e2357d21ec",
   "metadata": {},
   "source": [
    "> **Put your answer here**"
   ]
  },
  {
   "cell_type": "code",
   "execution_count": 6,
   "id": "fc463807",
   "metadata": {},
   "outputs": [
    {
     "data": {
      "text/html": [
       "<div>\n",
       "<style scoped>\n",
       "    .dataframe tbody tr th:only-of-type {\n",
       "        vertical-align: middle;\n",
       "    }\n",
       "\n",
       "    .dataframe tbody tr th {\n",
       "        vertical-align: top;\n",
       "    }\n",
       "\n",
       "    .dataframe thead th {\n",
       "        text-align: right;\n",
       "    }\n",
       "</style>\n",
       "<table border=\"1\" class=\"dataframe\">\n",
       "  <thead>\n",
       "    <tr style=\"text-align: right;\">\n",
       "      <th></th>\n",
       "      <th>RIDGE</th>\n",
       "      <th>NUB</th>\n",
       "      <th>CRACK</th>\n",
       "      <th>WEIGHT</th>\n",
       "      <th>target</th>\n",
       "    </tr>\n",
       "  </thead>\n",
       "  <tbody>\n",
       "    <tr>\n",
       "      <th>0</th>\n",
       "      <td>-2.3482</td>\n",
       "      <td>3.6314</td>\n",
       "      <td>5.0289</td>\n",
       "      <td>10.8721</td>\n",
       "      <td>-1.3852</td>\n",
       "    </tr>\n",
       "    <tr>\n",
       "      <th>2</th>\n",
       "      <td>-2.5245</td>\n",
       "      <td>-6.8633</td>\n",
       "      <td>-2.8037</td>\n",
       "      <td>8.4631</td>\n",
       "      <td>-3.4126</td>\n",
       "    </tr>\n",
       "    <tr>\n",
       "      <th>3</th>\n",
       "      <td>5.7523</td>\n",
       "      <td>-6.5091</td>\n",
       "      <td>-5.1510</td>\n",
       "      <td>4.3480</td>\n",
       "      <td>-10.3261</td>\n",
       "    </tr>\n",
       "    <tr>\n",
       "      <th>6</th>\n",
       "      <td>-3.6049</td>\n",
       "      <td>4.6081</td>\n",
       "      <td>6.5540</td>\n",
       "      <td>5.9773</td>\n",
       "      <td>4.0404</td>\n",
       "    </tr>\n",
       "    <tr>\n",
       "      <th>9</th>\n",
       "      <td>-9.0292</td>\n",
       "      <td>2.9723</td>\n",
       "      <td>3.6759</td>\n",
       "      <td>13.8820</td>\n",
       "      <td>4.2106</td>\n",
       "    </tr>\n",
       "    <tr>\n",
       "      <th>...</th>\n",
       "      <td>...</td>\n",
       "      <td>...</td>\n",
       "      <td>...</td>\n",
       "      <td>...</td>\n",
       "      <td>...</td>\n",
       "    </tr>\n",
       "    <tr>\n",
       "      <th>3832</th>\n",
       "      <td>1.5336</td>\n",
       "      <td>-0.0490</td>\n",
       "      <td>10.8896</td>\n",
       "      <td>4.1729</td>\n",
       "      <td>-2.1851</td>\n",
       "    </tr>\n",
       "    <tr>\n",
       "      <th>3834</th>\n",
       "      <td>-6.8431</td>\n",
       "      <td>6.4743</td>\n",
       "      <td>-11.3967</td>\n",
       "      <td>4.7218</td>\n",
       "      <td>5.1490</td>\n",
       "    </tr>\n",
       "    <tr>\n",
       "      <th>3835</th>\n",
       "      <td>-4.3369</td>\n",
       "      <td>5.2170</td>\n",
       "      <td>9.7536</td>\n",
       "      <td>10.5461</td>\n",
       "      <td>0.3459</td>\n",
       "    </tr>\n",
       "    <tr>\n",
       "      <th>3840</th>\n",
       "      <td>-12.0811</td>\n",
       "      <td>-1.3975</td>\n",
       "      <td>4.7444</td>\n",
       "      <td>23.9576</td>\n",
       "      <td>2.3006</td>\n",
       "    </tr>\n",
       "    <tr>\n",
       "      <th>3843</th>\n",
       "      <td>-11.1764</td>\n",
       "      <td>-3.1833</td>\n",
       "      <td>-0.1941</td>\n",
       "      <td>6.8507</td>\n",
       "      <td>8.5044</td>\n",
       "    </tr>\n",
       "  </tbody>\n",
       "</table>\n",
       "<p>1521 rows × 5 columns</p>\n",
       "</div>"
      ],
      "text/plain": [
       "        RIDGE     NUB    CRACK   WEIGHT   target\n",
       "0     -2.3482  3.6314   5.0289  10.8721  -1.3852\n",
       "2     -2.5245 -6.8633  -2.8037   8.4631  -3.4126\n",
       "3      5.7523 -6.5091  -5.1510   4.3480 -10.3261\n",
       "6     -3.6049  4.6081   6.5540   5.9773   4.0404\n",
       "9     -9.0292  2.9723   3.6759  13.8820   4.2106\n",
       "...       ...     ...      ...      ...      ...\n",
       "3832   1.5336 -0.0490  10.8896   4.1729  -2.1851\n",
       "3834  -6.8431  6.4743 -11.3967   4.7218   5.1490\n",
       "3835  -4.3369  5.2170   9.7536  10.5461   0.3459\n",
       "3840 -12.0811 -1.3975   4.7444  23.9576   2.3006\n",
       "3843 -11.1764 -3.1833  -0.1941   6.8507   8.5044\n",
       "\n",
       "[1521 rows x 5 columns]"
      ]
     },
     "execution_count": 6,
     "metadata": {},
     "output_type": "execute_result"
    }
   ],
   "source": [
    "### ANSWER ###\n",
    "newDF=data[data[\"WEIGHT\"]>2]\n",
    "newDF\n"
   ]
  },
  {
   "cell_type": "markdown",
   "id": "f530c137-21c9-4a40-8b65-18b53e30fdde",
   "metadata": {},
   "source": []
  },
  {
   "cell_type": "markdown",
   "id": "42fe8ccb",
   "metadata": {},
   "source": [
    "&#9989; **Question 2.5 Create a scatter plot of RIDGE vs. WEIGHT using the new dataframe you created in the last question. Be sure to include all appropriate labels. (2 points)**: \n"
   ]
  },
  {
   "cell_type": "code",
   "execution_count": 30,
   "id": "97b35785",
   "metadata": {},
   "outputs": [],
   "source": [
    "### Put your code here\n",
    "\n"
   ]
  },
  {
   "cell_type": "code",
   "execution_count": 8,
   "id": "f9d2ff30",
   "metadata": {},
   "outputs": [
    {
     "data": {
      "text/plain": [
       "Text(0, 0.5, 'WEIGHT')"
      ]
     },
     "execution_count": 8,
     "metadata": {},
     "output_type": "execute_result"
    },
    {
     "data": {
      "image/png": "[encoded data removed]",
      "text/plain": [
       "<Figure size 640x480 with 1 Axes>"
      ]
     },
     "metadata": {},
     "output_type": "display_data"
    }
   ],
   "source": [
    "### ANSWER ### \n",
    "import matplotlib.pyplot as plt\n",
    "plt.scatter(newDF[\"RIDGE\"],newDF[\"WEIGHT\"])\n",
    "plt.title(\"RIDGE vs. WEIGHT\")\n",
    "plt.xlabel(\"RIDGE\")\n",
    "plt.ylabel(\"WEIGHT\")"
   ]
  },
  {
   "cell_type": "markdown",
   "id": "9732c055",
   "metadata": {},
   "source": [
    "&#9989; **Question 2.6 Record any observations from the scatter plot above. Are there any patterns or trends? (2 points)**: \n"
   ]
  },
  {
   "cell_type": "markdown",
   "id": "a2a8ac76-398f-4268-b5e3-2ea0c5e55248",
   "metadata": {},
   "source": [
    "> **Put your answer here**\n",
    "\n"
   ]
  },
  {
   "cell_type": "code",
   "execution_count": 33,
   "id": "e21cc674",
   "metadata": {},
   "outputs": [],
   "source": [
    "### ANSWER ###\n",
    "# Yes, a clear negative correlation\n"
   ]
  },
  {
   "cell_type": "markdown",
   "id": "c7fb929b",
   "metadata": {
    "jp-MarkdownHeadingCollapsed": true,
    "tags": []
   },
   "source": [
    "---\n",
    "### &#128721; STOP (1 point)\n",
    "**Pause to commit your changes to your Git repository!**\n",
    "\n",
    "Take a moment to save your notebook, commit  and push the changes to your Git repository.\n",
    "\n",
    "---"
   ]
  },
  {
   "cell_type": "markdown",
   "id": "73b28e5a",
   "metadata": {
    "tags": []
   },
   "source": [
    "## Part 3: Working with a new Python package. (10 points)\n",
    "\n",
    "In this section, we will be working with a new Python package called SymPy. This section will focus on your ability to explore and utilize documentation for a Python package you might not be familiar with. You can find the documentation here: https://docs.sympy.org/latest/index.html "
   ]
  },
  {
   "cell_type": "markdown",
   "id": "fac01f60",
   "metadata": {},
   "source": [
    "&#9989; **Question 3.1 Use pip install to install the SymPy package for Jupyter. Include the code you used to install it here. Remember to include the --user flag if using JupyterHub. If you already have SymPy installed, indicate the code you would use to install it. (2 points):** "
   ]
  },
  {
   "cell_type": "code",
   "execution_count": 34,
   "id": "cc86c046",
   "metadata": {},
   "outputs": [],
   "source": [
    "# Put your code here\n",
    "\n"
   ]
  },
  {
   "cell_type": "code",
   "execution_count": 9,
   "id": "8821666b",
   "metadata": {},
   "outputs": [
    {
     "name": "stdout",
     "output_type": "stream",
     "text": [
      "Requirement already satisfied: SymPy in /opt/miniconda3/lib/python3.11/site-packages (1.12)\n",
      "Requirement already satisfied: mpmath>=0.19 in /opt/miniconda3/lib/python3.11/site-packages (from SymPy) (1.3.0)\n"
     ]
    }
   ],
   "source": [
    "### ANSWER ###\n",
    "!pip install --user SymPy\n"
   ]
  },
  {
   "cell_type": "markdown",
   "id": "6890c0b6",
   "metadata": {},
   "source": [
    "&#9989; **Question 3.2 Following the documentation, import the SymPy library and create 'symbols' for 'a', 'b', and 'c' and store them into three unique variables. (2 points):** \n"
   ]
  },
  {
   "cell_type": "code",
   "execution_count": 36,
   "id": "8901b66f",
   "metadata": {},
   "outputs": [],
   "source": [
    "# Put your code here\n",
    "\n"
   ]
  },
  {
   "cell_type": "code",
   "execution_count": 13,
   "id": "9215e7c3",
   "metadata": {},
   "outputs": [],
   "source": [
    "### ANSWER ###\n",
    "from sympy import *\n",
    "x1,x2,x3=symbols('a b c')"
   ]
  },
  {
   "cell_type": "markdown",
   "id": "caa1c580",
   "metadata": {},
   "source": [
    "&#9989; **Question 3.3 now using the symbols you created in Question 3.2 generate and display the equation $(a+b)/c$ (2 points):** \n"
   ]
  },
  {
   "cell_type": "code",
   "execution_count": 38,
   "id": "54e8f1aa",
   "metadata": {},
   "outputs": [],
   "source": [
    "# Put your code here\n",
    "\n"
   ]
  },
  {
   "cell_type": "code",
   "execution_count": 14,
   "id": "568124e6",
   "metadata": {
    "scrolled": true
   },
   "outputs": [
    {
     "data": {
      "text/latex": [
       "$\\displaystyle \\frac{a + b}{c}$"
      ],
      "text/plain": [
       "(a + b)/c"
      ]
     },
     "execution_count": 14,
     "metadata": {},
     "output_type": "execute_result"
    }
   ],
   "source": [
    "### ANSWER ###\n",
    "(x1+x2)/x3\n"
   ]
  },
  {
   "cell_type": "markdown",
   "id": "d4c7f3d3",
   "metadata": {},
   "source": [
    "&#9989; **Question 3.4 Now create a string containing the following equation $(x+3)*(x+1)/y$ and then use the 'sympify' function to convert it into a symbolic formula. Finally, use SymPy to 'expand' the function. (4 points):** \n"
   ]
  },
  {
   "cell_type": "code",
   "execution_count": 40,
   "id": "b6dc5057",
   "metadata": {},
   "outputs": [],
   "source": [
    "# Put your code here\n",
    "\n"
   ]
  },
  {
   "cell_type": "code",
   "execution_count": 22,
   "id": "b0f3c3e8",
   "metadata": {},
   "outputs": [
    {
     "data": {
      "text/latex": [
       "$\\displaystyle \\frac{x^{2}}{y} + \\frac{4 x}{y} + \\frac{3}{y}$"
      ],
      "text/plain": [
       "x**2/y + 4*x/y + 3/y"
      ]
     },
     "execution_count": 22,
     "metadata": {},
     "output_type": "execute_result"
    }
   ],
   "source": [
    "### ANSWER ###\n",
    "func=sympify('(x+3)*(x+1)/y')\n",
    "expand(func)"
   ]
  },
  {
   "cell_type": "markdown",
   "id": "d381baf7",
   "metadata": {
    "jp-MarkdownHeadingCollapsed": true,
    "tags": []
   },
   "source": [
    "---\n",
    "### &#128721; STOP (1 point)\n",
    "**Pause to commit your changes to your Git repository!**\n",
    "\n",
    "Take a moment to save your notebook, commit  and push the changes to your Git repository.\n",
    "\n",
    "---"
   ]
  },
  {
   "cell_type": "markdown",
   "id": "07d450c5",
   "metadata": {},
   "source": [
    "## Part 4: Writing a simple Python class (9 points)"
   ]
  },
  {
   "cell_type": "markdown",
   "id": "8c264b75",
   "metadata": {},
   "source": [
    "&#9989; **Question 4.1 In this part we will create an athlete class to track the calories burned vs calorie intake. (5 points):** \n",
    "\n",
    "Use the starter code below and complete it by doing the folowing: \n",
    "\n",
    "> 1. In the init function initialize an exercise variable to 0 along with an intakeCalories variable to 0.\n",
    "> 2. create a workout function that takes as input the number of hours exercised and adds it to the exercise variable\n",
    "> 3. create an eat function that takes in the number of calories eaten in a meal and adds it to the intakeCalories variablle\n",
    "> 4. create a status function that computes the calorie differential (assume each hour of exercise burns 800 calories). Once it computes the differential, depending on the value print one of the following:\n",
    "\n",
    ">  >      * If a calorie deficit, print \"you have a calorie deficit of [deficit amount], you should eat\"\n",
    "\n",
    ">  >      * If deficit=0, therefore perfectly balanced print \"Wow! You are perfectly balancing eating and exercise\"\n",
    "\n",
    ">  >      * If there is a calorie surplus, print \"You have a calorie surplus of [surplus amount], consider exercising [number of hours to balance]\n"
   ]
  },
  {
   "cell_type": "code",
   "execution_count": 42,
   "id": "0c7c0e8c",
   "metadata": {},
   "outputs": [],
   "source": [
    "### Put your code here\n",
    "class Athlete:\n",
    "    def __init__(self):\n",
    "        self.exercise=\n",
    "        self.intakeCalories=\n"
   ]
  },
  {
   "cell_type": "code",
   "execution_count": 27,
   "id": "a59f8b4a",
   "metadata": {},
   "outputs": [
    {
     "name": "stdout",
     "output_type": "stream",
     "text": [
      "You have a calorie surplus of 300  consider exercising  0.375 hours\n"
     ]
    }
   ],
   "source": [
    "### ANSWER ###\n",
    "class Athlete:\n",
    "    def __init__(self):\n",
    "        self.exercise=0\n",
    "        self.intakeCalories=0\n",
    "\n",
    "    def workout(self,hours):\n",
    "        self.exercise+=hours\n",
    "        return self.exercise\n",
    "\n",
    "    def eat(self,calories):\n",
    "        self.intakeCalories+=calories\n",
    "        return self.intakeCalories\n",
    "\n",
    "    def status(self):\n",
    "        differential=self.intakeCalories-self.exercise*800\n",
    "        if differential<0:\n",
    "            print(\"You have a calorie deficit of \",abs(differential), \" you should eat\")\n",
    "        elif differential==0:\n",
    "            print(\"Wow! You are perfectly balancing eating and exercise\")\n",
    "        else:\n",
    "            print(\"You have a calorie surplus of\",differential, \" consider exercising \",differential/800,\"hours\")\n",
    "\n",
    "\n"
   ]
  },
  {
   "cell_type": "markdown",
   "id": "cf47f90d",
   "metadata": {},
   "source": [
    "&#9989; **Question 4.2 Now create an athlete object using your athlete class. Then, using the athlete object, have the athlete exercise 3 hours, followed by food intake of 2700 calories. Then use the status function to determine if the athlete has a surplus or deficit. (4 points):** \n"
   ]
  },
  {
   "cell_type": "code",
   "execution_count": 44,
   "id": "3506a66d",
   "metadata": {},
   "outputs": [],
   "source": [
    "### Put your code here\n",
    "\n"
   ]
  },
  {
   "cell_type": "code",
   "execution_count": 45,
   "id": "40698ff9",
   "metadata": {},
   "outputs": [],
   "source": [
    "### ANSWER ###\n",
    "player=Athlete()\n",
    "player.workout(3)\n",
    "player.eat(2700)\n",
    "player.status()\n"
   ]
  },
  {
   "cell_type": "markdown",
   "id": "c159cf9a",
   "metadata": {
    "tags": []
   },
   "source": [
    "---\n",
    "### &#128721; STOP (1 point)\n",
    "**Pause to commit your changes to your Git repository!**\n",
    "\n",
    "Take a moment to save your notebook, commit  and push the changes to your Git repository.\n",
    "\n",
    "---"
   ]
  },
  {
   "cell_type": "markdown",
   "id": "755cce02-7247-4e83-8c8f-9d3355f1512a",
   "metadata": {},
   "source": [
    "## Part 5: Writing a simple Python code using different programming paradigms (11 points)\n",
    "\n",
    "In this section, you will show your ability to use the three different programming paradigms we learned in class (linear, functional, and object-oriented)\n",
    "\n",
    "We will simulate the performance of an investor. At each step, you will need to update the investor's portfolio value based on the specified movement of the stocks they own and display the updated value. Complete the following tasks below, ensuring to display the new value of the account after every step. **Note: There are many possible correct solutions.**\n",
    "\n",
    "> 1. Start the investor with $\\$$20,000. $\\$$10,000 of that is invested in Apple (NASDAQ:AAPL) and the other $\\$$10,000 is invested in Microsoft (NASDAQ:MSFT)\n",
    "> 2. Microsoft announces a deal with OpenAI and the stock rises 10%\n",
    "> 3. Apple announces Apple Intelligence (AI) and the stock rises 2%\n",
    "> 4. Apple releases Apple Intelligence and the technology disappoints. The stock declines 6%\n",
    "> 5. Microsoft gets taken over by a rogue AI agent, the stock drops 90%. Apple investors celebrate, stock rises 5%. "
   ]
  },
  {
   "cell_type": "markdown",
   "id": "565a8282-74af-4ffd-b6cf-0c483cf9588f",
   "metadata": {},
   "source": [
    "&#9989; **Question 5.1 Write code for the above task using linear programming (3 points):** "
   ]
  },
  {
   "cell_type": "code",
   "execution_count": null,
   "id": "4c321a9f-e981-4657-ad7a-c83eaa777bdb",
   "metadata": {},
   "outputs": [],
   "source": [
    "### Put your code here"
   ]
  },
  {
   "cell_type": "code",
   "execution_count": 28,
   "id": "90d3ebaa-3f48-44d5-b1da-1bbe921fdf09",
   "metadata": {},
   "outputs": [
    {
     "name": "stdout",
     "output_type": "stream",
     "text": [
      "21000.0\n",
      "21200.0\n",
      "20588.0\n",
      "11167.4\n"
     ]
    }
   ],
   "source": [
    "### ANSWER ###\n",
    "aapl=10000\n",
    "msft=10000\n",
    "msft*=1.1\n",
    "print(aapl+msft)\n",
    "aapl*=1.02\n",
    "print(aapl+msft)\n",
    "aapl*=0.94\n",
    "print(aapl+msft)\n",
    "msft*=0.1\n",
    "aapl*=1.05\n",
    "print(aapl+msft)"
   ]
  },
  {
   "cell_type": "markdown",
   "id": "0e6d60bd-78fc-4aad-a488-4dbe6cbf762f",
   "metadata": {},
   "source": [
    "&#9989; **Question 5.2 Write code for the above task using functional programming (3 points):** "
   ]
  },
  {
   "cell_type": "code",
   "execution_count": null,
   "id": "647cf0e9-9009-4cda-909c-0aa8107dff4e",
   "metadata": {},
   "outputs": [],
   "source": [
    "### Put your code here"
   ]
  },
  {
   "cell_type": "code",
   "execution_count": 29,
   "id": "94ebd2f2-5a11-4615-8125-5184681ef15f",
   "metadata": {},
   "outputs": [
    {
     "name": "stdout",
     "output_type": "stream",
     "text": [
      "21000.0\n",
      "21200.0\n",
      "20588.0\n",
      "11167.4\n"
     ]
    }
   ],
   "source": [
    "### ANSWER ###\n",
    "def updatePortfolio(aapl,msft,aaplPerc,msftPerc):\n",
    "    newAapl=aapl*aaplPerc\n",
    "    newMsft=msft*msftPerc\n",
    "    print(newAapl+newMsft)\n",
    "    return newAapl,newMsft\n",
    "\n",
    "aapl=10000\n",
    "msft=10000\n",
    "aapl,msft=updatePortfolio(aapl,msft,1,1.1)\n",
    "aapl,msft=updatePortfolio(aapl,msft,1.02,1)\n",
    "aapl,msft=updatePortfolio(aapl,msft,0.94,1)\n",
    "aapl,msft=updatePortfolio(aapl,msft,1.05,0.1)\n",
    "\n"
   ]
  },
  {
   "cell_type": "markdown",
   "id": "7c98bcff-f743-46c9-937f-e493e92666f5",
   "metadata": {},
   "source": [
    "&#9989; **Question 5.3 Write code for the above task using object-oriented programming (3 points):** "
   ]
  },
  {
   "cell_type": "code",
   "execution_count": null,
   "id": "06556500-bcd9-4f3e-8b26-92fd4db2b945",
   "metadata": {},
   "outputs": [],
   "source": [
    "### Put your code here"
   ]
  },
  {
   "cell_type": "code",
   "execution_count": 30,
   "id": "601e6811-11e6-4b89-897a-1b051f8959ba",
   "metadata": {},
   "outputs": [
    {
     "name": "stdout",
     "output_type": "stream",
     "text": [
      "21000.0\n",
      "21200.0\n",
      "20588.0\n",
      "11167.4\n"
     ]
    }
   ],
   "source": [
    "### ANSWER ###\n",
    "class Investor:\n",
    "    def __init__(self):\n",
    "        self.aapl=10000\n",
    "        self.msft=10000\n",
    "\n",
    "    def updatePortfolio(self,aaplPerc,msftPerc):\n",
    "        self.aapl*=aaplPerc\n",
    "        self.msft*=msftPerc\n",
    "        print(self.aapl+self.msft)\n",
    "\n",
    "techGuy=Investor()\n",
    "techGuy.updatePortfolio(1,1.1)\n",
    "techGuy.updatePortfolio(1.02,1)\n",
    "techGuy.updatePortfolio(0.94,1)\n",
    "techGuy.updatePortfolio(1.05,0.1)"
   ]
  },
  {
   "cell_type": "markdown",
   "id": "23fa07a7-a7ae-42bd-8c2b-0378bb299852",
   "metadata": {},
   "source": [
    "&#9989; **Question 5.4 Which of the methods do you feel was the most convenient to achieve this task and why? (2 points):** "
   ]
  },
  {
   "cell_type": "markdown",
   "id": "5e8e38cf-1f3c-4711-b90a-227424e39219",
   "metadata": {},
   "source": [
    "### Put your answer here"
   ]
  },
  {
   "cell_type": "markdown",
   "id": "3db0df3e-31d3-444e-bb9a-6f4708e887f6",
   "metadata": {},
   "source": [
    "### ANSWER ###"
   ]
  },
  {
   "cell_type": "markdown",
   "id": "14435d84-82d4-4ffc-82b9-3188de6c7103",
   "metadata": {},
   "source": [
    "---\n",
    "### &#128721; STOP (1 point)\n",
    "**Pause to commit your changes to your Git repository!**\n",
    "\n",
    "Take a moment to save your notebook, commit  and push the changes to your Git repository.\n",
    "\n",
    "---"
   ]
  },
  {
   "cell_type": "markdown",
   "id": "868efbc9",
   "metadata": {
    "jp-MarkdownHeadingCollapsed": true,
    "tags": []
   },
   "source": [
    "## You're done! Congrats on finishing your CMSE 202 Midterm!\n",
    "\n",
    "Make sure all of your changes to your repository are committed and pushed to GitHub. Also upload a copy of this notebook to the dropbox on D2L in case something went wrong with your repository or if you couldn't get the repository to work."
   ]
  }
 ],
 "metadata": {
  "kernelspec": {
   "display_name": "Python 3.11 (default)",
   "language": "python",
   "name": "python3"
  },
  "language_info": {
   "codemirror_mode": {
    "name": "ipython",
    "version": 3
   },
   "file_extension": ".py",
   "mimetype": "text/x-python",
   "name": "python",
   "nbconvert_exporter": "python",
   "pygments_lexer": "ipython3",
   "version": "3.11.9"
  }
 },
 "nbformat": 4,
 "nbformat_minor": 5
}
