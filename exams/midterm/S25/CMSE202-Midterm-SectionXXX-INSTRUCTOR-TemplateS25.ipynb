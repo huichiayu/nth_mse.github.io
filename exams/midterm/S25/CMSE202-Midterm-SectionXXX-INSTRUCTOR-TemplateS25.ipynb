{
 "cells": [
  {
   "cell_type": "markdown",
   "id": "bc9e3ed0",
   "metadata": {},
   "source": [
    "### ANSWER (making sure this gets removed)\n",
    "\n",
    "### Grading Rubric (XXX points total)\n",
    "\n",
    "\n",
    "#### Part 1. (XX points)    CLI & git  (6+X pt)\n",
    "\n",
    "1.1 - \n",
    "\n",
    "1.2 - \n",
    "\n",
    "1.3 - \n",
    "\n",
    "1.4 - \n",
    "\n",
    "1.5 - \n",
    "\n",
    "#### Part 2. (XX points)    Analyzing unfamiliar data (Pandas)  (10 pt)\n",
    "\n",
    "2.1 - \n",
    "\n",
    "2.2 - \n",
    "\n",
    "2.3 - \n",
    "\n",
    "2.4 - \n",
    "\n",
    "2.5 - \n",
    "\n",
    "2.6 - \n",
    "\n",
    "\n",
    "#### Part 3. (XX points)    Working with a new Python package (10 pt)\n",
    "\n",
    "3.1 - \n",
    "\n",
    "3.2 - \n",
    "\n",
    "3.3 - \n",
    "\n",
    "3.4 - \n",
    "\n",
    "\n",
    "#### Part 4. (XX points)    Writing a simple Python class (15 pt)\n",
    "\n",
    "4.1 - \n",
    "\n",
    "4.2 - \n",
    "\n",
    "4.3 - \n",
    "\n",
    "#### Part 5 (XX points) Writing a simple Python code using different programming paradigms (10 pt)\n",
    "\n",
    "5.1 - \n",
    "\n",
    "5.2 - \n",
    "\n",
    "5.3 - \n"
   ]
  },
  {
   "cell_type": "markdown",
   "id": "3def3efc",
   "metadata": {
    "tags": []
   },
   "source": [
    "# CMSE 202 Midterm (Section ### - Spring 2025)\n",
    "\n",
    "The goal of this midterm is to give you the opportunity to test out some of the skills that you've developed thus far this semester. In particular, you'll practice setting up a GitHub repository, committing and pushing repository changes, downloading data with command line tools, performing some data analysis, possibly using a new Python package, and writing a python class. You should find that you have all of the skills necessary to complete this exam with even just eight weeks of CMSE 202 under your belt!\n",
    "\n",
    "You are encouraged to look through the entire exam before you get started so that you can appropriately budget your time and understand the broad goals of the exam. Once you've read through it, try doing Parts 0 and 1 first so that you have your repository set up and you download all necessary data files as they will be necessary to complete the assigned tasks. Let your instructor know right away if you have problems downloading the data!\n",
    "\n",
    "The exam is set up so that even if you get stuck on one part there are opportunities to get points on the other parts, so consider jumping ahead if you feel like you aren't making progress and then come back later if you have time. If you have any questions during the exam, you may ask the instructor, the TA, or the LA privately: simply raise your hand and one of us will come over to you. \n",
    "\n",
    "\n",
    "**Important note about using online resources**: This exam is \"open internet\". That means that you can look up documentation, google how to accomplish certain Python tasks, etc. Being able to effectively use the internet for computational modeling and data science is a very important skill, so we want to make sure you have the opportunity to exercise that skill. **However: The use of any person-to-person communication software tools is absolutely not acceptable.** **Generative AI is allowed but you must provide the sources.** If you are seen accessing your email, using a collaborative cloud storage or document software (e.g. Slack, Google Documents), you will be at risk for receiving a zero on the exam.\n",
    "\n",
    "**Keep your eyes on your screen!** Unfortunately, there isn't enough space in the room for everyone to sit at their own table so please do your best to keep your eyes on your own screen. This exam is designed to give you the opportunity to show the instructor what you can do and you should hold yourself accountable for maintaining a high level of academic integrity. If any of the instructors observe suspicious behavior, you will, again, risk receiving a zero."
   ]
  },
  {
   "cell_type": "markdown",
   "id": "6b0b3d3a",
   "metadata": {},
   "source": [
    "---\n",
    "## Part 0: Academic integrity statement\n",
    "\n",
    "Read the following statement and edit the markdown text to put your name in the statement. This is your commitment to doing your own authentic work on this exam."
   ]
  },
  {
   "cell_type": "markdown",
   "id": "8e3dc4df",
   "metadata": {
    "pycharm": {
     "name": "#%% md\n"
    }
   },
   "source": [
    "> I, **INSERT NAME HERE**, affirm that this exam represents my own authetic work, without the use of any unpermitted aids or generative AIs or person-to-person communication. I understand that this exam an an opportunity to showcase my own progress in developing and improving my computational skills and have done my best to demonstrate those skills."
   ]
  },
  {
   "cell_type": "markdown",
   "id": "435ee396",
   "metadata": {
    "tags": []
   },
   "source": [
    "## Part 1: Add to your Git repository to track your progress on your exam (XX points total)\n",
    "\n",
    "Before you get to far along in the exam, you're going to add it to the `cmse202-s25-turnin` repository you created in class (or in Homework 1) so that you can track your progress on the exam and preserve the final version that you turn in. In order to do this you need to\n",
    "\n",
    "1. Navigate to your `cmse202-s25-turnin` repository and create a new directory called `midterm`.\n",
    "2. Move this notebook into that **new directory** in your repository, then **add it and commit it to your repository**.\n",
    "3. Finally, to test that everything is working, \"git push\" the file so that it ends up in your GitHub repository.\n",
    "\n",
    "**Important**: Double check you've added your Professor and your TA as collaborators to your \"turnin\" respository (you should have done this in the previous homework assignment).\n",
    "\n",
    "**Important**: Make sure that the version of this notebook that you are working on is the same one that you just added to your repository! If you are working on a different copy of the noteobok, **none of your changes will be tracked**!\n",
    "\n",
    "The file should now show up on your GitHub account in the `cmse202-s25-turnin` repository inside the `midterm` directory you just created.  Periodically, **you'll be asked to commit your changes to the repository and push them to the remote GitHub location**. It can be good to get into a habit of committing your changes any time you make a significant modification."
   ]
  },
  {
   "cell_type": "markdown",
   "id": "290bab71",
   "metadata": {},
   "source": [
    "&#9989; **Question 1.1 Put all the Git commands you used to add your midterm folder and file to your GitHub repository (1 points)**:  *Note, you should execute the git commands in terminal, not the code cell below.*"
   ]
  },
  {
   "cell_type": "markdown",
   "id": "d522eb35-d006-4d90-94c5-bfc936d57b45",
   "metadata": {},
   "source": [
    "&#9989; **Do this**:\n",
    "```\n",
    "Put the commands you used here (Do Not Delete the ```)\n",
    "```\n",
    "\n",
    "\n"
   ]
  },
  {
   "cell_type": "markdown",
   "id": "6060e4ae-0278-48a7-bb18-5b1b002c706e",
   "metadata": {},
   "source": [
    "### ANSWER ###\n"
   ]
  },
  {
   "cell_type": "markdown",
   "id": "903ce347",
   "metadata": {},
   "source": [
    "&#9989; **Question 1.2 Put the code the instructor will need to clone your repository here (1 points)**:\n"
   ]
  },
  {
   "cell_type": "code",
   "execution_count": null,
   "id": "4ecc7188-9e58-4e13-9e05-890247813d6b",
   "metadata": {},
   "outputs": [],
   "source": [
    "### Put your code here:\n",
    "\n"
   ]
  },
  {
   "cell_type": "markdown",
   "id": "28eb2fe5-2827-47a7-9b72-fe60520277f1",
   "metadata": {},
   "source": [
    "### ANSWER ###\n",
    "\n"
   ]
  },
  {
   "cell_type": "markdown",
   "id": "8239c731",
   "metadata": {},
   "source": [
    "&#9989; **Question 1.3 |Ask other Git related question (status, branch, merge, etc.)| (XX points)**:\n"
   ]
  },
  {
   "cell_type": "code",
   "execution_count": 20,
   "id": "2c84393a",
   "metadata": {},
   "outputs": [],
   "source": [
    "### Put your code here:\n",
    "\n"
   ]
  },
  {
   "cell_type": "markdown",
   "id": "84ddad20",
   "metadata": {},
   "source": [
    "### ANSWER ###\n",
    "\n"
   ]
  },
  {
   "cell_type": "markdown",
   "id": "39b5c084",
   "metadata": {},
   "source": [
    "&#9989; **Question 1.4 (4 points)**: After completing each of Part 2, Part 3, Part 4, and Part 5 below, save your notebook, commit the changes to your Git repository using a descriptive commit message, and push the changes to GitHub. Note that there are large &#128721; **STOP** signs reminding you to do this after each part."
   ]
  },
  {
   "cell_type": "markdown",
   "id": "2a33af2b",
   "metadata": {},
   "source": [
    "## Part 2: Downloading and analyzing unfamiliar data (XX points)\n",
    "\n"
   ]
  },
  {
   "cell_type": "markdown",
   "id": "fdbaac8f",
   "metadata": {},
   "source": [
    "&#9989; **Question 2.1 (XX points)**:\n"
   ]
  },
  {
   "cell_type": "code",
   "execution_count": 22,
   "id": "acd32e74",
   "metadata": {},
   "outputs": [],
   "source": [
    "### Put your code here:\n",
    "\n"
   ]
  },
  {
   "cell_type": "code",
   "execution_count": 23,
   "id": "42ae661e",
   "metadata": {},
   "outputs": [],
   "source": [
    "### ANSWER ###\n",
    "\n"
   ]
  },
  {
   "cell_type": "markdown",
   "id": "5c1ff7ba",
   "metadata": {},
   "source": [
    "&#9989; **Question 2.2 (XX points)**: \n",
    "\n"
   ]
  },
  {
   "cell_type": "code",
   "execution_count": 24,
   "id": "0eabef99",
   "metadata": {},
   "outputs": [],
   "source": [
    "### Put your code here:\n",
    "\n"
   ]
  },
  {
   "cell_type": "code",
   "execution_count": 25,
   "id": "b87e81e2",
   "metadata": {},
   "outputs": [],
   "source": [
    "### ANSWER ###\n"
   ]
  },
  {
   "cell_type": "markdown",
   "id": "d86e79ad",
   "metadata": {},
   "source": [
    "&#9989; **Question 2.3 (XX points)**: \n",
    "\n"
   ]
  },
  {
   "cell_type": "code",
   "execution_count": 26,
   "id": "7fa9bffb",
   "metadata": {},
   "outputs": [],
   "source": [
    "### Put your code here:\n",
    "\n"
   ]
  },
  {
   "cell_type": "code",
   "execution_count": 27,
   "id": "3d532a85",
   "metadata": {},
   "outputs": [],
   "source": [
    "### ANSWER ###\n",
    "\n"
   ]
  },
  {
   "cell_type": "markdown",
   "id": "2e90d1bd",
   "metadata": {},
   "source": [
    "&#9989; **Question 2.4 (XX points)**: \n",
    "\n"
   ]
  },
  {
   "cell_type": "code",
   "execution_count": 28,
   "id": "b777a6af",
   "metadata": {},
   "outputs": [],
   "source": [
    "### Put your code here\n",
    "\n"
   ]
  },
  {
   "cell_type": "code",
   "execution_count": 29,
   "id": "fc463807",
   "metadata": {},
   "outputs": [],
   "source": [
    "### ANSWER ###\n",
    "\n"
   ]
  },
  {
   "cell_type": "markdown",
   "id": "42fe8ccb",
   "metadata": {},
   "source": [
    "&#9989; **Question 2.5 (XX points)**: \n"
   ]
  },
  {
   "cell_type": "code",
   "execution_count": 30,
   "id": "97b35785",
   "metadata": {},
   "outputs": [],
   "source": [
    "### Put your code here\n",
    "\n"
   ]
  },
  {
   "cell_type": "code",
   "execution_count": 31,
   "id": "f9d2ff30",
   "metadata": {},
   "outputs": [],
   "source": [
    "### ANSWER ### \n",
    "\n"
   ]
  },
  {
   "cell_type": "markdown",
   "id": "9732c055",
   "metadata": {},
   "source": [
    "&#9989; **Question 2.6 (XX points)**: \n"
   ]
  },
  {
   "cell_type": "code",
   "execution_count": 32,
   "id": "ba179043",
   "metadata": {},
   "outputs": [],
   "source": [
    "### Put your code here\n",
    "\n"
   ]
  },
  {
   "cell_type": "code",
   "execution_count": 33,
   "id": "e21cc674",
   "metadata": {},
   "outputs": [],
   "source": [
    "### ANSWER ###\n",
    "\n"
   ]
  },
  {
   "cell_type": "markdown",
   "id": "c7fb929b",
   "metadata": {
    "jp-MarkdownHeadingCollapsed": true,
    "tags": []
   },
   "source": [
    "---\n",
    "### &#128721; STOP (1 point)\n",
    "**Pause to commit your changes to your Git repository!**\n",
    "\n",
    "Take a moment to save your notebook, commit  and push the changes to your Git repository.\n",
    "\n",
    "---"
   ]
  },
  {
   "cell_type": "markdown",
   "id": "73b28e5a",
   "metadata": {
    "tags": []
   },
   "source": [
    "## Part 3: Working with a new Python package (XX points)\n",
    "\n"
   ]
  },
  {
   "cell_type": "markdown",
   "id": "fac01f60",
   "metadata": {},
   "source": [
    "&#9989; **Question 3.1 (XX points):** "
   ]
  },
  {
   "cell_type": "code",
   "execution_count": 34,
   "id": "cc86c046",
   "metadata": {},
   "outputs": [],
   "source": [
    "# Put your code here\n",
    "\n"
   ]
  },
  {
   "cell_type": "code",
   "execution_count": 35,
   "id": "8821666b",
   "metadata": {},
   "outputs": [],
   "source": [
    "### ANSWER ###\n",
    "\n"
   ]
  },
  {
   "cell_type": "markdown",
   "id": "6890c0b6",
   "metadata": {},
   "source": [
    "&#9989; **Question 3.2 (XX points):** \n"
   ]
  },
  {
   "cell_type": "code",
   "execution_count": 36,
   "id": "8901b66f",
   "metadata": {},
   "outputs": [],
   "source": [
    "# Put your code here\n",
    "\n"
   ]
  },
  {
   "cell_type": "code",
   "execution_count": 37,
   "id": "9215e7c3",
   "metadata": {},
   "outputs": [],
   "source": [
    "### ANSWER ###\n",
    "\n"
   ]
  },
  {
   "cell_type": "markdown",
   "id": "caa1c580",
   "metadata": {},
   "source": [
    "&#9989; **Question 3.3 (XX points):** \n"
   ]
  },
  {
   "cell_type": "code",
   "execution_count": 38,
   "id": "54e8f1aa",
   "metadata": {},
   "outputs": [],
   "source": [
    "# Put your code here\n",
    "\n"
   ]
  },
  {
   "cell_type": "code",
   "execution_count": 39,
   "id": "568124e6",
   "metadata": {
    "scrolled": true
   },
   "outputs": [],
   "source": [
    "### ANSWER ###\n",
    "\n"
   ]
  },
  {
   "cell_type": "markdown",
   "id": "d4c7f3d3",
   "metadata": {},
   "source": [
    "&#9989; **Question 3.4 (XX points):** \n"
   ]
  },
  {
   "cell_type": "code",
   "execution_count": 40,
   "id": "b6dc5057",
   "metadata": {},
   "outputs": [],
   "source": [
    "# Put your code here\n",
    "\n"
   ]
  },
  {
   "cell_type": "code",
   "execution_count": 41,
   "id": "b0f3c3e8",
   "metadata": {},
   "outputs": [],
   "source": [
    "### ANSWER ###\n",
    "\n"
   ]
  },
  {
   "cell_type": "markdown",
   "id": "d381baf7",
   "metadata": {
    "jp-MarkdownHeadingCollapsed": true,
    "tags": []
   },
   "source": [
    "---\n",
    "### &#128721; STOP (1 point)\n",
    "**Pause to commit your changes to your Git repository!**\n",
    "\n",
    "Take a moment to save your notebook, commit  and push the changes to your Git repository.\n",
    "\n",
    "---"
   ]
  },
  {
   "cell_type": "markdown",
   "id": "07d450c5",
   "metadata": {},
   "source": [
    "## Part 4: Writing a simple Python class (XX points)"
   ]
  },
  {
   "cell_type": "markdown",
   "id": "8c264b75",
   "metadata": {},
   "source": [
    "&#9989; **Question 4.1 (XX points):** \n"
   ]
  },
  {
   "cell_type": "code",
   "execution_count": 42,
   "id": "0c7c0e8c",
   "metadata": {},
   "outputs": [],
   "source": [
    "### Put your code here\n",
    "\n"
   ]
  },
  {
   "cell_type": "code",
   "execution_count": 43,
   "id": "a59f8b4a",
   "metadata": {},
   "outputs": [],
   "source": [
    "### ANSWER ###\n",
    "\n"
   ]
  },
  {
   "cell_type": "markdown",
   "id": "cf47f90d",
   "metadata": {},
   "source": [
    "&#9989; **Question 4.2 (XX points):** \n"
   ]
  },
  {
   "cell_type": "code",
   "execution_count": 44,
   "id": "3506a66d",
   "metadata": {},
   "outputs": [],
   "source": [
    "### Put your code here\n",
    "\n"
   ]
  },
  {
   "cell_type": "code",
   "execution_count": 45,
   "id": "40698ff9",
   "metadata": {},
   "outputs": [],
   "source": [
    "### ANSWER ###\n",
    "\n"
   ]
  },
  {
   "cell_type": "markdown",
   "id": "a1b3ab4b",
   "metadata": {},
   "source": [
    "&#9989; **Question 4.3 (XX points):** \n"
   ]
  },
  {
   "cell_type": "code",
   "execution_count": 46,
   "id": "1595120c",
   "metadata": {},
   "outputs": [],
   "source": [
    "### Put your code here\n",
    "\n"
   ]
  },
  {
   "cell_type": "code",
   "execution_count": 47,
   "id": "2c2e27bd",
   "metadata": {},
   "outputs": [],
   "source": [
    "### ANSWER ###\n",
    "\n"
   ]
  },
  {
   "cell_type": "markdown",
   "id": "c159cf9a",
   "metadata": {
    "tags": []
   },
   "source": [
    "---\n",
    "### &#128721; STOP (1 point)\n",
    "**Pause to commit your changes to your Git repository!**\n",
    "\n",
    "Take a moment to save your notebook, commit  and push the changes to your Git repository.\n",
    "\n",
    "---"
   ]
  },
  {
   "cell_type": "markdown",
   "id": "755cce02-7247-4e83-8c8f-9d3355f1512a",
   "metadata": {},
   "source": [
    "## Part 5: Writing a simple Python code using different programming paradigms (XX points)"
   ]
  },
  {
   "cell_type": "markdown",
   "id": "565a8282-74af-4ffd-b6cf-0c483cf9588f",
   "metadata": {},
   "source": [
    "&#9989; **Question 5.1 Write code for the above task using linear programming (XX points):** "
   ]
  },
  {
   "cell_type": "code",
   "execution_count": null,
   "id": "4c321a9f-e981-4657-ad7a-c83eaa777bdb",
   "metadata": {},
   "outputs": [],
   "source": [
    "### Put your code here"
   ]
  },
  {
   "cell_type": "code",
   "execution_count": null,
   "id": "90d3ebaa-3f48-44d5-b1da-1bbe921fdf09",
   "metadata": {},
   "outputs": [],
   "source": [
    "### ANSWER ###"
   ]
  },
  {
   "cell_type": "markdown",
   "id": "0e6d60bd-78fc-4aad-a488-4dbe6cbf762f",
   "metadata": {},
   "source": [
    "&#9989; **Question 5.2 Write code for the above task using functional programming (XX points):** "
   ]
  },
  {
   "cell_type": "code",
   "execution_count": null,
   "id": "647cf0e9-9009-4cda-909c-0aa8107dff4e",
   "metadata": {},
   "outputs": [],
   "source": [
    "### Put your code here"
   ]
  },
  {
   "cell_type": "code",
   "execution_count": null,
   "id": "94ebd2f2-5a11-4615-8125-5184681ef15f",
   "metadata": {},
   "outputs": [],
   "source": [
    "### ANSWER ###"
   ]
  },
  {
   "cell_type": "markdown",
   "id": "7c98bcff-f743-46c9-937f-e493e92666f5",
   "metadata": {},
   "source": [
    "&#9989; **Question 5.3 Write code for the above task using object-oriented programming (XX points):** "
   ]
  },
  {
   "cell_type": "code",
   "execution_count": null,
   "id": "06556500-bcd9-4f3e-8b26-92fd4db2b945",
   "metadata": {},
   "outputs": [],
   "source": [
    "### Put your code here"
   ]
  },
  {
   "cell_type": "code",
   "execution_count": null,
   "id": "601e6811-11e6-4b89-897a-1b051f8959ba",
   "metadata": {},
   "outputs": [],
   "source": [
    "### ANSWER ###"
   ]
  },
  {
   "cell_type": "markdown",
   "id": "23fa07a7-a7ae-42bd-8c2b-0378bb299852",
   "metadata": {},
   "source": [
    "&#9989; **Question 5.4 |Follow-up conceptual question| (XX points):** "
   ]
  },
  {
   "cell_type": "markdown",
   "id": "5e8e38cf-1f3c-4711-b90a-227424e39219",
   "metadata": {},
   "source": [
    "### Put your answer here"
   ]
  },
  {
   "cell_type": "markdown",
   "id": "3db0df3e-31d3-444e-bb9a-6f4708e887f6",
   "metadata": {},
   "source": [
    "### ANSWER ###"
   ]
  },
  {
   "cell_type": "markdown",
   "id": "14435d84-82d4-4ffc-82b9-3188de6c7103",
   "metadata": {},
   "source": [
    "---\n",
    "### &#128721; STOP (1 point)\n",
    "**Pause to commit your changes to your Git repository!**\n",
    "\n",
    "Take a moment to save your notebook, commit  and push the changes to your Git repository.\n",
    "\n",
    "---"
   ]
  },
  {
   "cell_type": "markdown",
   "id": "868efbc9",
   "metadata": {
    "jp-MarkdownHeadingCollapsed": true,
    "tags": []
   },
   "source": [
    "## You're done! Congrats on finishing your CMSE 202 Midterm!\n",
    "\n",
    "Make sure all of your changes to your repository are committed and pushed to GitHub. Also upload a copy of this notebook to the dropbox on D2L in case something went wrong with your repository or if you couldn't get the repository to work."
   ]
  }
 ],
 "metadata": {
  "kernelspec": {
   "display_name": "Python [conda env:base] *",
   "language": "python",
   "name": "conda-base-py"
  },
  "language_info": {
   "codemirror_mode": {
    "name": "ipython",
    "version": 3
   },
   "file_extension": ".py",
   "mimetype": "text/x-python",
   "name": "python",
   "nbconvert_exporter": "python",
   "pygments_lexer": "ipython3",
   "version": "3.12.2"
  }
 },
 "nbformat": 4,
 "nbformat_minor": 5
}
