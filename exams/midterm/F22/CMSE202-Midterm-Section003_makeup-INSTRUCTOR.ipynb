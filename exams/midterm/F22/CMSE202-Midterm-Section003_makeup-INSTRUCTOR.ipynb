{
 "cells": [
  {
   "cell_type": "markdown",
   "metadata": {
    "pycharm": {
     "name": "#%% md\n"
    }
   },
   "source": [
    "### <p style=\"text-align: right;\"> &#9989; Put your name here.</p>\n",
    "### <p style=\"text-align: right;\"> &#9989; Put your _GitHub username_ here.</p>"
   ]
  },
  {
   "cell_type": "markdown",
   "metadata": {
    "pycharm": {
     "name": "#%% md\n"
    }
   },
   "source": [
    "# CMSE 202 Midterm (Section 003 - Fall 2022)\n",
    "\n",
    "The goal of this midterm is to give you the opportunity to test out some of the skills that you've developed thus far this semester. In particular, you'll practice setting up a GitHub repository, committing and pushing repository changes, downloading data with command line tools, performing some data analysis, possibly using a new Python package, and writing a python class. You should find that you have all of the skills necessary to complete this exam with even just eight weeks of CMSE 202 under your belt!\n",
    "\n",
    "You are encouraged to look through the entire exam before you get started so that you can appropriately budget your time and understand the broad goals of the exam. Once you've read through it, **try doing Part 1 first so that you have your repository set up and you download all necessary data files as they will be necessary to complete the assigned tasks. Let your instructor know right away if you have problems downloading the data!**\n",
    "\n",
    "The exam is set up so that even if you get stuck on one part there are opportunities to get points on the other parts, so consider jumping ahead if you feel like you aren't making progress and then come back later if you have time.\n",
    "\n",
    "**Important note about using online resources**: This exam is \"open internet\". That means that you can look up documentation, google how to accomplish certain Python tasks, etc. Being able to effectively use the internet for computational modeling and data science is a very important skill, so we want to make sure you have the opportunity to exercise that skill. **However**: The use of any person-to-person communication software is absolutely not acceptable. If you are seen accessing your email, using a chat program (e.g. Slack), or any sort of collaborative cloud storage or document software (e.g. Google Documents), you will be at risk for receiving a zero on the exam.\n",
    "\n",
    "**Keep your eyes on your screen!** Unfortunately, there isn't enough space in the room for everyone to sit at their own table so please do your best to keep your eyes on your own screen. This exam is designed to give *you* the opportunity to show the instructor what you can do and you should hold yourself accountable for maintaining a high level of academic integrity. If any of the instructors observe suspicious behavior, you will, again, risk receiving a zero.\n"
   ]
  },
  {
   "cell_type": "markdown",
   "metadata": {
    "pycharm": {
     "name": "#%% md\n"
    }
   },
   "source": [
    "![Moira](https://media.giphy.com/media/26gs78HRO8sOuhTkQ/giphy.gif)"
   ]
  },
  {
   "cell_type": "markdown",
   "metadata": {
    "pycharm": {
     "name": "#%% md\n"
    }
   },
   "source": [
    "---\n",
    "# &#128721; READ EVERYTHING CAREFULLY"
   ]
  },
  {
   "cell_type": "code",
   "execution_count": 1,
   "metadata": {
    "ExecuteTime": {
     "end_time": "2022-11-03T00:26:01.513616Z",
     "start_time": "2022-11-03T00:25:59.808365Z"
    }
   },
   "outputs": [
    {
     "name": "stdout",
     "output_type": "stream",
     "text": [
      "Using matplotlib backend: agg\n",
      "Populating the interactive namespace from numpy and matplotlib\n"
     ]
    }
   ],
   "source": [
    "# RUN THIS CELL \n",
    "%pylab\n",
    "%matplotlib inline\n",
    "\n",
    "import pandas as pd\n",
    "import seaborn as sns\n",
    "\n",
    "sns.set_context(\"talk\")"
   ]
  },
  {
   "cell_type": "markdown",
   "metadata": {},
   "source": [
    "<a id=\"toc\"></a>\n",
    "\n",
    "## Table of contents\n",
    "\n",
    "0. [Part 0: Academic Integrity](#part0) (1 point)\n",
    "    \n",
    "1. [Part 1: Git and CLI](#part1) (9 points)\n",
    "\n",
    "2. [Part 2: Data cleaning](#part2) (28 points)\n",
    "\n",
    "3. [Part 3: Python package](#part3) (9 points)\n",
    "\n",
    "4. [Part 4: Object-Oriented Programming](#part4) (31 points)\n",
    "\n",
    "5. [Part 5: Conclusion](#part5) (3 points)\n"
   ]
  },
  {
   "cell_type": "code",
   "execution_count": 2,
   "metadata": {
    "ExecuteTime": {
     "end_time": "2022-11-03T00:26:01.517713Z",
     "start_time": "2022-11-03T00:26:01.515129Z"
    }
   },
   "outputs": [
    {
     "name": "stdout",
     "output_type": "stream",
     "text": [
      "The maximum number of points is: 81\n"
     ]
    }
   ],
   "source": [
    "grades = [part_0, part_1, part_2, part_3, part_4, part_5 ] = [1, 9, 28, 9, 31, 3]\n",
    "\n",
    "final_grade = sum(grades)\n",
    "\n",
    "print(f\"The maximum number of points is: {final_grade}\")\n"
   ]
  },
  {
   "cell_type": "markdown",
   "metadata": {
    "pycharm": {
     "name": "#%% md\n"
    }
   },
   "source": [
    "---\n",
    "<a id=\"part0\"></a>\n",
    "[Back to ToC](#toc)\n",
    "\n",
    "# Part 0: Academic integrity statement (1 point)\n",
    "\n",
    "Read the following statement and edit the markdown text to put your name in the statement. This is your commitment to doing your own authentic work on this exam."
   ]
  },
  {
   "cell_type": "markdown",
   "metadata": {
    "pycharm": {
     "name": "#%% md\n"
    }
   },
   "source": [
    "> I, **INSERT NAME HERE**, affirm that this exam represents my own authetic work, without the use of any unpermitted aids or resources or person-to-person communication. I understand that this exam an an opportunity to showcase my own progress in developing and improving my computational skills and have done my best to demonstrate those skills."
   ]
  },
  {
   "cell_type": "markdown",
   "metadata": {
    "pycharm": {
     "name": "#%% md\n"
    }
   },
   "source": [
    "---\n",
    "<a id=\"part1\"></a>\n",
    "[Back to ToC](#toc)\n",
    "\n",
    "# Part 1: Git and Command Line Interface (9 points)\n",
    "\n",
    "Before you get to far along in the exam, you're going to add it to the `cmse202-s22-turnin` repository you created in class so that you can track your progress on the exam and preserve the final version that you turn in. \n"
   ]
  },
  {
   "cell_type": "markdown",
   "metadata": {
    "pycharm": {
     "name": "#%% md\n"
    }
   },
   "source": [
    "---\n",
    "**&#9989; **Question 1.1 (1 point)**** Navigate to your `cmse202-f22-turnin` repository and create a new directory called `midterm`. \n",
    "\n",
    "```\n",
    "Put the command you used to create the directory here (Do Not Delete the ```)\n",
    "```"
   ]
  },
  {
   "cell_type": "markdown",
   "metadata": {
    "pycharm": {
     "name": "#%% md\n"
    }
   },
   "source": [
    "---\n",
    "&#9989; **Question 1.2 (3 points)** Check the status of `git` .\n",
    "\n",
    "``` \n",
    "Put the command you used to check the status of git\n",
    "```\n",
    "\n",
    "Copy and paste below the output of the command.\n",
    "\n",
    "```\n",
    "Paste it here\n",
    "```\n",
    "\n",
    "What is the name of the branch you are in ? \n",
    "\n",
    "```\n",
    "Put your answer here\n",
    "```\n",
    "\n",
    "**Important:** If you are not in the `main` branch change to your `main` branch. \n",
    "\n",
    "Once in the main branch move this notebook into that **new directory** in your repository."
   ]
  },
  {
   "cell_type": "markdown",
   "metadata": {
    "pycharm": {
     "name": "#%% md\n"
    }
   },
   "source": [
    "---\n",
    "&#9989; **Question 1.3 (3 points):**\n",
    "Add your name and GitHub username to the top of the notebook, then add and commit **ONLY** the notebook.\n",
    "\n",
    "```\n",
    "Put the command(s) to add and commit here \n",
    "```\n",
    "\n",
    "What is the commit message you used ?\n",
    "\n",
    "```\n",
    "Answer the question here\n",
    "```"
   ]
  },
  {
   "cell_type": "markdown",
   "metadata": {
    "pycharm": {
     "name": "#%% md\n"
    }
   },
   "source": [
    "---\n",
    "&#9989; **Question 1.4 (1 point):** Before moving on. Check that the notebook you are working on is the correct one. Run the following cell. **Are you in the new folder you just created?** If not close this notebook and open the one in the midterm folder\n"
   ]
  },
  {
   "cell_type": "code",
   "execution_count": null,
   "metadata": {
    "ExecuteTime": {
     "end_time": "2022-10-13T16:00:43.042311Z",
     "start_time": "2022-10-13T16:00:42.888368Z"
    },
    "pycharm": {
     "name": "#%%\n"
    }
   },
   "outputs": [],
   "source": [
    "!pwd"
   ]
  },
  {
   "cell_type": "markdown",
   "metadata": {
    "pycharm": {
     "name": "#%% md\n"
    }
   },
   "source": [
    "---\n",
    "&#9989; **Question 1.5 (1 point):**\n",
    "Finally push the updated repo to GitHub.\n",
    "\n",
    "```\n",
    "Put the command you used to push to GitHub here.\n",
    "```\n"
   ]
  },
  {
   "cell_type": "markdown",
   "metadata": {
    "pycharm": {
     "name": "#%% md\n"
    }
   },
   "source": [
    "---\n",
    "<a id=\"part2\"></a>\n",
    "[Back to ToC](#toc)\n",
    "\n",
    "# Part 2: Downloading and analyzing unfamiliar data (28 points)\n",
    "\n",
    "For this part of the exam, you're to download and analyze a dataset that you've likely not looked at before. You'll perform some simple, exploratorary analysis and create basic visualizations."
   ]
  },
  {
   "cell_type": "markdown",
   "metadata": {
    "pycharm": {
     "name": "#%% md\n"
    }
   },
   "source": [
    "###ANSWER (for making sure this gets removed)\n",
    "\n",
    "#### Instructor information\n",
    "\n",
    "The goals for this part of the exam are for students to do the following:\n",
    "\n",
    "1. Download a web-hosted data file using curl (along with stating what command they used)\n",
    "2. Load the dataset using whatever mechanism they choose (or that you want them to use)\n",
    "3. Perform a bit of exploratory data analysis\n",
    "4. Interpret the results of the analysis and explain their finding.\n",
    "\n",
    "This component of the exam should mirror what they were expected to do in Part 2 of Homework #2."
   ]
  },
  {
   "cell_type": "markdown",
   "metadata": {
    "pycharm": {
     "name": "#%% md\n"
    }
   },
   "source": [
    "In particular, you're going to be working with a dataset that contains data on the US energy consumption and production. \n",
    "\n",
    "Download the file from D2L\n",
    "\n"
   ]
  },
  {
   "cell_type": "markdown",
   "metadata": {
    "pycharm": {
     "name": "#%% md\n"
    }
   },
   "source": [
    "&#9989; **Question 2.1 (4 points)**: To get started, **read in the `gas_prices_dataset.xls` dataset**. \n",
    "Do this\n",
    "\n",
    "1. Use the [`read_excel`](https://pandas.pydata.org/docs/reference/api/pandas.read_excel.html) function in `pandas` to read in *only the sheet named \"Data 1\"* and by *skipping the first 2 rows*\n",
    "\n",
    "2. print the first 5 rows \n",
    "\n"
   ]
  },
  {
   "cell_type": "code",
   "execution_count": null,
   "metadata": {
    "ExecuteTime": {
     "end_time": "2022-10-25T17:15:23.923013Z",
     "start_time": "2022-10-25T17:15:23.921432Z"
    },
    "pycharm": {
     "name": "#%%\n"
    }
   },
   "outputs": [],
   "source": [
    "# Put your code here"
   ]
  },
  {
   "cell_type": "code",
   "execution_count": 3,
   "metadata": {
    "ExecuteTime": {
     "end_time": "2022-11-03T00:26:07.184223Z",
     "start_time": "2022-11-03T00:26:07.105281Z"
    },
    "pycharm": {
     "name": "#%%\n"
    }
   },
   "outputs": [
    {
     "data": {
      "text/html": [
       "<div>\n",
       "<style scoped>\n",
       "    .dataframe tbody tr th:only-of-type {\n",
       "        vertical-align: middle;\n",
       "    }\n",
       "\n",
       "    .dataframe tbody tr th {\n",
       "        vertical-align: top;\n",
       "    }\n",
       "\n",
       "    .dataframe thead th {\n",
       "        text-align: right;\n",
       "    }\n",
       "</style>\n",
       "<table border=\"1\" class=\"dataframe\">\n",
       "  <thead>\n",
       "    <tr style=\"text-align: right;\">\n",
       "      <th></th>\n",
       "      <th>Date</th>\n",
       "      <th>Weekly Midwest All Grades All Formulations Retail Gasoline Prices  (Dollars per Gallon)</th>\n",
       "      <th>Weekly Midwest All Grades Conventional Retail Gasoline Prices  (Dollars per Gallon)</th>\n",
       "      <th>Weekly Midwest All Grades Reformulated Retail Gasoline Prices  (Dollars per Gallon)</th>\n",
       "      <th>Weekly Midwest Regular All Formulations Retail Gasoline Prices  (Dollars per Gallon)</th>\n",
       "      <th>Weekly Midwest Regular Conventional Retail Gasoline Prices  (Dollars per Gallon)</th>\n",
       "      <th>Weekly Midwest Regular Reformulated Retail Gasoline Prices  (Dollars per Gallon)</th>\n",
       "      <th>Weekly Midwest Midgrade All Formulations Retail Gasoline Prices  (Dollars per Gallon)</th>\n",
       "      <th>Weekly Midwest Midgrade Conventional Retail Gasoline Prices  (Dollars per Gallon)</th>\n",
       "      <th>Weekly Midwest Midgrade Reformulated Retail Gasoline Prices  (Dollars per Gallon)</th>\n",
       "      <th>Weekly Midwest Premium All Formulations Retail Gasoline Prices  (Dollars per Gallon)</th>\n",
       "      <th>Weekly Midwest Premium Conventional Retail Gasoline Prices  (Dollars per Gallon)</th>\n",
       "      <th>Weekly Midwest Premium Reformulated Retail Gasoline Prices  (Dollars per Gallon)</th>\n",
       "      <th>Weekly Midwest No 2 Diesel Retail Prices  (Dollars per Gallon)</th>\n",
       "      <th>Weekly Midwest No 2 Diesel Ultra Low Sulfur (0-15 ppm) Retail Prices  (Dollars per Gallon)</th>\n",
       "    </tr>\n",
       "  </thead>\n",
       "  <tbody>\n",
       "    <tr>\n",
       "      <th>0</th>\n",
       "      <td>1992-05-11</td>\n",
       "      <td>NaN</td>\n",
       "      <td>NaN</td>\n",
       "      <td>NaN</td>\n",
       "      <td>1.103</td>\n",
       "      <td>1.103</td>\n",
       "      <td>NaN</td>\n",
       "      <td>NaN</td>\n",
       "      <td>NaN</td>\n",
       "      <td>NaN</td>\n",
       "      <td>NaN</td>\n",
       "      <td>NaN</td>\n",
       "      <td>NaN</td>\n",
       "      <td>NaN</td>\n",
       "      <td>NaN</td>\n",
       "    </tr>\n",
       "    <tr>\n",
       "      <th>1</th>\n",
       "      <td>1992-05-18</td>\n",
       "      <td>NaN</td>\n",
       "      <td>NaN</td>\n",
       "      <td>NaN</td>\n",
       "      <td>1.118</td>\n",
       "      <td>1.118</td>\n",
       "      <td>NaN</td>\n",
       "      <td>NaN</td>\n",
       "      <td>NaN</td>\n",
       "      <td>NaN</td>\n",
       "      <td>NaN</td>\n",
       "      <td>NaN</td>\n",
       "      <td>NaN</td>\n",
       "      <td>NaN</td>\n",
       "      <td>NaN</td>\n",
       "    </tr>\n",
       "    <tr>\n",
       "      <th>2</th>\n",
       "      <td>1992-05-25</td>\n",
       "      <td>NaN</td>\n",
       "      <td>NaN</td>\n",
       "      <td>NaN</td>\n",
       "      <td>1.117</td>\n",
       "      <td>1.117</td>\n",
       "      <td>NaN</td>\n",
       "      <td>NaN</td>\n",
       "      <td>NaN</td>\n",
       "      <td>NaN</td>\n",
       "      <td>NaN</td>\n",
       "      <td>NaN</td>\n",
       "      <td>NaN</td>\n",
       "      <td>NaN</td>\n",
       "      <td>NaN</td>\n",
       "    </tr>\n",
       "    <tr>\n",
       "      <th>3</th>\n",
       "      <td>1992-06-01</td>\n",
       "      <td>NaN</td>\n",
       "      <td>NaN</td>\n",
       "      <td>NaN</td>\n",
       "      <td>1.122</td>\n",
       "      <td>1.122</td>\n",
       "      <td>NaN</td>\n",
       "      <td>NaN</td>\n",
       "      <td>NaN</td>\n",
       "      <td>NaN</td>\n",
       "      <td>NaN</td>\n",
       "      <td>NaN</td>\n",
       "      <td>NaN</td>\n",
       "      <td>NaN</td>\n",
       "      <td>NaN</td>\n",
       "    </tr>\n",
       "    <tr>\n",
       "      <th>4</th>\n",
       "      <td>1992-06-08</td>\n",
       "      <td>NaN</td>\n",
       "      <td>NaN</td>\n",
       "      <td>NaN</td>\n",
       "      <td>1.137</td>\n",
       "      <td>1.137</td>\n",
       "      <td>NaN</td>\n",
       "      <td>NaN</td>\n",
       "      <td>NaN</td>\n",
       "      <td>NaN</td>\n",
       "      <td>NaN</td>\n",
       "      <td>NaN</td>\n",
       "      <td>NaN</td>\n",
       "      <td>NaN</td>\n",
       "      <td>NaN</td>\n",
       "    </tr>\n",
       "  </tbody>\n",
       "</table>\n",
       "</div>"
      ],
      "text/plain": [
       "        Date  \\\n",
       "0 1992-05-11   \n",
       "1 1992-05-18   \n",
       "2 1992-05-25   \n",
       "3 1992-06-01   \n",
       "4 1992-06-08   \n",
       "\n",
       "   Weekly Midwest All Grades All Formulations Retail Gasoline Prices  (Dollars per Gallon)  \\\n",
       "0                                                NaN                                         \n",
       "1                                                NaN                                         \n",
       "2                                                NaN                                         \n",
       "3                                                NaN                                         \n",
       "4                                                NaN                                         \n",
       "\n",
       "   Weekly Midwest All Grades Conventional Retail Gasoline Prices  (Dollars per Gallon)  \\\n",
       "0                                                NaN                                     \n",
       "1                                                NaN                                     \n",
       "2                                                NaN                                     \n",
       "3                                                NaN                                     \n",
       "4                                                NaN                                     \n",
       "\n",
       "   Weekly Midwest All Grades Reformulated Retail Gasoline Prices  (Dollars per Gallon)  \\\n",
       "0                                                NaN                                     \n",
       "1                                                NaN                                     \n",
       "2                                                NaN                                     \n",
       "3                                                NaN                                     \n",
       "4                                                NaN                                     \n",
       "\n",
       "   Weekly Midwest Regular All Formulations Retail Gasoline Prices  (Dollars per Gallon)  \\\n",
       "0                                              1.103                                      \n",
       "1                                              1.118                                      \n",
       "2                                              1.117                                      \n",
       "3                                              1.122                                      \n",
       "4                                              1.137                                      \n",
       "\n",
       "   Weekly Midwest Regular Conventional Retail Gasoline Prices  (Dollars per Gallon)  \\\n",
       "0                                              1.103                                  \n",
       "1                                              1.118                                  \n",
       "2                                              1.117                                  \n",
       "3                                              1.122                                  \n",
       "4                                              1.137                                  \n",
       "\n",
       "   Weekly Midwest Regular Reformulated Retail Gasoline Prices  (Dollars per Gallon)  \\\n",
       "0                                                NaN                                  \n",
       "1                                                NaN                                  \n",
       "2                                                NaN                                  \n",
       "3                                                NaN                                  \n",
       "4                                                NaN                                  \n",
       "\n",
       "   Weekly Midwest Midgrade All Formulations Retail Gasoline Prices  (Dollars per Gallon)  \\\n",
       "0                                                NaN                                       \n",
       "1                                                NaN                                       \n",
       "2                                                NaN                                       \n",
       "3                                                NaN                                       \n",
       "4                                                NaN                                       \n",
       "\n",
       "   Weekly Midwest Midgrade Conventional Retail Gasoline Prices  (Dollars per Gallon)  \\\n",
       "0                                                NaN                                   \n",
       "1                                                NaN                                   \n",
       "2                                                NaN                                   \n",
       "3                                                NaN                                   \n",
       "4                                                NaN                                   \n",
       "\n",
       "   Weekly Midwest Midgrade Reformulated Retail Gasoline Prices  (Dollars per Gallon)  \\\n",
       "0                                                NaN                                   \n",
       "1                                                NaN                                   \n",
       "2                                                NaN                                   \n",
       "3                                                NaN                                   \n",
       "4                                                NaN                                   \n",
       "\n",
       "   Weekly Midwest Premium All Formulations Retail Gasoline Prices  (Dollars per Gallon)  \\\n",
       "0                                                NaN                                      \n",
       "1                                                NaN                                      \n",
       "2                                                NaN                                      \n",
       "3                                                NaN                                      \n",
       "4                                                NaN                                      \n",
       "\n",
       "   Weekly Midwest Premium Conventional Retail Gasoline Prices  (Dollars per Gallon)  \\\n",
       "0                                                NaN                                  \n",
       "1                                                NaN                                  \n",
       "2                                                NaN                                  \n",
       "3                                                NaN                                  \n",
       "4                                                NaN                                  \n",
       "\n",
       "   Weekly Midwest Premium Reformulated Retail Gasoline Prices  (Dollars per Gallon)  \\\n",
       "0                                                NaN                                  \n",
       "1                                                NaN                                  \n",
       "2                                                NaN                                  \n",
       "3                                                NaN                                  \n",
       "4                                                NaN                                  \n",
       "\n",
       "   Weekly Midwest No 2 Diesel Retail Prices  (Dollars per Gallon)  \\\n",
       "0                                                NaN                \n",
       "1                                                NaN                \n",
       "2                                                NaN                \n",
       "3                                                NaN                \n",
       "4                                                NaN                \n",
       "\n",
       "   Weekly Midwest No 2 Diesel Ultra Low Sulfur (0-15 ppm) Retail Prices  (Dollars per Gallon)  \n",
       "0                                                NaN                                           \n",
       "1                                                NaN                                           \n",
       "2                                                NaN                                           \n",
       "3                                                NaN                                           \n",
       "4                                                NaN                                           "
      ]
     },
     "execution_count": 3,
     "metadata": {},
     "output_type": "execute_result"
    }
   ],
   "source": [
    "### ANSWER\n",
    "df = pd.read_excel(\"gas_prices_dataset.xls\", sheet_name=\"Data 1\", skiprows = 2)\n",
    "df.head()"
   ]
  },
  {
   "cell_type": "markdown",
   "metadata": {},
   "source": [
    "&#9989; **Question 2.2 (1 point)**: Print the `info` of the dataset"
   ]
  },
  {
   "cell_type": "code",
   "execution_count": 4,
   "metadata": {
    "ExecuteTime": {
     "end_time": "2022-11-03T00:26:08.640852Z",
     "start_time": "2022-11-03T00:26:08.638805Z"
    }
   },
   "outputs": [],
   "source": [
    "# Put your code here"
   ]
  },
  {
   "cell_type": "code",
   "execution_count": 5,
   "metadata": {
    "ExecuteTime": {
     "end_time": "2022-11-03T00:26:09.181853Z",
     "start_time": "2022-11-03T00:26:09.175156Z"
    }
   },
   "outputs": [
    {
     "name": "stdout",
     "output_type": "stream",
     "text": [
      "<class 'pandas.core.frame.DataFrame'>\n",
      "RangeIndex: 1587 entries, 0 to 1586\n",
      "Data columns (total 15 columns):\n",
      " #   Column                                                                                      Non-Null Count  Dtype         \n",
      "---  ------                                                                                      --------------  -----         \n",
      " 0   Date                                                                                        1587 non-null   datetime64[ns]\n",
      " 1   Weekly Midwest All Grades All Formulations Retail Gasoline Prices  (Dollars per Gallon)     1540 non-null   float64       \n",
      " 2   Weekly Midwest All Grades Conventional Retail Gasoline Prices  (Dollars per Gallon)         1454 non-null   float64       \n",
      " 3   Weekly Midwest All Grades Reformulated Retail Gasoline Prices  (Dollars per Gallon)         1454 non-null   float64       \n",
      " 4   Weekly Midwest Regular All Formulations Retail Gasoline Prices  (Dollars per Gallon)        1587 non-null   float64       \n",
      " 5   Weekly Midwest Regular Conventional Retail Gasoline Prices  (Dollars per Gallon)            1587 non-null   float64       \n",
      " 6   Weekly Midwest Regular Reformulated Retail Gasoline Prices  (Dollars per Gallon)            1454 non-null   float64       \n",
      " 7   Weekly Midwest Midgrade All Formulations Retail Gasoline Prices  (Dollars per Gallon)       1454 non-null   float64       \n",
      " 8   Weekly Midwest Midgrade Conventional Retail Gasoline Prices  (Dollars per Gallon)           1454 non-null   float64       \n",
      " 9   Weekly Midwest Midgrade Reformulated Retail Gasoline Prices  (Dollars per Gallon)           1454 non-null   float64       \n",
      " 10  Weekly Midwest Premium All Formulations Retail Gasoline Prices  (Dollars per Gallon)        1454 non-null   float64       \n",
      " 11  Weekly Midwest Premium Conventional Retail Gasoline Prices  (Dollars per Gallon)            1454 non-null   float64       \n",
      " 12  Weekly Midwest Premium Reformulated Retail Gasoline Prices  (Dollars per Gallon)            1454 non-null   float64       \n",
      " 13  Weekly Midwest No 2 Diesel Retail Prices  (Dollars per Gallon)                              1490 non-null   float64       \n",
      " 14  Weekly Midwest No 2 Diesel Ultra Low Sulfur (0-15 ppm) Retail Prices  (Dollars per Gallon)  818 non-null    float64       \n",
      "dtypes: datetime64[ns](1), float64(14)\n",
      "memory usage: 186.1 KB\n"
     ]
    }
   ],
   "source": [
    "### ANSWER\n",
    "df.info()"
   ]
  },
  {
   "cell_type": "markdown",
   "metadata": {},
   "source": [
    "&#9989; **Question 2.2.1 (3 points)**: Looking at the above outputs, answer the following questions: \n",
    "\n",
    "1. What are the types of the values in the dataset?\n",
    "2. How many rows of data does the dataset contain ? \n",
    "3. How many columns of data does the dataset contain ? "
   ]
  },
  {
   "cell_type": "markdown",
   "metadata": {},
   "source": [
    "**<font size=+3>&#9998;</font> Do This**: *Record your answers here.*\n",
    "\n"
   ]
  },
  {
   "cell_type": "code",
   "execution_count": 6,
   "metadata": {
    "ExecuteTime": {
     "end_time": "2022-11-03T00:26:11.090516Z",
     "start_time": "2022-11-03T00:26:11.088753Z"
    }
   },
   "outputs": [],
   "source": [
    "### ANSWER\n",
    "# 1. datetime64 and floats\n",
    "# 2. 1587 \n",
    "# 3. 15"
   ]
  },
  {
   "cell_type": "markdown",
   "metadata": {},
   "source": [
    "&#9989; **Question 2.3 (2 points)**: Do the following in the same order as they are shown\n",
    "\n",
    "1. set the column `\"Date\"` as the index of the dataset"
   ]
  },
  {
   "cell_type": "code",
   "execution_count": 7,
   "metadata": {
    "ExecuteTime": {
     "end_time": "2022-11-03T00:26:12.224670Z",
     "start_time": "2022-11-03T00:26:12.222748Z"
    }
   },
   "outputs": [],
   "source": [
    "# Put your code here\n"
   ]
  },
  {
   "cell_type": "code",
   "execution_count": 8,
   "metadata": {
    "ExecuteTime": {
     "end_time": "2022-11-03T00:26:12.853586Z",
     "start_time": "2022-11-03T00:26:12.849694Z"
    }
   },
   "outputs": [],
   "source": [
    "### ANSWER\n",
    "# 1 point correct column\n",
    "# 1 point for inplace\n",
    "df.set_index(\"Date\", inplace = True)"
   ]
  },
  {
   "cell_type": "markdown",
   "metadata": {},
   "source": [
    "&#9989; **Question 2.4 (3 points)**: We have too many columns, `drop` the following columns from the dataset.\n",
    "\n",
    "    Weekly Midwest All Grades All Formulations Retail Gasoline Prices  (Dollars per Gallon)\n",
    "    Weekly Midwest All Grades Conventional Retail Gasoline Prices  (Dollars per Gallon)\n",
    "    Weekly Midwest All Grades Reformulated Retail Gasoline Prices  (Dollars per Gallon)\n",
    "    Weekly Midwest Regular Conventional Retail Gasoline Prices  (Dollars per Gallon)\n",
    "    Weekly Midwest Regular Reformulated Retail Gasoline Prices  (Dollars per Gallon)\n",
    "    Weekly Midwest Midgrade Conventional Retail Gasoline Prices  (Dollars per Gallon)\n",
    "    Weekly Midwest Midgrade Reformulated Retail Gasoline Prices  (Dollars per Gallon)\n",
    "    Weekly Midwest Premium Conventional Retail Gasoline Prices  (Dollars per Gallon)\n",
    "    Weekly Midwest Premium Reformulated Retail Gasoline Prices  (Dollars per Gallon)\n",
    "    Weekly Midwest No 2 Diesel Ultra Low Sulfur (0-15 ppm) Retail Prices  (Dollars per Gallon)\n",
    "    "
   ]
  },
  {
   "cell_type": "code",
   "execution_count": 9,
   "metadata": {
    "ExecuteTime": {
     "end_time": "2022-11-03T00:26:14.124927Z",
     "start_time": "2022-11-03T00:26:14.122724Z"
    }
   },
   "outputs": [],
   "source": [
    "# Put your code here\n"
   ]
  },
  {
   "cell_type": "code",
   "execution_count": 10,
   "metadata": {
    "ExecuteTime": {
     "end_time": "2022-11-03T00:26:14.650421Z",
     "start_time": "2022-11-03T00:26:14.647328Z"
    }
   },
   "outputs": [],
   "source": [
    "### ANSWER\n",
    "# 1 point for using drop\n",
    "# 1 point for dropping the correct columns\n",
    "# 1 point for inplace or redefining it\n",
    "df.drop( columns = [\n",
    "    'Weekly Midwest All Grades All Formulations Retail Gasoline Prices  (Dollars per Gallon)',\n",
    "    'Weekly Midwest All Grades Conventional Retail Gasoline Prices  (Dollars per Gallon)',\n",
    "    'Weekly Midwest All Grades Reformulated Retail Gasoline Prices  (Dollars per Gallon)',\n",
    "    'Weekly Midwest Regular Conventional Retail Gasoline Prices  (Dollars per Gallon)',\n",
    "    'Weekly Midwest Regular Reformulated Retail Gasoline Prices  (Dollars per Gallon)',\n",
    "    'Weekly Midwest Midgrade Conventional Retail Gasoline Prices  (Dollars per Gallon)',\n",
    "    'Weekly Midwest Midgrade Reformulated Retail Gasoline Prices  (Dollars per Gallon)',\n",
    "    'Weekly Midwest Premium Conventional Retail Gasoline Prices  (Dollars per Gallon)',\n",
    "    'Weekly Midwest Premium Reformulated Retail Gasoline Prices  (Dollars per Gallon)',\n",
    "    'Weekly Midwest No 2 Diesel Ultra Low Sulfur (0-15 ppm) Retail Prices  (Dollars per Gallon)'\n",
    "], \n",
    "        inplace = True)"
   ]
  },
  {
   "cell_type": "markdown",
   "metadata": {
    "ExecuteTime": {
     "end_time": "2022-10-12T14:25:27.100803Z",
     "start_time": "2022-10-12T14:25:26.671467Z"
    }
   },
   "source": [
    "&#9989; **Question 2.4 (3 points)**: The names of the columns are too long and annoying. Replace the names of the columns with the following\n",
    "    \n",
    "    \"Regular\", \"Midgrade\", \"Premium\", \"Diesel\"\n",
    " \n",
    "using the [`rename`](https://pandas.pydata.org/docs/reference/api/pandas.DataFrame.rename.html) method. \n",
    "\n",
    "__IMPORTANT:__ I said **method** not function!"
   ]
  },
  {
   "cell_type": "code",
   "execution_count": 11,
   "metadata": {
    "ExecuteTime": {
     "end_time": "2022-11-03T00:26:15.799545Z",
     "start_time": "2022-11-03T00:26:15.797745Z"
    }
   },
   "outputs": [],
   "source": [
    "# Put your code here"
   ]
  },
  {
   "cell_type": "code",
   "execution_count": 12,
   "metadata": {
    "ExecuteTime": {
     "end_time": "2022-11-03T00:26:16.438030Z",
     "start_time": "2022-11-03T00:26:16.435328Z"
    }
   },
   "outputs": [],
   "source": [
    "### ANSWER\n",
    "# 1 point for renaming it correctly\n",
    "# 1 point for method and not function\n",
    "# 1 point for saving it\n",
    "df.rename( columns = {df.columns[0]: \"Regular\",\n",
    "                     df.columns[1] : \"Midgrade\",\n",
    "                     df.columns[2] : \"Premium\", \n",
    "                     df.columns[3] : \"Diesel\"},\n",
    "         inplace = True)"
   ]
  },
  {
   "cell_type": "markdown",
   "metadata": {},
   "source": [
    "&#9989; **Question 2.5 (2 points)**: As you might have seen above there are some missing values, _e.g._ NaN. \n",
    "Drop all the **rows** with the NaN value."
   ]
  },
  {
   "cell_type": "code",
   "execution_count": 13,
   "metadata": {
    "ExecuteTime": {
     "end_time": "2022-11-03T00:26:18.068446Z",
     "start_time": "2022-11-03T00:26:18.066546Z"
    }
   },
   "outputs": [],
   "source": [
    "# Put your code here"
   ]
  },
  {
   "cell_type": "code",
   "execution_count": 14,
   "metadata": {
    "ExecuteTime": {
     "end_time": "2022-11-03T00:26:18.601458Z",
     "start_time": "2022-11-03T00:26:18.598455Z"
    }
   },
   "outputs": [],
   "source": [
    "### ANSWER\n",
    "# 1 point for dropping rows\n",
    "# 1 point for inplace\n",
    "df.dropna(axis = 0, inplace = True)"
   ]
  },
  {
   "cell_type": "markdown",
   "metadata": {},
   "source": [
    "&#9989; **Question 2.7 (5 points)**: Let's make a plot! Plot all four columns against the date showing the price of gasoline type as a function of time. The plot should\n",
    "\n",
    "1. figure 10 points wide and 7 points height\n",
    "2. have a legend\n",
    "3. have a label on the x-axis"
   ]
  },
  {
   "cell_type": "code",
   "execution_count": 15,
   "metadata": {
    "ExecuteTime": {
     "end_time": "2022-11-03T00:26:19.777502Z",
     "start_time": "2022-11-03T00:26:19.775531Z"
    }
   },
   "outputs": [],
   "source": [
    "# Put your code here"
   ]
  },
  {
   "cell_type": "code",
   "execution_count": 16,
   "metadata": {
    "ExecuteTime": {
     "end_time": "2022-11-03T00:26:20.574025Z",
     "start_time": "2022-11-03T00:26:20.328938Z"
    }
   },
   "outputs": [
    {
     "data": {
      "text/plain": [
       "<AxesSubplot:xlabel='Date'>"
      ]
     },
     "execution_count": 16,
     "metadata": {},
     "output_type": "execute_result"
    },
    {
     "data": {
      "image/png": "[encoded data removed]",
      "text/plain": [
       "<Figure size 720x504 with 1 Axes>"
      ]
     },
     "metadata": {
      "needs_background": "light"
     },
     "output_type": "display_data"
    }
   ],
   "source": [
    "### ANSWER\n",
    "# 1 point correct x-axis\n",
    "# 1 point correct columns\n",
    "# 1 point correct size\n",
    "# 1 point for label\n",
    "# 1 point for xlabel\n",
    "\n",
    "df.plot( figsize = (10,7))"
   ]
  },
  {
   "cell_type": "markdown",
   "metadata": {},
   "source": [
    "&#9989; **Question 2.7.1 (3 points)**: Answer the following question. \n",
    "\n",
    "1. What is the highest price of Diesel before 2010?\n",
    "2. On what day?\n",
    "\n",
    "You need to show some code."
   ]
  },
  {
   "cell_type": "code",
   "execution_count": 17,
   "metadata": {
    "ExecuteTime": {
     "end_time": "2022-11-03T00:26:22.785392Z",
     "start_time": "2022-11-03T00:26:22.783396Z"
    },
    "pycharm": {
     "name": "#%% md\n"
    }
   },
   "outputs": [],
   "source": [
    "# Put your code here"
   ]
  },
  {
   "cell_type": "code",
   "execution_count": 18,
   "metadata": {
    "ExecuteTime": {
     "end_time": "2022-11-03T00:26:24.219159Z",
     "start_time": "2022-11-03T00:26:24.215211Z"
    }
   },
   "outputs": [
    {
     "name": "stdout",
     "output_type": "stream",
     "text": [
      "4.698\n",
      "2008-07-14 00:00:00\n"
     ]
    }
   ],
   "source": [
    "### ANSWER\n",
    "# 1 point for correct answer\n",
    "# 1 point for code\n",
    "mask = df.index < '2010-01-01'\n",
    "print(df[mask][\"Diesel\"].max() )\n",
    "print(df[mask][\"Diesel\"].idxmax())"
   ]
  },
  {
   "cell_type": "markdown",
   "metadata": {
    "ExecuteTime": {
     "end_time": "2022-10-12T19:44:20.954267Z",
     "start_time": "2022-10-12T19:44:20.951255Z"
    }
   },
   "source": [
    "**<font size=+3>&#9998;</font> Do This**: *Record your answers here.*\n",
    "\n"
   ]
  },
  {
   "cell_type": "markdown",
   "metadata": {
    "pycharm": {
     "name": "#%% md\n"
    }
   },
   "source": [
    "\n",
    "### &#128721; STOP\n",
    "**Pause to commit your changes to your local `git` repository! (1 point)**\n",
    "\n",
    "Take a moment to save your notebook, commit the changes to your local `git` repository using the commit message \"**Committing Part 2**\"."
   ]
  },
  {
   "cell_type": "markdown",
   "metadata": {
    "pycharm": {
     "name": "#%% md\n"
    }
   },
   "source": [
    "---\n",
    "<a id=\"part3\"></a>\n",
    "[Back to ToC](#toc)\n",
    "\n",
    "# Part 3: Exploring a familiar Python package (9 points)\n",
    "\n",
    "In this part of the exam you will need to review a bit of documentation from a Python package that you've explored a bit this semester.\n",
    "\n",
    "<img src=https://physicstoday.scitation.org/na101/home/literatum/publisher/aip/journals/content/pto/2009/pto.2009.62.issue-8/1.3206091/production/images/medium/1.3206091.figures.f6.gif width = 400px>"
   ]
  },
  {
   "cell_type": "markdown",
   "metadata": {
    "pycharm": {
     "name": "#%% md\n"
    }
   },
   "source": [
    "###ANSWER (for making sure this gets removed)\n",
    "\n",
    "#### Instructor information\n",
    "\n",
    "The goals for this part of the exam are for students to do the following:\n",
    "\n",
    "1. Do something relatively straight forward with an (un)familiar Python package\n",
    "2. Read and parse documentation to use the new package\n",
    "3. Leverage examples from the documentation to tackle the problem\n",
    "\n",
    "This component of the exam should mirror what they were expected to do in Part 3 of Homework #1. The things students are being asked to do should be pretty simple and **careful attention should be paid to making sure this works on JupyterHub**."
   ]
  },
  {
   "cell_type": "markdown",
   "metadata": {
    "pycharm": {
     "name": "#%% md\n"
    }
   },
   "source": [
    "&#9989; **Question 3.1 (1 point)**: Download the data from the link below.\n",
    "\n",
    "    https://raw.githubusercontent.com/msu-cmse-courses/cmse202-F22-data/main/Midterm/rho.dat"
   ]
  },
  {
   "cell_type": "code",
   "execution_count": null,
   "metadata": {
    "ExecuteTime": {
     "end_time": "2022-10-25T17:53:55.374623Z",
     "start_time": "2022-10-25T17:53:55.372761Z"
    },
    "pycharm": {
     "name": "#%%\n"
    }
   },
   "outputs": [],
   "source": [
    "# Put here the command that you would use to download the data\n"
   ]
  },
  {
   "cell_type": "code",
   "execution_count": null,
   "metadata": {
    "ExecuteTime": {
     "end_time": "2022-10-13T06:09:51.703063Z",
     "start_time": "2022-10-13T06:09:51.478170Z"
    },
    "pycharm": {
     "name": "#%%\n"
    }
   },
   "outputs": [],
   "source": [
    "### ANSWER\n",
    "!curl -O https://raw.githubusercontent.com/msu-cmse-courses/cmse202-F22-data/main/Midterm/rho.dat"
   ]
  },
  {
   "cell_type": "markdown",
   "metadata": {
    "pycharm": {
     "name": "#%% md\n"
    }
   },
   "source": [
    "&#9989; **Question 3.2 (1 point)**: Read the data using the [`loadtxt`](https://numpy.org/doc/stable/reference/generated/numpy.loadtxt.html) from `numpy`"
   ]
  },
  {
   "cell_type": "code",
   "execution_count": 19,
   "metadata": {
    "ExecuteTime": {
     "end_time": "2022-11-03T00:28:36.573329Z",
     "start_time": "2022-11-03T00:28:36.570309Z"
    },
    "pycharm": {
     "name": "#%%\n"
    }
   },
   "outputs": [],
   "source": [
    "### ANSWER\n",
    "data_1D = np.loadtxt(\"rho.dat\")"
   ]
  },
  {
   "cell_type": "markdown",
   "metadata": {},
   "source": [
    "&#9989; **Question 3.3 (2 points)**: Create a 2D array of size (32, 32) from the one above by using the **method** [`reshape`](https://numpy.org/doc/stable/reference/generated/numpy.ndarray.reshape.html) of the `numpy` array\n",
    "\n",
    "__IMPORTANT:__ I said **method** not function!"
   ]
  },
  {
   "cell_type": "code",
   "execution_count": 20,
   "metadata": {
    "ExecuteTime": {
     "end_time": "2022-11-03T00:28:37.520718Z",
     "start_time": "2022-11-03T00:28:37.518806Z"
    }
   },
   "outputs": [],
   "source": [
    "# Put your code here"
   ]
  },
  {
   "cell_type": "code",
   "execution_count": 21,
   "metadata": {
    "ExecuteTime": {
     "end_time": "2022-11-03T00:28:37.967303Z",
     "start_time": "2022-11-03T00:28:37.965451Z"
    }
   },
   "outputs": [],
   "source": [
    "### ANSWER \n",
    "data_2D = data_1D.reshape( (32, 32))"
   ]
  },
  {
   "cell_type": "markdown",
   "metadata": {},
   "source": [
    "&#9989; **Question 3.3 (5 points)**: Use the function[`meshgrid`](https://numpy.org/doc/stable/reference/generated/numpy.meshgrid.html) to create a grid from the `u` and `v` arrays given below. Then make a plot using [`pcolormesh`](https://matplotlib.org/stable/api/_as_gen/matplotlib.pyplot.pcolormesh.html). The X values of the plot should be the grid created from the `u` array while the Y values of the plot should be the grid created from the `v` array, the C values should be the 2D array you created in *Question 3.2*. \n",
    "\n",
    "In addition, add a colorbar to the plot using the [`colorbar`](https://matplotlib.org/stable/api/_as_gen/matplotlib.pyplot.colorbar.html) function\n",
    "\n",
    "Complete the code below to make the plot. You might want to google to find examples. Note though that some examples might tell you to create a new axis for the plot, you don't need to. "
   ]
  },
  {
   "cell_type": "code",
   "execution_count": 22,
   "metadata": {
    "ExecuteTime": {
     "end_time": "2022-11-03T00:28:39.013722Z",
     "start_time": "2022-11-03T00:28:39.010576Z"
    }
   },
   "outputs": [
    {
     "ename": "SyntaxError",
     "evalue": "invalid syntax (<ipython-input-22-87166185eff0>, line 13)",
     "output_type": "error",
     "traceback": [
      "\u001b[0;36m  File \u001b[0;32m\"<ipython-input-22-87166185eff0>\"\u001b[0;36m, line \u001b[0;32m13\u001b[0m\n\u001b[0;31m    p1 = # Make your pcolormesh here and call it p1\u001b[0m\n\u001b[0m         ^\u001b[0m\n\u001b[0;31mSyntaxError\u001b[0m\u001b[0;31m:\u001b[0m invalid syntax\n"
     ]
    }
   ],
   "source": [
    "# Complete this part\n",
    "\n",
    "L = 3.978\n",
    "\n",
    "u = np.linspace(0, L, 32)\n",
    "v = np.linspace(0, L, 32)\n",
    "\n",
    "# Create the x and y grids here using np.meshgrid\n",
    "\n",
    "\n",
    "fig, ax = plt.subplots(1,1, figsize = (10,8))\n",
    "\n",
    "p1 = # Make your pcolormesh here and call it p1\n",
    "\n",
    "# Add your colorbar here \n",
    "\n",
    "plt.show()"
   ]
  },
  {
   "cell_type": "code",
   "execution_count": 23,
   "metadata": {
    "ExecuteTime": {
     "end_time": "2022-11-03T00:28:40.523289Z",
     "start_time": "2022-11-03T00:28:40.305556Z"
    }
   },
   "outputs": [
    {
     "data": {
      "image/png": "[encoded data removed]",
      "text/plain": [
       "<Figure size 720x576 with 2 Axes>"
      ]
     },
     "metadata": {
      "needs_background": "light"
     },
     "output_type": "display_data"
    }
   ],
   "source": [
    "### ANSWER\n",
    "# Complete this part\n",
    "\n",
    "L = 3.978\n",
    "\n",
    "x = np.linspace(0, L, 32)\n",
    "y = np.linspace(0, L, 32)\n",
    "\n",
    "x_grid, y_grid = np.meshgrid(x, y) # 1 point for using meshgrid. \n",
    "\n",
    "fig, ax = plt.subplots(1,1, figsize = (10,8))\n",
    "\n",
    "p1 = ax.pcolormesh(x, y, data_2D, shading = \"auto\") \n",
    "# 1 point for using pcolormesh\n",
    "# 1 point for correct positions of x, y, z\n",
    "\n",
    "plt.colorbar(p1, label = r\"density\")\n",
    "# 1 point for using colorbar\n",
    "# 1 point for passing the plot\n",
    "\n",
    "fig.savefig('rho.png')\n",
    "# plt.show()"
   ]
  },
  {
   "cell_type": "markdown",
   "metadata": {
    "pycharm": {
     "name": "#%% md\n"
    }
   },
   "source": [
    "### &#128721; STOP\n",
    "**Pause to commit your changes to your local `git` repository! (1 point)**\n",
    "\n",
    "Take a moment to save your notebook, commit the changes to your local `git` repository using the commit message \"**Committing Part 3**\".\n",
    "\n",
    "---"
   ]
  },
  {
   "cell_type": "markdown",
   "metadata": {
    "pycharm": {
     "name": "#%% md\n"
    }
   },
   "source": [
    "<a id=\"part4\"></a>\n",
    "[Back to ToC](#toc)\n",
    "\n",
    "# Part 4: Object-Oriented Programming (31 points)\n",
    "\n",
    "\n",
    "\n",
    "<img src=https://upload.wikimedia.org/wikipedia/en/1/18/Scroogemoney.jpg  width=400px align=center >"
   ]
  },
  {
   "cell_type": "markdown",
   "metadata": {
    "pycharm": {
     "name": "#%% md\n"
    }
   },
   "source": [
    "### ANSWER (for making sure this gets removed)\n",
    "\n",
    "#### Instructor information\n",
    "\n",
    "The goals for this part of the exam are for students to do the following:\n",
    "\n",
    "1. Add to a pre-built Python object. \n",
    "2. Use the python class to demonstrate that the methods are working and that the attributes as being defined and modified correctly, as appropriate.\n",
    "3. Build a new class by inheriting the provided class and demonstrate that it works correctly.\n",
    "\n",
    "This component of the exam should mirror what they were expected to do in Part 3 of Homework #2."
   ]
  },
  {
   "cell_type": "markdown",
   "metadata": {
    "pycharm": {
     "name": "#%% md\n"
    }
   },
   "source": [
    "&#9989; **Question 4.1 (15 points)**: The following cell contains two classes one represent a bank account and another representing a possible customer. \n",
    "\n",
    "Do the following\n",
    "\n",
    "- complete the `__init__` method of the customer class. This method needs only store the values of the input into three attributes (3 points)\n",
    "\n",
    "\n",
    "- complete the `withdraw` method. This method takes in `amount` (a float) checks whether there are enough money in the account. If the `amount` to be withdrawn is more than the `total_amount` then it prints the message `Nope! You ain't got enough money` and returns `False`. Otherwise it substract `amount` from the `total_amount` and returns `True`. (6 points)\n",
    "\n",
    "\n",
    "- write a new method called `transfer_to` for transfering money to another account. This method takes in two inputs: `money` and `other_account`. The method withdraws `money` from the current account and deposits them into `other_account`. Make sure not to deposit money in `other_account` if there aren't enough money. Below is the docstring for this method. (6 points)\n",
    "\n",
    "        \"\"\"Transfer money to another account if there are enough money.\n",
    "        \n",
    "        Parameters\n",
    "        ----------\n",
    "        money : float\n",
    "            Amount of money to transfer.\n",
    "        \n",
    "        account : object\n",
    "            Instance Account class where to transfer money.\n",
    "        \"\"\"\n",
    "    "
   ]
  },
  {
   "cell_type": "code",
   "execution_count": null,
   "metadata": {
    "ExecuteTime": {
     "end_time": "2022-10-25T16:52:14.525458Z",
     "start_time": "2022-10-25T16:52:14.520493Z"
    },
    "code_folding": [],
    "pycharm": {
     "name": "#%%\n"
    }
   },
   "outputs": [],
   "source": [
    "# Put your code here\n",
    "class Customer:\n",
    "    \"\"\"Customer class. It is used to keep track of customers'data\n",
    "    \n",
    "    Attributes\n",
    "    ----------\n",
    "    name: string\n",
    "        customer's name. first and last name\n",
    "    \n",
    "    address: string\n",
    "        Email address where to reach the customer.\n",
    "    \n",
    "    ssn: string\n",
    "        Social Security number of the customer.\n",
    "    \"\"\"\n",
    "    \n",
    "    def __init__(self, name, address, ssn):\n",
    "        \"\"\" Initialize the customer with their data.\n",
    "        \n",
    "        Parameters\n",
    "        ----------\n",
    "        name: string\n",
    "            customer's name. first and last name\n",
    "    \n",
    "        address: string\n",
    "            Email address where to reach the customer.\n",
    "    \n",
    "        ssn: string\n",
    "            Social Security number of the customer.\n",
    "        \"\"\"\n",
    "        \n",
    "        # Put your code here and remove pass\n",
    "        pass \n",
    "\n",
    "        \n",
    "class Account:\n",
    "    \"\"\"Bank Account class. \n",
    "    \n",
    "    Attributes\n",
    "    ----------\n",
    "    \n",
    "    number: string\n",
    "        account number.\n",
    "    \n",
    "    atype: string\n",
    "        type of account. Savings or Checking.\n",
    "    \n",
    "    amount: float\n",
    "        Amount of money.\n",
    "    \n",
    "    \"\"\"\n",
    "    \n",
    "    def __init__(self, number, owner, acct_type, initial_amount = 0.0):\n",
    "        \"\"\"Initialize the attributes of the class.\n",
    "        \n",
    "        Parameters\n",
    "        ----------\n",
    "        number : string or integer\n",
    "            Account number.\n",
    "        \n",
    "        owner : object\n",
    "            Account owner. It is an instance of Customer object. \n",
    "           \n",
    "        acct_type: string\n",
    "            Account type. It can be savings or checking.\n",
    "        \n",
    "        initial_amount: float\n",
    "            Initial amount of money in the account.\n",
    "        \n",
    "        \"\"\"\n",
    "        self.number = number\n",
    "        self.atype = acct_type\n",
    "        self.total_amount = initial_amount\n",
    "        \n",
    "        assert isinstance(owner, Customer), \"owner option is not an instance of the Customer class. Try again.\"\n",
    "        self.owner = owner\n",
    "        \n",
    "        \n",
    "    def get_acct_amount(self):\n",
    "        \"\"\"Returns the amount of money in the account.\"\"\"\n",
    "        return self.total_amount\n",
    "    \n",
    "    def print_acct_amount(self):\n",
    "        \"\"\"Print the amount of money in the account.\"\"\"\n",
    "        \n",
    "    def set_acct_number(self, number):\n",
    "        \"\"\"Set the account number.\"\"\"\n",
    "        self.number = number\n",
    "    \n",
    "    def get_acct_number(self):\n",
    "        \"\"\"Returns the number of the account.\"\"\"\n",
    "        return self.number\n",
    "\n",
    "    def deposit(self, amount):\n",
    "        \"\"\"Deposit money into the account amount.\n",
    "        \n",
    "        Parameters\n",
    "        ----------\n",
    "        amount : float\n",
    "            Amount to be deposited.\n",
    "        \n",
    "        \"\"\"\n",
    "        \n",
    "        self.total_amount += amount\n",
    "        \n",
    "    def withdraw(self, amount):\n",
    "        \"\"\"Remove money from the account amount.\n",
    "        \n",
    "        Parameters\n",
    "        ----------\n",
    "        amount : float\n",
    "            Amount to be withdrawn.\n",
    "        \n",
    "        \"\"\"\n",
    "        # Put your code here\n",
    "        pass\n",
    " \n",
    "    \n",
    "    # Put the new method here\n",
    "        "
   ]
  },
  {
   "cell_type": "code",
   "execution_count": 2,
   "metadata": {
    "ExecuteTime": {
     "end_time": "2022-10-25T18:01:40.014584Z",
     "start_time": "2022-10-25T18:01:40.008201Z"
    },
    "code_folding": []
   },
   "outputs": [],
   "source": [
    "### ANSWER\n",
    "\n",
    "class Customer:\n",
    "    \"\"\"Customer class. It is used to keep track of customers'data\n",
    "    \n",
    "    Attributes\n",
    "    ----------\n",
    "    name: string\n",
    "        customer's name. first and last name\n",
    "    \n",
    "    address: string\n",
    "        Email address where to reach the customer.\n",
    "    \n",
    "    ssn: string\n",
    "        Social Security number of the customer.\n",
    "    \"\"\"\n",
    "    \n",
    "    def __init__(self, name, address, ssn):\n",
    "        \"\"\" Initialize the customer with their data.\n",
    "        \n",
    "        Parameters\n",
    "        ----------\n",
    "        name: string\n",
    "            customer's name. first and last name\n",
    "    \n",
    "        address: string\n",
    "            Email address where to reach the customer.\n",
    "    \n",
    "        ssn: string\n",
    "            Social Security number of the customer.\n",
    "        \"\"\"\n",
    "        \n",
    "        # Put your code here and remove pass\n",
    "        self.name = name\n",
    "        self.address = address\n",
    "        self.ssn = ssn\n",
    "\n",
    "        \n",
    "class Account:\n",
    "    \"\"\"Bank Account class. \n",
    "    \n",
    "    Attributes\n",
    "    ----------\n",
    "    \n",
    "    number: string\n",
    "        account number.\n",
    "    \n",
    "    atype: string\n",
    "        type of account. Savings or Checking.\n",
    "    \n",
    "    amount: float\n",
    "        Amount of money.\n",
    "    \n",
    "    \"\"\"\n",
    "    \n",
    "    def __init__(self, number, owner, acct_type, initial_amount = 0.0):\n",
    "        \"\"\"Initialize the attributes of the class.\n",
    "        \n",
    "        Parameters\n",
    "        ----------\n",
    "        number : int\n",
    "            Account number.\n",
    "        \n",
    "        owner : object\n",
    "            Account owner. It is an instance of Customer object. \n",
    "            \n",
    "        acct_type: string\n",
    "            Account type. It can be savings or checking.\n",
    "        \n",
    "        initial_amount: float\n",
    "            Initial amount of money in the account.\n",
    "        \n",
    "        \"\"\"\n",
    "        self.number = number\n",
    "        self.atype = acct_type\n",
    "        self.total_amount  = initial_amount\n",
    "        \n",
    "        assert isinstance(owner, Customer), \"owner option is not an instance of the Customer class. Try again.\"\n",
    "        self.owner = owner\n",
    "\n",
    "    def get_acct_amount(self):\n",
    "        \"\"\"Returns the amount of money in the account.\"\"\"\n",
    "        return self.total_amount\n",
    "    \n",
    "    def print_acct_amount(self):\n",
    "        \"\"\"Print the amount of money in the account.\"\"\"\n",
    "        print(f\"The current amount is :{self.get_amount():.2f}\")       \n",
    "   \n",
    "    def set_acct_number(self, number):\n",
    "        \"\"\"Set the account number.\"\"\"\n",
    "        self.number = number\n",
    "    \n",
    "    def get_acct_number(self):\n",
    "        \"\"\"Returns the number of the account.\"\"\"\n",
    "        return self.number\n",
    "\n",
    "    def deposit(self, amount):\n",
    "        \"\"\"Deposit money into the account amount.\n",
    "        \n",
    "        Parameters\n",
    "        ----------\n",
    "        amount : float\n",
    "            Amount to be deposited.\n",
    "        \n",
    "        \"\"\"\n",
    "        \n",
    "        self.total_amount += amount\n",
    "        \n",
    "    def withdraw(self, amount):\n",
    "        \"\"\"Remove money from the account amount.\n",
    "        \n",
    "        Parameters\n",
    "        ----------\n",
    "        amount : float\n",
    "            Amount to be withdrawn.\n",
    "        \n",
    "        Returns\n",
    "        -------\n",
    "        True if there are enough money in the account\n",
    "        \n",
    "        False if there are not enough money in the account\n",
    "        \n",
    "        \"\"\"\n",
    "        # 1 point if statement\n",
    "        # 1 point correct conditional\n",
    "        # 1 point substraction inside the statement\n",
    "        # 1 point print statement inside the statement\n",
    "        # 2 point boolean return\n",
    "        if amount <= self.total_amount:\n",
    "            self.total_amount -= amount\n",
    "            return True\n",
    "        else:\n",
    "            print(\"Nope! You ain't got enough money\")\n",
    "            return False\n",
    " \n",
    "    def close_acct(self):\n",
    "        \"\"\"Close out the account by setting the total amount to zero.\"\"\"\n",
    "        self.total_amount = 0.0\n",
    "        self.status = \"closed\"\n",
    "    \n",
    "    def transfer_to(self, money, other_account):\n",
    "        \"\"\"Transfer money to another account if there are enough money.\n",
    "        \n",
    "        Parameters\n",
    "        ----------\n",
    "        money : float\n",
    "            Amount of money to transfer.\n",
    "        \n",
    "        other_account : object\n",
    "            Instance of Account class where to transfer money.\n",
    "        \"\"\"\n",
    "        # Put your code here\n",
    "        if self.withdraw(money):\n",
    "            other_account.deposit(money)\n",
    "        \n",
    "        # 1 point for indentantion\n",
    "        # 2 point for correct inputs\n",
    "        # 1 point for if statement\n",
    "        # 1 point for withdrawing\n",
    "        # 1 point for depositing\n",
    "   "
   ]
  },
  {
   "cell_type": "markdown",
   "metadata": {},
   "source": [
    "## Test your code\n",
    "\n",
    "Let's check that the code works. Run the following cell and you should get the following output\n",
    "\n",
    "        Customer's name is Scrouge McDuck and can be reached at mcducksc21@disney.com\n",
    "        The total amount in the checking account is: 1.00e+06\n",
    "        Nope! You ain't got enough money\n",
    "        The total amount in the checking account is: 8.00e+05\n",
    "        The total amount in the savings account is: 2.00e+05\n",
    "\n",
    "\n",
    "If it throws an error go back and fix the code or move on."
   ]
  },
  {
   "cell_type": "code",
   "execution_count": 3,
   "metadata": {
    "ExecuteTime": {
     "end_time": "2022-10-25T18:01:41.041546Z",
     "start_time": "2022-10-25T18:01:41.037222Z"
    }
   },
   "outputs": [
    {
     "name": "stdout",
     "output_type": "stream",
     "text": [
      "Customer's name is Scrouge McDuck and can be reached at mcducksc21@disney.com\n",
      "The total amount in the checking account is: 3.00e+06\n",
      "Nope! You ain't got enough money\n",
      "The total amount in the checking account is: 2.40e+06\n",
      "The total amount in the savings account is: 6.00e+05\n"
     ]
    }
   ],
   "source": [
    "# Run the following cell to test your code\n",
    "# np.random.seed(12398412)\n",
    "scrooge = Customer(name = \"Scrouge McDuck\", address = \"mcducksc21@disney.com\", ssn = \"123 456 789\")\n",
    "print(f\"Customer's name is {scrooge.name} and can be reached at {scrooge.address}\")\n",
    "\n",
    "\n",
    "check_acct = Account(\n",
    "    number = str(np.random.randint(321654987)),\n",
    "    owner = scrooge,\n",
    "    acct_type = \"checking\"              )\n",
    "\n",
    "check_acct.deposit(3e6)\n",
    "\n",
    "print(f\"The total amount in the checking account is: {check_acct.get_acct_amount():.2e}\")\n",
    "\n",
    "savings_acct = Account(\n",
    "    number = str(np.random.randint(321654987)),\n",
    "    owner = scrooge,\n",
    "    acct_type = \"savings\"              )\n",
    "\n",
    "check_acct.transfer_to(money = 5.0e6, other_account = savings_acct)\n",
    "\n",
    "\n",
    "check_acct.transfer_to(money = 0.6e6, other_account = savings_acct)\n",
    "\n",
    "\n",
    "print(f\"The total amount in the checking account is: {check_acct.get_acct_amount():.2e}\")\n",
    "print(f\"The total amount in the savings account is: {savings_acct.get_acct_amount():.2e}\")\n"
   ]
  },
  {
   "cell_type": "markdown",
   "metadata": {},
   "source": [
    "&#9989; **Question 4.2 (11 points)**: In the following cell there is a draft of a bank class, you need to complete it. \n",
    "\n",
    "Do the following\n",
    "\n",
    "- complete the `create_account` method. The method creates a new `Account` object and stores it into the `_accounts` dictionary by using the account number as `key`. Use `np.random.randint(321485)` as the account number. The method takes in:\n",
    "    - `customer_name` a string that is used as the `key` of the `_customers` dictionary\n",
    "    - `acct_type` a string that is used to define the account type\n",
    "    - `initial_amount` a float \n",
    "    \n",
    "- complete the `withdraw` method. The method takes in:\n",
    "    - `customer_name` a _string_ that is used as the `key` of the `_customers` dictionary\n",
    "    - `account_number` a _string_ or _integer_ that is used to find the account number in the dictionary of accounts\n",
    "    - `amount` a _float_.\n",
    "    \n",
    "    The method withdraws `amount` from the customer's account. Remember the account number is the `key` for the `_accounts` dictionary and adds a line to the ledger with the transaction information.\n",
    "    \n",
    "    However, if there aren't enough money in the account no line will be added to the ledger \n",
    "\n",
    "\n",
    "    "
   ]
  },
  {
   "cell_type": "code",
   "execution_count": null,
   "metadata": {
    "ExecuteTime": {
     "end_time": "2022-10-25T16:52:17.017810Z",
     "start_time": "2022-10-25T16:52:17.013899Z"
    },
    "code_folding": [
     57
    ]
   },
   "outputs": [],
   "source": [
    "class Bank:\n",
    "    \n",
    "    def __init__(self, name, routing_number):\n",
    "        self._name = name\n",
    "        self._routing_number = routing_number\n",
    "        self._ledger = []        # list of transaction \n",
    "        self._customers = dict() # Dictionary of objects\n",
    "        self._accounts = dict()  # Dictionary of objects\n",
    "    \n",
    "    def add_customer(self, customer):\n",
    "        \"\"\"Add the customer to the dictionary of customers.\n",
    "        Use the customer's name as the key of the dictionary.\n",
    "        \n",
    "        Parameters\n",
    "        ----------\n",
    "        customer: object\n",
    "            Customer to be added \n",
    "        \"\"\"\n",
    "        \n",
    "        self._customers[customer.name] = customer\n",
    "    \n",
    "    def create_account(self, customer_name, acc_type, initial_amount=0.0):\n",
    "        \"\"\"Create a new account and add it to the dictionary of accounts.\n",
    "        Use the account number as the key of the dictionary.\n",
    "        \n",
    "        Parameters\n",
    "        ----------\n",
    "        customer_name : string\n",
    "            Owner of the account. It is an instance of the Customer class\n",
    "        \n",
    "        acc_type : string\n",
    "            Type of account.\n",
    "        \n",
    "        initial_amount : float\n",
    "            Initial amount to deposit. Default is 0.0\n",
    "        \n",
    "        \"\"\"\n",
    "        # Put your code here\n",
    "        \n",
    "        self._ledger.append(f\"Account # {insert account number here} created by {customer_name} with ${initial_amount}\")\n",
    "\n",
    "        \n",
    "    def withdraw(self, customer_name, account_number, amount):\n",
    "        \"\"\"Withdraw money from the account and save the transaction into a ledger.\n",
    "        Use the account number as the key of the dictionary.\n",
    "        \n",
    "        Parameters\n",
    "        ----------\n",
    "        customer_name : string\n",
    "            Owner of the account. It is an instance of the Customer class\n",
    "        \n",
    "        account_number : string or integer\n",
    "            Account number.\n",
    "            \n",
    "        amount : float\n",
    "            amount to withdraw.\n",
    "        \"\"\"\n",
    "        \n",
    "        # Put your code here\n",
    "        \n",
    "        self._ledger.append(f\"{customer_name} deposited ${amount} into acc # {account_number}\")\n",
    "\n",
    "    \n",
    "    "
   ]
  },
  {
   "cell_type": "code",
   "execution_count": null,
   "metadata": {
    "ExecuteTime": {
     "end_time": "2022-10-25T17:03:40.544458Z",
     "start_time": "2022-10-25T17:03:40.539211Z"
    },
    "code_folding": [
     60
    ]
   },
   "outputs": [],
   "source": [
    "### ANSWER\n",
    "\n",
    "class Bank:\n",
    "    \n",
    "    def __init__(self, name, routing_number):\n",
    "        self._name = name\n",
    "        self._routing_number = routing_number\n",
    "        self._ledger = []        # list of transaction \n",
    "        self._customers = dict() # Dictionary of objects\n",
    "        self._accounts = dict()  # Dictionary of objects\n",
    "    \n",
    "    def add_customer(self, customer):\n",
    "        \"\"\"Add the customer to the dictionary of customers.\n",
    "        Use the customer's name as the key of the dictionary.\n",
    "        \n",
    "        Parameters\n",
    "        ----------\n",
    "        customer: object\n",
    "            Customer to be added \n",
    "        \"\"\"\n",
    "        \n",
    "        self._customers[customer.name] = customer\n",
    "    \n",
    "    def create_account(self, customer_name, acc_type, initial_amount=0.0):\n",
    "        \"\"\"Create a new account and add it to the dictionary of accounts.\n",
    "        Use the account number as the key of the dictionary.\n",
    "        \n",
    "        Parameters\n",
    "        ----------\n",
    "        customer_name : string\n",
    "            Owner of the account. It is an instance of the Customer class\n",
    "        \n",
    "        acc_type : string\n",
    "            Type of account.\n",
    "        \n",
    "        initial_amount : float\n",
    "            Initial amount to deposit. Default is 0.0\n",
    "        \n",
    "        \"\"\"\n",
    "        # Put your code here\n",
    "        person = self._customers[customer_name] # 1 point\n",
    "        #1 point account creation, \n",
    "        # 1 point for correct inputs\n",
    "        acct = Account(np.random.randint(321485), person, acc_type, initial_amount) \n",
    "        \n",
    "        # 1 point for appending\n",
    "        # 1 point for using the correct number\n",
    "        # 1 point for appending an object\n",
    "        self._accounts[acct.number] = acct\n",
    "        # 1 point for filling the formats\n",
    "        self._ledger.append(f\"Account # {acct.number} created by {customer_name} with ${initial_amount}\")\n",
    "        \n",
    "    def deposit(self, customer_name, account_number, amount):\n",
    "        \"\"\"Deposit money in the account and save the transaction into a ledger.\n",
    "        Use the account number as the key of the dictionary.\n",
    "        \n",
    "        Parameters\n",
    "        ----------\n",
    "        customer_name : string\n",
    "            Owner of the account. It is an instance of the Customer class\n",
    "        \n",
    "        account_number : integer\n",
    "            Type of account.\n",
    "        \n",
    "        amount : float\n",
    "            amount to deposit.\n",
    "        \n",
    "        \"\"\"\n",
    "        self._accounts[account_number].deposit(amount) # 3 points. key and deposit call\n",
    "        self._ledger.append(f\"{customer_name} deposited ${amount} into acc # {account_number}\")\n",
    "    \n",
    "    def withdraw(self, customer_name, account_number, amount):\n",
    "        \"\"\"Withdraw money from the account and save the transaction into a ledger.\n",
    "        Use the account number as the key of the dictionary.\n",
    "        \n",
    "        Parameters\n",
    "        ----------\n",
    "        customer_name : string\n",
    "            Owner of the account. It is an instance of the Customer class\n",
    "        \n",
    "        account_number : string\n",
    "            Type of account.\n",
    "            \n",
    "        amount : float\n",
    "            amount to withdraw.\n",
    "        \n",
    "        \"\"\"\n",
    "        rt = self._accounts[account_number].withdraw(amount) # 3 points. key and withdraw call\n",
    "        if rt: # 1 point for if statement\n",
    "            self._ledger.append(f\"{customer_name} withdrew ${amount} from acc # {account_number}\") \n",
    "        "
   ]
  },
  {
   "cell_type": "markdown",
   "metadata": {},
   "source": [
    "## Test your code\n",
    "\n",
    "Let's check that the code works. Run the following cell and you should get the following output\n",
    "If it throws an error go back and fix the code or move on."
   ]
  },
  {
   "cell_type": "code",
   "execution_count": null,
   "metadata": {
    "ExecuteTime": {
     "end_time": "2022-10-25T17:12:31.599314Z",
     "start_time": "2022-10-25T17:12:31.596282Z"
    }
   },
   "outputs": [],
   "source": [
    "caveau = Bank(\"banca\", \"132 698\")\n",
    "caveau.add_customer(scrooge)\n",
    "caveau.create_account(scrooge.name, \"checking\", 5e6)\n",
    "caveau._ledger"
   ]
  },
  {
   "cell_type": "markdown",
   "metadata": {
    "ExecuteTime": {
     "end_time": "2022-10-13T04:47:40.616170Z",
     "start_time": "2022-10-13T04:47:40.613528Z"
    }
   },
   "source": [
    "&#9989; **Question 4.2.1 (4 points):** In the next cell use `caveau` to have Scrouge McDuck withdraw $ 7000000 from the account whose number is given in the output of the cell above.\n",
    "Then print the `_ledger`"
   ]
  },
  {
   "cell_type": "code",
   "execution_count": null,
   "metadata": {
    "ExecuteTime": {
     "end_time": "2022-10-25T17:12:32.288563Z",
     "start_time": "2022-10-25T17:12:32.286984Z"
    }
   },
   "outputs": [],
   "source": [
    "# Put your code here"
   ]
  },
  {
   "cell_type": "code",
   "execution_count": null,
   "metadata": {
    "ExecuteTime": {
     "end_time": "2022-10-25T17:12:44.012309Z",
     "start_time": "2022-10-25T17:12:44.009175Z"
    }
   },
   "outputs": [],
   "source": [
    "### ANSWER \n",
    "caveau.withdraw(scrooge.name, 219392, 7e6) # 3 points\n",
    "caveau._ledger #1 point"
   ]
  },
  {
   "cell_type": "markdown",
   "metadata": {
    "pycharm": {
     "name": "#%% md\n"
    }
   },
   "source": [
    "### &#128721; STOP\n",
    "**Pause to commit your changes to your local `git` repository! (1 point)**\n",
    "\n",
    "Take a moment to save your notebook, commit the changes to your local `git` repository using the commit message \"**Committing Part 4**\".\n",
    "\n",
    "---"
   ]
  },
  {
   "cell_type": "markdown",
   "metadata": {
    "pycharm": {
     "name": "#%% md\n"
    }
   },
   "source": [
    "---\n",
    "<a id=\"part5\"></a>\n",
    "[Back to ToC](#toc)\n",
    "\n",
    "# Part 5. Conclusion (3 points)\n",
    "\n",
    "Make sure all of your changes to your repository are committed and pushed to GitHub. \n",
    "Before you leave\n",
    "\n",
    "1. Have you added your name and github username at the top of this notebook? ? (1 point)\n",
    "\n",
    "2. Push the changes to your GitHub repository (1 point)\n",
    "\n",
    "3. Upload your notebook to D2L in case something went wrong with your repository or if you couldn't get the repository to work.  (1 point)"
   ]
  },
  {
   "cell_type": "markdown",
   "metadata": {
    "pycharm": {
     "name": "#%% md\n"
    }
   },
   "source": [
    "# You're done! Congrats on finishing your CMSE 202 Midterm!\n",
    "\n",
    "\n",
    "![Moira2](https://media.giphy.com/media/d1E2HnwywoTkES08/giphy.gif)"
   ]
  },
  {
   "cell_type": "code",
   "execution_count": null,
   "metadata": {
    "ExecuteTime": {
     "end_time": "2022-10-13T05:47:34.039516Z",
     "start_time": "2022-10-13T05:47:34.036835Z"
    },
    "pycharm": {
     "name": "#%%\n"
    }
   },
   "outputs": [],
   "source": [
    "# FINAL GRADE (Instructor's use only)\",\n",
    "parts = [part_0, part_1, part_2, part_3, part_4]\n",
    "print(f\"Part 0: {part_0}/{grades[0]}\")\n",
    "print(f\"Part 1: {part_1}/{grades[1]}\")\n",
    "print(f\"Part 2: {part_2}/{grades[2]}\")\n",
    "print(f\"Part 3: {part_3}/{grades[3]}\")\n",
    "print(f\"Part 4: {part_4}/{grades[4]}\")\n",
    "print(f\"Part 5: {part_5}/{grades[5]}\")\n",
    "\n",
    "total = sum(parts)\n",
    "print(f\"Your final grade is {total}\")"
   ]
  },
  {
   "cell_type": "markdown",
   "metadata": {
    "pycharm": {
     "name": "#%% md\n"
    }
   },
   "source": [
    "&#169; Copyright 2022,  Department of Computational Mathematics, Science and Engineering at Michigan State University"
   ]
  }
 ],
 "metadata": {
  "kernelspec": {
   "display_name": "Python 3",
   "language": "python",
   "name": "python3"
  },
  "language_info": {
   "codemirror_mode": {
    "name": "ipython",
    "version": 3
   },
   "file_extension": ".py",
   "mimetype": "text/x-python",
   "name": "python",
   "nbconvert_exporter": "python",
   "pygments_lexer": "ipython3",
   "version": "3.8.8"
  },
  "latex_envs": {
   "LaTeX_envs_menu_present": true,
   "autoclose": false,
   "autocomplete": true,
   "bibliofile": "biblio.bib",
   "cite_by": "apalike",
   "current_citInitial": 1,
   "eqLabelWithNumbers": true,
   "eqNumInitial": 1,
   "hotkeys": {
    "equation": "Ctrl-E",
    "itemize": "Ctrl-I"
   },
   "labels_anchors": false,
   "latex_user_defs": false,
   "report_style_numbering": false,
   "user_envs_cfg": false
  },
  "widgets": {
   "application/vnd.jupyter.widget-state+json": {
    "state": {},
    "version_major": 2,
    "version_minor": 0
   }
  }
 },
 "nbformat": 4,
 "nbformat_minor": 4
}
