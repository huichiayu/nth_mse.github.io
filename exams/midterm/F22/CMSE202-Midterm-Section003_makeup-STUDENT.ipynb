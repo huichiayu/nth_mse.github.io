{
 "cells": [
  {
   "cell_type": "markdown",
   "metadata": {
    "pycharm": {
     "name": "#%% md\n"
    }
   },
   "source": [
    "### <p style=\"text-align: right;\"> &#9989; Put your name here.</p>\n",
    "### <p style=\"text-align: right;\"> &#9989; Put your _GitHub username_ here.</p>"
   ]
  },
  {
   "cell_type": "markdown",
   "metadata": {
    "pycharm": {
     "name": "#%% md\n"
    }
   },
   "source": [
    "# CMSE 202 Midterm (Section 003 - Fall 2022)\n",
    "\n",
    "The goal of this midterm is to give you the opportunity to test out some of the skills that you've developed thus far this semester. In particular, you'll practice setting up a GitHub repository, committing and pushing repository changes, downloading data with command line tools, performing some data analysis, possibly using a new Python package, and writing a python class. You should find that you have all of the skills necessary to complete this exam with even just eight weeks of CMSE 202 under your belt!\n",
    "\n",
    "You are encouraged to look through the entire exam before you get started so that you can appropriately budget your time and understand the broad goals of the exam. Once you've read through it, **try doing Part 1 first so that you have your repository set up and you download all necessary data files as they will be necessary to complete the assigned tasks. Let your instructor know right away if you have problems downloading the data!**\n",
    "\n",
    "The exam is set up so that even if you get stuck on one part there are opportunities to get points on the other parts, so consider jumping ahead if you feel like you aren't making progress and then come back later if you have time.\n",
    "\n",
    "**Important note about using online resources**: This exam is \"open internet\". That means that you can look up documentation, google how to accomplish certain Python tasks, etc. Being able to effectively use the internet for computational modeling and data science is a very important skill, so we want to make sure you have the opportunity to exercise that skill. **However**: The use of any person-to-person communication software is absolutely not acceptable. If you are seen accessing your email, using a chat program (e.g. Slack), or any sort of collaborative cloud storage or document software (e.g. Google Documents), you will be at risk for receiving a zero on the exam.\n",
    "\n",
    "**Keep your eyes on your screen!** Unfortunately, there isn't enough space in the room for everyone to sit at their own table so please do your best to keep your eyes on your own screen. This exam is designed to give *you* the opportunity to show the instructor what you can do and you should hold yourself accountable for maintaining a high level of academic integrity. If any of the instructors observe suspicious behavior, you will, again, risk receiving a zero.\n"
   ]
  },
  {
   "cell_type": "markdown",
   "metadata": {
    "pycharm": {
     "name": "#%% md\n"
    }
   },
   "source": [
    "![Moira](https://media.giphy.com/media/26gs78HRO8sOuhTkQ/giphy.gif)"
   ]
  },
  {
   "cell_type": "markdown",
   "metadata": {
    "pycharm": {
     "name": "#%% md\n"
    }
   },
   "source": [
    "---\n",
    "# &#128721; READ EVERYTHING CAREFULLY"
   ]
  },
  {
   "cell_type": "code",
   "execution_count": null,
   "metadata": {
    "ExecuteTime": {
     "end_time": "2022-10-25T17:43:37.586704Z",
     "start_time": "2022-10-25T17:43:36.010678Z"
    }
   },
   "outputs": [],
   "source": [
    "# RUN THIS CELL \n",
    "%pylab\n",
    "%matplotlib inline\n",
    "\n",
    "import pandas as pd\n",
    "import seaborn as sns\n",
    "\n",
    "sns.set_context(\"talk\")"
   ]
  },
  {
   "cell_type": "markdown",
   "metadata": {},
   "source": [
    "<a id=\"toc\"></a>\n",
    "\n",
    "## Table of contents\n",
    "\n",
    "0. [Part 0: Academic Integrity](#part0) (1 point)\n",
    "    \n",
    "1. [Part 1: Git and CLI](#part1) (9 points)\n",
    "\n",
    "2. [Part 2: Data cleaning](#part2) (28 points)\n",
    "\n",
    "3. [Part 3: Python package](#part3) (9 points)\n",
    "\n",
    "4. [Part 4: Object-Oriented Programming](#part4) (31 points)\n",
    "\n",
    "5. [Part 5: Conclusion](#part5) (3 points)\n"
   ]
  },
  {
   "cell_type": "code",
   "execution_count": null,
   "metadata": {
    "ExecuteTime": {
     "end_time": "2022-10-25T18:00:26.954037Z",
     "start_time": "2022-10-25T18:00:26.950843Z"
    }
   },
   "outputs": [],
   "source": [
    "grades = [part_0, part_1, part_2, part_3, part_4, part_5 ] = [1, 9, 28, 9, 31, 3]\n",
    "\n",
    "final_grade = sum(grades)\n",
    "\n",
    "print(f\"The maximum number of points is: {final_grade}\")\n"
   ]
  },
  {
   "cell_type": "markdown",
   "metadata": {
    "pycharm": {
     "name": "#%% md\n"
    }
   },
   "source": [
    "---\n",
    "<a id=\"part0\"></a>\n",
    "[Back to ToC](#toc)\n",
    "\n",
    "# Part 0: Academic integrity statement (1 point)\n",
    "\n",
    "Read the following statement and edit the markdown text to put your name in the statement. This is your commitment to doing your own authentic work on this exam."
   ]
  },
  {
   "cell_type": "markdown",
   "metadata": {
    "pycharm": {
     "name": "#%% md\n"
    }
   },
   "source": [
    "> I, **INSERT NAME HERE**, affirm that this exam represents my own authetic work, without the use of any unpermitted aids or resources or person-to-person communication. I understand that this exam an an opportunity to showcase my own progress in developing and improving my computational skills and have done my best to demonstrate those skills."
   ]
  },
  {
   "cell_type": "markdown",
   "metadata": {
    "pycharm": {
     "name": "#%% md\n"
    }
   },
   "source": [
    "---\n",
    "<a id=\"part1\"></a>\n",
    "[Back to ToC](#toc)\n",
    "\n",
    "# Part 1: Git and Command Line Interface (9 points)\n",
    "\n",
    "Before you get to far along in the exam, you're going to add it to the `cmse202-s22-turnin` repository you created in class so that you can track your progress on the exam and preserve the final version that you turn in. \n"
   ]
  },
  {
   "cell_type": "markdown",
   "metadata": {
    "pycharm": {
     "name": "#%% md\n"
    }
   },
   "source": [
    "---\n",
    "**&#9989; **Question 1.1 (1 point)**** Navigate to your `cmse202-f22-turnin` repository and create a new directory called `midterm`. \n",
    "\n",
    "```\n",
    "Put the command you used to create the directory here (Do Not Delete the ```)\n",
    "```"
   ]
  },
  {
   "cell_type": "markdown",
   "metadata": {
    "pycharm": {
     "name": "#%% md\n"
    }
   },
   "source": [
    "---\n",
    "&#9989; **Question 1.2 (3 points)** Check the status of `git` .\n",
    "\n",
    "``` \n",
    "Put the command you used to check the status of git\n",
    "```\n",
    "\n",
    "Copy and paste below the output of the command.\n",
    "\n",
    "```\n",
    "Paste it here\n",
    "```\n",
    "\n",
    "What is the name of the branch you are in ? \n",
    "\n",
    "```\n",
    "Put your answer here\n",
    "```\n",
    "\n",
    "**Important:** If you are not in the `main` branch change to your `main` branch. \n",
    "\n",
    "Once in the main branch move this notebook into that **new directory** in your repository."
   ]
  },
  {
   "cell_type": "markdown",
   "metadata": {
    "pycharm": {
     "name": "#%% md\n"
    }
   },
   "source": [
    "---\n",
    "&#9989; **Question 1.3 (3 points):**\n",
    "Add your name and GitHub username to the top of the notebook, then add and commit **ONLY** the notebook.\n",
    "\n",
    "```\n",
    "Put the command(s) to add and commit here \n",
    "```\n",
    "\n",
    "What is the commit message you used ?\n",
    "\n",
    "```\n",
    "Answer the question here\n",
    "```"
   ]
  },
  {
   "cell_type": "markdown",
   "metadata": {
    "pycharm": {
     "name": "#%% md\n"
    }
   },
   "source": [
    "---\n",
    "&#9989; **Question 1.4 (1 point):** Before moving on. Check that the notebook you are working on is the correct one. Run the following cell. **Are you in the new folder you just created?** If not close this notebook and open the one in the midterm folder\n"
   ]
  },
  {
   "cell_type": "code",
   "execution_count": null,
   "metadata": {
    "ExecuteTime": {
     "end_time": "2022-10-13T16:00:43.042311Z",
     "start_time": "2022-10-13T16:00:42.888368Z"
    },
    "pycharm": {
     "name": "#%%\n"
    }
   },
   "outputs": [],
   "source": [
    "!pwd"
   ]
  },
  {
   "cell_type": "markdown",
   "metadata": {
    "pycharm": {
     "name": "#%% md\n"
    }
   },
   "source": [
    "---\n",
    "&#9989; **Question 1.5 (1 point):**\n",
    "Finally push the updated repo to GitHub.\n",
    "\n",
    "```\n",
    "Put the command you used to push to GitHub here.\n",
    "```\n"
   ]
  },
  {
   "cell_type": "markdown",
   "metadata": {
    "pycharm": {
     "name": "#%% md\n"
    }
   },
   "source": [
    "---\n",
    "<a id=\"part2\"></a>\n",
    "[Back to ToC](#toc)\n",
    "\n",
    "# Part 2: Downloading and analyzing unfamiliar data (28 points)\n",
    "\n",
    "For this part of the exam, you're to download and analyze a dataset that you've likely not looked at before. You'll perform some simple, exploratorary analysis and create basic visualizations."
   ]
  },
  {
   "cell_type": "markdown",
   "metadata": {
    "pycharm": {
     "name": "#%% md\n"
    }
   },
   "source": [
    "In particular, you're going to be working with a dataset that contains data on the US energy consumption and production. \n",
    "\n",
    "Download the file from D2L\n",
    "\n"
   ]
  },
  {
   "cell_type": "markdown",
   "metadata": {
    "pycharm": {
     "name": "#%% md\n"
    }
   },
   "source": [
    "&#9989; **Question 2.1 (4 points)**: To get started, **read in the `gas_prices_dataset.xls` dataset**. \n",
    "Do this\n",
    "\n",
    "1. Use the [`read_excel`](https://pandas.pydata.org/docs/reference/api/pandas.read_excel.html) function in `pandas` to read in *only the sheet named \"Data 1\"* and by *skipping the first 2 rows*\n",
    "\n",
    "2. print the first 5 rows \n",
    "\n"
   ]
  },
  {
   "cell_type": "code",
   "execution_count": null,
   "metadata": {
    "ExecuteTime": {
     "end_time": "2022-10-25T17:15:23.923013Z",
     "start_time": "2022-10-25T17:15:23.921432Z"
    },
    "pycharm": {
     "name": "#%%\n"
    }
   },
   "outputs": [],
   "source": [
    "# Put your code here"
   ]
  },
  {
   "cell_type": "markdown",
   "metadata": {},
   "source": [
    "&#9989; **Question 2.2 (1 point)**: Print the `info` of the dataset"
   ]
  },
  {
   "cell_type": "code",
   "execution_count": null,
   "metadata": {
    "ExecuteTime": {
     "end_time": "2022-10-25T17:15:25.522849Z",
     "start_time": "2022-10-25T17:15:25.521082Z"
    }
   },
   "outputs": [],
   "source": [
    "# Put your code here"
   ]
  },
  {
   "cell_type": "markdown",
   "metadata": {},
   "source": [
    "&#9989; **Question 2.2.1 (3 points)**: Looking at the above outputs, answer the following questions: \n",
    "\n",
    "1. What are the types of the values in the dataset?\n",
    "2. How many rows of data does the dataset contain ? \n",
    "3. How many columns of data does the dataset contain ? "
   ]
  },
  {
   "cell_type": "markdown",
   "metadata": {},
   "source": [
    "**<font size=+3>&#9998;</font> Do This**: *Record your answers here.*\n",
    "\n"
   ]
  },
  {
   "cell_type": "markdown",
   "metadata": {},
   "source": [
    "&#9989; **Question 2.3 (2 points)**: Do the following in the same order as they are shown\n",
    "\n",
    "1. set the column `\"Date\"` as the index of the dataset"
   ]
  },
  {
   "cell_type": "code",
   "execution_count": null,
   "metadata": {
    "ExecuteTime": {
     "end_time": "2022-10-25T17:15:28.410409Z",
     "start_time": "2022-10-25T17:15:28.408864Z"
    }
   },
   "outputs": [],
   "source": [
    "# Put your code here\n"
   ]
  },
  {
   "cell_type": "markdown",
   "metadata": {},
   "source": [
    "&#9989; **Question 2.4 (3 points)**: We have too many columns, `drop` the following columns from the dataset.\n",
    "\n",
    "    Weekly Midwest All Grades All Formulations Retail Gasoline Prices  (Dollars per Gallon)\n",
    "    Weekly Midwest All Grades Conventional Retail Gasoline Prices  (Dollars per Gallon)\n",
    "    Weekly Midwest All Grades Reformulated Retail Gasoline Prices  (Dollars per Gallon)\n",
    "    Weekly Midwest Regular Conventional Retail Gasoline Prices  (Dollars per Gallon)\n",
    "    Weekly Midwest Regular Reformulated Retail Gasoline Prices  (Dollars per Gallon)\n",
    "    Weekly Midwest Midgrade Conventional Retail Gasoline Prices  (Dollars per Gallon)\n",
    "    Weekly Midwest Midgrade Reformulated Retail Gasoline Prices  (Dollars per Gallon)\n",
    "    Weekly Midwest Premium Conventional Retail Gasoline Prices  (Dollars per Gallon)\n",
    "    Weekly Midwest Premium Reformulated Retail Gasoline Prices  (Dollars per Gallon)\n",
    "    Weekly Midwest No 2 Diesel Ultra Low Sulfur (0-15 ppm) Retail Prices  (Dollars per Gallon)\n",
    "    "
   ]
  },
  {
   "cell_type": "code",
   "execution_count": null,
   "metadata": {
    "ExecuteTime": {
     "end_time": "2022-10-25T17:15:31.858803Z",
     "start_time": "2022-10-25T17:15:31.857072Z"
    }
   },
   "outputs": [],
   "source": [
    "# Put your code here\n"
   ]
  },
  {
   "cell_type": "markdown",
   "metadata": {
    "ExecuteTime": {
     "end_time": "2022-10-12T14:25:27.100803Z",
     "start_time": "2022-10-12T14:25:26.671467Z"
    }
   },
   "source": [
    "&#9989; **Question 2.4 (3 points)**: The names of the columns are too long and annoying. Replace the names of the columns with the following\n",
    "    \n",
    "    \"Regular\", \"Midgrade\", \"Premium\", \"Diesel\"\n",
    " \n",
    "using the [`rename`](https://pandas.pydata.org/docs/reference/api/pandas.DataFrame.rename.html) method. \n",
    "\n",
    "__IMPORTANT:__ I said **method** not function!"
   ]
  },
  {
   "cell_type": "code",
   "execution_count": null,
   "metadata": {
    "ExecuteTime": {
     "end_time": "2022-10-25T17:50:22.742806Z",
     "start_time": "2022-10-25T17:50:22.741029Z"
    }
   },
   "outputs": [],
   "source": [
    "# Put your code here"
   ]
  },
  {
   "cell_type": "markdown",
   "metadata": {},
   "source": [
    "&#9989; **Question 2.5 (2 points)**: As you might have seen above there are some missing values, _e.g._ NaN. \n",
    "Drop all the **rows** with the NaN value."
   ]
  },
  {
   "cell_type": "code",
   "execution_count": null,
   "metadata": {
    "ExecuteTime": {
     "end_time": "2022-10-25T17:25:09.259712Z",
     "start_time": "2022-10-25T17:25:09.257866Z"
    }
   },
   "outputs": [],
   "source": [
    "# Put your code here"
   ]
  },
  {
   "cell_type": "markdown",
   "metadata": {},
   "source": [
    "&#9989; **Question 2.7 (5 points)**: Let's make a plot! Plot all four columns against the date showing the price of gasoline type as a function of time. The plot should\n",
    "\n",
    "1. figure 10 points wide and 7 points height\n",
    "2. have a legend\n",
    "3. have a label on the x-axis"
   ]
  },
  {
   "cell_type": "code",
   "execution_count": null,
   "metadata": {
    "ExecuteTime": {
     "end_time": "2022-10-25T17:50:40.483828Z",
     "start_time": "2022-10-25T17:50:40.481929Z"
    }
   },
   "outputs": [],
   "source": [
    "# Put your code here"
   ]
  },
  {
   "cell_type": "markdown",
   "metadata": {},
   "source": [
    "&#9989; **Question 2.7.1 (3 points)**: Answer the following question. \n",
    "\n",
    "1. What is the highest price of Diesel before 2010?\n",
    "2. On what day?\n",
    "\n",
    "You need to show some code."
   ]
  },
  {
   "cell_type": "code",
   "execution_count": null,
   "metadata": {
    "ExecuteTime": {
     "end_time": "2022-10-12T19:47:49.285227Z",
     "start_time": "2022-10-12T19:47:49.283157Z"
    },
    "pycharm": {
     "name": "#%% md\n"
    }
   },
   "outputs": [],
   "source": [
    "# Put your code here"
   ]
  },
  {
   "cell_type": "markdown",
   "metadata": {
    "ExecuteTime": {
     "end_time": "2022-10-12T19:44:20.954267Z",
     "start_time": "2022-10-12T19:44:20.951255Z"
    }
   },
   "source": [
    "**<font size=+3>&#9998;</font> Do This**: *Record your answers here.*\n",
    "\n"
   ]
  },
  {
   "cell_type": "markdown",
   "metadata": {
    "pycharm": {
     "name": "#%% md\n"
    }
   },
   "source": [
    "\n",
    "### &#128721; STOP\n",
    "**Pause to commit your changes to your local `git` repository! (1 point)**\n",
    "\n",
    "Take a moment to save your notebook, commit the changes to your local `git` repository using the commit message \"**Committing Part 2**\"."
   ]
  },
  {
   "cell_type": "markdown",
   "metadata": {
    "pycharm": {
     "name": "#%% md\n"
    }
   },
   "source": [
    "---\n",
    "<a id=\"part3\"></a>\n",
    "[Back to ToC](#toc)\n",
    "\n",
    "# Part 3: Exploring a familiar Python package (10 points)\n",
    "\n",
    "In this part of the exam you will need to review a bit of documentation from a Python package that you've explored a bit this semester.\n",
    "\n",
    "<img src=https://physicstoday.scitation.org/na101/home/literatum/publisher/aip/journals/content/pto/2009/pto.2009.62.issue-8/1.3206091/production/images/medium/1.3206091.figures.f6.gif width = 400px>"
   ]
  },
  {
   "cell_type": "markdown",
   "metadata": {
    "pycharm": {
     "name": "#%% md\n"
    }
   },
   "source": [
    "&#9989; **Question 3.1 (1 point)**: Download the data from the link below.\n",
    "\n",
    "    https://raw.githubusercontent.com/msu-cmse-courses/cmse202-F22-data/main/Midterm/rho.dat"
   ]
  },
  {
   "cell_type": "code",
   "execution_count": null,
   "metadata": {
    "ExecuteTime": {
     "end_time": "2022-10-25T17:53:55.374623Z",
     "start_time": "2022-10-25T17:53:55.372761Z"
    },
    "pycharm": {
     "name": "#%%\n"
    }
   },
   "outputs": [],
   "source": [
    "# Put here the command that you would use to download the data\n"
   ]
  },
  {
   "cell_type": "markdown",
   "metadata": {
    "pycharm": {
     "name": "#%% md\n"
    }
   },
   "source": [
    "&#9989; **Question 3.2 (1 point)**: Read the data using the [`loadtxt`](https://numpy.org/doc/stable/reference/generated/numpy.loadtxt.html) from `numpy`"
   ]
  },
  {
   "cell_type": "markdown",
   "metadata": {},
   "source": [
    "&#9989; **Question 3.3 (2 points)**: Create a 2D array of size (32, 32) from the one above by using the **method** [`reshape`](https://numpy.org/doc/stable/reference/generated/numpy.ndarray.reshape.html) of the `numpy` array\n",
    "\n",
    "__IMPORTANT:__ I said **method** not function!"
   ]
  },
  {
   "cell_type": "code",
   "execution_count": null,
   "metadata": {
    "ExecuteTime": {
     "end_time": "2022-10-25T17:43:45.622448Z",
     "start_time": "2022-10-25T17:43:45.620552Z"
    }
   },
   "outputs": [],
   "source": [
    "# Put your code here"
   ]
  },
  {
   "cell_type": "markdown",
   "metadata": {},
   "source": [
    "&#9989; **Question 3.3 (5 points)**: Use the function[`meshgrid`](https://numpy.org/doc/stable/reference/generated/numpy.meshgrid.html) to create a grid from the `u` and `v` arrays given below. Then make a plot using [`pcolormesh`](https://matplotlib.org/stable/api/_as_gen/matplotlib.pyplot.pcolormesh.html). The X values of the plot should be the grid created from the `u` array while the Y values of the plot should be the grid created from the `v` array, the C values should be the 2D array you created in *Question 3.2*. \n",
    "\n",
    "In addition, add a colorbar to the plot using the [`colorbar`](https://matplotlib.org/stable/api/_as_gen/matplotlib.pyplot.colorbar.html) function\n",
    "\n",
    "Complete the code below to make the plot. You might want to google to find examples. Note though that some examples might tell you to create a new axis for the plot, you don't need to. "
   ]
  },
  {
   "cell_type": "code",
   "execution_count": null,
   "metadata": {
    "ExecuteTime": {
     "end_time": "2022-10-25T17:43:46.782727Z",
     "start_time": "2022-10-25T17:43:46.779791Z"
    }
   },
   "outputs": [],
   "source": [
    "# Complete this part\n",
    "\n",
    "L = 3.978\n",
    "\n",
    "u = np.linspace(0, L, 32)\n",
    "v = np.linspace(0, L, 32)\n",
    "\n",
    "# Create the x and y grids here using np.meshgrid\n",
    "\n",
    "\n",
    "fig, ax = plt.subplots(1,1, figsize = (10,8))\n",
    "\n",
    "p1 = # Make your pcolormesh here and call it p1\n",
    "\n",
    "# Add your colorbar here \n",
    "\n",
    "plt.show()"
   ]
  },
  {
   "cell_type": "markdown",
   "metadata": {
    "pycharm": {
     "name": "#%% md\n"
    }
   },
   "source": [
    "### &#128721; STOP\n",
    "**Pause to commit your changes to your local `git` repository! (1 point)**\n",
    "\n",
    "Take a moment to save your notebook, commit the changes to your local `git` repository using the commit message \"**Committing Part 3**\".\n",
    "\n",
    "---"
   ]
  },
  {
   "cell_type": "markdown",
   "metadata": {
    "pycharm": {
     "name": "#%% md\n"
    }
   },
   "source": [
    "<a id=\"part4\"></a>\n",
    "[Back to ToC](#toc)\n",
    "\n",
    "# Part 4: Object-Oriented Programming (31 points)\n",
    "\n",
    "\n",
    "\n",
    "<img src=https://upload.wikimedia.org/wikipedia/en/1/18/Scroogemoney.jpg  width=400px align=center >"
   ]
  },
  {
   "cell_type": "markdown",
   "metadata": {
    "pycharm": {
     "name": "#%% md\n"
    }
   },
   "source": [
    "&#9989; **Question 4.1 (15 points)**: The following cell contains two classes one represent a bank account and another representing a possible customer. \n",
    "\n",
    "Do the following\n",
    "\n",
    "- complete the `__init__` method of the customer class. This method needs only store the values of the input into three attributes (3 points)\n",
    "\n",
    "\n",
    "- complete the `withdraw` method. This method takes in `amount` (a float) checks whether there are enough money in the account. If the `amount` to be withdrawn is more than the `total_amount` then it prints the message `Nope! You ain't got enough money` and returns `False`. Otherwise it substract `amount` from the `total_amount` and returns `True`. (6 points)\n",
    "\n",
    "\n",
    "- write a new method called `transfer_to` for transfering money to another account. This method takes in two inputs: `money` and `other_account`. The method withdraws `money` from the current account and deposits them into `other_account`. Make sure not to deposit money in `other_account` if there aren't enough money. Below is the docstring for this method. (6 points)\n",
    "\n",
    "        \"\"\"Transfer money to another account if there are enough money.\n",
    "        \n",
    "        Parameters\n",
    "        ----------\n",
    "        money : float\n",
    "            Amount of money to transfer.\n",
    "        \n",
    "        account : object\n",
    "            Instance Account class where to transfer money.\n",
    "        \"\"\"\n",
    "    "
   ]
  },
  {
   "cell_type": "code",
   "execution_count": null,
   "metadata": {
    "ExecuteTime": {
     "end_time": "2022-10-25T16:52:14.525458Z",
     "start_time": "2022-10-25T16:52:14.520493Z"
    },
    "code_folding": [],
    "pycharm": {
     "name": "#%%\n"
    }
   },
   "outputs": [],
   "source": [
    "# Put your code here\n",
    "class Customer:\n",
    "    \"\"\"Customer class. It is used to keep track of customers'data\n",
    "    \n",
    "    Attributes\n",
    "    ----------\n",
    "    name: string\n",
    "        customer's name. first and last name\n",
    "    \n",
    "    address: string\n",
    "        Email address where to reach the customer.\n",
    "    \n",
    "    ssn: string\n",
    "        Social Security number of the customer.\n",
    "    \"\"\"\n",
    "    \n",
    "    def __init__(self, name, address, ssn):\n",
    "        \"\"\" Initialize the customer with their data.\n",
    "        \n",
    "        Parameters\n",
    "        ----------\n",
    "        name: string\n",
    "            customer's name. first and last name\n",
    "    \n",
    "        address: string\n",
    "            Email address where to reach the customer.\n",
    "    \n",
    "        ssn: string\n",
    "            Social Security number of the customer.\n",
    "        \"\"\"\n",
    "        \n",
    "        # Put your code here and remove pass\n",
    "        pass \n",
    "\n",
    "        \n",
    "class Account:\n",
    "    \"\"\"Bank Account class. \n",
    "    \n",
    "    Attributes\n",
    "    ----------\n",
    "    \n",
    "    number: string\n",
    "        account number.\n",
    "    \n",
    "    atype: string\n",
    "        type of account. Savings or Checking.\n",
    "    \n",
    "    amount: float\n",
    "        Amount of money.\n",
    "    \n",
    "    \"\"\"\n",
    "    \n",
    "    def __init__(self, number, owner, acct_type, initial_amount = 0.0):\n",
    "        \"\"\"Initialize the attributes of the class.\n",
    "        \n",
    "        Parameters\n",
    "        ----------\n",
    "        number : string or integer\n",
    "            Account number.\n",
    "        \n",
    "        owner : object\n",
    "            Account owner. It is an instance of Customer object. \n",
    "           \n",
    "        acct_type: string\n",
    "            Account type. It can be savings or checking.\n",
    "        \n",
    "        initial_amount: float\n",
    "            Initial amount of money in the account.\n",
    "        \n",
    "        \"\"\"\n",
    "        self.number = number\n",
    "        self.atype = acct_type\n",
    "        self.total_amount = initial_amount\n",
    "        \n",
    "        assert isinstance(owner, Customer), \"owner option is not an instance of the Customer class. Try again.\"\n",
    "        self.owner = owner\n",
    "        \n",
    "        \n",
    "    def get_acct_amount(self):\n",
    "        \"\"\"Returns the amount of money in the account.\"\"\"\n",
    "        return self.total_amount\n",
    "    \n",
    "    def print_acct_amount(self):\n",
    "        \"\"\"Print the amount of money in the account.\"\"\"\n",
    "        \n",
    "    def set_acct_number(self, number):\n",
    "        \"\"\"Set the account number.\"\"\"\n",
    "        self.number = number\n",
    "    \n",
    "    def get_acct_number(self):\n",
    "        \"\"\"Returns the number of the account.\"\"\"\n",
    "        return self.number\n",
    "\n",
    "    def deposit(self, amount):\n",
    "        \"\"\"Deposit money into the account amount.\n",
    "        \n",
    "        Parameters\n",
    "        ----------\n",
    "        amount : float\n",
    "            Amount to be deposited.\n",
    "        \n",
    "        \"\"\"\n",
    "        \n",
    "        self.total_amount += amount\n",
    "        \n",
    "    def withdraw(self, amount):\n",
    "        \"\"\"Remove money from the account amount.\n",
    "        \n",
    "        Parameters\n",
    "        ----------\n",
    "        amount : float\n",
    "            Amount to be withdrawn.\n",
    "        \n",
    "        \"\"\"\n",
    "        # Put your code here\n",
    "        pass\n",
    " \n",
    "    \n",
    "    # Put the new method here\n",
    "        "
   ]
  },
  {
   "cell_type": "markdown",
   "metadata": {},
   "source": [
    "## Test your code\n",
    "\n",
    "Let's check that the code works. Run the following cell and you should get the following output\n",
    "\n",
    "    Customer's name is Scrouge McDuck and can be reached at mcducksc21@disney.com\n",
    "    The total amount in the checking account is: 3.00e+06\n",
    "    Nope! You ain't got enough money\n",
    "    The total amount in the checking account is: 2.40e+06\n",
    "    The total amount in the savings account is: 6.00e+05\n",
    "\n",
    "\n",
    "If it throws an error go back and fix the code or move on."
   ]
  },
  {
   "cell_type": "code",
   "execution_count": null,
   "metadata": {
    "ExecuteTime": {
     "end_time": "2022-10-25T16:56:10.728415Z",
     "start_time": "2022-10-25T16:56:10.724063Z"
    }
   },
   "outputs": [],
   "source": [
    "# Run the following cell to test your code\n",
    "# np.random.seed(12398412)\n",
    "scrooge = Customer(name = \"Scrouge McDuck\", address = \"mcducksc21@disney.com\", ssn = \"123 456 789\")\n",
    "print(f\"Customer's name is {scrooge.name} and can be reached at {scrooge.address}\")\n",
    "\n",
    "\n",
    "check_acct = Account(\n",
    "    number = str(np.random.randint(321654987)),\n",
    "    owner = scrooge,\n",
    "    acct_type = \"checking\"              )\n",
    "\n",
    "check_acct.deposit(3e6)\n",
    "\n",
    "print(f\"The total amount in the checking account is: {check_acct.get_acct_amount():.2e}\")\n",
    "\n",
    "savings_acct = Account(\n",
    "    number = str(np.random.randint(321654987)),\n",
    "    owner = scrooge,\n",
    "    acct_type = \"savings\"              )\n",
    "\n",
    "check_acct.transfer_to(money = 5.0e6, other_account = savings_acct)\n",
    "\n",
    "\n",
    "check_acct.transfer_to(money = 0.6e6, other_account = savings_acct)\n",
    "\n",
    "\n",
    "print(f\"The total amount in the checking account is: {check_acct.get_acct_amount():.2e}\")\n",
    "print(f\"The total amount in the savings account is: {savings_acct.get_acct_amount():.2e}\")\n"
   ]
  },
  {
   "cell_type": "markdown",
   "metadata": {},
   "source": [
    "&#9989; **Question 4.2 (11 points)**: In the following cell there is a draft of a bank class, you need to complete it. \n",
    "\n",
    "Do the following\n",
    "\n",
    "- complete the `create_account` method. The method creates a new `Account` object and stores it into the `_accounts` dictionary by using the account number as `key`. Use `np.random.randint(321485)` as the account number. The method takes in:\n",
    "    - `customer_name` a string that is used as the `key` of the `_customers` dictionary\n",
    "    - `acct_type` a string that is used to define the account type\n",
    "    - `initial_amount` a float \n",
    "    \n",
    "- complete the `withdraw` method. The method takes in:\n",
    "    - `customer_name` a _string_ that is used as the `key` of the `_customers` dictionary\n",
    "    - `account_number` a _string_ or _integer_ that is used to find the account number in the dictionary of accounts\n",
    "    - `amount` a _float_.\n",
    "    \n",
    "    The method withdraws `amount` from the customer's account. Remember the account number is the `key` for the `_accounts` dictionary and adds a line to the ledger with the transaction information.\n",
    "    \n",
    "    However, if there aren't enough money in the account no line will be added to the ledger \n",
    "\n",
    "\n",
    "    "
   ]
  },
  {
   "cell_type": "code",
   "execution_count": null,
   "metadata": {
    "ExecuteTime": {
     "end_time": "2022-10-25T16:52:17.017810Z",
     "start_time": "2022-10-25T16:52:17.013899Z"
    },
    "code_folding": [
     57
    ]
   },
   "outputs": [],
   "source": [
    "class Bank:\n",
    "    \n",
    "    def __init__(self, name, routing_number):\n",
    "        self._name = name\n",
    "        self._routing_number = routing_number\n",
    "        self._ledger = []        # list of transaction \n",
    "        self._customers = dict() # Dictionary of objects\n",
    "        self._accounts = dict()  # Dictionary of objects\n",
    "    \n",
    "    def add_customer(self, customer):\n",
    "        \"\"\"Add the customer to the dictionary of customers.\n",
    "        Use the customer's name as the key of the dictionary.\n",
    "        \n",
    "        Parameters\n",
    "        ----------\n",
    "        customer: object\n",
    "            Customer to be added \n",
    "        \"\"\"\n",
    "        \n",
    "        self._customers[customer.name] = customer\n",
    "    \n",
    "    def create_account(self, customer_name, acc_type, initial_amount=0.0):\n",
    "        \"\"\"Create a new account and add it to the dictionary of accounts.\n",
    "        Use the account number as the key of the dictionary.\n",
    "        \n",
    "        Parameters\n",
    "        ----------\n",
    "        customer_name : string\n",
    "            Owner of the account. It is an instance of the Customer class\n",
    "        \n",
    "        acc_type : string\n",
    "            Type of account.\n",
    "        \n",
    "        initial_amount : float\n",
    "            Initial amount to deposit. Default is 0.0\n",
    "        \n",
    "        \"\"\"\n",
    "        # Put your code here\n",
    "        \n",
    "        self._ledger.append(f\"Account # {insert account number here} created by {customer_name} with ${initial_amount}\")\n",
    "\n",
    "        \n",
    "    def withdraw(self, customer_name, account_number, amount):\n",
    "        \"\"\"Withdraw money from the account and save the transaction into a ledger.\n",
    "        Use the account number as the key of the dictionary.\n",
    "        \n",
    "        Parameters\n",
    "        ----------\n",
    "        customer_name : string\n",
    "            Owner of the account. It is an instance of the Customer class\n",
    "        \n",
    "        account_number : string or integer\n",
    "            Account number.\n",
    "            \n",
    "        amount : float\n",
    "            amount to withdraw.\n",
    "        \"\"\"\n",
    "        \n",
    "        # Put your code here\n",
    "        \n",
    "        self._ledger.append(f\"{customer_name} deposited ${amount} into acc # {account_number}\")\n",
    "\n",
    "    \n",
    "    "
   ]
  },
  {
   "cell_type": "markdown",
   "metadata": {},
   "source": [
    "## Test your code\n",
    "\n",
    "Let's check that the code works. Run the following cell and you should get the following output\n",
    "If it throws an error go back and fix the code or move on."
   ]
  },
  {
   "cell_type": "code",
   "execution_count": null,
   "metadata": {
    "ExecuteTime": {
     "end_time": "2022-10-25T17:12:31.599314Z",
     "start_time": "2022-10-25T17:12:31.596282Z"
    }
   },
   "outputs": [],
   "source": [
    "caveau = Bank(\"banca\", \"132 698\")\n",
    "caveau.add_customer(scrooge)\n",
    "caveau.create_account(scrooge.name, \"checking\", 5e6)\n",
    "caveau._ledger"
   ]
  },
  {
   "cell_type": "markdown",
   "metadata": {
    "ExecuteTime": {
     "end_time": "2022-10-13T04:47:40.616170Z",
     "start_time": "2022-10-13T04:47:40.613528Z"
    }
   },
   "source": [
    "&#9989; **Question 4.2.1 (4 points):** In the next cell use `caveau` to have Scrouge McDuck withdraw $ 7000000 from the account whose number is given in the output of the cell above.\n",
    "Then print the `_ledger`"
   ]
  },
  {
   "cell_type": "code",
   "execution_count": null,
   "metadata": {
    "ExecuteTime": {
     "end_time": "2022-10-25T17:12:32.288563Z",
     "start_time": "2022-10-25T17:12:32.286984Z"
    }
   },
   "outputs": [],
   "source": [
    "# Put your code here"
   ]
  },
  {
   "cell_type": "markdown",
   "metadata": {
    "pycharm": {
     "name": "#%% md\n"
    }
   },
   "source": [
    "### &#128721; STOP\n",
    "**Pause to commit your changes to your local `git` repository! (1 point)**\n",
    "\n",
    "Take a moment to save your notebook, commit the changes to your local `git` repository using the commit message \"**Committing Part 4**\".\n",
    "\n",
    "---"
   ]
  },
  {
   "cell_type": "markdown",
   "metadata": {
    "pycharm": {
     "name": "#%% md\n"
    }
   },
   "source": [
    "---\n",
    "<a id=\"part5\"></a>\n",
    "[Back to ToC](#toc)\n",
    "\n",
    "# Part 5. Conclusion (3 points)\n",
    "\n",
    "Make sure all of your changes to your repository are committed and pushed to GitHub. \n",
    "Before you leave\n",
    "\n",
    "1. Have you added your name and github username at the top of this notebook? ? (1 point)\n",
    "\n",
    "2. Push the changes to your GitHub repository (1 point)\n",
    "\n",
    "3. Upload your notebook to D2L in case something went wrong with your repository or if you couldn't get the repository to work.  (1 point)"
   ]
  },
  {
   "cell_type": "markdown",
   "metadata": {
    "pycharm": {
     "name": "#%% md\n"
    }
   },
   "source": [
    "# You're done! Congrats on finishing your CMSE 202 Midterm!\n",
    "\n",
    "\n",
    "![Moira2](https://media.giphy.com/media/d1E2HnwywoTkES08/giphy.gif)"
   ]
  },
  {
   "cell_type": "code",
   "execution_count": null,
   "metadata": {
    "ExecuteTime": {
     "end_time": "2022-10-13T05:47:34.039516Z",
     "start_time": "2022-10-13T05:47:34.036835Z"
    },
    "pycharm": {
     "name": "#%%\n"
    }
   },
   "outputs": [],
   "source": [
    "# FINAL GRADE (Instructor's use only)\",\n",
    "parts = [part_0, part_1, part_2, part_3, part_4]\n",
    "print(f\"Part 0: {part_0}/{grades[0]}\")\n",
    "print(f\"Part 1: {part_1}/{grades[1]}\")\n",
    "print(f\"Part 2: {part_2}/{grades[2]}\")\n",
    "print(f\"Part 3: {part_3}/{grades[3]}\")\n",
    "print(f\"Part 4: {part_4}/{grades[4]}\")\n",
    "print(f\"Part 5: {part_5}/{grades[5]}\")\n",
    "\n",
    "total = sum(parts)\n",
    "print(f\"Your final grade is {total}\")"
   ]
  },
  {
   "cell_type": "markdown",
   "metadata": {
    "pycharm": {
     "name": "#%% md\n"
    }
   },
   "source": [
    "&#169; Copyright 2022,  Department of Computational Mathematics, Science and Engineering at Michigan State University"
   ]
  }
 ],
 "metadata": {
  "kernelspec": {
   "display_name": "Python 3",
   "language": "python",
   "name": "python3"
  },
  "language_info": {
   "codemirror_mode": {
    "name": "ipython",
    "version": 3
   },
   "file_extension": ".py",
   "mimetype": "text/x-python",
   "name": "python",
   "nbconvert_exporter": "python",
   "pygments_lexer": "ipython3",
   "version": "3.8.8"
  },
  "latex_envs": {
   "LaTeX_envs_menu_present": true,
   "autoclose": false,
   "autocomplete": true,
   "bibliofile": "biblio.bib",
   "cite_by": "apalike",
   "current_citInitial": 1,
   "eqLabelWithNumbers": true,
   "eqNumInitial": 1,
   "hotkeys": {
    "equation": "Ctrl-E",
    "itemize": "Ctrl-I"
   },
   "labels_anchors": false,
   "latex_user_defs": false,
   "report_style_numbering": false,
   "user_envs_cfg": false
  },
  "widgets": {
   "application/vnd.jupyter.widget-state+json": {
    "state": {},
    "version_major": 2,
    "version_minor": 0
   }
  }
 },
 "nbformat": 4,
 "nbformat_minor": 4
}
