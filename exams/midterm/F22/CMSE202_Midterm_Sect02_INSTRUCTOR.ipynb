{
 "cells": [
  {
   "cell_type": "markdown",
   "id": "6c5e6854-6890-4440-927d-1c5666fe7858",
   "metadata": {
    "tags": []
   },
   "source": [
    "# CMSE 202 Midterm Fall 22 (Sect. 002)\n",
    "\n",
    "The goal of this midterm is to give you the opportunity to test out some of the skills that you've developed thus far this semester. In particular, you'll reflect on what you know about writing code using Python and showcase some of your new programming skills.\n",
    "\n",
    "**Important note about using online resources:** This exam is \"open internet\". That means that you can look up documentation, google how to accomplish certain Python tasks, etc. Being able to effectively use the internet for computational modeling and data science is a very important skill, so we want to make sure you have the opportunity to exercise that skill. **However, the use of any person-to-person communication software is absolutely not acceptable.**\n",
    "\n",
    "**Do your own work.** This midterm is designed to give you the opportunity to show the instructor what you can do and you should hold yourself accountable for maintaining a high level of academic integrity. Any violation of academic integrity could result in you receiving a zero on the midterm.\n",
    "\n",
    "You are encouraged to look through the entire exam before you get started so that you can appropriately budget your time and understand the broad goals of the exam.\n",
    "\n",
    "If you have any questions during the exam, you may ask the instructor, the TA, or the LA privately; simply raise your hand and one of us will come over to you. \n",
    "\n",
    "### Content Knowledge Tested\n",
    "- Using Github to save and track progress on your work\n",
    "- Using Pandas to read, manipulate, and access data files\n",
    "- Using documentation and examples to effectively utilitze unfamiliar Python packages \n",
    "- Writing new classes to effectively store complex datasets"
   ]
  },
  {
   "cell_type": "markdown",
   "id": "dcc1f32a-2fcc-4031-94ff-096062983643",
   "metadata": {
    "tags": []
   },
   "source": [
    "## Part 0: Add to your Git repository to track your progress on your exam (10 points total)\n",
    "\n",
    "Before you get to far along in the exam, you're going to add it to the `cmse202-F22-turnin` repository you created in class so that you can track your progress on the exam and preserve the final version that you turn in. In order to do this you need to\n",
    "\n",
    "### &#9989; Part 0.1 (5 points):\n",
    "\n",
    "1. Navigate to your `cmse202-F22-turnin` repository and create a new directory called `midterm`.\n",
    "2. Move this notebook into that **new directory** in your repository, then **add it and commit it to your repository**.\n",
    "1. Finally, to test that everything is working, \"git push\" the file so that it ends up in your GitHub repository.\n",
    "\n",
    "**Important**: Double check you've added your Professor and your TA as collaborators to your \"turnin\" respository (you should have done this in the previous homework assignment).\n",
    "\n",
    "**Also important**: Make sure that the version of this notebook that you are working on is the same one that you just added to your repository! If you are working on a different copy of the noteobok, **none of your changes will be tracked**!\n",
    "\n",
    "The file should now show up on your GitHub account in the `cmse202-F22-turnin` repository inside the `midterm` directory you just created.  Periodically, **you'll be asked to commit your changes to the repository and push them to the remote GitHub location**. It can be good to get into a habit of committing your changes any time you make a significant modification.\n",
    "\n",
    "### Part 0.2 (2 points):\n",
    "&#9989; Before you move on, **put the command(s) that your instructor should run to clone your repository in the markdown cell below.**"
   ]
  },
  {
   "cell_type": "code",
   "execution_count": null,
   "id": "d5411504-4c33-446f-95f6-7bef07e94fdd",
   "metadata": {},
   "outputs": [],
   "source": [
    "#Write your code here"
   ]
  },
  {
   "cell_type": "code",
   "execution_count": null,
   "id": "40f79d47-5f6b-4165-b624-2498ea58b250",
   "metadata": {},
   "outputs": [],
   "source": [
    "### ANSWER ###\n",
    "\n",
    "!git clone XXXXXXXX"
   ]
  },
  {
   "cell_type": "markdown",
   "id": "4983c96b-98f0-415d-8a38-39c1623dbe8a",
   "metadata": {},
   "source": [
    "## Part 1: Getting Data with Curl (3 points)\n",
    "\n",
    "For this exam, you will be working with a dataset that contains **spectra.** Spectra are what you get when you separate light–like in a prism–and measure the flux (fancy word for brightness) of the different parts of the light (E.g., blue has a flux of 400, red has a flux of 600, etc.). More specifically, we measure the *wavelength* of the light (shorter wavelengths = bluer, longer wavelengths=redder). The data we’ll be working with came from a space telescope looking at different astronomical sources. \n",
    "\n",
    "For this exam, you only need to know that wavelength and flux are measured values used in astronomy, physics, chemistry, and biology. \n",
    "\n",
    "\n",
    "First, let’s get our data files. \n",
    "\n",
    "&#9989; **Download the files using `curl` and the following links. Put the commands you used to download the files in the cell below.**\n",
    "\n",
    "`https://raw.githubusercontent.com/msu-cmse-courses/cmse202-F22-data/main/Midterm/metadata.csv`\n",
    "`https://raw.githubusercontent.com/msu-cmse-courses/cmse202-F22-data/main/Midterm/flux_values.csv`\n",
    "`https://raw.githubusercontent.com/msu-cmse-courses/cmse202-F22-data/main/Midterm/wavlength_values.csv`\n"
   ]
  },
  {
   "cell_type": "code",
   "execution_count": null,
   "id": "8a5c8eac-5deb-477c-803a-527b4cc9c2c0",
   "metadata": {},
   "outputs": [],
   "source": [
    "#Write your code here"
   ]
  },
  {
   "cell_type": "code",
   "execution_count": 1,
   "id": "c971ede1-2e9a-4164-b674-0772df761f90",
   "metadata": {},
   "outputs": [
    {
     "name": "stdout",
     "output_type": "stream",
     "text": [
      "  % Total    % Received % Xferd  Average Speed   Time    Time     Time  Current\n",
      "                                 Dload  Upload   Total   Spent    Left  Speed\n",
      "100 18761  100 18761    0     0  88647      0 --:--:-- --:--:-- --:--:-- 88914\n",
      "  % Total    % Received % Xferd  Average Speed   Time    Time     Time  Current\n",
      "                                 Dload  Upload   Total   Spent    Left  Speed\n",
      "100  468k  100  468k    0     0  1346k      0 --:--:-- --:--:-- --:--:-- 1350k\n",
      "  % Total    % Received % Xferd  Average Speed   Time    Time     Time  Current\n",
      "                                 Dload  Upload   Total   Spent    Left  Speed\n",
      "100  902k  100  902k    0     0  1827k      0 --:--:-- --:--:-- --:--:-- 1830k\n"
     ]
    }
   ],
   "source": [
    "### ANSWER ###\n",
    "\n",
    "!curl -O https://raw.githubusercontent.com/msu-cmse-courses/cmse202-F22-data/main/Midterm/metadata.csv\n",
    "!curl -O https://raw.githubusercontent.com/msu-cmse-courses/cmse202-F22-data/main/Midterm/flux_values.csv\n",
    "!curl -O https://raw.githubusercontent.com/msu-cmse-courses/cmse202-F22-data/main/Midterm/wavlength_values.csv"
   ]
  },
  {
   "cell_type": "markdown",
   "id": "81c8c313-2d23-4eff-a713-7abf289d3773",
   "metadata": {
    "tags": []
   },
   "source": [
    "## Part 2: Reading the Data (5 points)\n",
    "\n",
    "&#9989; **Read in the data files using Pandas (put your code in the cell below).** One of them has metadata about each source, one of them has flux values for each source, and the last one has the wavelength values for each source. "
   ]
  },
  {
   "cell_type": "code",
   "execution_count": null,
   "id": "a3a77d21-f2ed-40b9-aa23-77ca5faefb80",
   "metadata": {},
   "outputs": [],
   "source": [
    "#Write your code here"
   ]
  },
  {
   "cell_type": "code",
   "execution_count": 6,
   "id": "1d0fc05c-0fb3-4d6d-888c-e6ff54294062",
   "metadata": {},
   "outputs": [
    {
     "data": {
      "text/html": [
       "<div>\n",
       "<style scoped>\n",
       "    .dataframe tbody tr th:only-of-type {\n",
       "        vertical-align: middle;\n",
       "    }\n",
       "\n",
       "    .dataframe tbody tr th {\n",
       "        vertical-align: top;\n",
       "    }\n",
       "\n",
       "    .dataframe thead th {\n",
       "        text-align: right;\n",
       "    }\n",
       "</style>\n",
       "<table border=\"1\" class=\"dataframe\">\n",
       "  <thead>\n",
       "    <tr style=\"text-align: right;\">\n",
       "      <th></th>\n",
       "      <th>12043-6225</th>\n",
       "      <th>12063-6259</th>\n",
       "      <th>12073-6233</th>\n",
       "      <th>12148-6741</th>\n",
       "      <th>12216-6218</th>\n",
       "      <th>12226+0102</th>\n",
       "      <th>12230-5943</th>\n",
       "      <th>12233-5920</th>\n",
       "      <th>12247-5842</th>\n",
       "      <th>12274-7647</th>\n",
       "      <th>...</th>\n",
       "      <th>23309+2213</th>\n",
       "      <th>23320+4316</th>\n",
       "      <th>23365+5159</th>\n",
       "      <th>23416+6130</th>\n",
       "      <th>23439+5412</th>\n",
       "      <th>23491+6243</th>\n",
       "      <th>23496+6131</th>\n",
       "      <th>23528+4821</th>\n",
       "      <th>23541+7031</th>\n",
       "      <th>23564-5651</th>\n",
       "    </tr>\n",
       "  </thead>\n",
       "  <tbody>\n",
       "    <tr>\n",
       "      <th>0</th>\n",
       "      <td>4119.1675</td>\n",
       "      <td>7660.9990</td>\n",
       "      <td>3196.4287</td>\n",
       "      <td>26028.45100</td>\n",
       "      <td>15835.38500</td>\n",
       "      <td>15979.91200</td>\n",
       "      <td>13409.69200</td>\n",
       "      <td>4723.84230</td>\n",
       "      <td>24852.15600</td>\n",
       "      <td>7437.99200</td>\n",
       "      <td>...</td>\n",
       "      <td>25954.22500</td>\n",
       "      <td>13512.42800</td>\n",
       "      <td>11504.02050</td>\n",
       "      <td>5428.5894</td>\n",
       "      <td>15511.47700</td>\n",
       "      <td>14111.7340</td>\n",
       "      <td>8702.8700</td>\n",
       "      <td>15375.60400</td>\n",
       "      <td>11814.4600</td>\n",
       "      <td>14268.03700</td>\n",
       "    </tr>\n",
       "    <tr>\n",
       "      <th>1</th>\n",
       "      <td>4897.2990</td>\n",
       "      <td>7906.7840</td>\n",
       "      <td>3013.9722</td>\n",
       "      <td>23706.81400</td>\n",
       "      <td>15097.69700</td>\n",
       "      <td>15094.21800</td>\n",
       "      <td>12985.14700</td>\n",
       "      <td>5399.35500</td>\n",
       "      <td>23494.65800</td>\n",
       "      <td>7775.49300</td>\n",
       "      <td>...</td>\n",
       "      <td>24277.15000</td>\n",
       "      <td>13566.23500</td>\n",
       "      <td>10776.77200</td>\n",
       "      <td>5152.7850</td>\n",
       "      <td>15633.45800</td>\n",
       "      <td>14462.1270</td>\n",
       "      <td>8777.9060</td>\n",
       "      <td>14542.23300</td>\n",
       "      <td>12896.9450</td>\n",
       "      <td>12925.04500</td>\n",
       "    </tr>\n",
       "    <tr>\n",
       "      <th>2</th>\n",
       "      <td>4163.9690</td>\n",
       "      <td>7821.8984</td>\n",
       "      <td>3003.1490</td>\n",
       "      <td>21255.06600</td>\n",
       "      <td>14774.41800</td>\n",
       "      <td>15370.21200</td>\n",
       "      <td>12330.41200</td>\n",
       "      <td>5080.29300</td>\n",
       "      <td>21760.83000</td>\n",
       "      <td>8206.88100</td>\n",
       "      <td>...</td>\n",
       "      <td>21686.77500</td>\n",
       "      <td>14101.02300</td>\n",
       "      <td>10377.47100</td>\n",
       "      <td>5084.3320</td>\n",
       "      <td>15354.94700</td>\n",
       "      <td>15572.4560</td>\n",
       "      <td>9042.6650</td>\n",
       "      <td>13849.16300</td>\n",
       "      <td>13033.3150</td>\n",
       "      <td>12433.29800</td>\n",
       "    </tr>\n",
       "    <tr>\n",
       "      <th>3</th>\n",
       "      <td>5000.7207</td>\n",
       "      <td>7240.5156</td>\n",
       "      <td>3099.5684</td>\n",
       "      <td>19268.29700</td>\n",
       "      <td>15353.48500</td>\n",
       "      <td>15239.36900</td>\n",
       "      <td>11932.74500</td>\n",
       "      <td>4978.89100</td>\n",
       "      <td>20237.52300</td>\n",
       "      <td>9054.72200</td>\n",
       "      <td>...</td>\n",
       "      <td>20223.47300</td>\n",
       "      <td>13942.72900</td>\n",
       "      <td>10156.50100</td>\n",
       "      <td>5017.1060</td>\n",
       "      <td>13779.85800</td>\n",
       "      <td>15107.5140</td>\n",
       "      <td>9054.9300</td>\n",
       "      <td>13149.55700</td>\n",
       "      <td>13371.6440</td>\n",
       "      <td>12211.93400</td>\n",
       "    </tr>\n",
       "    <tr>\n",
       "      <th>4</th>\n",
       "      <td>5769.1810</td>\n",
       "      <td>6555.7860</td>\n",
       "      <td>3130.7747</td>\n",
       "      <td>17711.97000</td>\n",
       "      <td>13989.90700</td>\n",
       "      <td>15328.07800</td>\n",
       "      <td>11440.46900</td>\n",
       "      <td>4896.74850</td>\n",
       "      <td>18943.15200</td>\n",
       "      <td>9833.83900</td>\n",
       "      <td>...</td>\n",
       "      <td>18529.77100</td>\n",
       "      <td>13366.01100</td>\n",
       "      <td>9721.12200</td>\n",
       "      <td>5255.4404</td>\n",
       "      <td>13604.02700</td>\n",
       "      <td>14094.1240</td>\n",
       "      <td>9358.4030</td>\n",
       "      <td>12263.95500</td>\n",
       "      <td>12632.2850</td>\n",
       "      <td>12230.37700</td>\n",
       "    </tr>\n",
       "    <tr>\n",
       "      <th>...</th>\n",
       "      <td>...</td>\n",
       "      <td>...</td>\n",
       "      <td>...</td>\n",
       "      <td>...</td>\n",
       "      <td>...</td>\n",
       "      <td>...</td>\n",
       "      <td>...</td>\n",
       "      <td>...</td>\n",
       "      <td>...</td>\n",
       "      <td>...</td>\n",
       "      <td>...</td>\n",
       "      <td>...</td>\n",
       "      <td>...</td>\n",
       "      <td>...</td>\n",
       "      <td>...</td>\n",
       "      <td>...</td>\n",
       "      <td>...</td>\n",
       "      <td>...</td>\n",
       "      <td>...</td>\n",
       "      <td>...</td>\n",
       "      <td>...</td>\n",
       "    </tr>\n",
       "    <tr>\n",
       "      <th>88</th>\n",
       "      <td>1767.6233</td>\n",
       "      <td>7084.0360</td>\n",
       "      <td>6564.2630</td>\n",
       "      <td>448.98490</td>\n",
       "      <td>693.25110</td>\n",
       "      <td>473.87660</td>\n",
       "      <td>739.24524</td>\n",
       "      <td>1184.99270</td>\n",
       "      <td>440.24020</td>\n",
       "      <td>1112.40630</td>\n",
       "      <td>...</td>\n",
       "      <td>549.65270</td>\n",
       "      <td>921.79126</td>\n",
       "      <td>971.99790</td>\n",
       "      <td>2025.3147</td>\n",
       "      <td>790.83856</td>\n",
       "      <td>687.2263</td>\n",
       "      <td>1236.9054</td>\n",
       "      <td>843.16656</td>\n",
       "      <td>1721.3413</td>\n",
       "      <td>757.24786</td>\n",
       "    </tr>\n",
       "    <tr>\n",
       "      <th>89</th>\n",
       "      <td>1146.9471</td>\n",
       "      <td>6971.7830</td>\n",
       "      <td>6309.6396</td>\n",
       "      <td>459.61176</td>\n",
       "      <td>890.75964</td>\n",
       "      <td>377.22030</td>\n",
       "      <td>620.88495</td>\n",
       "      <td>1124.36790</td>\n",
       "      <td>264.00620</td>\n",
       "      <td>1024.37740</td>\n",
       "      <td>...</td>\n",
       "      <td>449.71590</td>\n",
       "      <td>894.86224</td>\n",
       "      <td>1010.25600</td>\n",
       "      <td>1978.9023</td>\n",
       "      <td>440.02040</td>\n",
       "      <td>686.3428</td>\n",
       "      <td>1208.3124</td>\n",
       "      <td>642.11680</td>\n",
       "      <td>1546.4460</td>\n",
       "      <td>695.35840</td>\n",
       "    </tr>\n",
       "    <tr>\n",
       "      <th>90</th>\n",
       "      <td>1392.4745</td>\n",
       "      <td>7015.5747</td>\n",
       "      <td>5954.3880</td>\n",
       "      <td>409.13416</td>\n",
       "      <td>473.78302</td>\n",
       "      <td>368.36404</td>\n",
       "      <td>680.48940</td>\n",
       "      <td>983.02160</td>\n",
       "      <td>437.77075</td>\n",
       "      <td>994.52313</td>\n",
       "      <td>...</td>\n",
       "      <td>569.08490</td>\n",
       "      <td>886.43270</td>\n",
       "      <td>998.65643</td>\n",
       "      <td>1950.6804</td>\n",
       "      <td>353.10380</td>\n",
       "      <td>934.4911</td>\n",
       "      <td>1203.8910</td>\n",
       "      <td>824.46655</td>\n",
       "      <td>1677.9924</td>\n",
       "      <td>702.66327</td>\n",
       "    </tr>\n",
       "    <tr>\n",
       "      <th>91</th>\n",
       "      <td>1278.9945</td>\n",
       "      <td>6962.2200</td>\n",
       "      <td>5337.8887</td>\n",
       "      <td>366.62670</td>\n",
       "      <td>658.46140</td>\n",
       "      <td>548.61140</td>\n",
       "      <td>723.15520</td>\n",
       "      <td>919.66736</td>\n",
       "      <td>361.53516</td>\n",
       "      <td>1020.19920</td>\n",
       "      <td>...</td>\n",
       "      <td>471.92410</td>\n",
       "      <td>850.96300</td>\n",
       "      <td>872.36680</td>\n",
       "      <td>1858.1993</td>\n",
       "      <td>875.61270</td>\n",
       "      <td>933.5919</td>\n",
       "      <td>1099.1929</td>\n",
       "      <td>703.36536</td>\n",
       "      <td>1601.7352</td>\n",
       "      <td>681.01196</td>\n",
       "    </tr>\n",
       "    <tr>\n",
       "      <th>92</th>\n",
       "      <td>1440.4820</td>\n",
       "      <td>6263.4400</td>\n",
       "      <td>4638.5244</td>\n",
       "      <td>332.08942</td>\n",
       "      <td>725.74945</td>\n",
       "      <td>327.02430</td>\n",
       "      <td>613.29700</td>\n",
       "      <td>990.40204</td>\n",
       "      <td>164.24654</td>\n",
       "      <td>887.24164</td>\n",
       "      <td>...</td>\n",
       "      <td>477.47614</td>\n",
       "      <td>750.02940</td>\n",
       "      <td>762.29816</td>\n",
       "      <td>1688.1215</td>\n",
       "      <td>748.85230</td>\n",
       "      <td>501.3779</td>\n",
       "      <td>1037.9974</td>\n",
       "      <td>649.15760</td>\n",
       "      <td>1470.1552</td>\n",
       "      <td>670.62964</td>\n",
       "    </tr>\n",
       "  </tbody>\n",
       "</table>\n",
       "<p>93 rows × 531 columns</p>\n",
       "</div>"
      ],
      "text/plain": [
       "    12043-6225  12063-6259  12073-6233   12148-6741   12216-6218   12226+0102  \\\n",
       "0    4119.1675   7660.9990   3196.4287  26028.45100  15835.38500  15979.91200   \n",
       "1    4897.2990   7906.7840   3013.9722  23706.81400  15097.69700  15094.21800   \n",
       "2    4163.9690   7821.8984   3003.1490  21255.06600  14774.41800  15370.21200   \n",
       "3    5000.7207   7240.5156   3099.5684  19268.29700  15353.48500  15239.36900   \n",
       "4    5769.1810   6555.7860   3130.7747  17711.97000  13989.90700  15328.07800   \n",
       "..         ...         ...         ...          ...          ...          ...   \n",
       "88   1767.6233   7084.0360   6564.2630    448.98490    693.25110    473.87660   \n",
       "89   1146.9471   6971.7830   6309.6396    459.61176    890.75964    377.22030   \n",
       "90   1392.4745   7015.5747   5954.3880    409.13416    473.78302    368.36404   \n",
       "91   1278.9945   6962.2200   5337.8887    366.62670    658.46140    548.61140   \n",
       "92   1440.4820   6263.4400   4638.5244    332.08942    725.74945    327.02430   \n",
       "\n",
       "     12230-5943  12233-5920   12247-5842  12274-7647  ...   23309+2213  \\\n",
       "0   13409.69200  4723.84230  24852.15600  7437.99200  ...  25954.22500   \n",
       "1   12985.14700  5399.35500  23494.65800  7775.49300  ...  24277.15000   \n",
       "2   12330.41200  5080.29300  21760.83000  8206.88100  ...  21686.77500   \n",
       "3   11932.74500  4978.89100  20237.52300  9054.72200  ...  20223.47300   \n",
       "4   11440.46900  4896.74850  18943.15200  9833.83900  ...  18529.77100   \n",
       "..          ...         ...          ...         ...  ...          ...   \n",
       "88    739.24524  1184.99270    440.24020  1112.40630  ...    549.65270   \n",
       "89    620.88495  1124.36790    264.00620  1024.37740  ...    449.71590   \n",
       "90    680.48940   983.02160    437.77075   994.52313  ...    569.08490   \n",
       "91    723.15520   919.66736    361.53516  1020.19920  ...    471.92410   \n",
       "92    613.29700   990.40204    164.24654   887.24164  ...    477.47614   \n",
       "\n",
       "     23320+4316   23365+5159  23416+6130   23439+5412  23491+6243  23496+6131  \\\n",
       "0   13512.42800  11504.02050   5428.5894  15511.47700  14111.7340   8702.8700   \n",
       "1   13566.23500  10776.77200   5152.7850  15633.45800  14462.1270   8777.9060   \n",
       "2   14101.02300  10377.47100   5084.3320  15354.94700  15572.4560   9042.6650   \n",
       "3   13942.72900  10156.50100   5017.1060  13779.85800  15107.5140   9054.9300   \n",
       "4   13366.01100   9721.12200   5255.4404  13604.02700  14094.1240   9358.4030   \n",
       "..          ...          ...         ...          ...         ...         ...   \n",
       "88    921.79126    971.99790   2025.3147    790.83856    687.2263   1236.9054   \n",
       "89    894.86224   1010.25600   1978.9023    440.02040    686.3428   1208.3124   \n",
       "90    886.43270    998.65643   1950.6804    353.10380    934.4911   1203.8910   \n",
       "91    850.96300    872.36680   1858.1993    875.61270    933.5919   1099.1929   \n",
       "92    750.02940    762.29816   1688.1215    748.85230    501.3779   1037.9974   \n",
       "\n",
       "     23528+4821  23541+7031   23564-5651  \n",
       "0   15375.60400  11814.4600  14268.03700  \n",
       "1   14542.23300  12896.9450  12925.04500  \n",
       "2   13849.16300  13033.3150  12433.29800  \n",
       "3   13149.55700  13371.6440  12211.93400  \n",
       "4   12263.95500  12632.2850  12230.37700  \n",
       "..          ...         ...          ...  \n",
       "88    843.16656   1721.3413    757.24786  \n",
       "89    642.11680   1546.4460    695.35840  \n",
       "90    824.46655   1677.9924    702.66327  \n",
       "91    703.36536   1601.7352    681.01196  \n",
       "92    649.15760   1470.1552    670.62964  \n",
       "\n",
       "[93 rows x 531 columns]"
      ]
     },
     "execution_count": 6,
     "metadata": {},
     "output_type": "execute_result"
    }
   ],
   "source": [
    "### ANSWER ###\n",
    "import pandas as pd\n",
    "\n",
    "df_meta = pd.read_csv(\"metadata.csv\")\n",
    "df_flux = pd.read_csv(\"flux_values.csv\")\n",
    "df_wavelength = pd.read_csv(\"wavlength_values.csv\")\n",
    "# df_wavelength\n",
    "df_flux"
   ]
  },
  {
   "cell_type": "markdown",
   "id": "cb928c2f-720c-4185-ab3e-103ad91dab9d",
   "metadata": {
    "tags": []
   },
   "source": [
    "## Part 3: Using a \"New\" Package (15 points)\n",
    "For this problem, we want you to use a new package that you aren’t as used to. Specifically, you’ll be using the [Seaborn plotting package](https://seaborn.pydata.org/). \n",
    "\n",
    "&#9989; RA and DEC are two measurements that are equivalent to latitude and longitude on earth (I.e., they give the position on the sky). **Use the Seaborn `relplot` and your metadata dataframe to make a scatter plot of the following:** \n",
    "\n",
    "- RA on the x-axis \n",
    "- DEC on the y-axis \n",
    "- The size of your data points on the plot should correspond to the scale factor (a measure of total brightness of the source.) \n",
    "\n",
    "**Hint:** You might want to take a look at the Seaborn example gallery. "
   ]
  },
  {
   "cell_type": "code",
   "execution_count": null,
   "id": "9d5ee909-a4f0-4678-89be-07e412a305b9",
   "metadata": {},
   "outputs": [],
   "source": [
    "#Write your code here"
   ]
  },
  {
   "cell_type": "code",
   "execution_count": 43,
   "id": "c8086372-7147-4d1a-a65d-0d18441bcff9",
   "metadata": {},
   "outputs": [
    {
     "data": {
      "text/plain": [
       "<seaborn.axisgrid.FacetGrid at 0x7fee8b634100>"
      ]
     },
     "execution_count": 43,
     "metadata": {},
     "output_type": "execute_result"
    },
    {
     "data": {
      "image/png": "[encoded data removed]",
      "text/plain": [
       "<Figure size 508.05x432 with 1 Axes>"
      ]
     },
     "metadata": {},
     "output_type": "display_data"
    }
   ],
   "source": [
    "### ANSWER ###\n",
    "import seaborn as sns\n",
    "sns.set_theme(style=\"white\")\n",
    "\n",
    "sns.relplot(x=\"RA\", y=\"DEC\", size=\"Scale Factor\",\n",
    "            sizes=(40, 400), alpha=.5, palette=\"muted\",\n",
    "            height=6, data=df_meta)"
   ]
  },
  {
   "cell_type": "markdown",
   "id": "968006d1-c4d2-4d09-ba0f-72e9fba50de7",
   "metadata": {
    "jp-MarkdownHeadingCollapsed": true,
    "tags": []
   },
   "source": [
    "---\n",
    "### &#128721; STOP (1 point)\n",
    "**Pause to commit your changes to your Git repository!**\n",
    "\n",
    "Take a moment to save your notebook, commit and push the changes to your Git repository.\n",
    "\n",
    "---"
   ]
  },
  {
   "cell_type": "markdown",
   "id": "a8efb523-e4b5-44bc-9687-1568577fc1f2",
   "metadata": {
    "tags": []
   },
   "source": [
    "## Part 4: Accessing Specific Data Values with Pandas (15 points)\n",
    "\n",
    "For this part of the exam, we’ll walk through how to use Pandas to access specific pieces of information in our dataframes.\n",
    "\n",
    "### 4.1 Getting the Metadata (5 points)\n",
    "\n",
    "&#9989; **Use Pandas to access the value in the the 3rd row and 2nd column in the metadata dataframe (I.e., the RA for 12073-6233).** *Hint: What is the easiest way to access data using index values?*"
   ]
  },
  {
   "cell_type": "code",
   "execution_count": null,
   "id": "d5baf706-738d-4b61-97a8-f6d827b5bfd3",
   "metadata": {},
   "outputs": [],
   "source": [
    "#Write your code here"
   ]
  },
  {
   "cell_type": "code",
   "execution_count": 44,
   "id": "8546c9c8-aa66-4b8f-b1c7-4076c9deeeed",
   "metadata": {},
   "outputs": [
    {
     "data": {
      "text/plain": [
       "12.123"
      ]
     },
     "execution_count": 44,
     "metadata": {},
     "output_type": "execute_result"
    }
   ],
   "source": [
    "### ANSWER ###\n",
    "\n",
    "RA_temp = df_meta.iloc[2,1]\n",
    "RA_temp"
   ]
  },
  {
   "cell_type": "markdown",
   "id": "8f9d3b23-a3fb-459b-97d4-facdb37cd7f7",
   "metadata": {},
   "source": [
    "### 4.2 Getting Flux Data (5 Points)\n",
    "\n",
    "&#9989; **Use Pandas to access the entire second column of data in the flux dataframe (I.e., all flux values for 12063-6259).** Try to use the same tools as the previous problem."
   ]
  },
  {
   "cell_type": "code",
   "execution_count": null,
   "id": "c3da70e4-3464-4453-a8b3-2780a32a2336",
   "metadata": {},
   "outputs": [],
   "source": [
    "#Write your code here"
   ]
  },
  {
   "cell_type": "code",
   "execution_count": 5,
   "id": "752b9403-3354-4603-9efa-7da686a999c4",
   "metadata": {},
   "outputs": [
    {
     "data": {
      "text/plain": [
       "0     7660.9990\n",
       "1     7906.7840\n",
       "2     7821.8984\n",
       "3     7240.5156\n",
       "4     6555.7860\n",
       "        ...    \n",
       "88    7084.0360\n",
       "89    6971.7830\n",
       "90    7015.5747\n",
       "91    6962.2200\n",
       "92    6263.4400\n",
       "Name: 12063-6259, Length: 93, dtype: float64"
      ]
     },
     "execution_count": 5,
     "metadata": {},
     "output_type": "execute_result"
    }
   ],
   "source": [
    "### ANSWER ###\n",
    "\n",
    "flux_temp = df_flux.iloc[:,1]\n",
    "flux_temp"
   ]
  },
  {
   "cell_type": "markdown",
   "id": "42affb76-e248-4443-8261-1d0e32aebcda",
   "metadata": {},
   "source": [
    "### 4.3 Getting Wavelength Data (5 Points)\n",
    "\n",
    "&#9989; **Use Pandas to access the entire third column of data in the wavelength dataframe (I.e., all wavelength values for 12073-6233).** Try to use the same tools as the previous two parts."
   ]
  },
  {
   "cell_type": "code",
   "execution_count": null,
   "id": "3a398463-bd78-4f43-998d-39ce1d4b8c25",
   "metadata": {},
   "outputs": [],
   "source": [
    "#Write your code here"
   ]
  },
  {
   "cell_type": "code",
   "execution_count": 4,
   "id": "ab003fe7-080a-416d-966f-5ec20c08878b",
   "metadata": {},
   "outputs": [
    {
     "data": {
      "text/plain": [
       "0      7.864406\n",
       "1      8.041659\n",
       "2      8.230711\n",
       "3      8.400978\n",
       "4      8.574238\n",
       "        ...    \n",
       "88    22.185389\n",
       "89    22.358518\n",
       "90    22.558641\n",
       "91    22.741007\n",
       "92    22.916100\n",
       "Name: 12073-6233, Length: 93, dtype: float64"
      ]
     },
     "execution_count": 4,
     "metadata": {},
     "output_type": "execute_result"
    }
   ],
   "source": [
    "### ANSWER ###\n",
    "\n",
    "wave_temp = df_wavelength.iloc[:,2]\n",
    "wave_temp"
   ]
  },
  {
   "cell_type": "markdown",
   "id": "2c5a612c-c356-4ab1-a62c-fa8daafb80bd",
   "metadata": {},
   "source": [
    "## Part 5: Designing a Class (15 points)\n",
    "\n",
    "The issue with this dataset is that it comes in two parts: the spectra and the metadata for each source. To make life easier, we’re going to combine both the data and the metadata by designing a new class, the `spectrum` class.\n",
    "\n",
    "&#9989; **Write a new class for this spectrum data.** Your class should have the following: \n",
    "- Attributes for each piece of information in the metadata file (I.e., ID, RA, DEC, and Scale Factor)\n",
    "- Wavelengths \n",
    "- Flux \n",
    "- `get`-methods for both wavelength and flux (for the sake of time, you don’t need to write `set`-methods or `get`-methods for any of the other attributes)."
   ]
  },
  {
   "cell_type": "code",
   "execution_count": null,
   "id": "dfc6d1d7-90f0-4de4-9adf-a81ac137c0b3",
   "metadata": {},
   "outputs": [],
   "source": [
    "#Write class here"
   ]
  },
  {
   "cell_type": "code",
   "execution_count": 8,
   "id": "e1b895c4-5115-4a45-8a50-b71cbddd5ac0",
   "metadata": {},
   "outputs": [],
   "source": [
    "### ANSWER ###\n",
    "\n",
    "class spectrum(object):\n",
    "    def __init__(self,ID,ra,dec,scale_factor,wavelength,flux):\n",
    "        self.id = ID\n",
    "        self.ra = ra\n",
    "        self.dec = dec\n",
    "        self.scale_factor = scale_factor\n",
    "        self.wavelength = wavelength\n",
    "        self.flux = flux\n",
    "        \n",
    "    def get_wavelength(self):\n",
    "        return self.wavelength\n",
    "    def get_flux(self):\n",
    "        return self.flux"
   ]
  },
  {
   "cell_type": "markdown",
   "id": "d6fbf4fe-e3fb-46c6-a192-6d235ee9348f",
   "metadata": {
    "jp-MarkdownHeadingCollapsed": true,
    "tags": []
   },
   "source": [
    "---\n",
    "### &#128721; STOP (1 point)\n",
    "**Pause to commit your changes to your Git repository!**\n",
    "\n",
    "Take a moment to save your notebook, commit  and push the changes to your Git repository.\n",
    "\n",
    "---"
   ]
  },
  {
   "cell_type": "markdown",
   "id": "5c647abf-1b0a-4485-9765-5b448d3b776e",
   "metadata": {},
   "source": [
    "## Part 6: Building Objects (15 points)\n",
    "\n",
    "&#9989; **Construct `spectra` objects for all of the spectral measurements. Append all of the objects to a new list called `spectrum_objects`.** "
   ]
  },
  {
   "cell_type": "code",
   "execution_count": null,
   "id": "aee8c287-b4b1-4628-a36a-c484212e69eb",
   "metadata": {},
   "outputs": [],
   "source": [
    "#Write your code here"
   ]
  },
  {
   "cell_type": "code",
   "execution_count": 10,
   "id": "acbeb13a-cb9f-487e-9ef7-06f1c1f74804",
   "metadata": {},
   "outputs": [
    {
     "name": "stdout",
     "output_type": "stream",
     "text": [
      "0     15979.91200\n",
      "1     15094.21800\n",
      "2     15370.21200\n",
      "3     15239.36900\n",
      "4     15328.07800\n",
      "         ...     \n",
      "88      473.87660\n",
      "89      377.22030\n",
      "90      368.36404\n",
      "91      548.61140\n",
      "92      327.02430\n",
      "Name: 12226+0102, Length: 93, dtype: float64\n"
     ]
    }
   ],
   "source": [
    "### ANSWER ###\n",
    "all_spectrum_objs = []\n",
    "\n",
    "for jj in range(df_meta.shape[0]):\n",
    "    temp_obj = spectrum(df_meta.iloc[jj,0],df_meta.iloc[jj,1],df_meta.iloc[jj,2],df_meta.iloc[jj,3],df_wavelength.iloc[:,jj],df_flux.iloc[:,jj])\n",
    "    all_spectrum_objs.append(temp_obj)\n",
    "print(all_spectrum_objs[5].get_flux())"
   ]
  },
  {
   "cell_type": "markdown",
   "id": "84654ba5-253d-4917-8a47-e01d510d9342",
   "metadata": {},
   "source": [
    "## Part 7: Scaling Flux Values (12 points)\n",
    "\n",
    "*Note: You can complete parts 7.1 and 7.2 even if you did not complete Part 6*\n",
    "\n",
    "### Part 7.1: Fixing the Problem (4 points)\n",
    "&#9989; **All of the flux values need to be scaled (multiplied) by the `scale_factor` value. Write a new method in your `spectrum` class that does this.** \n",
    "\n"
   ]
  },
  {
   "cell_type": "code",
   "execution_count": null,
   "id": "1e4373db-4af1-4bba-8144-087e2a84c9a2",
   "metadata": {},
   "outputs": [],
   "source": [
    "#Write your code here"
   ]
  },
  {
   "cell_type": "code",
   "execution_count": 33,
   "id": "1a2adc89-bd3c-4fb2-b199-0c2a348e6b3c",
   "metadata": {},
   "outputs": [],
   "source": [
    "### ANSWER ###\n",
    "\n",
    "class spectrum(object):\n",
    "    def __init__(self,ID,ra,dec,scale_factor,wavelength,flux):\n",
    "        self.id = ID\n",
    "        self.ra = ra\n",
    "        self.dec = dec\n",
    "        self.scale_factor = scale_factor\n",
    "        self.wavelength = wavelength\n",
    "        self.flux = flux\n",
    "    \n",
    "    def get_wavelength(self):\n",
    "        return self.wavelength\n",
    "    def get_flux(self):\n",
    "        return self.flux\n",
    "    def scale_flux(self):\n",
    "        self.flux = self.flux*self.scale_factor\n"
   ]
  },
  {
   "cell_type": "markdown",
   "id": "fffc47f1-635d-4aa2-973e-94e1f4bfbdba",
   "metadata": {},
   "source": [
    "### Part 7.2: Applying the Fix (4 points)\n",
    "&#9989; **Call your method within the constructor method (I.e., the `__init__` method), so that it automatically scales the flux values as it creates a new `spectrum` object.**"
   ]
  },
  {
   "cell_type": "code",
   "execution_count": 39,
   "id": "7995705b-e252-47cd-9281-ce8e85b8c8a4",
   "metadata": {},
   "outputs": [],
   "source": [
    "#Write your code here"
   ]
  },
  {
   "cell_type": "code",
   "execution_count": 34,
   "id": "3b614eef-66f9-4269-b4e1-4945309c0646",
   "metadata": {},
   "outputs": [],
   "source": [
    "### ANSWER ###\n",
    "\n",
    "class spectrum(object):\n",
    "    def __init__(self,ID,ra,dec,scale_factor,wavelength,flux):\n",
    "        self.id = ID\n",
    "        self.ra = ra\n",
    "        self.dec = dec\n",
    "        self.scale_factor = scale_factor\n",
    "        self.wavelength = wavelength\n",
    "        self.flux = flux\n",
    "        self.scale_flux()\n",
    "        \n",
    "    def get_wavelength(self):\n",
    "        return self.wavelength\n",
    "    def get_flux(self):\n",
    "        return self.flux\n",
    "    def scale_flux(self):\n",
    "        self.flux = self.flux*self.scale_factor\n"
   ]
  },
  {
   "cell_type": "markdown",
   "id": "aa7be01f-6a2d-428b-be51-8789e624ba12",
   "metadata": {},
   "source": [
    "### Part 7.3: Rebuilding (4 points)\n",
    "&#9989; **Rerun your code from Part 6 to rebuild your objects with properly scaled flux values.**"
   ]
  },
  {
   "cell_type": "code",
   "execution_count": null,
   "id": "50af8d35-8ce5-4df8-b84a-2fad83c3a08e",
   "metadata": {},
   "outputs": [],
   "source": [
    "#Write your code here"
   ]
  },
  {
   "cell_type": "code",
   "execution_count": 35,
   "id": "ed5ce59d-29ef-47b0-a9b1-8ca19710e69d",
   "metadata": {},
   "outputs": [
    {
     "name": "stdout",
     "output_type": "stream",
     "text": [
      "Wave\n",
      "7.8636     7.734277e-12\n",
      "8.0485     7.305602e-12\n",
      "8.2286     7.439183e-12\n",
      "8.4043     7.375855e-12\n",
      "8.5758     7.418790e-12\n",
      "               ...     \n",
      "22.1745    2.293563e-13\n",
      "22.3636    1.825746e-13\n",
      "22.5511    1.782882e-13\n",
      "22.7371    2.655279e-13\n",
      "22.9216    1.582798e-13\n",
      "Name: 12226+0102, Length: 93, dtype: float64\n"
     ]
    }
   ],
   "source": [
    "### ANSWER ###\n",
    "\n",
    "all_spectrum_objs = []\n",
    "\n",
    "for jj in range(df_meta.shape[0]):\n",
    "    temp_obj = spectrum(df_meta.iloc[jj,0],df_meta.iloc[jj,1],df_meta.iloc[jj,2],df_meta.iloc[jj,3],df_spectra.index,df_spectra.iloc[:,jj])\n",
    "    all_spectrum_objs.append(temp_obj)\n",
    "print(all_spectrum_objs[5].get_flux())"
   ]
  },
  {
   "cell_type": "markdown",
   "id": "a19509b9-fafb-47b0-bcb3-01b390cb17c4",
   "metadata": {},
   "source": [
    "## Part 8: Make a Damn Plot (10 points)\n",
    "\n",
    "&#9989; **Select one of your spectrum objects and use it to make a plot. Your plot should have Wavelength on the x-axis and flux on the y-axis.**\n",
    "\n",
    "*Note: You can complete this problem even if you did not complete Part 6 or 7. As long as you have A spectrum object.*"
   ]
  },
  {
   "cell_type": "code",
   "execution_count": null,
   "id": "e6dcd0a2-874f-4ffe-8997-4117b89b9ab9",
   "metadata": {},
   "outputs": [],
   "source": [
    "#Write your code here"
   ]
  },
  {
   "cell_type": "code",
   "execution_count": 38,
   "id": "69a41af4-123d-4a96-86f1-5a9e3af4b09b",
   "metadata": {},
   "outputs": [
    {
     "data": {
      "image/png": "[encoded data removed]",
      "text/plain": [
       "<Figure size 432x288 with 1 Axes>"
      ]
     },
     "metadata": {},
     "output_type": "display_data"
    }
   ],
   "source": [
    "### ANSWER ###\n",
    "import matplotlib.pyplot as plt\n",
    "\n",
    "plt.scatter(all_spectrum_objs[5].get_wavelength(),all_spectrum_objs[5].get_flux())\n",
    "plt.show()"
   ]
  },
  {
   "cell_type": "markdown",
   "id": "24487f41-d69d-4da0-9964-795c7a7d3e7b",
   "metadata": {
    "tags": []
   },
   "source": [
    "---\n",
    "### &#128721; STOP (1 point)\n",
    "**Pause to commit your changes to your Git repository!**\n",
    "\n",
    "Take a moment to save your notebook, commit  and push the changes to your Git repository.\n",
    "\n",
    "---"
   ]
  },
  {
   "cell_type": "markdown",
   "id": "0cd14847-5fcd-40e6-8799-c2e91ea181f2",
   "metadata": {
    "jp-MarkdownHeadingCollapsed": true,
    "tags": []
   },
   "source": [
    "## You're done! Congrats on finishing your CMSE 202 Midterm!\n",
    "\n",
    "Make sure all of your changes to your repository are committed and pushed to GitHub. Also upload a copy of this notebook to the dropbox on D2L in case something went wrong with your repository or if you couldn't get the repository to work."
   ]
  }
 ],
 "metadata": {
  "kernelspec": {
   "display_name": "Python 3 (ipykernel)",
   "language": "python",
   "name": "python3"
  },
  "language_info": {
   "codemirror_mode": {
    "name": "ipython",
    "version": 3
   },
   "file_extension": ".py",
   "mimetype": "text/x-python",
   "name": "python",
   "nbconvert_exporter": "python",
   "pygments_lexer": "ipython3",
   "version": "3.9.12"
  }
 },
 "nbformat": 4,
 "nbformat_minor": 5
}
