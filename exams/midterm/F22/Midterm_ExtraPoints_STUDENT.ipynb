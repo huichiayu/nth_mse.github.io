{
 "cells": [
  {
   "cell_type": "markdown",
   "metadata": {},
   "source": [
    "# Midterm Extra points (Individual)\n",
    "## Python Classes"
   ]
  },
  {
   "cell_type": "markdown",
   "metadata": {},
   "source": [
    "### <p style=\"text-align: right;\"> &#9989; Put your name here.</p>\n",
    "### <p style=\"text-align: right;\"> &#9989; Put your _GitHub username_ here.</p>"
   ]
  },
  {
   "cell_type": "markdown",
   "metadata": {},
   "source": [
    "## Goals for this assignment\n",
    "By the end of this assignment, you should be able to:\n",
    "* Understand the basic components of a class: name, attributes, methods\n",
    "* Initialize a class and its attributes\n",
    "* Write methods of the class\n",
    "* Create objects and use their methods and attributes\n",
    "* Learn to read Error messages\n",
    "* Understand the difference between inheritance and composition\n",
    "\n",
    "Work through the following assignment, making sure to follow all of the directions and answer all of the questions.\n",
    "\n",
    "**This assignment is due now at 11:59 pm on Tuesday, November 22.** It should be uploaded into the \"Exam Assignment\" submission folder for \"Midterm extra\". "
   ]
  },
  {
   "cell_type": "code",
   "execution_count": null,
   "metadata": {
    "ExecuteTime": {
     "end_time": "2022-11-17T03:12:14.084357Z",
     "start_time": "2022-11-17T03:12:14.081513Z"
    }
   },
   "outputs": [],
   "source": [
    "grades = [part_1, part_2, part_3 ] = [13, 15, 8]\n",
    "\n",
    "final_grade = sum(grades)\n",
    "\n",
    "print(f\"The maximum number of points is: {final_grade}\")\n"
   ]
  },
  {
   "cell_type": "markdown",
   "metadata": {
    "ExecuteTime": {
     "end_time": "2022-11-17T01:39:40.949216Z",
     "start_time": "2022-11-17T01:39:40.944873Z"
    }
   },
   "source": [
    "<a id=\"toc\"></a>\n",
    "\n",
    "## Table of contents\n",
    "\n",
    "1. [Part 1: Using and Enhancing an existing class](#part1) (13 points)\n",
    "\n",
    "2. [Part 2: Inheritance](#part2) (15 points)\n",
    "\n",
    "3. [Part 3: Composition](#part3) (8 points)"
   ]
  },
  {
   "cell_type": "markdown",
   "metadata": {},
   "source": [
    "\n",
    "\n",
    "<img src=\"https://upload.wikimedia.org/wikipedia/commons/thumb/0/00/Standard_Model_of_Elementary_Particles.svg/627px-Standard_Model_of_Elementary_Particles.svg.png\" alt=\"Image credit: www.wikipedia\">"
   ]
  },
  {
   "cell_type": "markdown",
   "metadata": {},
   "source": [
    "---\n",
    "<a id=\"part1\"></a>\n",
    "[Back to ToC](#toc)\n",
    "\n",
    "## Part 1. Using and enhancing a pre-existing class (13 points)\n",
    "\n",
    "For this section, you're going to explore on how to use `classes` for creating [taxonomies](https://en.wikipedia.org/wiki/Taxonomy). **Note you don't need to know physics in order to do this problem!!!**\n",
    "\n",
    "The picture above shows all the elementary particles in the universe. Literally everything is created by a mixtures of them. As you can see particle physicists have already created a taxonomy. What you need to do is to export that into code. \n",
    "\n",
    "Let's start from the beginning. In the cell below contains a class called `ElementaryParticle`. This class is used to store the **attributes** and **methods** common among all the particles. Currently it only has few simple methods. \n",
    "\n",
    "**&#9989; Question 1.1 (10 points):** \n",
    "\n",
    "1. **(5 points)** Complete the `__init__` method. \n",
    "\n",
    "    - This method takes in **four** parameters: `charge`, `mass`, `spin`, `ptype`. The first three parameters must be floats, while the last a string. The `__init__` method should save these four inputs as **attributes**. (4 points)\n",
    "    \n",
    "    - In addition, the `__init__` method should call the `check_statistics` method (1 point)\n",
    "\n",
    "2. **(5 points)** Complete the `set_statistics` method. This method does **not** take in any parameters. This method should:\n",
    "\n",
    "    - check whether the `spin` attribute of the particle is an **integer number** or a fraction. You should use the `.is_integer` method of [`float`](https://docs.python.org/3/library/stdtypes.html#additional-methods-on-float).\n",
    "\n",
    "    - if the `spin` is an **integer number** then set the `statistics` **attribute** to `\"boson\"`, otherwise set it equal to `\"fermion\"`.\n",
    "    "
   ]
  },
  {
   "cell_type": "code",
   "execution_count": null,
   "metadata": {
    "ExecuteTime": {
     "end_time": "2022-11-17T03:09:10.268159Z",
     "start_time": "2022-11-17T03:09:10.263237Z"
    },
    "code_folding": []
   },
   "outputs": [],
   "source": [
    "class ElementaryParticle:\n",
    "    \"\"\" Elementary particle class.\n",
    "\n",
    "    Attributes\n",
    "    ----------\n",
    "    x : float\n",
    "        x-position of the particle.\n",
    "\n",
    "    y: float\n",
    "        y-position of the particle.\n",
    "\n",
    "    ptype: str\n",
    "        Statistics obeyed by the particle.\n",
    "\n",
    "    charge : float\n",
    "        Electric charge of the particle.\n",
    "\n",
    "    mass : float\n",
    "        Rest mass in MeV of the particle.\n",
    "\n",
    "    spin: float\n",
    "        Spin of the particle.\n",
    "\n",
    "    Methods\n",
    "    -------\n",
    "    info():\n",
    "        Prints particles information.\n",
    "\n",
    "    is_antiparticle(other):\n",
    "        Check if the other is this particle anti-particle\n",
    "\n",
    "    move()\n",
    "        Move the particle randomly.\n",
    "\n",
    "    place_at(coord):\n",
    "        Place the particle at passed coord.\n",
    "\n",
    "\n",
    "    \"\"\"\n",
    "    x = None\n",
    "    y = None\n",
    "    statistics = None\n",
    "\n",
    "\n",
    "    def __init__(self, charge, mass, spin, ptype):\n",
    "        \"\"\"Initialize the particle's attributes.\n",
    "\n",
    "        Parameters\n",
    "        ----------\n",
    "        charge : float\n",
    "            Electric charge of the particle.\n",
    "\n",
    "        mass : float\n",
    "            Rest mass in MeV of the particle.\n",
    "\n",
    "        spin: float\n",
    "            Spin of the particle.\n",
    "\n",
    "        ptype : string\n",
    "            Type (or name) of the particle, e.g. electron, photon, higgs etc...\n",
    "            \n",
    "        \"\"\"\n",
    "        # Put your code here\n",
    "        pass\n",
    "\n",
    "    def info(self):\n",
    "        \"\"\"Print to screen information about the particle.\"\"\"\n",
    "\n",
    "        print(f\"The particle has a mass of {self.mass} MeV\")\n",
    "        print(f\"The particle's charge is {self.charge} e\")\n",
    "        print(f\"The particle's spin is {self.spin}\")\n",
    "        print(f\"The particle is a {self.get_statistics()}\")\n",
    "\n",
    "    def compare(self, other):\n",
    "        \"\"\"Compare this particle with another particle.\n",
    "\n",
    "        Parameters\n",
    "        ----------\n",
    "\n",
    "        other: ElementaryParticle\n",
    "            Particle to compare with.\n",
    "\n",
    "        \"\"\"\n",
    "        # Check whether you are passing a particle or something else\n",
    "        if isinstance(other, ElementaryParticle):\n",
    "            print(f\"The two particles have the same charge: {self.charge == other.charge}\")\n",
    "            print(f\"The two particles have the same mass: {self.mass == other.mass}\")\n",
    "            print(f\"The two particles have the same spin: {self.spin == other.spin}\")\n",
    "            print(f\"The two particles have opposite charge: {self.charge == -other.charge}\")\n",
    "        else:\n",
    "            raise TypeError (f\"Can't compare an elementary particle with {type(other)}. \\n\"\n",
    "                  f\"Please pass a valid ElementaryParticle object\")\n",
    "    \n",
    "    \n",
    "    def place_at(self, coord):\n",
    "        \"\"\"\n",
    "        Place particles at coordinates (x,y).\n",
    "\n",
    "        Parameters\n",
    "        ----------\n",
    "        \n",
    "        coord: tuple\n",
    "            (x,y) coordinates where to place the particle.\n",
    "        \"\"\"\n",
    "        \n",
    "        self.x = coord[0]\n",
    "        self.y = coord[1]\n",
    "        \n",
    "    def set_statistics(self):\n",
    "        \"\"\"Check whether the particle is a Fermion or a Boson and update the corresponding attribute.\"\"\"\n",
    "        pass\n",
    "\n",
    "    def get_statistics(self):\n",
    "        \"\"\"Return whether the particle is a fermion or a boson\"\"\"\n",
    "        return self.statistics\n"
   ]
  },
  {
   "cell_type": "markdown",
   "metadata": {},
   "source": [
    "**&#9989; Question 1.2: (3 points)** In the next cell \n",
    "\n",
    "- Create an `ElementaryParticle` object with the following attributes: `mass = 0.5, charge = -1.0, spin = 0.5, ptype = \"electron\"`.\n",
    "\n",
    "- Create an `ElementaryParticle` object with the following attributes: `mass = 0.0, charge = 0.0, spin = 1.0, ptype = \"photon\"`.\n",
    "\n",
    "- Print the info of each object. You should get an output like this. \n",
    "\n",
    "\n",
    "        ========================= Electron =========================\n",
    "        The particle has a mass of 0.5 MeV\n",
    "        The particle's charge is -1.0 e\n",
    "        The particle's spin is 0.5\n",
    "        The particle is a fermion\n",
    "        ========================== Photon ==========================\n",
    "        The particle has a mass of 0.0 MeV\n",
    "        The particle's charge is 0.0 e\n",
    "        The particle's spin is 1\n",
    "        The particle is a boson\n",
    "\n",
    "**Important** Make sure you get the right answer! If you don't go back and fix your code or move on."
   ]
  },
  {
   "cell_type": "code",
   "execution_count": null,
   "metadata": {
    "ExecuteTime": {
     "end_time": "2022-11-17T03:09:12.021331Z",
     "start_time": "2022-11-17T03:09:12.016093Z"
    }
   },
   "outputs": [],
   "source": [
    "%pylab\n",
    "%matplotlib inline\n",
    "\n",
    "\n",
    "# Create two particles here\n",
    "\n",
    "print(\"{:=^60}\".format(\" Electron \"))  # <== DO NOT EDIT THIS LINE !!!!\n",
    "# print the electron's info here\n",
    "\n",
    "print(\"{:=^60}\".format(\" Photon \"))    # <== DO NOT EDIT THIS LINE !!!!\n",
    "# print the photons's info here\n",
    "\n"
   ]
  },
  {
   "cell_type": "markdown",
   "metadata": {},
   "source": [
    "---\n",
    "<a id=\"part2\"></a>\n",
    "[Back to ToC](#toc)\n",
    "\n",
    "## Part 2. Inheritance (15 points)\n",
    "\n",
    "As you can see in the figure above there are different type of particles: quarks, leptons, gauge bosons, and scalar bosons. Our `ElementaryParticle` class has all the functionalities and properties common amongst all these particles, but all the particles fall into one of two categories: fermions or bosons.\n",
    "Fermions are particles that create matter while bosons are called force carriers. _Side note for the curious_: Anytime two charges repel/attract each other their are exchanging photons amongst them. &#129299;\n",
    "\n",
    "**&#9989; Question 2.1 (14 points)**: Now that you have a functioning class, your next task is to create two new classes,: `Boson` and `Fermion`. \n",
    "\n",
    "- **(1 point x 2 classes = 2 points)** Both classes should **inherits** the `ElementaryParticle` class. \n",
    "\n",
    "- **(2 points x 2 classes = 4 points)** Both classes should have an `__init__` method that takes in four arguments: `ptype`, `charge`, `mass`, `spin`. This `__init__` method should:\n",
    "\n",
    "    - use `ElementaryParticle`'s `__init__` method to initialize the last three attributes. (2 points)\n",
    "    \n",
    "    - call the method `check_existence` to verify that we have passed the correct arguments. (1 point)\n",
    "\n",
    "- **(8 points)** The `Fermion` class should have a method called `is_antiparticle`. This method should:\n",
    "\n",
    "    - take one input, `other`, which is an object.\n",
    "    \n",
    "    - check whether `other` is an **instance** of `Fermion`. If not raise a `TypeError` with the message (f\"{other.ptype} is not an instance of Fermion\")\n",
    "    \n",
    "    - if `other` is an **instance** of `Fermion` then\n",
    "    \n",
    "        - check whether the `mass` **and** the `spin` attributes of `other` are equal to the `mass` and the `spin` attributes of `self`, **and** if the `charge` attribute of `other` is equal to the opposite of `charge` attribute of `self`. **Note** All three conditional statements should be True. If they are all True retrun True otherwise return False. \n",
    "        \n",
    "_Hint_ : Look around the code I provided to see how to raise errors and check for instances, you can also look at this [link](https://docs.python.org/3/tutorial/errors.html#raising-exceptions)\n"
   ]
  },
  {
   "cell_type": "code",
   "execution_count": null,
   "metadata": {
    "ExecuteTime": {
     "end_time": "2022-11-17T01:53:51.456217Z",
     "start_time": "2022-11-17T01:53:51.447876Z"
    },
    "code_folding": []
   },
   "outputs": [],
   "source": [
    "class Boson():\n",
    "    \"\"\"\n",
    "    GaugeBoson: elementary particles that obey Bose-Einstein statistics and are force carriers.\n",
    "    This class inherits the ElementaryParticle class.\n",
    "    \"\"\"\n",
    "    def __init__(self, charge, mass, spin, ptype):\n",
    "        \"\"\"\n",
    "        Initialize the quark with its name, color charge, electric charge, mass, and spin.\n",
    "\n",
    "        Parameters\n",
    "        ----------\n",
    "        charge: float\n",
    "                Electric charge.\n",
    "\n",
    "        mass: float\n",
    "            Mass in MeV.\n",
    "\n",
    "        spin: float\n",
    "            Spin of the particle. Must be an integral number.\n",
    "\n",
    "        ptype : string\n",
    "            Type (or name) of the particle, e.g. electron, photon, higgs etc...\n",
    "        \"\"\"\n",
    "        # Complete this\n",
    "        pass\n",
    "    \n",
    "    \n",
    "    def check_existence(self):\n",
    "        \"\"\"Check whether the particle can exist by verifying its statistics. \"\"\"\n",
    "        \n",
    "        if self.get_statistics() == \"boson\":\n",
    "            raise ValueError(f\"The particle {self.ptype} cannot exist. Fermions must have fractional spin\")\n",
    "\n",
    "\n",
    "class Fermion():\n",
    "    \"\"\"\n",
    "    Fermion: elementary particle that obeys Fermi-Dirac statistics.\n",
    "    This class inherits the ElementaryParticle class.\n",
    "    \"\"\"\n",
    "\n",
    "    def __init__(self, charge, mass, spin, ptype):\n",
    "        \"\"\"\n",
    "        Initialize the quark with its name, color charge, electric charge, mass, and spin.\n",
    "\n",
    "        Parameters\n",
    "        ----------\n",
    "        charge: float\n",
    "                Electric charge.\n",
    "\n",
    "        mass: float\n",
    "            Mass in MeV.\n",
    "\n",
    "        spin: float\n",
    "            Spin of the particle. Must be an integral number.\n",
    "\n",
    "        ptype : string\n",
    "            Type (or name) of the particle, e.g. electron, photon, higgs etc...\n",
    "        \"\"\"\n",
    "        # Complete this\n",
    "        pass\n",
    "    \n",
    "    \n",
    "    def check_existence(self):\n",
    "        \"\"\"Check whether the particle can exist by verifying its statistics. \"\"\"\n",
    "        \n",
    "        if self.get_statistics() == \"boson\":\n",
    "            raise ValueError(f\"The particle {self.ptype} cannot exist. Fermions must have fractional spin\")\n",
    "\n",
    "    def is_antiparticle():\n",
    "        \"\"\"\n",
    "        Check whether the other particle is the antiparticle of this one.         \n",
    "        It does this by checking for a Fermion instance first and \n",
    "        then checks for equivalence in their attributes\n",
    "        \n",
    "        Parameters\n",
    "        ----------\n",
    "        \n",
    "        other : ElementaryParticle\n",
    "            Particle to check against.\n",
    "            \n",
    "        \n",
    "        Returns\n",
    "        -------\n",
    "        True if other is an anti-particle otherwise returns False\n",
    "        \n",
    "        \"\"\"\n",
    "        \n",
    "        pass"
   ]
  },
  {
   "cell_type": "markdown",
   "metadata": {
    "code_folding": []
   },
   "source": [
    "**&#9989; Do this** Run the following cell. You should the same exact output as the one below\n",
    "\n",
    "    ====================== AntiParticle ? ======================\n",
    "    Electron vs Positron: True\n",
    "    Muon vs electron: False"
   ]
  },
  {
   "cell_type": "code",
   "execution_count": null,
   "metadata": {
    "ExecuteTime": {
     "end_time": "2022-11-17T03:09:48.517376Z",
     "start_time": "2022-11-17T03:09:48.514089Z"
    },
    "code_folding": []
   },
   "outputs": [],
   "source": [
    "# DO NOT EDIT THIS CELL !!!!\n",
    "# Create some particles\n",
    "electron = Fermion(ptype = \"electron\", charge = -1., mass = 0.5,  spin = 1./2.)\n",
    "     \n",
    "positron = Fermion(ptype = \"positron\", charge = 1.0, mass = 0.5, spin = 0.5)\n",
    "\n",
    "muon = Fermion(ptype = \"muon\", charge = -1., mass = 0.5,  spin = 1./2.)\n",
    "\n",
    "\n",
    "# Compare\n",
    "print(\"{:=^60}\".format(\" AntiParticle ? \"))     \n",
    "print(f\"Electron vs Positron: {electron.is_antiparticle(positron)}\")\n",
    "\n",
    "# Compare\n",
    "print(f\"Muon vs electron: {muon.is_antiparticle(electron)}\")"
   ]
  },
  {
   "cell_type": "markdown",
   "metadata": {},
   "source": [
    "**&#9989; Question 2.2: (1 point)** Any time you write new code, you should get in the habit of trying to test it to make sure it is working as intended, but we didn't check **all** of your new functionality in the code cell above. Run the following cell. You should get a `TypeError` saying `higgs is not an instance of Fermion`. **IMPORTANT** I said `TypeError`!!!"
   ]
  },
  {
   "cell_type": "code",
   "execution_count": null,
   "metadata": {
    "ExecuteTime": {
     "end_time": "2022-11-17T02:08:23.381202Z",
     "start_time": "2022-11-17T02:08:23.378416Z"
    }
   },
   "outputs": [],
   "source": [
    "# Compare\n",
    "higgs = Boson(ptype = \"higgs\", charge = 0.0, mass = 124.97e6, spin = 1.0) # <== DO NOT TOUCH THIS LINE !!!!\n",
    "\n",
    "print(f\"Higgs vs electron: {check whether the electron and the higgs are anti-particles here}\") "
   ]
  },
  {
   "cell_type": "markdown",
   "metadata": {},
   "source": [
    "---\n",
    "<a id=\"part3\"></a>\n",
    "[Back to ToC](#toc)\n",
    "\n",
    "## Part 3 Composition (8 points)\n",
    "\n",
    "\n",
    "**&#9989; Question 1.3**: The next cell contains the `Universe` class. As you can see it has two lists: `fermions` and `bosons` that will store all the fermions and bosons of the universe. Your task is\n",
    "\n",
    "- **(3 points)** Complete the `add_particle` method. Notice that this method takes in one input already. This method should:\n",
    "\n",
    "    - Call the `place_at` method of the `particle` input and pass it a random tuple (e.g. `np.random.random(size = 2)`\n",
    "    \n",
    "    - Add the `particle` to the `fermions` list if the particle is a `fermion` or to the `bosons` lists if the particle is a `boson`.\n",
    "    \n",
    "- **(5 points)** Complete the `total_mass` method. This method should:\n",
    "\n",
    "    - calculate the total mass of the `Universe` by looping over all the particles and summing their `mass` attributes. \n",
    "    \n",
    "    - return the calculated mass"
   ]
  },
  {
   "cell_type": "code",
   "execution_count": null,
   "metadata": {
    "ExecuteTime": {
     "end_time": "2022-11-17T01:53:51.515037Z",
     "start_time": "2022-11-17T01:53:51.093Z"
    }
   },
   "outputs": [],
   "source": [
    "class Universe:\n",
    "    \"\"\"Universe class. There is nothing otherwise.\"\"\"\n",
    "\n",
    "    def __init__(self):\n",
    "        \"\"\"\n",
    "        Create an infinite universe and initialize the fermions and bosons containers.\n",
    "        \"\"\"\n",
    "        # Create empty lists for the fermions and bosons.\n",
    "        self.fermions = []\n",
    "        self.bosons = []\n",
    "\n",
    "    def add_particle(self, particle):\n",
    "        \"\"\"\n",
    "        Create an infinite universe and initialize the fermions and bosons containers.\n",
    "        \"\"\"\n",
    "        # Randomly place the particle in space using the place_at method of the particle\n",
    "        \n",
    "        # add the particle to the fermion list or boson lists\n",
    "        pass\n",
    "        \n",
    "        \n",
    "        \n",
    "    def total_mass(self):\n",
    "        \"\"\"\n",
    "        Calculate the total mass of the universe from all the particles.\n",
    "        \"\"\"\n",
    "        \n",
    "        pass"
   ]
  },
  {
   "cell_type": "markdown",
   "metadata": {},
   "source": [
    "**&#9989; Do this**: Run the following cell. You should get an output like the following\n",
    "\n",
    "    The total mass of the universe, with only fermions is, is: 1.5 MeV\n",
    "    The total mass of the universe after the addition of bosons is: 2.9659e+08 eV"
   ]
  },
  {
   "cell_type": "code",
   "execution_count": null,
   "metadata": {
    "ExecuteTime": {
     "end_time": "2022-11-17T17:59:24.476813Z",
     "start_time": "2022-11-17T17:59:24.435602Z"
    }
   },
   "outputs": [],
   "source": [
    "# DO NOT EDIT THIS CELL !!!!\n",
    "my_uni = Universe()\n",
    "\n",
    "electron = Fermion(ptype = \"electron\", charge = -1., mass = 0.5,  spin = 1./2.)   \n",
    "positron = Fermion(ptype = \"positron\", charge = 1.0, mass = 0.5, spin = 0.5)\n",
    "muon = Fermion(ptype = \"muon\", charge = -1., mass = 0.5,  spin = 1./2.)\n",
    "\n",
    "\n",
    "my_uni.add_particle(electron)\n",
    "my_uni.add_particle(muon)\n",
    "my_uni.add_particle(positron)\n",
    "print(f\"The total mass of the universe, with only fermions is, is: {my_uni.total_mass()} MeV\")\n",
    "\n",
    "photon = Boson(ptype = \"photon\", charge = 0.0, mass = 0.0, spin = 1.0)\n",
    "my_uni.add_particle(photon)\n",
    "\n",
    "Wboson = Boson(ptype = \"W\", charge = 0.0, mass = 80.433e6, spin = 1.0)\n",
    "my_uni.add_particle(Wboson)\n",
    "\n",
    "Zboson = Boson(ptype = \"Z\", charge = 0.0, mass = 91.19e6, spin = 1.0)\n",
    "my_uni.add_particle(Zboson)\n",
    "\n",
    "\n",
    "higgs = Boson(ptype = \"higgs\", charge = 0.0, mass = 124.97e6, spin = 1.0)\n",
    "my_uni.add_particle(higgs)\n",
    "print(f\"The total mass of the universe after the addition of bosons is: {my_uni.total_mass():.4e} eV\")"
   ]
  },
  {
   "cell_type": "markdown",
   "metadata": {},
   "source": [
    "### Congratulations, you're done!\n",
    "\n",
    "Submit this assignment by uploading it to the course Desire2Learn web page.  Go to the \"Exams\" folder, find the dropbox link for \"Midterm Extra\", and upload **your notebook** there."
   ]
  },
  {
   "cell_type": "markdown",
   "metadata": {},
   "source": [
    "&#169; Copyright 2022,  Department of Computational Mathematics, Science and Engineering at Michigan State University"
   ]
  }
 ],
 "metadata": {
  "anaconda-cloud": {},
  "kernelspec": {
   "display_name": "Python 3",
   "language": "python",
   "name": "python3"
  },
  "language_info": {
   "codemirror_mode": {
    "name": "ipython",
    "version": 3
   },
   "file_extension": ".py",
   "mimetype": "text/x-python",
   "name": "python",
   "nbconvert_exporter": "python",
   "pygments_lexer": "ipython3",
   "version": "3.8.8"
  },
  "latex_envs": {
   "LaTeX_envs_menu_present": true,
   "autoclose": false,
   "autocomplete": true,
   "bibliofile": "biblio.bib",
   "cite_by": "apalike",
   "current_citInitial": 1,
   "eqLabelWithNumbers": true,
   "eqNumInitial": 1,
   "hotkeys": {
    "equation": "Ctrl-E",
    "itemize": "Ctrl-I"
   },
   "labels_anchors": false,
   "latex_user_defs": false,
   "report_style_numbering": false,
   "user_envs_cfg": false
  }
 },
 "nbformat": 4,
 "nbformat_minor": 4
}
