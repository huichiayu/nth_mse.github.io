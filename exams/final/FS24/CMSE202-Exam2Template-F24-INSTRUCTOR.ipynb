{
 "cells": [
  {
   "cell_type": "markdown",
   "metadata": {},
   "source": [
    "## <p style=\"text-align: right;\"> &#9989; Put your name here</p>"
   ]
  },
  {
   "cell_type": "markdown",
   "metadata": {},
   "source": [
    "# CMSE 202 Exam II (Section XXX - Fall 2024)\n",
    "\n",
    "The goal of this exam is to give you the opportunity to test out some of the skills that you've developed having now finished CMSE 202. In particular, you'll be showcasing your understanding of Git, working with data to build a network graph, performing regression analysis, and classifying data using a machine learning classifier. You should find that you have all of the skills necessary to complete this exam having completed the second half of CMSE 202!\n",
    "\n",
    "You are encouraged to look through the entire exam before you get started so that you can appropriately budget your time and understand the broad goals of the exam. \n",
    "\n",
    "The exam is set up so that even if you get stuck on one part there are opportunities to get points on the other parts, so consider jumping ahead if you feel like you aren't making progress and then come back later if you have time.\n",
    "\n",
    "**Important note about using online resources**: This exam is \"open internet\". That means that you can look up documentation, google how to accomplish certain Python tasks, etc. Being able to effectively use the internet for computational modeling and data science is a very important skill, so we want to make sure you have the opportunity to exercise that skill. You can also use _your version_ of past CMSE 202 assignments and the CMSE 202 course materials as a resource! **However: The use of any person-to-person communication software or generative AI tools is absolutely not acceptable.** If you are seen accessing your email, using a collaborative cloud storage or document software (e.g. Slack, Google Documents), or generative AIs (e.g. ChatGPT), you will be at risk for receiving a zero on the exam.\n",
    "\n",
    "**Keep your eyes on your screen!** Unfortunately, there isn't enough space in the room for everyone to sit at their own table so please keep your eyes on your own screen. This exam is designed to give *you* the opportunity to show the instructor what you can do and you should hold yourself accountable for maintaining a high level of academic integrity. If any of the instructors observe suspicious behavior, you will, again, risk receiving a zero."
   ]
  },
  {
   "cell_type": "markdown",
   "metadata": {},
   "source": [
    "---\n",
    "## Part 0: Academic integrity statement\n",
    "\n",
    "Read the following statement and edit the markdown text to put your name in the statement. This is your commitment to doing your own authentic work on this exam."
   ]
  },
  {
   "cell_type": "markdown",
   "metadata": {},
   "source": [
    "> I, **INSERT NAME HERE**, affirm that this exam represents my own authetic work, without the use of any unpermitted aids or resources or person-to-person communication. I understand that this exam an an opportunity to showcase my own progress in developing and improving my computational skills and have done my best to demonstrate those skills."
   ]
  },
  {
   "cell_type": "markdown",
   "metadata": {},
   "source": [
    "---\n",
    "## Part 1: Git (XX points)\n",
    "\n",
    "This part of the exam will check your understanding of using Git. To avoid merge conflicts and other issues, you will not actually be pushing anything to Github. Rather, you will just be writing the code you would use to accomplish the specified tasks. "
   ]
  },
  {
   "cell_type": "markdown",
   "metadata": {},
   "source": [
    "###ANSWER (for making sure this gets removed)\n",
    "\n",
    "#### Instructor information\n",
    "\n",
    "The goals for this part of the exam are check students' understanding of Git without actually having them use git (to avoid merge conflicts during exam time):\n",
    "\n",
    "1. Given a scenario (the one in provided image if you choose [provided by Firas]), what sequence of Git commands would you need to do to accomplish the example.\n",
    "2. Ask for a completed example of Git code that does a specific task (checkout, fork, status, log, etc.)\n",
    "3. Potentially give a question like \"Did you find value in learning git in the course? Why or why not?\" Basically free points if answered but encourages them to think about the utility of the tool. \n",
    "4. Conceptual question such as \"Why would you want to fork a repository rather than branch from a repository?\"\n",
    "\n",
    "This component of the exam should be similar to the sorts of things they we asked to do in Homework 2, but be careful about having them doing anything too complicated with the graph or ensure that there is clear documentation that they should be able to find to figure out what they need to do."
   ]
  },
  {
   "cell_type": "markdown",
   "metadata": {},
   "source": [
    "<img src=\"https://github.com/hoolagans/CMSE202_FS24/blob/main/branching_scenario.png?raw=true\" width=400px align=\"center\" style=\"margin-left: 20px\" alt=\"Git scenario\">"
   ]
  },
  {
   "cell_type": "markdown",
   "metadata": {},
   "source": [
    "---\n",
    "## Part 2: Generate a network graph from data (XX points)"
   ]
  },
  {
   "cell_type": "markdown",
   "metadata": {},
   "source": [
    "###ANSWER (for making sure this gets removed)\n",
    "\n",
    "#### Instructor information\n",
    "\n",
    "The goals for this part of the exam are for students to do the following:\n",
    "\n",
    "1. Use a provided dataset to create a simple network graph using networkx.\n",
    "2. Display the graph\n",
    "3. Perform some basic analysis using the graph (finding highest degree node, average degree, visualize/color a graph, seeing if a path exists between specific nodes, etc.).\n",
    "\n",
    "This component of the exam should be similar to the sorts of things they we asked to do in Homework 2, but be careful about having them doing anything too complicated with the graph or ensure that there is clear documentation that they should be able to find to figure out what they need to do."
   ]
  },
  {
   "cell_type": "markdown",
   "metadata": {},
   "source": [
    "---\n",
    "## Part 3: Perform a regression analysis on data (XX points)"
   ]
  },
  {
   "cell_type": "markdown",
   "metadata": {},
   "source": [
    "###ANSWER (for making sure this gets removed)\n",
    "\n",
    "#### Instructor information\n",
    "\n",
    "The goals for this part of the exam are for students to do the following:\n",
    "\n",
    "1. Use a provided dataset to perform linear/multiple/logistic regression using statsmodels.\n",
    "2. If applicable, you could have students select only significant features and try fit again with reduced feature set and report on changes.\n",
    "3. Answer conceptual questions to indicate they can correctly interpret the results (e.g. how good is the fit? what as the important features (regressors) for the regression model?)\n",
    "\n",
    "This component of the exam should involve things connected to Homework #3. The things students are being asked to do should be pretty simple and **careful attention should be paid to making sure this works on JupyterHub**."
   ]
  },
  {
   "cell_type": "markdown",
   "metadata": {},
   "source": [
    "---\n",
    "## Part 4: Perform a support vector machine (SVM) classification on data with PCA (XX points)"
   ]
  },
  {
   "cell_type": "markdown",
   "metadata": {},
   "source": [
    "###ANSWER (for making sure this gets removed)\n",
    "\n",
    "#### Instructor information\n",
    "\n",
    "The goals for this part of the exam are for students to do the following:\n",
    "\n",
    "1. Perform a train-test split of data\n",
    "2. Answer conceptual questions about the data using some of the terminology using in ML (e.g. what are features? what are labels? what are samples? etc.)\n",
    "3. Fit an SVM classifier to training data and then run a prediction on testing data\n",
    "4. Interpret the outputs of the classification report and confusion matrix.\n",
    "5. Use a provided dataset to perform PCA and select a subset of features that capture a certain percentage of total variance.\n",
    "6. Answer conceptual questions to indicate they can correctly interpret the results/visualizations (e.g. how did the data change? Can a lot of the variance be captured in few features? Does it seem the transformed space will be easier to classify?)\n",
    "7. Retest SVM model on transformed data and discuss if performance changed. \n",
    "\n",
    "This component of the exam should mirror what they were expected to do in Homework 4, "
   ]
  },
  {
   "cell_type": "markdown",
   "metadata": {},
   "source": [
    "## You're done! Congrats on finishing your CMSE 202 Exam!\n",
    "\n",
    "Upload a copy of this notebook to the dropbox on D2L."
   ]
  }
 ],
 "metadata": {
  "kernelspec": {
   "display_name": "Python 3 (ipykernel)",
   "language": "python",
   "name": "python3"
  },
  "language_info": {
   "codemirror_mode": {
    "name": "ipython",
    "version": 3
   },
   "file_extension": ".py",
   "mimetype": "text/x-python",
   "name": "python",
   "nbconvert_exporter": "python",
   "pygments_lexer": "ipython3",
   "version": "3.8.3"
  }
 },
 "nbformat": 4,
 "nbformat_minor": 4
}
