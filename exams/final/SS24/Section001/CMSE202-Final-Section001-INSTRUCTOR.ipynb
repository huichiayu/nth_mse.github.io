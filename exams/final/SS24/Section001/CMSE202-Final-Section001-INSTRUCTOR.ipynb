{
 "cells": [
  {
   "cell_type": "markdown",
   "metadata": {},
   "source": [
    "## <p style=\"text-align: right;\"> &#9989; Put your name here</p>"
   ]
  },
  {
   "cell_type": "markdown",
   "metadata": {},
   "source": [
    "# CMSE 202 Final (Section 001- Spring 2024)\n",
    "\n",
    "The goal of this final is to give you the opportunity to test out some of the skills that you've developed having now finished CMSE 202. In particular, you'll be committing and pushing repository changes to a GitHub repository, working with data to build a network graph, performing regression analysis, and classifying data using a machine learning classifier. You should find that you have all of the skills necessary to complete this exam having completed the second half of CMSE 202!\n",
    "\n",
    "You are encouraged to look through the entire exam before you get started so that you can appropriately budget your time and understand the broad goals of the exam. Once you've read through it, you'll probably want to make sure you do Part 1 first to ensure that your GitHub repository is working correctly. Let your instructor know right away if you run into issues!\n",
    "\n",
    "The exam is set up so that even if you get stuck on one part there are opportunities to get points on the other parts, so consider jumping ahead if you feel like you aren't making progress and then come back later if you have time.\n",
    "\n",
    "**Important note about using online resources**: This exam is \"open internet\". That means that you can look up documentation, google how to accomplish certain Python tasks, etc. Being able to effectively use the internet for computational modeling and data science is a very important skill, so we want to make sure you have the opportunity to exercise that skill. You can also use _your version_ of past CMSE 202 assignments and the CMSE 202 course materials as a resource! **However: The use of any person-to-person communication software or generative AI tools is absolutely not acceptable.** If you are seen accessing your email, using a collaborative cloud storage or document software (e.g. Slack, Google Documents), or generative AIs (e.g. ChatGPT), you will be at risk for receiving a zero on the exam.\n",
    "\n",
    "**Keep your eyes on your screen!** Unfortunately, there isn't enough space in the room for everyone to sit at their own table so please do your best to keep your eyes on your own screen. This exam is designed to give *you* the opportunity to show the instructor what you can do and you should hold yourself accountable for maintaining a high level of academic integrity. If any of the instructors observe suspicious behavior, you will, again, risk receiving a zero. If you're completing the exam virtually, the same standards of academic integrity apply!"
   ]
  },
  {
   "cell_type": "markdown",
   "metadata": {},
   "source": [
    "---\n",
    "## Part 0: Academic integrity statement\n",
    "\n",
    "Read the following statement and edit the markdown text to put your name in the statement. This is your commitment to doing your own authentic work on this exam."
   ]
  },
  {
   "cell_type": "markdown",
   "metadata": {},
   "source": [
    "> I, **INSERT NAME HERE**, affirm that this exam represents my own authetic work, without the use of any unpermitted aids or resources or person-to-person communication. I understand that this exam an an opportunity to showcase my own progress in developing and improving my computational skills and have done my best to demonstrate those skills."
   ]
  },
  {
   "cell_type": "markdown",
   "metadata": {},
   "source": [
    "---\n",
    "## Part 1: Add to your Git repository to track your progress on your exam (2 points)\n",
    "\n",
    "Before you get to far along in the exam, you're going to add it to the `cmse202-s24-turnin` repository you created in class so that you can track your progress on the exam and preserve the final version that you turn in. In order to do this you need to\n",
    "\n",
    "**&#9989; Do the following**:\n",
    "\n",
    "1. Navigate to your `cmse202-s24-turnin` repository and create a new directory called `final`.\n",
    "2. Move this notebook into that **new directory** in your repository, then **add it and commit it to your repository**.\n",
    "1. Finally, to test that everything is working, \"git push\" the file so that it ends up in your GitHub repository.\n",
    "\n",
    "**Important**: Double check you've added your Professor and your TA as collaborators to your \"turnin\" respository (you should have done this in the previous homework assignment).\n",
    "\n",
    "**Also important**: Make sure that the version of this notebook that you are working on is the same one that you just added to your repository! If you are working on a different copy of the noteobok, **none of your changes will be tracked**!\n",
    "\n",
    "If everything went as intended, the file should now show up on your GitHub account in the \"`cmse202-s24-turnin`\" repository inside the `final` directory that you just created. Periodically, **you'll be asked to commit your changes to the repository and push them to the remote GitHub location**. Of course, you can always commit your changes more often than that, if you wish.  It can be good to get into a habit of committing your changes any time you make a significant modification, or when you stop working on the project for a bit."
   ]
  },
  {
   "cell_type": "markdown",
   "metadata": {},
   "source": [
    "&#9989; **Question 1.1 (2 points)**: Before you move on, put the command that your instructor should run to clone your repository in the markdown cell below."
   ]
  },
  {
   "cell_type": "markdown",
   "metadata": {},
   "source": [
    "``` bash\n",
    "# Put the command for cloning your repository here!\n",
    "\n",
    "```"
   ]
  },
  {
   "cell_type": "markdown",
   "metadata": {},
   "source": [
    "---\n",
    "## Part 2: Generate a network graph from data (19 points)"
   ]
  },
  {
   "cell_type": "markdown",
   "metadata": {},
   "source": [
    "#### Instructor information (make sure this gets removed)\n",
    "\n",
    "The goals for this part of the exam are for students to do the following:\n",
    "\n",
    "1. Use a provided dataset to create a simple network graph using networkx.\n",
    "2. Perform some basic analysis using the graph.\n",
    "\n",
    "This component of the exam should be similar to the sorts of things they we asked to do in Part 3 of Homework 2, but be careful about having them doing anything too complicated with the graph or ensure that there is clear documentation that they should be able to find to figure out what they need to do."
   ]
  },
  {
   "cell_type": "markdown",
   "metadata": {},
   "source": [
    "In this part, we will create a network graph to represent the geographical adjacency relation between different countries. You can download the dataset from the following URL:\n",
    "\n",
    "`https://raw.githubusercontent.com/yangy5/HWFiles/main/borders.csv`"
   ]
  },
  {
   "cell_type": "markdown",
   "metadata": {},
   "source": [
    "&#9989; **Question 2.1 (3 points)**: To get started, **download the `.csv` file and place it in the same directory as your notebook**, then **read in the `borders.csv` dataset** as a Pandas data frame ,and finally **display the first 20 rows of the data**."
   ]
  },
  {
   "cell_type": "code",
   "execution_count": null,
   "metadata": {},
   "outputs": [],
   "source": [
    "### Put your code here\n"
   ]
  },
  {
   "cell_type": "code",
   "execution_count": null,
   "metadata": {},
   "outputs": [],
   "source": [
    "### ANSWER\n",
    "\n",
    "import pandas as pd\n",
    "import numpy as np\n",
    "\n",
    "!curl -O https://raw.githubusercontent.com/yangy5/HWFiles/main/borders.csv\n",
    "\n",
    "df = pd.read_csv('borders.csv', index_col = False)\n",
    "\n",
    "df[0:20]\n",
    "\n",
    "# Rubric:\n",
    "# 1 point for downloading the data\n",
    "# 1 point for reading the .csv file\n",
    "# 1 point for displaying the first 20 rows"
   ]
  },
  {
   "cell_type": "markdown",
   "metadata": {},
   "source": [
    "You should see two columns: `Country` and `Neighbor`. These are the two (unique) country names that are adjacent. If `Neighbor` is `NaN`, the country has no neighbor.\n",
    "\n",
    "\n",
    "&#9989; **Question 2.2 (2 points)**: How many countries have no neighbor?"
   ]
  },
  {
   "cell_type": "code",
   "execution_count": null,
   "metadata": {},
   "outputs": [],
   "source": [
    "### Put your code here\n"
   ]
  },
  {
   "cell_type": "code",
   "execution_count": null,
   "metadata": {},
   "outputs": [],
   "source": [
    "### ANSWER\n",
    "\n",
    "nan_count = df['Neighbor'].isna().sum()\n",
    "\n",
    "print(\"Number of NaN values in the column 'Neighbor':\", nan_count)\n",
    "\n",
    "# Rubric:\n",
    "# 1 point for the method .isna()\n",
    "# 1 point for the method .sum()"
   ]
  },
  {
   "cell_type": "markdown",
   "metadata": {},
   "source": [
    "&#9989; **Question 2.3 (1 points)**: Replace all the `NaN`s in the data frame by the number 0."
   ]
  },
  {
   "cell_type": "code",
   "execution_count": null,
   "metadata": {},
   "outputs": [],
   "source": [
    "### Put your code here\n"
   ]
  },
  {
   "cell_type": "code",
   "execution_count": null,
   "metadata": {},
   "outputs": [],
   "source": [
    "### ANSWER\n",
    "\n",
    "df.fillna(0, inplace=True)\n",
    "\n",
    "df[0:20]\n",
    "\n",
    "# Rubric:\n",
    "# 1 point for the method .fillna"
   ]
  },
  {
   "cell_type": "markdown",
   "metadata": {},
   "source": [
    "&#9989; **Question 2.4 (5 points)**: **Create an undirected `networkx` graph** (you can call it `G`). Make sure it is an undirected graph. Then, iterate over the dataset and **add edges between the `Country` and `Neighbor` when the latter is not 0**. Finally, **draw the graph**."
   ]
  },
  {
   "cell_type": "code",
   "execution_count": null,
   "metadata": {},
   "outputs": [],
   "source": [
    "### Put your code here\n"
   ]
  },
  {
   "cell_type": "code",
   "execution_count": null,
   "metadata": {},
   "outputs": [],
   "source": [
    "### ANSWER\n",
    "\n",
    "# Importing modules\n",
    "import networkx as nx\n",
    "import matplotlib.pyplot as plt\n",
    "\n",
    "\n",
    "G = nx.Graph()\n",
    "\n",
    "for _, edge in df.iterrows():\n",
    "    if edge['Neighbor'] != 0:\n",
    "        G.add_edge(edge['Country'], edge['Neighbor'])\n",
    "\n",
    "\n",
    "nx.draw(G, with_labels=True)\n",
    "\n",
    "\n",
    "# Rubric:\n",
    "# 1 pt for nx.Graph()\n",
    "# 3 pt for the loop, the \"if\" condition and G.add_edge\n",
    "# 1 pt for nx.draw"
   ]
  },
  {
   "cell_type": "markdown",
   "metadata": {},
   "source": [
    "&#9989; **Question 2.5 (2 points)**: How many nodes and edges does the graph have in total?"
   ]
  },
  {
   "cell_type": "code",
   "execution_count": null,
   "metadata": {},
   "outputs": [],
   "source": [
    "### Put your code here\n"
   ]
  },
  {
   "cell_type": "code",
   "execution_count": null,
   "metadata": {},
   "outputs": [],
   "source": [
    "### ANSWER\n",
    "\n",
    "num_nodes = G.number_of_nodes()\n",
    "num_edges = G.number_of_edges()\n",
    "\n",
    "print(f\"\\nNumber of nodes: {num_nodes}\")\n",
    "print(f\"Number of edges: {num_edges}\")\n",
    "\n",
    "# Rubric:\n",
    "# 1 point for the number of nodes\n",
    "# 1 point for the number of edges"
   ]
  },
  {
   "cell_type": "markdown",
   "metadata": {},
   "source": [
    "The number of edges attached to a node is said to be the _degree_ of the node. The `networkx` package has a method to compute degrees.\n",
    "\n",
    "&#9989; **Question 2.6 (4 points)**: Using the relevant `networkx` method (consult the documentation/internet resources), **list the five countries that have the most neighbors**."
   ]
  },
  {
   "cell_type": "code",
   "execution_count": null,
   "metadata": {},
   "outputs": [],
   "source": [
    "### Put your code here\n"
   ]
  },
  {
   "cell_type": "code",
   "execution_count": null,
   "metadata": {},
   "outputs": [],
   "source": [
    "### ANSWER\n",
    "\n",
    "degrees = G.degree()\n",
    "\n",
    "sorted_degrees = sorted(degrees, key=lambda x: x[1], reverse=True)\n",
    "\n",
    "sorted_degrees[0:5]\n",
    "\n",
    "\n",
    "# Rubric:\n",
    "# 1 pt for calling G.degree()\n",
    "# 2 pt for sorting the degrees\n",
    "# 1 pt for display"
   ]
  },
  {
   "cell_type": "markdown",
   "metadata": {},
   "source": [
    "&#9989; **Question 2.7 (2 point)** Using the relevant `networkx` function (consult the documentation/internet resources), **find the \"shortest path\" between `\"Portugal\"` and `\"Greece\"`**. The two countries are not adjacent, but you should be able to determine a set of nodes to \"traverse\" to get from one country to the other. **Display the list of countries on this shortest path.**"
   ]
  },
  {
   "cell_type": "code",
   "execution_count": null,
   "metadata": {},
   "outputs": [],
   "source": [
    "### Put your code here\n"
   ]
  },
  {
   "cell_type": "code",
   "execution_count": null,
   "metadata": {},
   "outputs": [],
   "source": [
    "###ANSWER\n",
    "\n",
    "nx.shortest_path(G, \"Portugal\", \"Greece\")\n",
    "\n",
    "# Rubric:\n",
    "# 1 point for the mehod .shortest_path\n",
    "# 1 point for display"
   ]
  },
  {
   "cell_type": "markdown",
   "metadata": {},
   "source": [
    "---\n",
    "### &#128721; STOP\n",
    "**Pause to commit your changes to your Git repository!**\n",
    "m\n",
    "Take a moment to save your notebook, commit the changes to your Git repository using the commit message \"**Committing Part 2**\", and push the changes to GitHub.\n",
    "\n",
    "---"
   ]
  },
  {
   "cell_type": "markdown",
   "metadata": {},
   "source": [
    "---\n",
    "## Part 3: Perform a regression analysis on data (18 points)"
   ]
  },
  {
   "cell_type": "markdown",
   "metadata": {},
   "source": [
    "#### Instructor information (make sure this gets removed)\n",
    "\n",
    "The goals for this part of the exam are for students to do the following:\n",
    "\n",
    "1. Use a provided dataset to perform linear/multiple/logistic regression using statsmodels.\n",
    "2. Answer conceptual questions to indicate they can correctly interpret the results (e.g. how good is the fit? what as the important features (regressors) for the regression model?)\n",
    "\n",
    "This component of the exam should involve things connected to Parts 3, 4, and 5 of Homework #3. The things students are being asked to do should be pretty simple and **careful attention should be paid to making sure this works on JupyterHub**."
   ]
  },
  {
   "cell_type": "markdown",
   "metadata": {},
   "source": [
    "The goal for this part is to do a multivariate linear regression, also known as multiple linear regression, to understand the relation between house price and other factors in Boston. You can download the dataset from this URL:\n",
    "\n",
    "`https://raw.githubusercontent.com/yangy5/HWFiles/main/BostonHousePrice.csv`"
   ]
  },
  {
   "cell_type": "markdown",
   "metadata": {},
   "source": [
    "&#9989; **Question 3.1 (3 points)**: To get started, **download the `.csv` file and place it in the same directory as your notebook**, then **read in the `BostonHousePrice.csv` dataset** and finally **display the first few rows of the data**. You can use `Pandas` for this task or any other Python tool you prefer."
   ]
  },
  {
   "cell_type": "code",
   "execution_count": null,
   "metadata": {},
   "outputs": [],
   "source": [
    "### Put your code here\n"
   ]
  },
  {
   "cell_type": "code",
   "execution_count": null,
   "metadata": {},
   "outputs": [],
   "source": [
    "### ANSWER\n",
    "\n",
    "import pandas as pd\n",
    "\n",
    "!curl -O https://raw.githubusercontent.com/yangy5/HWFiles/main/BostonHousePrice.csv\n",
    "\n",
    "data = pd.read_csv('BostonHousePrice.csv')\n",
    "\n",
    "data\n",
    "\n",
    "\n",
    "# Rubric:\n",
    "# 1 point for downloading the data\n",
    "# 1 point for reading the .csv file\n",
    "# 1 point for displaying the data frame"
   ]
  },
  {
   "cell_type": "markdown",
   "metadata": {},
   "source": [
    "You should see a list of students with several different information including:\n",
    "* CRIM:     per capita crime rate by town\n",
    "* ZN:       proportion of residential land zoned for lots over 25,000 sq.ft.\n",
    "* INDUS:    proportion of non-retail business acres per town\n",
    "* NOX:      nitric oxides concentration (parts per 10 million)\n",
    "* RM:       average number of rooms per dwelling\n",
    "* AGE:      proportion of owner-occupied units built prior to 1940\n",
    "* DIS:      weighted distances to five Boston employment centres\n",
    "* B:        1000(Bk - 0.63)^2 where Bk is the proportion of blacks by town\n",
    "* LSTAT:    lower status of the population\n",
    "\n",
    "You will be trying to predict `PRICE` using linear regression using the features.\n",
    "\n",
    "\n",
    "&#9989; **Question 3.2 (3 points)**: **Construct two data frames** using the loaded data: one named `labels` and the other named `features`. The `labels` data frame should consist solely of the `PRICE` column, while the `features` data frame should contain all the other columns. **Display the first few lines of these data frames.**"
   ]
  },
  {
   "cell_type": "code",
   "execution_count": null,
   "metadata": {},
   "outputs": [],
   "source": [
    "### Put your code here\n"
   ]
  },
  {
   "cell_type": "code",
   "execution_count": null,
   "metadata": {},
   "outputs": [],
   "source": [
    "labels = data['PRICE']\n",
    "features = data[['CRIM', 'ZN', 'INDUS', 'NOX', 'RM', 'AGE', 'DIS', 'B', 'LSTAT']]\n",
    "\n",
    "\n",
    "labels.head()\n",
    "features.head()\n",
    "\n",
    "# Rubric:\n",
    "# 1 point for selecting the `labels` data (the `PRICE` column only)\n",
    "# 1 point for selecting the `features` data (all of the other columns)\n",
    "# 1 point for printing the first few lines of either of them"
   ]
  },
  {
   "cell_type": "markdown",
   "metadata": {},
   "source": [
    "Next, we will fit the data using the ordinary least squares model `OLS` in `statsmodel`. \n",
    "\n",
    "&#9989; **Question 3.3 (2 point)**: Before proceeding, **add a column of constants** (set to 1.0) to the `features` data frame. You learned about a `statsmodels` function in class that can accomplish this task. Label the modified data frame as `features_const`. **Display** `features_const` to verify that the new column is indeed added."
   ]
  },
  {
   "cell_type": "code",
   "execution_count": null,
   "metadata": {},
   "outputs": [],
   "source": [
    "### Put your code here\n"
   ]
  },
  {
   "cell_type": "code",
   "execution_count": null,
   "metadata": {},
   "outputs": [],
   "source": [
    "###ANSWER\n",
    "\n",
    "import statsmodels.api as sm \n",
    "\n",
    "features_const = sm.add_constant(features)\n",
    "\n",
    "features_const.head()\n",
    "\n",
    "\n",
    "# Rubric:\n",
    "# 1 point for adding the column\n",
    "# 1 point for printing `features_const`"
   ]
  },
  {
   "cell_type": "markdown",
   "metadata": {},
   "source": [
    "Now you will perform the actual fit.\n",
    "\n",
    "&#9989; **Question 3.4 (3 points)**: Using `statsmodels` `OLS`, **perform a fit** using `labels` (containing `PRICE`) as the dependent variable and `features_const` as the independent variable. **Print the fit** using `summary()`."
   ]
  },
  {
   "cell_type": "code",
   "execution_count": null,
   "metadata": {},
   "outputs": [],
   "source": [
    "### Put your code here\n"
   ]
  },
  {
   "cell_type": "code",
   "execution_count": null,
   "metadata": {
    "scrolled": true
   },
   "outputs": [],
   "source": [
    "###ANSWER\n",
    "\n",
    "lm = sm.OLS(labels,features_const).fit()\n",
    "\n",
    "lm.summary()\n",
    "\n",
    "# Rubric:\n",
    "# 2 points for performing the fit\n",
    "# 1 point for printing the summary"
   ]
  },
  {
   "cell_type": "markdown",
   "metadata": {},
   "source": [
    "&#9989; **Question 3.5 (2 points)**: Among all the features, is there one that is significantly less important than others? justify your answer with a sentence or two."
   ]
  },
  {
   "cell_type": "markdown",
   "metadata": {},
   "source": [
    "<font size=+3>&#9998;</font> Do This - Erase the contents of this cell an put your answer here."
   ]
  },
  {
   "cell_type": "markdown",
   "metadata": {},
   "source": [
    "###ANSWER\n",
    "\n",
    "`AGE` is the only feature with p-value > 0.05.\n",
    "\n",
    "\n",
    "**Rubric:** \n",
    " 2 points for an explanation"
   ]
  },
  {
   "cell_type": "markdown",
   "metadata": {},
   "source": [
    "&#9989; **Question 3.6 (3 points)**: **Remove the \"least important\" feature**, then **fit the model again** and **print the fit** using `summary()` again."
   ]
  },
  {
   "cell_type": "code",
   "execution_count": null,
   "metadata": {},
   "outputs": [],
   "source": [
    "### Put your code here\n"
   ]
  },
  {
   "cell_type": "code",
   "execution_count": null,
   "metadata": {
    "scrolled": true
   },
   "outputs": [],
   "source": [
    "###ANSWER\n",
    "\n",
    "labels = data['PRICE']\n",
    "features = data[['CRIM', 'ZN', 'INDUS', 'NOX', 'RM', 'DIS', 'B', 'LSTAT']]\n",
    "\n",
    "features_const = sm.add_constant(features)\n",
    "\n",
    "lm = sm.OLS(labels,features_const).fit()\n",
    "lm.summary()\n",
    "\n",
    "\n",
    "# Rubric:\n",
    "# 1 point for removing 'AGE'\n",
    "# 1 point for running the fit again\n",
    "# 1 point for print the fit"
   ]
  },
  {
   "cell_type": "markdown",
   "metadata": {},
   "source": [
    "&#9989; **Question 3.7 (2 points)**: Discuss the difference in fit quality between the two fits. Did the second fit (with \"least important\" feature removed) outperform or underperform compared to the other? Describe how you evaluated the quality based on the fit statistics."
   ]
  },
  {
   "cell_type": "markdown",
   "metadata": {},
   "source": [
    "<font size=+3>&#9998;</font> Do This - Erase the contents of this cell an put your answer here."
   ]
  },
  {
   "cell_type": "markdown",
   "metadata": {},
   "source": [
    "###ANSWER\n",
    "\n",
    "Something along the lines of \"They both have pretty much the same R-squared, so removing `AGE` did not make much of a difference. The quantity used was R-squared. This was expected because of the high p-value.\n",
    "\n",
    "\n",
    "**Rubric:**\n",
    "1 point for explaining which fit summary parameter was used.\n",
    "1 point for pointing out that the fit quality doesn't change much."
   ]
  },
  {
   "cell_type": "markdown",
   "metadata": {},
   "source": [
    "---\n",
    "### &#128721; STOP\n",
    "**Pause to commit your changes to your Git repository!**\n",
    "\n",
    "Take a moment to save your notebook, commit the changes to your Git repository using the commit message \"**Committing Part 3**\", and push the changes to GitHub.\n",
    "\n",
    "---"
   ]
  },
  {
   "cell_type": "markdown",
   "metadata": {},
   "source": [
    "---\n",
    "## Part 4: Perform a support vector machine (SVM) classification on data (19 points)"
   ]
  },
  {
   "cell_type": "markdown",
   "metadata": {},
   "source": [
    "#### Instructor information (make sure this gets removed)\n",
    "\n",
    "The goals for this part of the exam are for students to do the following:\n",
    "\n",
    "1. Perform a train-test split of data\n",
    "2. Answer conceptual questions about the data using some of the terminology using in ML (e.g. what are features? what are labels? what are samples? etc.)\n",
    "3. Fit an SVM classifier to training data and then run a prediction on testing data\n",
    "4. Interpret the outputs of the classification report and confusion matrix.\n",
    "\n",
    "This component of the exam should mirror what they were expected to do in Homework 4, but pulling in PCA is probably not necessarily unless it's well-scaffolded and is fairly straightforward to do with the data... Also, it probably doesn't make sense to do anything with the Perceptron model for the purposes of the exam. And, again, **make sure this works on JupyterHub**."
   ]
  },
  {
   "cell_type": "markdown",
   "metadata": {},
   "source": [
    "The goal of this part is to do a support vector machine classification. We will classify male and female penguins based on the four features: `Culmen Length (mm)`, `Culmen Depth (mm)`, `Flipper Length (mm)`, `Body Mass (g)`. We will also perform a train-test split on the data first. You can download the dataset here:\n",
    "\n",
    "`https://raw.githubusercontent.com/yangy5/HWFiles/main/penguin.csv`"
   ]
  },
  {
   "cell_type": "markdown",
   "metadata": {},
   "source": [
    "&#9989; **Question 4.1 (3 point)**: **download the `.csv` file** and place it in the same directory as your notebook**, then **read in the `penguins.csv` dataset** and finally **display the first few rows of the data**."
   ]
  },
  {
   "cell_type": "code",
   "execution_count": null,
   "metadata": {},
   "outputs": [],
   "source": [
    "### Put your code here\n"
   ]
  },
  {
   "cell_type": "code",
   "execution_count": null,
   "metadata": {},
   "outputs": [],
   "source": [
    "###ANSWER\n",
    "\n",
    "import pandas as pd\n",
    "\n",
    "!curl -O https://raw.githubusercontent.com/yangy5/HWFiles/main/penguin.csv\n",
    "\n",
    "df = pd.read_csv('penguin.csv')\n",
    "\n",
    "df.head()\n",
    "\n",
    "\n",
    "# Rubric:\n",
    "# 1 point for downloading the data\n",
    "# 1 point for reading the .csv file\n",
    "# 1 point for displaying the data frame"
   ]
  },
  {
   "cell_type": "markdown",
   "metadata": {},
   "source": [
    "&#9989; **Question 4.2 (4 points)**: **Create two data structures** (e.g. dataframes) from your table: one called `labels` containing _only_ `Sex` and one called `features` containing _only_ `Culmen Length (mm)`, `Culmen Depth (mm)`, `Flipper Length (mm)`, and `Body Mass (g)`.\n",
    "\n",
    "Then, **perform a train-test-split** using functions we used in class. Use a `train_size` of `0.75` and `random_state` of `517`. You should now have a training and a testing set with \"labels\" and \"features\" each.\n",
    "\n",
    "**Syntax Note:** if you are using Pandas data frames for creating and storing your `labels` variable, you will need to make sure to use `['Sex']` for the single-column selection, not `[['Sex']]` as the latter will create a list of single-entry lists that the classification code you are going to use later will not like! "
   ]
  },
  {
   "cell_type": "code",
   "execution_count": null,
   "metadata": {},
   "outputs": [],
   "source": [
    "### Put your code here\n"
   ]
  },
  {
   "cell_type": "code",
   "execution_count": null,
   "metadata": {},
   "outputs": [],
   "source": [
    "###ANSWER\n",
    "\n",
    "from sklearn.model_selection import train_test_split\n",
    "\n",
    "labels = df['Sex']  ## the SVM code later will NOT like `df[['fuel']]` if a student does it that way!\n",
    "features = df[['Culmen Length (mm)', 'Culmen Depth (mm)', 'Flipper Length (mm)', 'Body Mass (g)']]\n",
    "\n",
    "features_train, features_test, labels_train, labels_test = train_test_split(features, labels, train_size=0.75, random_state=517)\n",
    "\n",
    "\n",
    "# Rubric:\n",
    "# 2 points for creating the correct `labels` and `features`\n",
    "# 2 points for creating the train-test split using the correct `train_size` and `random_state`"
   ]
  },
  {
   "cell_type": "markdown",
   "metadata": {},
   "source": [
    "&#9989; **Question 4.3 (6 points)**: **Train an SVM classifier** using the `sklearn` `SVC` class on the dataset. Apply a `linear` kernel and set the hyperparameter `C=0.1`. **Fit the classifier** using the training set and then use the trained model to **predict labels** for the testing set. Finally, **display the fit statistics** using `confusion_matrix` and `classification_report`. "
   ]
  },
  {
   "cell_type": "code",
   "execution_count": null,
   "metadata": {},
   "outputs": [],
   "source": [
    "### Put your code here\n"
   ]
  },
  {
   "cell_type": "code",
   "execution_count": null,
   "metadata": {},
   "outputs": [],
   "source": [
    "###ANSWER\n",
    "\n",
    "from sklearn.metrics import classification_report\n",
    "from sklearn.metrics import confusion_matrix, ConfusionMatrixDisplay\n",
    "from sklearn.svm import SVC\n",
    "\n",
    "\n",
    "svc = SVC(kernel='linear', C=0.1)\n",
    "svc.fit(features_train, labels_train)\n",
    "\n",
    "labels_predict = svc.predict(features_test)\n",
    "\n",
    "print(confusion_matrix(labels_test,labels_predict))\n",
    "print(classification_report(labels_test,labels_predict))\n",
    "#ConfusionMatrixDisplay.from_estimator(svc, features_test, labels_test);\n",
    "\n",
    "\n",
    "# Rubric:\n",
    "# 2 points for fitting the SVC using a linear kernel and C=0.1.\n",
    "# 2 point for using the training set for fitting and testing set for predicting.\n",
    "# 1 point for predicting.\n",
    "# 1 point for displaying either the `confusion_matrix` or the `classification_report`"
   ]
  },
  {
   "cell_type": "markdown",
   "metadata": {},
   "source": [
    "&#9989; **Question 4.4 (3 points)**: Analyze the results from your classification report and confusion matrix by addressing these three questions (provide at least one or two sentences for each response for full credit):\n",
    "\n",
    "* Describe your observations from the confusion matrix.\n",
    "* Would you evaluate this classifier as effective or ineffective?\n",
    "* Which metric from the classification report informed your decision?"
   ]
  },
  {
   "cell_type": "markdown",
   "metadata": {},
   "source": [
    "<font size=+3>&#9998;</font> Do This - Erase the contents of this cell an put your answer here."
   ]
  },
  {
   "cell_type": "markdown",
   "metadata": {},
   "source": [
    "###ANSWER\n",
    "\n",
    "* mostly on the diagonal.\n",
    "* Effective for most samples.\n",
    "* Accuracy seems high\n",
    "\n",
    "**Rubric:**\n",
    "\n",
    "1 point for \"confusion matrix is mostly diagonal, only a few off-diagonal elements\"\n",
    "\n",
    "1 point for \"looks to be a good classifier\"\n",
    "\n",
    "1 point for the quantity used to judge the classifier (e.g. accuracy)"
   ]
  },
  {
   "cell_type": "markdown",
   "metadata": {},
   "source": [
    "&#9989; **Question 4.5 (3 points)**: We've been using machine learning terminology throughout the course. Please define the following concepts in a few sentences each:\n",
    "\n",
    "* What do \"labels\" and \"features\" mean?\n",
    "* Why are \"training sets\" and \"testing sets\" important?"
   ]
  },
  {
   "cell_type": "markdown",
   "metadata": {},
   "source": [
    "<font size=+3>&#9998;</font> Do This - Erase the contents of this cell an put your answer here."
   ]
  },
  {
   "cell_type": "markdown",
   "metadata": {},
   "source": [
    "###ANSWER\n",
    "\n",
    "* Labels are the values we are trying to predict, features are the values we are using to predict them.\n",
    "* We need training sets to train the model, and testing sets to test the model. If we used the same data for both, we would not be able to tell if the model was overfitting.\n",
    "\n",
    "**Rubric:**\n",
    "\n",
    "1 point for explaining labels and features\n",
    "\n",
    "2 points for explaining why we need training and testing data\n"
   ]
  },
  {
   "cell_type": "markdown",
   "metadata": {},
   "source": [
    "---\n",
    "### &#128721; STOP\n",
    "**Pause to commit your changes to your Git repository!**\n",
    "\n",
    "Take a moment to save your notebook, commit the changes to your Git repository using the commit message \"**Committing Part 4**\", and push the changes to GitHub.\n",
    "\n",
    "---"
   ]
  },
  {
   "cell_type": "markdown",
   "metadata": {},
   "source": [
    "## You're done! Congrats on finishing your CMSE 202 Final!\n",
    "\n",
    "Make sure all of your changes to your repository are committed and pushed to GitHub. Also upload a copy of this notebook to the dropbox on D2L in case something went wrong with your repository or if you couldn't get the repository to work."
   ]
  }
 ],
 "metadata": {
  "kernelspec": {
   "display_name": "Python 3 (ipykernel)",
   "language": "python",
   "name": "python3"
  },
  "language_info": {
   "codemirror_mode": {
    "name": "ipython",
    "version": 3
   },
   "file_extension": ".py",
   "mimetype": "text/x-python",
   "name": "python",
   "nbconvert_exporter": "python",
   "pygments_lexer": "ipython3",
   "version": "3.8.3"
  }
 },
 "nbformat": 4,
 "nbformat_minor": 4
}
