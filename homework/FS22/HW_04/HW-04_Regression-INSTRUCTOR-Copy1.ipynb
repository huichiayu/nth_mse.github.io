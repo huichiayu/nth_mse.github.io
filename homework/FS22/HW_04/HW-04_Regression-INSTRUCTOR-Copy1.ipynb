{
 "cells": [
  {
   "cell_type": "markdown",
   "metadata": {},
   "source": [
    "###ANSWER (for making sure this gets removed)\n",
    "\n",
    "# Grading Rubric (103 points total + possible 5 bonus points)\n",
    "\n",
    "## Part 1 (12 points + 3 points at the end)\n",
    "* **1 point** per command\n",
    "\n",
    "## Part 2 (56 points)\n",
    "\n",
    "### Part 2.1 (33 points)\n",
    "\n",
    "* 2.1.1 Loading the data\n",
    "    * **1 poinr** for downloading the data\n",
    "    * **1 point** for loading the data into a Pandas dataframe\n",
    "    * **1 point** for setting the first column as the index\n",
    "    * **1 point** for displaying the first 8 rows\n",
    "    \n",
    "* 2.1.2 Answering questions\n",
    "    * **1 point** per question\n",
    "    \n",
    "* 2.1.3 Describe\n",
    "    * **1 point** for using describe. 0 points otherwise.\n",
    "       \n",
    "* 2.1.4 Answering questions\n",
    "    * **1 point** per question\n",
    "\n",
    "* 2.1.5 Unique\n",
    "    * **1 points** per line of code\n",
    "\n",
    "* 2.1.6 Pairplot\n",
    "    * **1 point** for dropping the columns\n",
    "    * **1 point** for using searborn to make the pairplot\n",
    "    * **1 point** for choosing an acceptable value for hue. Acceptable answers \"cut\", \"color\", \"clarity\".\n",
    "\n",
    "* 2.1.7 Answering questions\n",
    "    * **1 point** per (correct) question\n",
    "    \n",
    "* 2.1.8 Correlation matrices\n",
    "    * **2 points** for writing code. As long as they get an answer any code is fine.\n",
    "    * **1 point**  per answer to question.\n",
    "\n",
    "### Part 2.2 (23 points)\n",
    "\n",
    "* 2.2.1 Scatter plot\n",
    "    * **1 point** for using a mask\n",
    "    * **1 point** for making a scatter plot\n",
    "    * **1 point** for labeling the axes\n",
    "\n",
    "* 2.2.2 Answering questions\n",
    "    * **1 point** per question\n",
    "\n",
    "* 2.2.3 statsmodels ols\n",
    "    * **1 point** for importing statsmodels\n",
    "    * **1 point** for setting X = carat w/ or w/o add_constant\n",
    "    * **1 point** for setting Y = sqrt (price)\n",
    "    * **1 point** for calling OLS correctly\n",
    "    * **1 point** for fitting\n",
    "    * **1 point** for printing the summary and not just the coefficient.\n",
    "\n",
    "* 2.2.4 Answering questions\n",
    "    * **1 point** per question\n",
    "\n",
    "* 2.2.5 Regression plots\n",
    "    * **1 point** for making the right figsize\n",
    "    * **1 point** for using plot_regress_exog\n",
    "    * **1 point** for using carat \n",
    "\n",
    "* 2.2.6 Answering questions\n",
    "    * **1 point** for answering\n",
    "    * **1 point** for justifying the answer\n",
    "    * **1 point** for a sensible explanation. I would like to see \"constant variance\" and distribution of residual to be mentioned\n",
    "\n",
    "* Committing and pushing\n",
    "    * **1 point** for committing \n",
    "    * **1 point** for pushing\n",
    "    \n",
    "## Part 3 (33 points + 5 BONUS points)\n",
    "* 3.1 Downloading the data\n",
    "    * **1 point** for downloading the data\n",
    "    \n",
    "* 3.2 Loading the data\n",
    "    * **1 point** for loading the data into Pandas\n",
    "    * **1 point** for displaying the DataFrame\n",
    "    \n",
    "* 3.3 Preprocessing    \n",
    "    * **1 point** for dropping the \"ocean_proximity\" column\n",
    "    * **1 point** for dropping NaN rows\n",
    "    \n",
    "* 3.4 OLS\n",
    "    * **1 point** for importing statsmodels\n",
    "    * **1 point** for adding the constant column\n",
    "    * **1 point** for calling OLS() method\n",
    "    * **2 point** for correct arguments to OLS()\n",
    "    * **1 point** for performing the fit() and displaying the summary()\n",
    "    \n",
    "* 3.5 Interpreting the fit (two questions)\n",
    "    * **1 point** for answer (x2)\n",
    "    * **2 points** for justification (x2)\n",
    "    \n",
    "* 3.6 Spotting common OLS() error (two questions)\n",
    "    * **2 points** for answer (x2)\n",
    "    \n",
    "* 3.7 Reduced OLS() model\n",
    "    * **2 points** for picking a few features to drop \n",
    "    * **1 point** for calling OLS() method    \n",
    "    * **2 points** for correct arguments to OLS()\n",
    "    * **1 point** for performing the fit() and displaying the summary()\n",
    "    \n",
    "* 3.8 Interpreting the fit\n",
    "    * **2 points** for reasonable answer\n",
    "    * **2 points** for giving some quantitative justifications $R^2$-values or other\n",
    "    \n",
    "* 3.9 Bonus\n",
    "    * **5 points** I'm not sure how to assign partial credit here, but feel free to be lenient\n",
    "    \n",
    "* Committing and pushing\n",
    "    * **1 point** for committing \n",
    "    * **1 point** for pushing\n",
    "---"
   ]
  },
  {
   "cell_type": "markdown",
   "metadata": {},
   "source": [
    "# Homework Assignment #4 (Individual)\n",
    "## Regression models"
   ]
  },
  {
   "cell_type": "markdown",
   "metadata": {},
   "source": [
    "### <p style=\"text-align: right;\"> &#9989; Put your name here.</p>\n",
    "### <p style=\"text-align: right;\"> &#9989; Put your _GitHub username_ here.</p>"
   ]
  },
  {
   "cell_type": "markdown",
   "metadata": {},
   "source": [
    "### Goal for this homework assignment\n",
    "By now, you have learned a bit about regression models. In this assignment, you will practice:\n",
    "\n",
    "* Performing linear regression\n",
    "* Performing multiple regression\n",
    "\n",
    "**This assignment is due roughly two weeks from now at 11:59 pm on Friday, March 25.** It should be uploaded into the \"Homework Assignments\" submission folder for Homework #4.  Submission instructions can be found at the end of the notebook. **There are 104 standard points possible in this assignment with 5 additional bonus points possible. The distribution of points can be found in the section headers**.\n"
   ]
  },
  {
   "cell_type": "markdown",
   "metadata": {},
   "source": [
    "---\n",
    "## Part 1: Git (12 points)\n",
    "\n",
    "For this assignment, you're going to add it to the `cmse202-s22-turnin` repository you created in class so that you can track your progress on the assignment and preserve the final version that you turn in. In order to do this you need to\n",
    "\n",
    "**&#9989; Question 1.1 (1 point)**: Navigate to your `cmse202-s22-turnin` **local** repository and create a new directory called `hw-04` and copy this notebook in that new directory.\n",
    "\n",
    "``` bash\n",
    "# Put the command(s) for creating the new directory\n",
    "\n",
    "```\n"
   ]
  },
  {
   "cell_type": "markdown",
   "metadata": {},
   "source": [
    "&#9989; **Question 1.2 (1 point)**: Before you move on, put the command that your instructor should run to pull changes from  your repository in the markdown cell below.\n",
    "\n",
    "``` bash\n",
    "# Put the command for updating the TA's copy of your repository here!\n",
    "\n",
    "```"
   ]
  },
  {
   "cell_type": "markdown",
   "metadata": {},
   "source": [
    "&#9989; **Question 1.3 (2 points)**: Before you move on, create a new branch called `hw04_branch` and move into it. In the cell below put the command(s) to create a new branch and to checkout the new branch. (_Note_: your TA will be able to see if you have created the branch and its history)."
   ]
  },
  {
   "cell_type": "markdown",
   "metadata": {},
   "source": [
    "``` bash\n",
    "# Put the command(s) for creating and checking your new branch here!\n",
    "\n",
    "```"
   ]
  },
  {
   "cell_type": "markdown",
   "metadata": {},
   "source": [
    "&#9989; **Question 1.4 (3 points)** Check the status of your local `git`.\n",
    "\n",
    "``` bash \n",
    "# Put the command you used to check the status of git\n",
    "\n",
    "```\n",
    "Copy and paste below the output of the command.\n",
    "\n",
    "``` bash\n",
    "# Paste it here\n",
    "```\n",
    "\n",
    "What is the name of the branch you are in ? \n",
    "\n",
    "``` bash\n",
    "# Put your answer here\n",
    "```\n",
    "\n",
    "**Important:** If you are still in the `main` branch you must switch to the new branch. "
   ]
  },
  {
   "cell_type": "markdown",
   "metadata": {},
   "source": [
    "&#9989; **Question 1.5 (3 points):**\n",
    "Add your name and GitHub username to the top of the notebook, then add and commit **ONLY** the notebook.\n",
    "\n",
    "``` bash\n",
    "# Put the command(s) to add and commit here \n",
    "```\n",
    "\n",
    "What is the commit message you used ?\n",
    "\n",
    "``` bash\n",
    "# Answer the question here\n",
    "```"
   ]
  },
  {
   "cell_type": "markdown",
   "metadata": {},
   "source": [
    "&#9989; **Question 1.6 (1 point):** Before moving on. Check that the notebook you are working on is the correct one. Run the following cell. **Are you in the new folder you just created?** If not close this notebook and open the one in the `hw-04` folder\n"
   ]
  },
  {
   "cell_type": "code",
   "execution_count": null,
   "metadata": {},
   "outputs": [],
   "source": [
    "!pwd"
   ]
  },
  {
   "cell_type": "markdown",
   "metadata": {},
   "source": [
    "&#9989; **Question 1.7 (1 point):** Finally push the updated notebook to GitHub.\n",
    "\n",
    "``` bash\n",
    "# Put the command you used to push to GitHub here.\n",
    "```\n"
   ]
  },
  {
   "cell_type": "markdown",
   "metadata": {},
   "source": [
    "**Important**: Double check you've added your Professor and your TA as collaborators to your \"turnin\" repository (you should have done this in the previous homework assignment).\n",
    "\n",
    "**Also important**: Make sure that the version of this notebook that you are working on is the same one that you just added to your repository! If you are working on a different copy of the notebook, **none of your changes will be tracked**!\n",
    "\n",
    "If everything went as intended, the file should now show up on your GitHub account in the \"`cmse202-s22-turnin`\" repository inside the `hw-04` directory that you just created within the new branch `hw04-branch`.\n",
    "\n",
    "Periodically, **you'll be asked to commit your changes to the repository and push them to the remote GitHub location**. Of course, you can always commit your changes more often than that, if you wish.  It can be good to get into a habit of committing your changes any time you make a significant modification, or when you stop working on the project for a bit.\n"
   ]
  },
  {
   "cell_type": "markdown",
   "metadata": {},
   "source": [
    "---\n",
    "## Part 2: Linear Regression (56 points)\n",
    "\n",
    "<img src=\"https://cdn.mos.cms.futurecdn.net/E3WFeLCEMJZvB9AFzv84TS.jpg\" width=600px style=\"margin-left: 20px\" alt=\"Image credit: https://blogs.acu.edu/\">\n",
    "\n",
    "\n",
    "\n",
    "### Part 2.1 Exploratory Data Analysis (33 points)\n",
    "In this part of the homework, we will try to predict the price of diamonds.\n",
    "\n",
    "&#9989;  **Question 2.1.1 (4 points)**: \n",
    "\n",
    "1. **Do This:** Download the diamonds dataset and write the command you used in the next cell\n",
    "\n",
    "`https://raw.githubusercontent.com/msu-cmse-courses/cmse202-S22-data/main/data/diamonds.csv`\n",
    "    \n",
    "2. **Do This:** Load the data in this file into a `Pandas` dataframe and use the first column of the dataset as the index\n",
    "3. **Do This:** Display the first *eight* rows of the dataframe. "
   ]
  },
  {
   "cell_type": "code",
   "execution_count": 1,
   "metadata": {},
   "outputs": [
    {
     "name": "stdout",
     "output_type": "stream",
     "text": [
      "Using matplotlib backend: <object object at 0x7fa9e082a700>\n",
      "Populating the interactive namespace from numpy and matplotlib\n"
     ]
    }
   ],
   "source": [
    "# Run this cell before moving on\n",
    "%pylab\n",
    "%matplotlib inline\n",
    "import pandas as pd\n",
    "import seaborn as sns\n",
    "\n",
    "sns.set_context(\"talk\")"
   ]
  },
  {
   "cell_type": "code",
   "execution_count": null,
   "metadata": {},
   "outputs": [],
   "source": [
    "# Put your code here\n"
   ]
  },
  {
   "cell_type": "code",
   "execution_count": null,
   "metadata": {
    "ExecuteTime": {
     "end_time": "2021-03-15T19:45:53.844104Z",
     "start_time": "2021-03-15T19:45:53.597536Z"
    }
   },
   "outputs": [],
   "source": [
    "### ANSWER\n",
    "diamonds = pd.read_csv(\"diamonds.csv\", index_col = 0) \n",
    "diamonds.head(8)"
   ]
  },
  {
   "cell_type": "markdown",
   "metadata": {},
   "source": [
    "&#9989;  **Question 2.1.2 (3 points)**: Answer the following questions in the next markdown cell\n",
    "\n",
    "1. How many columns are there?\n",
    "\n",
    "2. What `type` are the entries in this dataset ? For example, are they `int`, `float` ? You may need to use one of `pandas.DataFrame`'s methods to find the answer to this.\n",
    "\n",
    "3. How many rows are in the dataset ? "
   ]
  },
  {
   "cell_type": "markdown",
   "metadata": {},
   "source": [
    "\n",
    "<font size=+3>&#9998;</font> Put your answers here:\n"
   ]
  },
  {
   "cell_type": "code",
   "execution_count": null,
   "metadata": {},
   "outputs": [],
   "source": [
    "### ANSWER\n",
    "# 1. 10 columns\n",
    "diamonds.info()"
   ]
  },
  {
   "cell_type": "markdown",
   "metadata": {},
   "source": [
    "&#9989;  **Question 2.1.3 (1 points)**: Print out a quick statistical summary"
   ]
  },
  {
   "cell_type": "code",
   "execution_count": null,
   "metadata": {},
   "outputs": [],
   "source": [
    "# Put your code here\n"
   ]
  },
  {
   "cell_type": "code",
   "execution_count": null,
   "metadata": {},
   "outputs": [],
   "source": [
    "### ANSWER\n",
    "diamonds.describe()"
   ]
  },
  {
   "cell_type": "markdown",
   "metadata": {},
   "source": [
    "&#9989;  **Question 2.1.4 (4 points)**: Answer the following questions in the next markdown cell.\n",
    "\n",
    "1. What is the highest price for a diamond ? \n",
    "\n",
    "2. What `cut`, `color`, `clarity` and `carat` correspond to the most expensive diamond? _Hint:_ You might have to use some code for this.\n",
    "\n",
    "3. Does the carat of the most expensive diamond correspond to the highest value in the carat column? Does this surprise you ?\n",
    "\n",
    "4. Why are there missing columns in the statistical summary?"
   ]
  },
  {
   "cell_type": "markdown",
   "metadata": {},
   "source": [
    "<font size=+3>&#9998;</font> Put your answers here:\n",
    "\n"
   ]
  },
  {
   "cell_type": "code",
   "execution_count": null,
   "metadata": {},
   "outputs": [],
   "source": [
    "### ANSWER\n",
    "\n",
    "# 1. $18823\n",
    "diamonds[ diamonds[\"price\"] == diamonds.price.max()]\n",
    "# 3. No. No need to answer surprise question, but if they do that's ok.\n",
    "# 4. The missing columns do not have numeric values."
   ]
  },
  {
   "cell_type": "markdown",
   "metadata": {},
   "source": [
    "&#9989;  **Question 2.1.5 (3 points)**: As you can see there are several values for `cut`, `clarity`, `color`. You could google what does values are. However, we want to test your coding skills, so in the next cell write some code and *print* the unique values for the `cut`, `clarity`, `color` columns"
   ]
  },
  {
   "cell_type": "code",
   "execution_count": null,
   "metadata": {},
   "outputs": [],
   "source": [
    "# Put your code here"
   ]
  },
  {
   "cell_type": "code",
   "execution_count": null,
   "metadata": {},
   "outputs": [],
   "source": [
    "### ANSWER\n",
    "print(diamonds[\"cut\"].unique() )\n",
    "print(diamonds[\"color\"].unique() )\n",
    "print(diamonds[\"clarity\"].unique() )"
   ]
  },
  {
   "cell_type": "markdown",
   "metadata": {},
   "source": [
    "Our goal is to predict the price of a diamond given its characteristics. However, up to now we have only investigated the dataset and still haven't found relationships between the columns. Let's do that now.\n",
    "\n",
    "&#9989;  **Question 2.1.6 (3 points)**: First let's drop the `x`, `y`, `z` columns. They are not too important as they are used to calculate the column `depth` and `table`. Therefore, the latter two are more useful. \n",
    "\n",
    "Then, using `seaborn` make a pairplot of the dataset without the `x`, `y`, `z` columns. Use the `hue` option to differentiate between different types of diamonds."
   ]
  },
  {
   "cell_type": "code",
   "execution_count": null,
   "metadata": {},
   "outputs": [],
   "source": [
    "# Put your code here"
   ]
  },
  {
   "cell_type": "code",
   "execution_count": null,
   "metadata": {},
   "outputs": [],
   "source": [
    "### ANSWER\n",
    "dmnds = diamonds.drop(columns = [\"x\",\"y\",\"z\"])\n",
    "sns.pairplot(\n",
    "    dmnds,\n",
    "    hue = \"color\",\n",
    "    corner=True\n",
    ")"
   ]
  },
  {
   "cell_type": "markdown",
   "metadata": {},
   "source": [
    "&#9989;  **Question 2.1.7 (9 points)**: Answer the following questions **without the use of any code!!!**.\n",
    "\n",
    "1. What columns did you use in `hue` ? \n",
    "\n",
    "2. Why did you choose this value ?\n",
    "\n",
    "3. Is there any pattern or specific information that you can extract from this plot? \n",
    "\n",
    "4. For each of the following pairs estimate a correlation value. \n",
    "\n",
    "    Choices are [greater than 0.5, less than -0.5, approximately 0] \n",
    "    \n",
    "        a. table vs price  \n",
    "        b. depth vs price\n",
    "        c. carat vs price   \n",
    "        d. depth vs table\n",
    "        \n",
    "5. If you were to use linear regression what columns would you choose for your X, and Y ?"
   ]
  },
  {
   "cell_type": "markdown",
   "metadata": {},
   "source": [
    "<font size=+3>&#9998;</font> Put your answers here:\n",
    "\n"
   ]
  },
  {
   "cell_type": "code",
   "execution_count": null,
   "metadata": {},
   "outputs": [],
   "source": [
    "### ANSWER\n",
    "# 1 point per (correct) answer\n",
    "\n",
    "# 1. Acceptable answers \"cut\", \"color\", \"clarity\". Anything else gets a 0\n",
    "# 2. Any answer is acceptable. There is no visible difference between the three choices, I just want them to explore a little bit\n",
    "# 3. Yes I see some pattern between price and carat\n",
    "# 4. approx 0 for all except carat vs price > 0.5\n",
    "# 5. price and carat"
   ]
  },
  {
   "cell_type": "markdown",
   "metadata": {},
   "source": [
    "&#9989; **Question 2.1.8 (6 points)**: From experience we know that the price of a diamond increases with its carats, but the dataset gives us more information and we would like to know what other factors influence the price. The pairplot above does not tell us much about the correlation between non-numeric columns so we need to find them ourselves.\n",
    "\n",
    "The goal of this question is to find the characteristic with the highest correlation between price and carat. \n",
    "In other words, \n",
    "\n",
    "1. What value of `cut` has the highest correlation between `price` and `carat` ?\n",
    "\n",
    "2. What value of `color` has the highest correlation between `price` and `carat` ?\n",
    "\n",
    "3. What value of `clarity` has the highest correlation between `price` and `carat` ?\n",
    "\n",
    "4. Which value of the above ones is the highest? \n",
    "\n",
    "**HINT:** This question requires a bit of ingenuity. Printing all the correlation matrices and looking the highest value is allowed, BUT you will get only half the points. You could definitely use this method to get insights, but can you write code that does not require me to read all those matrices? After all this class requires you to come up with ways to find the answer."
   ]
  },
  {
   "cell_type": "code",
   "execution_count": null,
   "metadata": {},
   "outputs": [],
   "source": [
    "# Put your code here\n"
   ]
  },
  {
   "cell_type": "markdown",
   "metadata": {},
   "source": [
    "<font size=+3>&#9998;</font> Put your answers here:\n",
    "\n"
   ]
  },
  {
   "cell_type": "code",
   "execution_count": null,
   "metadata": {},
   "outputs": [],
   "source": [
    "### ANSWER\n",
    "# 2 points for writing code. As long as they get an answer any code is fine.\n",
    "# 1 point per answer to question\n",
    "\n",
    "clarity_dict = {}\n",
    "for idx, val in enumerate(dmnds[\"clarity\"].unique()):\n",
    "    matrix = dmnds[ dmnds[\"clarity\"] == val].corr()\n",
    "    np.fill_diagonal(matrix.values, 0.0)\n",
    "    clarity_dict[val] = (matrix.iloc[np.unravel_index(matrix.values.argmax(), matrix.shape)])\n",
    "        \n",
    "color_dict = {}\n",
    "for idx, val in enumerate(dmnds[\"color\"].unique()):\n",
    "    matrix = dmnds[ dmnds[\"color\"] == val].corr()\n",
    "    np.fill_diagonal(matrix.values, 0.0)\n",
    "    color_dict[val] = (matrix.iloc[np.unravel_index(matrix.values.argmax(), matrix.shape)])\n",
    "\n",
    "cut_dict = {}\n",
    "for idx, val in enumerate(dmnds[\"cut\"].unique()):\n",
    "    matrix = dmnds[ dmnds[\"cut\"] == val].corr()\n",
    "    np.fill_diagonal(matrix.values, 0.0)\n",
    "    cut_dict[val] = (matrix.iloc[np.unravel_index(matrix.values.argmax(), matrix.shape)])\n",
    "\n",
    "## These print statements are to check that we are getting the correct ones\n",
    "# print(\"\\nClarity Values\")\n",
    "# for keys, vals in clarity_dict.items():\n",
    "#     print(f\"{keys}, {vals:.4f}\")\n",
    "\n",
    "# print(\"\\nColor Values\")\n",
    "# for keys, vals in color_dict.items():\n",
    "#     print(f\"{keys}, {vals:.4f}\")\n",
    "\n",
    "# print(\"\\nCut Values\")    \n",
    "# for keys, vals in cut_dict.items():\n",
    "#     print(f\"{keys}, {vals:.4f}\")\n",
    "\n",
    "print(f\"\\nClarity: {max(clarity_dict, key = clarity_dict.get)}, corr value = {max(clarity_dict.values()):.4f}\")\n",
    "print(f\"\\nColor: {max(color_dict, key = color_dict.get)}, corr value = {max(color_dict.values()):.4f}\")\n",
    "print(f\"\\nCut: {max(cut_dict, key = cut_dict.get)}, corr value = {max(cut_dict.values()):.4f}\")"
   ]
  },
  {
   "cell_type": "markdown",
   "metadata": {},
   "source": [
    "### Part 2.2 Linear Regression with `statsmodels` (23 points).\n",
    "\n",
    "The goal of part 2.1 was to find the independent and dependent variables for our linear regression. Now that we have them let's explore some linear regression.\n",
    "\n",
    "\n",
    "&#9989;  **Question 2.2.1 (3 points)**: Based on your answer from the above question \n",
    "\n",
    "1. use a mask to select the data with the highest correlation value overall\n",
    "2. make a scatter plot with `price` on the Y axis and `carat` on the X axis\n",
    "3. Don't forget to label the axis!!!\n"
   ]
  },
  {
   "cell_type": "code",
   "execution_count": null,
   "metadata": {},
   "outputs": [],
   "source": [
    "# Put your code here\n",
    "\n"
   ]
  },
  {
   "cell_type": "code",
   "execution_count": null,
   "metadata": {},
   "outputs": [],
   "source": [
    "### ANSWER\n",
    "\n",
    "# 1 point for using a mask\n",
    "# 1 point for making a scatter plot\n",
    "# 1 point for labeling the axes\n",
    "dmnds_cl = dmnds[ dmnds[\"clarity\"] == \"SI1\" ]\n",
    "dmnds_cl.plot(x = \"carat\", y = \"price\", kind = \"scatter\")\n",
    "\n",
    "# The code below is for INSTRUCTORS to have everything in one cell block\n",
    "# dmnds_cl = dmnds[ dmnds[\"clarity\"] == \"SI1\" ] \n",
    "# fig, ax = plt.subplots( 1, 3, figsize = (16, 7)) \n",
    "# ax[0].scatter(dmnds_cl[\"carat\"], dmnds_cl[\"price\"], label = \"Lin\") \n",
    "# ax[1].scatter(dmnds_cl[\"carat\"], np.log10(dmnds_cl[\"price\"]), label = \"Log\")\n",
    "# ax[2].scatter(dmnds_cl[\"carat\"], np.sqrt(dmnds_cl[\"price\"]), label = \"Sqrt\")\n",
    "\n",
    "# ax[0].set_ylabel(\"price\")  \n",
    "\n",
    "# for a in ax:\n",
    "#     a.legend()\n",
    "#     a.set(xlabel = \"carat\")\n"
   ]
  },
  {
   "cell_type": "markdown",
   "metadata": {},
   "source": [
    "&#9989;  **Question 2.2.2 (3 points)**: Answer the following question\n",
    "\n",
    "1. Does the plot look linear?\n",
    "\n",
    "2. Does the plot look linear if you plot the `log` of `price` ? \n",
    "\n",
    "3. Does the plot look linear if you plot the `sqrt` of `price` ?"
   ]
  },
  {
   "cell_type": "markdown",
   "metadata": {},
   "source": [
    "<font size=+3>&#9998;</font> Put your answers here:\n",
    "\n"
   ]
  },
  {
   "cell_type": "code",
   "execution_count": null,
   "metadata": {},
   "outputs": [],
   "source": [
    "### ANSWER\n",
    "# 1. No\n",
    "# 2. Nope\n",
    "# 3. Yep"
   ]
  },
  {
   "cell_type": "markdown",
   "metadata": {},
   "source": [
    "&#9989;  **Question 2.2.2 (6 points)**: Based on your previous answer. \n",
    "\n",
    "1. Use `statsmodels` to perform linear regression on the most linear plot.\n",
    "\n",
    "2. Print a summary of your results\n",
    "\n",
    "***Hint:*** Look over your PCAs and ICAs "
   ]
  },
  {
   "cell_type": "code",
   "execution_count": null,
   "metadata": {},
   "outputs": [],
   "source": [
    "# Put your code here"
   ]
  },
  {
   "cell_type": "code",
   "execution_count": null,
   "metadata": {},
   "outputs": [],
   "source": [
    "### ANSWER\n",
    "\n",
    "# 1 point for importing statsmodels\n",
    "# 1 point for setting X = carat w/ or w/o add_constant\n",
    "# 1 point for setting Y = sqrt (price)\n",
    "# 1 point for calling OLS correctly\n",
    "# 1 point for fitting\n",
    "# 1 point for printing the summary and not just the coefficient.\n",
    "\n",
    "import statsmodels.api as sm\n",
    "\n",
    "x = dmnds_cl[\"carat\"]\n",
    "X = sm.add_constant(x)\n",
    "\n",
    "Y = np.sqrt(dmnds_cl[\"price\"])\n",
    "\n",
    "model = sm.OLS(Y,X)\n",
    "results = model.fit()\n",
    "print(results.summary())"
   ]
  },
  {
   "cell_type": "markdown",
   "metadata": {},
   "source": [
    "&#9989;  **Question 2.2.3 (3 points)**: Based on your previous answer. \n",
    "\n",
    "1. What are the values of the slope and intercept?\n",
    "\n",
    "2. What is the value of your Adj. R-squared ?\n",
    "\n",
    "3. Looking at the summary, do you trust that a linear fit is a good choice ?"
   ]
  },
  {
   "cell_type": "markdown",
   "metadata": {},
   "source": [
    "<font size=+3>&#9998;</font> Put your answers here:\n",
    "\n"
   ]
  },
  {
   "cell_type": "code",
   "execution_count": null,
   "metadata": {},
   "outputs": [],
   "source": [
    "### ANSWER\n",
    "# 1 point per answer\n",
    "\n",
    "# 1. Slope = 59.7749, Intercept = 6.1145\n",
    "# 2. 0.960\n",
    "# 3. I'd say yes"
   ]
  },
  {
   "cell_type": "markdown",
   "metadata": {},
   "source": [
    "&#9989;  **Question 2.2.4 (3 points)**: Use [`sm.graphics.plot_regress_exog`](https://www.statsmodels.org/dev/generated/statsmodels.graphics.regressionplots.plot_regress_exog.html) to plot your regression results. Make your figure 15 x 8.\n"
   ]
  },
  {
   "cell_type": "code",
   "execution_count": null,
   "metadata": {},
   "outputs": [],
   "source": [
    "# Put your code here\n"
   ]
  },
  {
   "cell_type": "code",
   "execution_count": null,
   "metadata": {},
   "outputs": [],
   "source": [
    "### ANSWER\n",
    "# 1 point for making the right figsize\n",
    "# 1 point for using plot_regress_exog\n",
    "# 1 point for using carat \n",
    "\n",
    "fig = plt.figure(figsize=(15,8)) \n",
    "fig = sm.graphics.plot_regress_exog(results, \"carat\", fig=fig)"
   ]
  },
  {
   "cell_type": "markdown",
   "metadata": {},
   "source": [
    "&#9989;  **Question 2.2.5 (3 points)**: Do you think that a linear regression is a valid model ? Justify your answer.\n",
    "\n",
    "**HINT:** Look at what we have done in the ICA.\n",
    "\n"
   ]
  },
  {
   "cell_type": "markdown",
   "metadata": {},
   "source": [
    "<font size=+3>&#9998;</font> Put your answers here:\n"
   ]
  },
  {
   "cell_type": "code",
   "execution_count": null,
   "metadata": {},
   "outputs": [],
   "source": [
    "### ANSWER\n",
    "\n",
    "# 1 point for answering\n",
    "# 1 point for justifying the answer\n",
    "# 1 point for a sensible explanation. I would like to see \"constant variance\" and distribution of residual to be mentioneds"
   ]
  },
  {
   "cell_type": "markdown",
   "metadata": {},
   "source": [
    "---\n",
    "### &#128721; STOP\n",
    "**Pause to commit your changes to your Git repository! (2 points)**\n",
    "\n",
    "Take a moment to save your notebook, commit the changes to your local `git` repository using the commit message \"Part 2 complete\", and push the changes to GitHub.\n",
    "\n",
    "---"
   ]
  },
  {
   "cell_type": "markdown",
   "metadata": {},
   "source": [
    "## Part 3: Mulitple Regression (42 points)"
   ]
  },
  {
   "cell_type": "markdown",
   "metadata": {},
   "source": [
    "In this part of the homework, you will work with data from the California Housing Prices dataset. Our goal is to use ordinary least squares to design a linear model to fit the median house value in a California census district given eight features. We will try both a linear model using all the provided features, as well as a reduced linear model which only uses a subset of the features. "
   ]
  },
  {
   "cell_type": "markdown",
   "metadata": {},
   "source": [
    "&#9989;  **Question 3.1 (1 points)**: **Do This:** Download the file `housing.csv` from the link below, and save it into the same directory as your notebook. **Then, in the cell below, put the command line command(s) you used to download the file.** If you did not use a command line tool to download the file, write down the command(s) that would have downloaded the file.\n",
    "\n",
    "`https://raw.githubusercontent.com/msu-cmse-courses/cmse202-S22-data/main/data/housing.csv`"
   ]
  },
  {
   "cell_type": "markdown",
   "metadata": {},
   "source": [
    "``` bash\n",
    "# Put the command(s) for downloading the file here!\n",
    "\n",
    "```"
   ]
  },
  {
   "cell_type": "code",
   "execution_count": null,
   "metadata": {},
   "outputs": [],
   "source": [
    "###ANSWER\n",
    "!curl -O https://raw.githubusercontent.com/msu-cmse-courses/cmse202-S22-data/main/data/housing.csv"
   ]
  },
  {
   "cell_type": "markdown",
   "metadata": {},
   "source": [
    "&#9989;  **Question 3.2 (2 points)**: **Do This:** To get started, read in the `housing.csv` dataset into a Pandas DataFrame, and then display some of its rows."
   ]
  },
  {
   "cell_type": "code",
   "execution_count": null,
   "metadata": {},
   "outputs": [],
   "source": [
    "# Put your code here"
   ]
  },
  {
   "cell_type": "code",
   "execution_count": 2,
   "metadata": {},
   "outputs": [
    {
     "data": {
      "text/html": [
       "<div>\n",
       "<style scoped>\n",
       "    .dataframe tbody tr th:only-of-type {\n",
       "        vertical-align: middle;\n",
       "    }\n",
       "\n",
       "    .dataframe tbody tr th {\n",
       "        vertical-align: top;\n",
       "    }\n",
       "\n",
       "    .dataframe thead th {\n",
       "        text-align: right;\n",
       "    }\n",
       "</style>\n",
       "<table border=\"1\" class=\"dataframe\">\n",
       "  <thead>\n",
       "    <tr style=\"text-align: right;\">\n",
       "      <th></th>\n",
       "      <th>longitude</th>\n",
       "      <th>latitude</th>\n",
       "      <th>housing_median_age</th>\n",
       "      <th>avg_rooms</th>\n",
       "      <th>avg_bedrooms</th>\n",
       "      <th>population</th>\n",
       "      <th>households</th>\n",
       "      <th>median_income</th>\n",
       "      <th>median_house_value</th>\n",
       "      <th>ocean_proximity</th>\n",
       "    </tr>\n",
       "  </thead>\n",
       "  <tbody>\n",
       "    <tr>\n",
       "      <th>0</th>\n",
       "      <td>-122.23</td>\n",
       "      <td>37.88</td>\n",
       "      <td>41</td>\n",
       "      <td>6.984127</td>\n",
       "      <td>1.023810</td>\n",
       "      <td>322</td>\n",
       "      <td>126</td>\n",
       "      <td>8.3252</td>\n",
       "      <td>452600</td>\n",
       "      <td>NEAR BAY</td>\n",
       "    </tr>\n",
       "    <tr>\n",
       "      <th>1</th>\n",
       "      <td>-122.22</td>\n",
       "      <td>37.86</td>\n",
       "      <td>21</td>\n",
       "      <td>6.238137</td>\n",
       "      <td>0.971880</td>\n",
       "      <td>2401</td>\n",
       "      <td>1138</td>\n",
       "      <td>8.3014</td>\n",
       "      <td>358500</td>\n",
       "      <td>NEAR BAY</td>\n",
       "    </tr>\n",
       "    <tr>\n",
       "      <th>2</th>\n",
       "      <td>-122.24</td>\n",
       "      <td>37.85</td>\n",
       "      <td>52</td>\n",
       "      <td>8.288136</td>\n",
       "      <td>1.073446</td>\n",
       "      <td>496</td>\n",
       "      <td>177</td>\n",
       "      <td>7.2574</td>\n",
       "      <td>352100</td>\n",
       "      <td>NEAR BAY</td>\n",
       "    </tr>\n",
       "    <tr>\n",
       "      <th>3</th>\n",
       "      <td>-122.25</td>\n",
       "      <td>37.85</td>\n",
       "      <td>52</td>\n",
       "      <td>5.817352</td>\n",
       "      <td>1.073059</td>\n",
       "      <td>558</td>\n",
       "      <td>219</td>\n",
       "      <td>5.6431</td>\n",
       "      <td>341300</td>\n",
       "      <td>NEAR BAY</td>\n",
       "    </tr>\n",
       "    <tr>\n",
       "      <th>4</th>\n",
       "      <td>-122.25</td>\n",
       "      <td>37.85</td>\n",
       "      <td>52</td>\n",
       "      <td>6.281853</td>\n",
       "      <td>1.081081</td>\n",
       "      <td>565</td>\n",
       "      <td>259</td>\n",
       "      <td>3.8462</td>\n",
       "      <td>342200</td>\n",
       "      <td>NEAR BAY</td>\n",
       "    </tr>\n",
       "    <tr>\n",
       "      <th>...</th>\n",
       "      <td>...</td>\n",
       "      <td>...</td>\n",
       "      <td>...</td>\n",
       "      <td>...</td>\n",
       "      <td>...</td>\n",
       "      <td>...</td>\n",
       "      <td>...</td>\n",
       "      <td>...</td>\n",
       "      <td>...</td>\n",
       "      <td>...</td>\n",
       "    </tr>\n",
       "    <tr>\n",
       "      <th>20635</th>\n",
       "      <td>-121.09</td>\n",
       "      <td>39.48</td>\n",
       "      <td>25</td>\n",
       "      <td>5.045455</td>\n",
       "      <td>1.133333</td>\n",
       "      <td>845</td>\n",
       "      <td>330</td>\n",
       "      <td>1.5603</td>\n",
       "      <td>78100</td>\n",
       "      <td>INLAND</td>\n",
       "    </tr>\n",
       "    <tr>\n",
       "      <th>20636</th>\n",
       "      <td>-121.21</td>\n",
       "      <td>39.49</td>\n",
       "      <td>18</td>\n",
       "      <td>6.114035</td>\n",
       "      <td>1.315789</td>\n",
       "      <td>356</td>\n",
       "      <td>114</td>\n",
       "      <td>2.5568</td>\n",
       "      <td>77100</td>\n",
       "      <td>INLAND</td>\n",
       "    </tr>\n",
       "    <tr>\n",
       "      <th>20637</th>\n",
       "      <td>-121.22</td>\n",
       "      <td>39.43</td>\n",
       "      <td>17</td>\n",
       "      <td>5.205543</td>\n",
       "      <td>1.120092</td>\n",
       "      <td>1007</td>\n",
       "      <td>433</td>\n",
       "      <td>1.7000</td>\n",
       "      <td>92300</td>\n",
       "      <td>INLAND</td>\n",
       "    </tr>\n",
       "    <tr>\n",
       "      <th>20638</th>\n",
       "      <td>-121.32</td>\n",
       "      <td>39.43</td>\n",
       "      <td>18</td>\n",
       "      <td>5.329513</td>\n",
       "      <td>1.171920</td>\n",
       "      <td>741</td>\n",
       "      <td>349</td>\n",
       "      <td>1.8672</td>\n",
       "      <td>84700</td>\n",
       "      <td>INLAND</td>\n",
       "    </tr>\n",
       "    <tr>\n",
       "      <th>20639</th>\n",
       "      <td>-121.24</td>\n",
       "      <td>39.37</td>\n",
       "      <td>16</td>\n",
       "      <td>5.254717</td>\n",
       "      <td>1.162264</td>\n",
       "      <td>1387</td>\n",
       "      <td>530</td>\n",
       "      <td>2.3886</td>\n",
       "      <td>89400</td>\n",
       "      <td>INLAND</td>\n",
       "    </tr>\n",
       "  </tbody>\n",
       "</table>\n",
       "<p>20640 rows × 10 columns</p>\n",
       "</div>"
      ],
      "text/plain": [
       "       longitude  latitude  housing_median_age  avg_rooms  avg_bedrooms  \\\n",
       "0        -122.23     37.88                  41   6.984127      1.023810   \n",
       "1        -122.22     37.86                  21   6.238137      0.971880   \n",
       "2        -122.24     37.85                  52   8.288136      1.073446   \n",
       "3        -122.25     37.85                  52   5.817352      1.073059   \n",
       "4        -122.25     37.85                  52   6.281853      1.081081   \n",
       "...          ...       ...                 ...        ...           ...   \n",
       "20635    -121.09     39.48                  25   5.045455      1.133333   \n",
       "20636    -121.21     39.49                  18   6.114035      1.315789   \n",
       "20637    -121.22     39.43                  17   5.205543      1.120092   \n",
       "20638    -121.32     39.43                  18   5.329513      1.171920   \n",
       "20639    -121.24     39.37                  16   5.254717      1.162264   \n",
       "\n",
       "       population  households  median_income  median_house_value  \\\n",
       "0             322         126         8.3252              452600   \n",
       "1            2401        1138         8.3014              358500   \n",
       "2             496         177         7.2574              352100   \n",
       "3             558         219         5.6431              341300   \n",
       "4             565         259         3.8462              342200   \n",
       "...           ...         ...            ...                 ...   \n",
       "20635         845         330         1.5603               78100   \n",
       "20636         356         114         2.5568               77100   \n",
       "20637        1007         433         1.7000               92300   \n",
       "20638         741         349         1.8672               84700   \n",
       "20639        1387         530         2.3886               89400   \n",
       "\n",
       "      ocean_proximity  \n",
       "0            NEAR BAY  \n",
       "1            NEAR BAY  \n",
       "2            NEAR BAY  \n",
       "3            NEAR BAY  \n",
       "4            NEAR BAY  \n",
       "...               ...  \n",
       "20635          INLAND  \n",
       "20636          INLAND  \n",
       "20637          INLAND  \n",
       "20638          INLAND  \n",
       "20639          INLAND  \n",
       "\n",
       "[20640 rows x 10 columns]"
      ]
     },
     "execution_count": 2,
     "metadata": {},
     "output_type": "execute_result"
    }
   ],
   "source": [
    "###ANSWER\n",
    "import pandas as pd\n",
    "housing = pd.read_csv(\"housing.csv\")\n",
    "housing"
   ]
  },
  {
   "cell_type": "markdown",
   "metadata": {},
   "source": [
    "&#9989;  **Question 3.3 (2 points)**: You should notice that the DataFrame has a non-numerical feature called \"ocean_proximity\". There are also a few rows with `NaN` values, although you may not see them in the few rows that were displayed. **Do This:** **Drop the \"ocean_proximity\" column from the dataframe, and drop all the rows with `NaN` values.** Note that we will not use the \"ocean_proximity\" column or any of the rows with `NaN` values in this assignment."
   ]
  },
  {
   "cell_type": "code",
   "execution_count": null,
   "metadata": {},
   "outputs": [],
   "source": [
    "# Put your code here"
   ]
  },
  {
   "cell_type": "code",
   "execution_count": 3,
   "metadata": {},
   "outputs": [
    {
     "data": {
      "text/html": [
       "<div>\n",
       "<style scoped>\n",
       "    .dataframe tbody tr th:only-of-type {\n",
       "        vertical-align: middle;\n",
       "    }\n",
       "\n",
       "    .dataframe tbody tr th {\n",
       "        vertical-align: top;\n",
       "    }\n",
       "\n",
       "    .dataframe thead th {\n",
       "        text-align: right;\n",
       "    }\n",
       "</style>\n",
       "<table border=\"1\" class=\"dataframe\">\n",
       "  <thead>\n",
       "    <tr style=\"text-align: right;\">\n",
       "      <th></th>\n",
       "      <th>longitude</th>\n",
       "      <th>latitude</th>\n",
       "      <th>housing_median_age</th>\n",
       "      <th>avg_rooms</th>\n",
       "      <th>avg_bedrooms</th>\n",
       "      <th>population</th>\n",
       "      <th>households</th>\n",
       "      <th>median_income</th>\n",
       "      <th>median_house_value</th>\n",
       "    </tr>\n",
       "  </thead>\n",
       "  <tbody>\n",
       "    <tr>\n",
       "      <th>0</th>\n",
       "      <td>-122.23</td>\n",
       "      <td>37.88</td>\n",
       "      <td>41</td>\n",
       "      <td>6.984127</td>\n",
       "      <td>1.023810</td>\n",
       "      <td>322</td>\n",
       "      <td>126</td>\n",
       "      <td>8.3252</td>\n",
       "      <td>452600</td>\n",
       "    </tr>\n",
       "    <tr>\n",
       "      <th>1</th>\n",
       "      <td>-122.22</td>\n",
       "      <td>37.86</td>\n",
       "      <td>21</td>\n",
       "      <td>6.238137</td>\n",
       "      <td>0.971880</td>\n",
       "      <td>2401</td>\n",
       "      <td>1138</td>\n",
       "      <td>8.3014</td>\n",
       "      <td>358500</td>\n",
       "    </tr>\n",
       "    <tr>\n",
       "      <th>2</th>\n",
       "      <td>-122.24</td>\n",
       "      <td>37.85</td>\n",
       "      <td>52</td>\n",
       "      <td>8.288136</td>\n",
       "      <td>1.073446</td>\n",
       "      <td>496</td>\n",
       "      <td>177</td>\n",
       "      <td>7.2574</td>\n",
       "      <td>352100</td>\n",
       "    </tr>\n",
       "    <tr>\n",
       "      <th>3</th>\n",
       "      <td>-122.25</td>\n",
       "      <td>37.85</td>\n",
       "      <td>52</td>\n",
       "      <td>5.817352</td>\n",
       "      <td>1.073059</td>\n",
       "      <td>558</td>\n",
       "      <td>219</td>\n",
       "      <td>5.6431</td>\n",
       "      <td>341300</td>\n",
       "    </tr>\n",
       "    <tr>\n",
       "      <th>4</th>\n",
       "      <td>-122.25</td>\n",
       "      <td>37.85</td>\n",
       "      <td>52</td>\n",
       "      <td>6.281853</td>\n",
       "      <td>1.081081</td>\n",
       "      <td>565</td>\n",
       "      <td>259</td>\n",
       "      <td>3.8462</td>\n",
       "      <td>342200</td>\n",
       "    </tr>\n",
       "    <tr>\n",
       "      <th>...</th>\n",
       "      <td>...</td>\n",
       "      <td>...</td>\n",
       "      <td>...</td>\n",
       "      <td>...</td>\n",
       "      <td>...</td>\n",
       "      <td>...</td>\n",
       "      <td>...</td>\n",
       "      <td>...</td>\n",
       "      <td>...</td>\n",
       "    </tr>\n",
       "    <tr>\n",
       "      <th>20635</th>\n",
       "      <td>-121.09</td>\n",
       "      <td>39.48</td>\n",
       "      <td>25</td>\n",
       "      <td>5.045455</td>\n",
       "      <td>1.133333</td>\n",
       "      <td>845</td>\n",
       "      <td>330</td>\n",
       "      <td>1.5603</td>\n",
       "      <td>78100</td>\n",
       "    </tr>\n",
       "    <tr>\n",
       "      <th>20636</th>\n",
       "      <td>-121.21</td>\n",
       "      <td>39.49</td>\n",
       "      <td>18</td>\n",
       "      <td>6.114035</td>\n",
       "      <td>1.315789</td>\n",
       "      <td>356</td>\n",
       "      <td>114</td>\n",
       "      <td>2.5568</td>\n",
       "      <td>77100</td>\n",
       "    </tr>\n",
       "    <tr>\n",
       "      <th>20637</th>\n",
       "      <td>-121.22</td>\n",
       "      <td>39.43</td>\n",
       "      <td>17</td>\n",
       "      <td>5.205543</td>\n",
       "      <td>1.120092</td>\n",
       "      <td>1007</td>\n",
       "      <td>433</td>\n",
       "      <td>1.7000</td>\n",
       "      <td>92300</td>\n",
       "    </tr>\n",
       "    <tr>\n",
       "      <th>20638</th>\n",
       "      <td>-121.32</td>\n",
       "      <td>39.43</td>\n",
       "      <td>18</td>\n",
       "      <td>5.329513</td>\n",
       "      <td>1.171920</td>\n",
       "      <td>741</td>\n",
       "      <td>349</td>\n",
       "      <td>1.8672</td>\n",
       "      <td>84700</td>\n",
       "    </tr>\n",
       "    <tr>\n",
       "      <th>20639</th>\n",
       "      <td>-121.24</td>\n",
       "      <td>39.37</td>\n",
       "      <td>16</td>\n",
       "      <td>5.254717</td>\n",
       "      <td>1.162264</td>\n",
       "      <td>1387</td>\n",
       "      <td>530</td>\n",
       "      <td>2.3886</td>\n",
       "      <td>89400</td>\n",
       "    </tr>\n",
       "  </tbody>\n",
       "</table>\n",
       "<p>20433 rows × 9 columns</p>\n",
       "</div>"
      ],
      "text/plain": [
       "       longitude  latitude  housing_median_age  avg_rooms  avg_bedrooms  \\\n",
       "0        -122.23     37.88                  41   6.984127      1.023810   \n",
       "1        -122.22     37.86                  21   6.238137      0.971880   \n",
       "2        -122.24     37.85                  52   8.288136      1.073446   \n",
       "3        -122.25     37.85                  52   5.817352      1.073059   \n",
       "4        -122.25     37.85                  52   6.281853      1.081081   \n",
       "...          ...       ...                 ...        ...           ...   \n",
       "20635    -121.09     39.48                  25   5.045455      1.133333   \n",
       "20636    -121.21     39.49                  18   6.114035      1.315789   \n",
       "20637    -121.22     39.43                  17   5.205543      1.120092   \n",
       "20638    -121.32     39.43                  18   5.329513      1.171920   \n",
       "20639    -121.24     39.37                  16   5.254717      1.162264   \n",
       "\n",
       "       population  households  median_income  median_house_value  \n",
       "0             322         126         8.3252              452600  \n",
       "1            2401        1138         8.3014              358500  \n",
       "2             496         177         7.2574              352100  \n",
       "3             558         219         5.6431              341300  \n",
       "4             565         259         3.8462              342200  \n",
       "...           ...         ...            ...                 ...  \n",
       "20635         845         330         1.5603               78100  \n",
       "20636         356         114         2.5568               77100  \n",
       "20637        1007         433         1.7000               92300  \n",
       "20638         741         349         1.8672               84700  \n",
       "20639        1387         530         2.3886               89400  \n",
       "\n",
       "[20433 rows x 9 columns]"
      ]
     },
     "execution_count": 3,
     "metadata": {},
     "output_type": "execute_result"
    }
   ],
   "source": [
    "###ANSWER\n",
    "housing = housing.drop(columns=[\"ocean_proximity\"])\n",
    "housing = housing.dropna()\n",
    "housing"
   ]
  },
  {
   "cell_type": "markdown",
   "metadata": {},
   "source": [
    "&#9989;  **Question 3.4 (6 points)**: **Do This:** Using the `OLS()` method in `statsmodels.api`, make an ordinary least squares model that predicts \"median_house_value\" using the other features and display the `.summary()` of that process. **Be sure to use the `add_constant()` method to add a column of ones to the DataFrame before using the `OLS()` method so that your linear model includes a constant term.**"
   ]
  },
  {
   "cell_type": "code",
   "execution_count": 4,
   "metadata": {},
   "outputs": [],
   "source": [
    "# Put your code here"
   ]
  },
  {
   "cell_type": "code",
   "execution_count": 5,
   "metadata": {},
   "outputs": [
    {
     "data": {
      "text/html": [
       "<table class=\"simpletable\">\n",
       "<caption>OLS Regression Results</caption>\n",
       "<tr>\n",
       "  <th>Dep. Variable:</th>    <td>median_house_value</td> <th>  R-squared:         </th>  <td>   0.639</td>  \n",
       "</tr>\n",
       "<tr>\n",
       "  <th>Model:</th>                    <td>OLS</td>        <th>  Adj. R-squared:    </th>  <td>   0.639</td>  \n",
       "</tr>\n",
       "<tr>\n",
       "  <th>Method:</th>              <td>Least Squares</td>   <th>  F-statistic:       </th>  <td>   4514.</td>  \n",
       "</tr>\n",
       "<tr>\n",
       "  <th>Date:</th>              <td>Sun, 30 Oct 2022</td>  <th>  Prob (F-statistic):</th>   <td>  0.00</td>   \n",
       "</tr>\n",
       "<tr>\n",
       "  <th>Time:</th>                  <td>16:55:07</td>      <th>  Log-Likelihood:    </th> <td>-2.5677e+05</td>\n",
       "</tr>\n",
       "<tr>\n",
       "  <th>No. Observations:</th>       <td> 20433</td>       <th>  AIC:               </th>  <td>5.136e+05</td> \n",
       "</tr>\n",
       "<tr>\n",
       "  <th>Df Residuals:</th>           <td> 20424</td>       <th>  BIC:               </th>  <td>5.136e+05</td> \n",
       "</tr>\n",
       "<tr>\n",
       "  <th>Df Model:</th>               <td>     8</td>       <th>                     </th>      <td> </td>     \n",
       "</tr>\n",
       "<tr>\n",
       "  <th>Covariance Type:</th>       <td>nonrobust</td>     <th>                     </th>      <td> </td>     \n",
       "</tr>\n",
       "</table>\n",
       "<table class=\"simpletable\">\n",
       "<tr>\n",
       "           <td></td>             <th>coef</th>     <th>std err</th>      <th>t</th>      <th>P>|t|</th>  <th>[0.025</th>    <th>0.975]</th>  \n",
       "</tr>\n",
       "<tr>\n",
       "  <th>const</th>              <td>-3.558e+06</td> <td> 6.35e+04</td> <td>  -56.021</td> <td> 0.000</td> <td>-3.68e+06</td> <td>-3.43e+06</td>\n",
       "</tr>\n",
       "<tr>\n",
       "  <th>longitude</th>          <td>-4.223e+04</td> <td>  725.615</td> <td>  -58.205</td> <td> 0.000</td> <td>-4.37e+04</td> <td>-4.08e+04</td>\n",
       "</tr>\n",
       "<tr>\n",
       "  <th>latitude</th>           <td>-4.213e+04</td> <td>  692.323</td> <td>  -60.854</td> <td> 0.000</td> <td>-4.35e+04</td> <td>-4.08e+04</td>\n",
       "</tr>\n",
       "<tr>\n",
       "  <th>housing_median_age</th> <td> 1139.3771</td> <td>   43.181</td> <td>   26.386</td> <td> 0.000</td> <td> 1054.739</td> <td> 1224.015</td>\n",
       "</tr>\n",
       "<tr>\n",
       "  <th>avg_rooms</th>          <td>-6625.2745</td> <td>  573.271</td> <td>  -11.557</td> <td> 0.000</td> <td>-7748.932</td> <td>-5501.617</td>\n",
       "</tr>\n",
       "<tr>\n",
       "  <th>avg_bedrooms</th>       <td> 4.571e+04</td> <td> 2737.024</td> <td>   16.699</td> <td> 0.000</td> <td> 4.03e+04</td> <td> 5.11e+04</td>\n",
       "</tr>\n",
       "<tr>\n",
       "  <th>population</th>         <td>  -41.2977</td> <td>    1.036</td> <td>  -39.865</td> <td> 0.000</td> <td>  -43.328</td> <td>  -39.267</td>\n",
       "</tr>\n",
       "<tr>\n",
       "  <th>households</th>         <td>  134.5370</td> <td>    3.087</td> <td>   43.583</td> <td> 0.000</td> <td>  128.486</td> <td>  140.588</td>\n",
       "</tr>\n",
       "<tr>\n",
       "  <th>median_income</th>      <td> 4.156e+04</td> <td>  406.403</td> <td>  102.256</td> <td> 0.000</td> <td> 4.08e+04</td> <td> 4.24e+04</td>\n",
       "</tr>\n",
       "</table>\n",
       "<table class=\"simpletable\">\n",
       "<tr>\n",
       "  <th>Omnibus:</th>       <td>4964.002</td> <th>  Durbin-Watson:     </th> <td>   0.988</td> \n",
       "</tr>\n",
       "<tr>\n",
       "  <th>Prob(Omnibus):</th>  <td> 0.000</td>  <th>  Jarque-Bera (JB):  </th> <td>20949.365</td>\n",
       "</tr>\n",
       "<tr>\n",
       "  <th>Skew:</th>           <td> 1.141</td>  <th>  Prob(JB):          </th> <td>    0.00</td> \n",
       "</tr>\n",
       "<tr>\n",
       "  <th>Kurtosis:</th>       <td> 7.404</td>  <th>  Cond. No.          </th> <td>2.52e+05</td> \n",
       "</tr>\n",
       "</table><br/><br/>Notes:<br/>[1] Standard Errors assume that the covariance matrix of the errors is correctly specified.<br/>[2] The condition number is large, 2.52e+05. This might indicate that there are<br/>strong multicollinearity or other numerical problems."
      ],
      "text/plain": [
       "<class 'statsmodels.iolib.summary.Summary'>\n",
       "\"\"\"\n",
       "                            OLS Regression Results                            \n",
       "==============================================================================\n",
       "Dep. Variable:     median_house_value   R-squared:                       0.639\n",
       "Model:                            OLS   Adj. R-squared:                  0.639\n",
       "Method:                 Least Squares   F-statistic:                     4514.\n",
       "Date:                Sun, 30 Oct 2022   Prob (F-statistic):               0.00\n",
       "Time:                        16:55:07   Log-Likelihood:            -2.5677e+05\n",
       "No. Observations:               20433   AIC:                         5.136e+05\n",
       "Df Residuals:                   20424   BIC:                         5.136e+05\n",
       "Df Model:                           8                                         \n",
       "Covariance Type:            nonrobust                                         \n",
       "======================================================================================\n",
       "                         coef    std err          t      P>|t|      [0.025      0.975]\n",
       "--------------------------------------------------------------------------------------\n",
       "const              -3.558e+06   6.35e+04    -56.021      0.000   -3.68e+06   -3.43e+06\n",
       "longitude          -4.223e+04    725.615    -58.205      0.000   -4.37e+04   -4.08e+04\n",
       "latitude           -4.213e+04    692.323    -60.854      0.000   -4.35e+04   -4.08e+04\n",
       "housing_median_age  1139.3771     43.181     26.386      0.000    1054.739    1224.015\n",
       "avg_rooms          -6625.2745    573.271    -11.557      0.000   -7748.932   -5501.617\n",
       "avg_bedrooms        4.571e+04   2737.024     16.699      0.000    4.03e+04    5.11e+04\n",
       "population           -41.2977      1.036    -39.865      0.000     -43.328     -39.267\n",
       "households           134.5370      3.087     43.583      0.000     128.486     140.588\n",
       "median_income       4.156e+04    406.403    102.256      0.000    4.08e+04    4.24e+04\n",
       "==============================================================================\n",
       "Omnibus:                     4964.002   Durbin-Watson:                   0.988\n",
       "Prob(Omnibus):                  0.000   Jarque-Bera (JB):            20949.365\n",
       "Skew:                           1.141   Prob(JB):                         0.00\n",
       "Kurtosis:                       7.404   Cond. No.                     2.52e+05\n",
       "==============================================================================\n",
       "\n",
       "Notes:\n",
       "[1] Standard Errors assume that the covariance matrix of the errors is correctly specified.\n",
       "[2] The condition number is large, 2.52e+05. This might indicate that there are\n",
       "strong multicollinearity or other numerical problems.\n",
       "\"\"\""
      ]
     },
     "execution_count": 5,
     "metadata": {},
     "output_type": "execute_result"
    }
   ],
   "source": [
    "###ANSWER\n",
    "import statsmodels.api as sm\n",
    "housing = sm.add_constant(housing)\n",
    "model = sm.OLS(housing[\"median_house_value\"], housing.drop(columns=[\"median_house_value\"]))\n",
    "result = model.fit()\n",
    "result.summary()"
   ]
  },
  {
   "cell_type": "markdown",
   "metadata": {},
   "source": [
    "&#9989;  **Question 3.5 (6 points)**: **Answer These Questions:** \n",
    "1. Based on the output of the OLS summary, does this linear model appear to be a good fit? \n",
    "2. Which of these features appear to be \"significant\" in predicting the \"median_house_value\"?"
   ]
  },
  {
   "cell_type": "markdown",
   "metadata": {},
   "source": [
    "<font size=+3>&#9998;</font> Put your answers here:\n"
   ]
  },
  {
   "cell_type": "markdown",
   "metadata": {},
   "source": [
    "###ANSWER\n",
    "\n",
    "They should have obtained an R^2 value of 0.639 (or so), and thus, concluded that the linear model was a decent fit. The p-values for all the features are small, so it appears that each feature is \"significant\"."
   ]
  },
  {
   "cell_type": "markdown",
   "metadata": {},
   "source": [
    "&#9989;  **Question 3.6 (4 points)**: A student from U of M managed to enroll in this class (don't ask us how) and is working on this homework. They got the following output when they used the `OLS()` method in `statsmodels.api`. \n",
    "\n",
    "<img src=\"https://i.ibb.co/pnvcKQ2/Perfect-Model.png\" width=\"400px\" border=\"0\">\n",
    "\n",
    "When you compare outputs, the Wolverine tells you \"My linear model is better than yours because my linear model has a larger $R^2$-value than your model. I guess Wolverines are way better than Spartans at data science.\"\n",
    "\n",
    "**Answer These Questions:** \n",
    "1. How did they get a linear model with a near perfect $R^2$-value? \n",
    "2. Is their model actually better than yours? \n",
    "\n",
    "Justify your answers."
   ]
  },
  {
   "cell_type": "markdown",
   "metadata": {},
   "source": [
    "<font size=+3>&#9998;</font> Put your answers here:\n"
   ]
  },
  {
   "cell_type": "markdown",
   "metadata": {},
   "source": [
    "###ANSWER\n",
    "\n",
    "They didn't drop the \"median_house_value\" column of the dataframe when passing it in as the second argument of the `OLS()` method. Hence, their linear model is using the \"median_house_value\" as a feature to predict the \"median_house_value\". This enables OLS to learn a linear model that is approximately \"median_house_value\" = 1*\"median_house_value\"+0*(other features), which results in all the residuals being zero and a near perfect $R^2$-value of 1.000. Obviously, a model which predicts the \"median_house_value\" using the \"median_house_value\" is useless, so their model isn't actually better than yours. "
   ]
  },
  {
   "cell_type": "markdown",
   "metadata": {
    "tags": []
   },
   "source": [
    "### NEW 2022\n",
    "\n",
    "&#9989;  **Question 3.7 (2 points)**: **Answer This:** Use `plot_regress_exog` to examine the fits to the data, using `latitude` as the independent variable. Notice that the predicted data points don’t follow a linear trend (I.e., a straight line). Describe the trend you see. "
   ]
  },
  {
   "cell_type": "code",
   "execution_count": 6,
   "metadata": {},
   "outputs": [],
   "source": [
    "# Put your code here"
   ]
  },
  {
   "cell_type": "code",
   "execution_count": 8,
   "metadata": {},
   "outputs": [
    {
     "name": "stdout",
     "output_type": "stream",
     "text": [
      "eval_env: 1\n"
     ]
    },
    {
     "data": {
      "image/png": "[encoded data removed]",
      "text/plain": [
       "<Figure size 1500x800 with 4 Axes>"
      ]
     },
     "metadata": {},
     "output_type": "display_data"
    }
   ],
   "source": [
    "###ANSWER###\n",
    "#1 point for the plots\n",
    "\n",
    "fig = plt.figure(figsize=(15,8))\n",
    "fig = sm.graphics.plot_regress_exog(result, \"latitude\", fig=fig)"
   ]
  },
  {
   "cell_type": "markdown",
   "metadata": {},
   "source": [
    "<font size=+3>&#9998;</font> Put your answers here:\n"
   ]
  },
  {
   "cell_type": "markdown",
   "metadata": {},
   "source": [
    "###ANSWER\n",
    "\n",
    "*1 point for the explanation*\n",
    "\n",
    "They should see a relatively flat distribution with a few humps around 34 and 37 degrees latitude in the best fit values. "
   ]
  },
  {
   "cell_type": "markdown",
   "metadata": {},
   "source": [
    "### NEW 2022\n",
    "\n",
    "&#9989;  **Question 3.8 (1 points)**: **Answer This:** Explain why the best fit values don’t follow a straight line. Is this a linear model (I.e., with depdence on `latitude`, but no dependence on `latitude`^2, `latitude`^3, etc.)? Be as detailed as possible. "
   ]
  },
  {
   "cell_type": "markdown",
   "metadata": {},
   "source": [
    "###ANSWER\n",
    "\n",
    "It is a linear model, in that there is no dependence on higher order terms. The reason you see this is because there's dependence on other variables that isn't captured in this plot!"
   ]
  },
  {
   "cell_type": "markdown",
   "metadata": {},
   "source": [
    "&#9989;  **Question 3.9 (6 points)**: In the output of the OLS summary, you should have seen a note that says something like \n",
    "\n",
    "\"The condition number is large, [[number]]. This might indicate that there are strong multicollinearity or other numerical problems.\" \n",
    "\n",
    "Multicollinearity is a statistical phenomenon where some of the features in a model can be linearly predicted using some of the other features in the model. In other words, the features in the model are somewhat redundant. Hence, even if each feature may be deemed significant, it may still be possible to form a \"reduced\" model using a smaller number of features. \n",
    "\n",
    "**Do This:** Design a second linear model that uses a subset of the eight features to predict the \"median_house_value\", and fits the data comparably well as the first linear model you designed in Question 3.4. You can choose this subset either by trial and error, or by any other method you'd like."
   ]
  },
  {
   "cell_type": "code",
   "execution_count": null,
   "metadata": {},
   "outputs": [],
   "source": [
    "# Put your code here"
   ]
  },
  {
   "cell_type": "code",
   "execution_count": null,
   "metadata": {},
   "outputs": [],
   "source": [
    "###ANSWER\n",
    "# There are likely many subsets of features they could use. \n",
    "# If you are working with students, try to find ways to steer them towards using the t-statistic in the OLS results.\n",
    "\n",
    "columns_to_drop = [\"median_house_value\",\"housing_median_age\",\"population\",\"households\",\"avg_rooms\",\"avg_bedrooms\"]\n",
    "model2 = sm.OLS(housing[\"median_house_value\"], housing.drop(columns=columns_to_drop))\n",
    "result2 = model2.fit()\n",
    "result2.summary()"
   ]
  },
  {
   "cell_type": "markdown",
   "metadata": {},
   "source": [
    "&#9989;  **Question 3.10 (4 points)**: **Answer This:** How did your reduced linear model fit the data compared to the full linear model you created in Question 3.4? Give some quantitative justification for this answer."
   ]
  },
  {
   "cell_type": "markdown",
   "metadata": {},
   "source": [
    "<font size=+3>&#9998;</font> Put your answers here:\n"
   ]
  },
  {
   "cell_type": "markdown",
   "metadata": {},
   "source": [
    "###ANSWER\n",
    "\n",
    "The three feature model has an R^2 value of 0.584, which is slightly worse but comparable to the full eight feature model's R^2 value of 0.639. "
   ]
  },
  {
   "cell_type": "markdown",
   "metadata": {},
   "source": [
    "### NEW 2022\n",
    "\n",
    "&#9989;  **Question 3.11 (2 points)**: **Answer This:** Now that you have your reduced model, make a heat map showing the correlations between the different variables (similar to what we did on Day 14)."
   ]
  },
  {
   "cell_type": "code",
   "execution_count": null,
   "metadata": {},
   "outputs": [],
   "source": [
    "# Put your code here"
   ]
  },
  {
   "cell_type": "code",
   "execution_count": 10,
   "metadata": {},
   "outputs": [
    {
     "data": {
      "text/plain": [
       "<AxesSubplot:>"
      ]
     },
     "execution_count": 10,
     "metadata": {},
     "output_type": "execute_result"
    },
    {
     "data": {
      "image/png": "[encoded data removed]",
      "text/plain": [
       "<Figure size 1100x900 with 2 Axes>"
      ]
     },
     "metadata": {},
     "output_type": "display_data"
    }
   ],
   "source": [
    "###ANSWER\n",
    "#This is fancy.\n",
    "corr = housing.drop(columns=\"const\").corr()\n",
    "mask = np.triu(np.ones_like(corr, dtype=bool))\n",
    "f, ax = plt.subplots(figsize=(11, 9))\n",
    "cmap = sns.diverging_palette(230, 20, as_cmap=True)\n",
    "sns.heatmap(corr, mask=mask, cmap=cmap,\n",
    "            square=True, linewidths=.5, cbar_kws={\"shrink\": .5})"
   ]
  },
  {
   "cell_type": "markdown",
   "metadata": {},
   "source": [
    "### NEW 2022\n",
    "\n",
    "&#9989;  **Question 3.12 (4 points)**: **Answer This:** You should find that there isn’t much overlap between the high-correlation variables in the heat map and the variables you used in your (reduced)  model, the opposite of what we found on Day 14. Explain why this is the case."
   ]
  },
  {
   "cell_type": "markdown",
   "metadata": {},
   "source": [
    "<font size=+3>&#9998;</font> Put your answers here:\n"
   ]
  },
  {
   "cell_type": "markdown",
   "metadata": {},
   "source": [
    "###ANSWER\n",
    "\n",
    "The wonders of multivariate linear regression! You can gain a lot more power when you take multiple variables into account. Basically, the total is greater than the sum of the individual parts. \n",
    "\n",
    "If you have students struggling with this idea, it may be useful to have them think about california housing prices and latitude and longitude. Individually, you can only say if the left or right (top or bottom) is more expensive. When you couple them together, though, you can draw a line that follows the California coast, where property values are quite high. (Note: This might only make sense to me…?). "
   ]
  },
  {
   "cell_type": "markdown",
   "metadata": {},
   "source": [
    "---\n",
    "### &#128721; STOP\n",
    "**Pause to commit your changes to your Git repository! (2 points)**\n",
    "\n",
    "Take a moment to save your notebook, commit the changes to your local `git` repository using the commit message \"Part 3 complete\", and push the changes to GitHub.\n",
    "\n",
    "---"
   ]
  },
  {
   "cell_type": "markdown",
   "metadata": {},
   "source": [
    "## Part 1. Continued (3 points)\n",
    "\n",
    "\n",
    "It is now time to merge your changes to the main branch and push"
   ]
  },
  {
   "cell_type": "markdown",
   "metadata": {},
   "source": [
    "&#9989; **Question 1.8 (1 point):** Switch to your main branch\n",
    "\n",
    "```bash\n",
    "# Put the command(s) to switch to your main branch\n",
    "```"
   ]
  },
  {
   "cell_type": "markdown",
   "metadata": {},
   "source": [
    "&#9989; **Question 1.9 (1 point):** Merge your hw04-branch\n",
    "\n",
    "```bash\n",
    "# Put the command(s) to merge your branch\n",
    "```"
   ]
  },
  {
   "cell_type": "markdown",
   "metadata": {},
   "source": [
    "&#9989; **Question 1.10 (1 point):** Finally push the changes to GitHub\n",
    "\n",
    "```bash\n",
    "# Put the command(s) to push your new main branch\n",
    "```"
   ]
  },
  {
   "cell_type": "markdown",
   "metadata": {},
   "source": [
    "---\n",
    "## Assignment wrap-up\n",
    "\n",
    "Please fill out the form that appears when you run the code below.  **You must completely fill this out in order to receive credit for the assignment!**"
   ]
  },
  {
   "cell_type": "code",
   "execution_count": null,
   "metadata": {},
   "outputs": [],
   "source": [
    "from IPython.display import HTML\n",
    "HTML(\n",
    "\"\"\"\n",
    "<iframe \n",
    "\tsrc=\"https://forms.office.com/Pages/ResponsePage.aspx?id=MHEXIi9k2UGSEXQjetVofVWe89dpqk1HpKW7eyyv-IhUOU5NSUtUUFNFMTBWVEdKQUkzR1ZPWllHWi4u\" \n",
    "\twidth=\"800px\" \n",
    "\theight=\"600px\" \n",
    "\tframeborder=\"0\" \n",
    "\tmarginheight=\"0\" \n",
    "\tmarginwidth=\"0\">\n",
    "\tLoading...\n",
    "</iframe>\n",
    "\"\"\"\n",
    ")"
   ]
  },
  {
   "cell_type": "markdown",
   "metadata": {},
   "source": [
    "## Congratulations, you're done!\n",
    "\n",
    "Submit this assignment by uploading it to the course Desire2Learn web page.  Go to the \"Homework Assignments\" folder, find the dropbox link for Homework #4, and upload it there.\n",
    "\n",
    "![Moira2](https://media.giphy.com/media/d1E2HnwywoTkES08/giphy.gif)"
   ]
  },
  {
   "cell_type": "markdown",
   "metadata": {},
   "source": [
    "&#169; Copyright 2022,  Department of Computational Mathematics, Science and Engineering at Michigan State University"
   ]
  }
 ],
 "metadata": {
  "kernelspec": {
   "display_name": "Python 3 (ipykernel)",
   "language": "python",
   "name": "python3"
  },
  "language_info": {
   "codemirror_mode": {
    "name": "ipython",
    "version": 3
   },
   "file_extension": ".py",
   "mimetype": "text/x-python",
   "name": "python",
   "nbconvert_exporter": "python",
   "pygments_lexer": "ipython3",
   "version": "3.10.6"
  },
  "toc": {
   "base_numbering": 1,
   "nav_menu": {},
   "number_sections": true,
   "sideBar": true,
   "skip_h1_title": false,
   "title_cell": "Table of Contents",
   "title_sidebar": "Contents",
   "toc_cell": false,
   "toc_position": {},
   "toc_section_display": true,
   "toc_window_display": false
  },
  "widgets": {
   "application/vnd.jupyter.widget-state+json": {
    "state": {},
    "version_major": 2,
    "version_minor": 0
   }
  }
 },
 "nbformat": 4,
 "nbformat_minor": 4
}
