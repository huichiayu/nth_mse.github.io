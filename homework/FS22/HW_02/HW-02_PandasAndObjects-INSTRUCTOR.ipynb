{
 "cells": [
  {
   "cell_type": "markdown",
   "id": "a6fc03da-0d19-4917-b456-4715305be431",
   "metadata": {
    "tags": []
   },
   "source": [
    "# Homework Assignment #2 (Individual)\n",
    "## Pandas Review and Python Classes"
   ]
  },
  {
   "cell_type": "markdown",
   "id": "551a7128-acad-4dd2-a55c-1ec6bcd11780",
   "metadata": {
    "tags": []
   },
   "source": [
    "### <p style=\"text-align: right;\"> &#9989; Put your name here.</p>\n",
    "### <p style=\"text-align: right;\"> &#9989; Put your _GitHub username_ here.</p>"
   ]
  },
  {
   "cell_type": "markdown",
   "id": "92a96ec6-b7d2-4db0-9320-32393f7a8c5a",
   "metadata": {
    "jp-MarkdownHeadingCollapsed": true,
    "tags": []
   },
   "source": [
    "### Goals for this homework assignment\n",
    "By the end of this assignment, you should be able to:\n",
    "- Write a generalizable class to store data\n",
    "- Write subclasses that inherit general variables and methods from a parent class\n",
    "- Identify key pieces of information that need to be stored as class variables\n",
    "- Write methods that fetch and modify class variables \n",
    "- Write a function that instantiates new objects given some initial set of parameters\n",
    "\n",
    "Work through the following assignment, making sure to follow all of the directions and answer all of the questions.\n",
    "\n",
    "There are **62 points** possible on this assignment. Point values for each part are included in the section headers and question prompts.\n",
    "\n",
    "**This assignment is due in roughly two weeks from now at 11:59 pm on Friday, October 7th.** It should be uploaded into the \"Homework Assignments\" submission folder for Homework #2.  Submission instructions can be found at the end of the notebook."
   ]
  },
  {
   "cell_type": "markdown",
   "id": "509920a9-f9f8-45cf-8bc9-c427386a6369",
   "metadata": {},
   "source": [
    "---\n",
    "## Part 0: Add to your Git repository to track your progress on your assignment (5 points)\n",
    "\n",
    "For this assignment, you're going to add it to the `cmse202-f22-turnin` repository you created in class so that you can track your progress on the assignment and preserve the final version that you turn in. In order to do this you need to\n",
    "\n",
    "**&#9989; Do the following**:\n",
    "\n",
    "1. Navigate to your `cmse202-f22-turnin` repository and create a new directory called `hw-02`.\n",
    "2. Move this notebook into that **new directory** in your repository, then **add it and commit it to your repository**.\n",
    "1. Finally, to test that everything is working, \"git push\" the file so that it ends up in your GitHub repository.\n",
    "\n",
    "**Important**: Double check you've added your Professor and your TA as collaborators to your \"turnin\" repository (you should have done this in the previous homework assignment).\n",
    "\n",
    "**Also important**: Make sure that the version of this notebook that you are working on is the same one that you just added to your repository! If you are working on a different copy of the notebook, **none of your changes will be tracked**!\n",
    "\n",
    "If everything went as intended, the file should now show up on your GitHub account in the \"`cmse202-f22-turnin`\" repository inside the `hw-02` directory that you just created.  Periodically, **you'll be asked to commit your changes to the repository and push them to the remote GitHub location**. Of course, you can always commit your changes more often than that, if you wish.  It can be good to get into a habit of committing your changes any time you make a significant modification, or when you stop working on the project for a bit.\n",
    "\n",
    "&#9989; **Do this**: Before you move on, put the command that your instructor should run to clone your repository in the markdown cell below."
   ]
  },
  {
   "cell_type": "markdown",
   "id": "b2153390-6686-464b-83e4-6c97d4115138",
   "metadata": {},
   "source": []
  },
  {
   "cell_type": "markdown",
   "id": "472e909c-763c-4019-bf12-2b7c23a6abf1",
   "metadata": {
    "tags": []
   },
   "source": [
    "# Using Classes to Store Data\n",
    "\n",
    "\n",
    "One of the primary ways that classes are used is to organize datasets in a way that is both easy to manipulate and key pieces of information are easily accessible. \n",
    "\n",
    "For this homework assignment, you will be: \n",
    "1. **Creating your own class to encapsulate a dataset**\n",
    "2. **Using that class to create sub-classes**\n",
    "2. **Applying your class(es) to a real data set by creating object instances**\n",
    "2. **Using your objects to answer a (relatively) simple question of the dataset.**\n",
    "\n",
    "One of the great benefits of classes is their flexibility; they can be applied to anything. For this assignment, you can do these tasks with any dataset. The tasks listed above have been designed to work with (virtually) any dataset. For folks that have recently taken 201 and used a dataset for their final project, you may want to consider using it for this assignment. \n",
    "\n",
    "\n",
    "The following set of tasks are specifically geared towards the following dataset: \n",
    "\n",
    "`https://raw.githubusercontent.com/msu-cmse-courses/cmse202-F22-data/main/HW/Homework_2/netflix_titles.csv`\n",
    "\n",
    "which [comes from here](https://www.kaggle.com/datasets/shivamb/netflix-shows).\n",
    "\n",
    "You may complete the following specific tasks for the Netflix dataset, or you may use a different dataset and complete your own version of these tasks for your chosen dataset."
   ]
  },
  {
   "cell_type": "markdown",
   "id": "6ab70fb1-2e61-4339-bdc5-9a0c44113324",
   "metadata": {},
   "source": [
    "## Part 1: Examine your Dataset\n",
    "\n",
    "#### 1.1 Describing your Dataset (2 Points)\n",
    "&#9989; Use Pandas to read in your dataset. Describe the conetents of this dataset (E.g., the column names, what they represent, etc.)\n",
    "\n"
   ]
  },
  {
   "cell_type": "code",
   "execution_count": null,
   "id": "b3117200-8b2c-4174-9189-06f9c29cea68",
   "metadata": {},
   "outputs": [],
   "source": [
    "#Write code here"
   ]
  },
  {
   "cell_type": "code",
   "execution_count": 29,
   "id": "8e7d95e2-60a5-46b3-85f9-738242cbbbc7",
   "metadata": {},
   "outputs": [],
   "source": [
    "### ANSWER ###\n",
    "### Example ###\n",
    "\n",
    "import pandas as pd\n",
    "\n",
    "df = pd.read_csv(\"netflix_titles.csv\")"
   ]
  },
  {
   "cell_type": "markdown",
   "id": "7589ad90-4098-4e6f-9b74-bd8ac46c9031",
   "metadata": {},
   "source": [
    "*Write your answer here*"
   ]
  },
  {
   "cell_type": "markdown",
   "id": "acc8d6b8-2ff5-4438-ba58-ae1002a37f03",
   "metadata": {
    "tags": []
   },
   "source": [
    "### ANSWER ###\n",
    "\n",
    "12 columns \n",
    "- show_id: Generic ID Number\n",
    "- type: Movie or TV Show\n",
    "- title: Name of the Movie or TV Show\n",
    "- director: Self-explanatory\n",
    "- cast: Self-explanatory\n",
    "- country: Country in which it was made\n",
    "- date_added: Date it was added to Netflix\n",
    "- release_year: Year it was (originally) released\n",
    "- rating: MPAA or TV Rating\n",
    "- duration: Runtime or number of seasons\n",
    "- listed_in: Genres it belongs to\n",
    "- description: : Self-explanatory\n"
   ]
  },
  {
   "cell_type": "markdown",
   "id": "51aa0418-9da6-445b-bc97-1e3e19365ce6",
   "metadata": {
    "tags": []
   },
   "source": [
    "#### 1.2 Dropping Data Columns (2 Points)\n",
    "&#9989; We won't be using the first and last columns of this dataframe, so drop them."
   ]
  },
  {
   "cell_type": "code",
   "execution_count": null,
   "id": "0dca0060-6925-409e-948f-619544bd7b27",
   "metadata": {},
   "outputs": [],
   "source": [
    "#Write your code here"
   ]
  },
  {
   "cell_type": "code",
   "execution_count": 30,
   "id": "b6ec7181-96d7-414d-bafc-cf71d5be1f64",
   "metadata": {},
   "outputs": [
    {
     "data": {
      "text/html": [
       "<div>\n",
       "<style scoped>\n",
       "    .dataframe tbody tr th:only-of-type {\n",
       "        vertical-align: middle;\n",
       "    }\n",
       "\n",
       "    .dataframe tbody tr th {\n",
       "        vertical-align: top;\n",
       "    }\n",
       "\n",
       "    .dataframe thead th {\n",
       "        text-align: right;\n",
       "    }\n",
       "</style>\n",
       "<table border=\"1\" class=\"dataframe\">\n",
       "  <thead>\n",
       "    <tr style=\"text-align: right;\">\n",
       "      <th></th>\n",
       "      <th>type</th>\n",
       "      <th>title</th>\n",
       "      <th>director</th>\n",
       "      <th>cast</th>\n",
       "      <th>country</th>\n",
       "      <th>date_added</th>\n",
       "      <th>release_year</th>\n",
       "      <th>rating</th>\n",
       "      <th>duration</th>\n",
       "      <th>listed_in</th>\n",
       "    </tr>\n",
       "  </thead>\n",
       "  <tbody>\n",
       "    <tr>\n",
       "      <th>0</th>\n",
       "      <td>Movie</td>\n",
       "      <td>Dick Johnson Is Dead</td>\n",
       "      <td>Kirsten Johnson</td>\n",
       "      <td>NaN</td>\n",
       "      <td>United States</td>\n",
       "      <td>September 25, 2021</td>\n",
       "      <td>2020</td>\n",
       "      <td>PG-13</td>\n",
       "      <td>90 min</td>\n",
       "      <td>Documentaries</td>\n",
       "    </tr>\n",
       "    <tr>\n",
       "      <th>1</th>\n",
       "      <td>TV Show</td>\n",
       "      <td>Blood &amp; Water</td>\n",
       "      <td>NaN</td>\n",
       "      <td>Ama Qamata, Khosi Ngema, Gail Mabalane, Thaban...</td>\n",
       "      <td>South Africa</td>\n",
       "      <td>September 24, 2021</td>\n",
       "      <td>2021</td>\n",
       "      <td>TV-MA</td>\n",
       "      <td>2 Seasons</td>\n",
       "      <td>International TV Shows, TV Dramas, TV Mysteries</td>\n",
       "    </tr>\n",
       "    <tr>\n",
       "      <th>2</th>\n",
       "      <td>TV Show</td>\n",
       "      <td>Ganglands</td>\n",
       "      <td>Julien Leclercq</td>\n",
       "      <td>Sami Bouajila, Tracy Gotoas, Samuel Jouy, Nabi...</td>\n",
       "      <td>NaN</td>\n",
       "      <td>September 24, 2021</td>\n",
       "      <td>2021</td>\n",
       "      <td>TV-MA</td>\n",
       "      <td>1 Season</td>\n",
       "      <td>Crime TV Shows, International TV Shows, TV Act...</td>\n",
       "    </tr>\n",
       "    <tr>\n",
       "      <th>3</th>\n",
       "      <td>TV Show</td>\n",
       "      <td>Jailbirds New Orleans</td>\n",
       "      <td>NaN</td>\n",
       "      <td>NaN</td>\n",
       "      <td>NaN</td>\n",
       "      <td>September 24, 2021</td>\n",
       "      <td>2021</td>\n",
       "      <td>TV-MA</td>\n",
       "      <td>1 Season</td>\n",
       "      <td>Docuseries, Reality TV</td>\n",
       "    </tr>\n",
       "    <tr>\n",
       "      <th>4</th>\n",
       "      <td>TV Show</td>\n",
       "      <td>Kota Factory</td>\n",
       "      <td>NaN</td>\n",
       "      <td>Mayur More, Jitendra Kumar, Ranjan Raj, Alam K...</td>\n",
       "      <td>India</td>\n",
       "      <td>September 24, 2021</td>\n",
       "      <td>2021</td>\n",
       "      <td>TV-MA</td>\n",
       "      <td>2 Seasons</td>\n",
       "      <td>International TV Shows, Romantic TV Shows, TV ...</td>\n",
       "    </tr>\n",
       "    <tr>\n",
       "      <th>...</th>\n",
       "      <td>...</td>\n",
       "      <td>...</td>\n",
       "      <td>...</td>\n",
       "      <td>...</td>\n",
       "      <td>...</td>\n",
       "      <td>...</td>\n",
       "      <td>...</td>\n",
       "      <td>...</td>\n",
       "      <td>...</td>\n",
       "      <td>...</td>\n",
       "    </tr>\n",
       "    <tr>\n",
       "      <th>8802</th>\n",
       "      <td>Movie</td>\n",
       "      <td>Zodiac</td>\n",
       "      <td>David Fincher</td>\n",
       "      <td>Mark Ruffalo, Jake Gyllenhaal, Robert Downey J...</td>\n",
       "      <td>United States</td>\n",
       "      <td>November 20, 2019</td>\n",
       "      <td>2007</td>\n",
       "      <td>R</td>\n",
       "      <td>158 min</td>\n",
       "      <td>Cult Movies, Dramas, Thrillers</td>\n",
       "    </tr>\n",
       "    <tr>\n",
       "      <th>8803</th>\n",
       "      <td>TV Show</td>\n",
       "      <td>Zombie Dumb</td>\n",
       "      <td>NaN</td>\n",
       "      <td>NaN</td>\n",
       "      <td>NaN</td>\n",
       "      <td>July 1, 2019</td>\n",
       "      <td>2018</td>\n",
       "      <td>TV-Y7</td>\n",
       "      <td>2 Seasons</td>\n",
       "      <td>Kids' TV, Korean TV Shows, TV Comedies</td>\n",
       "    </tr>\n",
       "    <tr>\n",
       "      <th>8804</th>\n",
       "      <td>Movie</td>\n",
       "      <td>Zombieland</td>\n",
       "      <td>Ruben Fleischer</td>\n",
       "      <td>Jesse Eisenberg, Woody Harrelson, Emma Stone, ...</td>\n",
       "      <td>United States</td>\n",
       "      <td>November 1, 2019</td>\n",
       "      <td>2009</td>\n",
       "      <td>R</td>\n",
       "      <td>88 min</td>\n",
       "      <td>Comedies, Horror Movies</td>\n",
       "    </tr>\n",
       "    <tr>\n",
       "      <th>8805</th>\n",
       "      <td>Movie</td>\n",
       "      <td>Zoom</td>\n",
       "      <td>Peter Hewitt</td>\n",
       "      <td>Tim Allen, Courteney Cox, Chevy Chase, Kate Ma...</td>\n",
       "      <td>United States</td>\n",
       "      <td>January 11, 2020</td>\n",
       "      <td>2006</td>\n",
       "      <td>PG</td>\n",
       "      <td>88 min</td>\n",
       "      <td>Children &amp; Family Movies, Comedies</td>\n",
       "    </tr>\n",
       "    <tr>\n",
       "      <th>8806</th>\n",
       "      <td>Movie</td>\n",
       "      <td>Zubaan</td>\n",
       "      <td>Mozez Singh</td>\n",
       "      <td>Vicky Kaushal, Sarah-Jane Dias, Raaghav Chanan...</td>\n",
       "      <td>India</td>\n",
       "      <td>March 2, 2019</td>\n",
       "      <td>2015</td>\n",
       "      <td>TV-14</td>\n",
       "      <td>111 min</td>\n",
       "      <td>Dramas, International Movies, Music &amp; Musicals</td>\n",
       "    </tr>\n",
       "  </tbody>\n",
       "</table>\n",
       "<p>8807 rows × 10 columns</p>\n",
       "</div>"
      ],
      "text/plain": [
       "         type                  title         director  \\\n",
       "0       Movie   Dick Johnson Is Dead  Kirsten Johnson   \n",
       "1     TV Show          Blood & Water              NaN   \n",
       "2     TV Show              Ganglands  Julien Leclercq   \n",
       "3     TV Show  Jailbirds New Orleans              NaN   \n",
       "4     TV Show           Kota Factory              NaN   \n",
       "...       ...                    ...              ...   \n",
       "8802    Movie                 Zodiac    David Fincher   \n",
       "8803  TV Show            Zombie Dumb              NaN   \n",
       "8804    Movie             Zombieland  Ruben Fleischer   \n",
       "8805    Movie                   Zoom     Peter Hewitt   \n",
       "8806    Movie                 Zubaan      Mozez Singh   \n",
       "\n",
       "                                                   cast        country  \\\n",
       "0                                                   NaN  United States   \n",
       "1     Ama Qamata, Khosi Ngema, Gail Mabalane, Thaban...   South Africa   \n",
       "2     Sami Bouajila, Tracy Gotoas, Samuel Jouy, Nabi...            NaN   \n",
       "3                                                   NaN            NaN   \n",
       "4     Mayur More, Jitendra Kumar, Ranjan Raj, Alam K...          India   \n",
       "...                                                 ...            ...   \n",
       "8802  Mark Ruffalo, Jake Gyllenhaal, Robert Downey J...  United States   \n",
       "8803                                                NaN            NaN   \n",
       "8804  Jesse Eisenberg, Woody Harrelson, Emma Stone, ...  United States   \n",
       "8805  Tim Allen, Courteney Cox, Chevy Chase, Kate Ma...  United States   \n",
       "8806  Vicky Kaushal, Sarah-Jane Dias, Raaghav Chanan...          India   \n",
       "\n",
       "              date_added  release_year rating   duration  \\\n",
       "0     September 25, 2021          2020  PG-13     90 min   \n",
       "1     September 24, 2021          2021  TV-MA  2 Seasons   \n",
       "2     September 24, 2021          2021  TV-MA   1 Season   \n",
       "3     September 24, 2021          2021  TV-MA   1 Season   \n",
       "4     September 24, 2021          2021  TV-MA  2 Seasons   \n",
       "...                  ...           ...    ...        ...   \n",
       "8802   November 20, 2019          2007      R    158 min   \n",
       "8803        July 1, 2019          2018  TV-Y7  2 Seasons   \n",
       "8804    November 1, 2019          2009      R     88 min   \n",
       "8805    January 11, 2020          2006     PG     88 min   \n",
       "8806       March 2, 2019          2015  TV-14    111 min   \n",
       "\n",
       "                                              listed_in  \n",
       "0                                         Documentaries  \n",
       "1       International TV Shows, TV Dramas, TV Mysteries  \n",
       "2     Crime TV Shows, International TV Shows, TV Act...  \n",
       "3                                Docuseries, Reality TV  \n",
       "4     International TV Shows, Romantic TV Shows, TV ...  \n",
       "...                                                 ...  \n",
       "8802                     Cult Movies, Dramas, Thrillers  \n",
       "8803             Kids' TV, Korean TV Shows, TV Comedies  \n",
       "8804                            Comedies, Horror Movies  \n",
       "8805                 Children & Family Movies, Comedies  \n",
       "8806     Dramas, International Movies, Music & Musicals  \n",
       "\n",
       "[8807 rows x 10 columns]"
      ]
     },
     "execution_count": 30,
     "metadata": {},
     "output_type": "execute_result"
    }
   ],
   "source": [
    "### ANSWER ###\n",
    "\n",
    "df.drop(labels=[\"show_id\",\"description\"], axis=1,inplace=True)\n",
    "df"
   ]
  },
  {
   "cell_type": "markdown",
   "id": "5f88cf42-0893-4eee-a059-3c15588dd376",
   "metadata": {},
   "source": [
    "#### 1.3 Thinking about Organizing Data (2 Points)\n",
    "\n",
    "&#9989; In order to organize things it is useful to classify them into categories. Imagine that each line of the dataset is an instance of an object(s). How would you organize this dataset using object oriented programming? What would the parent class and its child classes be? Think of the Zoo and Animal classes "
   ]
  },
  {
   "cell_type": "markdown",
   "id": "44de8ab0-09f2-4b61-bf92-a032d33705b7",
   "metadata": {},
   "source": [
    "*Write your response here*"
   ]
  },
  {
   "cell_type": "markdown",
   "id": "34a25f74-124f-4d6b-9998-99a66532d380",
   "metadata": {},
   "source": [
    "## Part 2: Creating your (Parent) Class \n",
    "\n",
    "#### 2.1: Creating the Class (9 Points)\n",
    "\n",
    "&#9989; Create a class called `Production`. The Class should have the attributes `title`, `release_year`, and `genre`. The class should also have `get` and `set` methods for each of the three attributes."
   ]
  },
  {
   "cell_type": "code",
   "execution_count": null,
   "id": "a2fd9251-92e6-4746-9d3f-0f4573e5ee72",
   "metadata": {},
   "outputs": [],
   "source": [
    "#Write your (parent) class here"
   ]
  },
  {
   "cell_type": "code",
   "execution_count": 31,
   "id": "1b4ab13a-cf7f-4053-bd13-f8ffe297a57f",
   "metadata": {},
   "outputs": [],
   "source": [
    "### ANSWER ###\n",
    "### Example ###\n",
    "\n",
    "class Production(object):\n",
    "    def __init__(self, title, release_year, genre):\n",
    "        self.title = title\n",
    "        self.release_year = release_year\n",
    "        self.genre = genre\n",
    "    \n",
    "    def get_title(self):\n",
    "        return self.title\n",
    "    def get_release_year(self):\n",
    "        return self.release_year\n",
    "    def get_genre(self):\n",
    "        return self.genre\n",
    "    \n",
    "    def set_title(self,title):\n",
    "        self.name = name\n",
    "    def set_release_year(self,release_year):\n",
    "        self.release_year = release_year\n",
    "    def set_genre(self,genre):\n",
    "        self.genre = genre"
   ]
  },
  {
   "cell_type": "markdown",
   "id": "9d567b90-d381-4cd8-b333-3f30c80b250e",
   "metadata": {},
   "source": [
    "#### 2.2: Testing the Class (2 Points)\n",
    "\n",
    "&#9989; Select a random entry in the dataset and turn it into a `Production` class object. Print out the title and release year to make sure it is working correctly."
   ]
  },
  {
   "cell_type": "code",
   "execution_count": null,
   "id": "5654bf88-25a1-4163-9fc9-82b6d94d8cf7",
   "metadata": {},
   "outputs": [],
   "source": [
    "#Write your code here"
   ]
  },
  {
   "cell_type": "code",
   "execution_count": 34,
   "id": "7c61c4a9-7fc1-4a06-895c-653f7d65850e",
   "metadata": {},
   "outputs": [
    {
     "name": "stdout",
     "output_type": "stream",
     "text": [
      "Kota Factory 2021\n"
     ]
    }
   ],
   "source": [
    "### ANSWER ###\n",
    "### Example ###\n",
    "\n",
    "temp_entry = df.iloc[4,:]\n",
    "temp_prod =  Production(temp_entry['title'], temp_entry['release_year'], temp_entry['listed_in'])\n",
    "print(temp_prod.get_title(),temp_prod.get_release_year())"
   ]
  },
  {
   "cell_type": "markdown",
   "id": "b15dc8e5-c0e8-4621-a423-182452aac311",
   "metadata": {
    "tags": []
   },
   "source": [
    "---\n",
    "### &#128721; STOP (1 Point)\n",
    "**Pause to commit your changes to your Git repository!**\n",
    "\n",
    "Take a moment to save your notebook, commit the changes to your Git repository. Merge the changes in the main branch, and push the changes to GitHub.\n",
    "\n",
    "---"
   ]
  },
  {
   "cell_type": "markdown",
   "id": "c864abb1-1a1e-4c20-a60a-fa715066f905",
   "metadata": {
    "tags": []
   },
   "source": [
    "## Part 3: Creating your (Child) Classes\n",
    "\n",
    "#### 3.1 Making the Child Classes (12 Points)\n",
    "\n",
    "&#9989; Create child classes `Movie` and `TV_Show`. The `Movie` child class should have the added attribute `director` and the `TV_Show` subclass should have the attribute `seasons`. Make sure that each of the child classes has an `__init__` function that takes all of the necessary information to create an instance of that class. \n",
    "\n",
    "**Note:** Your child classes should use the `super()` function."
   ]
  },
  {
   "cell_type": "code",
   "execution_count": null,
   "id": "14f0a54c-9892-4e14-a102-21dd1c9d7f6a",
   "metadata": {},
   "outputs": [],
   "source": [
    "#Write your (child) classes here"
   ]
  },
  {
   "cell_type": "code",
   "execution_count": 35,
   "id": "9dbd9bf6-8d6b-44c3-93a6-5b97a315baa4",
   "metadata": {},
   "outputs": [],
   "source": [
    "### ANSWER ###\n",
    "### Example ###\n",
    "\n",
    "class Movie(Production):\n",
    "    def __init__(self, title, release_year, genre, director):\n",
    "        super().__init__(title, release_year, genre)\n",
    "        self.director = director\n",
    "    \n",
    "    def get_director(self):\n",
    "        return self.director\n",
    "    def set_director(self,director):\n",
    "        self.director = director\n",
    "\n",
    "class TV_Show(Production):\n",
    "    def __init__(self, title, release_year, genre, seasons):\n",
    "        super().__init__(title, release_year, genre)\n",
    "        self.seasons = seasons\n",
    "    \n",
    "    def get_seasons(self):\n",
    "        return self.seasons\n",
    "    def set_seasons(self,seasons):\n",
    "        self.seasons = seasons"
   ]
  },
  {
   "cell_type": "markdown",
   "id": "54465525-b7ec-4441-ad88-dce654856df7",
   "metadata": {},
   "source": [
    "#### 3.2: Testing Child Classes (4 points)\n",
    "\n",
    "&#9989;  Create an instance of both of your objects to ensure that they're working. Use any entry you like to create your objects. Print the director for the `Movie` and the number of seasons for the `TV_Show`."
   ]
  },
  {
   "cell_type": "code",
   "execution_count": 14,
   "id": "59229981-55dd-464a-a4dc-dc9a6b5dbcd7",
   "metadata": {},
   "outputs": [],
   "source": [
    "#Write your code here"
   ]
  },
  {
   "cell_type": "code",
   "execution_count": 36,
   "id": "1778b9b8-6141-4584-9a1c-ac30c3ecb12f",
   "metadata": {},
   "outputs": [
    {
     "name": "stdout",
     "output_type": "stream",
     "text": [
      "Kirsten Johnson\n",
      "2 Seasons\n"
     ]
    }
   ],
   "source": [
    "### ANSWER ###\n",
    "temp_movie = df.iloc[0,:]\n",
    "temp_tv_show = df.iloc[1,:]\n",
    "temp_movie = Movie(temp_movie['title'], temp_movie['release_year'], temp_movie['listed_in'], temp_movie['director'])\n",
    "temp_tv_show = TV_Show(temp_tv_show['title'], temp_tv_show['release_year'], temp_tv_show['listed_in'], temp_tv_show['duration'])\n",
    "\n",
    "print(temp_movie.get_director())\n",
    "print(temp_tv_show.get_seasons())"
   ]
  },
  {
   "cell_type": "markdown",
   "id": "e6813740-6e11-483c-b09f-d26acc218d5c",
   "metadata": {},
   "source": [
    "## Part 4: Creating your Objects\n",
    "\n",
    "#### 4.1: Make all of the Objects! (6 Points)\n",
    "\n",
    "&#9989; Write a piece of code that uses your dataset to build a list of `Movie` and a list of `TV_Show` objects."
   ]
  },
  {
   "cell_type": "code",
   "execution_count": null,
   "id": "94c9d4c7-ab8a-4687-9fa2-82181ac81590",
   "metadata": {},
   "outputs": [],
   "source": [
    "#Write your code here"
   ]
  },
  {
   "cell_type": "code",
   "execution_count": 42,
   "id": "c9d97ab8-9010-4aff-904b-1fcf385c9e08",
   "metadata": {},
   "outputs": [],
   "source": [
    "### ANSWER ###\n",
    "\n",
    "\n",
    "def make_all_production_objects(df):\n",
    "    movie_objs,tv_show_objs = [],[]\n",
    "    for ii in range(df['type'].size):\n",
    "        prod = df.iloc[ii]\n",
    "        if prod['type'] == 'Movie':\n",
    "            movie_objs.append(Movie(prod['title'], prod['release_year'], prod['listed_in'], prod['director']))\n",
    "        else:\n",
    "            tv_show_objs.append(TV_Show(prod['title'], prod['release_year'], prod['listed_in'], prod['duration']))\n",
    "    return movie_objs,tv_show_objs\n",
    "\n",
    "movie_objs,tv_show_objs = make_all_production_objects(df)"
   ]
  },
  {
   "cell_type": "markdown",
   "id": "4bbe677e-a049-4d93-b233-67a1c6083521",
   "metadata": {
    "tags": []
   },
   "source": [
    "#### 4.2: Make sure the `Movie`s and `TV_Show`s work! (2 Points)\n",
    "\n",
    "&#9989; To test whether you succesfully created the `Movie` and `TV_Show` objects, print out the titles and genres for the first handful (5-10) of `TV_Show` objects."
   ]
  },
  {
   "cell_type": "code",
   "execution_count": null,
   "id": "e0501942-a13b-4167-9cd7-cfe4ef963662",
   "metadata": {},
   "outputs": [],
   "source": [
    "#Write your code here"
   ]
  },
  {
   "cell_type": "code",
   "execution_count": 41,
   "id": "4fdb2dfd-6933-4a2b-afb7-78893e6a692f",
   "metadata": {},
   "outputs": [
    {
     "name": "stdout",
     "output_type": "stream",
     "text": [
      "Blood & Water, International TV Shows, TV Dramas, TV Mysteries\n",
      "Ganglands, Crime TV Shows, International TV Shows, TV Action & Adventure\n",
      "Jailbirds New Orleans, Docuseries, Reality TV\n",
      "Kota Factory, International TV Shows, Romantic TV Shows, TV Comedies\n",
      "Midnight Mass, TV Dramas, TV Horror, TV Mysteries\n"
     ]
    }
   ],
   "source": [
    "### ANSWER ###\n",
    "\n",
    "for ii in range(5):\n",
    "    print(tv_show_objs[ii].get_title()+\", \"+tv_show_objs[ii].get_genre())"
   ]
  },
  {
   "cell_type": "markdown",
   "id": "284d1f4a-269c-4ee9-9d79-1b48cdf3b6d6",
   "metadata": {},
   "source": [
    "---\n",
    "### &#128721; STOP (1 Point)\n",
    "**Pause to commit your changes to your Git repository!**\n",
    "\n",
    "Take a moment to save your notebook, commit the changes to your Git repository. Merge the changes in the main branch, and push the changes to GitHub.\n",
    "\n",
    "---"
   ]
  },
  {
   "cell_type": "markdown",
   "id": "d855eff5-acd9-463f-bb50-56a716f90a56",
   "metadata": {
    "tags": []
   },
   "source": [
    "## Part 5: Answering your Question\n",
    "\n",
    "\n",
    "We’re going to answer the question **“How has the number of Drama TV Shows changed over time?”**\n",
    "\n",
    "To answer this question, we’ll need to look at the `release_year` and `genre` variables for each of our `TV_Show` objects. **But** we have a small problem. \n",
    "\n",
    "#### 5.1 Identifying the Issue (1 Point)\n",
    "&#9989; To see what that is, **print out the `genre` of a random `TV_Show` object.**"
   ]
  },
  {
   "cell_type": "code",
   "execution_count": null,
   "id": "2e97eaae-81b4-49c4-8544-bcf7b07b3e64",
   "metadata": {},
   "outputs": [],
   "source": [
    "#Write your code here"
   ]
  },
  {
   "cell_type": "code",
   "execution_count": 34,
   "id": "cb7399c7-0863-4604-ac8f-6f1eb1dc4979",
   "metadata": {},
   "outputs": [
    {
     "name": "stdout",
     "output_type": "stream",
     "text": [
      "['TV Dramas', 'TV Horror', 'TV Mysteries']\n"
     ]
    }
   ],
   "source": [
    "### ANSWER ###\n",
    "print(tv_show_objs[4].get_genre())"
   ]
  },
  {
   "cell_type": "markdown",
   "id": "ce2c6015-5c0f-4a66-982e-852995b42cbf",
   "metadata": {},
   "source": [
    "We need to be able to group the TV shows based on their genre, but TV shows have multiple genres! We need to be able to break apart these genres. \n",
    "\n",
    "\n",
    "#### 5.2: Fixing the Issue (2 Points)\n",
    "&#9989; Write a piece of code that will split apart the `genre` string into a `list` of genres. Make sure your code is working by testing it on the list of genres from the previous problem. *Note: This will involve tools we haven’t talked about in class. Use Google to help you solve this problem!*"
   ]
  },
  {
   "cell_type": "code",
   "execution_count": null,
   "id": "1c0805a7-e8d9-4a9a-a40b-0acce0384b14",
   "metadata": {},
   "outputs": [],
   "source": [
    "#Write your code here"
   ]
  },
  {
   "cell_type": "code",
   "execution_count": 10,
   "id": "23d19b07-4abb-4f48-a423-f8fab4772ec6",
   "metadata": {},
   "outputs": [
    {
     "name": "stdout",
     "output_type": "stream",
     "text": [
      "['TV Dramas', 'TV Horror', 'TV Mysteries']\n"
     ]
    }
   ],
   "source": [
    "### ANSWER ###\n",
    "#There are a few ways to do this, since it's really just splitting a CSV string\n",
    "\n",
    "print(tv_show_objs[4].get_genre().split(\", \"))"
   ]
  },
  {
   "cell_type": "markdown",
   "id": "9e1a6035-96f6-4b71-abeb-0cbf88edf2b9",
   "metadata": {},
   "source": [
    "#### 5.3: Applying the Fix to our Class (3 Points)\n",
    "&#9989;  Take the code that you wrote in the previous problem and turn it into a method for the `Production` class. Run this method within the `__init__` method so that every `Production` object comes into being with the genres split apart into a list."
   ]
  },
  {
   "cell_type": "code",
   "execution_count": null,
   "id": "085971b9-c7d9-43f8-940b-0c7e702ff37e",
   "metadata": {},
   "outputs": [],
   "source": [
    "#Write your code here"
   ]
  },
  {
   "cell_type": "code",
   "execution_count": 19,
   "id": "537b2fee-8b58-4489-a803-2affbcd18e3e",
   "metadata": {},
   "outputs": [],
   "source": [
    "### ANSWER ###\n",
    "\n",
    "class Production(object):\n",
    "    def __init__(self, name, release_year, genre):\n",
    "        self.name = name\n",
    "        self.release_year = release_year\n",
    "        self.parse_genre(genre)\n",
    "    \n",
    "    def get_name(self):\n",
    "        return self.name\n",
    "    def get_release_year(self):\n",
    "        return self.release_year\n",
    "    def get_genre(self):\n",
    "        return self.genre\n",
    "    \n",
    "    def set_name(self,name):\n",
    "        self.name = name\n",
    "    def set_release_year(self,release_year):\n",
    "        self.release_year = release_year\n",
    "    def set_genre(self,genre):\n",
    "        self.genre = genre\n",
    "    def parse_genre(self,genre):\n",
    "        self.genre = genre.split(\", \")"
   ]
  },
  {
   "cell_type": "markdown",
   "id": "a4800d85-c1a0-4def-b62f-0a07ad60ca5f",
   "metadata": {},
   "source": [
    "#### 5.4: Rebuilding (1 Point)\n",
    "\n",
    "&#9989; Rebuild your `Movie` and `TV_Show` objects with this new addition to the `Production` class. NOTE: you will need to rerun your code from Part 3 for this to work."
   ]
  },
  {
   "cell_type": "code",
   "execution_count": null,
   "id": "eaa196f7-79ab-4804-9e63-67eb4f1d9df6",
   "metadata": {},
   "outputs": [],
   "source": [
    "#Write your code here"
   ]
  },
  {
   "cell_type": "code",
   "execution_count": 27,
   "id": "8031719d-7b3c-4845-b233-bfae40b04f74",
   "metadata": {},
   "outputs": [],
   "source": [
    "### ANSWER ###\n",
    "movie_objs,tv_show_objs = make_all_production_objects(df)"
   ]
  },
  {
   "cell_type": "markdown",
   "id": "c1ba3538-da93-4eeb-af25-e22104c74fc5",
   "metadata": {},
   "source": [
    "#### 5.5: Am I the Drama...? (1 Point)\n",
    "\n",
    "&#9989; Select all of the `TV_Show` objects that have drama as one of their genres."
   ]
  },
  {
   "cell_type": "code",
   "execution_count": null,
   "id": "9c33d12b-e30c-4f0a-9e5b-2b3e78bc902f",
   "metadata": {},
   "outputs": [],
   "source": [
    "#Write your code here"
   ]
  },
  {
   "cell_type": "code",
   "execution_count": 28,
   "id": "f5b2eb2e-8416-4d3f-b84c-c1e412ca1574",
   "metadata": {},
   "outputs": [],
   "source": [
    "### ANSWER ###\n",
    "kept_titles = []\n",
    "for tv_show in tv_show_objs:\n",
    "    if 'TV Dramas' in set(tv_show.genre):\n",
    "        kept_titles.append(tv_show)"
   ]
  },
  {
   "cell_type": "markdown",
   "id": "1319c924-ee1c-474e-b3bb-609796bc8283",
   "metadata": {},
   "source": [
    "#### 5.6: Release Years (1 Point)\n",
    "\n",
    "&#9989; Use your list of `TV_Show` objects to create a list of all of the release years that Drama TV shows came out."
   ]
  },
  {
   "cell_type": "code",
   "execution_count": null,
   "id": "b0427fff-9552-4a33-93b4-3fde834c51d4",
   "metadata": {},
   "outputs": [],
   "source": [
    "#Write your code here"
   ]
  },
  {
   "cell_type": "code",
   "execution_count": 29,
   "id": "85964a0c-6eb1-48eb-a4f7-1dbd9779d2b5",
   "metadata": {},
   "outputs": [],
   "source": [
    "### ANSWER ###\n",
    "#Many ways to do this! As long as it works they're good.\n",
    "\n",
    "all_years = [elem.release_year for elem in kept_titles]"
   ]
  },
  {
   "cell_type": "markdown",
   "id": "a147e4d9-943a-4d4d-acbd-369990d209f4",
   "metadata": {},
   "source": [
    "#### 5.7: Counting the Years (2 Points)\n",
    "\n",
    "&#9989; Make two lists, one with release years and the other with the number of drama TV shows released during that year. [This page from Stack Overflow](https://stackoverflow.com/questions/2161752/how-to-count-the-frequency-of-the-elements-in-an-unordered-list) may be useful.\n"
   ]
  },
  {
   "cell_type": "code",
   "execution_count": null,
   "id": "5fe23f4a-8b9c-467b-9c87-d4338eb7aecd",
   "metadata": {},
   "outputs": [],
   "source": [
    "#Write your code here"
   ]
  },
  {
   "cell_type": "code",
   "execution_count": 31,
   "id": "35e0ee43-8b63-4a0e-9e1b-ae7b698cc677",
   "metadata": {},
   "outputs": [],
   "source": [
    "### ANSWER ###\n",
    "#Again, many ways to do this! As long as it works they're good.\n",
    "\n",
    "import collections\n",
    "counter = collections.Counter(all_years)\n",
    "years = counter.keys()\n",
    "frequency = counter.values()"
   ]
  },
  {
   "cell_type": "markdown",
   "id": "bcfe1f7f-87b0-4767-b5e6-66f5d7c9d5ca",
   "metadata": {},
   "source": [
    "#### 5.8: It isn't Real Unitl you Make a Plot (2 Points)\n",
    "\n",
    "&#9989; Make a plot showing the number of dramas versus release year."
   ]
  },
  {
   "cell_type": "code",
   "execution_count": null,
   "id": "817fe416-3afd-4f90-afba-ea8fc455a014",
   "metadata": {},
   "outputs": [],
   "source": [
    "#Write your code here"
   ]
  },
  {
   "cell_type": "code",
   "execution_count": 33,
   "id": "a4722fc2-b57e-4a0c-9fbd-6a3df43a9e16",
   "metadata": {},
   "outputs": [
    {
     "data": {
      "image/png": "[encoded data removed]",
      "text/plain": [
       "<Figure size 432x288 with 1 Axes>"
      ]
     },
     "metadata": {
      "needs_background": "light"
     },
     "output_type": "display_data"
    }
   ],
   "source": [
    "### ANSWER ###\n",
    "import matplotlib.pyplot as plt\n",
    "\n",
    "plt.scatter(years,frequency)\n",
    "plt.show()"
   ]
  },
  {
   "cell_type": "markdown",
   "id": "d6387b58-f6db-4c19-8f53-00515dee82aa",
   "metadata": {},
   "source": [
    "---\n",
    "### &#128721; STOP (1 Point)\n",
    "**Pause to commit your changes to your Git repository!**\n",
    "\n",
    "Take a moment to save your notebook, commit the changes to your Git repository. Merge the changes in the main branch, and push the changes to GitHub.\n",
    "\n",
    "---"
   ]
  },
  {
   "cell_type": "markdown",
   "id": "8f271f51-e4d3-4481-916a-3965d9c96f33",
   "metadata": {
    "tags": []
   },
   "source": [
    "### Congratulations, you're done!"
   ]
  },
  {
   "cell_type": "markdown",
   "id": "b2f3c3d8-8f71-4b0e-9d7c-d52e66bf24cc",
   "metadata": {},
   "source": [
    "&#169; Copyright 2021,  Department of Computational Mathematics, Science and Engineering at Michigan State University"
   ]
  }
 ],
 "metadata": {
  "kernelspec": {
   "display_name": "Python 3",
   "language": "python",
   "name": "python3"
  },
  "language_info": {
   "codemirror_mode": {
    "name": "ipython",
    "version": 3
   },
   "file_extension": ".py",
   "mimetype": "text/x-python",
   "name": "python",
   "nbconvert_exporter": "python",
   "pygments_lexer": "ipython3",
   "version": "3.7.1"
  },
  "widgets": {
   "application/vnd.jupyter.widget-state+json": {
    "state": {},
    "version_major": 2,
    "version_minor": 0
   }
  }
 },
 "nbformat": 4,
 "nbformat_minor": 5
}
