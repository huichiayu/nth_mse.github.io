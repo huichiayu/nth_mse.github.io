{
 "cells": [
  {
   "cell_type": "markdown",
   "metadata": {},
   "source": [
    "### ANSWER (for making sure this gets removed)\n",
    "\n",
    "# Grading Rubric (57 points total)\n",
    "\n",
    "Points are given in the text of the question. Answers to questions get either 0 (wrong) or 1 (correct). 1 point per correct command in CLI or git.\n",
    "\n",
    "## Part 4. (8 points)\n",
    "\n",
    "4.1 1 point for GitHub username, 1 point for student's name\n",
    "4.2 1 point for TA, 1 point for instructor\n",
    "4.3 1 point for merging, 1 point for checking out\n",
    "4.4 1 point for pushing"
   ]
  },
  {
   "cell_type": "markdown",
   "metadata": {},
   "source": [
    "# Homework Assignment 1 (Individual)\n",
    "## Git practice, debugging practice, and new Python packages"
   ]
  },
  {
   "cell_type": "markdown",
   "metadata": {},
   "source": [
    "### <p style=\"text-align: right;\"> &#9989; Put your name here.</p>\n",
    "### <p style=\"text-align: right;\"> &#9989; Put your _GitHub username_ here.</p>"
   ]
  },
  {
   "cell_type": "markdown",
   "metadata": {},
   "source": [
    "<img src=\"https://www.plasmapy.org/images/with-text-light-small.png\" width=300px align=\"right\" style=\"margin-left: 20px\" alt=\"Image credit: https://plasmapy.org/\">\n",
    "\n",
    "### Goals for this homework assignment\n",
    "By the end of this assignment, you should be able to:\n",
    "* Use Git to create a repository, track changes to the files within the repository, and push those changes to a remote repository.\n",
    "* Debug some basic Python code.\n",
    "* Read documentation and example code to use a new Python package\n",
    "\n",
    "Work through the following assignment, making sure to follow all of the directions and answer all of the questions.\n",
    "\n",
    "There are **57 points** possible on this assignment. Point values for each part are included in the section headers and question prompts.\n",
    "\n",
    "**This assignment is due roughly two weeks from now at 11:59 pm on Friday, September 23.** It should be uploaded into the \"Homework Assignments\" submission folder for Homework #1 on D2L.  Submission instructions can be found at the end of the notebook. **You must also fill out a survey regarding this assignment.** The link to this survey can also be found at the end of the notebook."
   ]
  },
  {
   "cell_type": "markdown",
   "metadata": {},
   "source": [
    "\n",
    "<a id=\"toc\"></a>\n",
    "\n",
    "## Table of contents\n",
    "\n",
    "0. [Part 0: Office Hours](#ofhrs) (10 points)\n",
    "\n",
    "1. [Part 1: Git and CLI](#gits) (14 points)\n",
    "\n",
    "3. [Part 2: Debugging](#debugging) (13 points)\n",
    "\n",
    "4. [Part 3: A new Python package](#plasmas) (13 points)\n",
    "\n",
    "5. [Part 4: Finishing](#conclusion) (7 points)"
   ]
  },
  {
   "cell_type": "code",
   "execution_count": null,
   "metadata": {},
   "outputs": [],
   "source": [
    "part0, part1, part2, part3, part4 = [10, 14, 13, 13, 7]\n",
    "\n",
    "print(f\"Max number of points = {part0 + part1 + part2 + part3 + part4}\")"
   ]
  },
  {
   "cell_type": "markdown",
   "metadata": {},
   "source": [
    "---\n",
    "<a id=\"ofhrs\"></a>\n",
    "[Back to ToC](#toc)\n",
    "\n",
    "\n",
    "# Part 0: Office Hours and Academic Integrity (10 points)\n",
    "\n",
    "## Academic integrity statement (2 Points)\n",
    "\n",
    "In the markdown cell below, paste your personal academic integrity statement. By including this statement, you are confirming that you are submitting this as your own work and not that of someone else.\n"
   ]
  },
  {
   "cell_type": "markdown",
   "metadata": {},
   "source": [
    "<font size=6 color=\"#009600\">&#9998;</font> *Put your personal academic integrity statement here.*"
   ]
  },
  {
   "cell_type": "markdown",
   "metadata": {},
   "source": [
    "## Going to Office Hours (8 Points)\n",
    "\n",
    "### Why are we doing this?\n",
    "We want to make sure that everyone knows how to access the resources\n",
    "available to you. One of the best resources you have at your disposal is office hours.\n",
    "\n",
    "### What will you do?\n",
    "(At minimum) Go to one office hour session ​(it doesn’t matter which one you go to). Come with one question that you would like to talk about. It can be big or small. Ask your question. All of the instructors for CMSE 202 (section leads, TAs, and LAs) will be adding to a running list of folks that we see during office hours; as long as your name appears on the list, you’ll get credit for this part of Homework 1.\n",
    "\n",
    "**NOTE:** The day when the homework is due (**Friday, September 23**) will be the busiest time for folks to go to office hours. You are **STRONGLY** encouraged to go to office hours before Friday to get credit for this part of this assignment. (You should still feel free to go to office hours on Friday for help, though!)\n",
    "\n",
    "You can find the office hours calendar on the [course website](https://cmse.msu.edu/cmse202)."
   ]
  },
  {
   "cell_type": "markdown",
   "metadata": {},
   "source": [
    "**&#9989; **Question 0.1 (8 points)****\n",
    "\n",
    "Type below the question you asked."
   ]
  },
  {
   "cell_type": "markdown",
   "metadata": {},
   "source": [
    "<font size=6 color=\"#009600\">&#9998;</font> *Put your question here.*"
   ]
  },
  {
   "cell_type": "markdown",
   "metadata": {},
   "source": [
    "---\n",
    "<a id=\"gits\"></a>\n",
    "[Back to ToC](#toc)\n",
    "\n",
    "# Part 1: CLI and Git (14 points)\n",
    "\n",
    "## Setting up a git repository to track your progress on your assignments \n",
    "\n",
    "`git` is a very important professional tool and we want you to get plenty of practice using it. The following set of questions prompt you to create a (private) Git repo for storing, updating, and turning in your homework assignments. You will **share this repo with your course lead instructor and TA** so that they can pull your completed assignments for grading."
   ]
  },
  {
   "cell_type": "markdown",
   "metadata": {},
   "source": [
    "**&#9989; **Question 1.1 (2 points)****\n",
    "1. On [GitHub](https://github.com) make sure you are logged into your account and then create a new <font color=\"red\">**_private_**</font> GitHub repository called `cmse202-f22-turnin`.\n",
    "2. Once you've initialized the repository on GitHub, **clone a copy of it onto JupyterHub or your computer**."
   ]
  },
  {
   "cell_type": "markdown",
   "metadata": {},
   "source": [
    "``` bash\n",
    "# Put the command you used to create the directory here\n",
    "```"
   ]
  },
  {
   "cell_type": "markdown",
   "metadata": {},
   "source": [
    "**&#9989; **Question 1.2 (1 point)**** Open a terminal and move inside the repository folder\n",
    "\n",
    "What command did you use to enter into the folder?"
   ]
  },
  {
   "cell_type": "markdown",
   "metadata": {},
   "source": [
    "``` bash\n",
    "# Put the command to move into a new directory here.\n",
    "```"
   ]
  },
  {
   "cell_type": "markdown",
   "metadata": {},
   "source": [
    "**&#9989; **Question 1.3 (1 point)****  Once inside the `cmse202-f22-turnin` repository, create a new folder called `hw-01`.\n",
    "\n",
    "What is the command to create the new folder ?"
   ]
  },
  {
   "cell_type": "markdown",
   "metadata": {},
   "source": [
    "``` bash\n",
    "# Put the command to create the directory here\n",
    "```"
   ]
  },
  {
   "cell_type": "markdown",
   "metadata": {},
   "source": [
    "**&#9989; **Question 1.4 (1 point)**** Move this notebook into that **new directory** in your repository then check the status of the repository\n",
    "\n",
    "**Important**: you'll want to make sure you **save and close** the notebook before you do this step and then re-open it once you've added it to your repository.\n"
   ]
  },
  {
   "cell_type": "markdown",
   "metadata": {},
   "source": [
    "``` bash\n",
    "# Put the command you used to check the status of your repository here.\n",
    "```"
   ]
  },
  {
   "cell_type": "markdown",
   "metadata": {},
   "source": [
    "**&#9989; **Question 1.5 (1 point)**** Copy and paste below the output of the command.\n",
    "\n",
    "``` bash\n",
    "# Paste it here\n",
    "```"
   ]
  },
  {
   "cell_type": "markdown",
   "metadata": {},
   "source": [
    "**&#9989; **Question 1.6 (1 point)**** What is the name of the branch you are in ? \n",
    "\n",
    "``` bash\n",
    "# Put your answer here\n",
    "```"
   ]
  },
  {
   "cell_type": "markdown",
   "metadata": {},
   "source": [
    "&#9989; **Question 1.7 (3 points):** It is good practice to create a new branch for each modification to the code. Create a new branch called `homework_01` and switch to that branch to track the rest of the changes in this notebook. \n",
    "\n",
    "``` bash\n",
    "# Put the command you used to create and switch to the new branch here.\n",
    "```"
   ]
  },
  {
   "cell_type": "markdown",
   "metadata": {},
   "source": [
    "&#9989; **Question 1.8 (3 points):**\n",
    "Add your name and GitHub username to the top of the notebook, then add and commit **ONLY** the notebook.\n",
    "\n",
    "``` bash\n",
    "# Put the command(s) to add and commit here \n",
    "```\n",
    "\n",
    "What is the commit message you used ?\n",
    "\n",
    "``` bash\n",
    "# Answer the question here\n",
    "```"
   ]
  },
  {
   "cell_type": "markdown",
   "metadata": {},
   "source": [
    "&#9989; **Question 1.9 (1 point):** Before moving on. Check that the notebook you are working on is the correct one. Run the following cell. **Are you in the new folder you just created?** If not close this notebook and open the one in the `homework_01` folder\n"
   ]
  },
  {
   "cell_type": "code",
   "execution_count": null,
   "metadata": {
    "ExecuteTime": {
     "end_time": "2022-09-10T21:45:07.159611Z",
     "start_time": "2022-09-10T21:45:06.977669Z"
    }
   },
   "outputs": [],
   "source": [
    "!pwd"
   ]
  },
  {
   "cell_type": "markdown",
   "metadata": {},
   "source": [
    "**Important**: Make sure you've added your Professor and your TA as collaborators to your new \"turnin\" respository with \"Read\" access so that they can see your assignment. **You should check the Slack channel _for your section of the course_ to get this information.**\n",
    "\n",
    "**Double-check the following**: Make sure that the version of this notebook that you are working on is the same one that you just added to your repository! If you are working on a different copy of the notebook, **none of your changes will be tracked**.\n",
    "\n",
    "If everything went as intended, the file should now show up on your GitHub account in the \"`cmse202-f22-turnin`\" repository inside the `hw-01` directory that you just created.  Periodically, **you'll be asked to commit your changes to the repository and push them to the remote GitHub location**. Of course, you can always commit your changes more often than that, if you wish.  It can be good to get into a habit of committing your changes any time you make a significant modification, or when you stop working on the project for a bit.\n"
   ]
  },
  {
   "cell_type": "markdown",
   "metadata": {},
   "source": [
    "---\n",
    "<a id=\"debugging\"></a>\n",
    "[Back to ToC](#toc)\n",
    "\n",
    "# Part 2: Debugging (13 points)\n",
    "\n",
    "## Reading Python and understanding errors and error messages \n",
    "\n",
    "In the following you will practice reading and debugging code. This is usually the most frustrating and time consuming part of a computational project, hence, you should start familiarizing yourself with the error messages. \n",
    "\n",
    "Review the following code. Read the comments to understand what the code is supposed to do. Then run the code and see what it outputs and/or the error message. Finally, **fix the code**. When you fix the code **add a comment to explain what was wrong with the original code**.\n",
    "\n",
    "**NOTE:** not every block of code will result in an error message, but there is something wrong with each block of code below."
   ]
  },
  {
   "cell_type": "markdown",
   "metadata": {},
   "source": [
    "### Understanding the error message\n",
    "\n",
    "\n",
    "&#9989; **Questions 2.1 (5 points)**: Follow this [link](https://docs.python.org/3/tutorial/errors.html) and answer the questions below. (No need to read it all, you can stop after section 8.2)\n",
    "\n",
    "1. Python identifies two kinds of errors, what are they?\n",
    "2. How can you fix the error shown in the first example block, i.e. the one in section 8.1?\n",
    "3. What type of errors are presented in the second example block, i.e. the one in section 8.2 ?\n",
    "4. Where in the error message can you find the location of your error ?\n",
    "5. Does the error message gives hints on how to fix the error? If Yes, where can I find this information?\n"
   ]
  },
  {
   "cell_type": "markdown",
   "metadata": {},
   "source": [
    "``` bash\n",
    "# Put your answers here\n",
    "\n",
    "1.\n",
    "\n",
    "2. \n",
    "\n",
    "3.\n",
    "\n",
    "4.\n",
    "\n",
    "5. \n",
    "```"
   ]
  },
  {
   "cell_type": "markdown",
   "metadata": {},
   "source": [
    "### ANSWER\n",
    "``` bash\n",
    "# Put your answers here\n",
    "\n",
    "1. SyntaxError and Exceptions\n",
    "\n",
    "2. By putting a colon before print\n",
    "\n",
    "3. ZeroDivisionError, NameError, and Type Error\n",
    "\n",
    "4. On the first line, I can find the name of the file and the line producing the error\n",
    "\n",
    "5. Yes, in the last line of the error message I can read the type of error and the comments after the colon helps with the resolution\n",
    "\n",
    "```"
   ]
  },
  {
   "cell_type": "markdown",
   "metadata": {},
   "source": [
    "&#9989; **Do This**: The code in the following cell is supposed to look for all the prime numbers up to the variable `max_number` (set to 12) and store them into a list.\n",
    "\n",
    "Run the following code and answer the questions"
   ]
  },
  {
   "cell_type": "code",
   "execution_count": null,
   "metadata": {
    "ExecuteTime": {
     "end_time": "2022-09-08T01:18:06.780977Z",
     "start_time": "2022-09-08T01:18:06.777113Z"
    },
    "scrolled": true
   },
   "outputs": [],
   "source": [
    "import math as mt\n",
    "\n",
    "def is_prime(n):\n",
    "    upper_lim = int(mt.sqrt(n)) + 1\n",
    "    for i in range(2,upper_lim):\n",
    "        if n%i == 0:\n",
    "            return False\n",
    "    return True\n",
    "\n",
    "max_number = 12\n",
    "prime_list = [1]\n",
    "\n",
    "for num in range(3,max_number,2):\n",
    "if is_prime(num): \n",
    "        prime_list.append(num)\n",
    "    \n",
    "            \n",
    "print(prime_list)"
   ]
  },
  {
   "cell_type": "markdown",
   "metadata": {},
   "source": [
    "**Questions 2.2 (3 points)**\n",
    "\n",
    "1. What line is producing the error?\n",
    "\n",
    "2. What is the type of error?\n",
    "\n",
    "3. Fix the error and rerun the code."
   ]
  },
  {
   "cell_type": "code",
   "execution_count": null,
   "metadata": {
    "ExecuteTime": {
     "end_time": "2022-09-08T01:17:49.314732Z",
     "start_time": "2022-09-08T01:17:49.310634Z"
    }
   },
   "outputs": [],
   "source": [
    "# FIX THE ERROR HERE AND RUN THIS CELL \n",
    "import math as mt\n",
    "\n",
    "def is_prime(n):\n",
    "    upper_lim = int(mt.sqrt(n)) + 1\n",
    "    for i in range(2,upper_lim):\n",
    "        if n%i == 0:\n",
    "            return False\n",
    "    return True\n",
    "\n",
    "max_number = 12\n",
    "prime_list = [1]\n",
    "\n",
    "for num in range(3,max_number,2):\n",
    "if is_prime(num): \n",
    "        prime_list.append(num)\n",
    "    \n",
    "            \n",
    "print(prime_list)\n"
   ]
  },
  {
   "cell_type": "code",
   "execution_count": null,
   "metadata": {
    "ExecuteTime": {
     "end_time": "2022-09-10T21:50:16.229400Z",
     "start_time": "2022-09-10T21:50:16.225609Z"
    }
   },
   "outputs": [],
   "source": [
    "### ANSWER \n",
    "import math as mt\n",
    "\n",
    "def is_prime(n):\n",
    "    upper_lim = int(mt.sqrt(n)) + 1\n",
    "    for i in range(2,upper_lim):\n",
    "        if n%i == 0:\n",
    "            return False\n",
    "    return True\n",
    "\n",
    "max_number = 12\n",
    "prime_list = [1]\n",
    "\n",
    "for num in range(3,max_number,2):\n",
    "    if is_prime(num): \n",
    "        prime_list.append(num)\n",
    "    \n",
    "            \n",
    "print(prime_list)\n"
   ]
  },
  {
   "cell_type": "markdown",
   "metadata": {},
   "source": [
    "&#9989; **Do This**: The following cell is supposed to print the second to last element of the list, but it is full of errors. Run the next line without editing it and answer the questions"
   ]
  },
  {
   "cell_type": "code",
   "execution_count": null,
   "metadata": {
    "ExecuteTime": {
     "end_time": "2022-09-10T21:50:49.628259Z",
     "start_time": "2022-09-10T21:50:49.619730Z"
    },
    "scrolled": true
   },
   "outputs": [],
   "source": [
    "prime_list(20)"
   ]
  },
  {
   "cell_type": "markdown",
   "metadata": {},
   "source": [
    "**Questions 2.3 (3 points)**\n",
    "\n",
    "1. Can you identify all the mistakes in the above line? What error is produced if you ran the cell without editing it?\n",
    "\n",
    "2. What does it mean that \"list\" is not callable? Is the function `is_prime` callable ?\n",
    "\n",
    "3. How can you fix the errors?"
   ]
  },
  {
   "cell_type": "markdown",
   "metadata": {},
   "source": [
    "### ANSWER\n",
    "\n",
    "1. TypeError. \n",
    "\n",
    "2. list is not a function. Does not take inputs like is_prime, which is a function, hence callable\n",
    "\n",
    "3. prime_list[-2]"
   ]
  },
  {
   "cell_type": "markdown",
   "metadata": {},
   "source": [
    "## &#128721; STOP\n",
    "**Questions 2.4 (2 points): Pause to add and commit your changes to your Git repository!**\n",
    "\n",
    "Take a moment to save your notebook, commit the changes to your Git repository using the commit message **\"Committing Part 2\"**, no need to push the changes to GitHub.\n",
    "\n"
   ]
  },
  {
   "cell_type": "markdown",
   "metadata": {},
   "source": [
    "--- \n",
    "<a id=\"plasmas\"></a>\n",
    "[Back to ToC](#toc)\n",
    "\n",
    "# Part 3: Working with a less familiar Python package (13 points)\n",
    "\n",
    "Since we've been practicing downloading data from the internet and learning to use new Python packages, you're going to practice doing exactly that in this assignment! This will require running command-line commands from inside your notebook, reading documentation, and looking at code examples you're not familiar with. These are all authentic parts of being an independent computational professional. \n",
    "\n",
    "In this part of the exam you will need to review a bit of documentation from either a Python package that you've explored a bit this semester or a new one."
   ]
  },
  {
   "cell_type": "markdown",
   "metadata": {},
   "source": [
    "Let's say you like plasma physics and decide to write a python library for it, but you find out that someone has already started working on a library for plasmas and they called it `plasmapy`. Here is the [documentation.](https://docs.plasmapy.org/en/stable/index.html)"
   ]
  },
  {
   "cell_type": "markdown",
   "metadata": {},
   "source": [
    "## Part 3.1: Installation\n",
    "\n",
    "&#9989; **Question 3.1.1 (1 point)**: To start, install `plasmapy` using `pip`. **IMPORTANT:** DO NOT USE TERMINAL. You must run the command in the next cell and then restart the kernel "
   ]
  },
  {
   "cell_type": "code",
   "execution_count": null,
   "metadata": {
    "ExecuteTime": {
     "end_time": "2022-09-08T16:09:10.548188Z",
     "start_time": "2022-09-08T16:09:10.541353Z"
    }
   },
   "outputs": [],
   "source": [
    "# Put the command for installing plasmapy here and run the cell. \n",
    "\n",
    "...\n",
    "\n",
    "# Don't forget to restart your kernel"
   ]
  },
  {
   "cell_type": "code",
   "execution_count": null,
   "metadata": {
    "ExecuteTime": {
     "end_time": "2022-09-08T16:09:04.422683Z",
     "start_time": "2022-09-08T16:09:02.530361Z"
    }
   },
   "outputs": [],
   "source": [
    "### ANSWER\n",
    "!pip install plasmapy"
   ]
  },
  {
   "cell_type": "markdown",
   "metadata": {},
   "source": [
    "&#9989; **Question 3.1.2 (2 points)**: Read the print out of the above cell and answer the following questions in the next markdown cell. \n",
    "\n",
    "1. Was `plasmapy` installed already ? \n",
    "2. What version of `plasmapy` is installed ?"
   ]
  },
  {
   "cell_type": "markdown",
   "metadata": {},
   "source": [
    "``` bash\n",
    "# Put the answers here\n",
    "\n",
    "1. \n",
    "\n",
    "2. \n",
    "\n",
    "```"
   ]
  },
  {
   "cell_type": "markdown",
   "metadata": {},
   "source": [
    "### ANSWER\n",
    "\n",
    "1. The pip message tells you if it was already installed.\n",
    "\n",
    "2. The pip message tells you which version. "
   ]
  },
  {
   "cell_type": "markdown",
   "metadata": {},
   "source": [
    "---\n",
    "\n",
    "## Part 3.2: Exploring the new library\n",
    "\n",
    "Now that we have installed `plasmapy` let's look at some of this package features. From its [documentation](https://docs.plasmapy.org/en/stable/index.html) we notice that there is a section called [_Dispersion_](https://docs.plasmapy.org/en/stable/dispersion/index.html) which contains the [Plasma Dispersion Function](https://docs.plasmapy.org/en/stable/api/plasmapy.dispersion.dispersionfunction.plasma_dispersion_func.html#).\n",
    "\n",
    "&#9989; **Question 3.2.1 (2 points)**: In the next cell import the `plasma_dispersion_func` and print its documentation. \n",
    "\n",
    "**HINT:** Notice that the function is `plasmapy.dispersion.dispersionfunction.plasma_dispersion_func`. This means that `plasma_dispersion_func` is contained in the `dispersionfunction` module which is contained in the `dispersion` module which is contained in the `plasmapy` module"
   ]
  },
  {
   "cell_type": "code",
   "execution_count": null,
   "metadata": {},
   "outputs": [],
   "source": [
    "# Put your code here\n"
   ]
  },
  {
   "cell_type": "code",
   "execution_count": null,
   "metadata": {
    "ExecuteTime": {
     "end_time": "2022-09-10T21:56:53.260812Z",
     "start_time": "2022-09-10T21:56:49.269976Z"
    }
   },
   "outputs": [],
   "source": [
    "### ANSWER \n",
    "from plasmapy.dispersion.dispersionfunction import plasma_dispersion_func\n",
    "print(plasma_dispersion_func.__doc__)"
   ]
  },
  {
   "cell_type": "markdown",
   "metadata": {},
   "source": [
    "&#9989; **Questions 3.2.2 (3 points)**: By _reading_ the printed docstring answer the following questions.\n",
    "\n",
    "1. What type of input does the function take?\n",
    "2. What is the return type ?\n",
    "3. What error is raised if you pass an infinity as the argument?"
   ]
  },
  {
   "cell_type": "markdown",
   "metadata": {},
   "source": [
    "### ANSWER\n",
    "\n",
    "1. complex, int, float, astropy.Quantity, numpy.array\n",
    "2. complex, float, np.ndarray\n",
    "3. ValueError"
   ]
  },
  {
   "cell_type": "markdown",
   "metadata": {},
   "source": [
    "&#9989; **Question 3.2.3 (3 points)**: Complete the code below and to plot the dispersion function. \n",
    "\n",
    "It should look like this\n",
    "\n",
    "![zeta_plot](https://raw.githubusercontent.com/msu-cmse-courses/cmse202-F22-data/main/data/zeta_plot.png)\n"
   ]
  },
  {
   "cell_type": "code",
   "execution_count": null,
   "metadata": {},
   "outputs": [],
   "source": [
    "%pylab\n",
    "%matplotlib inline\n",
    "import seaborn as sns\n",
    "sns.set_context(\"talk\")\n",
    "\n",
    "x = np.linspace(0.0, 2, 200)\n",
    "# Calculate the plasma dispersion function here\n",
    "\n",
    "fig, ax = plt.subplots(figsize = (10, 7))\n",
    "# Plot the real part and imaginary part\n",
    "ax.plot(x, ???, label = \"Real part\")\n",
    "ax.plot(x, ???, label = \"Imaginary part\")\n",
    "ax.grid(alpha = 0.2)\n",
    "ax.legend()\n",
    "ax.set( xlabel = r\"x\", ylabel = r\"Z(x)\")"
   ]
  },
  {
   "cell_type": "code",
   "execution_count": null,
   "metadata": {
    "ExecuteTime": {
     "end_time": "2022-09-10T22:00:55.493887Z",
     "start_time": "2022-09-10T22:00:55.378712Z"
    }
   },
   "outputs": [],
   "source": [
    "### ANSWER\n",
    "\n",
    "%pylab\n",
    "%matplotlib inline\n",
    "import seaborn as sns\n",
    "sns.set_context(\"talk\")\n",
    "\n",
    "x = np.linspace(0.0, 10, 200)\n",
    "pdf = plasma_dispersion_func(x) # 1 point \n",
    "\n",
    "fig, ax = plt.subplots(figsize = (10, 7))\n",
    "ax.plot(x, pdf.real, label = \"Real part\")  #1 point \n",
    "ax.plot(x, pdf.imag, label = \"Imaginary part\") #1 point \n",
    "ax.grid(alpha = 0.2)\n",
    "ax.legend()\n",
    "ax.set( xlabel = r\"x\", ylabel = r\"Z(x)\")"
   ]
  },
  {
   "cell_type": "markdown",
   "metadata": {},
   "source": [
    "## &#128721; STOP\n",
    "**Questions 3.3 (2 points): Pause to add and commit your changes to your Git repository!**\n",
    "\n",
    "Take a moment to save your notebook, commit the changes to your Git repository using the commit message **\"Committing Part 3\"**, no need to push the changes to GitHub.\n"
   ]
  },
  {
   "cell_type": "markdown",
   "metadata": {},
   "source": [
    "---\n",
    "<a id=\"conclusion\"></a>\n",
    "[Back to ToC](#toc)\n",
    "\n",
    "# Part 4: Finishing (7 points)\n",
    "\n",
    "\n",
    "**Question 4.1 (2 points):** Have you put **your name** and **GitHub username** at the top of your notebook?\n",
    "\n",
    "**Question 4.2 (2 points):** Have you added the **TA** and **Instructor** to your GitHub repository ?\n",
    "\n",
    "**Question 4.3 (2 points):** Merge your `homework_01` branch into the `main` branch and checkout the `main` branch\n",
    "\n",
    "```bash\n",
    "\n",
    "# Put the command you used to merge your branch here\n",
    "```\n",
    "\n",
    "\n",
    "**Question 4.3 (1 points):** Finally push your repository to GitHub?\n",
    "\n",
    "\n",
    "```bash\n",
    "\n",
    "# Put the command you used to push to GitHub here\n",
    "```\n",
    "\n",
    "\n",
    "**NOTE:** The grader is able to see your commit messages, branches and whether you pushed the repo at this stage.\n"
   ]
  },
  {
   "cell_type": "markdown",
   "metadata": {},
   "source": [
    "---\n",
    "## Assignment wrap-up\n",
    "\n",
    "Please fill out the form that appears when you run the code below.  **You must completely fill this out in order to receive credit for the assignment!**"
   ]
  },
  {
   "cell_type": "code",
   "execution_count": null,
   "metadata": {
    "ExecuteTime": {
     "end_time": "2022-09-08T16:05:27.551532Z",
     "start_time": "2022-09-08T16:05:27.546612Z"
    }
   },
   "outputs": [],
   "source": [
    "from IPython.display import HTML\n",
    "HTML(\n",
    "\"\"\"\n",
    "<iframe \n",
    "\tsrc=\"https://forms.office.com/r/SCJx70kJUn\" \n",
    "\twidth=\"800px\" \n",
    "\theight=\"600px\" \n",
    "\tframeborder=\"0\" \n",
    "\tmarginheight=\"0\" \n",
    "\tmarginwidth=\"0\">\n",
    "\tLoading...\n",
    "</iframe>\n",
    "\"\"\"\n",
    ")"
   ]
  },
  {
   "cell_type": "markdown",
   "metadata": {},
   "source": [
    "### Congratulations, you're done!\n",
    "\n",
    "Submit this assignment by uploading it to the course Desire2Learn web page.  Go to the **\"Homework Assignments\"** folder, find the dropbox link for Homework #1, and upload it there."
   ]
  },
  {
   "cell_type": "markdown",
   "metadata": {},
   "source": [
    "&#169; Copyright 2022,  Department of Computational Mathematics, Science and Engineering at Michigan State University"
   ]
  }
 ],
 "metadata": {
  "anaconda-cloud": {},
  "kernelspec": {
   "display_name": "Python 3",
   "language": "python",
   "name": "python3"
  },
  "language_info": {
   "codemirror_mode": {
    "name": "ipython",
    "version": 3
   },
   "file_extension": ".py",
   "mimetype": "text/x-python",
   "name": "python",
   "nbconvert_exporter": "python",
   "pygments_lexer": "ipython3",
   "version": "3.7.1"
  },
  "latex_envs": {
   "LaTeX_envs_menu_present": true,
   "autoclose": false,
   "autocomplete": true,
   "bibliofile": "biblio.bib",
   "cite_by": "apalike",
   "current_citInitial": 1,
   "eqLabelWithNumbers": true,
   "eqNumInitial": 1,
   "hotkeys": {
    "equation": "Ctrl-E",
    "itemize": "Ctrl-I"
   },
   "labels_anchors": false,
   "latex_user_defs": false,
   "report_style_numbering": false,
   "user_envs_cfg": false
  },
  "toc": {
   "base_numbering": 1,
   "nav_menu": {},
   "number_sections": true,
   "sideBar": true,
   "skip_h1_title": false,
   "title_cell": "Table of Contents",
   "title_sidebar": "Contents",
   "toc_cell": false,
   "toc_position": {},
   "toc_section_display": true,
   "toc_window_display": false
  },
  "widgets": {
   "application/vnd.jupyter.widget-state+json": {
    "state": {},
    "version_major": 2,
    "version_minor": 0
   }
  }
 },
 "nbformat": 4,
 "nbformat_minor": 4
}
