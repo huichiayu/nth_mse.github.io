{
 "cells": [
  {
   "cell_type": "markdown",
   "metadata": {},
   "source": [
    "###ANSWER (for making sure this gets removed)\n",
    "\n",
    "# Grading Rubric (98 points total)\n",
    "\n",
    "## Part 1 (6 points)\n",
    "\n",
    "* 1 point for having added this notebook to the repository\n",
    "* 1 point for adding the standard_model.py script to the repository\n",
    "* 1 point for adding the universe.py script\n",
    "* 1 point for creating a branch\n",
    "* 1 point for merging the branch\n",
    "* 1 point for making some number of commits\n",
    "\n",
    "## Part 2 (22 points)\n",
    "\n",
    "* **Question 2.1** (2 points):\n",
    "  * 1 point for loading the file correctly\n",
    "  * 1 point for displaying the first 15 lines\n",
    "* **Question 2.2** (3 points):\n",
    "  * 1 point for drop\n",
    "  * 1 point for using replace\n",
    "  * 1 point for printing the output\n",
    "* **Question 2.3** (4 points):\n",
    "  * 1 point for using groupby\n",
    "  * 1 point for using .describe()\n",
    "  * 1 point for a correct answer to the first question\n",
    "  * 1 point for a correct answer to the second question\n",
    "* **Question 2.4** (7 points):\n",
    "  * 1 point for using seaborn\n",
    "  * 1 point for using pair plot\n",
    "  * 2 point for a reasonable answer to the question, 1 point if they get in the ballpark\n",
    "  * 2 point for a reasonable answer to the question, 1 point if they get in the ballpark\n",
    "  * 1 point for a reasonable answer to the question\n",
    "* **Question 2.5** (3 points)\n",
    "  * 1 point for using scatterplot\n",
    "  * 1 point for the correct axis with log scale\n",
    "  * 1 point for the hue choice\n",
    "* **Question 2.6** (3 points)\n",
    "  * 1 point for correctly masking the values\n",
    "  * 1 point for getting the right answer\n",
    "  * 1 point for a reasonable explanation\n",
    "\n",
    "## Part 3 (44 points)\n",
    "\n",
    "### 3.1 (16 points)\n",
    "\n",
    "* **Question 3.1.1** (3 points)\n",
    "  * 1 point per question\n",
    "* **Question 3.1.2** (9 points)\n",
    "  * 2 points for correctly defining the check_type() method.\n",
    "  * 2 points for using the .is_integer() method. 1 point otherwise, as long as the code still works.\n",
    "  * 1 point for correctly defining the inputs of the compare method \n",
    "  * 2 points for using isinstance. 1 point otherwise, as long as the code still works.\n",
    "  * 2 points for raising an error. 1 point for a print out. 0 for nothing.\n",
    "* **Question 3.1.3** (2 points)\n",
    "  * 1 point per docstring. \n",
    "* **Question 3.1.4** (2 points)\n",
    "  * 1 point for code that proves their method is working\n",
    "  * 1 point for a reasonable explanation\n",
    "\n",
    "### 3.2 (28 points)\n",
    "\n",
    "* **Question 3.2.1** (18 points)\n",
    "  * Fermion (11 points)\n",
    "    * 1 point for correctly inheriting the `ElementaryParticle` class \n",
    "    * 3 points for correctly defining the body of __init__() (1 point per line)\n",
    "    * 1 point for using super().check_type in `check_existence`\n",
    "    * 2 points for raising an error. 1 point for a print out. 0 for nothing.\n",
    "    * 2 points for using isinstance. 1 point otherwise, as long as the code still works.\n",
    "    * 2 points for correct implementation of `.is_antiparticle`\n",
    "  * Boson (7 points)\n",
    "    * 1 point for correctly inheriting the `ElementaryParticle` class \n",
    "    * 3 points for correctly defining the body of __init__() (1 point per line)\n",
    "    * 1 point for using super().check_type in `check_existence`\n",
    "    * 2 points for raising an error. 1 point for a print out. 0 for nothing.\n",
    "\n",
    "* **Question 3.2.2** (2 points)\n",
    "  * 1 point for code that proves their method is working\n",
    "  * 1 point for a reasonable explanation\n",
    "\n",
    "* **Question 3.2.3** (8 points)\n",
    "  * 1 point for not inheriting any class.\n",
    "  * 3 points for correct definition of __init__\n",
    "  * 2 point for using either `Fermion` or `ElementaryParticle` class when creating the quarks.\n",
    "  * 1 point for creating the pion.\n",
    "  * 1 point for correct charge.\n",
    "\n",
    "## Part 4 (26 points).\n",
    "\n",
    "* ***Question 4.1*** (11 points)\n",
    "  * 1 point for each docstring. As long as they write something pertinent they get a point. 4 total\n",
    "  * 1 point for each correct call to another method. 3 total\n",
    "  * 1 point for each correct answer. 4 total\n",
    "* ***Question 4.2*** (6 points)\n",
    "  * 2 points for using numpy random with the correct inputs. Are the particles spanning the entire universe?\n",
    "  * 2 points for calling place_at and passing the correct arguments.\n",
    "  * 2 points for creating the plot with .draw()\n",
    "* ***Question 4.3*** (9 points)\n",
    "  * 3 points for debugging\n",
    "  * 3 points for calculating the no of fermions and bosons and print the results\n",
    "  * 3points for answering the questions (1 point each)"
   ]
  },
  {
   "cell_type": "markdown",
   "metadata": {},
   "source": [
    "# Homework Assignment #2 (Individual)\n",
    "## Pandas Review, Python Classes, and ABM"
   ]
  },
  {
   "cell_type": "markdown",
   "metadata": {},
   "source": [
    "### <p style=\"text-align: right;\"> &#9989; Put your name here.</p>\n",
    "### <p style=\"text-align: right;\"> &#9989; Put your _GitHub username_ here.</p>"
   ]
  },
  {
   "cell_type": "markdown",
   "metadata": {},
   "source": [
    "### Goals for this homework assignment\n",
    "By the end of this assignment, you should be able to:\n",
    "* Use Git to create a repository, create a new branch, merge branches, track changes to the files within the repository, and push those changes to a remote repository.\n",
    "* Use your Pandas skills to load and explore some data and visualize it with seaborn.\n",
    "* Read and write Python classes, including classes that leverage object inheritance and composition.\n",
    "* Run and agent based model simulation.\n",
    "\n",
    "Work through the following assignment, making sure to follow all of the directions and answer all of the questions.\n",
    "\n",
    "There are **98 points** possible on this assignment. Point values for each part are included in the section headers and question prompts.\n",
    "\n",
    "**This assignment is due in roughly two weeks from now at 11:59 pm on Friday, February 18.** It should be uploaded into the \"Homework Assignments\" submission folder for Homework #2.  Submission instructions can be found at the end of the notebook."
   ]
  },
  {
   "cell_type": "markdown",
   "metadata": {},
   "source": [
    "---\n",
    "## Part 1: Add to your Git repository to track your progress on your assignment (6 points)\n",
    "\n",
    "For this assignment, you're going to add it to the `cmse202-s22-turnin` repository you created in class so that you can track your progress on the assignment and preserve the final version that you turn in. In order to do this you need to\n",
    "\n",
    "**&#9989; Do the following**:\n",
    "\n",
    "1. Navigate to your `cmse202-s22-turnin` repository and create a new directory called `hw-02`.\n",
    "2. Move this notebook into that **new directory** in your repository, then **add it and commit it to your repository**.\n",
    "1. Finally, to test that everything is working, \"git push\" the file so that it ends up in your GitHub repository.\n",
    "\n",
    "**Important**: Double check you've added your Professor and your TA as collaborators to your \"turnin\" repository (you should have done this in the previous homework assignment).\n",
    "\n",
    "**Also important**: Make sure that the version of this notebook that you are working on is the same one that you just added to your repository! If you are working on a different copy of the notebook, **none of your changes will be tracked**!\n",
    "\n",
    "If everything went as intended, the file should now show up on your GitHub account in the \"`cmse202-s22-turnin`\" repository inside the `hw-02` directory that you just created.  Periodically, **you'll be asked to commit your changes to the repository and push them to the remote GitHub location**. Of course, you can always commit your changes more often than that, if you wish.  It can be good to get into a habit of committing your changes any time you make a significant modification, or when you stop working on the project for a bit.\n",
    "\n",
    "&#9989; **Do this**: Before you move on, put the command that your instructor should run to clone your repository in the markdown cell below."
   ]
  },
  {
   "cell_type": "markdown",
   "metadata": {},
   "source": []
  },
  {
   "cell_type": "code",
   "execution_count": 1,
   "metadata": {
    "pycharm": {
     "name": "#%%\n"
    }
   },
   "outputs": [
    {
     "ename": "SyntaxError",
     "evalue": "invalid syntax. Perhaps you forgot a comma? (2815990752.py, line 2)",
     "output_type": "error",
     "traceback": [
      "\u001b[0;36m  File \u001b[0;32m\"/tmp/ipykernel_10669/2815990752.py\"\u001b[0;36m, line \u001b[0;32m2\u001b[0m\n\u001b[0;31m    git clone <repo_name>\u001b[0m\n\u001b[0m    ^\u001b[0m\n\u001b[0;31mSyntaxError\u001b[0m\u001b[0;31m:\u001b[0m invalid syntax. Perhaps you forgot a comma?\n"
     ]
    }
   ],
   "source": [
    "### ANSWER\n",
    "git clone <repo_name>"
   ]
  },
  {
   "cell_type": "markdown",
   "metadata": {
    "pycharm": {
     "name": "#%% md\n"
    }
   },
   "source": [
    "&#9989; **Do this**: Before you move on, create a new branch called `hw02_branch` and move into it. In the cell below put the command(s) to create a new branch and to checkout the new branch. (_Note_: your TA will be able to see if you have created the branch and its history)."
   ]
  },
  {
   "cell_type": "markdown",
   "metadata": {
    "pycharm": {
     "name": "#%% md\n"
    }
   },
   "source": []
  },
  {
   "cell_type": "code",
   "execution_count": null,
   "metadata": {
    "pycharm": {
     "name": "#%%\n"
    }
   },
   "outputs": [],
   "source": [
    "### ANSWER\n",
    "git checkout -b hw02_branch"
   ]
  },
  {
   "cell_type": "markdown",
   "metadata": {
    "pycharm": {
     "name": "#%% md\n"
    }
   },
   "source": [
    "**You MUST work in this new branch and merge it at the end.**"
   ]
  },
  {
   "cell_type": "markdown",
   "metadata": {},
   "source": [
    "---\n",
    "<img src=https://imgs.xkcd.com/comics/hertzsprung_russell_diagram_2x.png width=300px align=right >\n",
    "\n",
    "## Part 2: Load, manipulate, and visualize data with Pandas (21 points)\n",
    "\n",
    "For this part of the assignment, you're going to brush off your Pandas skills and your data manipulation and visualization skills. Throughout the course we'll continue to work with data, so this should be a good opportunity to remind yourself of some tools and techniques you picked up in CMSE 201 or perhaps learn something new.\n",
    "\n",
    "Let's recreate the [Hertzsprung-Russell](https://en.wikipedia.org/wiki/Hertzsprung%E2%80%93Russell_diagram) diagram. Download the file `stars.csv` and place it in the same folder as this notebook.\n",
    "\n",
    "You can download the file from here:\n",
    "\n",
    "`https://raw.githubusercontent.com/msu-cmse-courses/cmse202-S22-data/main/code_samples/stars.csv`\n",
    "\n"
   ]
  },
  {
   "cell_type": "markdown",
   "metadata": {
    "pycharm": {
     "name": "#%% md\n"
    }
   },
   "source": [
    "&#9989; **Question 2.1 (2 points)**: To get started, **read in the `stars.csv` dataset using Pandas** and then use Pandas to display the first 15 rows of the data."
   ]
  },
  {
   "cell_type": "code",
   "execution_count": null,
   "metadata": {
    "pycharm": {
     "name": "#%%\n"
    }
   },
   "outputs": [],
   "source": [
    "# PUT YOUR CODE HERE\n"
   ]
  },
  {
   "cell_type": "code",
   "execution_count": 3,
   "metadata": {},
   "outputs": [
    {
     "data": {
      "text/html": [
       "<div>\n",
       "<style scoped>\n",
       "    .dataframe tbody tr th:only-of-type {\n",
       "        vertical-align: middle;\n",
       "    }\n",
       "\n",
       "    .dataframe tbody tr th {\n",
       "        vertical-align: top;\n",
       "    }\n",
       "\n",
       "    .dataframe thead th {\n",
       "        text-align: right;\n",
       "    }\n",
       "</style>\n",
       "<table border=\"1\" class=\"dataframe\">\n",
       "  <thead>\n",
       "    <tr style=\"text-align: right;\">\n",
       "      <th></th>\n",
       "      <th>Temperature (K)</th>\n",
       "      <th>Luminosity (L/Lo)</th>\n",
       "      <th>Radius (R/Ro)</th>\n",
       "      <th>Absolute magnitude (Mv)</th>\n",
       "      <th>Star type</th>\n",
       "      <th>Star color</th>\n",
       "      <th>Spectral Class</th>\n",
       "    </tr>\n",
       "  </thead>\n",
       "  <tbody>\n",
       "    <tr>\n",
       "      <th>0</th>\n",
       "      <td>3068</td>\n",
       "      <td>0.002400</td>\n",
       "      <td>0.1700</td>\n",
       "      <td>16.120</td>\n",
       "      <td>0</td>\n",
       "      <td>Red</td>\n",
       "      <td>M</td>\n",
       "    </tr>\n",
       "    <tr>\n",
       "      <th>1</th>\n",
       "      <td>3042</td>\n",
       "      <td>0.000500</td>\n",
       "      <td>0.1542</td>\n",
       "      <td>16.600</td>\n",
       "      <td>0</td>\n",
       "      <td>Red</td>\n",
       "      <td>M</td>\n",
       "    </tr>\n",
       "    <tr>\n",
       "      <th>2</th>\n",
       "      <td>2600</td>\n",
       "      <td>0.000300</td>\n",
       "      <td>0.1020</td>\n",
       "      <td>18.700</td>\n",
       "      <td>0</td>\n",
       "      <td>Red</td>\n",
       "      <td>M</td>\n",
       "    </tr>\n",
       "    <tr>\n",
       "      <th>3</th>\n",
       "      <td>2800</td>\n",
       "      <td>0.000200</td>\n",
       "      <td>0.1600</td>\n",
       "      <td>16.650</td>\n",
       "      <td>0</td>\n",
       "      <td>Red</td>\n",
       "      <td>M</td>\n",
       "    </tr>\n",
       "    <tr>\n",
       "      <th>4</th>\n",
       "      <td>1939</td>\n",
       "      <td>0.000138</td>\n",
       "      <td>0.1030</td>\n",
       "      <td>20.060</td>\n",
       "      <td>0</td>\n",
       "      <td>Red</td>\n",
       "      <td>M</td>\n",
       "    </tr>\n",
       "    <tr>\n",
       "      <th>5</th>\n",
       "      <td>2840</td>\n",
       "      <td>0.000650</td>\n",
       "      <td>0.1100</td>\n",
       "      <td>16.980</td>\n",
       "      <td>0</td>\n",
       "      <td>Red</td>\n",
       "      <td>M</td>\n",
       "    </tr>\n",
       "    <tr>\n",
       "      <th>6</th>\n",
       "      <td>2637</td>\n",
       "      <td>0.000730</td>\n",
       "      <td>0.1270</td>\n",
       "      <td>17.220</td>\n",
       "      <td>0</td>\n",
       "      <td>Red</td>\n",
       "      <td>M</td>\n",
       "    </tr>\n",
       "    <tr>\n",
       "      <th>7</th>\n",
       "      <td>2600</td>\n",
       "      <td>0.000400</td>\n",
       "      <td>0.0960</td>\n",
       "      <td>17.400</td>\n",
       "      <td>0</td>\n",
       "      <td>Red</td>\n",
       "      <td>M</td>\n",
       "    </tr>\n",
       "    <tr>\n",
       "      <th>8</th>\n",
       "      <td>2650</td>\n",
       "      <td>0.000690</td>\n",
       "      <td>0.1100</td>\n",
       "      <td>17.450</td>\n",
       "      <td>0</td>\n",
       "      <td>Red</td>\n",
       "      <td>M</td>\n",
       "    </tr>\n",
       "    <tr>\n",
       "      <th>9</th>\n",
       "      <td>2700</td>\n",
       "      <td>0.000180</td>\n",
       "      <td>0.1300</td>\n",
       "      <td>16.050</td>\n",
       "      <td>0</td>\n",
       "      <td>Red</td>\n",
       "      <td>M</td>\n",
       "    </tr>\n",
       "    <tr>\n",
       "      <th>10</th>\n",
       "      <td>3600</td>\n",
       "      <td>0.002900</td>\n",
       "      <td>0.5100</td>\n",
       "      <td>10.690</td>\n",
       "      <td>1</td>\n",
       "      <td>Red</td>\n",
       "      <td>M</td>\n",
       "    </tr>\n",
       "    <tr>\n",
       "      <th>11</th>\n",
       "      <td>3129</td>\n",
       "      <td>0.012200</td>\n",
       "      <td>0.3761</td>\n",
       "      <td>11.790</td>\n",
       "      <td>1</td>\n",
       "      <td>Red</td>\n",
       "      <td>M</td>\n",
       "    </tr>\n",
       "    <tr>\n",
       "      <th>12</th>\n",
       "      <td>3134</td>\n",
       "      <td>0.000400</td>\n",
       "      <td>0.1960</td>\n",
       "      <td>13.210</td>\n",
       "      <td>1</td>\n",
       "      <td>Red</td>\n",
       "      <td>M</td>\n",
       "    </tr>\n",
       "    <tr>\n",
       "      <th>13</th>\n",
       "      <td>3628</td>\n",
       "      <td>0.005500</td>\n",
       "      <td>0.3930</td>\n",
       "      <td>10.480</td>\n",
       "      <td>1</td>\n",
       "      <td>Red</td>\n",
       "      <td>M</td>\n",
       "    </tr>\n",
       "    <tr>\n",
       "      <th>14</th>\n",
       "      <td>2650</td>\n",
       "      <td>0.000600</td>\n",
       "      <td>0.1400</td>\n",
       "      <td>11.782</td>\n",
       "      <td>1</td>\n",
       "      <td>Red</td>\n",
       "      <td>M</td>\n",
       "    </tr>\n",
       "  </tbody>\n",
       "</table>\n",
       "</div>"
      ],
      "text/plain": [
       "    Temperature (K)  Luminosity (L/Lo)  Radius (R/Ro)  \\\n",
       "0              3068           0.002400         0.1700   \n",
       "1              3042           0.000500         0.1542   \n",
       "2              2600           0.000300         0.1020   \n",
       "3              2800           0.000200         0.1600   \n",
       "4              1939           0.000138         0.1030   \n",
       "5              2840           0.000650         0.1100   \n",
       "6              2637           0.000730         0.1270   \n",
       "7              2600           0.000400         0.0960   \n",
       "8              2650           0.000690         0.1100   \n",
       "9              2700           0.000180         0.1300   \n",
       "10             3600           0.002900         0.5100   \n",
       "11             3129           0.012200         0.3761   \n",
       "12             3134           0.000400         0.1960   \n",
       "13             3628           0.005500         0.3930   \n",
       "14             2650           0.000600         0.1400   \n",
       "\n",
       "    Absolute magnitude (Mv)  Star type Star color Spectral Class  \n",
       "0                    16.120          0        Red              M  \n",
       "1                    16.600          0        Red              M  \n",
       "2                    18.700          0        Red              M  \n",
       "3                    16.650          0        Red              M  \n",
       "4                    20.060          0        Red              M  \n",
       "5                    16.980          0        Red              M  \n",
       "6                    17.220          0        Red              M  \n",
       "7                    17.400          0        Red              M  \n",
       "8                    17.450          0        Red              M  \n",
       "9                    16.050          0        Red              M  \n",
       "10                   10.690          1        Red              M  \n",
       "11                   11.790          1        Red              M  \n",
       "12                   13.210          1        Red              M  \n",
       "13                   10.480          1        Red              M  \n",
       "14                   11.782          1        Red              M  "
      ]
     },
     "execution_count": 3,
     "metadata": {},
     "output_type": "execute_result"
    }
   ],
   "source": [
    "### ANSWER\n",
    "import pandas as pd\n",
    "stars_data = pd.read_csv('stars.csv')\n",
    "stars_data.head(15)"
   ]
  },
  {
   "cell_type": "markdown",
   "metadata": {},
   "source": [
    "As usual this dataset needs to be cleaned a little bit. Note that the star type is a number that doesn't really tell us much. Fortunately, we have asked our astro friends to give us more information and they told us what the numbers stand for.\n",
    "\n",
    "&#9989; **Question 2.2 (3 points)**: Drop the `Absolute magnitude (Mv)` column, replace the values in the column `Star type` with the following list, print the resulting dataframe\n",
    "\n",
    "    0 -> Brown Dwarf\n",
    "    1 -> Red Dwarf\n",
    "    2 -> White Dwarf\n",
    "    3 -> Main Sequence\n",
    "    4 -> Supergiant\n",
    "    5 -> Hypergiant\n",
    "\n",
    "You should use the [`replace`](https://pandas.pydata.org/docs/reference/api/pandas.DataFrame.replace.html) method of the dataframe."
   ]
  },
  {
   "cell_type": "code",
   "execution_count": 4,
   "metadata": {},
   "outputs": [],
   "source": [
    "### PUT YOUR CODE HERE\n"
   ]
  },
  {
   "cell_type": "code",
   "execution_count": 5,
   "metadata": {},
   "outputs": [
    {
     "data": {
      "text/html": [
       "<div>\n",
       "<style scoped>\n",
       "    .dataframe tbody tr th:only-of-type {\n",
       "        vertical-align: middle;\n",
       "    }\n",
       "\n",
       "    .dataframe tbody tr th {\n",
       "        vertical-align: top;\n",
       "    }\n",
       "\n",
       "    .dataframe thead th {\n",
       "        text-align: right;\n",
       "    }\n",
       "</style>\n",
       "<table border=\"1\" class=\"dataframe\">\n",
       "  <thead>\n",
       "    <tr style=\"text-align: right;\">\n",
       "      <th></th>\n",
       "      <th>Temperature (K)</th>\n",
       "      <th>Luminosity (L/Lo)</th>\n",
       "      <th>Radius (R/Ro)</th>\n",
       "      <th>Star type</th>\n",
       "      <th>Star color</th>\n",
       "      <th>Spectral Class</th>\n",
       "    </tr>\n",
       "  </thead>\n",
       "  <tbody>\n",
       "    <tr>\n",
       "      <th>0</th>\n",
       "      <td>3068</td>\n",
       "      <td>0.002400</td>\n",
       "      <td>0.1700</td>\n",
       "      <td>Brown Dwarf</td>\n",
       "      <td>Red</td>\n",
       "      <td>M</td>\n",
       "    </tr>\n",
       "    <tr>\n",
       "      <th>1</th>\n",
       "      <td>3042</td>\n",
       "      <td>0.000500</td>\n",
       "      <td>0.1542</td>\n",
       "      <td>Brown Dwarf</td>\n",
       "      <td>Red</td>\n",
       "      <td>M</td>\n",
       "    </tr>\n",
       "    <tr>\n",
       "      <th>2</th>\n",
       "      <td>2600</td>\n",
       "      <td>0.000300</td>\n",
       "      <td>0.1020</td>\n",
       "      <td>Brown Dwarf</td>\n",
       "      <td>Red</td>\n",
       "      <td>M</td>\n",
       "    </tr>\n",
       "    <tr>\n",
       "      <th>3</th>\n",
       "      <td>2800</td>\n",
       "      <td>0.000200</td>\n",
       "      <td>0.1600</td>\n",
       "      <td>Brown Dwarf</td>\n",
       "      <td>Red</td>\n",
       "      <td>M</td>\n",
       "    </tr>\n",
       "    <tr>\n",
       "      <th>4</th>\n",
       "      <td>1939</td>\n",
       "      <td>0.000138</td>\n",
       "      <td>0.1030</td>\n",
       "      <td>Brown Dwarf</td>\n",
       "      <td>Red</td>\n",
       "      <td>M</td>\n",
       "    </tr>\n",
       "  </tbody>\n",
       "</table>\n",
       "</div>"
      ],
      "text/plain": [
       "   Temperature (K)  Luminosity (L/Lo)  Radius (R/Ro)    Star type Star color  \\\n",
       "0             3068           0.002400         0.1700  Brown Dwarf        Red   \n",
       "1             3042           0.000500         0.1542  Brown Dwarf        Red   \n",
       "2             2600           0.000300         0.1020  Brown Dwarf        Red   \n",
       "3             2800           0.000200         0.1600  Brown Dwarf        Red   \n",
       "4             1939           0.000138         0.1030  Brown Dwarf        Red   \n",
       "\n",
       "  Spectral Class  \n",
       "0              M  \n",
       "1              M  \n",
       "2              M  \n",
       "3              M  \n",
       "4              M  "
      ]
     },
     "execution_count": 5,
     "metadata": {},
     "output_type": "execute_result"
    }
   ],
   "source": [
    "### ANSWER\n",
    "stars_data.drop(columns = \"Absolute magnitude (Mv)\", inplace = True)\n",
    "stars_data.replace( to_replace = [0, 1, 2, 3, 4, 5],\n",
    "                    value = [\"Brown Dwarf\", \"Red Dwarf\", \"White Dwarf\", \"Main Sequence\", \"Supergiant\", \"Hypergiant\"],\n",
    "                    inplace = True)\n",
    "stars_data.head()"
   ]
  },
  {
   "cell_type": "markdown",
   "metadata": {},
   "source": [
    "&#9989; **Question 2.3 (4 points)**: What built-in Pandas functions can you use to get a quick statistical summary of your data (e.g. the mean, standard deviation, min, max, etc) divided by star type? **Use this function to summarize the data for each star type and then answer the following questions**: \n",
    "\n",
    "1. How many stars are for each type?\n",
    "2. Which star type has the highest mean temperature?"
   ]
  },
  {
   "cell_type": "code",
   "execution_count": 6,
   "metadata": {},
   "outputs": [],
   "source": [
    "### PUT YOUR CODE HERE\n"
   ]
  },
  {
   "cell_type": "code",
   "execution_count": 7,
   "metadata": {
    "pycharm": {
     "name": "#%%\n"
    }
   },
   "outputs": [
    {
     "data": {
      "text/html": [
       "<div>\n",
       "<style scoped>\n",
       "    .dataframe tbody tr th:only-of-type {\n",
       "        vertical-align: middle;\n",
       "    }\n",
       "\n",
       "    .dataframe tbody tr th {\n",
       "        vertical-align: top;\n",
       "    }\n",
       "\n",
       "    .dataframe thead tr th {\n",
       "        text-align: left;\n",
       "    }\n",
       "\n",
       "    .dataframe thead tr:last-of-type th {\n",
       "        text-align: right;\n",
       "    }\n",
       "</style>\n",
       "<table border=\"1\" class=\"dataframe\">\n",
       "  <thead>\n",
       "    <tr>\n",
       "      <th></th>\n",
       "      <th colspan=\"8\" halign=\"left\">Temperature (K)</th>\n",
       "      <th colspan=\"5\" halign=\"left\">Luminosity (L/Lo)</th>\n",
       "      <th colspan=\"8\" halign=\"left\">Radius (R/Ro)</th>\n",
       "    </tr>\n",
       "    <tr>\n",
       "      <th></th>\n",
       "      <th>count</th>\n",
       "      <th>mean</th>\n",
       "      <th>std</th>\n",
       "      <th>min</th>\n",
       "      <th>25%</th>\n",
       "      <th>50%</th>\n",
       "      <th>75%</th>\n",
       "      <th>max</th>\n",
       "      <th>count</th>\n",
       "      <th>mean</th>\n",
       "      <th>...</th>\n",
       "      <th>75%</th>\n",
       "      <th>max</th>\n",
       "      <th>count</th>\n",
       "      <th>mean</th>\n",
       "      <th>std</th>\n",
       "      <th>min</th>\n",
       "      <th>25%</th>\n",
       "      <th>50%</th>\n",
       "      <th>75%</th>\n",
       "      <th>max</th>\n",
       "    </tr>\n",
       "    <tr>\n",
       "      <th>Star type</th>\n",
       "      <th></th>\n",
       "      <th></th>\n",
       "      <th></th>\n",
       "      <th></th>\n",
       "      <th></th>\n",
       "      <th></th>\n",
       "      <th></th>\n",
       "      <th></th>\n",
       "      <th></th>\n",
       "      <th></th>\n",
       "      <th></th>\n",
       "      <th></th>\n",
       "      <th></th>\n",
       "      <th></th>\n",
       "      <th></th>\n",
       "      <th></th>\n",
       "      <th></th>\n",
       "      <th></th>\n",
       "      <th></th>\n",
       "      <th></th>\n",
       "      <th></th>\n",
       "    </tr>\n",
       "  </thead>\n",
       "  <tbody>\n",
       "    <tr>\n",
       "      <th>Brown Dwarf</th>\n",
       "      <td>40.0</td>\n",
       "      <td>2997.950</td>\n",
       "      <td>332.276295</td>\n",
       "      <td>1939.0</td>\n",
       "      <td>2812.75</td>\n",
       "      <td>2935.0</td>\n",
       "      <td>3242.50</td>\n",
       "      <td>3531.0</td>\n",
       "      <td>40.0</td>\n",
       "      <td>0.000693</td>\n",
       "      <td>...</td>\n",
       "      <td>0.000737</td>\n",
       "      <td>0.0056</td>\n",
       "      <td>40.0</td>\n",
       "      <td>0.110015</td>\n",
       "      <td>0.025783</td>\n",
       "      <td>0.0570</td>\n",
       "      <td>0.093150</td>\n",
       "      <td>0.1060</td>\n",
       "      <td>0.120250</td>\n",
       "      <td>0.190</td>\n",
       "    </tr>\n",
       "    <tr>\n",
       "      <th>Hypergiant</th>\n",
       "      <td>40.0</td>\n",
       "      <td>11405.700</td>\n",
       "      <td>11816.991886</td>\n",
       "      <td>3399.0</td>\n",
       "      <td>3603.75</td>\n",
       "      <td>3766.0</td>\n",
       "      <td>18976.00</td>\n",
       "      <td>38940.0</td>\n",
       "      <td>40.0</td>\n",
       "      <td>309246.525000</td>\n",
       "      <td>...</td>\n",
       "      <td>365957.500000</td>\n",
       "      <td>849420.0000</td>\n",
       "      <td>40.0</td>\n",
       "      <td>1366.897500</td>\n",
       "      <td>255.561357</td>\n",
       "      <td>708.9000</td>\n",
       "      <td>1193.000000</td>\n",
       "      <td>1352.5000</td>\n",
       "      <td>1525.000000</td>\n",
       "      <td>1948.500</td>\n",
       "    </tr>\n",
       "    <tr>\n",
       "      <th>Main Sequence</th>\n",
       "      <td>40.0</td>\n",
       "      <td>16018.000</td>\n",
       "      <td>10661.234972</td>\n",
       "      <td>4077.0</td>\n",
       "      <td>7479.25</td>\n",
       "      <td>12560.5</td>\n",
       "      <td>23030.00</td>\n",
       "      <td>39000.0</td>\n",
       "      <td>40.0</td>\n",
       "      <td>32067.386275</td>\n",
       "      <td>...</td>\n",
       "      <td>12962.500000</td>\n",
       "      <td>204000.0000</td>\n",
       "      <td>40.0</td>\n",
       "      <td>4.430300</td>\n",
       "      <td>2.801390</td>\n",
       "      <td>0.7950</td>\n",
       "      <td>1.287500</td>\n",
       "      <td>5.7125</td>\n",
       "      <td>6.367500</td>\n",
       "      <td>10.600</td>\n",
       "    </tr>\n",
       "    <tr>\n",
       "      <th>Red Dwarf</th>\n",
       "      <td>40.0</td>\n",
       "      <td>3283.825</td>\n",
       "      <td>269.637258</td>\n",
       "      <td>2621.0</td>\n",
       "      <td>3132.75</td>\n",
       "      <td>3314.0</td>\n",
       "      <td>3527.50</td>\n",
       "      <td>3692.0</td>\n",
       "      <td>40.0</td>\n",
       "      <td>0.005406</td>\n",
       "      <td>...</td>\n",
       "      <td>0.006675</td>\n",
       "      <td>0.0390</td>\n",
       "      <td>40.0</td>\n",
       "      <td>0.348145</td>\n",
       "      <td>0.154453</td>\n",
       "      <td>0.0980</td>\n",
       "      <td>0.240000</td>\n",
       "      <td>0.3380</td>\n",
       "      <td>0.409750</td>\n",
       "      <td>0.730</td>\n",
       "    </tr>\n",
       "    <tr>\n",
       "      <th>Supergiant</th>\n",
       "      <td>40.0</td>\n",
       "      <td>15347.850</td>\n",
       "      <td>10086.784628</td>\n",
       "      <td>3008.0</td>\n",
       "      <td>6899.50</td>\n",
       "      <td>12821.0</td>\n",
       "      <td>23181.25</td>\n",
       "      <td>40000.0</td>\n",
       "      <td>40.0</td>\n",
       "      <td>301816.250000</td>\n",
       "      <td>...</td>\n",
       "      <td>344160.000000</td>\n",
       "      <td>813000.0000</td>\n",
       "      <td>40.0</td>\n",
       "      <td>51.150000</td>\n",
       "      <td>27.656826</td>\n",
       "      <td>12.0000</td>\n",
       "      <td>25.750000</td>\n",
       "      <td>43.5000</td>\n",
       "      <td>80.250000</td>\n",
       "      <td>98.000</td>\n",
       "    </tr>\n",
       "    <tr>\n",
       "      <th>White Dwarf</th>\n",
       "      <td>40.0</td>\n",
       "      <td>13931.450</td>\n",
       "      <td>4957.655189</td>\n",
       "      <td>7100.0</td>\n",
       "      <td>9488.75</td>\n",
       "      <td>13380.0</td>\n",
       "      <td>17380.00</td>\n",
       "      <td>25000.0</td>\n",
       "      <td>40.0</td>\n",
       "      <td>0.002434</td>\n",
       "      <td>...</td>\n",
       "      <td>0.001227</td>\n",
       "      <td>0.0560</td>\n",
       "      <td>40.0</td>\n",
       "      <td>0.010728</td>\n",
       "      <td>0.001725</td>\n",
       "      <td>0.0084</td>\n",
       "      <td>0.009305</td>\n",
       "      <td>0.0102</td>\n",
       "      <td>0.012025</td>\n",
       "      <td>0.015</td>\n",
       "    </tr>\n",
       "  </tbody>\n",
       "</table>\n",
       "<p>6 rows × 24 columns</p>\n",
       "</div>"
      ],
      "text/plain": [
       "              Temperature (K)                                            \\\n",
       "                        count       mean           std     min      25%   \n",
       "Star type                                                                 \n",
       "Brown Dwarf              40.0   2997.950    332.276295  1939.0  2812.75   \n",
       "Hypergiant               40.0  11405.700  11816.991886  3399.0  3603.75   \n",
       "Main Sequence            40.0  16018.000  10661.234972  4077.0  7479.25   \n",
       "Red Dwarf                40.0   3283.825    269.637258  2621.0  3132.75   \n",
       "Supergiant               40.0  15347.850  10086.784628  3008.0  6899.50   \n",
       "White Dwarf              40.0  13931.450   4957.655189  7100.0  9488.75   \n",
       "\n",
       "                                          Luminosity (L/Lo)                 \\\n",
       "                   50%       75%      max             count           mean   \n",
       "Star type                                                                    \n",
       "Brown Dwarf     2935.0   3242.50   3531.0              40.0       0.000693   \n",
       "Hypergiant      3766.0  18976.00  38940.0              40.0  309246.525000   \n",
       "Main Sequence  12560.5  23030.00  39000.0              40.0   32067.386275   \n",
       "Red Dwarf       3314.0   3527.50   3692.0              40.0       0.005406   \n",
       "Supergiant     12821.0  23181.25  40000.0              40.0  301816.250000   \n",
       "White Dwarf    13380.0  17380.00  25000.0              40.0       0.002434   \n",
       "\n",
       "               ...                             Radius (R/Ro)               \\\n",
       "               ...            75%          max         count         mean   \n",
       "Star type      ...                                                          \n",
       "Brown Dwarf    ...       0.000737       0.0056          40.0     0.110015   \n",
       "Hypergiant     ...  365957.500000  849420.0000          40.0  1366.897500   \n",
       "Main Sequence  ...   12962.500000  204000.0000          40.0     4.430300   \n",
       "Red Dwarf      ...       0.006675       0.0390          40.0     0.348145   \n",
       "Supergiant     ...  344160.000000  813000.0000          40.0    51.150000   \n",
       "White Dwarf    ...       0.001227       0.0560          40.0     0.010728   \n",
       "\n",
       "                                                                          \\\n",
       "                      std       min          25%        50%          75%   \n",
       "Star type                                                                  \n",
       "Brown Dwarf      0.025783    0.0570     0.093150     0.1060     0.120250   \n",
       "Hypergiant     255.561357  708.9000  1193.000000  1352.5000  1525.000000   \n",
       "Main Sequence    2.801390    0.7950     1.287500     5.7125     6.367500   \n",
       "Red Dwarf        0.154453    0.0980     0.240000     0.3380     0.409750   \n",
       "Supergiant      27.656826   12.0000    25.750000    43.5000    80.250000   \n",
       "White Dwarf      0.001725    0.0084     0.009305     0.0102     0.012025   \n",
       "\n",
       "                         \n",
       "                    max  \n",
       "Star type                \n",
       "Brown Dwarf       0.190  \n",
       "Hypergiant     1948.500  \n",
       "Main Sequence    10.600  \n",
       "Red Dwarf         0.730  \n",
       "Supergiant       98.000  \n",
       "White Dwarf       0.015  \n",
       "\n",
       "[6 rows x 24 columns]"
      ]
     },
     "execution_count": 7,
     "metadata": {},
     "output_type": "execute_result"
    }
   ],
   "source": [
    "### ANSWER\n",
    "stars_data.groupby(\"Star type\").describe()"
   ]
  },
  {
   "cell_type": "markdown",
   "metadata": {},
   "source": [
    "**<font size=+3>&#9998;</font> Do This**: *Record your observations of your plot here.*"
   ]
  },
  {
   "cell_type": "markdown",
   "metadata": {
    "pycharm": {
     "name": "#%% md\n"
    }
   },
   "source": [
    "### ANSWER\n",
    "1. 40 stars per type\n",
    "2. Main Sequence"
   ]
  },
  {
   "cell_type": "markdown",
   "metadata": {
    "pycharm": {
     "name": "#%% md\n"
    }
   },
   "source": [
    "&#9989; **Question 2.4 (7 points)**: Using `seaborn` make a plot equivalent to what `scatter_matrix` would produce ([_Hint_](https://seaborn.pydata.org/examples/index.html) ) and set the `hue` option equal to `Star type`. Then answer the following questions\n",
    "\n",
    "1. What does the diagonal represent? How is that different from the diagonal of `scatter_matrix`?\n",
    "2. What do the spikes in the diagonal tell you ? How are they related to the print out of the cell above ?\n",
    "3. Can you see clear distinctions between different star types?"
   ]
  },
  {
   "cell_type": "code",
   "execution_count": 8,
   "metadata": {
    "pycharm": {
     "name": "#%%\n"
    }
   },
   "outputs": [],
   "source": [
    "# PUT YOUR CODE HERE"
   ]
  },
  {
   "cell_type": "code",
   "execution_count": 9,
   "metadata": {},
   "outputs": [
    {
     "data": {
      "text/plain": [
       "<seaborn.axisgrid.PairGrid at 0x7fed5bcfea40>"
      ]
     },
     "execution_count": 9,
     "metadata": {},
     "output_type": "execute_result"
    },
    {
     "data": {
      "image/png": "[encoded data removed]",
      "text/plain": [
       "<Figure size 652.375x540 with 9 Axes>"
      ]
     },
     "metadata": {
      "needs_background": "light"
     },
     "output_type": "display_data"
    }
   ],
   "source": [
    "### ANSWER\n",
    "import seaborn as sns\n",
    "\n",
    "sns.pairplot(stars_data,\n",
    "             hue = \"Star type\",\n",
    "              corner = True)\n"
   ]
  },
  {
   "cell_type": "markdown",
   "metadata": {},
   "source": [
    "### ANSWER\n",
    "\n",
    "I'm looking for them to reflect a bit on what they are seeing. They should understand the difference between kde and hist. For part two I want them to see if they can relate the mean and std numbers of describe with the spikes.\n"
   ]
  },
  {
   "cell_type": "markdown",
   "metadata": {},
   "source": [
    "Let's make the Hertzsprung-Russell diagram.\n",
    "\n",
    "&#9989; **Question 2.5 (3 points)**: Use `seaborn` to make a scatter plot of the data with:\n",
    "- Temperature on the $x$-axis and Luminosity on the $y$-axis and label them\n",
    "- Use the column `Star type` for your `hue` parameter\n",
    "- Make the $x$-axis and $y$-axis **log** scaled\n",
    "\n",
    "\n",
    "Compare your plot with the one [here](https://www.google.com/url?sa=i&url=https%3A%2F%2Fwww.eso.org%2Fpublic%2Fimages%2Feso0728c%2F&psig=AOvVaw0vMZoAEnGtjcWQspl1IgVK&ust=1644303543060000&source=images&cd=vfe&ved=0CAgQjRxqFwoTCJjJ1J6C7fUCFQAAAAAdAAAAABAD). Notice that your plot is flipped! This is because the Temperature increases towards the left!!! You can fix this by adding this line to the end of your code\n",
    "\n",
    "    plt.gca().invert_xaxis()\n",
    "\n",
    "**NOTE:** This is not necessary. It is just so that the astrophycisists don't get mad \t&#128516;"
   ]
  },
  {
   "cell_type": "code",
   "execution_count": 10,
   "metadata": {},
   "outputs": [],
   "source": [
    "# PUT YOUR CODE HERE\n"
   ]
  },
  {
   "cell_type": "code",
   "execution_count": 11,
   "metadata": {
    "pycharm": {
     "name": "#%%\n"
    }
   },
   "outputs": [
    {
     "name": "stdout",
     "output_type": "stream",
     "text": [
      "Using matplotlib backend: <object object at 0x7fedd1f51b60>\n",
      "Populating the interactive namespace from numpy and matplotlib\n"
     ]
    },
    {
     "data": {
      "image/png": "[encoded data removed]",
      "text/plain": [
       "<Figure size 864x648 with 1 Axes>"
      ]
     },
     "metadata": {
      "needs_background": "light"
     },
     "output_type": "display_data"
    }
   ],
   "source": [
    "### ANSWER ###\n",
    "%pylab\n",
    "%matplotlib inline\n",
    "\n",
    "fig, ax = plt.subplots(1,1, figsize=(12, 9))\n",
    "sns.scatterplot(\n",
    "    data=stars_data,\n",
    "    x=\"Temperature (K)\",\n",
    "    y=\"Luminosity (L/Lo)\",\n",
    "    hue=\"Star type\")\n",
    "ax.set_yscale('log')\n",
    "ax.set_xscale('log')\n",
    "# ax.set_facecolor(\"black\", alpha = 0.4)\n",
    "plt.gca().invert_xaxis()"
   ]
  },
  {
   "cell_type": "markdown",
   "metadata": {},
   "source": [
    "&#9989; **Question 2.6 (3 points)**: One of star type is obviously easier to separate than the others. Can you use a Boolean mask on the dataframe and isolate that one species **using `Temperature` and `Luminosity` and *not the star type***? Try to do so below and confirm that you were successful.\n",
    "\n",
    "Why weren't we able to see such a pattern in the previous plot?\n"
   ]
  },
  {
   "cell_type": "code",
   "execution_count": 12,
   "metadata": {
    "pycharm": {
     "name": "#%%\n"
    }
   },
   "outputs": [],
   "source": [
    "# PUT YOUR CODE HERE"
   ]
  },
  {
   "cell_type": "code",
   "execution_count": 13,
   "metadata": {
    "pycharm": {
     "name": "#%%\n"
    }
   },
   "outputs": [
    {
     "data": {
      "text/html": [
       "<div>\n",
       "<style scoped>\n",
       "    .dataframe tbody tr th:only-of-type {\n",
       "        vertical-align: middle;\n",
       "    }\n",
       "\n",
       "    .dataframe tbody tr th {\n",
       "        vertical-align: top;\n",
       "    }\n",
       "\n",
       "    .dataframe thead th {\n",
       "        text-align: right;\n",
       "    }\n",
       "</style>\n",
       "<table border=\"1\" class=\"dataframe\">\n",
       "  <thead>\n",
       "    <tr style=\"text-align: right;\">\n",
       "      <th></th>\n",
       "      <th>Temperature (K)</th>\n",
       "      <th>Luminosity (L/Lo)</th>\n",
       "      <th>Radius (R/Ro)</th>\n",
       "      <th>Star type</th>\n",
       "      <th>Star color</th>\n",
       "      <th>Spectral Class</th>\n",
       "    </tr>\n",
       "  </thead>\n",
       "  <tbody>\n",
       "    <tr>\n",
       "      <th>20</th>\n",
       "      <td>25000</td>\n",
       "      <td>0.056000</td>\n",
       "      <td>0.00840</td>\n",
       "      <td>White Dwarf</td>\n",
       "      <td>Blue White</td>\n",
       "      <td>B</td>\n",
       "    </tr>\n",
       "    <tr>\n",
       "      <th>21</th>\n",
       "      <td>7740</td>\n",
       "      <td>0.000490</td>\n",
       "      <td>0.01234</td>\n",
       "      <td>White Dwarf</td>\n",
       "      <td>White</td>\n",
       "      <td>A</td>\n",
       "    </tr>\n",
       "    <tr>\n",
       "      <th>22</th>\n",
       "      <td>7220</td>\n",
       "      <td>0.000170</td>\n",
       "      <td>0.01100</td>\n",
       "      <td>White Dwarf</td>\n",
       "      <td>White</td>\n",
       "      <td>F</td>\n",
       "    </tr>\n",
       "    <tr>\n",
       "      <th>23</th>\n",
       "      <td>8500</td>\n",
       "      <td>0.000500</td>\n",
       "      <td>0.01000</td>\n",
       "      <td>White Dwarf</td>\n",
       "      <td>White</td>\n",
       "      <td>A</td>\n",
       "    </tr>\n",
       "    <tr>\n",
       "      <th>24</th>\n",
       "      <td>16500</td>\n",
       "      <td>0.013000</td>\n",
       "      <td>0.01400</td>\n",
       "      <td>White Dwarf</td>\n",
       "      <td>Blue White</td>\n",
       "      <td>B</td>\n",
       "    </tr>\n",
       "    <tr>\n",
       "      <th>25</th>\n",
       "      <td>12990</td>\n",
       "      <td>0.000085</td>\n",
       "      <td>0.00984</td>\n",
       "      <td>White Dwarf</td>\n",
       "      <td>Yellowish White</td>\n",
       "      <td>F</td>\n",
       "    </tr>\n",
       "    <tr>\n",
       "      <th>26</th>\n",
       "      <td>8570</td>\n",
       "      <td>0.000810</td>\n",
       "      <td>0.00970</td>\n",
       "      <td>White Dwarf</td>\n",
       "      <td>Blue white</td>\n",
       "      <td>A</td>\n",
       "    </tr>\n",
       "    <tr>\n",
       "      <th>27</th>\n",
       "      <td>7700</td>\n",
       "      <td>0.000110</td>\n",
       "      <td>0.01280</td>\n",
       "      <td>White Dwarf</td>\n",
       "      <td>Yellowish White</td>\n",
       "      <td>F</td>\n",
       "    </tr>\n",
       "    <tr>\n",
       "      <th>28</th>\n",
       "      <td>11790</td>\n",
       "      <td>0.000150</td>\n",
       "      <td>0.01100</td>\n",
       "      <td>White Dwarf</td>\n",
       "      <td>Yellowish White</td>\n",
       "      <td>F</td>\n",
       "    </tr>\n",
       "    <tr>\n",
       "      <th>29</th>\n",
       "      <td>7230</td>\n",
       "      <td>0.000080</td>\n",
       "      <td>0.01300</td>\n",
       "      <td>White Dwarf</td>\n",
       "      <td>Pale yellow orange</td>\n",
       "      <td>F</td>\n",
       "    </tr>\n",
       "    <tr>\n",
       "      <th>80</th>\n",
       "      <td>7100</td>\n",
       "      <td>0.000290</td>\n",
       "      <td>0.01200</td>\n",
       "      <td>White Dwarf</td>\n",
       "      <td>White-Yellow</td>\n",
       "      <td>F</td>\n",
       "    </tr>\n",
       "    <tr>\n",
       "      <th>81</th>\n",
       "      <td>10574</td>\n",
       "      <td>0.000140</td>\n",
       "      <td>0.00920</td>\n",
       "      <td>White Dwarf</td>\n",
       "      <td>White</td>\n",
       "      <td>F</td>\n",
       "    </tr>\n",
       "    <tr>\n",
       "      <th>82</th>\n",
       "      <td>8930</td>\n",
       "      <td>0.000560</td>\n",
       "      <td>0.00950</td>\n",
       "      <td>White Dwarf</td>\n",
       "      <td>white</td>\n",
       "      <td>A</td>\n",
       "    </tr>\n",
       "    <tr>\n",
       "      <th>83</th>\n",
       "      <td>17200</td>\n",
       "      <td>0.000980</td>\n",
       "      <td>0.01500</td>\n",
       "      <td>White Dwarf</td>\n",
       "      <td>Blue White</td>\n",
       "      <td>B</td>\n",
       "    </tr>\n",
       "    <tr>\n",
       "      <th>84</th>\n",
       "      <td>14100</td>\n",
       "      <td>0.000670</td>\n",
       "      <td>0.00890</td>\n",
       "      <td>White Dwarf</td>\n",
       "      <td>Blue White</td>\n",
       "      <td>B</td>\n",
       "    </tr>\n",
       "    <tr>\n",
       "      <th>85</th>\n",
       "      <td>9675</td>\n",
       "      <td>0.000450</td>\n",
       "      <td>0.01090</td>\n",
       "      <td>White Dwarf</td>\n",
       "      <td>Blue White</td>\n",
       "      <td>A</td>\n",
       "    </tr>\n",
       "    <tr>\n",
       "      <th>86</th>\n",
       "      <td>12010</td>\n",
       "      <td>0.000780</td>\n",
       "      <td>0.00920</td>\n",
       "      <td>White Dwarf</td>\n",
       "      <td>Blue White</td>\n",
       "      <td>B</td>\n",
       "    </tr>\n",
       "    <tr>\n",
       "      <th>87</th>\n",
       "      <td>10980</td>\n",
       "      <td>0.000740</td>\n",
       "      <td>0.00870</td>\n",
       "      <td>White Dwarf</td>\n",
       "      <td>Blue White</td>\n",
       "      <td>B</td>\n",
       "    </tr>\n",
       "    <tr>\n",
       "      <th>88</th>\n",
       "      <td>13720</td>\n",
       "      <td>0.000180</td>\n",
       "      <td>0.00892</td>\n",
       "      <td>White Dwarf</td>\n",
       "      <td>white</td>\n",
       "      <td>F</td>\n",
       "    </tr>\n",
       "    <tr>\n",
       "      <th>89</th>\n",
       "      <td>19860</td>\n",
       "      <td>0.001100</td>\n",
       "      <td>0.01310</td>\n",
       "      <td>White Dwarf</td>\n",
       "      <td>Blue</td>\n",
       "      <td>B</td>\n",
       "    </tr>\n",
       "    <tr>\n",
       "      <th>140</th>\n",
       "      <td>13420</td>\n",
       "      <td>0.000590</td>\n",
       "      <td>0.00981</td>\n",
       "      <td>White Dwarf</td>\n",
       "      <td>Blue White</td>\n",
       "      <td>B</td>\n",
       "    </tr>\n",
       "    <tr>\n",
       "      <th>141</th>\n",
       "      <td>21020</td>\n",
       "      <td>0.001500</td>\n",
       "      <td>0.01120</td>\n",
       "      <td>White Dwarf</td>\n",
       "      <td>Blue</td>\n",
       "      <td>B</td>\n",
       "    </tr>\n",
       "    <tr>\n",
       "      <th>142</th>\n",
       "      <td>18290</td>\n",
       "      <td>0.001300</td>\n",
       "      <td>0.00934</td>\n",
       "      <td>White Dwarf</td>\n",
       "      <td>Blue</td>\n",
       "      <td>B</td>\n",
       "    </tr>\n",
       "    <tr>\n",
       "      <th>143</th>\n",
       "      <td>14520</td>\n",
       "      <td>0.000820</td>\n",
       "      <td>0.00972</td>\n",
       "      <td>White Dwarf</td>\n",
       "      <td>Blue White</td>\n",
       "      <td>B</td>\n",
       "    </tr>\n",
       "    <tr>\n",
       "      <th>144</th>\n",
       "      <td>11900</td>\n",
       "      <td>0.000670</td>\n",
       "      <td>0.00898</td>\n",
       "      <td>White Dwarf</td>\n",
       "      <td>Blue white</td>\n",
       "      <td>B</td>\n",
       "    </tr>\n",
       "    <tr>\n",
       "      <th>145</th>\n",
       "      <td>8924</td>\n",
       "      <td>0.000280</td>\n",
       "      <td>0.00879</td>\n",
       "      <td>White Dwarf</td>\n",
       "      <td>Blue white</td>\n",
       "      <td>A</td>\n",
       "    </tr>\n",
       "    <tr>\n",
       "      <th>146</th>\n",
       "      <td>12912</td>\n",
       "      <td>0.000710</td>\n",
       "      <td>0.00945</td>\n",
       "      <td>White Dwarf</td>\n",
       "      <td>Blue white</td>\n",
       "      <td>B</td>\n",
       "    </tr>\n",
       "    <tr>\n",
       "      <th>147</th>\n",
       "      <td>14732</td>\n",
       "      <td>0.000110</td>\n",
       "      <td>0.00892</td>\n",
       "      <td>White Dwarf</td>\n",
       "      <td>white</td>\n",
       "      <td>F</td>\n",
       "    </tr>\n",
       "    <tr>\n",
       "      <th>148</th>\n",
       "      <td>7723</td>\n",
       "      <td>0.000140</td>\n",
       "      <td>0.00878</td>\n",
       "      <td>White Dwarf</td>\n",
       "      <td>White</td>\n",
       "      <td>A</td>\n",
       "    </tr>\n",
       "    <tr>\n",
       "      <th>149</th>\n",
       "      <td>12984</td>\n",
       "      <td>0.000880</td>\n",
       "      <td>0.00996</td>\n",
       "      <td>White Dwarf</td>\n",
       "      <td>Blue White</td>\n",
       "      <td>B</td>\n",
       "    </tr>\n",
       "    <tr>\n",
       "      <th>200</th>\n",
       "      <td>16790</td>\n",
       "      <td>0.001400</td>\n",
       "      <td>0.01210</td>\n",
       "      <td>White Dwarf</td>\n",
       "      <td>Blue</td>\n",
       "      <td>B</td>\n",
       "    </tr>\n",
       "    <tr>\n",
       "      <th>201</th>\n",
       "      <td>15680</td>\n",
       "      <td>0.001220</td>\n",
       "      <td>0.01140</td>\n",
       "      <td>White Dwarf</td>\n",
       "      <td>Blue</td>\n",
       "      <td>B</td>\n",
       "    </tr>\n",
       "    <tr>\n",
       "      <th>202</th>\n",
       "      <td>14982</td>\n",
       "      <td>0.001180</td>\n",
       "      <td>0.01130</td>\n",
       "      <td>White Dwarf</td>\n",
       "      <td>Blue</td>\n",
       "      <td>B</td>\n",
       "    </tr>\n",
       "    <tr>\n",
       "      <th>203</th>\n",
       "      <td>13340</td>\n",
       "      <td>0.001090</td>\n",
       "      <td>0.01160</td>\n",
       "      <td>White Dwarf</td>\n",
       "      <td>Blue</td>\n",
       "      <td>B</td>\n",
       "    </tr>\n",
       "    <tr>\n",
       "      <th>204</th>\n",
       "      <td>18340</td>\n",
       "      <td>0.001340</td>\n",
       "      <td>0.01240</td>\n",
       "      <td>White Dwarf</td>\n",
       "      <td>Blue</td>\n",
       "      <td>B</td>\n",
       "    </tr>\n",
       "    <tr>\n",
       "      <th>205</th>\n",
       "      <td>19920</td>\n",
       "      <td>0.001560</td>\n",
       "      <td>0.01420</td>\n",
       "      <td>White Dwarf</td>\n",
       "      <td>Blue</td>\n",
       "      <td>B</td>\n",
       "    </tr>\n",
       "    <tr>\n",
       "      <th>206</th>\n",
       "      <td>24020</td>\n",
       "      <td>0.001590</td>\n",
       "      <td>0.01270</td>\n",
       "      <td>White Dwarf</td>\n",
       "      <td>Blue</td>\n",
       "      <td>B</td>\n",
       "    </tr>\n",
       "    <tr>\n",
       "      <th>207</th>\n",
       "      <td>23092</td>\n",
       "      <td>0.001320</td>\n",
       "      <td>0.01040</td>\n",
       "      <td>White Dwarf</td>\n",
       "      <td>Blue</td>\n",
       "      <td>B</td>\n",
       "    </tr>\n",
       "    <tr>\n",
       "      <th>208</th>\n",
       "      <td>17920</td>\n",
       "      <td>0.001110</td>\n",
       "      <td>0.01060</td>\n",
       "      <td>White Dwarf</td>\n",
       "      <td>Blue</td>\n",
       "      <td>B</td>\n",
       "    </tr>\n",
       "    <tr>\n",
       "      <th>209</th>\n",
       "      <td>19360</td>\n",
       "      <td>0.001250</td>\n",
       "      <td>0.00998</td>\n",
       "      <td>White Dwarf</td>\n",
       "      <td>Blue</td>\n",
       "      <td>B</td>\n",
       "    </tr>\n",
       "  </tbody>\n",
       "</table>\n",
       "</div>"
      ],
      "text/plain": [
       "     Temperature (K)  Luminosity (L/Lo)  Radius (R/Ro)    Star type  \\\n",
       "20             25000           0.056000        0.00840  White Dwarf   \n",
       "21              7740           0.000490        0.01234  White Dwarf   \n",
       "22              7220           0.000170        0.01100  White Dwarf   \n",
       "23              8500           0.000500        0.01000  White Dwarf   \n",
       "24             16500           0.013000        0.01400  White Dwarf   \n",
       "25             12990           0.000085        0.00984  White Dwarf   \n",
       "26              8570           0.000810        0.00970  White Dwarf   \n",
       "27              7700           0.000110        0.01280  White Dwarf   \n",
       "28             11790           0.000150        0.01100  White Dwarf   \n",
       "29              7230           0.000080        0.01300  White Dwarf   \n",
       "80              7100           0.000290        0.01200  White Dwarf   \n",
       "81             10574           0.000140        0.00920  White Dwarf   \n",
       "82              8930           0.000560        0.00950  White Dwarf   \n",
       "83             17200           0.000980        0.01500  White Dwarf   \n",
       "84             14100           0.000670        0.00890  White Dwarf   \n",
       "85              9675           0.000450        0.01090  White Dwarf   \n",
       "86             12010           0.000780        0.00920  White Dwarf   \n",
       "87             10980           0.000740        0.00870  White Dwarf   \n",
       "88             13720           0.000180        0.00892  White Dwarf   \n",
       "89             19860           0.001100        0.01310  White Dwarf   \n",
       "140            13420           0.000590        0.00981  White Dwarf   \n",
       "141            21020           0.001500        0.01120  White Dwarf   \n",
       "142            18290           0.001300        0.00934  White Dwarf   \n",
       "143            14520           0.000820        0.00972  White Dwarf   \n",
       "144            11900           0.000670        0.00898  White Dwarf   \n",
       "145             8924           0.000280        0.00879  White Dwarf   \n",
       "146            12912           0.000710        0.00945  White Dwarf   \n",
       "147            14732           0.000110        0.00892  White Dwarf   \n",
       "148             7723           0.000140        0.00878  White Dwarf   \n",
       "149            12984           0.000880        0.00996  White Dwarf   \n",
       "200            16790           0.001400        0.01210  White Dwarf   \n",
       "201            15680           0.001220        0.01140  White Dwarf   \n",
       "202            14982           0.001180        0.01130  White Dwarf   \n",
       "203            13340           0.001090        0.01160  White Dwarf   \n",
       "204            18340           0.001340        0.01240  White Dwarf   \n",
       "205            19920           0.001560        0.01420  White Dwarf   \n",
       "206            24020           0.001590        0.01270  White Dwarf   \n",
       "207            23092           0.001320        0.01040  White Dwarf   \n",
       "208            17920           0.001110        0.01060  White Dwarf   \n",
       "209            19360           0.001250        0.00998  White Dwarf   \n",
       "\n",
       "             Star color Spectral Class  \n",
       "20           Blue White              B  \n",
       "21                White              A  \n",
       "22                White              F  \n",
       "23                White              A  \n",
       "24           Blue White              B  \n",
       "25      Yellowish White              F  \n",
       "26           Blue white              A  \n",
       "27      Yellowish White              F  \n",
       "28      Yellowish White              F  \n",
       "29   Pale yellow orange              F  \n",
       "80         White-Yellow              F  \n",
       "81                White              F  \n",
       "82                white              A  \n",
       "83           Blue White              B  \n",
       "84           Blue White              B  \n",
       "85           Blue White              A  \n",
       "86           Blue White              B  \n",
       "87           Blue White              B  \n",
       "88                white              F  \n",
       "89                Blue               B  \n",
       "140          Blue White              B  \n",
       "141                Blue              B  \n",
       "142                Blue              B  \n",
       "143          Blue White              B  \n",
       "144         Blue white               B  \n",
       "145          Blue white              A  \n",
       "146          Blue white              B  \n",
       "147               white              F  \n",
       "148               White              A  \n",
       "149          Blue White              B  \n",
       "200                Blue              B  \n",
       "201                Blue              B  \n",
       "202                Blue              B  \n",
       "203                Blue              B  \n",
       "204                Blue              B  \n",
       "205                Blue              B  \n",
       "206                Blue              B  \n",
       "207                Blue              B  \n",
       "208                Blue              B  \n",
       "209                Blue              B  "
      ]
     },
     "execution_count": 13,
     "metadata": {},
     "output_type": "execute_result"
    }
   ],
   "source": [
    "### ANSWER\n",
    "\n",
    "new_df = stars_data[ stars_data[\"Luminosity (L/Lo)\"] < 0.1 ]\n",
    "wd_df = new_df[ new_df[\"Temperature (K)\"] > 6e3]\n",
    "wd_df"
   ]
  },
  {
   "cell_type": "markdown",
   "metadata": {},
   "source": [
    "---\n",
    "### &#128721; STOP\n",
    "**Pause to commit your changes to your Git repository!**\n",
    "\n",
    "Take a moment to save your notebook, commit the changes to your Git repository using the commit message \"Committing Part 2\", and push the changes to GitHub. If you want you can merge your changes with the `main` branch, but you must checkout branch `hw_02` for Part 3.\n",
    "\n",
    "---"
   ]
  },
  {
   "cell_type": "markdown",
   "metadata": {},
   "source": [
    "## Part 3: Writing Python classes (44 points)\n",
    "\n",
    "<img src=\"https://upload.wikimedia.org/wikipedia/commons/thumb/0/00/Standard_Model_of_Elementary_Particles.svg/627px-Standard_Model_of_Elementary_Particles.svg.png\" alt=\"Image credit: www.wikipedia\">"
   ]
  },
  {
   "cell_type": "markdown",
   "metadata": {},
   "source": [
    "### 3.1 Using and enhancing a pre-existing class (16 points)\n",
    "\n",
    "For this section, you're going to explore a little bit of particle physics, by expanding on the pre-existing Python class contained in a file called `standard_model.py`. You'll need to download this script and put it in the same location as this notebook. **You should also add it and commit it to your repository in the same `hw-02` folder**. You will also **turn in your final version of this script into D2L along with your notebook**.\n",
    "\n",
    "You can download the file from here:\n",
    "\n",
    "`https://raw.githubusercontent.com/msu-cmse-courses/cmse202-S22-data/main/code_samples/standard_model.py`\n",
    "\n",
    "The Python class contained in this script is called `ElementaryParticle` and, not surprisingly, it is designed to store information about the building blocks of the universe. Currently it only has few simple methods. \n",
    "\n",
    "Let's first confirm that you've got the script in the right place and that everything imports and runs correctly.\n",
    "\n",
    "**&#9989; Do this:** Execute the cell below to makes sure that your newly downloaded `ElementaryParticle` class is working correctly. It should run without errors"
   ]
  },
  {
   "cell_type": "code",
   "execution_count": 14,
   "metadata": {},
   "outputs": [
    {
     "name": "stdout",
     "output_type": "stream",
     "text": [
      "========================= Electron =========================\n",
      "The particle has a mass of 0.5 MeV\n",
      "The particle's charge is -1.0 e\n",
      "The particle's spin is 0.5\n",
      "========================== Photon ==========================\n",
      "The particle has a mass of 0.0 MeV\n",
      "The particle's charge is 0.0 e\n",
      "The particle's spin is 1.0\n"
     ]
    }
   ],
   "source": [
    "# The \"magic\" command below tells Jupyter Notebook to automatically load classes and methods from external files \n",
    "# in case they have changed from last load time;\n",
    "# This is needed when you change the standard_model.py file\n",
    "%reload_ext autoreload\n",
    "%autoreload 2\n",
    "\n",
    "from standard_model_INSTRUCTOR import ElementaryParticle\n",
    "\n",
    "# Create two particles\n",
    "electron = ElementaryParticle(mass = 0.5, charge = -1., spin = 1./2.)\n",
    "photon = ElementaryParticle(mass = 0.0, spin = 1.0, charge = 0.0)\n",
    "\n",
    "print(\"{:=^60}\".format(\" Electron \"))\n",
    "electron.info()\n",
    "print(\"{:=^60}\".format(\" Photon \"))\n",
    "photon.info()"
   ]
  },
  {
   "cell_type": "markdown",
   "metadata": {},
   "source": [
    "**&#9989; Question 3.1.1 (3 points):** Notice something strange? The order of the inputs is different than the one in the script `ElementaryParticle.py`. Nonetheless we get the right answer when we print out the values. Read this [article](https://www.geeksforgeeks.org/args-kwargs-python/) and answer these questions:\n",
    "\n",
    "1. What is the difference between `args` and `kwargs`?\n",
    "2. Which of the two types of arguments I am using in the above instantiation of particles?\n",
    "3. Why do I get the right answer?"
   ]
  },
  {
   "cell_type": "markdown",
   "metadata": {},
   "source": [
    "**<font size=+3>&#9998;</font> Do This** - Erase the contents of this cell and replace it with your answer."
   ]
  },
  {
   "cell_type": "markdown",
   "metadata": {},
   "source": [
    "### ANSWER\n",
    "1. args = arguments, kwargs = key worded arguments.\n",
    "2. kwargs.\n",
    "3. The order doesn't matter if I am using key worded arguments."
   ]
  },
  {
   "cell_type": "markdown",
   "metadata": {
    "pycharm": {
     "name": "#%% md\n"
    }
   },
   "source": [
    "**&#9989; Question 3.1.2 (9 points); Make sure to read _everything_ carefully!:** Using this class as a starting point, your goal is to do the following:\n",
    "\n",
    "* Add a new attribute, `ptype`, to the class so that it is set to a default of `None` when the class object is first initialized. This attributes will indicate whether the particle is a boson or a fermion.\n",
    "* Add another class method, called `check_type`, that takes no input. **This method should:**\n",
    "    - check whether the particle is a \"fermion\" or a \"boson\". Bosons have integer spin, fermions have fractional spin. *Hint*: look at the built-in methods of [`float`](https://docs.python.org/3/library/stdtypes.html#additional-methods-on-float). Is there one that could help you answer this question?\n",
    "    - update the attribute `ptype` with the type of particle, `\"fermion\"` or `\"boson\"`.\n",
    "    - return the attribute `ptype`.\n",
    "* Add a new class method, called `compare`, that takes **one input**, called `other`. Using this input, **this method should**:\n",
    "    1. Check that `other` is an instance of the `ElementaryParticle` class. [Hint](<https://letmegooglethat.com/?q=How+do+I+check+if+an+object+is+an+instance+of+a+given+class+python>).\n",
    "    2. If so it must print to screen whether their charges are equal, whether their masses are equal, whether their spin are equal.\n",
    "    3. If `other` is not a particle raise an error message that requests the user to pass a valid particle. [Hint](https://stackoverflow.com/questions/2052390/manually-raising-throwing-an-exception-in-python).\n",
    "\n",
    "In order to check that everything is working correctly, **run the following cell**. It should not return any errors and should print the following:\n",
    "\n",
    "    ======================== Check Type ========================\n",
    "    fermion\n",
    "    boson\n",
    "    ======================== Comparison ========================\n",
    "    Electron vs Photon\n",
    "    The two particles have the same charge: False\n",
    "    The two particles have the same mass: False\n",
    "    The two particles have the same spin: False"
   ]
  },
  {
   "cell_type": "code",
   "execution_count": 15,
   "metadata": {},
   "outputs": [
    {
     "name": "stdout",
     "output_type": "stream",
     "text": [
      "======================== Check Type ========================\n"
     ]
    },
    {
     "ename": "AttributeError",
     "evalue": "'ElementaryParticle' object has no attribute 'check_type'",
     "output_type": "error",
     "traceback": [
      "\u001b[0;31m---------------------------------------------------------------------------\u001b[0m",
      "\u001b[0;31mAttributeError\u001b[0m                            Traceback (most recent call last)",
      "\u001b[0;32m/tmp/ipykernel_10669/2978589496.py\u001b[0m in \u001b[0;36m<module>\u001b[0;34m\u001b[0m\n\u001b[1;32m     13\u001b[0m \u001b[0;31m# Fermions or Bosons?\u001b[0m\u001b[0;34m\u001b[0m\u001b[0;34m\u001b[0m\u001b[0m\n\u001b[1;32m     14\u001b[0m \u001b[0mprint\u001b[0m\u001b[0;34m(\u001b[0m\u001b[0;34m\"{:=^60}\"\u001b[0m\u001b[0;34m.\u001b[0m\u001b[0mformat\u001b[0m\u001b[0;34m(\u001b[0m\u001b[0;34m\" Check Type \"\u001b[0m\u001b[0;34m)\u001b[0m\u001b[0;34m)\u001b[0m\u001b[0;34m\u001b[0m\u001b[0;34m\u001b[0m\u001b[0m\n\u001b[0;32m---> 15\u001b[0;31m \u001b[0mprint\u001b[0m\u001b[0;34m(\u001b[0m\u001b[0;34mf\"{up_quark.check_type()}\"\u001b[0m\u001b[0;34m)\u001b[0m\u001b[0;34m\u001b[0m\u001b[0;34m\u001b[0m\u001b[0m\n\u001b[0m\u001b[1;32m     16\u001b[0m \u001b[0mprint\u001b[0m\u001b[0;34m(\u001b[0m\u001b[0;34mf\"{gluon.check_type()}\"\u001b[0m\u001b[0;34m)\u001b[0m\u001b[0;34m\u001b[0m\u001b[0;34m\u001b[0m\u001b[0m\n\u001b[1;32m     17\u001b[0m \u001b[0;34m\u001b[0m\u001b[0m\n",
      "\u001b[0;31mAttributeError\u001b[0m: 'ElementaryParticle' object has no attribute 'check_type'"
     ]
    }
   ],
   "source": [
    "# The \"magic\" command below tells Jupyter Notebook to automatically load classes and methods from external files \n",
    "# in case they have changed from last load time;\n",
    "# This is needed when you change the standard_model.py file\n",
    "%reload_ext autoreload\n",
    "%autoreload 2\n",
    "\n",
    "from standard_model_INSTRUCTOR import ElementaryParticle\n",
    "\n",
    "# Create two particles\n",
    "up_quark = ElementaryParticle(charge = 1./3, mass = 2.2,  spin = 1./2.)\n",
    "gluon = ElementaryParticle(charge = 0.0, mass = 0.0, spin = 1.0)\n",
    "\n",
    "# Fermions or Bosons?\n",
    "print(\"{:=^60}\".format(\" Check Type \"))\n",
    "print(f\"{up_quark.check_type()}\")\n",
    "print(f\"{gluon.check_type()}\")\n",
    "\n",
    "# Compare\n",
    "print(\"{:=^60}\".format(\" Comparison \"))\n",
    "print(\"Up Quark vs Gluon\")\n",
    "up_quark.compare(gluon)"
   ]
  },
  {
   "cell_type": "markdown",
   "metadata": {},
   "source": [
    "**&#9989; Question 3.1.3 (2 points):** You should practice writing [docstrings](https://www.programiz.com/python-programming/docstrings) in your script so that it is clear what your methods are doing! You can look at the provided code to get a sense for how this is done.\n",
    "\n",
    "- Did you write docstring for both methods? What type of inputs does `compare` take?\n",
    "\n",
    "Run the following code you should not get any error. "
   ]
  },
  {
   "cell_type": "code",
   "execution_count": 16,
   "metadata": {},
   "outputs": [
    {
     "name": "stdout",
     "output_type": "stream",
     "text": [
      "\n",
      "========== Documentation for check_type ==========\n"
     ]
    },
    {
     "ename": "AttributeError",
     "evalue": "type object 'ElementaryParticle' has no attribute 'check_type'",
     "output_type": "error",
     "traceback": [
      "\u001b[0;31m---------------------------------------------------------------------------\u001b[0m",
      "\u001b[0;31mAttributeError\u001b[0m                            Traceback (most recent call last)",
      "\u001b[0;32m/tmp/ipykernel_10669/590150187.py\u001b[0m in \u001b[0;36m<module>\u001b[0;34m\u001b[0m\n\u001b[1;32m      1\u001b[0m \u001b[0mprint\u001b[0m\u001b[0;34m(\u001b[0m\u001b[0;34m\"\\n{:=^50}\"\u001b[0m\u001b[0;34m.\u001b[0m\u001b[0mformat\u001b[0m\u001b[0;34m(\u001b[0m\u001b[0;34m\" Documentation for check_type \"\u001b[0m\u001b[0;34m)\u001b[0m\u001b[0;34m)\u001b[0m\u001b[0;34m\u001b[0m\u001b[0;34m\u001b[0m\u001b[0m\n\u001b[0;32m----> 2\u001b[0;31m \u001b[0mprint\u001b[0m\u001b[0;34m(\u001b[0m\u001b[0mElementaryParticle\u001b[0m\u001b[0;34m.\u001b[0m\u001b[0mcheck_type\u001b[0m\u001b[0;34m.\u001b[0m\u001b[0m__doc__\u001b[0m\u001b[0;34m)\u001b[0m\u001b[0;34m\u001b[0m\u001b[0;34m\u001b[0m\u001b[0m\n\u001b[0m\u001b[1;32m      3\u001b[0m \u001b[0;31m#\u001b[0m\u001b[0;34m\u001b[0m\u001b[0;34m\u001b[0m\u001b[0m\n\u001b[1;32m      4\u001b[0m \u001b[0mprint\u001b[0m\u001b[0;34m(\u001b[0m\u001b[0;34m\"\\n{:=^50}\"\u001b[0m\u001b[0;34m.\u001b[0m\u001b[0mformat\u001b[0m\u001b[0;34m(\u001b[0m\u001b[0;34m\" Documentation for compare \"\u001b[0m\u001b[0;34m)\u001b[0m\u001b[0;34m)\u001b[0m\u001b[0;34m\u001b[0m\u001b[0;34m\u001b[0m\u001b[0m\n\u001b[1;32m      5\u001b[0m \u001b[0mprint\u001b[0m\u001b[0;34m(\u001b[0m\u001b[0mElementaryParticle\u001b[0m\u001b[0;34m.\u001b[0m\u001b[0mcompare\u001b[0m\u001b[0;34m.\u001b[0m\u001b[0m__doc__\u001b[0m\u001b[0;34m)\u001b[0m\u001b[0;34m\u001b[0m\u001b[0;34m\u001b[0m\u001b[0m\n",
      "\u001b[0;31mAttributeError\u001b[0m: type object 'ElementaryParticle' has no attribute 'check_type'"
     ]
    }
   ],
   "source": [
    "print(\"\\n{:=^50}\".format(\" Documentation for check_type \"))\n",
    "print(ElementaryParticle.check_type.__doc__)\n",
    "#\n",
    "print(\"\\n{:=^50}\".format(\" Documentation for compare \"))\n",
    "print(ElementaryParticle.compare.__doc__)"
   ]
  },
  {
   "cell_type": "markdown",
   "metadata": {},
   "source": [
    "#### Testing _all_ of your code is important!\n",
    "\n",
    "Any time you write new code, you should get in the habit of trying to test it to make sure it is working as intended, but we didn't check **all** of your new functionality in the code cell above.\n",
    "\n",
    "**&#9989; Question 3.1.4 (2 points):** Is everything working correctly if you don't pass an `ElementaryParticle` to the `compare` method?\n",
    "\n",
    "**Write some code that proves that your `compare` method is working correctly when you are not passing an `ElementaryParticle` object.** You have some options for how you might do this. \n",
    "\n",
    "*Remember*, if you're editing your script and testing things out, you may need to make sure your class is being imported again to ensure that you're using the newest version of your script.\n",
    "\n",
    "In the markdown cell below your code, **explain how you know that your method is working correctly based on the code that you provided**.\n"
   ]
  },
  {
   "cell_type": "code",
   "execution_count": 17,
   "metadata": {},
   "outputs": [],
   "source": [
    "# PUT YOUR CODE HERE\n"
   ]
  },
  {
   "cell_type": "markdown",
   "metadata": {},
   "source": [
    "**<font size=+3>&#9998;</font> Do This** - Erase the contents of this cell and replace it with your explanation for how you know that you `compare` method is working correctly."
   ]
  },
  {
   "cell_type": "code",
   "execution_count": 19,
   "metadata": {},
   "outputs": [
    {
     "name": "stdout",
     "output_type": "stream",
     "text": [
      "======================== Comparison ========================\n",
      "Up Quark vs Integer\n",
      "Can't compare an elementary particle with <class 'int'>. \n",
      "Please pass a valid ElementaryParticle object\n",
      "Up Quark vs Float\n",
      "Can't compare an elementary particle with <class 'float'>. \n",
      "Please pass a valid ElementaryParticle object\n",
      "Up Quark vs string\n",
      "Can't compare an elementary particle with <class 'str'>. \n",
      "Please pass a valid ElementaryParticle object\n"
     ]
    }
   ],
   "source": [
    "### ANSWER\n",
    "# The \"magic\" command below tells Jupyter Notebook to automatically load classes and methods from external files \n",
    "# in case they have changed from last load time;\n",
    "# This is needed when you change the standard_model.py file\n",
    "%reload_ext autoreload\n",
    "%autoreload 2\n",
    "\n",
    "from standard_model_INSTRUCTOR import ElementaryParticle\n",
    "\n",
    "# Create two particles\n",
    "up_quark = ElementaryParticle(charge = 1./3, mass = 2.2,  spin = 1./2.)\n",
    "gluon = ElementaryParticle(charge = 0.0, mass = 0.0, spin = 1.0)\n",
    "\n",
    "# Compare\n",
    "print(\"{:=^60}\".format(\" Comparison \"))\n",
    "print(\"Up Quark vs Integer\")\n",
    "up_quark.compare(7)\n",
    "print(\"Up Quark vs Float\")\n",
    "up_quark.compare(7.0)\n",
    "print(\"Up Quark vs string\")\n",
    "up_quark.compare('gluon')"
   ]
  },
  {
   "cell_type": "markdown",
   "metadata": {},
   "source": [
    "### ANSWER\n",
    "Their code should produce error messages as above. They should also explain how they got it to work"
   ]
  },
  {
   "cell_type": "markdown",
   "metadata": {},
   "source": [
    "---\n",
    "### &#128721; STOP\n",
    "**Pause to commit your changes to your Git repository!**\n",
    "\n",
    "Take a moment to save your notebook, commit the changes to your Git repository using the commit message \"Committing part 3.1\", and push the changes to GitHub. **Make sure you've added your version of `standard_model.py` to your repository!**\n",
    "\n",
    "---"
   ]
  },
  {
   "cell_type": "markdown",
   "metadata": {},
   "source": [
    "### 3.2 Inheritance and Composition (28 points)\n",
    "\n",
    "Once we've built a class, if we decide we need some sort of specialized functionality, we can create a new class that inherits all of the properties of the first one. Let's do that now!\n",
    "\n",
    "As you can see in the figure above there are different type of particles: quarks, leptons, gauge bosons, and scalar bosons. Our `ElementaryParticle` class has all the functionalities and properties common amongst all these particles, but all the particles fall into one of two categories: fermions or bosons.\n",
    "Fermions are particles that create matter while bosons are called force carriers. _SideNote_: Anytime two charges  repel/attract each other their are exchanging photons amongst them. &#129299;\n",
    "\n",
    "**&#9989; Question 3.2.1 (18 points)**: Now that you have a functioning class, your next task is to create two new classes, `Fermion` and `Boson`, that **inherit** the `ElementaryParticle` class. **You should create this new class in the same `standard_model.py` script.** When you're done, there should be three different classes available to be imported from the script: `ElementaryParticles`, `Fermion`, `Boson`.\n",
    "\n",
    "The new `Boson` class, has the following documentation:\n",
    "\n",
    "    \"\"\"\n",
    "    Boson: elementary particle that obeys Bose-Einstein statistics.\n",
    "    This class inherits the ElementaryParticle class with all its attributes and methods.\n",
    "    Further attributes and methods are\n",
    "    \n",
    "    Attributes\n",
    "    ----------\n",
    "    name: str\n",
    "        Name of the particle.\n",
    "    \n",
    "    Methods\n",
    "    -------\n",
    "    check_existence()\n",
    "        Checks whether this Boson can exists by calling its parent's method check_type()\n",
    "        Raises a ValueError if check_type() returns \"fermion\"\n",
    "            \n",
    "    \"\"\"\n",
    "    \n",
    "The new `Fermion` class has the following documentation:\n",
    "\n",
    "    \"\"\"\n",
    "    Fermion: elementary particle that obeys Fermi-Dirac statistics.\n",
    "    This class inherits the ElementaryParticle class with all its attributes and methods.\n",
    "    Further attributes and methods are\n",
    "    \n",
    "    Attributes\n",
    "    ----------\n",
    "    name: str\n",
    "        Name of the particle.\n",
    "    \n",
    "    Methods\n",
    "    -------\n",
    "    check_existence()\n",
    "        Checks whether this Fermion can exists by calling its parent's method check_type()\n",
    "        Raises a ValueError if the check_type() returns \"boson\"\n",
    "        \n",
    "    is_antiparticle(other):\n",
    "        Check whether other is the anti-particle of this Fermion \n",
    "        by checking if other is an instance of Fermion first.\n",
    "    \n",
    "    \"\"\"\n",
    "* These documentations tell you what methods and attributes you need to write. \n",
    "\n",
    "* Both classes should have an `__init__` method that takes in four arguments: `name`, `charge`, `mass`, `spin`. This method should use `ElementaryParticle`'s `__init__` method to initialize the last three attributes. In addition this method should call the method `check_existence` to verify that we have passed the correct arguments. See documentation above.\n",
    "\n",
    "* As mentioned in the documentation the `Fermion` class should have a new class method, `is_antiparticle`, that takes one input, `other`, and verifies whether it is the antiparticle. An antiparticle is an exact copy of a particle with the only difference that the antiparticle has the opposite sign. As an example see [electron](https://en.wikipedia.org/wiki/Electron) and [positron](https://en.wikipedia.org/wiki/Positron). This method should check whether other is an instance of a `Fermion` and return `True` if `other` is an antiparticle or `False` if it is not.\n",
    "\n",
    "* Copy the above docstrings into your code.\n",
    "\n",
    "Run the following code as a first check. You should get this result\n",
    "```\n",
    "======================== Comparison ========================\n",
    "Electron vs Positron\n",
    "True\n",
    "```"
   ]
  },
  {
   "cell_type": "code",
   "execution_count": 21,
   "metadata": {},
   "outputs": [
    {
     "name": "stdout",
     "output_type": "stream",
     "text": [
      "======================== Comparison ========================\n",
      "Electron vs Positron\n",
      "True\n"
     ]
    }
   ],
   "source": [
    "# The \"magic\" command below tells Jupyter Notebook to automatically load classes and methods from external files \n",
    "# in case they have changed from last load time;\n",
    "# This is needed when you change the standard_model.py file\n",
    "%reload_ext autoreload\n",
    "%autoreload 2\n",
    "\n",
    "from standard_model_INSTRUCTOR import ElementaryParticle, Fermion, Boson\n",
    "\n",
    "# Create two particles\n",
    "electron = Fermion(name = \"electron\", charge = -1., mass = 0.5,  spin = 1./2.)\n",
    "positron = Fermion(name = \"positron\", charge = 1.0, mass = 0.5, spin = 0.5)\n",
    "\n",
    "# Compare\n",
    "print(\"{:=^60}\".format(\" Comparison \"))\n",
    "print(\"Electron vs Positron\")\n",
    "print(f\"{electron.is_antiparticle(positron)}\")"
   ]
  },
  {
   "cell_type": "markdown",
   "metadata": {},
   "source": [
    "#### Testing _all_ of your code is important!\n",
    "\n",
    "Any time you write new code, you should get in the habit of trying to test it to make sure it is working as intended, but we didn't check **all** of your new functionality in the code cell above.\n",
    "\n",
    "**&#9989; Question 3.2.2 (2 points):** Is everything working correctly? What happens when you create a boson with fractional spin? What happens if you try the anti-particle has a different mass?\n",
    "\n",
    "**Write some code that proves that your methods are working correctly**. You have some options for how you might do this. \n",
    "\n",
    "*Remember*, if you're editing your script and testing things out, you may need to make sure your class is being imported again to ensure that you're using the newest version of your script.\n",
    "\n",
    "In the markdown cell below your code, **explain how you know that your method is working correctly based on the code that you provided**.\n"
   ]
  },
  {
   "cell_type": "code",
   "execution_count": 22,
   "metadata": {},
   "outputs": [],
   "source": [
    "# PUT YOUR CODE HERE"
   ]
  },
  {
   "cell_type": "markdown",
   "metadata": {},
   "source": [
    "**<font size=+3>&#9998;</font> Do This** - Erase the contents of this cell and replace it with your explanation of how you would test your code."
   ]
  },
  {
   "cell_type": "markdown",
   "metadata": {},
   "source": [
    "Ok, now we have the building blocks to start creating more complex particles. \n",
    "\n",
    "**&#9989; Question 3.2.3 (8 points)**: Create a new class called `CompositeParticle`. **You should create this new class in the same `standard_model.py` script.** When you're done, there should be four different classes available to be imported from the script: `ElementaryParticles`, `Fermion`, `Boson`, `CompositeParticle`.\n",
    "\n",
    "\n",
    "The new `CompositeParticle` class has the following documentation:\n",
    "\n",
    "    \"\"\"\n",
    "    A particle composed of several elementary particles.\n",
    "    \n",
    "    Parameters\n",
    "    ----------\n",
    "\n",
    "    name: str\n",
    "        Name of the particle.\n",
    "\n",
    "    particles : list\n",
    "        List of particles objects that compose this particle.\n",
    "    \n",
    "    charge : float\n",
    "        Electric charge of the particle.\n",
    "\n",
    "    mass : float\n",
    "        Rest mass in MeV of the particle.\n",
    "\n",
    "    spin: float\n",
    "        Spin of the particle.\n",
    "        \n",
    "    \"\"\"\n",
    "* These documentations tell you what attributes you need to write. \n",
    "\n",
    "* This classes should have an `__init__` method that takes in two arguments: `name`, `particles`. This method should assign the charge, mass, and spin attributes by calculating the sum of the respective attributes of the elements of `particles`.\n",
    "\n",
    "* In the following cell create a new `CompositeParticle` called `pion` from the union of an up quark and a down antiquark. Print the value of the charge of the pion. _Note for the physicists_: this is not a real pion so don't expect to obtain the correct spin.\n",
    "\n",
    "* Copy the above docstring into your code.\n"
   ]
  },
  {
   "cell_type": "code",
   "execution_count": 23,
   "metadata": {},
   "outputs": [],
   "source": [
    "# PUT YOUR CODE HERE\n"
   ]
  },
  {
   "cell_type": "code",
   "execution_count": 24,
   "metadata": {},
   "outputs": [
    {
     "name": "stdout",
     "output_type": "stream",
     "text": [
      "=========================== Pion ===========================\n",
      "Charge = 1.0 e\n"
     ]
    }
   ],
   "source": [
    "### ANSWER\n",
    "\n",
    "# The \"magic\" command below tells Jupyter Notebook to automatically load classes and methods from external files \n",
    "# in case they have changed from last load time;\n",
    "# This is needed when you change the standard_model.py file\n",
    "%reload_ext autoreload\n",
    "%autoreload 2\n",
    "\n",
    "from standard_model_INSTRUCTOR import ElementaryParticle, Fermion, Boson, CompositeParticle\n",
    "\n",
    "# Create two particles\n",
    "up_quark = Fermion(name = \"up_quark\", charge = 2./3., mass = 2.2,  spin = 1./2.)\n",
    "down_antiquark = Fermion(name = \"down_antiquark\", charge = 1./3., mass = 4.7, spin = 0.5)\n",
    "\n",
    "pion = CompositeParticle(\n",
    "    name = \"pi-\",\n",
    "    particles = [up_quark, down_antiquark]\n",
    ")\n",
    "\n",
    "# Compare\n",
    "print(\"{:=^60}\".format(\" Pion \"))\n",
    "print(f\"Charge = {pion.charge} e\")\n"
   ]
  },
  {
   "cell_type": "markdown",
   "metadata": {},
   "source": [
    "---\n",
    "### &#128721; STOP\n",
    "**Pause to commit your changes to your Git repository!**\n",
    "\n",
    "Take a moment to save your notebook, commit the changes to your Git repository using the commit message \"Committing part 3.2\", and push the changes to GitHub. **Make sure you've added and committed your newest version of `standard_model.py` to your repository!**\n",
    "\n",
    "---"
   ]
  },
  {
   "cell_type": "markdown",
   "metadata": {},
   "source": [
    "## Part 4: Creating an ABM universe (26 points)\n",
    "\n",
    "Let's create our universe. You'll need to download the `universe.py` script and put it in the same location as this notebook. **You should also add it and commit it to your repository in the same `hw-02` folder**. You will also **turn in your final version of this script into D2L along with your notebook**.\n",
    "\n",
    "You can download the file from here:\n",
    "\n",
    "`https://raw.githubusercontent.com/msu-cmse-courses/cmse202-S22-data/main/code_samples/universe.py`\n"
   ]
  },
  {
   "cell_type": "markdown",
   "metadata": {},
   "source": [
    "**&#9989; Question 4.1 (11 points)**: The Python class contained in this script is called `Universe` and, not surprisingly, it is designed to implement a simple ABM of the universe. However, it is lacking some information. \n",
    "\n",
    "1. Write docstrings for the methods.\n",
    "2. Complete the `evolve` method. It has a docstring that explains what it should do.\n",
    "3. Answer the questions in the `check_interaction` method."
   ]
  },
  {
   "cell_type": "markdown",
   "metadata": {},
   "source": [
    "**<font size=+3>&#9998;</font> Do This** - Erase the content of this cell and replace it with your answers to the questions in the `check_interaction` method."
   ]
  },
  {
   "cell_type": "markdown",
   "metadata": {},
   "source": [
    "Run the following cell to initialize our universe"
   ]
  },
  {
   "cell_type": "code",
   "execution_count": 8,
   "metadata": {},
   "outputs": [
    {
     "name": "stdout",
     "output_type": "stream",
     "text": [
      "Using matplotlib backend: MacOSX\n",
      "Populating the interactive namespace from numpy and matplotlib\n",
      "Done\n"
     ]
    }
   ],
   "source": [
    "# The \"magic\" command below tells Jupyter Notebook to automatically load classes and methods from external files \n",
    "# in case they have changed from last load time;\n",
    "# This is needed when you change the universe.py file\n",
    "%reload_ext autoreload\n",
    "%autoreload 2\n",
    "%pylab\n",
    "%matplotlib inline\n",
    "\n",
    "from IPython.display import display, clear_output\n",
    "\n",
    "from standard_model_INSTRUCTOR import Fermion, Boson\n",
    "from universe_INSTRUCTOR import Universe\n",
    "\n",
    "my_uni = Universe(width = 200 , height = 200)\n",
    "\n",
    "np.random.seed(123456789)\n",
    "\n",
    "# Create the universe with a list of particles\n",
    "for p in range(200):\n",
    "    my_uni.fermions.append(\n",
    "        Fermion( \n",
    "            name = f\"electron_{p}\",\n",
    "            charge = 1.0,\n",
    "            mass = 0.5,\n",
    "            spin = 0.5\n",
    "        )\n",
    "    )\n",
    "    my_uni.fermions.append(\n",
    "        Fermion( \n",
    "            name = f\"positron_{p}\",\n",
    "            charge = -1.0,\n",
    "            mass = 0.5,\n",
    "            spin = 0.5\n",
    "        )\n",
    "    )\n",
    "    my_uni.bosons.append(\n",
    "        Boson( \n",
    "            name = f\"photon_{p}\",\n",
    "            mass = 0., \n",
    "            charge = 0.0, \n",
    "            spin = 1.0\n",
    "        )\n",
    "    )\n",
    "\n",
    "# Group both sets of particles in one list. You will see later how this is useful.\n",
    "my_uni._all_particles = [*my_uni.fermions, *my_uni.bosons]\n",
    "\n",
    "print(\"Done\")"
   ]
  },
  {
   "cell_type": "markdown",
   "metadata": {},
   "source": [
    "**&#9989; Question 4.2 (6 points)**: We need to initialize the position of each particle. In the next cell randomly place each particle inside the confines of `my_uni` and make a new plot of the universe with the particles."
   ]
  },
  {
   "cell_type": "code",
   "execution_count": null,
   "metadata": {},
   "outputs": [],
   "source": [
    "# PUT YOUR CODE HERE\n"
   ]
  },
  {
   "cell_type": "code",
   "execution_count": 9,
   "metadata": {},
   "outputs": [
    {
     "data": {
      "image/png": "[encoded data removed]",
      "text/plain": [
       "<Figure size 720x720 with 1 Axes>"
      ]
     },
     "metadata": {
      "needs_background": "light"
     },
     "output_type": "display_data"
    }
   ],
   "source": [
    "### ANSWER\n",
    "# Place all the particles at random in the universe\n",
    "for p in my_uni._all_particles:\n",
    "    coord = (np.random.randint(low = 0, high= my_uni.width), np.random.randint(low = 0, high = my_uni.height))\n",
    "    p.place_at(coord)\n",
    "\n",
    "fig, ax = plt.subplots(figsize=(10,10))\n",
    "my_uni.draw()"
   ]
  },
  {
   "cell_type": "markdown",
   "metadata": {},
   "source": [
    "**&#9989; Question 4.3.1 (9 points):**  Let's run our ABM simulation. The following cell though will throw an error. Fix the error and then print the number of fermion annihilated and the number of boson created at each timestep. "
   ]
  },
  {
   "cell_type": "code",
   "execution_count": 7,
   "metadata": {},
   "outputs": [
    {
     "ename": "ValueError",
     "evalue": "Not a Fermion",
     "output_type": "error",
     "traceback": [
      "\u001b[0;31m---------------------------------------------------------------------------\u001b[0m",
      "\u001b[0;31mValueError\u001b[0m                                Traceback (most recent call last)",
      "\u001b[0;32m<ipython-input-7-42be805c1cd1>\u001b[0m in \u001b[0;36m<module>\u001b[0;34m\u001b[0m\n\u001b[1;32m      7\u001b[0m \u001b[0;34m\u001b[0m\u001b[0m\n\u001b[1;32m      8\u001b[0m     \u001b[0;31m# RUN YOUR ABM\u001b[0m\u001b[0;34m\u001b[0m\u001b[0;34m\u001b[0m\u001b[0;34m\u001b[0m\u001b[0m\n\u001b[0;32m----> 9\u001b[0;31m     \u001b[0mmy_uni\u001b[0m\u001b[0;34m.\u001b[0m\u001b[0mevolve\u001b[0m\u001b[0;34m(\u001b[0m\u001b[0;34m)\u001b[0m\u001b[0;34m\u001b[0m\u001b[0;34m\u001b[0m\u001b[0m\n\u001b[0m\u001b[1;32m     10\u001b[0m     \u001b[0;31m# my_uni.draw()\u001b[0m\u001b[0;34m\u001b[0m\u001b[0;34m\u001b[0m\u001b[0;34m\u001b[0m\u001b[0m\n\u001b[1;32m     11\u001b[0m \u001b[0;34m\u001b[0m\u001b[0m\n",
      "\u001b[0;32m~/Documents/GitHub/cmse202-S22-jb/homework/HW-02/universe_INSTRUCTOR.py\u001b[0m in \u001b[0;36mevolve\u001b[0;34m(self)\u001b[0m\n\u001b[1;32m     37\u001b[0m         \u001b[0mself\u001b[0m\u001b[0;34m.\u001b[0m\u001b[0mmove_particles\u001b[0m\u001b[0;34m(\u001b[0m\u001b[0;34m)\u001b[0m\u001b[0;34m\u001b[0m\u001b[0;34m\u001b[0m\u001b[0m\n\u001b[1;32m     38\u001b[0m         \u001b[0mself\u001b[0m\u001b[0;34m.\u001b[0m\u001b[0mboundary_conditions\u001b[0m\u001b[0;34m(\u001b[0m\u001b[0;34m)\u001b[0m\u001b[0;34m\u001b[0m\u001b[0;34m\u001b[0m\u001b[0m\n\u001b[0;32m---> 39\u001b[0;31m         \u001b[0mself\u001b[0m\u001b[0;34m.\u001b[0m\u001b[0mcheck_interaction\u001b[0m\u001b[0;34m(\u001b[0m\u001b[0;34m)\u001b[0m\u001b[0;34m\u001b[0m\u001b[0;34m\u001b[0m\u001b[0m\n\u001b[0m\u001b[1;32m     40\u001b[0m \u001b[0;34m\u001b[0m\u001b[0m\n\u001b[1;32m     41\u001b[0m     \u001b[0;32mdef\u001b[0m \u001b[0mmove_particles\u001b[0m\u001b[0;34m(\u001b[0m\u001b[0mself\u001b[0m\u001b[0;34m)\u001b[0m\u001b[0;34m:\u001b[0m\u001b[0;34m\u001b[0m\u001b[0;34m\u001b[0m\u001b[0m\n",
      "\u001b[0;32m~/Documents/GitHub/cmse202-S22-jb/homework/HW-02/universe_INSTRUCTOR.py\u001b[0m in \u001b[0;36mcheck_interaction\u001b[0;34m(self)\u001b[0m\n\u001b[1;32m     72\u001b[0m         \u001b[0;32mfor\u001b[0m \u001b[0mip1\u001b[0m\u001b[0;34m,\u001b[0m \u001b[0mp1\u001b[0m \u001b[0;32min\u001b[0m \u001b[0menumerate\u001b[0m\u001b[0;34m(\u001b[0m\u001b[0mself\u001b[0m\u001b[0;34m.\u001b[0m\u001b[0mfermions\u001b[0m\u001b[0;34m)\u001b[0m\u001b[0;34m:\u001b[0m\u001b[0;34m\u001b[0m\u001b[0;34m\u001b[0m\u001b[0m\n\u001b[1;32m     73\u001b[0m             \u001b[0;32mfor\u001b[0m \u001b[0mip2\u001b[0m\u001b[0;34m,\u001b[0m \u001b[0mp2\u001b[0m \u001b[0;32min\u001b[0m \u001b[0menumerate\u001b[0m\u001b[0;34m(\u001b[0m\u001b[0mself\u001b[0m\u001b[0;34m.\u001b[0m\u001b[0mfermions\u001b[0m\u001b[0;34m[\u001b[0m\u001b[0mip1\u001b[0m\u001b[0;34m:\u001b[0m\u001b[0;34m]\u001b[0m\u001b[0;34m)\u001b[0m\u001b[0;34m:\u001b[0m\u001b[0;34m\u001b[0m\u001b[0;34m\u001b[0m\u001b[0m\n\u001b[0;32m---> 74\u001b[0;31m                 \u001b[0;32mif\u001b[0m \u001b[0mp1\u001b[0m\u001b[0;34m.\u001b[0m\u001b[0mx\u001b[0m \u001b[0;34m==\u001b[0m \u001b[0mp2\u001b[0m\u001b[0;34m.\u001b[0m\u001b[0mx\u001b[0m \u001b[0;32mand\u001b[0m \u001b[0mp1\u001b[0m\u001b[0;34m.\u001b[0m\u001b[0my\u001b[0m \u001b[0;34m==\u001b[0m \u001b[0mp2\u001b[0m\u001b[0;34m.\u001b[0m\u001b[0my\u001b[0m \u001b[0;32mand\u001b[0m \u001b[0mp1\u001b[0m\u001b[0;34m.\u001b[0m\u001b[0mis_antiparticle\u001b[0m\u001b[0;34m(\u001b[0m\u001b[0mip2\u001b[0m\u001b[0;34m)\u001b[0m\u001b[0;34m:\u001b[0m\u001b[0;34m\u001b[0m\u001b[0;34m\u001b[0m\u001b[0m\n\u001b[0m\u001b[1;32m     75\u001b[0m                     \u001b[0;31m# QUESTION uni.1:  What do these pop do?\u001b[0m\u001b[0;34m\u001b[0m\u001b[0;34m\u001b[0m\u001b[0;34m\u001b[0m\u001b[0m\n\u001b[1;32m     76\u001b[0m                     \u001b[0mself\u001b[0m\u001b[0;34m.\u001b[0m\u001b[0mfermions\u001b[0m\u001b[0;34m.\u001b[0m\u001b[0mpop\u001b[0m\u001b[0;34m(\u001b[0m\u001b[0mip1\u001b[0m\u001b[0;34m)\u001b[0m\u001b[0;34m\u001b[0m\u001b[0;34m\u001b[0m\u001b[0m\n",
      "\u001b[0;32m~/Documents/GitHub/cmse202-S22-jb/homework/HW-02/standard_model_INSTRUCTOR.py\u001b[0m in \u001b[0;36mis_antiparticle\u001b[0;34m(self, other)\u001b[0m\n\u001b[1;32m    164\u001b[0m             \u001b[0mret_bool\u001b[0m \u001b[0;34m=\u001b[0m \u001b[0mself\u001b[0m\u001b[0;34m.\u001b[0m\u001b[0mcharge\u001b[0m \u001b[0;34m==\u001b[0m \u001b[0;34m-\u001b[0m \u001b[0;36m1.0\u001b[0m \u001b[0;34m*\u001b[0m \u001b[0mother\u001b[0m\u001b[0;34m.\u001b[0m\u001b[0mcharge\u001b[0m\u001b[0;34m\u001b[0m\u001b[0;34m\u001b[0m\u001b[0m\n\u001b[1;32m    165\u001b[0m         \u001b[0;32melse\u001b[0m\u001b[0;34m:\u001b[0m\u001b[0;34m\u001b[0m\u001b[0;34m\u001b[0m\u001b[0m\n\u001b[0;32m--> 166\u001b[0;31m             \u001b[0;32mraise\u001b[0m \u001b[0mValueError\u001b[0m \u001b[0;34m(\u001b[0m\u001b[0;34m\"Not a Fermion\"\u001b[0m\u001b[0;34m)\u001b[0m\u001b[0;34m\u001b[0m\u001b[0;34m\u001b[0m\u001b[0m\n\u001b[0m\u001b[1;32m    167\u001b[0m \u001b[0;34m\u001b[0m\u001b[0m\n\u001b[1;32m    168\u001b[0m         \u001b[0;32mreturn\u001b[0m \u001b[0mret_bool\u001b[0m\u001b[0;34m\u001b[0m\u001b[0;34m\u001b[0m\u001b[0m\n",
      "\u001b[0;31mValueError\u001b[0m: Not a Fermion"
     ]
    },
    {
     "data": {
      "image/png": "[encoded data removed]",
      "text/plain": [
       "<Figure size 720x720 with 1 Axes>"
      ]
     },
     "metadata": {
      "needs_background": "light"
     },
     "output_type": "display_data"
    }
   ],
   "source": [
    "fig, ax = plt.subplots(figsize = (10,10))\n",
    "\n",
    "start = time.time()\n",
    "times = []\n",
    "\n",
    "for i in range(100):\n",
    "    \n",
    "    # RUN YOUR ABM\n",
    "    my_uni.evolve()\n",
    "    # my_uni.draw()\n",
    "\n",
    "    # Animation part: Comment this part if you want it to go faster\n",
    "    # plt.title(f\"Time = {i}\")\n",
    "    # clear_output(wait=True) # Clear output for dynamic display\n",
    "    # display(fig)            # Reset display\n",
    "    # fig.clear()             # Prevent overlapping and layered plots\n",
    "    #\n",
    "    end = time.time()\n",
    "    times.append(end-start)\n",
    "    \n",
    "print(\"Total time =\", end-start)    \n",
    "print(times)"
   ]
  },
  {
   "cell_type": "code",
   "execution_count": 12,
   "metadata": {},
   "outputs": [
    {
     "name": "stdout",
     "output_type": "stream",
     "text": [
      "Total time = 0.8848421573638916\n",
      "144\n",
      "178\n"
     ]
    },
    {
     "data": {
      "image/png": "[encoded data removed]",
      "text/plain": [
       "<Figure size 720x720 with 1 Axes>"
      ]
     },
     "metadata": {
      "needs_background": "light"
     },
     "output_type": "display_data"
    }
   ],
   "source": [
    "### ANSWER\n",
    "fig, ax = plt.subplots(figsize = (10,10))\n",
    "\n",
    "start = time.time()\n",
    "times = []\n",
    "\n",
    "init_bosons = len(my_uni.bosons)\n",
    "init_fermions = len(my_uni.fermions)\n",
    "\n",
    "no_fermions = []\n",
    "no_bosons = []\n",
    "\n",
    "for i in range(100):\n",
    "    \n",
    "    my_uni.evolve()\n",
    "    # my_uni.draw()\n",
    "    #\n",
    "    # # Animation part: Comment this part if you want it to go faster\n",
    "    # plt.title(f\"Time = {i}\")\n",
    "    # clear_output(wait=True) # Clear output for dynamic display\n",
    "    # display(fig)            # Reset display\n",
    "    # fig.clear()             # Prevent overlapping and layered plots\n",
    "    #\n",
    "    no_fermions.append(len(my_uni.fermions))\n",
    "    no_bosons.append(len(my_uni.bosons))\n",
    "    \n",
    "    end = time.time()\n",
    "    times.append(end-start)\n",
    "    \n",
    "print(\"Total time =\", end-start)    \n",
    "print(init_fermions - len(no_fermions) )\n",
    "print(abs(len(no_bosons) - init_bosons ))"
   ]
  },
  {
   "cell_type": "markdown",
   "metadata": {},
   "source": [
    "**&#9989; Question 4.3.2 (3 points):**\n",
    "1. How many bosons have been created in total, if any?\n",
    "2. How many fermions have been annihilated in total, if any?\n",
    "3. What can you do to speed up your simulation? (Beside commenting out the animation part)"
   ]
  },
  {
   "cell_type": "markdown",
   "metadata": {},
   "source": [
    "---\n",
    "### &#128721; STOP\n",
    "**Pause to commit your changes to your Git repository!**\n",
    "\n",
    "Take a moment to save your notebook, commit the changes to your Git repository using the commit message \"Committing part 4\", merge the changes in the main branch, and push the changes to GitHub.\n",
    "\n",
    "---"
   ]
  },
  {
   "cell_type": "markdown",
   "metadata": {},
   "source": [
    "---\n",
    "## Assignment wrap-up\n",
    "\n",
    "Please fill out the form that appears when you run the code below.  **You must completely fill this out in order to receive credit for the assignment!**"
   ]
  },
  {
   "cell_type": "code",
   "execution_count": null,
   "metadata": {},
   "outputs": [],
   "source": [
    "from IPython.display import HTML\n",
    "HTML(\n",
    "\"\"\"\n",
    "<iframe \n",
    "\tsrc=\"https://forms.office.com/Pages/ResponsePage.aspx?id=MHEXIi9k2UGSEXQjetVofVWe89dpqk1HpKW7eyyv-IhURDZRWEZYMFJISDhWN0FNTjJOSFhDREc0Mi4u\"\n",
    "\twidth=\"800px\" \n",
    "\theight=\"600px\" \n",
    "\tframeborder=\"0\" \n",
    "\tmarginheight=\"0\" \n",
    "\tmarginwidth=\"0\">\n",
    "\tLoading...\n",
    "</iframe>\n",
    "\"\"\"\n",
    ")"
   ]
  },
  {
   "cell_type": "markdown",
   "metadata": {},
   "source": [
    "### Congratulations, you're done!\n",
    "\n",
    "Submit this assignment by uploading it to the course Desire2Learn web page.  Go to the \"Homework Assignments\" folder, find the dropbox link for Homework #2, and upload **your notebook, your standard_model.py, and your universe.py scripts** there."
   ]
  },
  {
   "cell_type": "markdown",
   "metadata": {},
   "source": [
    "&#169; Copyright 2021,  Department of Computational Mathematics, Science and Engineering at Michigan State University"
   ]
  }
 ],
 "metadata": {
  "anaconda-cloud": {},
  "kernelspec": {
   "display_name": "Python 3",
   "language": "python",
   "name": "python3"
  },
  "language_info": {
   "codemirror_mode": {
    "name": "ipython",
    "version": 3
   },
   "file_extension": ".py",
   "mimetype": "text/x-python",
   "name": "python",
   "nbconvert_exporter": "python",
   "pygments_lexer": "ipython3",
   "version": "3.7.1"
  },
  "widgets": {
   "application/vnd.jupyter.widget-state+json": {
    "state": {},
    "version_major": 2,
    "version_minor": 0
   }
  }
 },
 "nbformat": 4,
 "nbformat_minor": 4
}
