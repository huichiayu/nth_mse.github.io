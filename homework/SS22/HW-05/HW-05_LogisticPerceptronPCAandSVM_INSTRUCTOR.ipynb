{
 "cells": [
  {
   "cell_type": "markdown",
   "metadata": {},
   "source": [
    "###ANSWER (to make sure this gets removed)\n",
    "\n",
    "# Grading rubric (41 points)\n",
    "\n",
    "## Part 1 (4 points)\n",
    "\n",
    "* 4 points for having added this notebook to the repository and making at least some number of commits\n",
    "\n",
    "## Part 2 (12 points)\n",
    "### 2.1 (5 points)\n",
    "* 1 point for each question\n",
    "\n",
    "### 2.2 (7 points)\n",
    "* **Question 2.2.1** (1 point)\n",
    "* **Question 2.2.2** (3 points)\n",
    "    * 1 point for adding constants\n",
    "    * 1 point for applying logistic regression\n",
    "    * 1 point for printing out the summary table\n",
    "* **Question 2.2.3** (1 point)\n",
    "* **Question 2.2.4** (2 points)\n",
    "    * 1 point for making predictions\n",
    "    * 1 point for calculating accuracy\n",
    "\n",
    "\n",
    "## Part 3 (5 points)\n",
    "\n",
    "* **Question 3.1** (2 points):\n",
    "    * 1 point for applying perceptron and making prediction\n",
    "    * 1 point for model evaluation\n",
    "* **Question 3.2** (3 points):\n",
    "    * 1 point for applying different penalty terms\n",
    "    * 1 point for printing out the accuary of each model\n",
    "    * 1 point for conclusion\n",
    "\n",
    "\n",
    "## Part 4 (6 points)\n",
    "\n",
    "* **Question 4.1** (1 point)\n",
    "* **Question 4.2** (1 point)\n",
    "* **Question 4.3** (3 points):\n",
    "    * 1 point for applying PCA\n",
    "    * 1 point for data transformation\n",
    "    * 1 point for printing the `explained_variance_ratio_`\n",
    "* **Question 4.4** (1 point)\n",
    "\n",
    "\n",
    "    \n",
    "## Part 5 (14 points)\n",
    "### 5.1 (6 points)\n",
    "* **Question 5.1.1** (2 points):\n",
    "    * 1 point for applying SVC\n",
    "    * 1 point for model evaluation\n",
    "* **Question 5.1.2** (3 points):\n",
    "    * 2 points for applying `GridSearchCV`\n",
    "    * 1 point for finding the best model\n",
    "* **Question 5.1.3** (1 point)\n",
    "    \n",
    "### 5.2 (8 points)\n",
    "\n",
    "* **Question 5.2.1** (3 point):\n",
    "    * 1 point for PCA\n",
    "    * 1 point for grid-searching and SVC\n",
    "    * 1 point for the whole function structure\n",
    "* **Question 5.2.2** (2 points):\n",
    "    * 1 point for applying the function in **Question 5.2.1**\n",
    "    * 1 point for saving the results\n",
    "* **Question 5.2.3** (1 point)\n",
    "* **Question 5.2.4** (1 point)\n",
    "* **Question 5.2.5** (1 point)\n",
    "\n",
    "\n",
    "---"
   ]
  },
  {
   "cell_type": "markdown",
   "metadata": {},
   "source": [
    "# Homework Assignment #5 (Individual)\n"
   ]
  },
  {
   "cell_type": "markdown",
   "metadata": {},
   "source": [
    "### <p style=\"text-align: right;\"> &#9989; Put your name here.</p>\n",
    "### <p style=\"text-align: right;\"> &#9989; Put your _GitHub username_ here.</p>"
   ]
  },
  {
   "cell_type": "markdown",
   "metadata": {},
   "source": [
    "### Goals for this homework assignment\n",
    "\n",
    "By the end of this assignment, you should be able to:\n",
    "* Use `git` to track your work and turn in your assignment\n",
    "* Read in data and prepare it for modeling\n",
    "* Build, fit, and evaluate Logistic Regression models\n",
    "* Build, fit, and evaluate Perceptron models\n",
    "* Use PCA to reduce the number of features\n",
    "* Build, fit, and evaluate an SVC model on PCA-transformed data\n",
    "* Systematically investigate the effects of the number of PCA components on an SVC model of data\n",
    "\n",
    "### Assignment instructions:\n",
    "\n",
    "Work through the following assignment, making sure to follow all of the directions and answer all of the questions.\n",
    "\n",
    "There are **41 points** possible on this assignment. Point values for each part are included in the section headers.\n",
    "\n",
    "This assignment is **due at 11:59 pm on Friday, April 15th**. It should be uploaded into the \"Homework Assignments\" submission folder for Homework #5. Submission instructions can be found at the end of the notebook.. \n"
   ]
  },
  {
   "cell_type": "markdown",
   "metadata": {},
   "source": [
    "---\n",
    "## Part 1: Add to your Git repository to track your progress on your assignment (4 points)\n",
    "\n",
    "For this assignment, you're going to add it to the `cmse202-s22-turnin` repository you created in class so that you can track your progress on the assignment and preserve the final version that you turn in. In order to do this you need to\n",
    "\n",
    "**&#9989; Do the following**:\n",
    "\n",
    "1. Navigate to your `cmse202-s22-turnin` repository and create a new directory called `hw-05`.\n",
    "2. Move this notebook into that **new directory** in your repository, then **add it and commit it to your repository**.\n",
    "1. Finally, to test that everything is working, \"git push\" the file so that it ends up in your GitHub repository.\n",
    "\n",
    "**Important**: Double check you've added your Professor and your TA as collaborators to your \"turnin\" repository (you should have done this in the previous homework assignment).\n",
    "\n",
    "**Also important**: Make sure that the version of this notebook that you are working on is the same one that you just added to your repository! If you are working on a different copy of the notebook, **none of your changes will be tracked**!\n",
    "\n",
    "If everything went as intended, the file should now show up on your GitHub account in the \"`cmse202-s22-turnin`\" repository inside the `hw-05` directory that you just created.  Periodically, **you'll be asked to commit your changes to the repository and push them to the remote GitHub location**. Of course, you can always commit your changes more often than that, if you wish.  It can be good to get into a habit of committing your changes any time you make a significant modification, or when you stop working on the project for a bit.\n",
    "\n",
    "&#9989; **Do this**: Before you move on, put the command that your instructor should run to clone your repository in the markdown cell below."
   ]
  },
  {
   "cell_type": "markdown",
   "metadata": {},
   "source": [
    "**Put the command for cloning your repository here!**\n"
   ]
  },
  {
   "cell_type": "code",
   "execution_count": null,
   "metadata": {},
   "outputs": [],
   "source": [
    "### ANSWER\n",
    "git clone <repo_name>"
   ]
  },
  {
   "cell_type": "markdown",
   "metadata": {},
   "source": [
    "&#9989; **Do this**: Before you move on, create a new branch called `hw05_branch` and move into it. In the cell below put the command(s) to create a new branch and to checkout the new branch. (_Note_: your TA will be able to see if you have created the branch and its history)."
   ]
  },
  {
   "cell_type": "markdown",
   "metadata": {},
   "source": [
    "**Put the command for creating the new branch here!**\n"
   ]
  },
  {
   "cell_type": "code",
   "execution_count": null,
   "metadata": {},
   "outputs": [],
   "source": [
    "### ANSWER\n",
    "git checkout -b hw05_branch"
   ]
  },
  {
   "cell_type": "markdown",
   "metadata": {},
   "source": [
    "&#9989; **Do this**: Import necessary packages"
   ]
  },
  {
   "cell_type": "code",
   "execution_count": 1,
   "metadata": {},
   "outputs": [],
   "source": [
    "import numpy as np\n",
    "import pandas as pd\n",
    "import matplotlib.pylab as plt\n",
    "from sklearn.model_selection import train_test_split\n",
    "from sklearn.model_selection import GridSearchCV\n",
    "from sklearn.metrics import classification_report\n",
    "from sklearn.metrics import confusion_matrix, accuracy_score\n",
    "from sklearn.linear_model import Perceptron\n",
    "from sklearn.svm import SVC\n",
    "from sklearn.decomposition import PCA\n",
    "import statsmodels.api as sm"
   ]
  },
  {
   "cell_type": "markdown",
   "metadata": {},
   "source": [
    "---\n",
    "<a id=\"loading\"></a>\n",
    "## Part 2. Logistic Regression (12 points)\n",
    "### 2.1 Data processing (5 points)\n",
    "For this part, you will read and process the dataset `hw5_data.csv` and split the training and testing sets.\n",
    "\n",
    "The provided data corresponds to a molecular biology dataset, where each row represents a patient classified into either \"active\" or \"repressive\". The columns represent features, where each feature comes from the quantification of a specific gene. Ten genes (ten features) are measured. The goal is to make predictive models that can classify patients (\"active\" or \"repressive\") based on the ten features.\n",
    "\n",
    "The dataset is located at:\n",
    "`https://raw.githubusercontent.com/msu-cmse-courses/cmse202-S22-data/main/data/hw5_data.csv`\n",
    "\n",
    "\n",
    "**&#9989; Question 2.1.1 (1 point):** Read the `hw5_data.csv` file into your notebook and print out the unique labels in the `label` columns. \n",
    "\n",
    "Note: each row represents one data point and each column (except the `label` column) represents one feature. The `label` column corresponds to the class labels for every data point. There are two types of unique class labels in the `label` column. "
   ]
  },
  {
   "cell_type": "code",
   "execution_count": null,
   "metadata": {},
   "outputs": [],
   "source": [
    "# Put your code here\n"
   ]
  },
  {
   "cell_type": "code",
   "execution_count": 2,
   "metadata": {},
   "outputs": [
    {
     "name": "stdout",
     "output_type": "stream",
     "text": [
      "['active' 'repressive']\n"
     ]
    },
    {
     "data": {
      "text/html": [
       "<div>\n",
       "<style scoped>\n",
       "    .dataframe tbody tr th:only-of-type {\n",
       "        vertical-align: middle;\n",
       "    }\n",
       "\n",
       "    .dataframe tbody tr th {\n",
       "        vertical-align: top;\n",
       "    }\n",
       "\n",
       "    .dataframe thead th {\n",
       "        text-align: right;\n",
       "    }\n",
       "</style>\n",
       "<table border=\"1\" class=\"dataframe\">\n",
       "  <thead>\n",
       "    <tr style=\"text-align: right;\">\n",
       "      <th></th>\n",
       "      <th>label</th>\n",
       "      <th>feature_1</th>\n",
       "      <th>feature_2</th>\n",
       "      <th>feature_3</th>\n",
       "      <th>feature_4</th>\n",
       "      <th>feature_5</th>\n",
       "      <th>feature_6</th>\n",
       "      <th>feature_7</th>\n",
       "      <th>feature_8</th>\n",
       "      <th>feature_9</th>\n",
       "      <th>feature_10</th>\n",
       "    </tr>\n",
       "  </thead>\n",
       "  <tbody>\n",
       "    <tr>\n",
       "      <th>0</th>\n",
       "      <td>active</td>\n",
       "      <td>0.000168</td>\n",
       "      <td>1.089799</td>\n",
       "      <td>3.706677</td>\n",
       "      <td>1.839418</td>\n",
       "      <td>1.000414</td>\n",
       "      <td>0.751246</td>\n",
       "      <td>-0.077189</td>\n",
       "      <td>0.949589</td>\n",
       "      <td>1.641961</td>\n",
       "      <td>1.102132</td>\n",
       "    </tr>\n",
       "    <tr>\n",
       "      <th>1</th>\n",
       "      <td>active</td>\n",
       "      <td>0.355099</td>\n",
       "      <td>0.000000</td>\n",
       "      <td>2.247742</td>\n",
       "      <td>NaN</td>\n",
       "      <td>0.000000</td>\n",
       "      <td>0.194369</td>\n",
       "      <td>0.116891</td>\n",
       "      <td>-0.059497</td>\n",
       "      <td>1.086607</td>\n",
       "      <td>0.508670</td>\n",
       "    </tr>\n",
       "    <tr>\n",
       "      <th>2</th>\n",
       "      <td>active</td>\n",
       "      <td>0.001236</td>\n",
       "      <td>0.000000</td>\n",
       "      <td>NaN</td>\n",
       "      <td>0.814211</td>\n",
       "      <td>2.696122</td>\n",
       "      <td>0.221476</td>\n",
       "      <td>0.229138</td>\n",
       "      <td>-0.173686</td>\n",
       "      <td>1.091221</td>\n",
       "      <td>1.048915</td>\n",
       "    </tr>\n",
       "    <tr>\n",
       "      <th>3</th>\n",
       "      <td>active</td>\n",
       "      <td>0.690140</td>\n",
       "      <td>0.000000</td>\n",
       "      <td>0.687331</td>\n",
       "      <td>0.000000</td>\n",
       "      <td>0.527291</td>\n",
       "      <td>0.185705</td>\n",
       "      <td>-0.089479</td>\n",
       "      <td>-0.379929</td>\n",
       "      <td>-0.093369</td>\n",
       "      <td>0.272125</td>\n",
       "    </tr>\n",
       "    <tr>\n",
       "      <th>4</th>\n",
       "      <td>active</td>\n",
       "      <td>1.376770</td>\n",
       "      <td>0.631267</td>\n",
       "      <td>2.090756</td>\n",
       "      <td>1.581667</td>\n",
       "      <td>0.793976</td>\n",
       "      <td>0.846570</td>\n",
       "      <td>0.178551</td>\n",
       "      <td>0.245401</td>\n",
       "      <td>1.221811</td>\n",
       "      <td>0.111456</td>\n",
       "    </tr>\n",
       "    <tr>\n",
       "      <th>...</th>\n",
       "      <td>...</td>\n",
       "      <td>...</td>\n",
       "      <td>...</td>\n",
       "      <td>...</td>\n",
       "      <td>...</td>\n",
       "      <td>...</td>\n",
       "      <td>...</td>\n",
       "      <td>...</td>\n",
       "      <td>...</td>\n",
       "      <td>...</td>\n",
       "      <td>...</td>\n",
       "    </tr>\n",
       "    <tr>\n",
       "      <th>995</th>\n",
       "      <td>repressive</td>\n",
       "      <td>1.539002</td>\n",
       "      <td>0.499277</td>\n",
       "      <td>0.000000</td>\n",
       "      <td>1.934047</td>\n",
       "      <td>0.000000</td>\n",
       "      <td>0.750042</td>\n",
       "      <td>0.605361</td>\n",
       "      <td>0.436925</td>\n",
       "      <td>1.426063</td>\n",
       "      <td>0.540208</td>\n",
       "    </tr>\n",
       "    <tr>\n",
       "      <th>996</th>\n",
       "      <td>repressive</td>\n",
       "      <td>0.004665</td>\n",
       "      <td>0.356522</td>\n",
       "      <td>0.000000</td>\n",
       "      <td>1.646765</td>\n",
       "      <td>0.198733</td>\n",
       "      <td>0.605987</td>\n",
       "      <td>0.306014</td>\n",
       "      <td>0.437594</td>\n",
       "      <td>1.220802</td>\n",
       "      <td>0.908293</td>\n",
       "    </tr>\n",
       "    <tr>\n",
       "      <th>997</th>\n",
       "      <td>repressive</td>\n",
       "      <td>0.368634</td>\n",
       "      <td>2.356287</td>\n",
       "      <td>1.937731</td>\n",
       "      <td>0.684271</td>\n",
       "      <td>1.801650</td>\n",
       "      <td>1.492007</td>\n",
       "      <td>0.463434</td>\n",
       "      <td>1.313578</td>\n",
       "      <td>0.908521</td>\n",
       "      <td>0.958253</td>\n",
       "    </tr>\n",
       "    <tr>\n",
       "      <th>998</th>\n",
       "      <td>repressive</td>\n",
       "      <td>0.000000</td>\n",
       "      <td>1.668051</td>\n",
       "      <td>0.000000</td>\n",
       "      <td>1.213437</td>\n",
       "      <td>0.403462</td>\n",
       "      <td>1.526797</td>\n",
       "      <td>0.274236</td>\n",
       "      <td>1.283074</td>\n",
       "      <td>0.795663</td>\n",
       "      <td>0.757853</td>\n",
       "    </tr>\n",
       "    <tr>\n",
       "      <th>999</th>\n",
       "      <td>repressive</td>\n",
       "      <td>1.177402</td>\n",
       "      <td>0.000000</td>\n",
       "      <td>1.970539</td>\n",
       "      <td>0.119612</td>\n",
       "      <td>0.777841</td>\n",
       "      <td>-0.106966</td>\n",
       "      <td>0.368507</td>\n",
       "      <td>0.138330</td>\n",
       "      <td>0.340818</td>\n",
       "      <td>-0.378622</td>\n",
       "    </tr>\n",
       "  </tbody>\n",
       "</table>\n",
       "<p>1000 rows × 11 columns</p>\n",
       "</div>"
      ],
      "text/plain": [
       "          label  feature_1  feature_2  feature_3  feature_4  feature_5  \\\n",
       "0        active   0.000168   1.089799   3.706677   1.839418   1.000414   \n",
       "1        active   0.355099   0.000000   2.247742        NaN   0.000000   \n",
       "2        active   0.001236   0.000000        NaN   0.814211   2.696122   \n",
       "3        active   0.690140   0.000000   0.687331   0.000000   0.527291   \n",
       "4        active   1.376770   0.631267   2.090756   1.581667   0.793976   \n",
       "..          ...        ...        ...        ...        ...        ...   \n",
       "995  repressive   1.539002   0.499277   0.000000   1.934047   0.000000   \n",
       "996  repressive   0.004665   0.356522   0.000000   1.646765   0.198733   \n",
       "997  repressive   0.368634   2.356287   1.937731   0.684271   1.801650   \n",
       "998  repressive   0.000000   1.668051   0.000000   1.213437   0.403462   \n",
       "999  repressive   1.177402   0.000000   1.970539   0.119612   0.777841   \n",
       "\n",
       "     feature_6  feature_7  feature_8  feature_9  feature_10  \n",
       "0     0.751246  -0.077189   0.949589   1.641961    1.102132  \n",
       "1     0.194369   0.116891  -0.059497   1.086607    0.508670  \n",
       "2     0.221476   0.229138  -0.173686   1.091221    1.048915  \n",
       "3     0.185705  -0.089479  -0.379929  -0.093369    0.272125  \n",
       "4     0.846570   0.178551   0.245401   1.221811    0.111456  \n",
       "..         ...        ...        ...        ...         ...  \n",
       "995   0.750042   0.605361   0.436925   1.426063    0.540208  \n",
       "996   0.605987   0.306014   0.437594   1.220802    0.908293  \n",
       "997   1.492007   0.463434   1.313578   0.908521    0.958253  \n",
       "998   1.526797   0.274236   1.283074   0.795663    0.757853  \n",
       "999  -0.106966   0.368507   0.138330   0.340818   -0.378622  \n",
       "\n",
       "[1000 rows x 11 columns]"
      ]
     },
     "execution_count": 2,
     "metadata": {},
     "output_type": "execute_result"
    }
   ],
   "source": [
    "### ANSWER ###\n",
    "df = pd.read_csv('hw5_data.csv')\n",
    "print(df['label'].unique())\n",
    "df"
   ]
  },
  {
   "cell_type": "markdown",
   "metadata": {},
   "source": [
    "**&#9989; Question 2.1.2 (1 point):** To simplify the process of data modeling, we should convert the labels from strings to integers.\n",
    "\n",
    "Replace all of the strings in your `label` column with integers based on the following:\n",
    "\n",
    "| original label | integer label |\n",
    "| -------- | -------- |\n",
    "| repressive | 0 |\n",
    "| active | 1 |\n",
    "\n",
    "Once you've replaced the labels, display your DataFrame and confirm that it looks correct."
   ]
  },
  {
   "cell_type": "code",
   "execution_count": null,
   "metadata": {},
   "outputs": [],
   "source": [
    "# Put your code here\n"
   ]
  },
  {
   "cell_type": "code",
   "execution_count": 3,
   "metadata": {},
   "outputs": [
    {
     "name": "stdout",
     "output_type": "stream",
     "text": [
      "[1 0]\n"
     ]
    },
    {
     "data": {
      "text/html": [
       "<div>\n",
       "<style scoped>\n",
       "    .dataframe tbody tr th:only-of-type {\n",
       "        vertical-align: middle;\n",
       "    }\n",
       "\n",
       "    .dataframe tbody tr th {\n",
       "        vertical-align: top;\n",
       "    }\n",
       "\n",
       "    .dataframe thead th {\n",
       "        text-align: right;\n",
       "    }\n",
       "</style>\n",
       "<table border=\"1\" class=\"dataframe\">\n",
       "  <thead>\n",
       "    <tr style=\"text-align: right;\">\n",
       "      <th></th>\n",
       "      <th>label</th>\n",
       "      <th>feature_1</th>\n",
       "      <th>feature_2</th>\n",
       "      <th>feature_3</th>\n",
       "      <th>feature_4</th>\n",
       "      <th>feature_5</th>\n",
       "      <th>feature_6</th>\n",
       "      <th>feature_7</th>\n",
       "      <th>feature_8</th>\n",
       "      <th>feature_9</th>\n",
       "      <th>feature_10</th>\n",
       "    </tr>\n",
       "  </thead>\n",
       "  <tbody>\n",
       "    <tr>\n",
       "      <th>0</th>\n",
       "      <td>1</td>\n",
       "      <td>0.000168</td>\n",
       "      <td>1.089799</td>\n",
       "      <td>3.706677</td>\n",
       "      <td>1.839418</td>\n",
       "      <td>1.000414</td>\n",
       "      <td>0.751246</td>\n",
       "      <td>-0.077189</td>\n",
       "      <td>0.949589</td>\n",
       "      <td>1.641961</td>\n",
       "      <td>1.102132</td>\n",
       "    </tr>\n",
       "    <tr>\n",
       "      <th>1</th>\n",
       "      <td>1</td>\n",
       "      <td>0.355099</td>\n",
       "      <td>0.000000</td>\n",
       "      <td>2.247742</td>\n",
       "      <td>NaN</td>\n",
       "      <td>0.000000</td>\n",
       "      <td>0.194369</td>\n",
       "      <td>0.116891</td>\n",
       "      <td>-0.059497</td>\n",
       "      <td>1.086607</td>\n",
       "      <td>0.508670</td>\n",
       "    </tr>\n",
       "    <tr>\n",
       "      <th>2</th>\n",
       "      <td>1</td>\n",
       "      <td>0.001236</td>\n",
       "      <td>0.000000</td>\n",
       "      <td>NaN</td>\n",
       "      <td>0.814211</td>\n",
       "      <td>2.696122</td>\n",
       "      <td>0.221476</td>\n",
       "      <td>0.229138</td>\n",
       "      <td>-0.173686</td>\n",
       "      <td>1.091221</td>\n",
       "      <td>1.048915</td>\n",
       "    </tr>\n",
       "    <tr>\n",
       "      <th>3</th>\n",
       "      <td>1</td>\n",
       "      <td>0.690140</td>\n",
       "      <td>0.000000</td>\n",
       "      <td>0.687331</td>\n",
       "      <td>0.000000</td>\n",
       "      <td>0.527291</td>\n",
       "      <td>0.185705</td>\n",
       "      <td>-0.089479</td>\n",
       "      <td>-0.379929</td>\n",
       "      <td>-0.093369</td>\n",
       "      <td>0.272125</td>\n",
       "    </tr>\n",
       "    <tr>\n",
       "      <th>4</th>\n",
       "      <td>1</td>\n",
       "      <td>1.376770</td>\n",
       "      <td>0.631267</td>\n",
       "      <td>2.090756</td>\n",
       "      <td>1.581667</td>\n",
       "      <td>0.793976</td>\n",
       "      <td>0.846570</td>\n",
       "      <td>0.178551</td>\n",
       "      <td>0.245401</td>\n",
       "      <td>1.221811</td>\n",
       "      <td>0.111456</td>\n",
       "    </tr>\n",
       "    <tr>\n",
       "      <th>...</th>\n",
       "      <td>...</td>\n",
       "      <td>...</td>\n",
       "      <td>...</td>\n",
       "      <td>...</td>\n",
       "      <td>...</td>\n",
       "      <td>...</td>\n",
       "      <td>...</td>\n",
       "      <td>...</td>\n",
       "      <td>...</td>\n",
       "      <td>...</td>\n",
       "      <td>...</td>\n",
       "    </tr>\n",
       "    <tr>\n",
       "      <th>995</th>\n",
       "      <td>0</td>\n",
       "      <td>1.539002</td>\n",
       "      <td>0.499277</td>\n",
       "      <td>0.000000</td>\n",
       "      <td>1.934047</td>\n",
       "      <td>0.000000</td>\n",
       "      <td>0.750042</td>\n",
       "      <td>0.605361</td>\n",
       "      <td>0.436925</td>\n",
       "      <td>1.426063</td>\n",
       "      <td>0.540208</td>\n",
       "    </tr>\n",
       "    <tr>\n",
       "      <th>996</th>\n",
       "      <td>0</td>\n",
       "      <td>0.004665</td>\n",
       "      <td>0.356522</td>\n",
       "      <td>0.000000</td>\n",
       "      <td>1.646765</td>\n",
       "      <td>0.198733</td>\n",
       "      <td>0.605987</td>\n",
       "      <td>0.306014</td>\n",
       "      <td>0.437594</td>\n",
       "      <td>1.220802</td>\n",
       "      <td>0.908293</td>\n",
       "    </tr>\n",
       "    <tr>\n",
       "      <th>997</th>\n",
       "      <td>0</td>\n",
       "      <td>0.368634</td>\n",
       "      <td>2.356287</td>\n",
       "      <td>1.937731</td>\n",
       "      <td>0.684271</td>\n",
       "      <td>1.801650</td>\n",
       "      <td>1.492007</td>\n",
       "      <td>0.463434</td>\n",
       "      <td>1.313578</td>\n",
       "      <td>0.908521</td>\n",
       "      <td>0.958253</td>\n",
       "    </tr>\n",
       "    <tr>\n",
       "      <th>998</th>\n",
       "      <td>0</td>\n",
       "      <td>0.000000</td>\n",
       "      <td>1.668051</td>\n",
       "      <td>0.000000</td>\n",
       "      <td>1.213437</td>\n",
       "      <td>0.403462</td>\n",
       "      <td>1.526797</td>\n",
       "      <td>0.274236</td>\n",
       "      <td>1.283074</td>\n",
       "      <td>0.795663</td>\n",
       "      <td>0.757853</td>\n",
       "    </tr>\n",
       "    <tr>\n",
       "      <th>999</th>\n",
       "      <td>0</td>\n",
       "      <td>1.177402</td>\n",
       "      <td>0.000000</td>\n",
       "      <td>1.970539</td>\n",
       "      <td>0.119612</td>\n",
       "      <td>0.777841</td>\n",
       "      <td>-0.106966</td>\n",
       "      <td>0.368507</td>\n",
       "      <td>0.138330</td>\n",
       "      <td>0.340818</td>\n",
       "      <td>-0.378622</td>\n",
       "    </tr>\n",
       "  </tbody>\n",
       "</table>\n",
       "<p>1000 rows × 11 columns</p>\n",
       "</div>"
      ],
      "text/plain": [
       "     label  feature_1  feature_2  feature_3  feature_4  feature_5  feature_6  \\\n",
       "0        1   0.000168   1.089799   3.706677   1.839418   1.000414   0.751246   \n",
       "1        1   0.355099   0.000000   2.247742        NaN   0.000000   0.194369   \n",
       "2        1   0.001236   0.000000        NaN   0.814211   2.696122   0.221476   \n",
       "3        1   0.690140   0.000000   0.687331   0.000000   0.527291   0.185705   \n",
       "4        1   1.376770   0.631267   2.090756   1.581667   0.793976   0.846570   \n",
       "..     ...        ...        ...        ...        ...        ...        ...   \n",
       "995      0   1.539002   0.499277   0.000000   1.934047   0.000000   0.750042   \n",
       "996      0   0.004665   0.356522   0.000000   1.646765   0.198733   0.605987   \n",
       "997      0   0.368634   2.356287   1.937731   0.684271   1.801650   1.492007   \n",
       "998      0   0.000000   1.668051   0.000000   1.213437   0.403462   1.526797   \n",
       "999      0   1.177402   0.000000   1.970539   0.119612   0.777841  -0.106966   \n",
       "\n",
       "     feature_7  feature_8  feature_9  feature_10  \n",
       "0    -0.077189   0.949589   1.641961    1.102132  \n",
       "1     0.116891  -0.059497   1.086607    0.508670  \n",
       "2     0.229138  -0.173686   1.091221    1.048915  \n",
       "3    -0.089479  -0.379929  -0.093369    0.272125  \n",
       "4     0.178551   0.245401   1.221811    0.111456  \n",
       "..         ...        ...        ...         ...  \n",
       "995   0.605361   0.436925   1.426063    0.540208  \n",
       "996   0.306014   0.437594   1.220802    0.908293  \n",
       "997   0.463434   1.313578   0.908521    0.958253  \n",
       "998   0.274236   1.283074   0.795663    0.757853  \n",
       "999   0.368507   0.138330   0.340818   -0.378622  \n",
       "\n",
       "[1000 rows x 11 columns]"
      ]
     },
     "execution_count": 3,
     "metadata": {},
     "output_type": "execute_result"
    }
   ],
   "source": [
    "### ANSWER \n",
    "df['label'].replace({'repressive':0, \"active\":1}, inplace=True)\n",
    "print(df['label'].unique())\n",
    "df"
   ]
  },
  {
   "cell_type": "markdown",
   "metadata": {},
   "source": [
    "**&#9989; Question 2.1.3 (1 point):** At this point, you've hopefully noticed that some of the rows seems to have missing data values as indicated by the existence of `NaN` values. Since we don't necessarily know what to replace these values with, let's just play it safe and remove all of the rows that have `NaN` in any of the column entries. This should help to ensure that we don't end up with errors or confusing results when we try to classify the data.\n",
    "\n",
    "Remove all of the rows that contain a `NaN` in any column. **Make sure you actually store this new version of your dataframe either in the original variable name or in a new variable name**. If everything went as intended, you should find that you have 793 rows left over."
   ]
  },
  {
   "cell_type": "code",
   "execution_count": null,
   "metadata": {},
   "outputs": [],
   "source": [
    "# Put your code here \n"
   ]
  },
  {
   "cell_type": "code",
   "execution_count": 4,
   "metadata": {},
   "outputs": [
    {
     "data": {
      "text/html": [
       "<div>\n",
       "<style scoped>\n",
       "    .dataframe tbody tr th:only-of-type {\n",
       "        vertical-align: middle;\n",
       "    }\n",
       "\n",
       "    .dataframe tbody tr th {\n",
       "        vertical-align: top;\n",
       "    }\n",
       "\n",
       "    .dataframe thead th {\n",
       "        text-align: right;\n",
       "    }\n",
       "</style>\n",
       "<table border=\"1\" class=\"dataframe\">\n",
       "  <thead>\n",
       "    <tr style=\"text-align: right;\">\n",
       "      <th></th>\n",
       "      <th>label</th>\n",
       "      <th>feature_1</th>\n",
       "      <th>feature_2</th>\n",
       "      <th>feature_3</th>\n",
       "      <th>feature_4</th>\n",
       "      <th>feature_5</th>\n",
       "      <th>feature_6</th>\n",
       "      <th>feature_7</th>\n",
       "      <th>feature_8</th>\n",
       "      <th>feature_9</th>\n",
       "      <th>feature_10</th>\n",
       "    </tr>\n",
       "  </thead>\n",
       "  <tbody>\n",
       "    <tr>\n",
       "      <th>0</th>\n",
       "      <td>1</td>\n",
       "      <td>0.000168</td>\n",
       "      <td>1.089799</td>\n",
       "      <td>3.706677</td>\n",
       "      <td>1.839418</td>\n",
       "      <td>1.000414</td>\n",
       "      <td>0.751246</td>\n",
       "      <td>-0.077189</td>\n",
       "      <td>0.949589</td>\n",
       "      <td>1.641961</td>\n",
       "      <td>1.102132</td>\n",
       "    </tr>\n",
       "    <tr>\n",
       "      <th>3</th>\n",
       "      <td>1</td>\n",
       "      <td>0.690140</td>\n",
       "      <td>0.000000</td>\n",
       "      <td>0.687331</td>\n",
       "      <td>0.000000</td>\n",
       "      <td>0.527291</td>\n",
       "      <td>0.185705</td>\n",
       "      <td>-0.089479</td>\n",
       "      <td>-0.379929</td>\n",
       "      <td>-0.093369</td>\n",
       "      <td>0.272125</td>\n",
       "    </tr>\n",
       "    <tr>\n",
       "      <th>4</th>\n",
       "      <td>1</td>\n",
       "      <td>1.376770</td>\n",
       "      <td>0.631267</td>\n",
       "      <td>2.090756</td>\n",
       "      <td>1.581667</td>\n",
       "      <td>0.793976</td>\n",
       "      <td>0.846570</td>\n",
       "      <td>0.178551</td>\n",
       "      <td>0.245401</td>\n",
       "      <td>1.221811</td>\n",
       "      <td>0.111456</td>\n",
       "    </tr>\n",
       "    <tr>\n",
       "      <th>6</th>\n",
       "      <td>1</td>\n",
       "      <td>0.407187</td>\n",
       "      <td>0.590095</td>\n",
       "      <td>0.063048</td>\n",
       "      <td>0.559918</td>\n",
       "      <td>0.370942</td>\n",
       "      <td>0.084975</td>\n",
       "      <td>0.486121</td>\n",
       "      <td>0.207094</td>\n",
       "      <td>0.660959</td>\n",
       "      <td>0.326050</td>\n",
       "    </tr>\n",
       "    <tr>\n",
       "      <th>8</th>\n",
       "      <td>1</td>\n",
       "      <td>1.238114</td>\n",
       "      <td>1.268546</td>\n",
       "      <td>1.515984</td>\n",
       "      <td>1.174424</td>\n",
       "      <td>0.520594</td>\n",
       "      <td>1.222930</td>\n",
       "      <td>0.268151</td>\n",
       "      <td>0.983738</td>\n",
       "      <td>0.952295</td>\n",
       "      <td>0.460386</td>\n",
       "    </tr>\n",
       "    <tr>\n",
       "      <th>...</th>\n",
       "      <td>...</td>\n",
       "      <td>...</td>\n",
       "      <td>...</td>\n",
       "      <td>...</td>\n",
       "      <td>...</td>\n",
       "      <td>...</td>\n",
       "      <td>...</td>\n",
       "      <td>...</td>\n",
       "      <td>...</td>\n",
       "      <td>...</td>\n",
       "      <td>...</td>\n",
       "    </tr>\n",
       "    <tr>\n",
       "      <th>995</th>\n",
       "      <td>0</td>\n",
       "      <td>1.539002</td>\n",
       "      <td>0.499277</td>\n",
       "      <td>0.000000</td>\n",
       "      <td>1.934047</td>\n",
       "      <td>0.000000</td>\n",
       "      <td>0.750042</td>\n",
       "      <td>0.605361</td>\n",
       "      <td>0.436925</td>\n",
       "      <td>1.426063</td>\n",
       "      <td>0.540208</td>\n",
       "    </tr>\n",
       "    <tr>\n",
       "      <th>996</th>\n",
       "      <td>0</td>\n",
       "      <td>0.004665</td>\n",
       "      <td>0.356522</td>\n",
       "      <td>0.000000</td>\n",
       "      <td>1.646765</td>\n",
       "      <td>0.198733</td>\n",
       "      <td>0.605987</td>\n",
       "      <td>0.306014</td>\n",
       "      <td>0.437594</td>\n",
       "      <td>1.220802</td>\n",
       "      <td>0.908293</td>\n",
       "    </tr>\n",
       "    <tr>\n",
       "      <th>997</th>\n",
       "      <td>0</td>\n",
       "      <td>0.368634</td>\n",
       "      <td>2.356287</td>\n",
       "      <td>1.937731</td>\n",
       "      <td>0.684271</td>\n",
       "      <td>1.801650</td>\n",
       "      <td>1.492007</td>\n",
       "      <td>0.463434</td>\n",
       "      <td>1.313578</td>\n",
       "      <td>0.908521</td>\n",
       "      <td>0.958253</td>\n",
       "    </tr>\n",
       "    <tr>\n",
       "      <th>998</th>\n",
       "      <td>0</td>\n",
       "      <td>0.000000</td>\n",
       "      <td>1.668051</td>\n",
       "      <td>0.000000</td>\n",
       "      <td>1.213437</td>\n",
       "      <td>0.403462</td>\n",
       "      <td>1.526797</td>\n",
       "      <td>0.274236</td>\n",
       "      <td>1.283074</td>\n",
       "      <td>0.795663</td>\n",
       "      <td>0.757853</td>\n",
       "    </tr>\n",
       "    <tr>\n",
       "      <th>999</th>\n",
       "      <td>0</td>\n",
       "      <td>1.177402</td>\n",
       "      <td>0.000000</td>\n",
       "      <td>1.970539</td>\n",
       "      <td>0.119612</td>\n",
       "      <td>0.777841</td>\n",
       "      <td>-0.106966</td>\n",
       "      <td>0.368507</td>\n",
       "      <td>0.138330</td>\n",
       "      <td>0.340818</td>\n",
       "      <td>-0.378622</td>\n",
       "    </tr>\n",
       "  </tbody>\n",
       "</table>\n",
       "<p>793 rows × 11 columns</p>\n",
       "</div>"
      ],
      "text/plain": [
       "     label  feature_1  feature_2  feature_3  feature_4  feature_5  feature_6  \\\n",
       "0        1   0.000168   1.089799   3.706677   1.839418   1.000414   0.751246   \n",
       "3        1   0.690140   0.000000   0.687331   0.000000   0.527291   0.185705   \n",
       "4        1   1.376770   0.631267   2.090756   1.581667   0.793976   0.846570   \n",
       "6        1   0.407187   0.590095   0.063048   0.559918   0.370942   0.084975   \n",
       "8        1   1.238114   1.268546   1.515984   1.174424   0.520594   1.222930   \n",
       "..     ...        ...        ...        ...        ...        ...        ...   \n",
       "995      0   1.539002   0.499277   0.000000   1.934047   0.000000   0.750042   \n",
       "996      0   0.004665   0.356522   0.000000   1.646765   0.198733   0.605987   \n",
       "997      0   0.368634   2.356287   1.937731   0.684271   1.801650   1.492007   \n",
       "998      0   0.000000   1.668051   0.000000   1.213437   0.403462   1.526797   \n",
       "999      0   1.177402   0.000000   1.970539   0.119612   0.777841  -0.106966   \n",
       "\n",
       "     feature_7  feature_8  feature_9  feature_10  \n",
       "0    -0.077189   0.949589   1.641961    1.102132  \n",
       "3    -0.089479  -0.379929  -0.093369    0.272125  \n",
       "4     0.178551   0.245401   1.221811    0.111456  \n",
       "6     0.486121   0.207094   0.660959    0.326050  \n",
       "8     0.268151   0.983738   0.952295    0.460386  \n",
       "..         ...        ...        ...         ...  \n",
       "995   0.605361   0.436925   1.426063    0.540208  \n",
       "996   0.306014   0.437594   1.220802    0.908293  \n",
       "997   0.463434   1.313578   0.908521    0.958253  \n",
       "998   0.274236   1.283074   0.795663    0.757853  \n",
       "999   0.368507   0.138330   0.340818   -0.378622  \n",
       "\n",
       "[793 rows x 11 columns]"
      ]
     },
     "execution_count": 4,
     "metadata": {},
     "output_type": "execute_result"
    }
   ],
   "source": [
    "### ANSWER\n",
    "df = df.dropna()\n",
    "df"
   ]
  },
  {
   "cell_type": "markdown",
   "metadata": {},
   "source": [
    "**&#9989; Question 2.1.4 (1 point):** As we've seen when working with `sklearn` it can be much easier to work with the data if we have separate variables: one that stores the feature matrix and one that stores the class labels.\n",
    "\n",
    "Split your DataFrame so that you have two separate DataFrames: (1) one called `features`, which contains all columns of features; and (2) one called `labels`, which is a single-column dataframe that contains all of the *new* integer labels you just created. "
   ]
  },
  {
   "cell_type": "code",
   "execution_count": null,
   "metadata": {},
   "outputs": [],
   "source": [
    "# Put your code here\n"
   ]
  },
  {
   "cell_type": "code",
   "execution_count": 5,
   "metadata": {},
   "outputs": [],
   "source": [
    "### ANSWER\n",
    "features = df.drop(columns='label')\n",
    "labels = df['label']"
   ]
  },
  {
   "cell_type": "code",
   "execution_count": 6,
   "metadata": {
    "tags": []
   },
   "outputs": [
    {
     "data": {
      "text/html": [
       "<div>\n",
       "<style scoped>\n",
       "    .dataframe tbody tr th:only-of-type {\n",
       "        vertical-align: middle;\n",
       "    }\n",
       "\n",
       "    .dataframe tbody tr th {\n",
       "        vertical-align: top;\n",
       "    }\n",
       "\n",
       "    .dataframe thead th {\n",
       "        text-align: right;\n",
       "    }\n",
       "</style>\n",
       "<table border=\"1\" class=\"dataframe\">\n",
       "  <thead>\n",
       "    <tr style=\"text-align: right;\">\n",
       "      <th></th>\n",
       "      <th>feature_1</th>\n",
       "      <th>feature_2</th>\n",
       "      <th>feature_3</th>\n",
       "      <th>feature_4</th>\n",
       "      <th>feature_5</th>\n",
       "      <th>feature_6</th>\n",
       "      <th>feature_7</th>\n",
       "      <th>feature_8</th>\n",
       "      <th>feature_9</th>\n",
       "      <th>feature_10</th>\n",
       "    </tr>\n",
       "  </thead>\n",
       "  <tbody>\n",
       "    <tr>\n",
       "      <th>0</th>\n",
       "      <td>0.000168</td>\n",
       "      <td>1.089799</td>\n",
       "      <td>3.706677</td>\n",
       "      <td>1.839418</td>\n",
       "      <td>1.000414</td>\n",
       "      <td>0.751246</td>\n",
       "      <td>-0.077189</td>\n",
       "      <td>0.949589</td>\n",
       "      <td>1.641961</td>\n",
       "      <td>1.102132</td>\n",
       "    </tr>\n",
       "    <tr>\n",
       "      <th>3</th>\n",
       "      <td>0.690140</td>\n",
       "      <td>0.000000</td>\n",
       "      <td>0.687331</td>\n",
       "      <td>0.000000</td>\n",
       "      <td>0.527291</td>\n",
       "      <td>0.185705</td>\n",
       "      <td>-0.089479</td>\n",
       "      <td>-0.379929</td>\n",
       "      <td>-0.093369</td>\n",
       "      <td>0.272125</td>\n",
       "    </tr>\n",
       "    <tr>\n",
       "      <th>4</th>\n",
       "      <td>1.376770</td>\n",
       "      <td>0.631267</td>\n",
       "      <td>2.090756</td>\n",
       "      <td>1.581667</td>\n",
       "      <td>0.793976</td>\n",
       "      <td>0.846570</td>\n",
       "      <td>0.178551</td>\n",
       "      <td>0.245401</td>\n",
       "      <td>1.221811</td>\n",
       "      <td>0.111456</td>\n",
       "    </tr>\n",
       "    <tr>\n",
       "      <th>6</th>\n",
       "      <td>0.407187</td>\n",
       "      <td>0.590095</td>\n",
       "      <td>0.063048</td>\n",
       "      <td>0.559918</td>\n",
       "      <td>0.370942</td>\n",
       "      <td>0.084975</td>\n",
       "      <td>0.486121</td>\n",
       "      <td>0.207094</td>\n",
       "      <td>0.660959</td>\n",
       "      <td>0.326050</td>\n",
       "    </tr>\n",
       "    <tr>\n",
       "      <th>8</th>\n",
       "      <td>1.238114</td>\n",
       "      <td>1.268546</td>\n",
       "      <td>1.515984</td>\n",
       "      <td>1.174424</td>\n",
       "      <td>0.520594</td>\n",
       "      <td>1.222930</td>\n",
       "      <td>0.268151</td>\n",
       "      <td>0.983738</td>\n",
       "      <td>0.952295</td>\n",
       "      <td>0.460386</td>\n",
       "    </tr>\n",
       "    <tr>\n",
       "      <th>...</th>\n",
       "      <td>...</td>\n",
       "      <td>...</td>\n",
       "      <td>...</td>\n",
       "      <td>...</td>\n",
       "      <td>...</td>\n",
       "      <td>...</td>\n",
       "      <td>...</td>\n",
       "      <td>...</td>\n",
       "      <td>...</td>\n",
       "      <td>...</td>\n",
       "    </tr>\n",
       "    <tr>\n",
       "      <th>995</th>\n",
       "      <td>1.539002</td>\n",
       "      <td>0.499277</td>\n",
       "      <td>0.000000</td>\n",
       "      <td>1.934047</td>\n",
       "      <td>0.000000</td>\n",
       "      <td>0.750042</td>\n",
       "      <td>0.605361</td>\n",
       "      <td>0.436925</td>\n",
       "      <td>1.426063</td>\n",
       "      <td>0.540208</td>\n",
       "    </tr>\n",
       "    <tr>\n",
       "      <th>996</th>\n",
       "      <td>0.004665</td>\n",
       "      <td>0.356522</td>\n",
       "      <td>0.000000</td>\n",
       "      <td>1.646765</td>\n",
       "      <td>0.198733</td>\n",
       "      <td>0.605987</td>\n",
       "      <td>0.306014</td>\n",
       "      <td>0.437594</td>\n",
       "      <td>1.220802</td>\n",
       "      <td>0.908293</td>\n",
       "    </tr>\n",
       "    <tr>\n",
       "      <th>997</th>\n",
       "      <td>0.368634</td>\n",
       "      <td>2.356287</td>\n",
       "      <td>1.937731</td>\n",
       "      <td>0.684271</td>\n",
       "      <td>1.801650</td>\n",
       "      <td>1.492007</td>\n",
       "      <td>0.463434</td>\n",
       "      <td>1.313578</td>\n",
       "      <td>0.908521</td>\n",
       "      <td>0.958253</td>\n",
       "    </tr>\n",
       "    <tr>\n",
       "      <th>998</th>\n",
       "      <td>0.000000</td>\n",
       "      <td>1.668051</td>\n",
       "      <td>0.000000</td>\n",
       "      <td>1.213437</td>\n",
       "      <td>0.403462</td>\n",
       "      <td>1.526797</td>\n",
       "      <td>0.274236</td>\n",
       "      <td>1.283074</td>\n",
       "      <td>0.795663</td>\n",
       "      <td>0.757853</td>\n",
       "    </tr>\n",
       "    <tr>\n",
       "      <th>999</th>\n",
       "      <td>1.177402</td>\n",
       "      <td>0.000000</td>\n",
       "      <td>1.970539</td>\n",
       "      <td>0.119612</td>\n",
       "      <td>0.777841</td>\n",
       "      <td>-0.106966</td>\n",
       "      <td>0.368507</td>\n",
       "      <td>0.138330</td>\n",
       "      <td>0.340818</td>\n",
       "      <td>-0.378622</td>\n",
       "    </tr>\n",
       "  </tbody>\n",
       "</table>\n",
       "<p>793 rows × 10 columns</p>\n",
       "</div>"
      ],
      "text/plain": [
       "     feature_1  feature_2  feature_3  feature_4  feature_5  feature_6  \\\n",
       "0     0.000168   1.089799   3.706677   1.839418   1.000414   0.751246   \n",
       "3     0.690140   0.000000   0.687331   0.000000   0.527291   0.185705   \n",
       "4     1.376770   0.631267   2.090756   1.581667   0.793976   0.846570   \n",
       "6     0.407187   0.590095   0.063048   0.559918   0.370942   0.084975   \n",
       "8     1.238114   1.268546   1.515984   1.174424   0.520594   1.222930   \n",
       "..         ...        ...        ...        ...        ...        ...   \n",
       "995   1.539002   0.499277   0.000000   1.934047   0.000000   0.750042   \n",
       "996   0.004665   0.356522   0.000000   1.646765   0.198733   0.605987   \n",
       "997   0.368634   2.356287   1.937731   0.684271   1.801650   1.492007   \n",
       "998   0.000000   1.668051   0.000000   1.213437   0.403462   1.526797   \n",
       "999   1.177402   0.000000   1.970539   0.119612   0.777841  -0.106966   \n",
       "\n",
       "     feature_7  feature_8  feature_9  feature_10  \n",
       "0    -0.077189   0.949589   1.641961    1.102132  \n",
       "3    -0.089479  -0.379929  -0.093369    0.272125  \n",
       "4     0.178551   0.245401   1.221811    0.111456  \n",
       "6     0.486121   0.207094   0.660959    0.326050  \n",
       "8     0.268151   0.983738   0.952295    0.460386  \n",
       "..         ...        ...        ...         ...  \n",
       "995   0.605361   0.436925   1.426063    0.540208  \n",
       "996   0.306014   0.437594   1.220802    0.908293  \n",
       "997   0.463434   1.313578   0.908521    0.958253  \n",
       "998   0.274236   1.283074   0.795663    0.757853  \n",
       "999   0.368507   0.138330   0.340818   -0.378622  \n",
       "\n",
       "[793 rows x 10 columns]"
      ]
     },
     "execution_count": 6,
     "metadata": {},
     "output_type": "execute_result"
    }
   ],
   "source": [
    "### ANSWER\n",
    "features"
   ]
  },
  {
   "cell_type": "code",
   "execution_count": 7,
   "metadata": {},
   "outputs": [
    {
     "data": {
      "text/plain": [
       "0      1\n",
       "3      1\n",
       "4      1\n",
       "6      1\n",
       "8      1\n",
       "      ..\n",
       "995    0\n",
       "996    0\n",
       "997    0\n",
       "998    0\n",
       "999    0\n",
       "Name: label, Length: 793, dtype: int64"
      ]
     },
     "execution_count": 7,
     "metadata": {},
     "output_type": "execute_result"
    }
   ],
   "source": [
    "### ANSWER\n",
    "labels"
   ]
  },
  {
   "cell_type": "markdown",
   "metadata": {},
   "source": [
    "&#9989; **Question 2.1.5 (1 point):** How balanced is your dataset? You need to write a bit of code to figure out how balanced your dataset is, by counting the numbers of data points of each classe label. "
   ]
  },
  {
   "cell_type": "code",
   "execution_count": null,
   "metadata": {},
   "outputs": [],
   "source": [
    "# Put your code here\n"
   ]
  },
  {
   "cell_type": "markdown",
   "metadata": {},
   "source": [
    "<font size=+3>&#9998;</font> Erase this and put your answer here."
   ]
  },
  {
   "cell_type": "code",
   "execution_count": 8,
   "metadata": {
    "scrolled": true
   },
   "outputs": [
    {
     "data": {
      "text/plain": [
       "0    402\n",
       "1    391\n",
       "Name: label, dtype: int64"
      ]
     },
     "execution_count": 8,
     "metadata": {},
     "output_type": "execute_result"
    }
   ],
   "source": [
    "### ANSWER\n",
    "labels.value_counts()\n",
    "\n",
    "### Balanced"
   ]
  },
  {
   "cell_type": "markdown",
   "metadata": {},
   "source": [
    "---\n",
    "### 2.2 Logistic Regression (7 points)\n",
    "\n",
    "For this part, you will apply logistic regression to tackle th classification problem: predicting class labels based on the features.\n",
    "\n",
    "**&#9989; Question 2.2.1 (1 point):** Split your data into a training and a testing set with a training set representing 75% of your data. For reproducibility , set the `random_state` argument to `314159`. Print the lengths to show you have the right number of entries for the training and testing sets."
   ]
  },
  {
   "cell_type": "code",
   "execution_count": null,
   "metadata": {},
   "outputs": [],
   "source": [
    "# Put your code here\n"
   ]
  },
  {
   "cell_type": "code",
   "execution_count": 9,
   "metadata": {},
   "outputs": [
    {
     "name": "stdout",
     "output_type": "stream",
     "text": [
      "594\n",
      "199\n"
     ]
    }
   ],
   "source": [
    "### ANSWER ###\n",
    "x_train, x_test, y_train, y_test = train_test_split(features, labels, train_size=0.75, random_state=314159)\n",
    "print(len(x_train))\n",
    "print(len(x_test))"
   ]
  },
  {
   "cell_type": "markdown",
   "metadata": {},
   "source": [
    "**&#9989; Question 2.2.2 (3 points):** Build a Logistic regression model based on default settings.\n",
    "\n",
    "Add constant term in both training and testing features, fit Logistic regression based on the training set, and then print out the model summary.\n",
    "\n",
    "**Note:** You can use the built-in model `Logit` in `statsmodels.api`.\n"
   ]
  },
  {
   "cell_type": "code",
   "execution_count": null,
   "metadata": {},
   "outputs": [],
   "source": [
    "# Put your code here\n"
   ]
  },
  {
   "cell_type": "code",
   "execution_count": 10,
   "metadata": {},
   "outputs": [
    {
     "name": "stdout",
     "output_type": "stream",
     "text": [
      "Optimization terminated successfully.\n",
      "         Current function value: 0.620529\n",
      "         Iterations 6\n"
     ]
    },
    {
     "data": {
      "text/html": [
       "<table class=\"simpletable\">\n",
       "<caption>Logit Regression Results</caption>\n",
       "<tr>\n",
       "  <th>Dep. Variable:</th>         <td>label</td>      <th>  No. Observations:  </th>  <td>   594</td>  \n",
       "</tr>\n",
       "<tr>\n",
       "  <th>Model:</th>                 <td>Logit</td>      <th>  Df Residuals:      </th>  <td>   583</td>  \n",
       "</tr>\n",
       "<tr>\n",
       "  <th>Method:</th>                 <td>MLE</td>       <th>  Df Model:          </th>  <td>    10</td>  \n",
       "</tr>\n",
       "<tr>\n",
       "  <th>Date:</th>            <td>Sat, 02 Apr 2022</td> <th>  Pseudo R-squ.:     </th>  <td>0.1039</td>  \n",
       "</tr>\n",
       "<tr>\n",
       "  <th>Time:</th>                <td>18:16:39</td>     <th>  Log-Likelihood:    </th> <td> -368.59</td> \n",
       "</tr>\n",
       "<tr>\n",
       "  <th>converged:</th>             <td>True</td>       <th>  LL-Null:           </th> <td> -411.32</td> \n",
       "</tr>\n",
       "<tr>\n",
       "  <th>Covariance Type:</th>     <td>nonrobust</td>    <th>  LLR p-value:       </th> <td>4.244e-14</td>\n",
       "</tr>\n",
       "</table>\n",
       "<table class=\"simpletable\">\n",
       "<tr>\n",
       "       <td></td>         <th>coef</th>     <th>std err</th>      <th>z</th>      <th>P>|z|</th>  <th>[0.025</th>    <th>0.975]</th>  \n",
       "</tr>\n",
       "<tr>\n",
       "  <th>const</th>      <td>   -0.8952</td> <td>    0.234</td> <td>   -3.830</td> <td> 0.000</td> <td>   -1.353</td> <td>   -0.437</td>\n",
       "</tr>\n",
       "<tr>\n",
       "  <th>feature_1</th>  <td>    0.5892</td> <td>    0.158</td> <td>    3.721</td> <td> 0.000</td> <td>    0.279</td> <td>    0.900</td>\n",
       "</tr>\n",
       "<tr>\n",
       "  <th>feature_2</th>  <td>    0.2239</td> <td>    0.427</td> <td>    0.525</td> <td> 0.600</td> <td>   -0.612</td> <td>    1.060</td>\n",
       "</tr>\n",
       "<tr>\n",
       "  <th>feature_3</th>  <td>    0.3242</td> <td>    0.072</td> <td>    4.475</td> <td> 0.000</td> <td>    0.182</td> <td>    0.466</td>\n",
       "</tr>\n",
       "<tr>\n",
       "  <th>feature_4</th>  <td>   -0.3273</td> <td>    0.332</td> <td>   -0.985</td> <td> 0.325</td> <td>   -0.979</td> <td>    0.324</td>\n",
       "</tr>\n",
       "<tr>\n",
       "  <th>feature_5</th>  <td>   -0.0688</td> <td>    0.150</td> <td>   -0.460</td> <td> 0.646</td> <td>   -0.362</td> <td>    0.224</td>\n",
       "</tr>\n",
       "<tr>\n",
       "  <th>feature_6</th>  <td>    0.2728</td> <td>    0.462</td> <td>    0.590</td> <td> 0.555</td> <td>   -0.633</td> <td>    1.179</td>\n",
       "</tr>\n",
       "<tr>\n",
       "  <th>feature_7</th>  <td>   -0.3599</td> <td>    0.437</td> <td>   -0.823</td> <td> 0.410</td> <td>   -1.217</td> <td>    0.497</td>\n",
       "</tr>\n",
       "<tr>\n",
       "  <th>feature_8</th>  <td>   -0.2714</td> <td>    0.440</td> <td>   -0.617</td> <td> 0.537</td> <td>   -1.133</td> <td>    0.590</td>\n",
       "</tr>\n",
       "<tr>\n",
       "  <th>feature_9</th>  <td>   -0.0728</td> <td>    0.435</td> <td>   -0.167</td> <td> 0.867</td> <td>   -0.925</td> <td>    0.780</td>\n",
       "</tr>\n",
       "<tr>\n",
       "  <th>feature_10</th> <td>   -0.0810</td> <td>    0.255</td> <td>   -0.317</td> <td> 0.751</td> <td>   -0.581</td> <td>    0.419</td>\n",
       "</tr>\n",
       "</table>"
      ],
      "text/plain": [
       "<class 'statsmodels.iolib.summary.Summary'>\n",
       "\"\"\"\n",
       "                           Logit Regression Results                           \n",
       "==============================================================================\n",
       "Dep. Variable:                  label   No. Observations:                  594\n",
       "Model:                          Logit   Df Residuals:                      583\n",
       "Method:                           MLE   Df Model:                           10\n",
       "Date:                Sat, 02 Apr 2022   Pseudo R-squ.:                  0.1039\n",
       "Time:                        18:16:39   Log-Likelihood:                -368.59\n",
       "converged:                       True   LL-Null:                       -411.32\n",
       "Covariance Type:            nonrobust   LLR p-value:                 4.244e-14\n",
       "==============================================================================\n",
       "                 coef    std err          z      P>|z|      [0.025      0.975]\n",
       "------------------------------------------------------------------------------\n",
       "const         -0.8952      0.234     -3.830      0.000      -1.353      -0.437\n",
       "feature_1      0.5892      0.158      3.721      0.000       0.279       0.900\n",
       "feature_2      0.2239      0.427      0.525      0.600      -0.612       1.060\n",
       "feature_3      0.3242      0.072      4.475      0.000       0.182       0.466\n",
       "feature_4     -0.3273      0.332     -0.985      0.325      -0.979       0.324\n",
       "feature_5     -0.0688      0.150     -0.460      0.646      -0.362       0.224\n",
       "feature_6      0.2728      0.462      0.590      0.555      -0.633       1.179\n",
       "feature_7     -0.3599      0.437     -0.823      0.410      -1.217       0.497\n",
       "feature_8     -0.2714      0.440     -0.617      0.537      -1.133       0.590\n",
       "feature_9     -0.0728      0.435     -0.167      0.867      -0.925       0.780\n",
       "feature_10    -0.0810      0.255     -0.317      0.751      -0.581       0.419\n",
       "==============================================================================\n",
       "\"\"\""
      ]
     },
     "execution_count": 10,
     "metadata": {},
     "output_type": "execute_result"
    }
   ],
   "source": [
    "### ANSWER ###\n",
    "x_train_add = sm.add_constant(x_train)\n",
    "x_test_add = sm.add_constant(x_test)\n",
    "\n",
    "model = sm.Logit(y_train,x_train_add).fit()\n",
    "model.summary()"
   ]
  },
  {
   "cell_type": "markdown",
   "metadata": {},
   "source": [
    "&#9989; **Question 2.2.3 (1 point):** What is the Pseudo R^2? Which features have p-value < 0.05?"
   ]
  },
  {
   "cell_type": "markdown",
   "metadata": {},
   "source": [
    "<font size=+3>&#9998;</font> Erase this and put your answer here."
   ]
  },
  {
   "cell_type": "markdown",
   "metadata": {},
   "source": [
    "###ANSWER\n",
    "\n",
    "R^2 = 0.1039. feature 1, 3 and constant term have p-value < 0.05"
   ]
  },
  {
   "cell_type": "markdown",
   "metadata": {},
   "source": [
    "&#9989; **Question 2.2.4 (2 points):** Make predictions for the testing set using the trained model.\n",
    "\n",
    "Note: the logistic regression model predicts the probability of belonging to class 1. To make the final binary classification, let's the threshold to be 0.5, which means that every sample in the testing set with predicted probability scores greater than 0.5 will be predicted as '1', and other samples with predicted probability less than 0.5 will be predicted as '0'. \n",
    "\n",
    "Show the model's accuracy score based on the testing set."
   ]
  },
  {
   "cell_type": "code",
   "execution_count": null,
   "metadata": {},
   "outputs": [],
   "source": [
    "# Put your code here\n"
   ]
  },
  {
   "cell_type": "code",
   "execution_count": 11,
   "metadata": {},
   "outputs": [
    {
     "data": {
      "text/plain": [
       "0.6683417085427136"
      ]
     },
     "execution_count": 11,
     "metadata": {},
     "output_type": "execute_result"
    }
   ],
   "source": [
    "### ANSWER ###\n",
    "y_pred_score = model.predict(x_test_add)\n",
    "y_predict = (y_pred_score>0.5).astype('int')\n",
    "\n",
    "accuracy_score(y_test,y_predict)"
   ]
  },
  {
   "cell_type": "markdown",
   "metadata": {},
   "source": [
    "---\n",
    "### &#128721; STOP\n",
    "**Pause to commit your changes to your Git repository!**\n",
    "\n",
    "Take a moment to save your notebook, commit the changes to your Git repository using the commit message \"Committing Part 2\", and push the changes to GitHub.\n",
    "\n",
    "---"
   ]
  },
  {
   "cell_type": "markdown",
   "metadata": {},
   "source": [
    "---\n",
    "## Part 3. Perceptron (5 points)\n",
    "\n",
    "For this part, you will use another model, Perceptron, to continue working on the same classification problem.\n",
    "\n",
    "**&#9989; Question 3.1 (2 points):** (1) Build a Perceptron model with default settings, and fit the model based on the training set.\n",
    "\n",
    "(2) Apply the trained model on the test features to predict the labels for the testing dataset. \n",
    "\n",
    "(3) Evaluate the model by printing out the confusion matrix and classification report, based on its performance on the testing dataset.\n",
    "\n",
    "**Note:** You can use the built-in model `Perceptron` in `sklearn`."
   ]
  },
  {
   "cell_type": "code",
   "execution_count": null,
   "metadata": {},
   "outputs": [],
   "source": [
    "# Put your code here\n"
   ]
  },
  {
   "cell_type": "code",
   "execution_count": 12,
   "metadata": {},
   "outputs": [
    {
     "name": "stdout",
     "output_type": "stream",
     "text": [
      "[[ 90   4]\n",
      " [104   1]]\n",
      "              precision    recall  f1-score   support\n",
      "\n",
      "           0       0.46      0.96      0.63        94\n",
      "           1       0.20      0.01      0.02       105\n",
      "\n",
      "    accuracy                           0.46       199\n",
      "   macro avg       0.33      0.48      0.32       199\n",
      "weighted avg       0.32      0.46      0.30       199\n",
      "\n"
     ]
    }
   ],
   "source": [
    "### ANSWER ###\n",
    "\n",
    "myperceptron = Perceptron()\n",
    "myperceptron.fit(x_train, y_train)\n",
    "\n",
    "y_predict = myperceptron.predict(x_test)\n",
    "\n",
    "print(confusion_matrix(y_test,y_predict))\n",
    "print(classification_report(y_test,y_predict))"
   ]
  },
  {
   "cell_type": "markdown",
   "metadata": {},
   "source": [
    "**&#9989; Question 3.2 (3 points):**. Finding the best penalty term.\n",
    "\n",
    "`Perceptron` from the `sklearn` can employ different penalty terms, including `l1`, `l2`, and `elasticnet` (Note: check the `penalty` argument of `Perceptron`). Apply the Perceptron on the training dataset again, based on different penalty terms (i.e. make 3 Perceptron models). Print out the accuray score of each model, based on the testing dataset. \n",
    "\n",
    "Which penalty term results in the best accuracy?"
   ]
  },
  {
   "cell_type": "code",
   "execution_count": null,
   "metadata": {},
   "outputs": [],
   "source": [
    "# Put your code here\n"
   ]
  },
  {
   "cell_type": "code",
   "execution_count": 13,
   "metadata": {},
   "outputs": [
    {
     "name": "stdout",
     "output_type": "stream",
     "text": [
      "0.4723618090452261\n",
      "0.5527638190954773\n",
      "0.4723618090452261\n"
     ]
    }
   ],
   "source": [
    "### ANSWER ###\n",
    "for pnty in ['l2','l1','elasticnet']:\n",
    "    myperceptron = Perceptron(penalty=pnty)\n",
    "    myperceptron.fit(x_train, y_train)\n",
    "    print(myperceptron.score(x_test,y_test))\n",
    "# L1 is best"
   ]
  },
  {
   "cell_type": "markdown",
   "metadata": {},
   "source": [
    "---\n",
    "### &#128721; STOP\n",
    "**Pause to commit your changes to your Git repository!**\n",
    "\n",
    "Take a moment to save your notebook, commit the changes to your Git repository using the commit message \"Committing Part 3\", and push the changes to GitHub.\n",
    "\n",
    "---"
   ]
  },
  {
   "cell_type": "markdown",
   "metadata": {},
   "source": [
    "---\n",
    "## Part 4. Principal Component Analysis (6 points)\n",
    "\n",
    "The full model uses all 10 features to predict the results. In many cases, we might need to see how close we can get with fewer features. But instead of simply removing features, we will use a Principal Component Analysis (PCA) to determine the combined features that contribute the most the model (through their accounted variance).\n",
    "\n",
    "**&#9989; Question 4.1 (1 point):** Do a little bit of data preparation before we perform our PCA.\n",
    "\n",
    "Because the features in our dataset have very different ranges of values, the variation captured by the PCA will be skewed by these relative differences. As a result, it is good practice to **normalize** the features so that they have comparable ranges of values. Thankfully, `sklearn` has a useful function for doing this!\n",
    "\n",
    "```from sklearn.preprocessing import MinMaxScaler```\n",
    "\n",
    "Perform a \"Min-Max\" scaling to normalize the features and store the new normalized features in a new dataframe called as `features_norm`."
   ]
  },
  {
   "cell_type": "code",
   "execution_count": null,
   "metadata": {},
   "outputs": [],
   "source": [
    "# Put your code here\n",
    "from sklearn.preprocessing import MinMaxScaler\n"
   ]
  },
  {
   "cell_type": "code",
   "execution_count": 14,
   "metadata": {},
   "outputs": [
    {
     "data": {
      "text/html": [
       "<div>\n",
       "<style scoped>\n",
       "    .dataframe tbody tr th:only-of-type {\n",
       "        vertical-align: middle;\n",
       "    }\n",
       "\n",
       "    .dataframe tbody tr th {\n",
       "        vertical-align: top;\n",
       "    }\n",
       "\n",
       "    .dataframe thead th {\n",
       "        text-align: right;\n",
       "    }\n",
       "</style>\n",
       "<table border=\"1\" class=\"dataframe\">\n",
       "  <thead>\n",
       "    <tr style=\"text-align: right;\">\n",
       "      <th></th>\n",
       "      <th>feature_1</th>\n",
       "      <th>feature_2</th>\n",
       "      <th>feature_3</th>\n",
       "      <th>feature_4</th>\n",
       "      <th>feature_5</th>\n",
       "      <th>feature_6</th>\n",
       "      <th>feature_7</th>\n",
       "      <th>feature_8</th>\n",
       "      <th>feature_9</th>\n",
       "      <th>feature_10</th>\n",
       "    </tr>\n",
       "  </thead>\n",
       "  <tbody>\n",
       "    <tr>\n",
       "      <th>0</th>\n",
       "      <td>0.000012</td>\n",
       "      <td>0.292383</td>\n",
       "      <td>0.538579</td>\n",
       "      <td>0.504567</td>\n",
       "      <td>0.279789</td>\n",
       "      <td>0.373396</td>\n",
       "      <td>0.084569</td>\n",
       "      <td>0.525016</td>\n",
       "      <td>0.666995</td>\n",
       "      <td>0.682334</td>\n",
       "    </tr>\n",
       "    <tr>\n",
       "      <th>3</th>\n",
       "      <td>0.051232</td>\n",
       "      <td>0.000000</td>\n",
       "      <td>0.099869</td>\n",
       "      <td>0.000000</td>\n",
       "      <td>0.147469</td>\n",
       "      <td>0.219089</td>\n",
       "      <td>0.081816</td>\n",
       "      <td>0.028220</td>\n",
       "      <td>0.136492</td>\n",
       "      <td>0.377400</td>\n",
       "    </tr>\n",
       "    <tr>\n",
       "      <th>4</th>\n",
       "      <td>0.102204</td>\n",
       "      <td>0.169363</td>\n",
       "      <td>0.303786</td>\n",
       "      <td>0.433864</td>\n",
       "      <td>0.222054</td>\n",
       "      <td>0.399405</td>\n",
       "      <td>0.141857</td>\n",
       "      <td>0.261885</td>\n",
       "      <td>0.538552</td>\n",
       "      <td>0.318372</td>\n",
       "    </tr>\n",
       "    <tr>\n",
       "      <th>6</th>\n",
       "      <td>0.030227</td>\n",
       "      <td>0.158317</td>\n",
       "      <td>0.009161</td>\n",
       "      <td>0.153590</td>\n",
       "      <td>0.103743</td>\n",
       "      <td>0.191606</td>\n",
       "      <td>0.210754</td>\n",
       "      <td>0.247571</td>\n",
       "      <td>0.367096</td>\n",
       "      <td>0.397211</td>\n",
       "    </tr>\n",
       "    <tr>\n",
       "      <th>8</th>\n",
       "      <td>0.091911</td>\n",
       "      <td>0.340339</td>\n",
       "      <td>0.220272</td>\n",
       "      <td>0.322154</td>\n",
       "      <td>0.145596</td>\n",
       "      <td>0.502093</td>\n",
       "      <td>0.161927</td>\n",
       "      <td>0.537776</td>\n",
       "      <td>0.456159</td>\n",
       "      <td>0.446565</td>\n",
       "    </tr>\n",
       "    <tr>\n",
       "      <th>...</th>\n",
       "      <td>...</td>\n",
       "      <td>...</td>\n",
       "      <td>...</td>\n",
       "      <td>...</td>\n",
       "      <td>...</td>\n",
       "      <td>...</td>\n",
       "      <td>...</td>\n",
       "      <td>...</td>\n",
       "      <td>...</td>\n",
       "      <td>...</td>\n",
       "    </tr>\n",
       "    <tr>\n",
       "      <th>995</th>\n",
       "      <td>0.114248</td>\n",
       "      <td>0.133951</td>\n",
       "      <td>0.000000</td>\n",
       "      <td>0.530525</td>\n",
       "      <td>0.000000</td>\n",
       "      <td>0.373067</td>\n",
       "      <td>0.237464</td>\n",
       "      <td>0.333451</td>\n",
       "      <td>0.600994</td>\n",
       "      <td>0.475890</td>\n",
       "    </tr>\n",
       "    <tr>\n",
       "      <th>996</th>\n",
       "      <td>0.000346</td>\n",
       "      <td>0.095651</td>\n",
       "      <td>0.000000</td>\n",
       "      <td>0.451721</td>\n",
       "      <td>0.055580</td>\n",
       "      <td>0.333762</td>\n",
       "      <td>0.170409</td>\n",
       "      <td>0.333701</td>\n",
       "      <td>0.538244</td>\n",
       "      <td>0.611120</td>\n",
       "    </tr>\n",
       "    <tr>\n",
       "      <th>997</th>\n",
       "      <td>0.027365</td>\n",
       "      <td>0.632170</td>\n",
       "      <td>0.281552</td>\n",
       "      <td>0.187701</td>\n",
       "      <td>0.503873</td>\n",
       "      <td>0.575510</td>\n",
       "      <td>0.205672</td>\n",
       "      <td>0.661026</td>\n",
       "      <td>0.442777</td>\n",
       "      <td>0.629475</td>\n",
       "    </tr>\n",
       "    <tr>\n",
       "      <th>998</th>\n",
       "      <td>0.000000</td>\n",
       "      <td>0.447522</td>\n",
       "      <td>0.000000</td>\n",
       "      <td>0.332856</td>\n",
       "      <td>0.112837</td>\n",
       "      <td>0.585003</td>\n",
       "      <td>0.163290</td>\n",
       "      <td>0.649628</td>\n",
       "      <td>0.408276</td>\n",
       "      <td>0.555850</td>\n",
       "    </tr>\n",
       "    <tr>\n",
       "      <th>999</th>\n",
       "      <td>0.087404</td>\n",
       "      <td>0.000000</td>\n",
       "      <td>0.286319</td>\n",
       "      <td>0.032811</td>\n",
       "      <td>0.217541</td>\n",
       "      <td>0.139235</td>\n",
       "      <td>0.184408</td>\n",
       "      <td>0.221876</td>\n",
       "      <td>0.269226</td>\n",
       "      <td>0.138324</td>\n",
       "    </tr>\n",
       "  </tbody>\n",
       "</table>\n",
       "<p>793 rows × 10 columns</p>\n",
       "</div>"
      ],
      "text/plain": [
       "     feature_1  feature_2  feature_3  feature_4  feature_5  feature_6  \\\n",
       "0     0.000012   0.292383   0.538579   0.504567   0.279789   0.373396   \n",
       "3     0.051232   0.000000   0.099869   0.000000   0.147469   0.219089   \n",
       "4     0.102204   0.169363   0.303786   0.433864   0.222054   0.399405   \n",
       "6     0.030227   0.158317   0.009161   0.153590   0.103743   0.191606   \n",
       "8     0.091911   0.340339   0.220272   0.322154   0.145596   0.502093   \n",
       "..         ...        ...        ...        ...        ...        ...   \n",
       "995   0.114248   0.133951   0.000000   0.530525   0.000000   0.373067   \n",
       "996   0.000346   0.095651   0.000000   0.451721   0.055580   0.333762   \n",
       "997   0.027365   0.632170   0.281552   0.187701   0.503873   0.575510   \n",
       "998   0.000000   0.447522   0.000000   0.332856   0.112837   0.585003   \n",
       "999   0.087404   0.000000   0.286319   0.032811   0.217541   0.139235   \n",
       "\n",
       "     feature_7  feature_8  feature_9  feature_10  \n",
       "0     0.084569   0.525016   0.666995    0.682334  \n",
       "3     0.081816   0.028220   0.136492    0.377400  \n",
       "4     0.141857   0.261885   0.538552    0.318372  \n",
       "6     0.210754   0.247571   0.367096    0.397211  \n",
       "8     0.161927   0.537776   0.456159    0.446565  \n",
       "..         ...        ...        ...         ...  \n",
       "995   0.237464   0.333451   0.600994    0.475890  \n",
       "996   0.170409   0.333701   0.538244    0.611120  \n",
       "997   0.205672   0.661026   0.442777    0.629475  \n",
       "998   0.163290   0.649628   0.408276    0.555850  \n",
       "999   0.184408   0.221876   0.269226    0.138324  \n",
       "\n",
       "[793 rows x 10 columns]"
      ]
     },
     "execution_count": 14,
     "metadata": {},
     "output_type": "execute_result"
    }
   ],
   "source": [
    "### ANSWER ###\n",
    "from sklearn.preprocessing import MinMaxScaler\n",
    "\n",
    "min_max_scaler = MinMaxScaler()\n",
    "features_norm = pd.DataFrame(min_max_scaler.fit_transform(features), columns=features.columns, index=features.index)\n",
    "features_norm"
   ]
  },
  {
   "cell_type": "markdown",
   "metadata": {},
   "source": [
    "**&#9989; Question 4.2 (1 point):** As you did in Question 2.2.1 above, split your new normalized features and corresponding labels (the labels are the same as before) into a training and a testing set, with the training set representing 75% of your data. For reproducibility , set the `random_state` argument to `314159`. Print the lengths to show you have the right number of entries."
   ]
  },
  {
   "cell_type": "code",
   "execution_count": null,
   "metadata": {},
   "outputs": [],
   "source": [
    "# Put your code here\n"
   ]
  },
  {
   "cell_type": "code",
   "execution_count": 15,
   "metadata": {},
   "outputs": [
    {
     "name": "stdout",
     "output_type": "stream",
     "text": [
      "594\n",
      "199\n"
     ]
    }
   ],
   "source": [
    "### ANSWER\n",
    "x_train, x_test, y_train, y_test = train_test_split(features_norm, labels, train_size=0.75, random_state=314159)\n",
    "print(len(x_train))\n",
    "print(len(x_test))"
   ]
  },
  {
   "cell_type": "markdown",
   "metadata": {},
   "source": [
    "**&#9989; Question 4.3 (3 points):** Run a Principle Component Analysis (PCA)\n",
    "\n",
    "Since we only have 10 features to start with, let's see how well we can do if we try to aggressively reduce the feature count and use only **3** principle components. We'll see how well we can predict the labels of dataset with just three!\n",
    "\n",
    "\n",
    "(1) Using `PCA()` and the associated `fit()` method, run a principle component analysis on your training features using only 3 components. \n",
    "\n",
    "(2) Transform both the test and training features using the result of your PCA. \n",
    "\n",
    "(3) Print the `explained_variance_ratio_`."
   ]
  },
  {
   "cell_type": "code",
   "execution_count": null,
   "metadata": {},
   "outputs": [],
   "source": [
    "# Put your code here\n"
   ]
  },
  {
   "cell_type": "code",
   "execution_count": 16,
   "metadata": {},
   "outputs": [
    {
     "name": "stdout",
     "output_type": "stream",
     "text": [
      "Total explained variance:  [0.29811269 0.24310656 0.17698509]\n"
     ]
    }
   ],
   "source": [
    "### ANSWER ###\n",
    "\n",
    "n_components = 3\n",
    "pca = PCA(n_components=n_components)\n",
    "_ = pca.fit(x_train)\n",
    "\n",
    "pca_x_train = pca.transform(x_train)\n",
    "pca_x_test = pca.transform(x_test)\n",
    "\n",
    "print('Total explained variance: ', pca.explained_variance_ratio_)"
   ]
  },
  {
   "cell_type": "markdown",
   "metadata": {},
   "source": [
    "&#9989; **Question 4.4 (1 point):** What is the total explained variance ratio captured by the 3 principle components? (just quote the number) How well do you think a model with these many features will perform? Why?"
   ]
  },
  {
   "cell_type": "markdown",
   "metadata": {},
   "source": [
    "<font size=+3>&#9998;</font> Erase this and put your answer here."
   ]
  },
  {
   "cell_type": "markdown",
   "metadata": {},
   "source": [
    "###ANSWER\n",
    "\n",
    "These 3 components account for roughly 72% of all variance. I expect the classifier should work fairly well with just 3 components because we've captured a large fraction of the variance, but it won't be able to do a perfect job because it doesn't have the remaining 28%."
   ]
  },
  {
   "cell_type": "markdown",
   "metadata": {},
   "source": [
    "---\n",
    "### &#128721; STOP\n",
    "**Pause to commit your changes to your Git repository!**\n",
    "\n",
    "Take a moment to save your notebook, commit the changes to your Git repository using the commit message \"Committing Part 4\", and push the changes to GitHub.\n",
    "\n",
    "---"
   ]
  },
  {
   "cell_type": "markdown",
   "metadata": {},
   "source": [
    "---\n",
    "## 5. Support vector machine based on PCA (14 points)\n",
    "\n",
    "### 5.1 Support vector machine (6 points)\n",
    "\n",
    "For this part, you will build SVC model using the 3 components from PCA, and do grid search to find the best hyperparameters."
   ]
  },
  {
   "cell_type": "markdown",
   "metadata": {},
   "source": [
    "**&#9989; Question 5.1.1 (2 points):** Build a linear SVC model with `C=0.1`, and fit it to the training set (using the 3 PCA components from the training set).\n",
    "\n",
    "Then use the test features to predict the labels for the testing set. \n",
    "\n",
    "Evaluate the model's performance using the **confusion matrix** and **classification report**."
   ]
  },
  {
   "cell_type": "code",
   "execution_count": null,
   "metadata": {},
   "outputs": [],
   "source": [
    "# Put your code here\n"
   ]
  },
  {
   "cell_type": "code",
   "execution_count": 17,
   "metadata": {},
   "outputs": [
    {
     "name": "stdout",
     "output_type": "stream",
     "text": [
      "[[69 25]\n",
      " [50 55]]\n",
      "              precision    recall  f1-score   support\n",
      "\n",
      "           0       0.58      0.73      0.65        94\n",
      "           1       0.69      0.52      0.59       105\n",
      "\n",
      "    accuracy                           0.62       199\n",
      "   macro avg       0.63      0.63      0.62       199\n",
      "weighted avg       0.64      0.62      0.62       199\n",
      "\n"
     ]
    }
   ],
   "source": [
    "### ANSWER ###\n",
    "\n",
    "svc = SVC(kernel='linear', C=0.1)\n",
    "svc.fit(pca_x_train, y_train)\n",
    "\n",
    "y_predict = svc.predict(pca_x_test)\n",
    "\n",
    "print(confusion_matrix(y_test,y_predict))\n",
    "print(classification_report(y_test,y_predict))"
   ]
  },
  {
   "cell_type": "markdown",
   "metadata": {},
   "source": [
    "**&#9989; Question 5.1.2 (3 points):** Find the best hyperparameters\n",
    "\n",
    "At this point, we have fit one SVC model and determined it's performance, but is it the best model? We can use `GridSearchCV` to find the best model (given our choices of parameters). Once we do that, we will use that \"best\" model for making predictions.\n",
    "\n",
    "Using the following parameters (`C` = `1e-3`, `0.01`, `0.1`, `1`, `10`, `100` and `gamma` = `1e-6`, `1e-5`, `1e-4`, `1e-3`, `0.01`, `0.1`) for both a `linear` and `rbf` kernel use `GridSearchCV` with the `SVC()` model to find the best fit parameters. Once, you've run the grid search, print the \"best estimators\"."
   ]
  },
  {
   "cell_type": "code",
   "execution_count": null,
   "metadata": {},
   "outputs": [],
   "source": [
    "# Put your code here\n"
   ]
  },
  {
   "cell_type": "code",
   "execution_count": 18,
   "metadata": {},
   "outputs": [
    {
     "data": {
      "text/plain": [
       "SVC(C=100, gamma=1e-06, kernel='linear')"
      ]
     },
     "execution_count": 18,
     "metadata": {},
     "output_type": "execute_result"
    }
   ],
   "source": [
    "### ANSWER\n",
    "\n",
    "parameters = {'kernel':('linear','rbf'), 'C':[1e-3, 0.01, 0.1, 1, 10, 100], 'gamma':[1e-6, 1e-5, 1e-4, 1e-3, 0.01, 0.1]}\n",
    "svc = SVC()\n",
    "clf = GridSearchCV(svc, parameters, cv = 5)\n",
    "clf.fit(pca_x_train, y_train)\n",
    "clf.best_estimator_"
   ]
  },
  {
   "cell_type": "markdown",
   "metadata": {},
   "source": [
    "&#9989; **Question 5.1.3 (1 point):**  Evaluate the best fit model\n",
    "\n",
    "Now that we have found the \"best estimators\", let's determine how good the fit is.\n",
    "\n",
    "Use the test features to predict the labels, based on the best model. Evaluate the performance using the **confusion matrix** and **classification report**."
   ]
  },
  {
   "cell_type": "code",
   "execution_count": null,
   "metadata": {},
   "outputs": [],
   "source": [
    "# Put your code here\n"
   ]
  },
  {
   "cell_type": "code",
   "execution_count": 19,
   "metadata": {},
   "outputs": [
    {
     "name": "stdout",
     "output_type": "stream",
     "text": [
      "[[63 31]\n",
      " [49 56]]\n",
      "              precision    recall  f1-score   support\n",
      "\n",
      "           0       0.56      0.67      0.61        94\n",
      "           1       0.64      0.53      0.58       105\n",
      "\n",
      "    accuracy                           0.60       199\n",
      "   macro avg       0.60      0.60      0.60       199\n",
      "weighted avg       0.61      0.60      0.60       199\n",
      "\n"
     ]
    }
   ],
   "source": [
    "### ANSWER\n",
    "y_predict = clf.predict(pca_x_test)\n",
    "print(confusion_matrix(y_test,y_predict))\n",
    "print(classification_report(y_test,y_predict))"
   ]
  },
  {
   "cell_type": "markdown",
   "metadata": {},
   "source": [
    "### 5.2 How well does PCA work? (8 points)\n",
    "The number of components we use in our PCA matters. Let's investigate how they matter by systematically building a model for any number of selected components. While this might seem a bit unnecessary for such a simple dataset, **this can be very useful for more complex datasets and models!**\n",
    "\n",
    "**&#9989; Question 5.2.1 (3 points):**\n",
    "\n",
    "To systematically explore how well PCA improves our classification model, we will do this by writing a function that \n",
    "* creates the PCA\n",
    "* creates the SVC model\n",
    "* uses `GridSearchCV` to find the best hyperparameters\n",
    "* predicts the labels using test data\n",
    "* returns the accuracy scores and the explained variance ratio.\n",
    "\n",
    "Just as you did in Question 5.1.2, use the following parameters (`C` = `1e-3`, `0.01`, `0.1`, `1`, `10`, `100` and `gamma` = `1e-6`, `1e-5`, `1e-4`, `1e-3`, `0.01`, `0.1`) for both a `linear` and `rbf` kernel use `GridSearchCV` with the `SVC()` model to find the best fit parameters.\n",
    "\n",
    "So, Your function will take as input:\n",
    "* the number of requested PCA components\n",
    "* the training feature data\n",
    "* the testing feature data\n",
    "* the training data labels\n",
    "* the test data labels\n",
    "\n",
    "and it should **return** the accuracy score for an SVC model fit to pca transformed features and the **total** explained variance ratio (i.e. the sum of the explained variance for each component)."
   ]
  },
  {
   "cell_type": "code",
   "execution_count": null,
   "metadata": {},
   "outputs": [],
   "source": [
    "# Put your code here\n",
    "\n",
    "def reduced_SVM(n_components, train_features, train_labels, test_features, test_labels):\n",
    "    "
   ]
  },
  {
   "cell_type": "code",
   "execution_count": 20,
   "metadata": {},
   "outputs": [],
   "source": [
    "### ANSWER ###\n",
    "\n",
    "def reduced_SVM(n_components, train_features, train_labels, test_features, test_labels):\n",
    "    \n",
    "    pca = PCA(n_components=n_components)\n",
    "    pca.fit(train_features)\n",
    "    \n",
    "    pca_train_features = pca.transform(train_features)\n",
    "    pca_test_features = pca.transform(test_features)\n",
    "    \n",
    "    parameters = {'kernel':('linear','rbf'), 'C':[1e-3, 0.01, 0.1, 1, 10, 100], 'gamma':[1e-6, 1e-5, 1e-4, 1e-3, 0.01, 0.1]}\n",
    "    svc = SVC()\n",
    "    clf = GridSearchCV(svc, parameters, cv = 5, n_jobs=-1)\n",
    "    clf.fit(pca_train_features, y_train)\n",
    "    print(clf.best_estimator_)\n",
    "\n",
    "    predict_labels = clf.predict(pca_test_features)\n",
    "    \n",
    "    return accuracy_score(test_labels, predict_labels), sum(pca.explained_variance_ratio_)"
   ]
  },
  {
   "cell_type": "markdown",
   "metadata": {},
   "source": [
    "**&#9989; Question 5.2.2 (2 points):**\n",
    "\n",
    "Now that you have created a function that returns the accuracy for a given number of components, we will use that to plot the how the accuracy of your SVC model changes when we increase the number of components used in the PCA.\n",
    "\n",
    "For 1 through 10 components, use your function above to compute and store (as a list) the accuracy of your models and the total explained variance ratio of your models."
   ]
  },
  {
   "cell_type": "code",
   "execution_count": null,
   "metadata": {},
   "outputs": [],
   "source": [
    "# Put your code here\n"
   ]
  },
  {
   "cell_type": "code",
   "execution_count": 21,
   "metadata": {},
   "outputs": [
    {
     "name": "stdout",
     "output_type": "stream",
     "text": [
      "SVC(C=100, gamma=0.01)\n",
      "Finished SVM with  1 components.\n",
      "SVC(C=1, gamma=1e-06, kernel='linear')\n",
      "Finished SVM with  2 components.\n",
      "SVC(C=100, gamma=1e-06, kernel='linear')\n",
      "Finished SVM with  3 components.\n",
      "SVC(C=10, gamma=0.01)\n",
      "Finished SVM with  4 components.\n",
      "SVC(C=10, gamma=0.1)\n",
      "Finished SVM with  5 components.\n",
      "SVC(C=1, gamma=1e-06, kernel='linear')\n",
      "Finished SVM with  6 components.\n",
      "SVC(C=1, gamma=1e-06, kernel='linear')\n",
      "Finished SVM with  7 components.\n",
      "SVC(C=1, gamma=1e-06, kernel='linear')\n",
      "Finished SVM with  8 components.\n",
      "SVC(C=1, gamma=1e-06, kernel='linear')\n",
      "Finished SVM with  9 components.\n",
      "SVC(C=10, gamma=0.1)\n",
      "Finished SVM with  10 components.\n"
     ]
    }
   ],
   "source": [
    "### ANSWER ###\n",
    "\n",
    "a = []\n",
    "v = []\n",
    "components = np.arange(1,11,1)\n",
    "\n",
    "for component in components:\n",
    "    \n",
    "    a_temp, v_temp = reduced_SVM(component, x_train, y_train, x_test, y_test)\n",
    "    a.append(a_temp)\n",
    "    v.append(v_temp)\n",
    "    print('Finished SVM with ', component, 'components.')"
   ]
  },
  {
   "cell_type": "markdown",
   "metadata": {},
   "source": [
    "**&#9989; Question 5.2.3 (1 point):** Plot the accuracy vs # of components."
   ]
  },
  {
   "cell_type": "code",
   "execution_count": null,
   "metadata": {},
   "outputs": [],
   "source": [
    "# Put your code here\n"
   ]
  },
  {
   "cell_type": "code",
   "execution_count": 22,
   "metadata": {},
   "outputs": [
    {
     "data": {
      "text/plain": [
       "Text(0, 0.5, 'Accuracy')"
      ]
     },
     "execution_count": 22,
     "metadata": {},
     "output_type": "execute_result"
    },
    {
     "data": {
      "image/png": "[encoded data removed]",
      "text/plain": [
       "<Figure size 432x288 with 1 Axes>"
      ]
     },
     "metadata": {
      "needs_background": "light"
     },
     "output_type": "display_data"
    }
   ],
   "source": [
    "### ANSWER ###\n",
    "\n",
    "plt.plot(components,a, 'x--')\n",
    "plt.xlabel('Components')\n",
    "plt.ylabel('Accuracy')\n"
   ]
  },
  {
   "cell_type": "markdown",
   "metadata": {},
   "source": [
    "**&#9989; Question 5.2.4 (1 point):** Where does it seem like we have diminishing returns? That is, at what point is there no major increase in accuracy (or perhaps the accuracy is decreased) as we add additional components to the PCA?"
   ]
  },
  {
   "cell_type": "markdown",
   "metadata": {},
   "source": [
    "<font size=+3>&#9998;</font> Erase this and put your answer here."
   ]
  },
  {
   "cell_type": "markdown",
   "metadata": {},
   "source": [
    "###ANSWER \n",
    "\n",
    "Once we add the 5th princple component we get high accuracy and nothing is gained by adding other components."
   ]
  },
  {
   "cell_type": "markdown",
   "metadata": {},
   "source": [
    "**&#9989; Task 5.2.5 (1 point):** Plot the total explained variance ratio vs # of components. "
   ]
  },
  {
   "cell_type": "code",
   "execution_count": null,
   "metadata": {},
   "outputs": [],
   "source": [
    "# Put your code here\n"
   ]
  },
  {
   "cell_type": "code",
   "execution_count": 23,
   "metadata": {},
   "outputs": [
    {
     "data": {
      "text/plain": [
       "Text(0, 0.5, 'Explained Variance')"
      ]
     },
     "execution_count": 23,
     "metadata": {},
     "output_type": "execute_result"
    },
    {
     "data": {
      "image/png": "[encoded data removed]",
      "text/plain": [
       "<Figure size 432x288 with 1 Axes>"
      ]
     },
     "metadata": {
      "needs_background": "light"
     },
     "output_type": "display_data"
    }
   ],
   "source": [
    "### ANSWER ###\n",
    "\n",
    "plt.plot(components,v, 'x--')\n",
    "plt.xlabel('Components')\n",
    "plt.ylabel('Explained Variance')"
   ]
  },
  {
   "cell_type": "markdown",
   "metadata": {},
   "source": [
    "---\n",
    "### &#128721; STOP\n",
    "**Pause to commit your changes to your Git repository!**\n",
    "\n",
    "Take a moment to save your notebook, commit the changes to your Git repository using the commit message \"Committing Part 5\", and push the changes to GitHub.\n",
    "\n",
    "---"
   ]
  },
  {
   "cell_type": "markdown",
   "metadata": {},
   "source": [
    "---\n",
    "## Assignment wrap-up¶\n",
    "Please fill out the form that appears when you run the code below. **You must completely fill this out in order to receive credit for the assignment!**"
   ]
  },
  {
   "cell_type": "code",
   "execution_count": null,
   "metadata": {},
   "outputs": [],
   "source": [
    "from IPython.display import HTML\n",
    "HTML(\n",
    "\"\"\"\n",
    "<iframe \n",
    "\tsrc=\"https://forms.office.com/Pages/ResponsePage.aspx?id=MHEXIi9k2UGSEXQjetVofa-byNJHa0xBs0jOGcRl02lURU83U0ZHUUpWUUFRUzhCQ0JZWDQxVVRUVi4u\" \n",
    "\twidth=\"800px\" \n",
    "\theight=\"600px\" \n",
    "\tframeborder=\"0\" \n",
    "\tmarginheight=\"0\" \n",
    "\tmarginwidth=\"0\">\n",
    "\tLoading...\n",
    "</iframe>\n",
    "\"\"\"\n",
    ")"
   ]
  },
  {
   "cell_type": "markdown",
   "metadata": {},
   "source": [
    "### Congratulations, you're done!\n",
    "Submit this assignment by uploading it to the course Desire2Learn web page. Go to the \"Homework Assignments\" folder, find the submission folder for Homework #5, and upload your notebook."
   ]
  }
 ],
 "metadata": {
  "kernelspec": {
   "display_name": "Python 3 (ipykernel)",
   "language": "python",
   "name": "python3"
  },
  "language_info": {
   "codemirror_mode": {
    "name": "ipython",
    "version": 3
   },
   "file_extension": ".py",
   "mimetype": "text/x-python",
   "name": "python",
   "nbconvert_exporter": "python",
   "pygments_lexer": "ipython3",
   "version": "3.10.6"
  },
  "widgets": {
   "application/vnd.jupyter.widget-state+json": {
    "state": {},
    "version_major": 2,
    "version_minor": 0
   }
  }
 },
 "nbformat": 4,
 "nbformat_minor": 4
}
