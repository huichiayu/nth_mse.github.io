{
 "cells": [
  {
   "cell_type": "markdown",
   "id": "37abd0c1-f3bc-4c91-80b2-3b14f385ef97",
   "metadata": {},
   "source": [
    "# Homework 4\n",
    "# Perceptron, SVM, and PCA"
   ]
  },
  {
   "cell_type": "markdown",
   "id": "ed41a524-ade8-4277-bffc-7547379f9d22",
   "metadata": {},
   "source": [
    "# <p style=\"text-align: right;\"> &#9989; Put your name here.</p>\n",
    "# <p style=\"text-align: right;\"> &#9989; Put your _GitHub username_ here.</p>"
   ]
  },
  {
   "cell_type": "markdown",
   "id": "665e13b3-c564-4b25-9e3f-8bef7e3cd6e3",
   "metadata": {},
   "source": [
    "# Goal for this homework assignment\n",
    "We have worked some basics on perceptron, SVM, and PCA in the pre-class and in-class assignments. In this homework assignment, we will:\n",
    "\n",
    "* Continue to use git as the version control tool\n",
    "* Work on unfamiliar data\n",
    "* Use perceptron to classify data \n",
    "* Use SVM to classify data\n",
    "* Use principal component analysis to facilitate classification\n",
    "\n",
    "\n",
    "**This assignment is due by 11:59 pm on Friday, April 25th. Note that ONLY the copy on GITHUB will be graded.**  **There are 60 standard points possible in this assignment including points for Git commits/pushes. The distribution of points can be found in the section headers**."
   ]
  },
  {
   "cell_type": "markdown",
   "id": "199515ba-e709-40e2-a189-5da69a6f1699",
   "metadata": {},
   "source": [
    "---\n",
    "# Part 1: Git repository (6 points)\n",
    "\n",
    "You're going to add this assignment to the `cmse202-s25-turnin` repository you previously created. The history of progress on the assignment will be tracked via git commitments. \n",
    "\n",
    "**&#9989; Do the following**:\n",
    "\n",
    "1. Navigate to your `cmse202-s25-turnin` **local** repository and create a new directory called `hw-04`\n",
    "\n",
    "2. Move this notebook into that **new directory** in your repository. \n",
    "\n",
    "5. Double check to make sure your file is at the correct directory.\n",
    "\n",
    "6. Once you're certain that file and directory are correct, add this notebook to your repository, then make a commit and push it to GitHub. You may need to use `git push origin hw04` to push your file to GitHub.\n",
    "\n",
    "Finally, &#9989; **Do this**: Before you move on, put the command that your instructor should run to clone your repository in the markdown cell below. **Points for this part will be given for correctly setting up branch, etc., above, and for doing git commits/pushes mentioned throughout the assignment.**"
   ]
  },
  {
   "cell_type": "code",
   "execution_count": null,
   "id": "581669d7-83de-44fb-94ad-487f1117fc34",
   "metadata": {},
   "outputs": [],
   "source": [
    "### ANSWER ###\n",
    "# 1 pt for creating repotory\n",
    "# 1 pt for each commit"
   ]
  },
  {
   "cell_type": "markdown",
   "id": "329e549e-214b-4858-930f-e2b7c9015580",
   "metadata": {},
   "source": [
    "<font size=6 color=\"#009600\">&#9998;</font> Put your answer here"
   ]
  },
  {
   "cell_type": "markdown",
   "id": "45e93e6e-2297-490f-b1c8-a87bbd9d4814",
   "metadata": {},
   "source": [
    "**Important**: Double check you've added your Professor and your TA as collaborators to your \"turnin\" repository (you should have done this in the previous homework assignment).\n",
    "\n",
    "**Also important**: Make sure that the version of this notebook that you are working on is the same one that you just added to your repository! If you are working on a different copy of the notebook, **none of your changes will be tracked**!\n",
    "\n",
    "If everything went as intended, the file should now show up on your GitHub account in the \"`cmse202-s25-turnin`\" repository inside the `hw-04` directory that you just created.\n",
    "\n",
    "Periodically, **you'll be asked to commit your changes to the repository and push them to the remote GitHub location**. Of course, you can always commit your changes more often than that, if you wish.  It can be good to get into a habit of committing your changes any time you make a significant modification, or when you stop working on the problems for a bit."
   ]
  },
  {
   "cell_type": "markdown",
   "id": "40b2cd6e-5eac-4817-afad-c1d8ab86214b",
   "metadata": {},
   "source": [
    "---\n",
    "# Part 2: Deal with unfamiliar data (35 points)\n",
    "\n",
    "## Warm up with perceptron for binary classification\n",
    "## 2.1 Load up the dataset\n",
    "\n",
    "This data is obtained from Kaggle/diabetes. It contains multiple measured values and a label for whether the patient is diagnosed as diabetic. \n",
    "\n",
    "* Use commands to dowdload the dataset from `https://raw.githubusercontent.com/huichiayu/cmse202-s25-supllemental_data/refs/heads/main/HW04/diabetes_prediction_dataset.csv`\n",
    "* Use Pandas to load in the data and briefly examine it.\n",
    "* Succeed data load-up gets **2 pt**. "
   ]
  },
  {
   "cell_type": "code",
   "execution_count": null,
   "id": "c8dde6c3-799e-480b-ac67-a8e0d2716b7a",
   "metadata": {},
   "outputs": [],
   "source": [
    "# put your code here\n",
    "\n"
   ]
  },
  {
   "cell_type": "code",
   "execution_count": null,
   "id": "2124b501-1b2f-4545-8682-7be9adf7d631",
   "metadata": {},
   "outputs": [],
   "source": [
    "### ANSWER  ###\n",
    "# 1 pt for download and 1 pt for using pandas\n",
    "\n",
    "# ! Curl -O https://raw.githubusercontent.com/huichiayu/cmse202-s25-supllemental_data/refs/heads/main/HW01/diabetes_prediction_dataset.csv\n",
    "\n",
    "import pandas as pd\n",
    "diabetes_data = pd.read_csv('diabetes_prediction_dataset.csv')\n",
    "\n",
    "num_rows = diabetes_data.shape[0]\n",
    "print(num_rows)\n",
    "\n",
    "diabetes_data.head()"
   ]
  },
  {
   "cell_type": "markdown",
   "id": "2ac61eaf-8d5a-4889-8c9a-624aeefc511d",
   "metadata": {},
   "source": [
    "How many patients are in this dataset? What are features of the patients?"
   ]
  },
  {
   "cell_type": "markdown",
   "id": "bc156a61-260e-401d-a92d-d80a0016be0b",
   "metadata": {},
   "source": [
    "<font size=6 color=\"#009600\">&#9998;</font> Put your answer here"
   ]
  },
  {
   "cell_type": "markdown",
   "id": "82b0e656-57ad-4757-b1c5-fa51c9aef9f9",
   "metadata": {},
   "source": [
    "### Use your perceptron class built in Day18 and Day19 assignments to classify whether patients are diabetic.\n",
    "\n",
    "* You should see that there are some features that are non-numerics.\n",
    "* The first one is `gender`. Find the types of classes and convert them to numerics in your dataframe.\n",
    "* The second one is `smoking_history`, convert those string labels to numerics.\n",
    "* Note that since perceptron is a binary classifier, which only determines which side of the dividing line the data points reside, we should also convert the labels to `+1` and `-1`.\n",
    "* Completing data conversion gets **5 pt**."
   ]
  },
  {
   "cell_type": "code",
   "execution_count": null,
   "id": "4af4a995-58a7-4478-9e3e-b805ab21779f",
   "metadata": {},
   "outputs": [],
   "source": [
    "# put your code here\n"
   ]
  },
  {
   "cell_type": "code",
   "execution_count": null,
   "id": "9353865a-fb09-4f1c-b132-adbdfd41a7cc",
   "metadata": {},
   "outputs": [],
   "source": [
    "### ANSWER ###\n",
    "\n",
    "# 1 pt for finding number of label types, 1 pt for converting text labels to numerics\n",
    "gender_type = diabetes_data['gender'].unique().tolist()\n",
    "print(gender_type) \n",
    "diabetes_data['gender'] = pd.factorize(diabetes_data['gender'])[0]\n",
    "\n",
    "# 1 pt for finding number of label types, 1 pt for converting text labels to numerics\n",
    "smoke_his = diabetes_data['smoking_history'].unique().tolist()\n",
    "print(smoke_his)\n",
    "diabetes_data['smoking_history'] = pd.factorize(diabetes_data['smoking_history'])[0]\n",
    "\n",
    "# 1 pt for converting text labels to numerics\n",
    "diabetes_data['diabetes'] = diabetes_data['diabetes'].replace(0, -1)\n",
    "diabetes_data.head()"
   ]
  },
  {
   "cell_type": "markdown",
   "id": "88d2245b-3a9e-4b17-a5e3-b2d8365034db",
   "metadata": {},
   "source": [
    "### Now all feature varilables are numerics.\n",
    "\n",
    "### &#128721; STOP (1 Point)\n",
    "**Pause, save and commit your changes to your Git repository!**\n",
    "\n",
    "Take a moment to save your notebook, commit the changes to your Git repository with a meaningful commit message.\n",
    "\n",
    "\n",
    "\n",
    "---\n",
    "\n",
    "## 2.2 Binary perceptron classifier\n",
    "\n",
    "Copy your perceptron class to the cell below. \n",
    "\n",
    "* DO NOT use the one from statsmodel. We want to test the perceptron you built.\n",
    "* Note that your predict method should output `+1` or `-1` for positive or negative values, respectively.\n",
    "* A functional perceptron classifier gets **4 pt**."
   ]
  },
  {
   "cell_type": "code",
   "execution_count": null,
   "id": "22f7672c-5fc3-4c4f-8d06-ec88508c81e9",
   "metadata": {},
   "outputs": [],
   "source": [
    "# copy your perceptron class to his cell\n"
   ]
  },
  {
   "cell_type": "code",
   "execution_count": null,
   "id": "b6328b89-b22f-425a-88de-61ed3cc0a550",
   "metadata": {},
   "outputs": [],
   "source": [
    "### ANSWER  ###\n",
    "# each function get 1 pt\n",
    "\n",
    "import numpy as np\n",
    "\n",
    "class MyPerceptron():\n",
    "\n",
    "    def __init__ (self, labeled_data, iters, learning_rate):        \n",
    "        self.data = np.array(labeled_data)\n",
    "        self.weights = np.full((self.data.shape[1]), 1.0) # note that this is just an easy way to get \"number of features + 1\" and set them to 1.0\n",
    "        self.iters = iters\n",
    "        self.l_r = learning_rate\n",
    "        print(self.weights.shape)\n",
    "        \n",
    "    def predict(self, feature_set):\n",
    "        # print(\"Features: \",feature_set, \" weights: \", self.weights[1:])\n",
    "        res = np.dot(feature_set, self.weights[1:])\n",
    "        res += self.weights[0]\n",
    "        return (1 if res > 0 else -1)\n",
    "    \n",
    "    def fit(self):\n",
    "        for _ in range(self.iters):\n",
    "            for row in self.data:\n",
    "                update = self.l_r * (row[-1] - self.predict(row[:-1]))\n",
    "                self.weights[1:] += update * row[:-1]\n",
    "                self.weights[0] += update\n",
    "\n",
    "    def errors(self):\n",
    "        error_count = 0\n",
    "        for row in self.data:\n",
    "            # print(\"data: \", row[:-1], \"actual: \", row[-1], \"predict: \", self.predict(row[:-1]), \"weights: \", self.weights)\n",
    "            if (self.predict(row[:-1]) != row[-1]):\n",
    "                error_count += 1\n",
    "        print(\"Accuracy: \", 1.0-(error_count/len(self.data)))\n",
    "        print(\"Weights: \", self.weights[1:])\n",
    "        print(\"Bias weight:\", self.weights[0])"
   ]
  },
  {
   "cell_type": "markdown",
   "id": "c38cf279-13af-4402-94c4-2c418d3d97a5",
   "metadata": {},
   "source": [
    "* Split data to 70-30 train-test sets **1 pt**.\n",
    "* Train your perceptron.\n",
    "* Show the accuracy of your pereptron **2 pt**."
   ]
  },
  {
   "cell_type": "code",
   "execution_count": null,
   "id": "7986537a-e054-4286-91a4-9ba639e3c53d",
   "metadata": {},
   "outputs": [],
   "source": [
    "# put your code here\n"
   ]
  },
  {
   "cell_type": "code",
   "execution_count": null,
   "id": "7e4d8e8a-7d6d-4e6f-b030-35f6e6b897da",
   "metadata": {},
   "outputs": [],
   "source": [
    "### ANSWER \n",
    "# train-test split and train your perceptron\n",
    "\n",
    "from sklearn.model_selection import train_test_split\n",
    "import statsmodels.api as sm\n",
    "\n",
    "Dt = np.array(diabetes_data.values)\n",
    "X = Dt[:,:-1]\n",
    "y = Dt[:,-1]\n",
    "\n",
    "\n",
    "Xc = sm.add_constant(X)\n",
    "train_vectors, test_vectors, train_labels, test_labels = \\\n",
    "    train_test_split(Xc, y, test_size=0.3)\n",
    "train_labels = train_labels.reshape(-1, 1)\n",
    "test_labels = test_labels.reshape(-1, 1)\n",
    "# print(train_vectors.shape)\n",
    "# print(train_labels.shape)\n",
    "\n",
    "\n",
    "## my perceptron\n",
    "new_X = np.concatenate((train_vectors, train_labels.reshape(-1, 1)), axis=1)\n",
    "# print(new_X.shape)\n",
    "\n",
    "\n",
    "# train perceptron\n",
    "new_p = MyPerceptron(new_X,200,0.01)\n",
    "new_p.fit()\n",
    "new_p.errors()\n"
   ]
  },
  {
   "cell_type": "markdown",
   "id": "22521abe-9552-41ec-8512-6995a7245ed7",
   "metadata": {},
   "source": [
    "* Use test set to evaulate the accuracy of your perceptron. What is your accuracy? (**2 pt**)"
   ]
  },
  {
   "cell_type": "code",
   "execution_count": null,
   "id": "3f6dd4c5-7bc1-4e9b-83e4-0417543b52d3",
   "metadata": {},
   "outputs": [],
   "source": [
    "# put your code here\n"
   ]
  },
  {
   "cell_type": "code",
   "execution_count": null,
   "id": "d751db85-77a5-4a05-b532-a6817cb1b207",
   "metadata": {},
   "outputs": [],
   "source": [
    "### ANSWER \n",
    "# use perceptron to predict the labels\n",
    "acc_cnt = 0\n",
    "for i in range(0,test_vectors.shape[0]):\n",
    "    val = new_p.predict(test_vectors[i,:])\n",
    "    if val == test_labels[i]:\n",
    "        acc_cnt += 1\n",
    "\n",
    "Acc = acc_cnt/test_vectors.shape[0]\n",
    "\n",
    "print(Acc)"
   ]
  },
  {
   "cell_type": "markdown",
   "id": "bf59cd13-1358-48ad-a11c-2371277e0b55",
   "metadata": {},
   "source": [
    "* There may be some ways to increase the accruacy, such as increasing the number of train iterations or adjust learning rate. Give a try to train a perceptron you can best get. Record the values of parameters and the optimal accuracy. (**3 pt**)\n"
   ]
  },
  {
   "cell_type": "code",
   "execution_count": null,
   "id": "3498a824-d111-451e-9119-6f85964bca45",
   "metadata": {},
   "outputs": [],
   "source": [
    "# put your code here\n",
    "\n"
   ]
  },
  {
   "cell_type": "markdown",
   "id": "41900123-9fa6-4dbb-81de-0b90edc3d9e5",
   "metadata": {},
   "source": [
    "### &#128721; STOP (1 Point)\n",
    "**Pause, save and commit your changes to your Git repository!**\n",
    "\n",
    "Take a moment to save your notebook, commit the changes to your Git repository with a meaningful commit message.\n",
    "\n",
    "---\n",
    "\n",
    "### 2.3 Next we shall test perceptron's capability of multiple-label classification.\n",
    "\n",
    "* Dowdload the dataset from `https://raw.githubusercontent.com/huichiayu/cmse202-s25-supllemental_data/refs/heads/main/HW04/Telecust1.csv`.\n",
    "* This is a customer category dataset (Kraggle/Customer Classification). Each cusmtoer has several feature variables.\n",
    "* There are five categories of customers, which are non-numerics. Thus, let's convert those string labels to numerics.\n",
    "* Successful data load-up gets **2 pt**."
   ]
  },
  {
   "cell_type": "code",
   "execution_count": null,
   "id": "2f57127a-9d83-4408-a18d-8adfb800eb2f",
   "metadata": {},
   "outputs": [],
   "source": [
    "# Download and load the dataset. Convert non-numerical labels to numerics.\n",
    "# put your code here\n",
    "\n"
   ]
  },
  {
   "cell_type": "code",
   "execution_count": null,
   "id": "98d6200a-ec04-4a07-b7d5-b644e8242973",
   "metadata": {},
   "outputs": [],
   "source": [
    "### ANSWER \n",
    "\n",
    "# 1 pt for downloading data and 1 pt for converting text labels to numerics\n",
    "\n",
    "import pandas as pd\n",
    "customer_data = pd.read_csv('Telecust1.csv')\n",
    "\n",
    "num_rows = customer_data.shape[0]\n",
    "print(num_rows)\n",
    "customer_data['custcat'] = pd.factorize(customer_data['custcat'])[0]\n",
    "\n",
    "customer_data.head()"
   ]
  },
  {
   "cell_type": "markdown",
   "id": "ffcab03b-57fb-4268-81dc-e72281bfceb1",
   "metadata": {},
   "source": [
    "---\n",
    "### 2.4 Multi-label perceptron classification\n",
    "\n",
    "* As we know, perceptron is a binary classifier. For multiple-label classification, we can use One-vs-Rest (OvR) Strategy.\n",
    "* In this case, let's train five individual perceptrons. \n",
    "* For each classifier, it treats the current class as \"positive\" and all others as \"negative.\"\n",
    "* When classifying a new sample, each classifier gives a \"score,\" and the class with the highest score is chosen.\n",
    "\n",
    "Copy your perceptron to the code cell below. We need to add a score method, which outputs dot of weights and features, as opposed to the previous binary predict method. The score method should output a signed floating score value, not `+1` or `-1`. This can be done by removing the binary segmenting, i.e., directly outputing the dot value.\n",
    "\n",
    "* Functioning score() method gets **2 pt**."
   ]
  },
  {
   "cell_type": "code",
   "execution_count": null,
   "id": "f7996b89-84fb-4272-9c30-c5293a97455b",
   "metadata": {},
   "outputs": [],
   "source": [
    "# put your modified perceptron class here\n"
   ]
  },
  {
   "cell_type": "code",
   "execution_count": null,
   "id": "bb798e25-9824-4b62-948a-ddb01dbebec6",
   "metadata": {},
   "outputs": [],
   "source": [
    "### ANSWER\n",
    "\n",
    "import numpy as np\n",
    "\n",
    "class MyPerceptron2():\n",
    "\n",
    "    def __init__ (self, labeled_data, iters, learning_rate):        \n",
    "        self.data = np.array(labeled_data)\n",
    "        self.weights = np.full((self.data.shape[1]), 1.0) # note that this is just an easy way to get \"number of features + 1\" and set them to 1.0\n",
    "        self.iters = iters\n",
    "        self.l_r = learning_rate\n",
    "        print(self.weights.shape)\n",
    "        \n",
    "    def predict(self, feature_set):\n",
    "        # print(\"Features: \",feature_set, \" weights: \", self.weights[1:])\n",
    "        res = np.dot(feature_set, self.weights[1:])\n",
    "        res += self.weights[0]\n",
    "        return (1 if res > 0 else -1)\n",
    "\n",
    "    # the score method\n",
    "    def score(self, feature_set):\n",
    "        # print(\"Features: \",feature_set, \" weights: \", self.weights[1:])\n",
    "        res = np.dot(feature_set, self.weights[1:])\n",
    "        res += self.weights[0]\n",
    "        return res\n",
    "         \n",
    "    \n",
    "    def fit(self):\n",
    "        for _ in range(self.iters):\n",
    "            for row in self.data:\n",
    "                update = self.l_r * (row[-1] - self.predict(row[:-1]))\n",
    "                self.weights[1:] += update * row[:-1]\n",
    "                self.weights[0] += update\n",
    "\n",
    "    def errors(self):\n",
    "        error_count = 0\n",
    "        for row in self.data:\n",
    "            # print(\"data: \", row[:-1], \"actual: \", row[-1], \"predict: \", self.predict(row[:-1]), \"weights: \", self.weights)\n",
    "            if (self.predict(row[:-1]) != row[-1]):\n",
    "                error_count += 1\n",
    "        print(\"Accuracy: \", 1.0-(error_count/len(self.data)))\n",
    "        print(\"Weights: \", self.weights[1:])\n",
    "        print(\"Bias weight:\", self.weights[0])\n",
    "        "
   ]
  },
  {
   "cell_type": "markdown",
   "id": "395e1e42-e58d-49c5-a7ce-bdbb9f8e3d50",
   "metadata": {},
   "source": [
    "* Now let's do a train-test split of the data with a test_size = 0.3.\n",
    "* Since we are training 5 perceptrons, we should have have 5 class label sets. For instance, in the label set for category A, the label value will be `+1` if it's type A and otherwise `-1`.\n",
    "* Setting label sets gets **4 pt**."
   ]
  },
  {
   "cell_type": "code",
   "execution_count": null,
   "id": "e59a1422-8984-49b8-889e-e34c6172e8f6",
   "metadata": {},
   "outputs": [],
   "source": [
    "# put your code here\n"
   ]
  },
  {
   "cell_type": "code",
   "execution_count": null,
   "id": "b08d23f0-b3dd-43a5-931b-8492aaabdef2",
   "metadata": {},
   "outputs": [],
   "source": [
    "### ANSWER\n",
    "\n",
    "from sklearn.model_selection import train_test_split\n",
    "import statsmodels.api as sm\n",
    "\n",
    "Dt = np.array(customer_data.values)\n",
    "X = Dt[:,:-1]\n",
    "y = Dt[:,-1]\n",
    "\n",
    "\n",
    "Xc = sm.add_constant(X)\n",
    "train_vectors, test_vectors, train_labels, test_labels = \\\n",
    "    train_test_split(Xc, y, test_size=0.3)\n",
    "train_labels = train_labels.reshape(-1, 1)\n",
    "test_labels = test_labels.reshape(-1, 1)\n",
    "print(train_vectors.shape)\n",
    "print(train_labels.shape)\n",
    "\n",
    "l_train = np.ones((train_labels.shape[0],5))\n",
    "l_train *= -1\n",
    "\n",
    "# create a label array where the labels is 1 at corresponding column and -1 otherwise\n",
    "for i in range(0,train_labels.shape[0]):\n",
    "    lab = train_labels[i]\n",
    "    l_train[i,lab] = 1    \n",
    "\n",
    "    "
   ]
  },
  {
   "cell_type": "markdown",
   "id": "5245187a-3ed6-4cc4-a844-7fd0493707c9",
   "metadata": {},
   "source": [
    "* Use training set and the 5 training label sets to train your 5 perceptrons. Report the accuracy of those five training.\n",
    "* Efficiently train the five perceptrons using nest loop gets **5 pt**.\n"
   ]
  },
  {
   "cell_type": "code",
   "execution_count": null,
   "id": "be107995-7f86-48d8-b24a-d3f3ed8b9e62",
   "metadata": {},
   "outputs": [],
   "source": [
    "# put your code here\n"
   ]
  },
  {
   "cell_type": "code",
   "execution_count": null,
   "id": "93139e16-5cb4-45db-b370-e8fc0c2ca31d",
   "metadata": {},
   "outputs": [],
   "source": [
    "### ANSWER\n",
    "\n",
    "new_X = np.zeros((train_vectors.shape[0],train_vectors.shape[1]+1,5))\n",
    "\n",
    "for i in range(5):\n",
    "    new_X[:,:,i] = np.concatenate((train_vectors, l_train[:,i].reshape(-1, 1)), axis=1)\n",
    "\n",
    "print(new_X.shape)\n",
    "\n",
    "perc_list = []\n",
    "# train perceptron\n",
    "for i in range(5):\n",
    "    perc = MyPerceptron2(new_X[:,:,i],500,0.01)\n",
    "    perc.fit()\n",
    "    perc.errors()\n",
    "    perc_list.append(perc)\n",
    "\n",
    "# Hard-coded (explicitly train the perceptrons individually) gets 3 pt.\n"
   ]
  },
  {
   "cell_type": "markdown",
   "id": "3e550cc5-fbc2-42a2-8713-881783f2c7f9",
   "metadata": {},
   "source": [
    "* Use the test vector to examine the accuracy.\n",
    "* For each feature set, there should be 5 output scores, each from a perceptron. The predicted label should be the label that corresponds to the highest score.\n",
    "* Report your accuracy. (**3 pt**)"
   ]
  },
  {
   "cell_type": "code",
   "execution_count": null,
   "id": "1e549131-9459-437b-b627-bc99e0fa93cf",
   "metadata": {},
   "outputs": [],
   "source": [
    "# put your code here\n"
   ]
  },
  {
   "cell_type": "code",
   "execution_count": null,
   "id": "202fa1b4-d64c-47dd-a08e-090ee3c657a6",
   "metadata": {},
   "outputs": [],
   "source": [
    "### ANSWER\n",
    "\n",
    "l_test = np.ones((test_labels.shape[0],5))\n",
    "l_test *= -1\n",
    "\n",
    "for i in range(0,test_labels.shape[0]):\n",
    "    lab = test_labels[i]\n",
    "    l_test[i,lab] = 1      \n",
    "\n",
    "        \n",
    "p_lab = np.zeros(5)\n",
    "p_lab\n",
    "acc_cnt = 0\n",
    "for i in range(0,test_vectors.shape[0]):\n",
    "    for j in range(5):\n",
    "        p_lab[j] = perc_list[j].score(test_vectors[i,:])\n",
    "    idx = np.argmax(p_lab)\n",
    "    # print(i, p_lab, test_labels[i], idx )\n",
    "        \n",
    "    if (idx == test_labels[i]):\n",
    "        acc_cnt += 1\n",
    "        \n",
    "       \n",
    "Acc = acc_cnt/test_vectors.shape[0]\n",
    "\n",
    "print(Acc, acc_cnt)"
   ]
  },
  {
   "cell_type": "markdown",
   "id": "fd31084b-0308-4fd0-b912-bf42f13ee674",
   "metadata": {},
   "source": [
    "How good is your multiple-label perceptron classification?"
   ]
  },
  {
   "cell_type": "markdown",
   "id": "c598a593-aac1-48b7-b634-f6c046f256f3",
   "metadata": {},
   "source": [
    "<font size=6 color=\"#009600\">&#9998;</font> Put your answer here"
   ]
  },
  {
   "cell_type": "markdown",
   "id": "c08b1bce-e2ce-4bd4-ae8e-9aca6d76a163",
   "metadata": {},
   "source": [
    "\n",
    "### &#128721; STOP (1 Point)\n",
    "**Pause, save and commit your changes to your Git repository!**\n",
    "\n",
    "Take a moment to save your notebook, commit the changes to your Git repository with a meaningful commit message.\n",
    "\n",
    "---\n",
    "## Part 3 SVM classifiers (19 points)\n",
    "\n",
    "### 3.1 SVM \n",
    "\n",
    "Let's re-use the customer category data. There are five caterogies with multiple feature variables.\n",
    "\n",
    "* Use sklearn library to build a SVM classifier. Since we do not know what the best parametes are, perform a GridSearch for best parameters.\n",
    "* NOTE: Because the dataset contains a large number of points, it's expected to have a long computer running time for GridSearch. Thus, let's use only the first 200 data points for GridSearch. You can start the grid search parameter like the image below. However, **NOTE** that if the kernal used cannot find a hyperplane to classify data points, the GridSearch function will stall. You need to manually remove that kernal from the parameter set and re-run GridSearch.\n",
    "  \n",
    "<img src=\"https://i.ibb.co/JWrp6c4q/Grid-Search-Param.png\" width=\"650\">\n",
    "\n",
    "\n",
    "* As in the previous section, make a 70-30 train-test split and train your SVM classifier.\n",
    "* Complete GridSearch to extract best parameters gets **5 pt**."
   ]
  },
  {
   "cell_type": "code",
   "execution_count": null,
   "id": "eb83c8b3-cc1b-4fa6-a2f7-f627339586d8",
   "metadata": {},
   "outputs": [],
   "source": [
    "# put your code here.\n",
    "\n"
   ]
  },
  {
   "cell_type": "code",
   "execution_count": null,
   "id": "e01f3fad-6bf7-4f98-a80f-6b89b68cf581",
   "metadata": {},
   "outputs": [],
   "source": [
    "### ANSWER\n",
    "\n",
    "from sklearn.model_selection import train_test_split\n",
    "import statsmodels.api as sm\n",
    "import time\n",
    "import numpy as np\n",
    "import matplotlib.pyplot as plt\n",
    "from sklearn.model_selection import GridSearchCV\n",
    "from sklearn.svm import SVC\n",
    "from sklearn.metrics import classification_report, accuracy_score\n",
    "from sklearn.metrics import confusion_matrix, ConfusionMatrixDisplay\n",
    "\n",
    "\n",
    "Dt = np.array(customer_data.values)\n",
    "X = Dt[:,:-1]\n",
    "y = Dt[:,-1]\n",
    "\n",
    "Xc = sm.add_constant(X)\n",
    "train_vectors, test_vectors, train_labels, test_labels = \\\n",
    "    train_test_split(Xc, y, test_size=0.3)\n",
    "\n",
    "\n",
    "###############################################################################\n",
    "# Train a SVM classification model\n",
    "\n",
    "start = time.time()\n",
    "\n",
    "#make some temporary variables so you can change this easily\n",
    "tmp_vectors = train_vectors\n",
    "tmp_labels = train_labels\n",
    "\n",
    "print(\"Fitting the classifier to the training set\")\n",
    "# a dictionary of hyperparameters: key is the name of the parameter, value is a list of values to test\n",
    "# param_grid = {'C': [1e-2, 1e-1, 1e0, 1e1],\n",
    "#               'gamma': [1e-4, 0.001, 0.01, 0.1, 1],\n",
    "#               'kernel': ['linear','sigmoid','rbf']}\n",
    "param_grid = {'C': [1e-2, 1e-1, 1e0, 1e1],\n",
    "              'gamma': [1e-4, 0.001, 0.01, 0.1, 1],\n",
    "              'kernel': ['sigmoid','rbf']}\n",
    "# make a classifier by searching over a classifier and the parameter grid\n",
    "clf = GridSearchCV(SVC(class_weight='balanced'), param_grid)\n",
    "\n",
    "# we have a \"good\" classifier (according to GridSearchCV), how's it look\n",
    "clf = clf.fit(tmp_vectors, tmp_labels)\n",
    "print(\"Best estimator found by grid search:\")\n",
    "print(clf.best_estimator_)\n",
    "print(\"Best parameters found by grid search:\")\n",
    "print(clf.best_params_)\n",
    "\n",
    "end = time.time()\n",
    "print(\"Runtime\",end - start)"
   ]
  },
  {
   "cell_type": "markdown",
   "id": "af730354-6eee-40f2-9a19-a20c8be0f3db",
   "metadata": {},
   "source": [
    "* Examine the accuracy of this SVC and report the accuracy. Draw a confusion matrix. **2 pt**"
   ]
  },
  {
   "cell_type": "code",
   "execution_count": null,
   "id": "527b7f0b-97b1-474f-b0b0-09574d54a6f9",
   "metadata": {},
   "outputs": [],
   "source": [
    "# put your code here\n"
   ]
  },
  {
   "cell_type": "code",
   "execution_count": null,
   "id": "66cc39e2-a8a7-429e-ab83-a2d9772ce9b6",
   "metadata": {},
   "outputs": [],
   "source": [
    "### ANSWER\n",
    "\n",
    "predict_vectors = test_vectors\n",
    "true_labels = test_labels\n",
    "\n",
    "pred_labels = clf.predict(predict_vectors)\n",
    "\n",
    "print(classification_report(true_labels, pred_labels, zero_division=0))\n",
    "ConfusionMatrixDisplay.from_estimator(clf, test_vectors, test_labels);"
   ]
  },
  {
   "cell_type": "markdown",
   "id": "baf396ba-1d88-4d14-8771-210dc41fcbcf",
   "metadata": {},
   "source": [
    "Does SVM classifier work much better than your percetron?"
   ]
  },
  {
   "cell_type": "markdown",
   "id": "81488c96-0326-408f-aed9-d956ee068d65",
   "metadata": {},
   "source": [
    "<font size=6 color=\"#009600\">&#9998;</font> Put your answer here"
   ]
  },
  {
   "cell_type": "markdown",
   "id": "5cf5af1a-7950-4356-bc42-29c41b31c03d",
   "metadata": {},
   "source": [
    "### &#128721; STOP (1 Point)\n",
    "**Pause, save and commit your changes to your Git repository!**\n",
    "\n",
    "Take a moment to save your notebook, commit the changes to your Git repository with a meaningful commit message.\n",
    "\n",
    "---\n",
    "### 3.2 PCA \n",
    "\n",
    "Although we only have 11 feature variables in the dataset, let's examine how much principal component analysis (PCA) can accelerate the classification. We will increase the PCA components from 1 to 11. For each case, we will perform a GridSearch and use test set to examine the accuracy. \n",
    "\n",
    "* Write a code to loop over n_components = 1 through 11. **4 pt**\n",
    "* Record the accuracy of each case and plot the profile of accuracy versus n_components. In the mean time, record the computer run times and plot the profile of time versus n_components. **2 pt**\n",
    "\n",
    "\n"
   ]
  },
  {
   "cell_type": "code",
   "execution_count": null,
   "id": "6cb7c31b-cc0f-4ce7-9156-cc1207b26186",
   "metadata": {},
   "outputs": [],
   "source": [
    "# put your code here\n",
    "\n"
   ]
  },
  {
   "cell_type": "code",
   "execution_count": null,
   "id": "c7ef29a4-5beb-40d5-9348-2d5f288a21a2",
   "metadata": {},
   "outputs": [],
   "source": [
    "### ANSWER\n",
    "\n",
    "from sklearn.decomposition import PCA\n",
    "\n",
    "accm_time = []\n",
    "accu = []\n",
    "nc_list = []\n",
    "\n",
    "for i in range(0,11):\n",
    "    nc = i+1;\n",
    "    nc_list.append(nc)\n",
    "    \n",
    "    n_components = nc # This is much less than the original n_features\n",
    "    \n",
    "    #Set up the pca object with the number of compoents we want to find\n",
    "    pca = PCA(n_components=n_components, whiten=True)\n",
    "    \n",
    "    #Fit the training data to the pca model.\n",
    "    _ = pca.fit(train_vectors)\n",
    "    \n",
    "    pca_train_vectors = pca.transform(train_vectors)\n",
    "    pca_test_vectors = pca.transform(test_vectors)\n",
    "    \n",
    "    # print(\"Training set changed from a size of: \", train_vectors.shape, ' to: ', pca_train_vectors.shape)\n",
    "    # print(\"Testing set changed from a size of: \", test_vectors.shape, ' to: ', pca_test_vectors.shape)\n",
    "    \n",
    "    \n",
    "    ###############################################################################\n",
    "    # Train a SVM classification model\n",
    "    print('  ')    \n",
    "    print('n_components = ', nc, '---')\n",
    "    start = time.time()\n",
    "    \n",
    "    #make some temporary variables so you can change this easily\n",
    "    tmp_vectors = pca_train_vectors\n",
    "    tmp_labels = train_labels\n",
    "    \n",
    "    \n",
    "    print(\"Fitting the classifier to the training set\")\n",
    "    # a dictionary of hyperparameters: key is the name of the parameter, value is a list of values to test\n",
    "    param_grid = {'C': [1e-2, 1e-1, 1e0, 1e1],\n",
    "                  'gamma': [1e-4, 0.001, 0.01, 0.1, 1],\n",
    "                    'kernel': ['sigmoid','rbf']}\n",
    "    # make a classifier by searching over a classifier and the parameter grid\n",
    "    clf = GridSearchCV(SVC(class_weight='balanced'), param_grid)\n",
    "       \n",
    "    # we have a \"good\" classifier (according to GridSearchCV), how's it look\n",
    "    _ = clf.fit(tmp_vectors, tmp_labels)\n",
    "    print(\"Best estimator found by grid search:\")\n",
    "    print(clf.best_estimator_)\n",
    "    print(\"Best parameters found by grid search:\")\n",
    "    print(clf.best_params_)\n",
    "    \n",
    "    end = time.time()\n",
    "    \n",
    "    print(\"Runtime\",end - start)\n",
    "    accm_time.append(end - start)\n",
    "    \n",
    "    \n",
    "    predict_vectors = pca_test_vectors\n",
    "    true_labels = test_labels\n",
    "    \n",
    "    pred_labels = clf.predict(predict_vectors)\n",
    "    report = classification_report(true_labels, pred_labels, zero_division=0)\n",
    "    accuracy = accuracy_score(true_labels, pred_labels)\n",
    "    print(report)\n",
    "    print(accuracy)\n",
    "\n",
    "    accu.append(accuracy)\n",
    "    \n"
   ]
  },
  {
   "cell_type": "code",
   "execution_count": null,
   "id": "4fcb9791-9b1c-412b-9f70-1dba606574a3",
   "metadata": {},
   "outputs": [],
   "source": [
    "### ANSWER\n",
    "\n",
    "plt.subplot(1, 2, 1) \n",
    "plt.plot(nc_list, accm_time)\n",
    "plt.title(\"time vs n_components\")\n",
    "\n",
    "plt.subplot(1, 2, 2) \n",
    "plt.plot(nc_list, accu)\n",
    "plt.title(\"accuracy vs n_components\")"
   ]
  },
  {
   "cell_type": "markdown",
   "id": "79f02dd4-9ad8-416f-8324-cede07489a0a",
   "metadata": {},
   "source": [
    "Please answer the following questions. \n",
    "* How is the overall accuracy of this SVM classifier?  **1 pt**\n",
    "* If the performance is not good, what do you think the cause is? **2 pt**"
   ]
  },
  {
   "cell_type": "markdown",
   "id": "bcb5f56b-173e-4013-9ccb-cd717aaf2524",
   "metadata": {},
   "source": [
    "<font size=6 color=\"#009600\">&#9998;</font> Put your answer here"
   ]
  },
  {
   "cell_type": "code",
   "execution_count": null,
   "id": "02687abf-d4c0-4543-bd34-69833008d755",
   "metadata": {},
   "outputs": [],
   "source": [
    "### ANSWER \n",
    "# accruacy is roughly 40%.\n",
    "# data points are overlapping. not separable."
   ]
  },
  {
   "cell_type": "markdown",
   "id": "c7ccaefe-5020-42f3-8d1b-2359bcdb535d",
   "metadata": {},
   "source": [
    "* Describe the curves of time vs n_components and accuracy vs n_components. **1 pt**\n",
    "* Explain why the curves behave as they are in the figures **2 pt**"
   ]
  },
  {
   "cell_type": "markdown",
   "id": "43066ffe-1bdb-4c50-b4dd-ecec5287fc64",
   "metadata": {},
   "source": [
    "<font size=6 color=\"#009600\">&#9998;</font> Put your answer here"
   ]
  },
  {
   "cell_type": "code",
   "execution_count": null,
   "id": "a2c5a19a-0c0d-4567-aab0-c419f9ac2054",
   "metadata": {},
   "outputs": [],
   "source": [
    "### ANSWER\n",
    "# Increase of n_components increases computation times simply because the increase in calculations.\n",
    "# the accuracy satuates quickly because the dataset has only a small number of features. \n",
    "# while PCA extract important features, there not many features."
   ]
  },
  {
   "cell_type": "markdown",
   "id": "2c10fcb2-8d8b-4e2f-a9fe-5b998e646114",
   "metadata": {},
   "source": [
    "### &#128721; STOP (1 Point)\n",
    "**Pause, save and commit your FINAL changes to your Git repository!**\n",
    "\n",
    "Take a moment to save your notebook, commit the changes to your Git repository with a meaningful commit message.\n",
    "\n",
    "\n",
    "\n",
    "---\n",
    "## Assignment wrap-up\n",
    "\n",
    "\n",
    "Please fill out the form that appears when you run the code below.  **You must completely fill this out in order to receive credit for the assignment!**\n",
    "\n"
   ]
  },
  {
   "cell_type": "code",
   "execution_count": null,
   "id": "8daa2c83-4226-47d8-ad62-0a15001b3261",
   "metadata": {},
   "outputs": [],
   "source": [
    "from IPython.display import HTML\n",
    "HTML(\n",
    "\"\"\"\n",
    "<iframe \n",
    "\tsrc=\"https://forms.office.com/r/mB0YjLYvAA\" \n",
    "\twidth=\"800px\" \n",
    "\theight=\"600px\" \n",
    "\tframeborder=\"0\" \n",
    "\tmarginheight=\"0\" \n",
    "\tmarginwidth=\"0\">\n",
    "\tLoading...\n",
    "</iframe>\n",
    "\"\"\"\n",
    ")"
   ]
  },
  {
   "cell_type": "markdown",
   "id": "ba1f1ca9-1cce-4437-a38d-163b31945d70",
   "metadata": {},
   "source": [
    "## Congratulations, you're done!\n",
    "\n",
    "&#169; Copyright 2025,  Department of Computational Mathematics, Science and Engineering at Michigan State University"
   ]
  },
  {
   "cell_type": "code",
   "execution_count": null,
   "id": "e08ef267-8dfb-4e1c-86b7-d4c4d42d6bde",
   "metadata": {},
   "outputs": [],
   "source": []
  }
 ],
 "metadata": {
  "kernelspec": {
   "display_name": "Python [conda env:base] *",
   "language": "python",
   "name": "conda-base-py"
  },
  "language_info": {
   "codemirror_mode": {
    "name": "ipython",
    "version": 3
   },
   "file_extension": ".py",
   "mimetype": "text/x-python",
   "name": "python",
   "nbconvert_exporter": "python",
   "pygments_lexer": "ipython3",
   "version": "3.12.2"
  }
 },
 "nbformat": 4,
 "nbformat_minor": 5
}
