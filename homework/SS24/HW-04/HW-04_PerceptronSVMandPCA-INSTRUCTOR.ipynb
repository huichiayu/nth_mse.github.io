{
 "cells": [
  {
   "cell_type": "markdown",
   "metadata": {},
   "source": [
    "###ANSWER (to make sure this gets removed)\n",
    "\n",
    "# Grading rubric (62 points possible)\n",
    "\n",
    "## Part 1 (6 points)\n",
    "\n",
    "* **1 point** for having added this notebook to the repository\n",
    "* **1 point** for making some number of commits\n",
    "* **2 points** for working on a different branch\n",
    "* **2 points** for merging branches at the end\n",
    "\n",
    "## Part 2 (7 points)\n",
    "\n",
    "* **Task 2.1** (2 points):\n",
    "    * 1 point for loading the data\n",
    "    * 1 point for dropping rows with \"?\"\n",
    "* **Task 2.2** (2 points):\n",
    "    * 2 points for successfully converting the class labels to integers\n",
    "* **Task 2.4** (1 point):\n",
    "    * 1 point for splitting the data into features and labels\n",
    "* **Question 2.1** (1 point):\n",
    "    * 1 point for pointing out that the data is not significantly biased to one class.\n",
    "\n",
    "## Part 3 (5 points)\n",
    "\n",
    "* **Task 3.1** (2 points):\n",
    "    * 1 point for use of train_test_split\n",
    "    * 1 point for correctly using the random seed and train_size arguments\n",
    "* **Task 3.2** (2 points):\n",
    "    * 1 point for fitting the linear model\n",
    "    * 1 point for evaluating the prediction using the confusion matrix and classification report\n",
    "* **Question 3.1** (1 point):\n",
    "    * 1 point for correctly interpreting the results of the output\n",
    "    \n",
    "## Part 4 (8 points)\n",
    "\n",
    "* **Task 4.1** (4 points):\n",
    "    * 1 point for setting up the right grid search parameters\n",
    "    * 1 point for running the grid search for the SVM\n",
    "    * 1 point for running fit to get the model\n",
    "    * 1 point for printing the best estimator results.\n",
    "* **Question 4.1** (1 points):\n",
    "    * 1 point for a reasonable answer to the question\n",
    "* **Task 4.2** (2 point):\n",
    "    * 1 point for running predict\n",
    "    * 1 point for outputting the results\n",
    "* **Question 4.2** (1 points):\n",
    "    * 1 point for a correct interpretation of the results\n",
    "    \n",
    "## Part 5 (10 points)\n",
    "\n",
    "* **Task 5.1** (3 points):\n",
    "    * 1 point for performing 2 component PCA\n",
    "    * 1 point for transforming the vectors\n",
    "    * 1 point for calculating and displaying total variance\n",
    "* **Question 5.1** (1 point):\n",
    "    * 1 point for correctly interpreting the performance of the model\n",
    "* **Task 5.2** (2 points):\n",
    "    * 1 point for fitting model with PCA using `GridSearchCV`\n",
    "    * 1 point for running the prediction and displaying the results\n",
    "* **Question 5.2** (1 point):\n",
    "    * 1 point for a reasonable interpretation of the results\n",
    "* **Task 5.3** (2 points):\n",
    "    * 2 points for correctly running the previous steps with 6 PCA components\n",
    "* **Question 5.3** (1 point):\n",
    "    * 1 point for a reasonable interpretation of the results\n",
    "\n",
    "## Part 6 (14 points)\n",
    "\n",
    "* **Task 6.1** (4 points):\n",
    "    * 1 point for defining the function and using the appropriate inputs\n",
    "    * 1 point for running the PCA using the inputs\n",
    "    * 1 point for running the SVM model\n",
    "    * 1 point for returning the appropriate values.\n",
    "* **Task 6.2** (2 points):\n",
    "    * 1 point for computing the accuracy for all N components\n",
    "    * 1 point for storing the results\n",
    "* **Task 6.3** (2 point):\n",
    "    * 2 points for making the correct plot\n",
    "* **Question 6.1** (3 point):\n",
    "    * 1 point for an accurate interpretation of the plot\n",
    "    * 2 points for correct choice and justification\n",
    "* **Task 6.4** (2 point):\n",
    "    * 2 points for making the correct plot\n",
    "* **Question 6.2** (1 point):\n",
    "    * 1 point for an accurate interpretation of the plot\n",
    "\n",
    "## Part 7 (12 points)\n",
    "\n",
    "* **Task 7.1** (4 points):\n",
    "    * 1 point for correctly creating the Perceptron class instance\n",
    "    * 1 point for fitting the model using the training data\n",
    "    * 1 point for running the prediction and displaying the results\n",
    "    * 1 point for calculating the accuracy\n",
    "* **Question 7.1** (1 point):\n",
    "    * 1 point for a reasonable interpretation of the results\n",
    "* **Task 7.2** (4 points):\n",
    "    * 1 point for correctly setting the parameters\n",
    "    * 1 point for doing the grid search\n",
    "    * 1 point for displaying the best parameters\n",
    "    * 1 point for displaying the test results\n",
    "* **Question 7.2** (1 point):\n",
    "    * 1 point for a reasonable interpretation of the results\n",
    "---\n",
    "---"
   ]
  },
  {
   "cell_type": "markdown",
   "metadata": {},
   "source": [
    "# Homework Assignment 4\n",
    "\n",
    "## Using the Perceptron, SVMs, and PCA with Credit Card Approval Data"
   ]
  },
  {
   "cell_type": "markdown",
   "metadata": {},
   "source": [
    "### <p style=\"text-align: right;\"> &#9989; Put your name here.</p>\n",
    "### <p style=\"text-align: right;\"> &#9989; Put your _GitHub username_ here.</p>"
   ]
  },
  {
   "cell_type": "markdown",
   "metadata": {},
   "source": [
    "<img src=\"https://storage.googleapis.com/kaggle-datasets-images/3807174/6598147/ab3c96d720559e8bff08d02bd035f93c/dataset-cover.jpg?t=2023-10-03-01-37-20\" width=400px align=\"right\" style=\"margin-left: 20px\" alt=\"Underwater naval mines\">\n",
    "\n",
    "### Goals for this homework assignment\n",
    "\n",
    "By the end of this assignment, you should be able to:\n",
    "* Use `git` and the branching functionality to track your work and turn in your assignment\n",
    "* Read in data and prepare it for modeling\n",
    "* Build, fit, and evaluate an SVC model of data\n",
    "* Use PCA to reduce the number of important features\n",
    "* Build, fit, and evaluate an SVC model of PCA-transformed data\n",
    "* Train a perceptron and compare to SVC model\n",
    "\n",
    "### Assignment instructions:\n",
    "\n",
    "Work through the following assignment, making sure to follow all of the directions and answer all of the questions.\n",
    "\n",
    "There are **62 points** possible on this assignment. Point values for each part are included in the section headers.\n",
    "\n",
    "This assignment is **due by 11:59 pm on Friday, April 12. It should be pushed to your repo (see Part 1) AND submitted to D2L**. \n",
    "\n",
    "#### Imports\n",
    "\n",
    "It's useful to put all of the imports you need for this assignment in one place. Read through the assignment to figure out which imports you'll need or add them here as you go."
   ]
  },
  {
   "cell_type": "code",
   "execution_count": 1,
   "metadata": {},
   "outputs": [],
   "source": [
    "# Put all necessary imports here\n"
   ]
  },
  {
   "cell_type": "code",
   "execution_count": 1,
   "metadata": {},
   "outputs": [],
   "source": [
    "### ANSWER\n",
    "## Necessary imports\n",
    "import numpy as np\n",
    "import pandas as pd\n",
    "import matplotlib.pylab as plt\n",
    "from sklearn.model_selection import train_test_split\n",
    "from sklearn.model_selection import GridSearchCV\n",
    "from sklearn.metrics import classification_report\n",
    "from sklearn.metrics import confusion_matrix, accuracy_score\n",
    "from sklearn.svm import SVC\n",
    "from sklearn.decomposition import PCA"
   ]
  },
  {
   "cell_type": "markdown",
   "metadata": {},
   "source": [
    "---\n",
    "## Part 1: Git Repo Management and Branching (6 points)\n",
    "\n",
    "For this assignment, you're going to add it to the `cmse202-s24-turnin` repository you created in class so that you can track your progress on the assignment and preserve the final version that you turn in. In order to do this you need to\n",
    "\n",
    "**&#9989; Do the following**:\n",
    "\n",
    "1. Navigate to your `cmse202-s24-turnin` **local** repository and create a new directory called `hw-04`\n",
    "\n",
    "2. Move this notebook into that **new directory** in your repository.\n",
    "\n",
    "3. Create a **new branch** called `hw04_branch`.\n",
    "\n",
    "4. \"Check out\" the new branch (so that you'll be working on that branch). \n",
    "\n",
    "5. Double check to make sure you are actually on that branch.\n",
    "\n",
    "6. Once you're certain you're working on your new branch, add this notebook to your repository, then make a commit and push it to GitHub. You may need to use `git push origin hw04_branch` to push your new branch to GitHub.\n",
    "\n",
    "Finally, &#9989; **Do this**: Before you move on, put the command that your instructor should run to clone your repository in the markdown cell below."
   ]
  },
  {
   "cell_type": "markdown",
   "metadata": {},
   "source": [
    "```bash\n",
    "# Put your answer here\n",
    "```"
   ]
  },
  {
   "cell_type": "markdown",
   "metadata": {},
   "source": [
    "**Important**: Double check you've added your Professor and your TA as collaborators to your \"turnin\" repository (you should have done this in the previous homework assignment).\n",
    "\n",
    "**Also important**: Make sure that the version of this notebook that you are working on is the same one that you just added to your repository! If you are working on a different copy of the notebook, **none of your changes will be tracked**!\n",
    "\n",
    "If everything went as intended, the file should now show up on your GitHub account in the \"`cmse202-s24-turnin`\" repository inside the `hw-04` directory that you just created within the new branch `hw04_branch`.\n",
    "\n",
    "Periodically, **you'll be asked to commit your changes to the repository and push them to the remote GitHub location**. Of course, you can always commit your changes more often than that, if you wish.  It can be good to get into a habit of committing your changes any time you make a significant modification, or when you stop working on the project for a bit.\n"
   ]
  },
  {
   "cell_type": "markdown",
   "metadata": {},
   "source": [
    "---\n",
    "<a id=\"loading\"></a>\n",
    "## Part 2. Loading a the dataset: Credit card approval data (7 points)\n",
    "\n",
    "The dataset contains information about individuals and whether they were approved or rejected for a credit card application. You can think of this approval or rejection as **binary classification**.\n",
    "\n",
    "The goal of this assignment is to use this dataset to practice using the Perceptron classifier, SVMs, and PCA tools we've covered in class. Since the goal of the assignment is to develop models, we have done most of the pre-processing of the data for you (isolating numeric columns, rescaling the data with `StandardScalar`), with the exception of leaving it to you to remove some missing values as we have done in class. \n",
    " \n",
    "#### The data\n",
    "\n",
    "**&#9989; Do This:**  To get started, you'll need to download the associated `cc_data.csv` file:\n",
    "`https://raw.githubusercontent.com/yangy5/HWFiles/main/cc_data.csv`\n",
    "\n",
    "Once you've downloaded the data, **open the files using a text browser or other tool on your computer and take a look at the data to get a sense of the information it contains.** If you are curious about this dataset it came from the following link [CC Approval Data](https://www.kaggle.com/datasets/youssefaboelwafa/credit-card-approval/data)."
   ]
  },
  {
   "cell_type": "markdown",
   "metadata": {},
   "source": [
    "### 2.1 Load the data\n",
    "\n",
    "**&#9989; Task 2.1 (2 point):** Read the ```cc_data.csv``` file into your notebook and drop the missing values. The missing values contain \"?\". We're going to use \"class\" column as the classes that we'll be trying to predict with our classification models.\n",
    "\n",
    "Once you've loaded in the data and dropped the missing data, **display the DataFrame to make sure it looks reasonable**. You should have **7 columns** and **666 rows**."
   ]
  },
  {
   "cell_type": "code",
   "execution_count": 37,
   "metadata": {
    "collapsed": true
   },
   "outputs": [
    {
     "name": "stdout",
     "output_type": "stream",
     "text": [
      "  % Total    % Received % Xferd  Average Speed   Time    Time     Time  Current\n",
      "                                 Dload  Upload   Total   Spent    Left  Speed\n",
      "100 86051  100 86051    0     0   549k      0 --:--:-- --:--:-- --:--:--  545k\n"
     ]
    }
   ],
   "source": [
    "# Put your code here\n"
   ]
  },
  {
   "cell_type": "code",
   "execution_count": 2,
   "metadata": {},
   "outputs": [
    {
     "data": {
      "text/html": [
       "<div>\n",
       "<style scoped>\n",
       "    .dataframe tbody tr th:only-of-type {\n",
       "        vertical-align: middle;\n",
       "    }\n",
       "\n",
       "    .dataframe tbody tr th {\n",
       "        vertical-align: top;\n",
       "    }\n",
       "\n",
       "    .dataframe thead th {\n",
       "        text-align: right;\n",
       "    }\n",
       "</style>\n",
       "<table border=\"1\" class=\"dataframe\">\n",
       "  <thead>\n",
       "    <tr style=\"text-align: right;\">\n",
       "      <th></th>\n",
       "      <th>var1</th>\n",
       "      <th>var2</th>\n",
       "      <th>var3</th>\n",
       "      <th>var4</th>\n",
       "      <th>var5</th>\n",
       "      <th>var6</th>\n",
       "      <th>class</th>\n",
       "    </tr>\n",
       "  </thead>\n",
       "  <tbody>\n",
       "    <tr>\n",
       "      <th>0</th>\n",
       "      <td>-0.061731</td>\n",
       "      <td>-0.955920</td>\n",
       "      <td>-0.290872</td>\n",
       "      <td>-0.287892</td>\n",
       "      <td>0.103478</td>\n",
       "      <td>-0.195272</td>\n",
       "      <td>+</td>\n",
       "    </tr>\n",
       "    <tr>\n",
       "      <th>1</th>\n",
       "      <td>2.266444</td>\n",
       "      <td>-0.060007</td>\n",
       "      <td>0.244013</td>\n",
       "      <td>0.740293</td>\n",
       "      <td>-0.811331</td>\n",
       "      <td>-0.087788</td>\n",
       "      <td>+</td>\n",
       "    </tr>\n",
       "    <tr>\n",
       "      <th>2</th>\n",
       "      <td>-0.591090</td>\n",
       "      <td>-0.855481</td>\n",
       "      <td>-0.216167</td>\n",
       "      <td>-0.493529</td>\n",
       "      <td>0.552253</td>\n",
       "      <td>-0.037117</td>\n",
       "      <td>+</td>\n",
       "    </tr>\n",
       "    <tr>\n",
       "      <th>3</th>\n",
       "      <td>-0.312612</td>\n",
       "      <td>-0.646569</td>\n",
       "      <td>0.456175</td>\n",
       "      <td>0.534656</td>\n",
       "      <td>-0.483380</td>\n",
       "      <td>-0.194696</td>\n",
       "      <td>+</td>\n",
       "    </tr>\n",
       "    <tr>\n",
       "      <th>4</th>\n",
       "      <td>-0.953195</td>\n",
       "      <td>0.174015</td>\n",
       "      <td>-0.153415</td>\n",
       "      <td>-0.493529</td>\n",
       "      <td>-0.368310</td>\n",
       "      <td>-0.195272</td>\n",
       "      <td>+</td>\n",
       "    </tr>\n",
       "    <tr>\n",
       "      <th>...</th>\n",
       "      <td>...</td>\n",
       "      <td>...</td>\n",
       "      <td>...</td>\n",
       "      <td>...</td>\n",
       "      <td>...</td>\n",
       "      <td>...</td>\n",
       "      <td>...</td>\n",
       "    </tr>\n",
       "    <tr>\n",
       "      <th>685</th>\n",
       "      <td>-0.877094</td>\n",
       "      <td>1.069928</td>\n",
       "      <td>-0.290872</td>\n",
       "      <td>-0.493529</td>\n",
       "      <td>0.437182</td>\n",
       "      <td>-0.195272</td>\n",
       "      <td>-</td>\n",
       "    </tr>\n",
       "    <tr>\n",
       "      <th>686</th>\n",
       "      <td>-0.744127</td>\n",
       "      <td>-0.805262</td>\n",
       "      <td>-0.066758</td>\n",
       "      <td>-0.082255</td>\n",
       "      <td>0.091971</td>\n",
       "      <td>-0.119649</td>\n",
       "      <td>-</td>\n",
       "    </tr>\n",
       "    <tr>\n",
       "      <th>687</th>\n",
       "      <td>-0.528370</td>\n",
       "      <td>1.755924</td>\n",
       "      <td>-0.066758</td>\n",
       "      <td>-0.287892</td>\n",
       "      <td>0.091971</td>\n",
       "      <td>-0.195080</td>\n",
       "      <td>-</td>\n",
       "    </tr>\n",
       "    <tr>\n",
       "      <th>688</th>\n",
       "      <td>-1.141355</td>\n",
       "      <td>-0.914740</td>\n",
       "      <td>-0.652442</td>\n",
       "      <td>-0.493529</td>\n",
       "      <td>0.552253</td>\n",
       "      <td>-0.051321</td>\n",
       "      <td>-</td>\n",
       "    </tr>\n",
       "    <tr>\n",
       "      <th>689</th>\n",
       "      <td>0.286994</td>\n",
       "      <td>-0.277959</td>\n",
       "      <td>1.812810</td>\n",
       "      <td>-0.493529</td>\n",
       "      <td>-1.058732</td>\n",
       "      <td>-0.195272</td>\n",
       "      <td>-</td>\n",
       "    </tr>\n",
       "  </tbody>\n",
       "</table>\n",
       "<p>666 rows × 7 columns</p>\n",
       "</div>"
      ],
      "text/plain": [
       "         var1      var2      var3      var4      var5      var6 class\n",
       "0   -0.061731 -0.955920 -0.290872 -0.287892  0.103478 -0.195272     +\n",
       "1    2.266444 -0.060007  0.244013  0.740293 -0.811331 -0.087788     +\n",
       "2   -0.591090 -0.855481 -0.216167 -0.493529  0.552253 -0.037117     +\n",
       "3   -0.312612 -0.646569  0.456175  0.534656 -0.483380 -0.194696     +\n",
       "4   -0.953195  0.174015 -0.153415 -0.493529 -0.368310 -0.195272     +\n",
       "..        ...       ...       ...       ...       ...       ...   ...\n",
       "685 -0.877094  1.069928 -0.290872 -0.493529  0.437182 -0.195272     -\n",
       "686 -0.744127 -0.805262 -0.066758 -0.082255  0.091971 -0.119649     -\n",
       "687 -0.528370  1.755924 -0.066758 -0.287892  0.091971 -0.195080     -\n",
       "688 -1.141355 -0.914740 -0.652442 -0.493529  0.552253 -0.051321     -\n",
       "689  0.286994 -0.277959  1.812810 -0.493529 -1.058732 -0.195272     -\n",
       "\n",
       "[666 rows x 7 columns]"
      ]
     },
     "execution_count": 2,
     "metadata": {},
     "output_type": "execute_result"
    }
   ],
   "source": [
    "### ANSWER ###\n",
    "df = pd.read_csv(\"cc_data.csv\",na_values=['?'])\n",
    "df=df.dropna()\n",
    "df"
   ]
  },
  {
   "cell_type": "markdown",
   "metadata": {},
   "source": [
    "### 2.2 Relabeling the classes\n",
    "\n",
    "To simplify the process of modeling the credit card approval data, we should convert the class labels from strings to integers. For example, rather than `+`, we can consider this to be class \"`1`\".\n",
    "\n",
    "**&#9989; Task 2.2 (2 points):** Replace all of the strings in your \"Class\" column with integers based on the following:\n",
    "\n",
    "| original label | replaced label |\n",
    "| -------- | -------- |\n",
    "| + | 1 |\n",
    "| - | 0 |\n",
    "\n",
    "Once you've replaced the labels, display your DataFrame and confirm that it looks correct."
   ]
  },
  {
   "cell_type": "code",
   "execution_count": 3,
   "metadata": {},
   "outputs": [],
   "source": [
    "# Put your code here\n"
   ]
  },
  {
   "cell_type": "code",
   "execution_count": 4,
   "metadata": {},
   "outputs": [
    {
     "name": "stdout",
     "output_type": "stream",
     "text": [
      "[1 0]\n"
     ]
    },
    {
     "data": {
      "text/html": [
       "<div>\n",
       "<style scoped>\n",
       "    .dataframe tbody tr th:only-of-type {\n",
       "        vertical-align: middle;\n",
       "    }\n",
       "\n",
       "    .dataframe tbody tr th {\n",
       "        vertical-align: top;\n",
       "    }\n",
       "\n",
       "    .dataframe thead th {\n",
       "        text-align: right;\n",
       "    }\n",
       "</style>\n",
       "<table border=\"1\" class=\"dataframe\">\n",
       "  <thead>\n",
       "    <tr style=\"text-align: right;\">\n",
       "      <th></th>\n",
       "      <th>var1</th>\n",
       "      <th>var2</th>\n",
       "      <th>var3</th>\n",
       "      <th>var4</th>\n",
       "      <th>var5</th>\n",
       "      <th>var6</th>\n",
       "      <th>class</th>\n",
       "    </tr>\n",
       "  </thead>\n",
       "  <tbody>\n",
       "    <tr>\n",
       "      <th>0</th>\n",
       "      <td>-0.061731</td>\n",
       "      <td>-0.955920</td>\n",
       "      <td>-0.290872</td>\n",
       "      <td>-0.287892</td>\n",
       "      <td>0.103478</td>\n",
       "      <td>-0.195272</td>\n",
       "      <td>1</td>\n",
       "    </tr>\n",
       "    <tr>\n",
       "      <th>1</th>\n",
       "      <td>2.266444</td>\n",
       "      <td>-0.060007</td>\n",
       "      <td>0.244013</td>\n",
       "      <td>0.740293</td>\n",
       "      <td>-0.811331</td>\n",
       "      <td>-0.087788</td>\n",
       "      <td>1</td>\n",
       "    </tr>\n",
       "    <tr>\n",
       "      <th>2</th>\n",
       "      <td>-0.591090</td>\n",
       "      <td>-0.855481</td>\n",
       "      <td>-0.216167</td>\n",
       "      <td>-0.493529</td>\n",
       "      <td>0.552253</td>\n",
       "      <td>-0.037117</td>\n",
       "      <td>1</td>\n",
       "    </tr>\n",
       "    <tr>\n",
       "      <th>3</th>\n",
       "      <td>-0.312612</td>\n",
       "      <td>-0.646569</td>\n",
       "      <td>0.456175</td>\n",
       "      <td>0.534656</td>\n",
       "      <td>-0.483380</td>\n",
       "      <td>-0.194696</td>\n",
       "      <td>1</td>\n",
       "    </tr>\n",
       "    <tr>\n",
       "      <th>4</th>\n",
       "      <td>-0.953195</td>\n",
       "      <td>0.174015</td>\n",
       "      <td>-0.153415</td>\n",
       "      <td>-0.493529</td>\n",
       "      <td>-0.368310</td>\n",
       "      <td>-0.195272</td>\n",
       "      <td>1</td>\n",
       "    </tr>\n",
       "    <tr>\n",
       "      <th>...</th>\n",
       "      <td>...</td>\n",
       "      <td>...</td>\n",
       "      <td>...</td>\n",
       "      <td>...</td>\n",
       "      <td>...</td>\n",
       "      <td>...</td>\n",
       "      <td>...</td>\n",
       "    </tr>\n",
       "    <tr>\n",
       "      <th>685</th>\n",
       "      <td>-0.877094</td>\n",
       "      <td>1.069928</td>\n",
       "      <td>-0.290872</td>\n",
       "      <td>-0.493529</td>\n",
       "      <td>0.437182</td>\n",
       "      <td>-0.195272</td>\n",
       "      <td>0</td>\n",
       "    </tr>\n",
       "    <tr>\n",
       "      <th>686</th>\n",
       "      <td>-0.744127</td>\n",
       "      <td>-0.805262</td>\n",
       "      <td>-0.066758</td>\n",
       "      <td>-0.082255</td>\n",
       "      <td>0.091971</td>\n",
       "      <td>-0.119649</td>\n",
       "      <td>0</td>\n",
       "    </tr>\n",
       "    <tr>\n",
       "      <th>687</th>\n",
       "      <td>-0.528370</td>\n",
       "      <td>1.755924</td>\n",
       "      <td>-0.066758</td>\n",
       "      <td>-0.287892</td>\n",
       "      <td>0.091971</td>\n",
       "      <td>-0.195080</td>\n",
       "      <td>0</td>\n",
       "    </tr>\n",
       "    <tr>\n",
       "      <th>688</th>\n",
       "      <td>-1.141355</td>\n",
       "      <td>-0.914740</td>\n",
       "      <td>-0.652442</td>\n",
       "      <td>-0.493529</td>\n",
       "      <td>0.552253</td>\n",
       "      <td>-0.051321</td>\n",
       "      <td>0</td>\n",
       "    </tr>\n",
       "    <tr>\n",
       "      <th>689</th>\n",
       "      <td>0.286994</td>\n",
       "      <td>-0.277959</td>\n",
       "      <td>1.812810</td>\n",
       "      <td>-0.493529</td>\n",
       "      <td>-1.058732</td>\n",
       "      <td>-0.195272</td>\n",
       "      <td>0</td>\n",
       "    </tr>\n",
       "  </tbody>\n",
       "</table>\n",
       "<p>666 rows × 7 columns</p>\n",
       "</div>"
      ],
      "text/plain": [
       "         var1      var2      var3      var4      var5      var6  class\n",
       "0   -0.061731 -0.955920 -0.290872 -0.287892  0.103478 -0.195272      1\n",
       "1    2.266444 -0.060007  0.244013  0.740293 -0.811331 -0.087788      1\n",
       "2   -0.591090 -0.855481 -0.216167 -0.493529  0.552253 -0.037117      1\n",
       "3   -0.312612 -0.646569  0.456175  0.534656 -0.483380 -0.194696      1\n",
       "4   -0.953195  0.174015 -0.153415 -0.493529 -0.368310 -0.195272      1\n",
       "..        ...       ...       ...       ...       ...       ...    ...\n",
       "685 -0.877094  1.069928 -0.290872 -0.493529  0.437182 -0.195272      0\n",
       "686 -0.744127 -0.805262 -0.066758 -0.082255  0.091971 -0.119649      0\n",
       "687 -0.528370  1.755924 -0.066758 -0.287892  0.091971 -0.195080      0\n",
       "688 -1.141355 -0.914740 -0.652442 -0.493529  0.552253 -0.051321      0\n",
       "689  0.286994 -0.277959  1.812810 -0.493529 -1.058732 -0.195272      0\n",
       "\n",
       "[666 rows x 7 columns]"
      ]
     },
     "execution_count": 4,
     "metadata": {},
     "output_type": "execute_result"
    }
   ],
   "source": [
    "### ANSWER \n",
    "df['class'].replace({'+':1, \"-\":0}, inplace=True)\n",
    "print(df['class'].unique())\n",
    "df"
   ]
  },
  {
   "cell_type": "markdown",
   "metadata": {},
   "source": [
    "### 2.3 Separating the \"features\" from the \"labels\"\n",
    "\n",
    "As we've seen when working with `sklearn` it can be much easier to work with the data if we have separate variables that store the features and the labels.\n",
    "\n",
    "**&#9989; Task 2.3 (1 point):** Split your DataFrame so that you have two separate DataFrames, one called `features`, which contains all of the credit card approval features, and one called `labels`, which contains all of the *new* approval integer labels you just created. **Display both of these new DataFrames to make sure they look correct.**"
   ]
  },
  {
   "cell_type": "code",
   "execution_count": 5,
   "metadata": {},
   "outputs": [],
   "source": [
    "# Put your code here\n"
   ]
  },
  {
   "cell_type": "code",
   "execution_count": 6,
   "metadata": {},
   "outputs": [],
   "source": [
    "### ANSWER\n",
    "features = df.drop(columns='class')\n",
    "labels = df['class']"
   ]
  },
  {
   "cell_type": "code",
   "execution_count": 7,
   "metadata": {
    "tags": []
   },
   "outputs": [
    {
     "data": {
      "text/html": [
       "<div>\n",
       "<style scoped>\n",
       "    .dataframe tbody tr th:only-of-type {\n",
       "        vertical-align: middle;\n",
       "    }\n",
       "\n",
       "    .dataframe tbody tr th {\n",
       "        vertical-align: top;\n",
       "    }\n",
       "\n",
       "    .dataframe thead th {\n",
       "        text-align: right;\n",
       "    }\n",
       "</style>\n",
       "<table border=\"1\" class=\"dataframe\">\n",
       "  <thead>\n",
       "    <tr style=\"text-align: right;\">\n",
       "      <th></th>\n",
       "      <th>var1</th>\n",
       "      <th>var2</th>\n",
       "      <th>var3</th>\n",
       "      <th>var4</th>\n",
       "      <th>var5</th>\n",
       "      <th>var6</th>\n",
       "    </tr>\n",
       "  </thead>\n",
       "  <tbody>\n",
       "    <tr>\n",
       "      <th>0</th>\n",
       "      <td>-0.061731</td>\n",
       "      <td>-0.955920</td>\n",
       "      <td>-0.290872</td>\n",
       "      <td>-0.287892</td>\n",
       "      <td>0.103478</td>\n",
       "      <td>-0.195272</td>\n",
       "    </tr>\n",
       "    <tr>\n",
       "      <th>1</th>\n",
       "      <td>2.266444</td>\n",
       "      <td>-0.060007</td>\n",
       "      <td>0.244013</td>\n",
       "      <td>0.740293</td>\n",
       "      <td>-0.811331</td>\n",
       "      <td>-0.087788</td>\n",
       "    </tr>\n",
       "    <tr>\n",
       "      <th>2</th>\n",
       "      <td>-0.591090</td>\n",
       "      <td>-0.855481</td>\n",
       "      <td>-0.216167</td>\n",
       "      <td>-0.493529</td>\n",
       "      <td>0.552253</td>\n",
       "      <td>-0.037117</td>\n",
       "    </tr>\n",
       "    <tr>\n",
       "      <th>3</th>\n",
       "      <td>-0.312612</td>\n",
       "      <td>-0.646569</td>\n",
       "      <td>0.456175</td>\n",
       "      <td>0.534656</td>\n",
       "      <td>-0.483380</td>\n",
       "      <td>-0.194696</td>\n",
       "    </tr>\n",
       "    <tr>\n",
       "      <th>4</th>\n",
       "      <td>-0.953195</td>\n",
       "      <td>0.174015</td>\n",
       "      <td>-0.153415</td>\n",
       "      <td>-0.493529</td>\n",
       "      <td>-0.368310</td>\n",
       "      <td>-0.195272</td>\n",
       "    </tr>\n",
       "    <tr>\n",
       "      <th>...</th>\n",
       "      <td>...</td>\n",
       "      <td>...</td>\n",
       "      <td>...</td>\n",
       "      <td>...</td>\n",
       "      <td>...</td>\n",
       "      <td>...</td>\n",
       "    </tr>\n",
       "    <tr>\n",
       "      <th>685</th>\n",
       "      <td>-0.877094</td>\n",
       "      <td>1.069928</td>\n",
       "      <td>-0.290872</td>\n",
       "      <td>-0.493529</td>\n",
       "      <td>0.437182</td>\n",
       "      <td>-0.195272</td>\n",
       "    </tr>\n",
       "    <tr>\n",
       "      <th>686</th>\n",
       "      <td>-0.744127</td>\n",
       "      <td>-0.805262</td>\n",
       "      <td>-0.066758</td>\n",
       "      <td>-0.082255</td>\n",
       "      <td>0.091971</td>\n",
       "      <td>-0.119649</td>\n",
       "    </tr>\n",
       "    <tr>\n",
       "      <th>687</th>\n",
       "      <td>-0.528370</td>\n",
       "      <td>1.755924</td>\n",
       "      <td>-0.066758</td>\n",
       "      <td>-0.287892</td>\n",
       "      <td>0.091971</td>\n",
       "      <td>-0.195080</td>\n",
       "    </tr>\n",
       "    <tr>\n",
       "      <th>688</th>\n",
       "      <td>-1.141355</td>\n",
       "      <td>-0.914740</td>\n",
       "      <td>-0.652442</td>\n",
       "      <td>-0.493529</td>\n",
       "      <td>0.552253</td>\n",
       "      <td>-0.051321</td>\n",
       "    </tr>\n",
       "    <tr>\n",
       "      <th>689</th>\n",
       "      <td>0.286994</td>\n",
       "      <td>-0.277959</td>\n",
       "      <td>1.812810</td>\n",
       "      <td>-0.493529</td>\n",
       "      <td>-1.058732</td>\n",
       "      <td>-0.195272</td>\n",
       "    </tr>\n",
       "  </tbody>\n",
       "</table>\n",
       "<p>666 rows × 6 columns</p>\n",
       "</div>"
      ],
      "text/plain": [
       "         var1      var2      var3      var4      var5      var6\n",
       "0   -0.061731 -0.955920 -0.290872 -0.287892  0.103478 -0.195272\n",
       "1    2.266444 -0.060007  0.244013  0.740293 -0.811331 -0.087788\n",
       "2   -0.591090 -0.855481 -0.216167 -0.493529  0.552253 -0.037117\n",
       "3   -0.312612 -0.646569  0.456175  0.534656 -0.483380 -0.194696\n",
       "4   -0.953195  0.174015 -0.153415 -0.493529 -0.368310 -0.195272\n",
       "..        ...       ...       ...       ...       ...       ...\n",
       "685 -0.877094  1.069928 -0.290872 -0.493529  0.437182 -0.195272\n",
       "686 -0.744127 -0.805262 -0.066758 -0.082255  0.091971 -0.119649\n",
       "687 -0.528370  1.755924 -0.066758 -0.287892  0.091971 -0.195080\n",
       "688 -1.141355 -0.914740 -0.652442 -0.493529  0.552253 -0.051321\n",
       "689  0.286994 -0.277959  1.812810 -0.493529 -1.058732 -0.195272\n",
       "\n",
       "[666 rows x 6 columns]"
      ]
     },
     "execution_count": 7,
     "metadata": {},
     "output_type": "execute_result"
    }
   ],
   "source": [
    "### ANSWER\n",
    "features"
   ]
  },
  {
   "cell_type": "code",
   "execution_count": 8,
   "metadata": {},
   "outputs": [
    {
     "data": {
      "text/plain": [
       "0      1\n",
       "1      1\n",
       "2      1\n",
       "3      1\n",
       "4      1\n",
       "      ..\n",
       "685    0\n",
       "686    0\n",
       "687    0\n",
       "688    0\n",
       "689    0\n",
       "Name: class, Length: 666, dtype: int64"
      ]
     },
     "execution_count": 8,
     "metadata": {},
     "output_type": "execute_result"
    }
   ],
   "source": [
    "### ANSWER\n",
    "labels"
   ]
  },
  {
   "cell_type": "markdown",
   "metadata": {},
   "source": [
    "&#9989; **Question 2.1 (1 point):** How balanced are the classes? Does it matter for the set of classes to be balanced? Why or why not? (Include the code you used to determine this along with your written answer below.)"
   ]
  },
  {
   "cell_type": "markdown",
   "metadata": {},
   "source": [
    "<font size=+3>&#9998;</font> Erase this and put your answer here."
   ]
  },
  {
   "cell_type": "code",
   "execution_count": 9,
   "metadata": {},
   "outputs": [
    {
     "data": {
      "text/plain": [
       "0    367\n",
       "1    299\n",
       "Name: class, dtype: int64"
      ]
     },
     "execution_count": 9,
     "metadata": {},
     "output_type": "execute_result"
    }
   ],
   "source": [
    "### ANSWER\n",
    "labels.value_counts()"
   ]
  },
  {
   "cell_type": "markdown",
   "metadata": {},
   "source": [
    "### ANSWER\n",
    "\n",
    "The classes are reasonably well balanced, although there are more rejections than approvals. Having a balanced dataset is important for training models to help ensure the model understands how to fit both classes and doesn't have significant bias for one class over the other. "
   ]
  },
  {
   "cell_type": "markdown",
   "metadata": {},
   "source": [
    "---\n",
    "### &#128721; STOP\n",
    "**Pause to commit your changes to your Git repository!**\n",
    "\n",
    "Take a moment to save your notebook, commit the changes to your Git repository `hw04_branch` using the commit message \"Committing Part 2\", and push the changes to GitHub.\n",
    "\n",
    "---"
   ]
  },
  {
   "cell_type": "markdown",
   "metadata": {},
   "source": [
    "---\n",
    "## Part 3. Building an SVC model (5 points)\n",
    "\n",
    "Now, to tackle this classification problem, we will use a support vector machine. Of course, we could easily replace this with any `sklearn` classifier we choose, but for now we will just use an SVC with a linear kernel.\n",
    "\n",
    "### 3.1 Splitting the data\n",
    "\n",
    "But first, we need to split our data into training and testing data!\n",
    "\n",
    "**&#9989; Task 3.1 (2 point):** Split your data into a training and testing set with a training set representing 80% of your data. For reproducibility , set the `random_state` argument to `1`. Print the lengths to show you have the right number of entries."
   ]
  },
  {
   "cell_type": "code",
   "execution_count": 10,
   "metadata": {},
   "outputs": [],
   "source": [
    "# Put your code here\n"
   ]
  },
  {
   "cell_type": "code",
   "execution_count": 11,
   "metadata": {},
   "outputs": [
    {
     "name": "stdout",
     "output_type": "stream",
     "text": [
      "532\n",
      "134\n"
     ]
    }
   ],
   "source": [
    "### ANSWER ###\n",
    "x_train, x_test, y_train, y_test = train_test_split(features, labels, train_size=0.8, random_state=1)\n",
    "print(len(x_train))\n",
    "print(len(x_test))"
   ]
  },
  {
   "cell_type": "markdown",
   "metadata": {},
   "source": [
    "### 3.2 Modeling the data and evaluating the fit\n",
    "\n",
    "As you have done this a number of times at this point, we ask you to do most of the analysis for this problem in one cell.\n",
    "\n",
    "**&#9989; Task 3.2 (2 points):** Build a **sigmoid** kernel SVC model with `C=10.0`, fit it to the training set, and use the test features to predict the outcomes. Evaluate the fit using the **confusion matrix** and **classification report**.\n",
    "\n",
    "**First Note:** Double-check the documentation on the confusion matrix because the way `sklearn` outputs false positives and false negatives may be different from what most images on the web indicate."
   ]
  },
  {
   "cell_type": "code",
   "execution_count": 12,
   "metadata": {},
   "outputs": [],
   "source": [
    "# Put your code here\n"
   ]
  },
  {
   "cell_type": "code",
   "execution_count": 13,
   "metadata": {},
   "outputs": [
    {
     "name": "stdout",
     "output_type": "stream",
     "text": [
      "[[51 25]\n",
      " [16 42]]\n",
      "              precision    recall  f1-score   support\n",
      "\n",
      "           0       0.76      0.67      0.71        76\n",
      "           1       0.63      0.72      0.67        58\n",
      "\n",
      "    accuracy                           0.69       134\n",
      "   macro avg       0.69      0.70      0.69       134\n",
      "weighted avg       0.70      0.69      0.70       134\n",
      "\n"
     ]
    }
   ],
   "source": [
    "### ANSWER ###\n",
    "\n",
    "svc = SVC(kernel='sigmoid', C=10.0)\n",
    "svc.fit(x_train, y_train)\n",
    "\n",
    "y_predict = svc.predict(x_test)\n",
    "\n",
    "print(confusion_matrix(y_test,y_predict))\n",
    "print(classification_report(y_test,y_predict))"
   ]
  },
  {
   "cell_type": "markdown",
   "metadata": {},
   "source": [
    "&#9989; **Question 3.1 (1 point):** How accurate is your model? What evidence are you using to determine that? How many false positives and false negatives does it predict for each class?"
   ]
  },
  {
   "cell_type": "markdown",
   "metadata": {},
   "source": [
    "<font size=+3>&#9998;</font> Erase this and put your answer here."
   ]
  },
  {
   "cell_type": "markdown",
   "metadata": {},
   "source": [
    "### ANSWER\n",
    "\n",
    "Overall the accuracy is not great, 69%, which is from 41 incorrect labels. The FP and FN breakdown is as follows:\n",
    "* 0: 16 FP, 25 FN\n",
    "* 1: 25 FP, 16 FN"
   ]
  },
  {
   "cell_type": "markdown",
   "metadata": {},
   "source": [
    "---\n",
    "### &#128721; STOP\n",
    "**Pause to commit your changes to your Git repository!**\n",
    "\n",
    "Take a moment to save your notebook, commit the changes to your Git repository `hw04_branch` using the commit message \"Committing Part 3\", and push the changes to GitHub.\n",
    "\n",
    "---"
   ]
  },
  {
   "cell_type": "markdown",
   "metadata": {},
   "source": [
    "---\n",
    "## Part 4. Finding and using the best hyperparameters (8 points)\n",
    "\n",
    "At this point, we have fit one model and determined it's performance, but is it the best model? We can use `GridSearchCV` to find the best model (given our choices of parameters). Once we do that, we will use that \"best\" model for making predictions. \n",
    "\n",
    "\n",
    "### 4.1 Performing a grid search\n",
    "\n",
    "**&#9989; Task 4.1 (4 points):** Using the following parameters `C` = `0.1`, `1.0`, `10.0`, `100.0`, `1000.0` and `gamma` = `0.01`, `0.1`, `1.0`, `10.0` for a `linear`, `rbf`, and `sigmoid` kernels use `GridSearchCV` with the `SVC()` model to find the best fit parameters. Once, you're run the grid search, print the \"best params\" that the grid search found (*hint*: there's an attribute associated with the GridSearchCV object that stores this information). Note that this code could take a while to run since it is repeatedly training your SVM. "
   ]
  },
  {
   "cell_type": "code",
   "execution_count": 14,
   "metadata": {},
   "outputs": [],
   "source": [
    "# Put your code here\n"
   ]
  },
  {
   "cell_type": "code",
   "execution_count": 15,
   "metadata": {},
   "outputs": [
    {
     "data": {
      "text/plain": [
       "{'C': 100.0, 'gamma': 0.1, 'kernel': 'rbf'}"
      ]
     },
     "execution_count": 15,
     "metadata": {},
     "output_type": "execute_result"
    }
   ],
   "source": [
    "### ANSWER ###\n",
    "\n",
    "parameters = {'kernel':['linear', 'sigmoid','rbf'], 'C':[1e-1, 1e0, 1e1, 1e2, 1e3], 'gamma':[1e-2, 1e-1, 1e0, 1e1]}\n",
    "svc = SVC()\n",
    "clf = GridSearchCV(svc, parameters)\n",
    "clf.fit(x_train, y_train)\n",
    "clf.best_params_"
   ]
  },
  {
   "cell_type": "markdown",
   "metadata": {},
   "source": [
    "&#9989; **Question 4.1 (1 point):** How do the \"best params\" results of the grid search compare to what you used in Part 3? Did the hyper parameter(s) change? What kernel did the grid search determine was the best option? "
   ]
  },
  {
   "cell_type": "markdown",
   "metadata": {},
   "source": [
    "<font size=+3>&#9998;</font> Erase this and put your answer here."
   ]
  },
  {
   "cell_type": "markdown",
   "metadata": {},
   "source": [
    "### ANSWER\n",
    "\n",
    "Yes, the best `C` value ended up being 100.0 rather than 10.0. It landed on the `rbf` kernel as being the best option instead of `sigmoid`, with a $\\gamma$ value of 0.1."
   ]
  },
  {
   "cell_type": "markdown",
   "metadata": {},
   "source": [
    "### 4.2 Evaluating the best fit model\n",
    "\n",
    "Now that we have found the \"best params\", let's determine how good the fit is.\n",
    "\n",
    "**&#9989; Task 4.2 (2 points):** Use the test features to predict the outcomes for the best model. Evaluate the fit using the **confusion matrix** and **classification report**.\n",
    "\n",
    "**Note:** Double-check the documentation on the confusion matrix because the way `sklearn` outputs false positives and false negatives may be different from what most images on the web indicate."
   ]
  },
  {
   "cell_type": "code",
   "execution_count": 18,
   "metadata": {},
   "outputs": [],
   "source": [
    "# Put your code here\n"
   ]
  },
  {
   "cell_type": "code",
   "execution_count": 16,
   "metadata": {},
   "outputs": [
    {
     "name": "stdout",
     "output_type": "stream",
     "text": [
      "[[66 10]\n",
      " [21 37]]\n",
      "              precision    recall  f1-score   support\n",
      "\n",
      "           0       0.76      0.87      0.81        76\n",
      "           1       0.79      0.64      0.70        58\n",
      "\n",
      "    accuracy                           0.77       134\n",
      "   macro avg       0.77      0.75      0.76       134\n",
      "weighted avg       0.77      0.77      0.76       134\n",
      "\n"
     ]
    }
   ],
   "source": [
    "### ANSWER ###\n",
    "\n",
    "y_predict = clf.predict(x_test)\n",
    "print(confusion_matrix(y_test,y_predict))\n",
    "print(classification_report(y_test,y_predict))"
   ]
  },
  {
   "cell_type": "markdown",
   "metadata": {},
   "source": [
    "&#9989; **Question 4.2 (1 point):** How accurate is this \"best\" model? What evidence are you using to determine that? How many false positives and false negatives does it predict?"
   ]
  },
  {
   "cell_type": "markdown",
   "metadata": {},
   "source": [
    "<font size=+3>&#9998;</font> Erase this and put your answer here."
   ]
  },
  {
   "cell_type": "markdown",
   "metadata": {},
   "source": [
    "### ANSWER\n",
    "\n",
    "It jumped up to 77% accuracy, which is from 31 incorrect labels. The FP and FN breakdown is as follows:\n",
    "* 0: 21 FP, 10 FN\n",
    "* 1: 10 FP, 21 FN"
   ]
  },
  {
   "cell_type": "markdown",
   "metadata": {},
   "source": [
    "---\n",
    "### &#128721; STOP\n",
    "**Pause to commit your changes to your Git repository!**\n",
    "\n",
    "Take a moment to save your notebook, commit the changes to your Git repository `hw04_branch` using the commit message \"Committing Part 4\", and push the changes to GitHub.\n",
    "\n",
    "---"
   ]
  },
  {
   "cell_type": "markdown",
   "metadata": {},
   "source": [
    "---\n",
    "## Part 5. Using Principal Components (10 points)\n",
    "\n",
    "The full model uses all 6 features to predict the results and you likely found that the model is decently accurate using all 6 features, but not perfect. **Could we get the same level of accuracy (or better) using fewer features?** When datasets start to get very large and complex, applying some sort of **feature reduction** method can reduce the computational resources needed to train the model and, in some case actually improve the accuracy.\n",
    "\n",
    "When performing feature reduction, one could simply try to identify which features seem most important and drop the ones that aren't, but performing a Principal Component Analysis (PCA) to determine the features that contribute the most to the model (through their accounted variance) can be more effective."
   ]
  },
  {
   "cell_type": "markdown",
   "metadata": {},
   "source": [
    "### 5.1 Running a Principle Component Analysis (PCA)\n",
    "\n",
    "Since we have 6 total features to start with, let's see how well we can do if only use 1/3 as many features. Reduce the feature count to **2** principle components. We'll see how well we can predict the classes of the credit card approval dataset with just **2 features**!\n",
    "\n",
    "**&#9989; Task 5.1 (3 points):**  Using `PCA()` and the associated `fit()` method, run a principle component analysis on your training features using 2 components. Transform both the test and training features using the result of your PCA. Print the `explained_variance_ratio_`."
   ]
  },
  {
   "cell_type": "code",
   "execution_count": 20,
   "metadata": {},
   "outputs": [],
   "source": [
    "# Put your code here\n"
   ]
  },
  {
   "cell_type": "code",
   "execution_count": 17,
   "metadata": {},
   "outputs": [
    {
     "name": "stdout",
     "output_type": "stream",
     "text": [
      "Explained variance per component:  [0.33546894 0.1830097 ]\n",
      "Total explained variance:  0.5184786451958164\n"
     ]
    }
   ],
   "source": [
    "### ANSWER ###\n",
    "\n",
    "n_components = 2\n",
    "pca = PCA(n_components=n_components)\n",
    "_ = pca.fit(x_train)\n",
    "\n",
    "pca_x_train = pca.transform(x_train)\n",
    "pca_x_test = pca.transform(x_test)\n",
    "\n",
    "#plt.plot(pca.explained_variance_ratio_, 'rx--')\n",
    "#plt.ylabel('explained variance'); plt.xlabel('component');\n",
    "print('Explained variance per component: ', pca.explained_variance_ratio_)\n",
    "print('Total explained variance: ', pca.explained_variance_ratio_.sum())"
   ]
  },
  {
   "cell_type": "markdown",
   "metadata": {},
   "source": [
    "&#9989; **Question 5.1 (1 point):** What is the total explained variance ratio captured by this simple 2-component PCA? (e.g. sum up the explained variance from all 2 components) How well do you think a model with this many feature will perform? Why?"
   ]
  },
  {
   "cell_type": "markdown",
   "metadata": {},
   "source": [
    "<font size=+3>&#9998;</font> Erase this and put your answer here."
   ]
  },
  {
   "cell_type": "markdown",
   "metadata": {},
   "source": [
    "### ANSWER\n",
    "\n",
    "These 2 components account for roughly 52% of all variance. I expect the classifier should work fairly well with these 2 components because we've captured over half of the variance, but it won't be able to do a perfect job because it is missing ~48% of the variance."
   ]
  },
  {
   "cell_type": "markdown",
   "metadata": {},
   "source": [
    "### 5.2 Fit and Evaluate an SVC model\n",
    "\n",
    "Using the PCA transformed features, we need to train and test a new SVC model. You'll want to perform the `GridSearchCV` again since there may a better choice for the kernel and the hyper-parameters.\n",
    "\n",
    "**&#9989; Task 5.2 (2 points):**  Using the PCA transformed training data, build and train an SVC model using the `GridSearchCV` tool to make sure you're using the best kernel and hyper-parameter combination. Predict the classes using the PCA transformed test data. Evaluate the model using the classification report, and the confusion matrix."
   ]
  },
  {
   "cell_type": "code",
   "execution_count": 22,
   "metadata": {},
   "outputs": [],
   "source": [
    "# Put your code here\n"
   ]
  },
  {
   "cell_type": "code",
   "execution_count": 18,
   "metadata": {},
   "outputs": [
    {
     "data": {
      "text/plain": [
       "{'C': 1.0, 'gamma': 10.0, 'kernel': 'rbf'}"
      ]
     },
     "execution_count": 18,
     "metadata": {},
     "output_type": "execute_result"
    }
   ],
   "source": [
    "### ANSWER\n",
    "parameters = {'kernel':['linear', 'sigmoid','rbf'], 'C':[1e-1, 1e0, 1e1, 1e2, 1e3], 'gamma':[1e-2, 1e-1, 1e0, 1e1]}\n",
    "svc = SVC()\n",
    "clf = GridSearchCV(svc, parameters)#, cv = 5, n_jobs=-1)\n",
    "clf.fit(pca_x_train, y_train)\n",
    "clf.best_params_"
   ]
  },
  {
   "cell_type": "code",
   "execution_count": 19,
   "metadata": {},
   "outputs": [
    {
     "name": "stdout",
     "output_type": "stream",
     "text": [
      "[[56 20]\n",
      " [18 40]]\n",
      "              precision    recall  f1-score   support\n",
      "\n",
      "           0       0.76      0.74      0.75        76\n",
      "           1       0.67      0.69      0.68        58\n",
      "\n",
      "    accuracy                           0.72       134\n",
      "   macro avg       0.71      0.71      0.71       134\n",
      "weighted avg       0.72      0.72      0.72       134\n",
      "\n"
     ]
    }
   ],
   "source": [
    "### ANSWER\n",
    "y_predict = clf.predict(pca_x_test)\n",
    "print(confusion_matrix(y_test,y_predict))\n",
    "print(classification_report(y_test,y_predict))"
   ]
  },
  {
   "cell_type": "markdown",
   "metadata": {},
   "source": [
    "&#9989; **Question 5.2 (1 point):** How accurate is this model? What evidence are you using to determine that? How many false positives and false negatives does it predict? How does it compare to the full feature model?"
   ]
  },
  {
   "cell_type": "markdown",
   "metadata": {},
   "source": [
    "<font size=+3>&#9998;</font> Erase this and put your answer here."
   ]
  },
  {
   "cell_type": "markdown",
   "metadata": {},
   "source": [
    "### ANSWER\n",
    "\n",
    "The model is 72% accurate, which is only a bit worse than the 77% we get when using all of the features. \n",
    "* 0: 18 FP, 20 FN\n",
    "* 1: 20 FP, 18 FN\n",
    "\n",
    "So, even though we've performed the PCA feature reduction, there still seems to be a fair bit of overlap between the two classes."
   ]
  },
  {
   "cell_type": "markdown",
   "metadata": {},
   "source": [
    "### 5.3 Repeat your analysis with more components\n",
    "\n",
    "You probably found that the model with 2 features didn't actually do too bad, which is great given how few features we're using, but it's still not as good as just using all of the feature. Can we do better?\n",
    "\n",
    "What if we increase the number of principle components to **4** (2/3 of the original feature count)? What happens now?\n",
    "\n",
    "**&#9989; Task 5.3 (2 points):** Repeat your analysis from 5.1 and 5.2 using **4 components** instead. As part of your analysis, **print the total explained variance ratio for both components as well as the sum of these values**."
   ]
  },
  {
   "cell_type": "code",
   "execution_count": 25,
   "metadata": {},
   "outputs": [],
   "source": [
    "# Put your code here\n"
   ]
  },
  {
   "cell_type": "code",
   "execution_count": 20,
   "metadata": {},
   "outputs": [
    {
     "name": "stdout",
     "output_type": "stream",
     "text": [
      "Explained variance ratio per component: [0.33546894 0.1830097  0.15763395 0.13927241]\n",
      "Total explained variance:  0.8153850044810054\n",
      "{'C': 1000.0, 'gamma': 0.01, 'kernel': 'rbf'}\n",
      "[[68  8]\n",
      " [23 35]]\n",
      "              precision    recall  f1-score   support\n",
      "\n",
      "           0       0.75      0.89      0.81        76\n",
      "           1       0.81      0.60      0.69        58\n",
      "\n",
      "    accuracy                           0.77       134\n",
      "   macro avg       0.78      0.75      0.75       134\n",
      "weighted avg       0.78      0.77      0.76       134\n",
      "\n",
      "0.7686567164179104\n"
     ]
    }
   ],
   "source": [
    "### ANSWER ###\n",
    "\n",
    "n_components = 4\n",
    "pca = PCA(n_components=n_components)\n",
    "_ = pca.fit(x_train)\n",
    "\n",
    "pca_x_train = pca.transform(x_train)\n",
    "pca_x_test = pca.transform(x_test)\n",
    "\n",
    "\n",
    "#plt.plot(pca.explained_variance_ratio_, 'rx--')\n",
    "#plt.ylabel('explained variance'); plt.xlabel('component');\n",
    "print(\"Explained variance ratio per component:\", pca.explained_variance_ratio_)\n",
    "print('Total explained variance: ', sum(pca.explained_variance_ratio_))\n",
    "\n",
    "parameters = {'kernel':['linear', 'sigmoid','rbf'], 'C':[1e-1, 1e0, 1e1, 1e2, 1e3], 'gamma':[1e-2, 1e-1, 1e0, 1e1]}\n",
    "svc = SVC()\n",
    "clf = GridSearchCV(svc, parameters)\n",
    "clf.fit(pca_x_train, y_train)\n",
    "print(clf.best_params_)\n",
    "\n",
    "y_predict = clf.predict(pca_x_test)\n",
    "print(confusion_matrix(y_test,y_predict))\n",
    "print(classification_report(y_test,y_predict))\n",
    "print(accuracy_score(y_test, y_predict))"
   ]
  },
  {
   "cell_type": "markdown",
   "metadata": {},
   "source": [
    "&#9989; **Question 5.3 (1 point):** What is the total explained variance ratio captured by this PCA? How accurate is this model? What evidence are you using to determine that? How many false positives and false negatives does it predict? How does it compare to the 2 PCA component model? To the full feature model?"
   ]
  },
  {
   "cell_type": "markdown",
   "metadata": {},
   "source": [
    "<font size=+3>&#9998;</font> Erase this and put your answer here."
   ]
  },
  {
   "cell_type": "markdown",
   "metadata": {},
   "source": [
    "### ANSWER\n",
    "\n",
    "The total explained variance is 81.5% now and the accuracy jumps to 77%, which is better than the 2-component model. It is now getting the same error as when using all 6 of the features. \n",
    "\n",
    "* 0: 23 FP, 8 FN\n",
    "* 1: 8 FP, 23 FN"
   ]
  },
  {
   "cell_type": "markdown",
   "metadata": {},
   "source": [
    "---\n",
    "### &#128721; STOP\n",
    "**Pause to commit your changes to your Git repository!**\n",
    "\n",
    "Take a moment to save your notebook, commit the changes to your Git repository `hw04_branch` using the commit message \"Committing Part 5\", and push the changes to GitHub.\n",
    "\n",
    "---"
   ]
  },
  {
   "cell_type": "markdown",
   "metadata": {},
   "source": [
    "---\n",
    "## Part 6. How well does PCA work? (14 points)\n",
    "\n",
    "Clearly, the number of components we use in our PCA matters. Let's investigate how they matter by systematically building a model for any number of selected components. While this might seem a bit unnecessary for such a relatively small dataset, **this can be very useful for more complex datasets and models!**\n",
    "\n",
    "### 6.1 Accuracy vs. Components\n",
    "\n",
    "To systematically explore how well PCA improves our classification model, we will do this by writing a function that creates the PCA, the SVC model, fits the training data, predict the labels using test data, and returns the accuracy scores and the explained variance ratio. So your function will take as input:\n",
    "* the number of requested PCA components\n",
    "* the training feature data\n",
    "* the testing feature data\n",
    "* the training data labels\n",
    "* the test data labels\n",
    "\n",
    "and it should **return** the accuracy score for an SVC model fit to pca transformed features and the **total** explained variance ratio (i.e. the sum of the explained variance for each component).\n",
    "\n",
    "**&#9989; Task 6.1 (4 points):** Create this function, which you will use in the next section."
   ]
  },
  {
   "cell_type": "code",
   "execution_count": 21,
   "metadata": {},
   "outputs": [],
   "source": [
    "# Put your code here\n"
   ]
  },
  {
   "cell_type": "code",
   "execution_count": 22,
   "metadata": {},
   "outputs": [],
   "source": [
    "### ANSWER ###\n",
    "\n",
    "def reduced_SVM(n_components, train_features, train_labels, test_features, test_labels):\n",
    "    \n",
    "    pca = PCA(n_components=n_components)\n",
    "    _ = pca.fit(train_features)\n",
    "    \n",
    "    pca_train_features = pca.transform(train_features)\n",
    "    pca_test_features = pca.transform(test_features)\n",
    "    \n",
    "    parameters = {'kernel':['linear', 'sigmoid','rbf'], 'C':[1e-1, 1e0, 1e1, 1e2, 1e3], 'gamma':[1e-2, 1e-1, 1e0, 1e1]}\n",
    "    svc = SVC()\n",
    "    clf = GridSearchCV(svc, parameters)\n",
    "    clf.fit(pca_train_features, y_train)\n",
    "    print(clf.best_params_)\n",
    "\n",
    "    predict_labels = clf.predict(pca_test_features)\n",
    "    \n",
    "    return accuracy_score(test_labels, predict_labels), sum(pca.explained_variance_ratio_)"
   ]
  },
  {
   "cell_type": "markdown",
   "metadata": {},
   "source": [
    "### 6.2 Compute accuracies\n",
    "\n",
    "Now that you have created a function that returns the accuracy for a given number of components, we will use that to plot the how the accuracy of your SVC model changes when we increase the number of components used in the PCA.\n",
    "\n",
    "**&#9989; Task 6.2 (2 points):** Going from **1 to 6** components, use your function above to compute and store (as a list) the accuracy of your models and the total explained variance ratio of your models.\n",
    "\n",
    "**Note**: you'll be running many grid searches to do this, so it might take your computer a bit of time to run all of these models. Please be patient. It shouldn't more than a couple minutes!"
   ]
  },
  {
   "cell_type": "code",
   "execution_count": 23,
   "metadata": {},
   "outputs": [],
   "source": [
    "# Put your code here\n"
   ]
  },
  {
   "cell_type": "code",
   "execution_count": 24,
   "metadata": {},
   "outputs": [
    {
     "name": "stdout",
     "output_type": "stream",
     "text": [
      "{'C': 1.0, 'gamma': 10.0, 'kernel': 'rbf'}\n",
      "Finished SVM with  1 components.\n",
      "{'C': 1.0, 'gamma': 10.0, 'kernel': 'rbf'}\n",
      "Finished SVM with  2 components.\n",
      "{'C': 100.0, 'gamma': 0.1, 'kernel': 'rbf'}\n",
      "Finished SVM with  3 components.\n",
      "{'C': 1000.0, 'gamma': 0.01, 'kernel': 'rbf'}\n",
      "Finished SVM with  4 components.\n",
      "{'C': 10.0, 'gamma': 0.1, 'kernel': 'rbf'}\n",
      "Finished SVM with  5 components.\n",
      "{'C': 100.0, 'gamma': 0.1, 'kernel': 'rbf'}\n",
      "Finished SVM with  6 components.\n"
     ]
    }
   ],
   "source": [
    "### ANSWER ###\n",
    "\n",
    "a = []\n",
    "v = []\n",
    "components = np.arange(1,7,1)\n",
    "\n",
    "for component in components:\n",
    "    \n",
    "    a_temp, v_temp = reduced_SVM(component, x_train, y_train, x_test, y_test)\n",
    "    a.append(a_temp)\n",
    "    v.append(v_temp)\n",
    "    print('Finished SVM with ', component, 'components.')"
   ]
  },
  {
   "cell_type": "markdown",
   "metadata": {},
   "source": [
    "### 6.3 Plot accuracy vs number of components\n",
    "\n",
    "Now that we have those numbers, it makes sense to look at the accuracy vs # of components.\n",
    "\n",
    "**&#9989; Task 6.3 (2 points):** Plot the accuracy vs # of components."
   ]
  },
  {
   "cell_type": "code",
   "execution_count": 25,
   "metadata": {},
   "outputs": [],
   "source": [
    "# Put your code here\n"
   ]
  },
  {
   "cell_type": "code",
   "execution_count": 26,
   "metadata": {},
   "outputs": [
    {
     "data": {
      "text/plain": [
       "Text(0, 0.5, 'Accuracy')"
      ]
     },
     "execution_count": 26,
     "metadata": {},
     "output_type": "execute_result"
    },
    {
     "data": {
      "image/png": "[encoded data removed]",
      "text/plain": [
       "<Figure size 640x480 with 1 Axes>"
      ]
     },
     "metadata": {},
     "output_type": "display_data"
    }
   ],
   "source": [
    "### ANSWER ###\n",
    "\n",
    "plt.plot(components,a, 'x--')\n",
    "plt.xlabel('Components')\n",
    "plt.ylabel('Accuracy')\n"
   ]
  },
  {
   "cell_type": "markdown",
   "metadata": {},
   "source": [
    "**&#9989; Question 6.1 (3 point):** What do you observe about the accuracy as a function of the number of PCA components you use? One goal of using dimension reduction strategies is to develop a model with the fewest features while maximizing the accuracy. Given that motivation, what number of principal components would you choose and why?  "
   ]
  },
  {
   "cell_type": "markdown",
   "metadata": {},
   "source": [
    "<font size=+3>&#9998;</font> Erase this and put your answer here."
   ]
  },
  {
   "cell_type": "markdown",
   "metadata": {},
   "source": [
    "###ANSWER \n",
    "\n",
    "I would choose 4 components since we observe the same accuracy as the full model but with fewer components. "
   ]
  },
  {
   "cell_type": "markdown",
   "metadata": {},
   "source": [
    "### 6.4 Plot total explained variance vs number of components\n",
    "\n",
    "What if we look at total explained variance as a function of # of components?\n",
    "\n",
    "**&#9989; Task 6.4 (2 points):** Plot the total explained variance ratio vs # of components. "
   ]
  },
  {
   "cell_type": "code",
   "execution_count": 27,
   "metadata": {},
   "outputs": [],
   "source": [
    "# Put your code here\n"
   ]
  },
  {
   "cell_type": "code",
   "execution_count": 28,
   "metadata": {},
   "outputs": [
    {
     "data": {
      "text/plain": [
       "Text(0, 0.5, 'Explained Variance')"
      ]
     },
     "execution_count": 28,
     "metadata": {},
     "output_type": "execute_result"
    },
    {
     "data": {
      "image/png": "[encoded data removed]",
      "text/plain": [
       "<Figure size 640x480 with 1 Axes>"
      ]
     },
     "metadata": {},
     "output_type": "display_data"
    }
   ],
   "source": [
    "### ANSWER ###\n",
    "\n",
    "plt.plot(components,v, 'x--')\n",
    "plt.xlabel('Components')\n",
    "plt.ylabel('Explained Variance')\n"
   ]
  },
  {
   "cell_type": "markdown",
   "metadata": {},
   "source": [
    "**&#9989; Question 6.2 (1 points):** Based on your answer from question 6.1 and the plot above, what is the explained variance for the number of principal components that you chose?"
   ]
  },
  {
   "cell_type": "markdown",
   "metadata": {},
   "source": [
    "<font size=+3>&#9998;</font> Erase this and put your answer here."
   ]
  },
  {
   "cell_type": "markdown",
   "metadata": {},
   "source": [
    "###ANSWER\n",
    "\n",
    "With 4 principal components we see about 80% of the explained variance. "
   ]
  },
  {
   "cell_type": "markdown",
   "metadata": {},
   "source": [
    "---\n",
    "### &#128721; STOP\n",
    "**Pause to commit your changes to your Git repository!**\n",
    "\n",
    "Take a moment to save your notebook, commit the changes to your Git repository `hw04_branch` using the commit message \"Committing Part 6\", and push the changes to GitHub.\n",
    "\n",
    "---"
   ]
  },
  {
   "cell_type": "markdown",
   "metadata": {},
   "source": [
    "---\n",
    "## 7. Revisiting the Perceptron classifier (10 points)\n",
    "\n",
    "In class you implemented your own perceptron class. Fortunately, there is a perceptron classifier already built into scikit learn, so in this portion of the assignment we will be exploring scikit learn's perceptron\n"
   ]
  },
  {
   "cell_type": "markdown",
   "metadata": {},
   "source": [
    "&#9989; **Do this**: \n",
    "Run the following cell to import the code from the Perceptron class."
   ]
  },
  {
   "cell_type": "code",
   "execution_count": 29,
   "metadata": {},
   "outputs": [],
   "source": [
    "from sklearn.linear_model import Perceptron"
   ]
  },
  {
   "cell_type": "markdown",
   "metadata": {},
   "source": [
    "**&#9989; Task 7.1 (4 points):** Create an instance of the `Perceptron` object using **alpha=0.01** and **penalty='l2'**. Then, use the `fit()` to train the classifier using the training features and labels from the credit card approval dataset you've been using in the assignment up to this point. Finally, use the `predict()` method to predict the labels for the test features and print the accuracy score."
   ]
  },
  {
   "cell_type": "code",
   "execution_count": 30,
   "metadata": {},
   "outputs": [],
   "source": [
    "# Put your code here\n"
   ]
  },
  {
   "cell_type": "code",
   "execution_count": 31,
   "metadata": {},
   "outputs": [
    {
     "data": {
      "text/plain": [
       "0.6268656716417911"
      ]
     },
     "execution_count": 31,
     "metadata": {},
     "output_type": "execute_result"
    }
   ],
   "source": [
    "### ANSWER\n",
    "p = Perceptron(penalty=\"l2\",alpha=.01)\n",
    "\n",
    "# The commented line below will throw an error, but it likely what students will try first\n",
    "# It may not be obvious to them how to fix it, so this is something that they\n",
    "# will likely have to explore and experiment with.\n",
    "# Try to coach them to reaching a solution rather than just given them the answer\n",
    "\n",
    "p.fit(x_train, y_train)\n",
    "\n",
    "#p.fit(np.array(x_train), np.array(y_train))\n",
    "predictions = p.predict(x_test)\n",
    "accuracy_score(y_test, predictions)"
   ]
  },
  {
   "cell_type": "markdown",
   "metadata": {},
   "source": [
    "**&#9989; Question 7.1 (1 points):** How well of job did the Perceptron classifier do on the credit card approval dataset? How does it compare to the SVC model you built in the previous parts of this assignment?"
   ]
  },
  {
   "cell_type": "markdown",
   "metadata": {},
   "source": [
    "<font size=+3>&#9998;</font> Erase this and put your answer here."
   ]
  },
  {
   "cell_type": "markdown",
   "metadata": {},
   "source": [
    "### ANSWER\n",
    "\n",
    "They should comment that it's only getting about 60% of them right, which is a worse than the SVM, but it's also much faster to train. This answer should just indicate that they are thinking about what they're seeing."
   ]
  },
  {
   "cell_type": "markdown",
   "metadata": {},
   "source": [
    "**&#9989; Task 7.2 (4 points):** Now perform a grid search as you did with the support vector classifier earlier in this assignment. Here you will want to search over `penalty` = `l2`, `l1`, `elasticnet` and `alpha`= `0.0001`, `0.001`, `0.01`, and `0.1`. Find and return the best parameters, the confusion matrix, and the classification report. "
   ]
  },
  {
   "cell_type": "code",
   "execution_count": 32,
   "metadata": {},
   "outputs": [],
   "source": [
    "# Put your code here\n"
   ]
  },
  {
   "cell_type": "code",
   "execution_count": 33,
   "metadata": {},
   "outputs": [
    {
     "name": "stdout",
     "output_type": "stream",
     "text": [
      "Parameters {'alpha': 0.0001, 'penalty': 'l2'}\n",
      "[[59 17]\n",
      " [22 36]]\n",
      "              precision    recall  f1-score   support\n",
      "\n",
      "           0       0.73      0.78      0.75        76\n",
      "           1       0.68      0.62      0.65        58\n",
      "\n",
      "    accuracy                           0.71       134\n",
      "   macro avg       0.70      0.70      0.70       134\n",
      "weighted avg       0.71      0.71      0.71       134\n",
      "\n"
     ]
    }
   ],
   "source": [
    "### ANSWER\n",
    "parameters = {'penalty':['l2', 'l1', 'elasticnet'], 'alpha':[0.0001, 0.001, 0.01, 0.1]}\n",
    "p = Perceptron()\n",
    "clf = GridSearchCV(p, parameters)\n",
    "clf.fit(x_train, y_train)\n",
    "print(\"Parameters\", clf.best_params_)\n",
    "y_predict = clf.predict(x_test)\n",
    "print(confusion_matrix(y_test,y_predict))\n",
    "print(classification_report(y_test,y_predict))"
   ]
  },
  {
   "cell_type": "markdown",
   "metadata": {},
   "source": [
    "**&#9989; Question 7.2 (1 point):** How do these results compare to the results when using a support vector classifier now that we optimized the parameters? Did the perceptron do better or worse? "
   ]
  },
  {
   "cell_type": "markdown",
   "metadata": {},
   "source": [
    "<font size=+3>&#9998;</font> Erase this and put your answer here."
   ]
  },
  {
   "cell_type": "markdown",
   "metadata": {},
   "source": [
    "### ANSWER\n",
    "\n",
    "The support vector classifier did get a slightly higher accuracy at 77% compared to the 75% by the perceptron. Based on this the support vector classifier seems to have performed better. "
   ]
  },
  {
   "cell_type": "markdown",
   "metadata": {},
   "source": [
    "---\n",
    "### &#128721; STOP\n",
    "**Pause to commit your changes to your Git repository!**\n",
    "\n",
    "Take a moment to save your notebook, commit the changes to your Git repository `hw04_branch` using the commit message \"Committing Part 7\", and push the changes to GitHub.\n",
    "\n",
    "---"
   ]
  },
  {
   "cell_type": "markdown",
   "metadata": {},
   "source": [
    "---\n",
    "## Part 1. Continued\n",
    "\n",
    "Now that you've finished your new \"development\" on your 202 turn-in repo, you can merge your work back into your `main` branch.\n",
    "\n",
    "**&#9989; Do the following**:\n",
    "\n",
    "7. Switch back to your `main` branch. \n",
    "8. Merge your `hw04_branch` with your `main` branch. \n",
    "9. Finally, push the changes to GitHub."
   ]
  },
  {
   "cell_type": "markdown",
   "metadata": {},
   "source": [
    "---\n",
    "## Assignment wrap-up¶\n",
    "Please fill out the form that appears when you run the code below. **You must completely fill this out in order to receive credit for the assignment!**"
   ]
  },
  {
   "cell_type": "code",
   "execution_count": 35,
   "metadata": {},
   "outputs": [
    {
     "data": {
      "text/html": [
       "\n",
       "<iframe \n",
       "\tsrc=\"https://forms.office.com/r/jZyy65R83k\" \n",
       "\twidth=\"800px\" \n",
       "\theight=\"600px\" \n",
       "\tframeborder=\"0\" \n",
       "\tmarginheight=\"0\" \n",
       "\tmarginwidth=\"0\">\n",
       "\tLoading...\n",
       "</iframe>\n"
      ],
      "text/plain": [
       "<IPython.core.display.HTML object>"
      ]
     },
     "execution_count": 35,
     "metadata": {},
     "output_type": "execute_result"
    }
   ],
   "source": [
    "from IPython.display import HTML\n",
    "HTML(\n",
    "\"\"\"\n",
    "<iframe \n",
    "\tsrc=\"https://forms.office.com/r/jZyy65R83k\" \n",
    "\twidth=\"800px\" \n",
    "\theight=\"600px\" \n",
    "\tframeborder=\"0\" \n",
    "\tmarginheight=\"0\" \n",
    "\tmarginwidth=\"0\">\n",
    "\tLoading...\n",
    "</iframe>\n",
    "\"\"\"\n",
    ")"
   ]
  },
  {
   "cell_type": "markdown",
   "metadata": {},
   "source": [
    "### Congratulations, you're done!\n",
    "Submit this assignment by uploading it to the course Desire2Learn web page. Go to the \"Homework Assignments\" folder, find the submission folder for Homework 4, and upload your notebook."
   ]
  },
  {
   "cell_type": "markdown",
   "metadata": {},
   "source": [
    "&#169; Copyright 2024,  Department of Computational Mathematics, Science and Engineering at Michigan State University"
   ]
  },
  {
   "cell_type": "code",
   "execution_count": null,
   "metadata": {},
   "outputs": [],
   "source": []
  }
 ],
 "metadata": {
  "kernelspec": {
   "display_name": "Python 3 (ipykernel)",
   "language": "python",
   "name": "python3"
  },
  "language_info": {
   "codemirror_mode": {
    "name": "ipython",
    "version": 3
   },
   "file_extension": ".py",
   "mimetype": "text/x-python",
   "name": "python",
   "nbconvert_exporter": "python",
   "pygments_lexer": "ipython3",
   "version": "3.8.3"
  }
 },
 "nbformat": 4,
 "nbformat_minor": 4
}
