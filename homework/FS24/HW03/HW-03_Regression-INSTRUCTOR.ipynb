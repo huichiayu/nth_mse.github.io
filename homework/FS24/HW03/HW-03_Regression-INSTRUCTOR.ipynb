{
 "cells": [
  {
   "cell_type": "markdown",
   "metadata": {},
   "source": [
    "###ANSWER (for making sure this gets removed)\n",
    "\n",
    "**Grading Rubric (72 points total)**\n",
    "\n",
    "---\n",
    "\n",
    "### Part 1: Git Branch (6 points)\n",
    "\n",
    "- **1 point**: Created a new directory called `hw-03` in the `cmse202-s25-turnin` repository and moved the notebook there.\n",
    "- **1 point**: Created a new branch called `hw03_branch` and checked it out.\n",
    "- **1 point**: Added the notebook to the new branch, committed the changes, and pushed to GitHub.\n",
    "- **1 point**: Provided the command that the instructor should run to clone the repository in the markdown cell.\n",
    "- **1 point**: Added the Professor and TA as collaborators to the repository.\n",
    "- **1 point**: Merged the `hw03_branch` back into the main branch and pushed the changes to GitHub at the end.\n",
    "\n",
    "---\n",
    "\n",
    "### Part 2: Loading up on Portuguese Wine (13 points)\n",
    "\n",
    "#### Question 2.1 (1 point)\n",
    "\n",
    "- **1 point**: Provided the correct command(s) to download the wine datasets.\n",
    "\n",
    "#### Question 2.2 (4 points)\n",
    "\n",
    "- **1 point**: Correctly loaded the red wine data into a DataFrame.\n",
    "- **1 point**: Correctly loaded the white wine data into a DataFrame.\n",
    "- **1 point**: Displayed the first 5 rows of each DataFrame.\n",
    "- **1 point**: Displayed the last 5 rows of each DataFrame.\n",
    "\n",
    "#### Question 2.3 (4 points)\n",
    "\n",
    "- **2 points**: Created a correlation heatmap for red wines using Seaborn.\n",
    "- **1 point**: Rotated tick labels for readability.\n",
    "- **1 point**: Used `tight_layout()` to avoid label cut-offs.\n",
    "\n",
    "#### Question 2.4 (4 points)\n",
    "\n",
    "- **2 points**: Created a correlation heatmap for white wines using Seaborn.\n",
    "- **1 point**: Rotated tick labels for readability.\n",
    "- **1 point**: Used `tight_layout()` to avoid label cut-offs.\n",
    "- **1 point**: Answered the question about which features are different between red and white wines.\n",
    "\n",
    "---\n",
    "\n",
    "### Part 3: One Variable Linear Regression (21 points)\n",
    "\n",
    "#### Question 3.1 (3 points)\n",
    "\n",
    "- **1 point**: Combined the red and white wine DataFrames into one DataFrame using `pd.concat()`.\n",
    "- **1 point**: Performed OLS linear regression to predict fixed acidity using citric acid on the combined data.\n",
    "- **1 point**: Displayed the results summary.\n",
    "\n",
    "#### Question 3.2 (3 points)\n",
    "\n",
    "- **1 point**: Wrote the equation of the best-fit linear relationship between fixed acidity and citric acid (using the coefficients from the OLS results).\n",
    "- **1 point**: Stated whether fixed acidity increases or decreases with citric acid and explained which aspect of the regression output indicates this.\n",
    "- **1 point**: Determined if the relationship is statistically significant based on the p-value and justified the answer.\n",
    "\n",
    "#### Question 3.3 (4 points total, 2 points per part)\n",
    "\n",
    "##### *Question 3.3.Red (2 points)*\n",
    "\n",
    "- **1 point**: Performed OLS regression on red wine data to predict fixed acidity using citric acid.\n",
    "- **1 point**: Displayed the results summary.\n",
    "\n",
    "##### *Question 3.3.White (2 points)*\n",
    "\n",
    "- **1 point**: Performed OLS regression on white wine data to predict fixed acidity using citric acid.\n",
    "- **1 point**: Displayed the results summary.\n",
    "\n",
    "#### Question 3.4 (5 points)\n",
    "\n",
    "- **1 point**: Wrote the equation of the best-fit linear relationship for red wine.\n",
    "- **1 point**: Wrote the equation of the best-fit linear relationship for white wine.\n",
    "- **1 point**: Stated whether fixed acidity increases or decreases with citric acid for both wine types.\n",
    "- **1 point**: Determined if the relationships are statistically significant for each wine type and justified the answers based on p-values.\n",
    "- **1 point**: Provided any additional relevant observations or insights.\n",
    "\n",
    "#### Question 3.5 (6 points)\n",
    "\n",
    "- **1 point**: Made a scatterplot of fixed acidity vs. citric acid.\n",
    "- **1 point**: Color-coded the points for red and white wines.\n",
    "- **2 points**: Plotted the best-fit lines for red wine, white wine, and combined data (1 point for plotting the three lines, 1 point for matching colors appropriately).\n",
    "- **1 point**: Labeled the axes and added a title.\n",
    "- **1 point**: Included a legend.\n",
    "\n",
    "\n",
    "\n",
    "---\n",
    "\n",
    "### Part 4: Multiple Regression (16 points)\n",
    "\n",
    "#### Question 4.1 (3 points)\n",
    "\n",
    "- **1 point**: Performed multivariable linear regression using OLS to predict quality based on volatile acidity, citric acid, and alcohol.\n",
    "- **1 point**: Used `sm.add_constant()` correctly.\n",
    "- **1 point**: Displayed the results summary.\n",
    "\n",
    "#### Question 4.2 (4 points)\n",
    "\n",
    "- **2 points**: Calculated the predicted quality rating for the given wine sample, showing the calculation using the coefficients from the regression model.\n",
    "- **2 points**: Specified whether each feature (volatile acidity, citric acid, and alcohol) is statistically significant in the model and justified the answers based on p-values.\n",
    "\n",
    "#### Question 4.3 (3 points)\n",
    "\n",
    "- **1 point**: Performed the multivariable linear regression again, this time including additional features (e.g., adding 'sulphates').\n",
    "- **1 point**: Used `sm.add_constant()` correctly.\n",
    "- **1 point**: Displayed the results summary.\n",
    "\n",
    "#### Question 4.4 (4 points)\n",
    "\n",
    "- **1 point**: Stated whether the new model is better or worse than the original model (e.g., comparing R-squared values).\n",
    "- **1 point**: Justified the answer based on metrics from the regression output.\n",
    "- **2 points**: Explained why we might want to use a model with fewer features even if it fits the data slightly worse, discussing concepts like overfitting, model simplicity, or interpretability.\n",
    "\n",
    "#### Question 4.5 (2 points)\n",
    "\n",
    "- **1 point**: Explained that including the 'color' column directly in `OLS()` will not work because it's a categorical variable.\n",
    "- **1 point**: Explained that we need to convert the 'color' variable into a numerical format (e.g., using dummy variables) to include it in the regression model.\n",
    "\n",
    "---\n",
    "\n",
    "### Part 5: Logistic Regression (16 points)\n",
    "\n",
    "#### Question 5.1 (4 points)\n",
    "\n",
    "- **2 points**: Added the 'color' column to the red and white wine DataFrames correctly (1 point each).\n",
    "- **1 point**: Concatenated the DataFrames into one combined DataFrame using `pd.concat()`.\n",
    "- **1 point**: Split the combined DataFrame into features (excluding 'color' and 'quality') and labels ('color').\n",
    "\n",
    "#### Question 5.2 (4 points)\n",
    "\n",
    "- **2 points**: Correctly used `train_test_split` to split the data into training and testing sets with 75% training data.\n",
    "- **1 point**: Set `random_state=0` for reproducibility.\n",
    "- **1 point**: Printed the shapes of the training and testing features and labels to verify the split.\n",
    "\n",
    "#### Question 5.3 (4 points)\n",
    "\n",
    "- **1 point**: Trained the logistic regression model using the training data.\n",
    "- **1 point**: Used `sm.add_constant()` correctly.\n",
    "- **1 point**: Displayed the logistic regression results summary.\n",
    "- **1 point**: Correctly interpreted any warnings or messages from the regression output.\n",
    "\n",
    "#### Question 5.4 (4 points)\n",
    "\n",
    "- **2 points**: Used the model to predict on the testing features and converted the probabilities to predicted labels (e.g., using a threshold of 0.5).\n",
    "- **1 point**: Computed the accuracy score (fraction of correctly predicted testing data points).\n",
    "- **1 point**: Displayed the accuracy result.\n",
    "\n",
    "---\n",
    "\n",
    "**Note**: Partial credit can be awarded for each question based on the completeness and correctness of the work. Ensure that all code runs correctly and produces the expected output. Errors or omissions should be noted, and points deducted accordingly."
   ]
  },
  {
   "cell_type": "markdown",
   "metadata": {},
   "source": [
    "# Homework Assignment 3\n",
    "## Regression models"
   ]
  },
  {
   "cell_type": "markdown",
   "metadata": {},
   "source": [
    "### <p style=\"text-align: right;\"> &#9989; Put your name here.</p>\n",
    "### <p style=\"text-align: right;\"> &#9989; Put your _GitHub username_ here.</p>"
   ]
  },
  {
   "cell_type": "markdown",
   "metadata": {},
   "source": [
    "### Goal for this homework assignment\n",
    "By now, you have learned a bit about regression models. In this assignment, you will practice:\n",
    "\n",
    "* Using branches in Git\n",
    "* Performing linear regression\n",
    "* Performing multiple regression\n",
    "* Performing logistic regression\n",
    "\n",
    "**This assignment is due by 11:59 pm on Friday, November 15th.** It should be uploaded into the \"Homework Assignments\" submission folder for Homework 3.  Submission instructions can be found at the end of the notebook. **There are 72 standard points possible in this assignment. The distribution of points can be found in the section headers**.\n"
   ]
  },
  {
   "cell_type": "markdown",
   "metadata": {},
   "source": [
    "---\n",
    "## Part 1: Git Branch (6 points)\n",
    "\n",
    "\n",
    "For this assignment, you're going to add it to the `cmse202-s25-turnin` repository you created in class so that you can track your progress on the assignment and preserve the final version that you turn in. In order to do this you need to\n",
    "\n",
    "**&#9989; Do the following**:\n",
    "\n",
    "1. Navigate to your `cmse202-s25-turnin` **local** repository and create a new directory called `hw-03`\n",
    "\n",
    "2. Move this notebook into that **new directory** in your repository, but **do not** add or commit it to your repository yet.\n",
    "\n",
    "3. Create a **new branch** called `hw03_branch` (The Day 16 PCA and ICA content has information on how to do this).\n",
    "\n",
    "4. \"Check out\" the new branch (so that you'll be working on that branch). \n",
    "\n",
    "5. Double check to make sure you are actually on that branch.\n",
    "\n",
    "6. Once you're certain you're working on your new branch, add this notebook to your repository, then make a commit and push it to GitHub. You may need to use `git push origin hw03_branch` to push your new branch to GitHub.\n",
    "\n",
    "Finally, &#9989; **Do this**: Before you move on, put the command that your instructor should run to clone your repository in the markdown cell below."
   ]
  },
  {
   "cell_type": "markdown",
   "metadata": {},
   "source": [
    "<font size=6 color=\"#009600\">&#9998;</font> Put your answer here"
   ]
  },
  {
   "cell_type": "markdown",
   "metadata": {},
   "source": [
    "**Important**: Double check you've added your Professor and your TA as collaborators to your \"turnin\" repository (you should have done this in the previous homework assignment).\n",
    "\n",
    "**Also important**: Make sure that the version of this notebook that you are working on is the same one that you just added to your repository! If you are working on a different copy of the notebook, **none of your changes will be tracked**!\n",
    "\n",
    "If everything went as intended, the file should now show up on your GitHub account in the \"`cmse202-s25-turnin`\" repository inside the `hw-03` directory that you just created within the new branch `hw03-branch`.\n",
    "\n",
    "Periodically, **you'll be asked to commit your changes to the repository and push them to the remote GitHub location**. Of course, you can always commit your changes more often than that, if you wish.  It can be good to get into a habit of committing your changes any time you make a significant modification, or when you stop working on the project for a bit.\n"
   ]
  },
  {
   "cell_type": "markdown",
   "metadata": {},
   "source": [
    "---\n",
    "## Part 2: Loading up on Portuguese Wine (13 points)\n",
    "\n",
    "\n",
    "For this homework, you’ll be working with the Wine Quality dataset from the UCI Machine Learning Repository, which contains measurements of various chemical properties of red and white wines. The dataset includes properties like fixed acidity, volatile acidity, citric acid, and other measurements important for understanding wine characteristics. This data was collected to support predictive models of wine quality, based on a range of measurable attributes. The wine dataset is distributed into two files: 1) for red wines and 2) for white wines. \n",
    "\n",
    "While Parts 3, 4, and 5 are structured so that they can be completed independently of each other, it is recommended to finish Part 2 before moving on to these sections. To get started on Part 2, you’ll need to download the following file:\n",
    "\n",
    "https://archive.ics.uci.edu/ml/machine-learning-databases/wine-quality/winequality-red.csv\n",
    "https://archive.ics.uci.edu/ml/machine-learning-databases/wine-quality/winequality-white.csv\n",
    "\n",
    "and a description of the files here:\n",
    "\n",
    "https://archive.ics.uci.edu/ml/machine-learning-databases/wine-quality/winequality.names\n",
    "\n",
    "✅ **Question 2.1 (1 point)**: Do this: Save the winequality-red.csv, winequality-white.csv,  file in the same directory as your notebook. Then, in the cell below, put the command line command(s) you used to download the file. If you did not use a command line tool to download the file, write down the command(s) that would have downloaded the file."
   ]
  },
  {
   "cell_type": "markdown",
   "metadata": {},
   "source": [
    "``` bash\n",
    "# Put the command you used to download the wine dataests file here.\n",
    "```"
   ]
  },
  {
   "cell_type": "markdown",
   "metadata": {},
   "source": []
  },
  {
   "cell_type": "code",
   "execution_count": null,
   "metadata": {
    "ExecuteTime": {
     "end_time": "2021-03-15T19:45:53.844104Z",
     "start_time": "2021-03-15T19:45:53.597536Z"
    }
   },
   "outputs": [],
   "source": [
    "###ANSWER\n",
    "!curl -O https://archive.ics.uci.edu/ml/machine-learning-databases/wine-quality/winequality-red.csv\n",
    "!curl -O https://archive.ics.uci.edu/ml/machine-learning-databases/wine-quality/winequality-white.csv"
   ]
  },
  {
   "cell_type": "markdown",
   "metadata": {},
   "source": [
    "&#9989;  **Question 2.2 (4 points)**: Next, load the data of red and white wine into two separate Pandas DataFrames and display the first and last 5 rows. "
   ]
  },
  {
   "cell_type": "code",
   "execution_count": null,
   "metadata": {},
   "outputs": [],
   "source": [
    "# Put your code here"
   ]
  },
  {
   "cell_type": "code",
   "execution_count": 7,
   "metadata": {},
   "outputs": [],
   "source": [
    "###ANSWER\n",
    "import pandas as pd\n",
    "wine_white_df = pd.read_csv(\"wine+quality/winequality-white.csv\", delimiter=';')\n",
    "wine_red_df = pd.read_csv(\"wine+quality/winequality-red.csv\", delimiter=';')\n",
    "wine_white_df\n",
    "\n",
    "wine_red_df.head()\n",
    "wine_red_df.tail()\n",
    "\n"
   ]
  },
  {
   "cell_type": "markdown",
   "metadata": {},
   "source": [
    "&#9989;  **Question 2.3 (4 points)**: Let’s investigate which features of red wines are correlated by plotting a correlation heatmap using Seaborn. Create a heatmap to visualize the relationships between various chemical properties of red wine.\n",
    "\n",
    "Remember to rotate the tick labels so they are easy to read, and use tight_layout() to avoid any label cut-offs."
   ]
  },
  {
   "cell_type": "code",
   "execution_count": 2,
   "metadata": {},
   "outputs": [],
   "source": [
    "# Put your code here"
   ]
  },
  {
   "cell_type": "code",
   "execution_count": 6,
   "metadata": {},
   "outputs": [
    {
     "name": "stdout",
     "output_type": "stream",
     "text": [
      "%pylab is deprecated, use %matplotlib inline and import the required libraries.\n",
      "Populating the interactive namespace from numpy and matplotlib\n"
     ]
    },
    {
     "data": {
      "image/png": "[encoded data removed]",
      "text/plain": [
       "<Figure size 640x480 with 2 Axes>"
      ]
     },
     "metadata": {},
     "output_type": "display_data"
    }
   ],
   "source": [
    "###ANSWER\n",
    "%pylab inline\n",
    "\n",
    "import matplotlib.pyplot as plt\n",
    "import seaborn as sns\n",
    "sns.heatmap(wine_red_df.corr())\n",
    "plt.xticks(rotation=90)\n",
    "plt.yticks(rotation=0)\n",
    "plt.tight_layout()"
   ]
  },
  {
   "cell_type": "markdown",
   "metadata": {},
   "source": [
    "&#9989;  **Question 2.4 (4 points)**: Let’s investigate which features of white wines now are correlated by plotting a correlation heatmap using Seaborn. Create a heatmap to visualize the relationships between various chemical properties of red wine.\n",
    "\n",
    "Remember to rotate the tick labels so they are easy to read, and use tight_layout() to avoid any label cut-offs.\n",
    "Which features are different between red and white?"
   ]
  },
  {
   "cell_type": "code",
   "execution_count": null,
   "metadata": {},
   "outputs": [],
   "source": [
    "# Put your code here"
   ]
  },
  {
   "cell_type": "code",
   "execution_count": 17,
   "metadata": {
    "scrolled": false
   },
   "outputs": [
    {
     "name": "stdout",
     "output_type": "stream",
     "text": [
      "%pylab is deprecated, use %matplotlib inline and import the required libraries.\n",
      "Populating the interactive namespace from numpy and matplotlib\n"
     ]
    },
    {
     "data": {
      "image/png": "[encoded data removed]",
      "text/plain": [
       "<Figure size 640x480 with 2 Axes>"
      ]
     },
     "metadata": {},
     "output_type": "display_data"
    }
   ],
   "source": [
    "###ANSWER\n",
    "%pylab inline\n",
    "\n",
    "import matplotlib.pyplot as plt\n",
    "import seaborn as sns\n",
    "sns.heatmap(wine_white_df.corr())\n",
    "plt.xticks(rotation=90)\n",
    "plt.yticks(rotation=0)\n",
    "plt.tight_layout()"
   ]
  },
  {
   "cell_type": "markdown",
   "metadata": {},
   "source": [
    "---\n",
    "### &#128721; STOP\n",
    "**Pause to commit your changes to your Git repository!**\n",
    "\n",
    "Take a moment to save your notebook, commit the changes to your local `git` repository using the commit message \"Part 2 complete\", and push the changes to GitHub.\n",
    "\n",
    "---"
   ]
  },
  {
   "cell_type": "markdown",
   "metadata": {},
   "source": [
    "---\n",
    "## Part 3: One Variable Linear Regression (21 points)\n",
    "\n",
    "In exploring the characteristics of wine, understanding the relationship between individual chemical components can provide insights into the wine’s flavor profile, quality, and potential fermentation properties. One simple yet valuable analysis is examining the relationship between citric acid and fixed acidity.\n",
    "\n",
    "Citric acid, a natural preservative that adds freshness, often contributes to the tartness and overall acidity in wine. Meanwhile, fixed acidity is a broader measure that includes acids, such as tartaric and malic acid, giving wine its sharp, crisp taste. By performing a single-variable linear regression with citric acid as the predictor for fixed acidity, we can investigate whether higher levels of citric acid are associated with an increase in fixed acidity, potentially indicating a specific acid balance characteristic to certain wine types.\n",
    "\n",
    "This regression analysis can reveal subtle patterns in acidity management, helping winemakers predict and control acidity levels for quality consistency, and giving scientists insight into how specific acid types interact in the broader context of wine chemistry.\n",
    "\n",
    "&#9989;  **Question 3.1 (3 points)**: Using the OLS method in `statsmodels`, perform a linear regression to predict the fixed acidity of a wine sample using its citric acid content and display the results summary. Remember that you may need to use the add_constant() method to ensure OLS fits a general line  y = ax + b  to the data rather than a line through the origin  y = ax .\n",
    "\n",
    "For this problem, make sure that you’re using the entire wine dataset, not just a subset of the data. So the first part should be to make a combined dataframe (using `pd.concat`) out of white and red"
   ]
  },
  {
   "cell_type": "code",
   "execution_count": null,
   "metadata": {},
   "outputs": [],
   "source": [
    "# Put your code here"
   ]
  },
  {
   "cell_type": "code",
   "execution_count": 19,
   "metadata": {},
   "outputs": [
    {
     "name": "stdout",
     "output_type": "stream",
     "text": [
      "                            OLS Regression Results                            \n",
      "==============================================================================\n",
      "Dep. Variable:          fixed acidity   R-squared:                       0.105\n",
      "Model:                            OLS   Adj. R-squared:                  0.105\n",
      "Method:                 Least Squares   F-statistic:                     764.1\n",
      "Date:                Sun, 27 Oct 2024   Prob (F-statistic):          4.19e-159\n",
      "Time:                        15:59:22   Log-Likelihood:                -10544.\n",
      "No. Observations:                6497   AIC:                         2.109e+04\n",
      "Df Residuals:                    6495   BIC:                         2.111e+04\n",
      "Df Model:                           1                                         \n",
      "Covariance Type:            nonrobust                                         \n",
      "===============================================================================\n",
      "                  coef    std err          t      P>|t|      [0.025      0.975]\n",
      "-------------------------------------------------------------------------------\n",
      "const           6.2931      0.037    171.614      0.000       6.221       6.365\n",
      "citric acid     2.8944      0.105     27.642      0.000       2.689       3.100\n",
      "==============================================================================\n",
      "Omnibus:                     1737.242   Durbin-Watson:                   0.932\n",
      "Prob(Omnibus):                  0.000   Jarque-Bera (JB):             5414.227\n",
      "Skew:                           1.364   Prob(JB):                         0.00\n",
      "Kurtosis:                       6.544   Cond. No.                         7.59\n",
      "==============================================================================\n",
      "\n",
      "Notes:\n",
      "[1] Standard Errors assume that the covariance matrix of the errors is correctly specified.\n"
     ]
    }
   ],
   "source": [
    "###ANSWER\n",
    "import statsmodels.api as sm\n",
    "\n",
    "wine_df = pd.concat([wine_white_df, wine_red_df])\n",
    "# Set up the independent (X) and dependent (y) variables\n",
    "X = sm.add_constant(wine_df[\"citric acid\"])  # Adds a constant term to the predictor\n",
    "y = wine_df[\"fixed acidity\"]\n",
    "\n",
    "# Fit the model\n",
    "model = sm.OLS(y, X).fit()\n",
    "\n",
    "# Display the summary\n",
    "print(model.summary())\n"
   ]
  },
  {
   "cell_type": "markdown",
   "metadata": {},
   "source": [
    "&#9989;  **Question 3.2 (3 points)**: Answer the following questions: \n",
    "\n",
    "1.\tWhat was the equation of the best-fit linear relationship between a red wine’s fixed acidity and its citric acid content?\n",
    "2.\tAs a red wine’s citric acid content increases, does its fixed acidity increase or decrease? What aspect of the regression output tells you this?\n",
    "3.\tBased on the  p -value for citric acid, is the relationship you found between a wine’s fixed acidity and citric acid content statistically significant? Justify your answer."
   ]
  },
  {
   "cell_type": "markdown",
   "metadata": {},
   "source": [
    "<font size=+3>&#9998;</font> Put your answers here:"
   ]
  },
  {
   "cell_type": "markdown",
   "metadata": {},
   "source": [
    "###ANSWER\n",
    "\n",
    "1. $\\text{fixed acidity} = 2.9 \\times \\text{citric acid} +6.2$\n",
    "2. The slope is positive, so as citric acid increases, the fixed acidity increases\n",
    "3. The $p$-value displayed is $0.000$ (way less than $0.05$), so this relationship seems significant based on $p$-values.\n"
   ]
  },
  {
   "cell_type": "markdown",
   "metadata": {},
   "source": [
    "&#9989; **Question 3.3 (4 points, 2 points per part)**: Now, let's perform linear regression separately for red and white wine. To avoid confusion and ensure that results are not overwritten, make sure that the variable names for the OLS models and results are different for each wine type.\n",
    "\n",
    "&#9989; **Question 3.3.Red (2 points)**: Using the `OLS` method in `statsmodels`, perform a linear regression to predict the **fixed acidity** of red wine samples using **citric acid** as the predictor, and display the results summary.\n",
    "\n"
   ]
  },
  {
   "cell_type": "code",
   "execution_count": null,
   "metadata": {},
   "outputs": [],
   "source": [
    "# Put your code here"
   ]
  },
  {
   "cell_type": "code",
   "execution_count": 29,
   "metadata": {},
   "outputs": [
    {
     "name": "stdout",
     "output_type": "stream",
     "text": [
      "                            OLS Regression Results                            \n",
      "==============================================================================\n",
      "Dep. Variable:       volatile acidity   R-squared:                       0.305\n",
      "Model:                            OLS   Adj. R-squared:                  0.305\n",
      "Method:                 Least Squares   F-statistic:                     701.7\n",
      "Date:                Sun, 27 Oct 2024   Prob (F-statistic):          1.81e-128\n",
      "Time:                        16:19:51   Log-Likelihood:                 773.14\n",
      "No. Observations:                1599   AIC:                            -1542.\n",
      "Df Residuals:                    1597   BIC:                            -1532.\n",
      "Df Model:                           1                                         \n",
      "Covariance Type:            nonrobust                                         \n",
      "===============================================================================\n",
      "                  coef    std err          t      P>|t|      [0.025      0.975]\n",
      "-------------------------------------------------------------------------------\n",
      "const           0.6654      0.006    104.014      0.000       0.653       0.678\n",
      "citric acid    -0.5078      0.019    -26.489      0.000      -0.545      -0.470\n",
      "==============================================================================\n",
      "Omnibus:                      290.605   Durbin-Watson:                   1.653\n",
      "Prob(Omnibus):                  0.000   Jarque-Bera (JB):              667.507\n",
      "Skew:                           1.012   Prob(JB):                    1.13e-145\n",
      "Kurtosis:                       5.433   Cond. No.                         5.53\n",
      "==============================================================================\n",
      "\n",
      "Notes:\n",
      "[1] Standard Errors assume that the covariance matrix of the errors is correctly specified.\n"
     ]
    }
   ],
   "source": [
    "###ANSWER\n",
    "import statsmodels.api as sm\n",
    "\n",
    "# Set up the independent (X) and dependent (y) variables\n",
    "X = sm.add_constant(wine_red_df[\"citric acid\"])  # Adds a constant term to the predictor\n",
    "y = wine_red_df[\"fixed acidity\"]\n",
    "\n",
    "# Fit the model\n",
    "model = sm.OLS(y, X).fit()\n",
    "\n",
    "# Display the summary\n",
    "print(model.summary())\n"
   ]
  },
  {
   "cell_type": "markdown",
   "metadata": {},
   "source": [
    "&#9989; **Question 3.3.White (2 points)**: Using the `OLS` method in `statsmodels`, perform a linear regression to predict the **fixed acidity** of white wine samples using **citric acid** as the predictor, and display the results summary."
   ]
  },
  {
   "cell_type": "code",
   "execution_count": null,
   "metadata": {},
   "outputs": [],
   "source": [
    "# Put your code here"
   ]
  },
  {
   "cell_type": "code",
   "execution_count": 22,
   "metadata": {},
   "outputs": [
    {
     "name": "stdout",
     "output_type": "stream",
     "text": [
      "                            OLS Regression Results                            \n",
      "==============================================================================\n",
      "Dep. Variable:          fixed acidity   R-squared:                       0.084\n",
      "Model:                            OLS   Adj. R-squared:                  0.083\n",
      "Method:                 Least Squares   F-statistic:                     446.8\n",
      "Date:                Sun, 27 Oct 2024   Prob (F-statistic):           5.62e-95\n",
      "Time:                        16:06:38   Log-Likelihood:                -5904.1\n",
      "No. Observations:                4898   AIC:                         1.181e+04\n",
      "Df Residuals:                    4896   BIC:                         1.183e+04\n",
      "Df Model:                           1                                         \n",
      "Covariance Type:            nonrobust                                         \n",
      "===============================================================================\n",
      "                  coef    std err          t      P>|t|      [0.025      0.975]\n",
      "-------------------------------------------------------------------------------\n",
      "const           6.1809      0.034    182.293      0.000       6.114       6.247\n",
      "citric acid     2.0165      0.095     21.137      0.000       1.829       2.203\n",
      "==============================================================================\n",
      "Omnibus:                      504.721   Durbin-Watson:                   1.482\n",
      "Prob(Omnibus):                  0.000   Jarque-Bera (JB):             1173.467\n",
      "Skew:                           0.620   Prob(JB):                    1.53e-255\n",
      "Kurtosis:                       5.052   Cond. No.                         9.20\n",
      "==============================================================================\n",
      "\n",
      "Notes:\n",
      "[1] Standard Errors assume that the covariance matrix of the errors is correctly specified.\n"
     ]
    }
   ],
   "source": [
    "###ANSWER\n",
    "###ANSWER\n",
    "import statsmodels.api as sm\n",
    "\n",
    "# Set up the independent (X) and dependent (y) variables\n",
    "X = sm.add_constant(wine_white_df[\"citric acid\"])  # Adds a constant term to the predictor\n",
    "y = wine_white_df[\"fixed acidity\"]\n",
    "\n",
    "# Fit the model\n",
    "model = sm.OLS(y, X).fit()\n",
    "\n",
    "# Display the summary\n",
    "print(model.summary())\n"
   ]
  },
  {
   "cell_type": "markdown",
   "metadata": {},
   "source": [
    "&#9989; **Question 3.4 (5 points)**: Answer the following questions:\n",
    "\n",
    "1. For both red and white wines, what is the equation of the best-fit linear relationship between **fixed acidity** and **citric acid**?\n",
    "\n",
    "2. For both red and white wines, as citric acid content increases, does the fixed acidity increase or decrease?\n",
    "\n",
    "3. Based on the \\( p \\)-values for citric acid, is the relationship between fixed acidity and citric acid content statistically significant for each wine type?"
   ]
  },
  {
   "cell_type": "markdown",
   "metadata": {},
   "source": [
    "<font size=+3>&#9998;</font> Put your answers here:\n",
    "\n"
   ]
  },
  {
   "cell_type": "markdown",
   "metadata": {},
   "source": [
    "###ANSWER\n",
    "\n",
    "1. The equations were:\n",
    "\n",
    "    - **Red wine**: \\(\\text{fixed\\_acidity} = 6 \\times \\text{citric\\_acid} + 6.7\\)\n",
    "    \n",
    "    - **White wine**: \\(\\text{fixed\\_acidity} = 2.0 \\times \\text{citric\\_acid} + 6.2\\)\n",
    "\n",
    "2. For both red and white wines, as citric acid content increases, the fixed acidity also increases.\n",
    "\n",
    "3. The displayed \\( p \\)-values for citric acid in both models are less than \\( 0.05 \\), indicating that these relationships are statistically significant."
   ]
  },
  {
   "cell_type": "markdown",
   "metadata": {},
   "source": [
    "&#9989; **Question 3.5 (6 points)**: Assuming you did everything correctly, the relationship between a wine's **fixed acidity** and **citric acid** content may differ when you split the data by wine type (red or white). This might seem confusing at first. Part of the reason for this is because we skipped a very important step when working with unfamiliar data: **visualizing the data**.\n",
    "\n",
    "**Do this**: Make a scatterplot showing **fixed acidity** vs. **citric acid** for the wine dataset. Color-code the points so that red and white wines are in different colors. Then, display the best fit line for each type of wine in the same color as the points, and also display the best fit line for all wines combined in a different color. Don’t forget to label your axes. When you’re done, your plot should contain two colors of points and three lines (two lines should match the colors of the two wine types, and one line for the combined data in a different color).\n",
    "\n",
    "**Hint**: We've included a function to help you plot a line. Feel free to use it, or not."
   ]
  },
  {
   "cell_type": "code",
   "execution_count": 24,
   "metadata": {},
   "outputs": [],
   "source": [
    "# Put your code here\n",
    "\n",
    "import matplotlib.pyplot as plt\n",
    "import numpy as np\n",
    "def plot_line(slope, intercept, xmin, xmax, color):\n",
    "    xline = np.array([xmin,xmax])\n",
    "    yline = slope*xline+intercept\n",
    "    plt.plot(xline,yline,color)"
   ]
  },
  {
   "cell_type": "code",
   "execution_count": 1,
   "metadata": {},
   "outputs": [
    {
     "name": "stdout",
     "output_type": "stream",
     "text": [
      "Intel MKL WARNING: Support of Intel(R) Streaming SIMD Extensions 4.2 (Intel(R) SSE4.2) enabled only processors has been deprecated. Intel oneAPI Math Kernel Library 2025.0 will require Intel(R) Advanced Vector Extensions (Intel(R) AVX) instructions.\n",
      "Intel MKL WARNING: Support of Intel(R) Streaming SIMD Extensions 4.2 (Intel(R) SSE4.2) enabled only processors has been deprecated. Intel oneAPI Math Kernel Library 2025.0 will require Intel(R) Advanced Vector Extensions (Intel(R) AVX) instructions.\n"
     ]
    },
    {
     "ename": "NameError",
     "evalue": "name 'sm' is not defined",
     "output_type": "error",
     "traceback": [
      "\u001b[0;31m---------------------------------------------------------------------------\u001b[0m",
      "\u001b[0;31mNameError\u001b[0m                                 Traceback (most recent call last)",
      "Cell \u001b[0;32mIn[1], line 11\u001b[0m\n\u001b[1;32m      8\u001b[0m     plt\u001b[38;5;241m.\u001b[39mplot(xline,yline,color)\n\u001b[1;32m     10\u001b[0m \u001b[38;5;66;03m# Prepare data for red wine\u001b[39;00m\n\u001b[0;32m---> 11\u001b[0m X_red \u001b[38;5;241m=\u001b[39m \u001b[43msm\u001b[49m\u001b[38;5;241m.\u001b[39madd_constant(wine_red_df[\u001b[38;5;124m\"\u001b[39m\u001b[38;5;124mcitric acid\u001b[39m\u001b[38;5;124m\"\u001b[39m])  \u001b[38;5;66;03m# Add constant for intercept\u001b[39;00m\n\u001b[1;32m     12\u001b[0m y_red \u001b[38;5;241m=\u001b[39m wine_red_df[\u001b[38;5;124m\"\u001b[39m\u001b[38;5;124mfixed acidity\u001b[39m\u001b[38;5;124m\"\u001b[39m]\n\u001b[1;32m     13\u001b[0m model_red \u001b[38;5;241m=\u001b[39m sm\u001b[38;5;241m.\u001b[39mOLS(y_red, X_red)\u001b[38;5;241m.\u001b[39mfit()\n",
      "\u001b[0;31mNameError\u001b[0m: name 'sm' is not defined"
     ]
    }
   ],
   "source": [
    "###ANSWER\n",
    "\n",
    "import matplotlib.pyplot as plt\n",
    "import numpy as np\n",
    "def plot_line(slope, intercept, xmin, xmax, color):\n",
    "    xline = np.array([xmin,xmax])\n",
    "    yline = slope*xline+intercept\n",
    "    plt.plot(xline,yline,color)\n",
    "\n",
    "# Prepare data for red wine\n",
    "X_red = sm.add_constant(wine_red_df[\"citric acid\"])  # Add constant for intercept\n",
    "y_red = wine_red_df[\"fixed acidity\"]\n",
    "model_red = sm.OLS(y_red, X_red).fit()\n",
    "slope_red, intercept_red = model_red.params[\"citric acid\"], model_red.params[\"const\"]\n",
    "\n",
    "# Prepare data for white wine\n",
    "X_white = sm.add_constant(wine_white_df[\"citric acid\"])\n",
    "y_white = wine_white_df[\"fixed acidity\"]\n",
    "model_white = sm.OLS(y_white, X_white).fit()\n",
    "slope_white, intercept_white = model_white.params[\"citric acid\"], model_white.params[\"const\"]\n",
    "\n",
    "# Combined model for all data\n",
    "wine_df = pd.concat([wine_red_df, wine_white_df])\n",
    "X_combined = sm.add_constant(wine_df[\"citric acid\"])\n",
    "y_combined = wine_df[\"fixed acidity\"]\n",
    "model_combined = sm.OLS(y_combined, X_combined).fit()\n",
    "\n",
    "\n",
    "# Plotting\n",
    "plt.figure(figsize=(10, 6))\n",
    "plt.scatter(wine_red_df[\"citric acid\"], wine_red_df[\"fixed acidity\"], color=\"red\", alpha=0.5, label=\"Red Wine\")\n",
    "plt.scatter(wine_white_df[\"citric acid\"], wine_white_df[\"fixed acidity\"], color=\"blue\", alpha=0.5, label=\"White Wine\")\n",
    "\n",
    "# Best fit lines\n",
    "plot_line(slope_red, intercept_red, wine_red_df[\"citric acid\"].min(), wine_red_df[\"citric acid\"].max(), color=\"red\")\n",
    "plot_line(slope_white, intercept_white, wine_white_df[\"citric acid\"].min(), wine_white_df[\"citric acid\"].max(), color=\"blue\")\n",
    "\n",
    "\n",
    "# Labels and legend\n",
    "plt.xlabel(\"Citric Acid\")\n",
    "plt.ylabel(\"Fixed Acidity\")\n",
    "plt.title(\"Fixed Acidity vs. Citric Acid for Red and White Wines\")\n",
    "plt.legend()\n",
    "plt.tight_layout()\n",
    "plt.show()"
   ]
  },
  {
   "cell_type": "markdown",
   "metadata": {},
   "source": [
    "---\n",
    "### &#128721; STOP\n",
    "**Pause to commit your changes to your Git repository!**\n",
    "\n",
    "Take a moment to save your notebook, commit the changes to your local `git` repository using the commit message \"Part 3 complete\", and push the changes to GitHub.\n",
    "\n",
    "---"
   ]
  },
  {
   "cell_type": "markdown",
   "metadata": {},
   "source": [
    "## Part 4: Multiple Regression (16 points)\n",
    "\n",
    "In this part, we'll use multiple features to predict the **quality** of **red** wine samples. Specifically, we’ll explore how a combination of chemical properties—such as **volatile acidity**, **citric acid**, **alcohol**, and others—can be used to estimate the overall **quality** rating of red wines."
   ]
  },
  {
   "cell_type": "markdown",
   "metadata": {},
   "source": [
    "&#9989; **Question 4.1 (3 points)**: Using the `OLS` method in `statsmodels`, perform a multivariable linear regression to predict the **quality** of wine based on **volatile acidity**, **citric acid**, and **alcohol content**. Be sure to use the `add_constant()` method to ensure `OLS` includes a constant term in the model. As before, make sure to **display a summary of your results**."
   ]
  },
  {
   "cell_type": "code",
   "execution_count": null,
   "metadata": {},
   "outputs": [],
   "source": [
    "# Put your code here"
   ]
  },
  {
   "cell_type": "code",
   "execution_count": null,
   "metadata": {},
   "outputs": [
    {
     "name": "stdout",
     "output_type": "stream",
     "text": [
      "                            OLS Regression Results                            \n",
      "==============================================================================\n",
      "Dep. Variable:                quality   R-squared:                       0.317\n",
      "Model:                            OLS   Adj. R-squared:                  0.316\n",
      "Method:                 Least Squares   F-statistic:                     247.0\n",
      "Date:                Sun, 27 Oct 2024   Prob (F-statistic):          1.29e-131\n",
      "Time:                        16:41:07   Log-Likelihood:                -1621.6\n",
      "No. Observations:                1599   AIC:                             3251.\n",
      "Df Residuals:                    1595   BIC:                             3273.\n",
      "Df Model:                           3                                         \n",
      "Covariance Type:            nonrobust                                         \n",
      "====================================================================================\n",
      "                       coef    std err          t      P>|t|      [0.025      0.975]\n",
      "------------------------------------------------------------------------------------\n",
      "const                3.0553      0.194     15.722      0.000       2.674       3.436\n",
      "citric acid          0.0678      0.103      0.659      0.510      -0.134       0.270\n",
      "volatile acidity    -1.3429      0.114    -11.818      0.000      -1.566      -1.120\n",
      "alcohol              0.3138      0.016     19.602      0.000       0.282       0.345\n",
      "==============================================================================\n",
      "Omnibus:                       17.039   Durbin-Watson:                   1.740\n",
      "Prob(Omnibus):                  0.000   Jarque-Bera (JB):               25.901\n",
      "Skew:                          -0.068   Prob(JB):                     2.37e-06\n",
      "Kurtosis:                       3.608   Cond. No.                         133.\n",
      "==============================================================================\n",
      "\n",
      "Notes:\n",
      "[1] Standard Errors assume that the covariance matrix of the errors is correctly specified.\n",
      "const               6.800245e-52\n",
      "citric acid         5.101286e-01\n",
      "volatile acidity    5.888618e-31\n",
      "alcohol             7.932319e-77\n",
      "dtype: float64\n"
     ]
    }
   ],
   "source": [
    "###ANSWER\n",
    "\n",
    "import statsmodels.api as sm\n",
    "import pandas as pd\n",
    "\n",
    "# Load the wine dataset (use \"winequality-red.csv\" or \"winequality-white.csv\" as needed)\n",
    "\n",
    "\n",
    "# Prepare the features and target variable\n",
    "X = wine_red_df[['citric acid', 'volatile acidity', 'alcohol']]\n",
    "#X = wine_red_df[wine_red_df.columns[:-1].values]\n",
    "X = sm.add_constant(X)  # Add constant term\n",
    "y = wine_red_df[\"quality\"]\n",
    "\n",
    "# Perform the OLS regression\n",
    "model = sm.OLS(y, X).fit()\n",
    "\n",
    "# Display the summary of results\n",
    "print(model.summary())\n",
    "print(model.pvalues)"
   ]
  },
  {
   "cell_type": "markdown",
   "metadata": {},
   "source": [
    "&#9989; **Question 4.2 (4 points)**: Answer the following questions:\n",
    "\n",
    "1. Suppose a red wine sample has a volatile acidity of 0.52, citric acid content of 0.27, and alcohol of 10.0. What does your linear model predict for the wine's quality rating? Explain how you arrived at your answer.\n",
    "\n",
    "2. For each of the features (volatile acidity, citric acid, and alcohol), specify if it is statistically significant in the model. Briefly justify your answers."
   ]
  },
  {
   "cell_type": "markdown",
   "metadata": {},
   "source": [
    "<font size=+3>&#9998;</font> Put your answers here:"
   ]
  },
  {
   "cell_type": "markdown",
   "metadata": {},
   "source": [
    "### ANSWER\n",
    "\n",
    "1. \\(\\text{predicted quality} = 3 + 0.06 \\times \\text{citric} - 1.3 \\times \\text{volatile acidity} + 0.3 \\times \\text{alcohol} = 5.35\\)\n",
    "\n",
    "2. The **alcohol** feature is statistically significant since it has a small \\( p \\)-value. **Volatile acidity** also shows statistical significance with a small \\( p \\)-value, while **citric acid** is not statistically significant as its \\( p \\)-value is larger than 0.05."
   ]
  },
  {
   "cell_type": "markdown",
   "metadata": {},
   "source": [
    "&#9989;  **Question 4.3 (3 points)**: Perform the same multivariable linear regression again, but this time check for chemicals and check if that improves the quality determination. Display the summary of these results."
   ]
  },
  {
   "cell_type": "code",
   "execution_count": null,
   "metadata": {},
   "outputs": [],
   "source": [
    "# Put your code here"
   ]
  },
  {
   "cell_type": "code",
   "execution_count": 63,
   "metadata": {},
   "outputs": [
    {
     "name": "stdout",
     "output_type": "stream",
     "text": [
      "                            OLS Regression Results                            \n",
      "==============================================================================\n",
      "Dep. Variable:                quality   R-squared:                       0.336\n",
      "Model:                            OLS   Adj. R-squared:                  0.334\n",
      "Method:                 Least Squares   F-statistic:                     201.8\n",
      "Date:                Sun, 27 Oct 2024   Prob (F-statistic):          4.22e-140\n",
      "Time:                        16:47:01   Log-Likelihood:                -1599.1\n",
      "No. Observations:                1599   AIC:                             3208.\n",
      "Df Residuals:                    1594   BIC:                             3235.\n",
      "Df Model:                           4                                         \n",
      "Covariance Type:            nonrobust                                         \n",
      "====================================================================================\n",
      "                       coef    std err          t      P>|t|      [0.025      0.975]\n",
      "------------------------------------------------------------------------------------\n",
      "const                2.6459      0.201     13.160      0.000       2.252       3.040\n",
      "volatile acidity    -1.2651      0.113    -11.229      0.000      -1.486      -1.044\n",
      "alcohol              0.3091      0.016     19.553      0.000       0.278       0.340\n",
      "citric acid         -0.0791      0.104     -0.762      0.446      -0.283       0.124\n",
      "sulphates            0.6955      0.103      6.746      0.000       0.493       0.898\n",
      "==============================================================================\n",
      "Omnibus:                       21.836   Durbin-Watson:                   1.735\n",
      "Prob(Omnibus):                  0.000   Jarque-Bera (JB):               34.234\n",
      "Skew:                          -0.104   Prob(JB):                     3.68e-08\n",
      "Kurtosis:                       3.686   Cond. No.                         139.\n",
      "==============================================================================\n",
      "\n",
      "Notes:\n",
      "[1] Standard Errors assume that the covariance matrix of the errors is correctly specified.\n",
      "const               1.261926e-37\n",
      "volatile acidity    3.275990e-28\n",
      "alcohol             1.747850e-76\n",
      "citric acid         4.460532e-01\n",
      "sulphates           2.124999e-11\n",
      "dtype: float64\n"
     ]
    }
   ],
   "source": [
    "###ANSWER\n",
    "import statsmodels.api as sm\n",
    "import pandas as pd\n",
    "\n",
    "# Load the wine dataset (use \"winequality-red.csv\" or \"winequality-white.csv\" as needed)\n",
    "\n",
    "\n",
    "# Prepare the features and target variable\n",
    "X = wine_red_df[['volatile acidity', 'alcohol', 'citric acid', 'sulphates']]\n",
    "#X = wine_red_df[wine_red_df.columns[:-1].values]\n",
    "X = sm.add_constant(X)  # Add constant term\n",
    "y = wine_red_df[\"quality\"]\n",
    "\n",
    "# Perform the OLS regression\n",
    "model = sm.OLS(y, X).fit()\n",
    "\n",
    "# Display the summary of results\n",
    "print(model.summary())\n",
    "print(model.pvalues)"
   ]
  },
  {
   "cell_type": "markdown",
   "metadata": {},
   "source": [
    "&#9989;  **Question 4.4 (4 points)**: Answer these questions: \n",
    "\n",
    "1. Qualitatively, how much better/worse is the reduced model compared to the original model? Briefly justify your answer.\n",
    "\n",
    "2. Explain in your own words why we might want to use a model with fewer features, even if it fits the data a bit worse than a model with more features."
   ]
  },
  {
   "cell_type": "markdown",
   "metadata": {},
   "source": [
    "<font size=+3>&#9998;</font> Put your answers here:"
   ]
  },
  {
   "cell_type": "markdown",
   "metadata": {},
   "source": [
    "###ANSWER\n",
    "\n",
    "1. The new model has an $R^2$ value of $0.336$ and an adjusted $R^2$ value of $0.334$. This is better than the original model which has an $R^2$ value of $0.317$ and an adjusted $R^2$ value of $0.316$. \n",
    "\n",
    "2. Students should say something about having too many features puts you at risk of overfitting the data/fitting the noise, etc. "
   ]
  },
  {
   "cell_type": "markdown",
   "metadata": {},
   "source": [
    "&#9989; **Question 4.5 (2 points)**: Suppose we wanted to use the **color** of a wine (red or white) as a feature to predict its quality. Will simply including the `color` column in the second argument to `OLS()` work? If not, why, and what could we do to fix it?"
   ]
  },
  {
   "cell_type": "markdown",
   "metadata": {},
   "source": [
    "<font size=+3>&#9998;</font> Put your answers here:"
   ]
  },
  {
   "cell_type": "markdown",
   "metadata": {},
   "source": [
    "###ANSWER\n",
    "\n",
    "`OLS()` only works with numerical features. We'd need to replace every instance of `red` with a number and every instance of `white` with a different number before feeding it into `OLS()`."
   ]
  },
  {
   "cell_type": "markdown",
   "metadata": {},
   "source": [
    "---\n",
    "### &#128721; STOP\n",
    "**Pause to commit your changes to your Git repository!**\n",
    "\n",
    "Take a moment to save your notebook, commit the changes to your local `git` repository using the commit message \"Part 4 complete\", and push the changes to GitHub.\n",
    "\n",
    "---"
   ]
  },
  {
   "cell_type": "markdown",
   "metadata": {},
   "source": [
    "## Part 5: Logistic Regression (16 points)\n",
    "\n",
    "In this part, we'd like to use logistic regression to classify whether a wine is **red** or **white** based on its chemical properties. Logistic regression, as we've learned in class, is commonly used for binary classification. Here, we’ll use it to distinguish between the two wine types, aiming for high accuracy in prediction, as mistaking one for the other could lead to a poor wine pairing experience!"
   ]
  },
  {
   "cell_type": "markdown",
   "metadata": {},
   "source": [
    "&#9989; **Question 5.1 (4 points)**: Let's start by setting up a classifier to distinguish **red wines** from **white wines**.\n",
    "\n",
    "**Do This**: Add a new column called `color` to both the red and white wine DataFrames. For red wine samples, set `color` to 1, and for white wine samples, set `color` to 0. Then, use `pd.concat()` to combine the two DataFrames into one unified DataFrame.\n",
    "\n",
    "**Hint**: After creating the `color` column in each DataFrame, use `pd.concat([df_red, df_white])` to concatenate them into a single DataFrame.\n",
    "\n",
    "Finally, split the combined DataFrame into **features** and **labels**, where `features` consists of all columns except `color` and `quality`, and `labels` is the `color` column."
   ]
  },
  {
   "cell_type": "code",
   "execution_count": null,
   "metadata": {},
   "outputs": [],
   "source": [
    "# Put your code here"
   ]
  },
  {
   "cell_type": "code",
   "execution_count": 65,
   "metadata": {},
   "outputs": [
    {
     "name": "stdout",
     "output_type": "stream",
     "text": [
      "   fixed acidity  volatile acidity  citric acid  residual sugar  chlorides  \\\n",
      "0            7.4              0.70         0.00             1.9      0.076   \n",
      "1            7.8              0.88         0.00             2.6      0.098   \n",
      "2            7.8              0.76         0.04             2.3      0.092   \n",
      "3           11.2              0.28         0.56             1.9      0.075   \n",
      "4            7.4              0.70         0.00             1.9      0.076   \n",
      "\n",
      "   free sulfur dioxide  total sulfur dioxide  density    pH  sulphates  \\\n",
      "0                 11.0                  34.0   0.9978  3.51       0.56   \n",
      "1                 25.0                  67.0   0.9968  3.20       0.68   \n",
      "2                 15.0                  54.0   0.9970  3.26       0.65   \n",
      "3                 17.0                  60.0   0.9980  3.16       0.58   \n",
      "4                 11.0                  34.0   0.9978  3.51       0.56   \n",
      "\n",
      "   alcohol  quality  color  \n",
      "0      9.4        5      1  \n",
      "1      9.8        5      1  \n",
      "2      9.8        5      1  \n",
      "3      9.8        6      1  \n",
      "4      9.4        5      1  \n"
     ]
    }
   ],
   "source": [
    "###ANSWER\n",
    "\n",
    "# Load the red and white wine datasets\n",
    "#wine_red_df = pd.read_csv(\"winequality-red.csv\", sep=';')\n",
    "#wine_white_df = pd.read_csv(\"winequality-white.csv\", sep=';')\n",
    "\n",
    "# Add the 'color' column, setting it to 1 for red wine and 0 for white wine\n",
    "wine_red_df['color'] = 1\n",
    "wine_white_df['color'] = 0\n",
    "\n",
    "# Concatenate the red and white wine DataFrames\n",
    "wine_df = pd.concat([wine_red_df, wine_white_df], ignore_index=True)\n",
    "\n",
    "\n",
    "# Display the first few rows of the combined DataFrame to verify\n",
    "print(wine_df.head())\n",
    "\n",
    "features = wine_df.drop(columns=['color', 'quality'])  # Exclude 'color' and 'quality' from features\n",
    "labels = wine_df['color']  # Set 'color' as labels"
   ]
  },
  {
   "cell_type": "markdown",
   "metadata": {},
   "source": [
    "&#9989;  **Question 5.2 (4 points)**: Split your data into a training and testing set with a training set representing 75% of your data. For reproducibility, set the `random_state` argument to `0`. Print the shapes of the training features, the testing features, the training labels, and the testing labels to show you have the right number of entries in each of the four variables."
   ]
  },
  {
   "cell_type": "code",
   "execution_count": null,
   "metadata": {},
   "outputs": [],
   "source": [
    "# Put your code here"
   ]
  },
  {
   "cell_type": "code",
   "execution_count": 67,
   "metadata": {},
   "outputs": [
    {
     "name": "stdout",
     "output_type": "stream",
     "text": [
      "(4872, 11)\n",
      "(1625, 11)\n",
      "(4872,)\n",
      "(1625,)\n"
     ]
    }
   ],
   "source": [
    "###ANSWER\n",
    "from sklearn.model_selection import train_test_split\n",
    "x_train, x_test, y_train, y_test = train_test_split(features, labels, train_size=0.75, random_state=0)\n",
    "print(x_train.shape)\n",
    "print(x_test.shape)\n",
    "print(y_train.shape)\n",
    "print(y_test.shape)"
   ]
  },
  {
   "cell_type": "markdown",
   "metadata": {},
   "source": [
    "&#9989;  **Question 5.3 (4 points)**: Now, train a logistic regression model using your training features and training labels. **Display the summary**."
   ]
  },
  {
   "cell_type": "code",
   "execution_count": null,
   "metadata": {},
   "outputs": [],
   "source": [
    "# Put your code here"
   ]
  },
  {
   "cell_type": "code",
   "execution_count": 68,
   "metadata": {},
   "outputs": [
    {
     "name": "stdout",
     "output_type": "stream",
     "text": [
      "Optimization terminated successfully.\n",
      "         Current function value: 0.031695\n",
      "         Iterations 16\n",
      "                           Logit Regression Results                           \n",
      "==============================================================================\n",
      "Dep. Variable:                  color   No. Observations:                 4872\n",
      "Model:                          Logit   Df Residuals:                     4860\n",
      "Method:                           MLE   Df Model:                           11\n",
      "Date:                Sun, 27 Oct 2024   Pseudo R-squ.:                  0.9434\n",
      "Time:                        16:58:06   Log-Likelihood:                -154.42\n",
      "converged:                       True   LL-Null:                       -2727.5\n",
      "Covariance Type:            nonrobust   LLR p-value:                     0.000\n",
      "========================================================================================\n",
      "                           coef    std err          z      P>|z|      [0.025      0.975]\n",
      "----------------------------------------------------------------------------------------\n",
      "const                -2468.0852    237.382    -10.397      0.000   -2933.345   -2002.825\n",
      "fixed acidity           -0.8873      0.272     -3.266      0.001      -1.420      -0.355\n",
      "volatile acidity         4.5610      1.125      4.056      0.000       2.357       6.765\n",
      "citric acid             -2.0137      1.429     -1.409      0.159      -4.814       0.787\n",
      "residual sugar          -0.9796      0.112     -8.732      0.000      -1.199      -0.760\n",
      "chlorides               21.7935      4.582      4.756      0.000      12.813      30.774\n",
      "free sulfur dioxide      0.0674      0.015      4.579      0.000       0.039       0.096\n",
      "total sulfur dioxide    -0.0533      0.006     -9.377      0.000      -0.064      -0.042\n",
      "density               2471.4338    240.825     10.262      0.000    1999.426    2943.442\n",
      "pH                      -3.5974      1.651     -2.179      0.029      -6.834      -0.361\n",
      "sulphates                1.5223      1.404      1.084      0.278      -1.229       4.274\n",
      "alcohol                  2.9143      0.372      7.835      0.000       2.185       3.643\n",
      "========================================================================================\n",
      "\n",
      "Possibly complete quasi-separation: A fraction 0.19 of observations can be\n",
      "perfectly predicted. This might indicate that there is complete\n",
      "quasi-separation. In this case some parameters will not be identified.\n"
     ]
    }
   ],
   "source": [
    "###ANSWER\n",
    "import statsmodels.api as sm\n",
    "logit_model = sm.Logit(y_train, sm.add_constant(x_train))\n",
    "result = logit_model.fit()\n",
    "print(result.summary())"
   ]
  },
  {
   "cell_type": "markdown",
   "metadata": {},
   "source": [
    "&#9989;  **Question 5.4 (4 points)**: Finally, test your logistic regression model using your testing features and testing labels. Display the fraction of testing data points that were correctly predicted. "
   ]
  },
  {
   "cell_type": "code",
   "execution_count": null,
   "metadata": {},
   "outputs": [],
   "source": [
    "# Put your code here"
   ]
  },
  {
   "cell_type": "code",
   "execution_count": 69,
   "metadata": {},
   "outputs": [
    {
     "data": {
      "text/plain": [
       "0.9938461538461538"
      ]
     },
     "execution_count": 69,
     "metadata": {},
     "output_type": "execute_result"
    }
   ],
   "source": [
    "###ANSWER\n",
    "from sklearn import metrics\n",
    "y_predict = result.predict(sm.add_constant(x_test))\n",
    "y_nominal = [1.0 if x >0.5 else 0.0 for x in y_predict]\n",
    "metrics.accuracy_score(y_nominal, y_test)"
   ]
  },
  {
   "cell_type": "markdown",
   "metadata": {},
   "source": [
    "---\n",
    "### &#128721; STOP\n",
    "**Pause to commit your changes to your Git repository!**\n",
    "\n",
    "Take a moment to save your notebook, commit the changes to your local `git` repository using the commit message \"Part 5 complete\", and push the changes to GitHub.\n",
    "\n",
    "---"
   ]
  },
  {
   "cell_type": "markdown",
   "metadata": {},
   "source": [
    "## Part 1. Continued\n",
    "\n",
    "Now that you've finished your new \"development\" on your 202 turn-in repo, you can merge your work back into your `main` branch.\n",
    "\n",
    "**&#9989; Do the following**:\n",
    "\n",
    "7. Switch back to your `main` branch. \n",
    "8. Merge your `hw03_branch` with your `main` branch. \n",
    "9. Finally, push the changes to GitHub."
   ]
  },
  {
   "cell_type": "markdown",
   "metadata": {},
   "source": [
    "## Congratulations, you're done!\n",
    "\n",
    "Submit this assignment by uploading it to the course Desire2Learn web page.  Go to the \"Homework Assignments\" folder, find the dropbox link for Homework 3, and upload it there."
   ]
  },
  {
   "cell_type": "markdown",
   "metadata": {},
   "source": []
  },
  {
   "cell_type": "markdown",
   "metadata": {},
   "source": [
    "&#169; Copyright 2024,  Department of Computational Mathematics, Science and Engineering at Michigan State University"
   ]
  },
  {
   "cell_type": "markdown",
   "metadata": {},
   "source": []
  }
 ],
 "metadata": {
  "kernelspec": {
   "display_name": "computational_modeling_2",
   "language": "python",
   "name": "python3"
  },
  "language_info": {
   "codemirror_mode": {
    "name": "ipython",
    "version": 3
   },
   "file_extension": ".py",
   "mimetype": "text/x-python",
   "name": "python",
   "nbconvert_exporter": "python",
   "pygments_lexer": "ipython3",
   "version": "3.12.5"
  },
  "toc": {
   "base_numbering": 1,
   "nav_menu": {},
   "number_sections": true,
   "sideBar": true,
   "skip_h1_title": false,
   "title_cell": "Table of Contents",
   "title_sidebar": "Contents",
   "toc_cell": false,
   "toc_position": {},
   "toc_section_display": true,
   "toc_window_display": false
  }
 },
 "nbformat": 4,
 "nbformat_minor": 4
}
