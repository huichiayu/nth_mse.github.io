{
 "cells": [
  {
   "cell_type": "markdown",
   "id": "a6fc03da-0d19-4917-b456-4715305be431",
   "metadata": {
    "tags": []
   },
   "source": [
    "# Homework Assignment #2 (Individual)\n",
    "## Pandas Review and Python Classes"
   ]
  },
  {
   "cell_type": "markdown",
   "id": "551a7128-acad-4dd2-a55c-1ec6bcd11780",
   "metadata": {
    "tags": []
   },
   "source": [
    "### <p style=\"text-align: right;\"> &#9989; Put your name here.</p>\n",
    "### <p style=\"text-align: right;\"> &#9989; Put your _GitHub username_ here.</p>"
   ]
  },
  {
   "attachments": {},
   "cell_type": "markdown",
   "id": "92a96ec6-b7d2-4db0-9320-32393f7a8c5a",
   "metadata": {
    "jp-MarkdownHeadingCollapsed": true,
    "tags": []
   },
   "source": [
    "### Goals for this homework assignment\n",
    "By the end of this assignment, you should be able to:\n",
    "- Write a generalizable class to store data\n",
    "- Write subclasses that inherit general variables and methods from a parent class\n",
    "- Identify key pieces of information that need to be stored as class variables\n",
    "- Write methods that fetch and modify class variables \n",
    "- Write a function that instantiates new objects given some initial set of parameters\n",
    "\n",
    "Work through the following assignment, making sure to follow all of the directions and answer all of the questions.\n",
    "\n",
    "There are **62 points** possible on this assignment. Point values for each part are included in the section headers and question prompts.\n",
    "\n",
    "**This assignment is due in roughly two weeks from now at 11:59 pm on XXXXXXXXX.** It should be uploaded into the \"Homework Assignments\" submission folder for Homework #2.  Submission instructions can be found at the end of the notebook."
   ]
  },
  {
   "attachments": {},
   "cell_type": "markdown",
   "id": "509920a9-f9f8-45cf-8bc9-c427386a6369",
   "metadata": {},
   "source": [
    "---\n",
    "## Part 0: Add to your Git repository to track your progress on your assignment (5 points)\n",
    "\n",
    "For this assignment, you're going to add it to the `cmse202-s23-turnin` repository you created in class so that you can track your progress on the assignment and preserve the final version that you turn in. In order to do this you need to\n",
    "\n",
    "**&#9989; Do the following**:\n",
    "\n",
    "1. Navigate to your `cmse202-s23-turnin` repository and create a new directory called `hw-02`.\n",
    "2. Move this notebook into that **new directory** in your repository, then **add it and commit it to your repository**.\n",
    "1. Finally, to test that everything is working, \"git push\" the file so that it ends up in your GitHub repository.\n",
    "\n",
    "**Important**: Double check you've added your Professor and your TA as collaborators to your \"turnin\" repository (you should have done this in the previous homework assignment).\n",
    "\n",
    "**Also important**: Make sure that the version of this notebook that you are working on is the same one that you just added to your repository! If you are working on a different copy of the notebook, **none of your changes will be tracked**!\n",
    "\n",
    "If everything went as intended, the file should now show up on your GitHub account in the \"`cmse202-s23-turnin`\" repository inside the `hw-02` directory that you just created.  Periodically, **you'll be asked to commit your changes to the repository and push them to the remote GitHub location**. Of course, you can always commit your changes more often than that, if you wish.  It can be good to get into a habit of committing your changes any time you make a significant modification, or when you stop working on the project for a bit.\n",
    "\n",
    "&#9989; **Do this**: Before you move on, put the command that your instructor should run to clone your repository in the markdown cell below."
   ]
  },
  {
   "cell_type": "markdown",
   "id": "b2153390-6686-464b-83e4-6c97d4115138",
   "metadata": {},
   "source": []
  },
  {
   "attachments": {},
   "cell_type": "markdown",
   "id": "cb3f3a4a",
   "metadata": {},
   "source": [
    "### ANSWER\n",
    "\n",
    "just a git clone description gives full points"
   ]
  },
  {
   "attachments": {},
   "cell_type": "markdown",
   "id": "472e909c-763c-4019-bf12-2b7c23a6abf1",
   "metadata": {
    "tags": []
   },
   "source": [
    "# Part 1: Loading a new dataset and visualize it\n",
    "\n",
    "An important aspect of the recent lessons has been to look at an unkown dataset, use `pandas` to load it into a dataframe, analyze it, and finally visualize it. In the following, we will download a two part dataset from the web and analyze it. It goes in a familiar direction: Animals. \n",
    "\n",
    "We will look at the following datasets\n",
    "\n",
    "`https://raw.githubusercontent.com/msu-cmse-courses/cmse202-S23-data/main/HW/HW2/zoo.csv`\n",
    "\n",
    "`https://raw.githubusercontent.com/msu-cmse-courses/cmse202-S23-data/main/HW/HW2/class.csv`\n",
    "\n",
    "which [comes from here](https://www.kaggle.com/datasets/uciml/zoo-animal-classification).\n",
    "\n",
    "\n"
   ]
  },
  {
   "attachments": {},
   "cell_type": "markdown",
   "id": "cc162c33",
   "metadata": {},
   "source": [
    "### Part 1.1 Downloading the data (5 points)\n",
    "\n",
    "<font size=6 color=\"#009600\">&#9998;</font> Describe how you download the dataset using the command line but in a Jupyter notebook cell"
   ]
  },
  {
   "cell_type": "code",
   "execution_count": null,
   "id": "f508397a",
   "metadata": {},
   "outputs": [],
   "source": [
    "#Write code here"
   ]
  },
  {
   "cell_type": "code",
   "execution_count": 1,
   "id": "e0d652dc",
   "metadata": {},
   "outputs": [
    {
     "name": "stdout",
     "output_type": "stream",
     "text": [
      "  % Total    % Received % Xferd  Average Speed   Time    Time     Time  Current\n",
      "                                 Dload  Upload   Total   Spent    Left  Speed\n",
      "100    14  100    14    0     0     55      0 --:--:-- --:--:-- --:--:--    57\n",
      "  % Total    % Received % Xferd  Average Speed   Time    Time     Time  Current\n",
      "                                 Dload  Upload   Total   Spent    Left  Speed\n",
      "100    14  100    14    0     0     47      0 --:--:-- --:--:-- --:--:--    47\n"
     ]
    }
   ],
   "source": [
    "### ANSWER ###\n",
    "# making sure that they use the exclamation mark\n",
    "!curl -O https://raw.githubusercontent.com/msu-cmse-courses/cmse202-S23-data/main/HW/HW2/zoo.csv\n",
    "!curl -O https://raw.githubusercontent.com/msu-cmse-courses/cmse202-S23-data/main/HW/HW2/class.csv"
   ]
  },
  {
   "attachments": {},
   "cell_type": "markdown",
   "id": "284d1f4a-269c-4ee9-9d79-1b48cdf3b6d6",
   "metadata": {},
   "source": [
    "---\n",
    "### &#128721; STOP (5 Points)\n",
    "**Pause to commit your changes to your Git repository!**\n",
    "\n",
    "Take a moment to **add your files** with git and commit with a meaningful commit message.\n",
    "\n",
    "---"
   ]
  },
  {
   "attachments": {},
   "cell_type": "markdown",
   "id": "9e024c90",
   "metadata": {},
   "source": [
    "### Part 1.2 View the dataset on the command line (5 points)\n",
    "\n",
    "Go to the **commandline** and view the dataset with the viewers you learned in class or others that you know. Describe how to do that. "
   ]
  },
  {
   "cell_type": "code",
   "execution_count": null,
   "id": "c8f0ed8d",
   "metadata": {},
   "outputs": [],
   "source": [
    "## Answer ###\n",
    "\n"
   ]
  },
  {
   "cell_type": "code",
   "execution_count": 1,
   "id": "bc6d714c",
   "metadata": {},
   "outputs": [],
   "source": [
    "##\n",
    "\n",
    "#using less, vi, or more will award full points "
   ]
  },
  {
   "attachments": {},
   "cell_type": "markdown",
   "id": "b020e726",
   "metadata": {},
   "source": [
    "### Part 1.3 Describe the data (10 points)\n",
    "\n",
    "Look at both datasets (`class.csv`, `zoo.csv`). Describe the contents of both dataset (E.g., the column kinds, what they represent, etc.). Make sure to establish a relationship with the column `class_type` in the `zoo.csv` dataset and the column `class_number` in the `class.csv`. What does that mean for you? "
   ]
  },
  {
   "attachments": {},
   "cell_type": "markdown",
   "id": "2fecfbba",
   "metadata": {},
   "source": [
    "### ANSWER ###\n",
    "\n",
    "There are 18 columns in the zoo dataset: \n",
    "\n",
    "18 columns \n",
    "animal_kind: Unique for each instance\n",
    "hair Boolean\n",
    "feathers Boolean\n",
    "eggs Boolean\n",
    "milk Boolean\n",
    "airborne Boolean\n",
    "aquatic Boolean\n",
    "predator Boolean\n",
    "toothed Boolean\n",
    "backbone Boolean\n",
    "breathes Boolean\n",
    "venomous Boolean\n",
    "fins Boolean\n",
    "legs Numeric (set of values: {0,2,4,5,6,8})\n",
    "tail Boolean\n",
    "domestic Boolean\n",
    "catsize Boolean\n",
    "\n",
    "There are 4 columns in the class dataset describing what each class means\n",
    "\n",
    "Class_Number Numeric (integer values in range [1,7])\n",
    "Number_Of_Animal_Species_In_Class Numeric\n",
    "Class_Type character -- The actual word description of the class\n",
    "Animal_kinds character -- The list of the animals that fall in the category of the class"
   ]
  },
  {
   "attachments": {},
   "cell_type": "markdown",
   "id": "284d1f4a-269c-4ee9-9d79-1b48cdf3b6d6",
   "metadata": {},
   "source": [
    "---\n",
    "\n",
    "### &#128721; STOP (4 Points)\n",
    "**Pause to commit your changes to your Git repository!**\n",
    "Take a moment to save your notebook, commit the changes to your Git repository with a meaningful commit message.\n",
    "\n",
    "---"
   ]
  },
  {
   "attachments": {},
   "cell_type": "markdown",
   "id": "6ab70fb1-2e61-4339-bdc5-9a0c44113324",
   "metadata": {},
   "source": [
    "### Part 1.4: Read in a dataset with `pandas` (5 points)\n",
    "\n",
    "&#9989; Use pandas to read in the `zoo.csv` (only) into a `DataFrame`."
   ]
  },
  {
   "cell_type": "code",
   "execution_count": null,
   "id": "b3117200-8b2c-4174-9189-06f9c29cea68",
   "metadata": {},
   "outputs": [],
   "source": [
    "#Write code here"
   ]
  },
  {
   "cell_type": "code",
   "execution_count": 29,
   "id": "8e7d95e2-60a5-46b3-85f9-738242cbbbc7",
   "metadata": {},
   "outputs": [],
   "source": [
    "### ANSWER ###\n",
    "### Example ###\n",
    "\n",
    "import pandas as pd\n",
    "\n",
    "zoo_df = pd.read_csv(\"zoo.csv\")"
   ]
  },
  {
   "attachments": {},
   "cell_type": "markdown",
   "id": "a6f7f4cb",
   "metadata": {},
   "source": [
    "### Part 1.5 Describe the dataset and find out how many classes there are. \n",
    "\n",
    "Look back in the PCA/ICA and see how we used `groupby` to find out how many different Iris species there were and giving their statistical properties. Use the same methodology on the zoo DataFrame to find out how many of each there are (**not how many classes but e.g. how many mammals, fish, ...**). Think of count and then look at the `class.csv` to check your answer. "
   ]
  },
  {
   "cell_type": "code",
   "execution_count": 33,
   "id": "330142b4",
   "metadata": {},
   "outputs": [
    {
     "data": {
      "text/html": [
       "<div>\n",
       "<style scoped>\n",
       "    .dataframe tbody tr th:only-of-type {\n",
       "        vertical-align: middle;\n",
       "    }\n",
       "\n",
       "    .dataframe tbody tr th {\n",
       "        vertical-align: top;\n",
       "    }\n",
       "\n",
       "    .dataframe thead th {\n",
       "        text-align: right;\n",
       "    }\n",
       "</style>\n",
       "<table border=\"1\" class=\"dataframe\">\n",
       "  <thead>\n",
       "    <tr style=\"text-align: right;\">\n",
       "      <th></th>\n",
       "      <th>animal_name</th>\n",
       "      <th>hair</th>\n",
       "      <th>feathers</th>\n",
       "      <th>eggs</th>\n",
       "      <th>milk</th>\n",
       "      <th>airborne</th>\n",
       "      <th>aquatic</th>\n",
       "      <th>predator</th>\n",
       "      <th>toothed</th>\n",
       "      <th>backbone</th>\n",
       "      <th>breathes</th>\n",
       "      <th>venomous</th>\n",
       "      <th>fins</th>\n",
       "      <th>legs</th>\n",
       "      <th>tail</th>\n",
       "      <th>domestic</th>\n",
       "      <th>catsize</th>\n",
       "    </tr>\n",
       "    <tr>\n",
       "      <th>class_type</th>\n",
       "      <th></th>\n",
       "      <th></th>\n",
       "      <th></th>\n",
       "      <th></th>\n",
       "      <th></th>\n",
       "      <th></th>\n",
       "      <th></th>\n",
       "      <th></th>\n",
       "      <th></th>\n",
       "      <th></th>\n",
       "      <th></th>\n",
       "      <th></th>\n",
       "      <th></th>\n",
       "      <th></th>\n",
       "      <th></th>\n",
       "      <th></th>\n",
       "      <th></th>\n",
       "    </tr>\n",
       "  </thead>\n",
       "  <tbody>\n",
       "    <tr>\n",
       "      <th>1</th>\n",
       "      <td>41</td>\n",
       "      <td>41</td>\n",
       "      <td>41</td>\n",
       "      <td>41</td>\n",
       "      <td>41</td>\n",
       "      <td>41</td>\n",
       "      <td>41</td>\n",
       "      <td>41</td>\n",
       "      <td>41</td>\n",
       "      <td>41</td>\n",
       "      <td>41</td>\n",
       "      <td>41</td>\n",
       "      <td>41</td>\n",
       "      <td>41</td>\n",
       "      <td>41</td>\n",
       "      <td>41</td>\n",
       "      <td>41</td>\n",
       "    </tr>\n",
       "    <tr>\n",
       "      <th>2</th>\n",
       "      <td>20</td>\n",
       "      <td>20</td>\n",
       "      <td>20</td>\n",
       "      <td>20</td>\n",
       "      <td>20</td>\n",
       "      <td>20</td>\n",
       "      <td>20</td>\n",
       "      <td>20</td>\n",
       "      <td>20</td>\n",
       "      <td>20</td>\n",
       "      <td>20</td>\n",
       "      <td>20</td>\n",
       "      <td>20</td>\n",
       "      <td>20</td>\n",
       "      <td>20</td>\n",
       "      <td>20</td>\n",
       "      <td>20</td>\n",
       "    </tr>\n",
       "    <tr>\n",
       "      <th>3</th>\n",
       "      <td>5</td>\n",
       "      <td>5</td>\n",
       "      <td>5</td>\n",
       "      <td>5</td>\n",
       "      <td>5</td>\n",
       "      <td>5</td>\n",
       "      <td>5</td>\n",
       "      <td>5</td>\n",
       "      <td>5</td>\n",
       "      <td>5</td>\n",
       "      <td>5</td>\n",
       "      <td>5</td>\n",
       "      <td>5</td>\n",
       "      <td>5</td>\n",
       "      <td>5</td>\n",
       "      <td>5</td>\n",
       "      <td>5</td>\n",
       "    </tr>\n",
       "    <tr>\n",
       "      <th>4</th>\n",
       "      <td>13</td>\n",
       "      <td>13</td>\n",
       "      <td>13</td>\n",
       "      <td>13</td>\n",
       "      <td>13</td>\n",
       "      <td>13</td>\n",
       "      <td>13</td>\n",
       "      <td>13</td>\n",
       "      <td>13</td>\n",
       "      <td>13</td>\n",
       "      <td>13</td>\n",
       "      <td>13</td>\n",
       "      <td>13</td>\n",
       "      <td>13</td>\n",
       "      <td>13</td>\n",
       "      <td>13</td>\n",
       "      <td>13</td>\n",
       "    </tr>\n",
       "    <tr>\n",
       "      <th>5</th>\n",
       "      <td>4</td>\n",
       "      <td>4</td>\n",
       "      <td>4</td>\n",
       "      <td>4</td>\n",
       "      <td>4</td>\n",
       "      <td>4</td>\n",
       "      <td>4</td>\n",
       "      <td>4</td>\n",
       "      <td>4</td>\n",
       "      <td>4</td>\n",
       "      <td>4</td>\n",
       "      <td>4</td>\n",
       "      <td>4</td>\n",
       "      <td>4</td>\n",
       "      <td>4</td>\n",
       "      <td>4</td>\n",
       "      <td>4</td>\n",
       "    </tr>\n",
       "    <tr>\n",
       "      <th>6</th>\n",
       "      <td>8</td>\n",
       "      <td>8</td>\n",
       "      <td>8</td>\n",
       "      <td>8</td>\n",
       "      <td>8</td>\n",
       "      <td>8</td>\n",
       "      <td>8</td>\n",
       "      <td>8</td>\n",
       "      <td>8</td>\n",
       "      <td>8</td>\n",
       "      <td>8</td>\n",
       "      <td>8</td>\n",
       "      <td>8</td>\n",
       "      <td>8</td>\n",
       "      <td>8</td>\n",
       "      <td>8</td>\n",
       "      <td>8</td>\n",
       "    </tr>\n",
       "    <tr>\n",
       "      <th>7</th>\n",
       "      <td>10</td>\n",
       "      <td>10</td>\n",
       "      <td>10</td>\n",
       "      <td>10</td>\n",
       "      <td>10</td>\n",
       "      <td>10</td>\n",
       "      <td>10</td>\n",
       "      <td>10</td>\n",
       "      <td>10</td>\n",
       "      <td>10</td>\n",
       "      <td>10</td>\n",
       "      <td>10</td>\n",
       "      <td>10</td>\n",
       "      <td>10</td>\n",
       "      <td>10</td>\n",
       "      <td>10</td>\n",
       "      <td>10</td>\n",
       "    </tr>\n",
       "  </tbody>\n",
       "</table>\n",
       "</div>"
      ],
      "text/plain": [
       "            animal_name  hair  feathers  eggs  milk  airborne  aquatic  \\\n",
       "class_type                                                               \n",
       "1                    41    41        41    41    41        41       41   \n",
       "2                    20    20        20    20    20        20       20   \n",
       "3                     5     5         5     5     5         5        5   \n",
       "4                    13    13        13    13    13        13       13   \n",
       "5                     4     4         4     4     4         4        4   \n",
       "6                     8     8         8     8     8         8        8   \n",
       "7                    10    10        10    10    10        10       10   \n",
       "\n",
       "            predator  toothed  backbone  breathes  venomous  fins  legs  tail  \\\n",
       "class_type                                                                      \n",
       "1                 41       41        41        41        41    41    41    41   \n",
       "2                 20       20        20        20        20    20    20    20   \n",
       "3                  5        5         5         5         5     5     5     5   \n",
       "4                 13       13        13        13        13    13    13    13   \n",
       "5                  4        4         4         4         4     4     4     4   \n",
       "6                  8        8         8         8         8     8     8     8   \n",
       "7                 10       10        10        10        10    10    10    10   \n",
       "\n",
       "            domestic  catsize  \n",
       "class_type                     \n",
       "1                 41       41  \n",
       "2                 20       20  \n",
       "3                  5        5  \n",
       "4                 13       13  \n",
       "5                  4        4  \n",
       "6                  8        8  \n",
       "7                 10       10  "
      ]
     },
     "execution_count": 33,
     "metadata": {},
     "output_type": "execute_result"
    }
   ],
   "source": [
    "## Answer ##\n",
    "zoo_df.groupby('class_type').count()"
   ]
  },
  {
   "cell_type": "markdown",
   "id": "7589ad90-4098-4e6f-9b74-bd8ac46c9031",
   "metadata": {},
   "source": [
    "*Write your answer here*"
   ]
  },
  {
   "attachments": {},
   "cell_type": "markdown",
   "id": "51aa0418-9da6-445b-bc97-1e3e19365ce6",
   "metadata": {
    "tags": []
   },
   "source": [
    "### 1.6 Visualizing data (15 points)\n",
    "\n",
    "&#9989; Similar to the iris dataset, where we classified iris flowers into specific species, we want to classify animal properties into animal classes. Let's say we want to tell fish and mammals apart. Make two scatter plots to cleanly separate the classes using attributes from your `zoo` dataset. Use different colors and different symbols for fish and mammals."
   ]
  },
  {
   "cell_type": "code",
   "execution_count": null,
   "id": "0dca0060-6925-409e-948f-619544bd7b27",
   "metadata": {},
   "outputs": [],
   "source": [
    "#Write your code here"
   ]
  },
  {
   "cell_type": "code",
   "execution_count": 35,
   "id": "b6ec7181-96d7-414d-bafc-cf71d5be1f64",
   "metadata": {},
   "outputs": [
    {
     "data": {
      "text/plain": [
       "<matplotlib.legend.Legend at 0x187e4e200>"
      ]
     },
     "execution_count": 35,
     "metadata": {},
     "output_type": "execute_result"
    },
    {
     "data": {
      "image/png": "[encoded data removed]",
      "text/plain": [
       "<Figure size 640x480 with 1 Axes>"
      ]
     },
     "metadata": {},
     "output_type": "display_data"
    },
    {
     "data": {
      "image/png": "[encoded data removed]",
      "text/plain": [
       "<Figure size 640x480 with 1 Axes>"
      ]
     },
     "metadata": {},
     "output_type": "display_data"
    }
   ],
   "source": [
    "### ANSWER ###\n",
    "import pylab as plt\n",
    "%matplotlib inline\n",
    "\n",
    "mammals = zoo_df[zoo_df.class_type == 1]\n",
    "fish = zoo_df[zoo_df.class_type == 4]\n",
    "\n",
    "plt.scatter(fish.eggs, fish.fins, color='blue', marker='o', label='Fish')\n",
    "plt.scatter(mammals.eggs, mammals.fins, color='red', marker='x', label='Mammal')\n",
    "\n",
    "plt.xlabel('Has eggs')\n",
    "plt.ylabel('Has fins')\n",
    "plt.legend()\n",
    "\n",
    "plt.figure()\n",
    "\n",
    "plt.scatter(fish.aquatic, fish.breathes, color='blue', marker='o', label='Fish')\n",
    "plt.scatter(mammals.aquatic, mammals.breathes, color='red', marker='x', label='Mammal')\n",
    "\n",
    "plt.xlabel('is aquatic')\n",
    "plt.ylabel('is breathing')\n",
    "plt.legend()\n"
   ]
  },
  {
   "attachments": {},
   "cell_type": "markdown",
   "id": "5261c45d",
   "metadata": {},
   "source": [
    "### 1.7 Relfecting the different types of data (5 points)\n",
    "\n",
    "Look at the scatter plots you made to classify fish and mammals in the previous part and compare it to the scatter plots we made to separate the iris dataset. What differences do you notice?"
   ]
  },
  {
   "attachments": {},
   "cell_type": "markdown",
   "id": "263cfbf7",
   "metadata": {},
   "source": [
    "*Write your answer here.*"
   ]
  },
  {
   "attachments": {},
   "cell_type": "markdown",
   "id": "7103c40d",
   "metadata": {},
   "source": [
    "### ANSWER ###\n",
    "\n",
    "One of the them is a continous variable and the other is a binary flag/classifier."
   ]
  },
  {
   "attachments": {},
   "cell_type": "markdown",
   "id": "57909bf7",
   "metadata": {},
   "source": [
    "# Part 2 Extending classes\n",
    "\n",
    "For the next set of question, We will work once more with the `Animal` and `Zoo` class. Below is a version of the `Animal` class that we will build off of.\n"
   ]
  },
  {
   "cell_type": "code",
   "execution_count": null,
   "id": "4c005da6",
   "metadata": {},
   "outputs": [],
   "source": [
    "# Write your class here\n",
    "\n",
    "class Animal(object):\n",
    "    \"\"\"\n",
    "    This is an Animal class, used to store information about animals in the Zoo.\n",
    "    \"\"\"\n",
    "\n",
    "    def __init__(self, kind, required_area):\n",
    "        \"\"\" Initialize the Animal object.\n",
    "        Inputs are\n",
    "        kind : the type of animal (string)\n",
    "        habitat : type of habitat (aquatic, grassland, aviary)\n",
    "        required_area: square meters (int)\n",
    "        \"\"\"\n",
    "        self.kind = kind\n",
    "        self.required_area = required_area\n",
    "\n",
    "\n",
    "    def set_required_area(self, area):\n",
    "        \"\"\" Set average required area by single a animal. \"\"\"\n",
    "        self.required_area = area\n",
    "\n",
    "    def set_kind(self, kind):\n",
    "        \"\"\" Set the kind of the animal \"\"\"\n",
    "        self.kind = kind\n",
    "\n",
    "    def get_kind(self):\n",
    "        \"\"\" Return animal's kind. \"\"\"\n",
    "        return self.kind\n",
    "\n",
    "    def get_required_area(self):\n",
    "        \"\"\" Return average required area by single animal. \"\"\"\n",
    "        return self.required_area"
   ]
  },
  {
   "attachments": {},
   "cell_type": "markdown",
   "id": "5f88cf42-0893-4eee-a059-3c15588dd376",
   "metadata": {},
   "source": [
    "## Part 2.1 Back to the zoo (5 Points)\n",
    "\n",
    "&#9989; For now our animals are very simple and do not much information on them. Specifically, when building a zoo, we need to think about what habitats the animals live in. We now have that information from your dataframe . For our zoo, we are considering aquatic habitat, grassland habitat, or aviaries. How would you extend the `Animal` class (**don't use the subclasses**) to store information from the dataset we have. What needs to be added to the `Zoo` class to calculate the areas for the three habitats. Please first describe in words what you are going to do with the nomenclature we learned in class?"
   ]
  },
  {
   "cell_type": "markdown",
   "id": "44de8ab0-09f2-4b61-bf92-a032d33705b7",
   "metadata": {},
   "source": [
    "*Write your response here*"
   ]
  },
  {
   "attachments": {},
   "cell_type": "markdown",
   "id": "71da12a9",
   "metadata": {},
   "source": [
    "I need to add an attribute `habitat` that defines what habitat the animals live in. "
   ]
  },
  {
   "attachments": {},
   "cell_type": "markdown",
   "id": "34a25f74-124f-4d6b-9998-99a66532d380",
   "metadata": {},
   "source": [
    "## Part 2.2: A better Animal class (10 points)\n",
    "\n",
    "&#9989; Now put your plan into action and extend the animal class"
   ]
  },
  {
   "cell_type": "code",
   "execution_count": 36,
   "id": "45e72b5d",
   "metadata": {},
   "outputs": [],
   "source": [
    "### ANSWER ###\n",
    "\n",
    "#### They do not need to write setters/getters - but they can. Full points if the attribute habitat exists and is either in the __init__ or in \n",
    "\n",
    "class Animal(object):\n",
    "    \"\"\"\n",
    "    This is an Animal class, used to store information about animals in the Zoo.\n",
    "    \"\"\"\n",
    "\n",
    "    def __init__(self, kind, habitat, required_area):\n",
    "        \"\"\" Initialize the Animal object.\n",
    "        Inputs are\n",
    "        kind : the type of animal (string)\n",
    "        habitat : type of habitat (aquatic, grassland, aviary)\n",
    "        required_area: square meters (int)\n",
    "        \"\"\"\n",
    "        self.kind = kind\n",
    "        self.habitat = habitat\n",
    "        self.required_area = required_area\n",
    "\n",
    "\n",
    "    def set_required_area(self, area):\n",
    "        \"\"\" Set average required area by single a animal. \"\"\"\n",
    "        self.required_area = area\n",
    "\n",
    "    def get_required_area(self):\n",
    "        \"\"\" Return average required area by single animal. \"\"\"\n",
    "        return self.required_area\n",
    "\n",
    "    def set_kind(self, kind):\n",
    "        \"\"\" Set the kind of the animal \"\"\"\n",
    "        self.kind = kind\n",
    "\n",
    "    def get_kind(self):\n",
    "        \"\"\" Return animal's kind. \"\"\"\n",
    "        return self.kind\n",
    "\n",
    "    def set_habitat(self, habitat):\n",
    "        \"\"\" Set habitat required for animal \"\"\"\n",
    "        self.habitat = habitat\n",
    "\n",
    "    def get_habitat(self):\n",
    "        \"\"\" Return habitat required for the animal. \"\"\"\n",
    "        return self.habitat"
   ]
  },
  {
   "attachments": {},
   "cell_type": "markdown",
   "id": "284d1f4a-269c-4ee9-9d79-1b48cdf3b6d6",
   "metadata": {},
   "source": [
    "---\n",
    "\n",
    "### &#128721; STOP (4 Point)\n",
    "**Pause to commit your changes to your Git repository!**\n",
    "\n",
    "Take a moment to save your notebook, commit the changes to your Git repository. Merge the changes in the main branch, and push the changes to GitHub.\n",
    "\n",
    "---"
   ]
  },
  {
   "attachments": {},
   "cell_type": "markdown",
   "id": "34a25f74-124f-4d6b-9998-99a66532d380",
   "metadata": {},
   "source": [
    "## Part 2.3: A better Zoo class (10 points)\n",
    "\n",
    "&#9989; Extend your Zoo class with functionality to calculate the habitat areas. You can either implement a method (`calculate_habitat_area`) that calculates the habitat area and returns a dictionary with the keys being the habitat types and the values being the habitat sizes. You can also implement three methods (`calculate_habitat_area_aquatic`, `calculate_habitat_area_grassland`, and `calculate_area_habitat_aviary`) that return the habitat area."
   ]
  },
  {
   "cell_type": "code",
   "execution_count": 66,
   "id": "a2fd9251-92e6-4746-9d3f-0f4573e5ee72",
   "metadata": {},
   "outputs": [],
   "source": [
    "# Please extend this class here\n",
    "\n",
    "class Zoo:\n",
    "    \"\"\"\n",
    "        Class for Zoo object.\n",
    "    \"\"\"\n",
    "    def __init__(self, name):\n",
    "        \"\"\" Initialize the Zoo object. \"\"\"\n",
    "        # name of the Zoo\n",
    "        self.name = name\n",
    "        # we are using dictionaries for animals and personnel\n",
    "        self.animals = {}\n",
    "\n",
    "    def add_animal(self, animal):\n",
    "        \"\"\" Adds an animal to the zoo. \"\"\"\n",
    "        # we use animal's name as a key in the dictionary\n",
    "        kind = animal.get_kind()\n",
    "        self.animals[kind] = animal\n",
    "\n",
    "    def add(self, animal):\n",
    "        \"\"\" Shorter name of function to add animals to the Zoo. \"\"\"\n",
    "        self.add_animal(animal)\n",
    "\n",
    "    def get_animals(self):\n",
    "        \"\"\" Return all animals in the zoo.\"\"\"\n",
    "        return self.animals\n",
    "\n",
    "    def remove(self, name):\n",
    "        \"\"\" Remove animal from the Zoo for given name. If the name does not exist, error is printed. \"\"\"\n",
    "        if name in self.animals:\n",
    "            # yes, animal with given name is in the Zoo\n",
    "            del self.animals[name]\n",
    "        else:\n",
    "            print(\"Animal with given name is not in\", self.name, \"Zoo.\")\n",
    "\n",
    "    def get_animal_kinds(self, sort=False):\n",
    "        \"\"\" Return animal kinds in the Zoo. Return sorted kinds if parameters sorted==True\"\"\"\n",
    "        kinds = []\n",
    "        \n",
    "        for key in self.animals.keys():\n",
    "            # get animal kinds and store them into list\n",
    "            kinds.append(self.animals[key].get_kind())\n",
    "\n",
    "        if sort == True:\n",
    "            # we have to return sorted kinds; so sort the kinds\n",
    "            kinds = sorted(kinds)\n",
    "\n",
    "        return kinds\n",
    "\n",
    "    def number_animals(self):\n",
    "        \"\"\" Return number of animals in the Zoo.\"\"\"\n",
    "        return len(self.animals)\n",
    "\n",
    "    def total_area(self):\n",
    "        \"\"\" Return the total Zoo area to host all animals defined in the object. \"\"\"\n",
    "        area = 0\n",
    "\n",
    "        for key in self.animals:\n",
    "            # get area for all animals in the zoo\n",
    "            area += self.animals[key].get_required_area()\n",
    "\n",
    "        return area\n"
   ]
  },
  {
   "cell_type": "code",
   "execution_count": 71,
   "id": "1b4ab13a-cf7f-4053-bd13-f8ffe297a57f",
   "metadata": {},
   "outputs": [],
   "source": [
    "### ANSWER ###\n",
    "### Example ###\n",
    "\n",
    "# There are many ways to do this. I would say anything that remotely loops through the areas and tries to get the habitat ~5 points. Anything that uses a dictionary (as implemented)\n",
    "\n",
    "class Zoo:\n",
    "    \"\"\"\n",
    "        Class for Zoo object.\n",
    "    \"\"\"\n",
    "    def __init__(self, name):\n",
    "        \"\"\" Initialize the Zoo object. \"\"\"\n",
    "        # name of the Zoo\n",
    "        self.name = name\n",
    "        # we are using dictionaries for animals and personnel\n",
    "        self.animals = {}\n",
    "\n",
    "    def add_animal(self, animal):\n",
    "        \"\"\" Adds an animal to the zoo. \"\"\"\n",
    "        # we use animal's name as a key in the dictionary\n",
    "        kind = animal.get_kind()\n",
    "        self.animals[kind] = animal\n",
    "\n",
    "    def add(self, animal):\n",
    "        \"\"\" Shorter name of function to add animals to the Zoo. \"\"\"\n",
    "        self.add_animal(animal)\n",
    "\n",
    "    def get_animals(self):\n",
    "        \"\"\" Return all animals in the zoo.\"\"\"\n",
    "        return self.animals\n",
    "\n",
    "    def remove(self, name):\n",
    "        \"\"\" Remove animal from the Zoo for given name. If the name does not exist, error is printed. \"\"\"\n",
    "        if name in self.animals:\n",
    "            # yes, animal with given name is in the Zoo\n",
    "            del self.animals[name]\n",
    "        else:\n",
    "            print(\"Animal with given name is not in\", self.name, \"Zoo.\")\n",
    "\n",
    "    def get_animal_kinds(self, sort=False):\n",
    "        \"\"\" Return animal kinds in the Zoo. Return sorted kinds if parameters sorted==True\"\"\"\n",
    "        kinds = []\n",
    "        \n",
    "        for key in self.animals.keys():\n",
    "            # get animal kinds and store them into list\n",
    "            kinds.append(self.animals[key].get_kind())\n",
    "\n",
    "        if sort == True:\n",
    "            # we have to return sorted kinds; so sort the kinds\n",
    "            kinds = sorted(kinds)\n",
    "\n",
    "        return kinds\n",
    "\n",
    "    def number_animals(self):\n",
    "        \"\"\" Return number of animals in the Zoo.\"\"\"\n",
    "        return len(self.animals)\n",
    "\n",
    "    def total_area(self):\n",
    "        \"\"\" Return the total Zoo area to host all animals defined in the object. \"\"\"\n",
    "        area = 0\n",
    "\n",
    "        for key in self.animals:\n",
    "            # get area for all animals in the zoo\n",
    "            area += self.animals[key].get_required_area()\n",
    "\n",
    "        return area\n",
    "\n",
    "    def calculate_habitat_size(self):\n",
    "        \"\"\" Calculate habitat size for each habitat \"\"\"\n",
    "\n",
    "        habitat_required_area = {}\n",
    "        habitat_required_area['aquatic'] = 0\n",
    "        habitat_required_area['grassland'] = 0\n",
    "        habitat_required_area['aviary'] = 0\n",
    "        for animal in self.animals:\n",
    "            current_animal = self.animals[animal]\n",
    "            habitat_required_area[current_animal.habitat] += current_animal.required_area\n",
    "\n",
    "        return habitat_required_area\n",
    "\n",
    "    "
   ]
  },
  {
   "attachments": {},
   "cell_type": "markdown",
   "id": "284d1f4a-269c-4ee9-9d79-1b48cdf3b6d6",
   "metadata": {},
   "source": [
    "---\n",
    "### &#128721; STOP (4 Point)\n",
    "**Pause to commit your changes to your Git repository!**\n",
    "\n",
    "Take a moment to save your notebook, commit the changes to your Git repository. Please make a meaningful commit message\n",
    "\n",
    "---"
   ]
  },
  {
   "attachments": {},
   "cell_type": "markdown",
   "id": "34a25f74-124f-4d6b-9998-99a66532d380",
   "metadata": {},
   "source": [
    "## Part 3: Filling your zoo\n",
    "\n",
    "We now have a working zoo that understands how habitats work. We want to fill it with the animals from `zoo.csv` in the `pandas` DataFrame. First we are learning how to loop over individual rows of a `pandas` DataFrame and then we are adding this to the zoo. "
   ]
  },
  {
   "attachments": {},
   "cell_type": "markdown",
   "id": "6833a582",
   "metadata": {},
   "source": [
    "## Part 3.1 (10 points)\n",
    "\n",
    "&#9989; We are demonstrating below how we loop over individual rows of a `pandas` `DataFrame` and access the properties of an animal for each row. I'm keeping in mind that the grassland should not have airborne creatures. Please add an if-statement for animals going to the aquatic habitat and the aviary habitat. "
   ]
  },
  {
   "cell_type": "code",
   "execution_count": 51,
   "id": "a2fd9251-92e6-4746-9d3f-0f4573e5ee72",
   "metadata": {},
   "outputs": [
    {
     "name": "stdout",
     "output_type": "stream",
     "text": [
      "aardvark needs to go to the grassland habitat \n",
      "antelope needs to go to the grassland habitat \n",
      "bear needs to go to the grassland habitat \n",
      "boar needs to go to the grassland habitat \n",
      "buffalo needs to go to the grassland habitat \n",
      "calf needs to go to the grassland habitat \n",
      "cavy needs to go to the grassland habitat \n",
      "cheetah needs to go to the grassland habitat \n",
      "deer needs to go to the grassland habitat \n",
      "elephant needs to go to the grassland habitat \n",
      "flea needs to go to the grassland habitat \n",
      "giraffe needs to go to the grassland habitat \n",
      "girl needs to go to the grassland habitat \n",
      "goat needs to go to the grassland habitat \n",
      "gorilla needs to go to the grassland habitat \n",
      "hamster needs to go to the grassland habitat \n",
      "hare needs to go to the grassland habitat \n",
      "kiwi needs to go to the grassland habitat \n",
      "leopard needs to go to the grassland habitat \n",
      "lion needs to go to the grassland habitat \n",
      "lynx needs to go to the grassland habitat \n",
      "mole needs to go to the grassland habitat \n",
      "mongoose needs to go to the grassland habitat \n",
      "opossum needs to go to the grassland habitat \n",
      "oryx needs to go to the grassland habitat \n",
      "ostrich needs to go to the grassland habitat \n",
      "polecat needs to go to the grassland habitat \n",
      "pony needs to go to the grassland habitat \n",
      "puma needs to go to the grassland habitat \n",
      "pussycat needs to go to the grassland habitat \n",
      "raccoon needs to go to the grassland habitat \n",
      "reindeer needs to go to the grassland habitat \n",
      "rhea needs to go to the grassland habitat \n",
      "scorpion needs to go to the grassland habitat \n",
      "squirrel needs to go to the grassland habitat \n",
      "termite needs to go to the grassland habitat \n",
      "tortoise needs to go to the grassland habitat \n",
      "tuatara needs to go to the grassland habitat \n",
      "vole needs to go to the grassland habitat \n",
      "wallaby needs to go to the grassland habitat \n",
      "wolf needs to go to the grassland habitat \n"
     ]
    }
   ],
   "source": [
    "#Write your class here\n",
    "\n",
    "# to limit the output you can write zoo_df.sample(20).iterrows() to give you a sample of 20 animals\n",
    "for i, animal_row in zoo_df.iterrows():\n",
    "    if (animal_row.legs > 0) and (animal_row.airborne == 0) and (animal_row.aquatic == 0):\n",
    "        print(\"{0} needs to go to the grassland habitat \".format(animal_row['animal_name']))"
   ]
  },
  {
   "cell_type": "code",
   "execution_count": 52,
   "id": "1b4ab13a-cf7f-4053-bd13-f8ffe297a57f",
   "metadata": {},
   "outputs": [
    {
     "name": "stdout",
     "output_type": "stream",
     "text": [
      "aardvark needs to go to the grassland habitat \n",
      "antelope needs to go to the grassland habitat \n",
      "bass needs to go to the aquatic habitat \n",
      "bear needs to go to the grassland habitat \n",
      "boar needs to go to the grassland habitat \n",
      "buffalo needs to go to the grassland habitat \n",
      "calf needs to go to the grassland habitat \n",
      "carp needs to go to the aquatic habitat \n",
      "catfish needs to go to the aquatic habitat \n",
      "cavy needs to go to the grassland habitat \n",
      "cheetah needs to go to the grassland habitat \n",
      "chicken needs to go to the aviary habitat \n",
      "chub needs to go to the aquatic habitat \n",
      "crab needs to go to the aquatic habitat \n",
      "crayfish needs to go to the aquatic habitat \n",
      "crow needs to go to the aviary habitat \n",
      "deer needs to go to the grassland habitat \n",
      "dogfish needs to go to the aquatic habitat \n",
      "dolphin needs to go to the aquatic habitat \n",
      "dove needs to go to the aviary habitat \n",
      "duck needs to go to the aviary habitat \n",
      "duck needs to go to the aquatic habitat \n",
      "elephant needs to go to the grassland habitat \n",
      "flamingo needs to go to the aviary habitat \n",
      "flea needs to go to the grassland habitat \n",
      "frog needs to go to the aquatic habitat \n",
      "frog needs to go to the aquatic habitat \n",
      "fruitbat needs to go to the aviary habitat \n",
      "giraffe needs to go to the grassland habitat \n",
      "girl needs to go to the grassland habitat \n",
      "gnat needs to go to the aviary habitat \n",
      "goat needs to go to the grassland habitat \n",
      "gorilla needs to go to the grassland habitat \n",
      "gull needs to go to the aviary habitat \n",
      "gull needs to go to the aquatic habitat \n",
      "haddock needs to go to the aquatic habitat \n",
      "hamster needs to go to the grassland habitat \n",
      "hare needs to go to the grassland habitat \n",
      "hawk needs to go to the aviary habitat \n",
      "herring needs to go to the aquatic habitat \n",
      "honeybee needs to go to the aviary habitat \n",
      "housefly needs to go to the aviary habitat \n",
      "kiwi needs to go to the grassland habitat \n",
      "ladybird needs to go to the aviary habitat \n",
      "lark needs to go to the aviary habitat \n",
      "leopard needs to go to the grassland habitat \n",
      "lion needs to go to the grassland habitat \n",
      "lobster needs to go to the aquatic habitat \n",
      "lynx needs to go to the grassland habitat \n",
      "mink needs to go to the aquatic habitat \n",
      "mole needs to go to the grassland habitat \n",
      "mongoose needs to go to the grassland habitat \n",
      "moth needs to go to the aviary habitat \n",
      "newt needs to go to the aquatic habitat \n",
      "octopus needs to go to the aquatic habitat \n",
      "opossum needs to go to the grassland habitat \n",
      "oryx needs to go to the grassland habitat \n",
      "ostrich needs to go to the grassland habitat \n",
      "parakeet needs to go to the aviary habitat \n",
      "penguin needs to go to the aquatic habitat \n",
      "pheasant needs to go to the aviary habitat \n",
      "pike needs to go to the aquatic habitat \n",
      "piranha needs to go to the aquatic habitat \n",
      "platypus needs to go to the aquatic habitat \n",
      "polecat needs to go to the grassland habitat \n",
      "pony needs to go to the grassland habitat \n",
      "porpoise needs to go to the aquatic habitat \n",
      "puma needs to go to the grassland habitat \n",
      "pussycat needs to go to the grassland habitat \n",
      "raccoon needs to go to the grassland habitat \n",
      "reindeer needs to go to the grassland habitat \n",
      "rhea needs to go to the grassland habitat \n",
      "scorpion needs to go to the grassland habitat \n",
      "seahorse needs to go to the aquatic habitat \n",
      "seal needs to go to the aquatic habitat \n",
      "sealion needs to go to the aquatic habitat \n",
      "seasnake needs to go to the aquatic habitat \n",
      "seawasp needs to go to the aquatic habitat \n",
      "skimmer needs to go to the aviary habitat \n",
      "skimmer needs to go to the aquatic habitat \n",
      "skua needs to go to the aviary habitat \n",
      "skua needs to go to the aquatic habitat \n",
      "sole needs to go to the aquatic habitat \n",
      "sparrow needs to go to the aviary habitat \n",
      "squirrel needs to go to the grassland habitat \n",
      "starfish needs to go to the aquatic habitat \n",
      "stingray needs to go to the aquatic habitat \n",
      "swan needs to go to the aviary habitat \n",
      "swan needs to go to the aquatic habitat \n",
      "termite needs to go to the grassland habitat \n",
      "toad needs to go to the aquatic habitat \n",
      "tortoise needs to go to the grassland habitat \n",
      "tuatara needs to go to the grassland habitat \n",
      "tuna needs to go to the aquatic habitat \n",
      "vampire needs to go to the aviary habitat \n",
      "vole needs to go to the grassland habitat \n",
      "vulture needs to go to the aviary habitat \n",
      "wallaby needs to go to the grassland habitat \n",
      "wasp needs to go to the aviary habitat \n",
      "wolf needs to go to the grassland habitat \n",
      "wren needs to go to the aviary habitat \n"
     ]
    }
   ],
   "source": [
    "### ANSWER ###\n",
    "### Example ###\n",
    "\n",
    "#or similar - they should have a look at the dataframe and see that there is airborne and aquatic. \n",
    "\n",
    "for i, animal_row in zoo_df.iterrows():\n",
    "    if (animal_row.legs > 0) and (animal_row.airborne == 0) and (animal_row.aquatic == 0):\n",
    "        print(\"{0} needs to go to the grassland habitat \".format(animal_row['animal_name']))\n",
    "    if (animal_row.airborne == 1):\n",
    "        print(\"{0} needs to go to the aviary habitat \".format(animal_row['animal_name']))\n",
    "    if (animal_row.aquatic == 1):\n",
    "        print(\"{0} needs to go to the aquatic habitat \".format(animal_row['animal_name']))\n"
   ]
  },
  {
   "attachments": {},
   "cell_type": "markdown",
   "id": "284d1f4a-269c-4ee9-9d79-1b48cdf3b6d6",
   "metadata": {},
   "source": [
    "---\n",
    "### &#128721; STOP (4 Point)\n",
    "**Pause to commit your changes to your Git repository!**\n",
    "\n",
    "Take a moment to save your notebook, commit the changes to your Git repository with a meaningful commit message.\n",
    "\n",
    "---"
   ]
  },
  {
   "attachments": {},
   "cell_type": "markdown",
   "id": "6833a582",
   "metadata": {},
   "source": [
    "## Part 3.2 Making our zoo (10 points)\n",
    "\n",
    "&#9989; Now that we have learned how to loop over a dataframe, we want to add all the animals to the zoo. Use the for-loop and instantiate an animal object (using the new and improved animal object) and add it to the zoo. You need to know that for the different habitats you need different areas:\n",
    "\n",
    " * aquatic : 10 $m^2$ per animal\n",
    " * aviary : 20 $m^2$ per animal\n",
    " * grassland : 30 $m^2$ per animal"
   ]
  },
  {
   "cell_type": "code",
   "execution_count": 46,
   "id": "a2fd9251-92e6-4746-9d3f-0f4573e5ee72",
   "metadata": {},
   "outputs": [],
   "source": [
    "#Write your answer here\n",
    "\n"
   ]
  },
  {
   "cell_type": "code",
   "execution_count": 72,
   "id": "1b4ab13a-cf7f-4053-bd13-f8ffe297a57f",
   "metadata": {},
   "outputs": [],
   "source": [
    "### ANSWER ###\n",
    "### Example ###\n",
    "\n",
    "my_zoo = Zoo('New Zoo')\n",
    "\n",
    "for i, animal_row in zoo_df.iterrows():\n",
    "    if (animal_row.legs > 0) and (animal_row.airborne == 0) and (animal_row.aquatic == 0):\n",
    "        current_animal = Animal(animal_row.animal_name, 'grassland', 30)\n",
    "    if (animal_row.airborne == 1):\n",
    "        current_animal = Animal(animal_row.animal_name, 'aviary', 20)\n",
    "    if (animal_row.aquatic == 1):\n",
    "        current_animal = Animal(animal_row.animal_name, 'aquatic', 10)\n",
    "    my_zoo.add_animal(current_animal)"
   ]
  },
  {
   "cell_type": "code",
   "execution_count": 73,
   "id": "8dd5ccf4",
   "metadata": {},
   "outputs": [
    {
     "data": {
      "text/plain": [
       "{'aquatic': 350, 'grassland': 1230, 'aviary': 380}"
      ]
     },
     "execution_count": 73,
     "metadata": {},
     "output_type": "execute_result"
    }
   ],
   "source": [
    "my_zoo.calculate_habitat_size()"
   ]
  },
  {
   "attachments": {},
   "cell_type": "markdown",
   "id": "284d1f4a-269c-4ee9-9d79-1b48cdf3b6d6",
   "metadata": {},
   "source": [
    "---\n",
    "\n",
    "### &#128721; STOP (4 Point)\n",
    "**Pause to commit your changes to your Git repository!**\n",
    "\n",
    "Take a moment to save your notebook, commit the changes to your Git repository with a meaningful commit message.\n",
    "\n",
    "---"
   ]
  },
  {
   "cell_type": "markdown",
   "id": "8f271f51-e4d3-4481-916a-3965d9c96f33",
   "metadata": {
    "tags": []
   },
   "source": [
    "### Congratulations, you're done!"
   ]
  },
  {
   "attachments": {},
   "cell_type": "markdown",
   "id": "b2f3c3d8-8f71-4b0e-9d7c-d52e66bf24cc",
   "metadata": {},
   "source": [
    "&#169; Copyright 2022,  Department of Computational Mathematics, Science and Engineering at Michigan State University"
   ]
  }
 ],
 "metadata": {
  "kernelspec": {
   "display_name": "ast825_fs22",
   "language": "python",
   "name": "python3"
  },
  "language_info": {
   "codemirror_mode": {
    "name": "ipython",
    "version": 3
   },
   "file_extension": ".py",
   "mimetype": "text/x-python",
   "name": "python",
   "nbconvert_exporter": "python",
   "pygments_lexer": "ipython3",
   "version": "3.10.6"
  },
  "vscode": {
   "interpreter": {
    "hash": "7a38637716bcd4686322348f06eabe2596674713bcd8dbb4b00ab635301a490d"
   }
  },
  "widgets": {
   "application/vnd.jupyter.widget-state+json": {
    "state": {},
    "version_major": 2,
    "version_minor": 0
   }
  }
 },
 "nbformat": 4,
 "nbformat_minor": 5
}
